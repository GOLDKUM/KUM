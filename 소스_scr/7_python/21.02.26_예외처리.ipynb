{
 "cells": [
  {
   "cell_type": "markdown",
   "metadata": {},
   "source": [
    "**<font size='6' color='red'>ch08. 예외처리</font>**"
   ]
  },
  {
   "cell_type": "markdown",
   "metadata": {},
   "source": [
    "# 1절. 예외처리\n",
    "- 예외가 날 가능성이 있는 부분에 대해 미리대비하는 프로그래밍"
   ]
  },
  {
   "cell_type": "markdown",
   "metadata": {},
   "source": [
    "# 2절. 예외처리하기(try~ except)"
   ]
  },
  {
   "cell_type": "code",
   "execution_count": 24,
   "metadata": {
    "ExecuteTime": {
     "end_time": "2021-02-26T06:54:04.466324Z",
     "start_time": "2021-02-26T06:54:03.306456Z"
    }
   },
   "outputs": [
    {
     "name": "stdout",
     "output_type": "stream",
     "text": [
      "정수을 입력하시오1\n",
      "입력한 정수는 1\n",
      "100/1=100.0\n"
     ]
    }
   ],
   "source": [
    "#100을 입력한 정수값을 나눠 출력한다. (두가지 예외사항 따로처리 )\n",
    "while True:\n",
    "    try:\n",
    "        x=int(input(\"정수을 입력하시오\"))\n",
    "        print(\"입력한 정수는 {}\".format(x))\n",
    "        result=100/x\n",
    "        print(\"100/{}={}\".format(x,result))\n",
    "        break;\n",
    "#    except Exception:  상위예외클래스는 하단에~!\n",
    "#        print(\"예외입니다.\")\n",
    "    except ValueError as e:\n",
    "        print(\"정수를 입력하시오\")\n",
    "    except ZeroDivisionError:\n",
    "        print(\"0으로 나눌 수 없어요. 다시 입력하세요\")"
   ]
  },
  {
   "cell_type": "code",
   "execution_count": 26,
   "metadata": {
    "ExecuteTime": {
     "end_time": "2021-02-26T06:57:17.437071Z",
     "start_time": "2021-02-26T06:57:16.463833Z"
    }
   },
   "outputs": [
    {
     "name": "stdout",
     "output_type": "stream",
     "text": [
      "정수을 입력하시오1\n",
      "입력한 정수는 1\n",
      "100/1=100.0\n"
     ]
    }
   ],
   "source": [
    "#100을 입력한 정수값을 나눠 출력한다. (두가지 예외사항 하나로 처리 )\n",
    "while True:\n",
    "    try:\n",
    "        x=int(input(\"정수을 입력하시오\"))\n",
    "        print(\"입력한 정수는 {}\".format(x))\n",
    "        result=100/x\n",
    "        print(\"100/{}={}\".format(x,result))\n",
    "        break;\n",
    "    except (ValueError,ZeroDivisionError) as e:\n",
    "        print(\"문자나 0은 입력하실 수 없습니다. 다시입력하세요\",e)#e=e.__str__()\n",
    "        \n"
   ]
  },
  {
   "cell_type": "code",
   "execution_count": 28,
   "metadata": {
    "ExecuteTime": {
     "end_time": "2021-02-26T06:58:56.414503Z",
     "start_time": "2021-02-26T06:58:54.399411Z"
    }
   },
   "outputs": [
    {
     "name": "stdout",
     "output_type": "stream",
     "text": [
      "정수을 입력하시오1\n",
      "입력한 정수는 1\n",
      "100/1=100.0\n"
     ]
    }
   ],
   "source": [
    "#100을 입력한 정수값을 나눠 출력한다. (모든 예외사항 하나로 처리 )\n",
    "while True:\n",
    "    try:\n",
    "        x=int(input(\"정수을 입력하시오\"))\n",
    "        print(\"입력한 정수는 {}\".format(x))\n",
    "        result=100/x\n",
    "        print(\"100/{}={}\".format(x,result))\n",
    "        break;\n",
    "    except BaseException as e:\n",
    "        print(\"예외발생\",e)#e=e.__str__()"
   ]
  },
  {
   "cell_type": "code",
   "execution_count": null,
   "metadata": {},
   "outputs": [],
   "source": [
    "# try - except ~ (else~) finally"
   ]
  },
  {
   "cell_type": "code",
   "execution_count": null,
   "metadata": {},
   "outputs": [],
   "source": [
    "#else블록: try블록에서 예외가 발생되면 except를 실행. 예외가 발생안되면 else블록실행 \n",
    "try:\n",
    "    f= open(\"data/ch08_abc.txt\",\"r\")\n",
    "    \n",
    "    \n",
    "except FileNotFoundError :\n",
    "    print(\"파일이 없습니다\")\n",
    "else:\n",
    "    data= f.read()\n",
    "    print(data)\n",
    "finally: #finally 블록은 try블록에 예외가 발생하든 안하든 꼭 실행\n",
    "    f.close()"
   ]
  },
  {
   "cell_type": "code",
   "execution_count": null,
   "metadata": {},
   "outputs": [],
   "source": [
    "#else블록: try블록에서 예외가 발생되면 except를 실행. 예외가 발생안되면 else블록실행 \n",
    "try:\n",
    "    f= open(\"data/ch08_abc.txt\",\"r\")\n",
    "    data= f.read()\n",
    "    print(data)\n",
    "except FileNotFoundError :\n",
    "    print(\"파일이 없습니다\")    \n",
    "finally: #finally 블록은 try블록에 예외가 발생하든 안하든 꼭 실행\n",
    "    f.close()"
   ]
  },
  {
   "cell_type": "code",
   "execution_count": null,
   "metadata": {
    "ExecuteTime": {
     "start_time": "2021-02-26T07:11:33.128Z"
    }
   },
   "outputs": [
    {
     "name": "stdout",
     "output_type": "stream",
     "text": [
      "정수을 입력하시오ㅁ\n",
      "invalid literal for int() with base 10: 'ㅁ'\n",
      "(\"invalid literal for int() with base 10: 'ㅁ'\",)\n"
     ]
    }
   ],
   "source": [
    "#예외인수 e\n",
    "#100을 입력한 정수값을 나눠 출력한다. (두가지 예외사항 하나로 처리 )\n",
    "while True:\n",
    "    try:\n",
    "        x=int(input(\"정수을 입력하시오\"))\n",
    "        print(\"입력한 정수는 {}\".format(x))\n",
    "        result=100/x\n",
    "        print(\"100/{}={}\".format(x,result))\n",
    "        break;\n",
    "    except (ValueError,ZeroDivisionError) as e:\n",
    "        print(e)\n",
    "        print(e.args)#에러메세지가 튜블형식 e.args[0]이용해서 예외메세지를 본다.\n",
    "        \n",
    "        \n",
    "        "
   ]
  },
  {
   "cell_type": "markdown",
   "metadata": {},
   "source": [
    "# 3절. raise로 예외 발생시키기  "
   ]
  },
  {
   "cell_type": "code",
   "execution_count": 1,
   "metadata": {
    "ExecuteTime": {
     "end_time": "2021-02-26T07:14:17.677101Z",
     "start_time": "2021-02-26T07:14:17.508315Z"
    }
   },
   "outputs": [
    {
     "ename": "NameError",
     "evalue": "예외강제 발생",
     "output_type": "error",
     "traceback": [
      "\u001b[1;31m---------------------------------------------------------------------------\u001b[0m",
      "\u001b[1;31mNameError\u001b[0m                                 Traceback (most recent call last)",
      "\u001b[1;32m<ipython-input-1-4dfd031edf8d>\u001b[0m in \u001b[0;36m<module>\u001b[1;34m\u001b[0m\n\u001b[1;32m----> 1\u001b[1;33m \u001b[1;32mraise\u001b[0m \u001b[0mNameError\u001b[0m\u001b[1;33m(\u001b[0m\u001b[1;34m\"예외강제 발생\"\u001b[0m\u001b[1;33m)\u001b[0m\u001b[1;33m\u001b[0m\u001b[1;33m\u001b[0m\u001b[0m\n\u001b[0m",
      "\u001b[1;31mNameError\u001b[0m: 예외강제 발생"
     ]
    }
   ],
   "source": [
    "raise NameError(\"예외강제 발생\")"
   ]
  },
  {
   "cell_type": "code",
   "execution_count": 21,
   "metadata": {
    "ExecuteTime": {
     "end_time": "2021-02-26T07:18:50.480310Z",
     "start_time": "2021-02-26T07:18:50.476321Z"
    }
   },
   "outputs": [],
   "source": [
    "def insert(data):\n",
    "    if len(data)==0:\n",
    "        raise Exception(\"길이가 0이라 출력 할수 없습니다.\")\n",
    "    print(data,'를 입력하시오')"
   ]
  },
  {
   "cell_type": "code",
   "execution_count": 22,
   "metadata": {
    "ExecuteTime": {
     "end_time": "2021-02-26T07:18:50.658388Z",
     "start_time": "2021-02-26T07:18:50.654410Z"
    }
   },
   "outputs": [
    {
     "name": "stdout",
     "output_type": "stream",
     "text": [
      "길이가 0이라 출력 할수 없습니다.\n"
     ]
    }
   ],
   "source": [
    "try:\n",
    "    insert([])\n",
    "except Exception as e:\n",
    "    print(e.args[0])"
   ]
  },
  {
   "cell_type": "markdown",
   "metadata": {},
   "source": [
    "# 4절. raise를 이용하여 추상클래스 정의하기\n",
    "- python은 추상클래스를 생성할 수 없으나 raise를 이용해서 추상클래스를 흉내냄\n",
    "\n",
    "# 5절. 사용자 정의 예외"
   ]
  },
  {
   "cell_type": "code",
   "execution_count": 3,
   "metadata": {
    "ExecuteTime": {
     "end_time": "2021-02-26T08:03:04.190121Z",
     "start_time": "2021-02-26T08:03:04.186132Z"
    }
   },
   "outputs": [],
   "source": [
    "class AbstractError(Exception):\n",
    "    \"추상클래스를 이용하여 객체를 생성할 떄 나는 오류\"\n",
    "    def __init__(self):\n",
    "        Exception.__init__(self,\"Shape는 추상클래스여서 객체 생성 불가\")"
   ]
  },
  {
   "cell_type": "code",
   "execution_count": 4,
   "metadata": {
    "ExecuteTime": {
     "end_time": "2021-02-26T08:03:04.574737Z",
     "start_time": "2021-02-26T08:03:04.570775Z"
    }
   },
   "outputs": [],
   "source": [
    "class Shape:\n",
    "    def __init__(self):\n",
    "        raise AbstractError()\n",
    "    def cal_area(self):\n",
    "        raise AbstractError()"
   ]
  },
  {
   "cell_type": "code",
   "execution_count": 10,
   "metadata": {
    "ExecuteTime": {
     "end_time": "2021-02-26T08:03:54.380718Z",
     "start_time": "2021-02-26T08:03:54.376750Z"
    }
   },
   "outputs": [],
   "source": [
    "class Circle(Shape):\n",
    "    def __init__(self,r):\n",
    "        self.r=r\n",
    "    def cal_area(self):\n",
    "        return self.r*self.r*3.14"
   ]
  },
  {
   "cell_type": "code",
   "execution_count": 11,
   "metadata": {
    "ExecuteTime": {
     "end_time": "2021-02-26T08:03:54.702146Z",
     "start_time": "2021-02-26T08:03:54.699178Z"
    }
   },
   "outputs": [],
   "source": [
    "c=Circle(3)"
   ]
  },
  {
   "cell_type": "code",
   "execution_count": 12,
   "metadata": {
    "ExecuteTime": {
     "end_time": "2021-02-26T08:03:55.642841Z",
     "start_time": "2021-02-26T08:03:55.627198Z"
    }
   },
   "outputs": [
    {
     "data": {
      "text/plain": [
       "28.26"
      ]
     },
     "execution_count": 12,
     "metadata": {},
     "output_type": "execute_result"
    }
   ],
   "source": [
    "c.cal_area()"
   ]
  },
  {
   "cell_type": "markdown",
   "metadata": {},
   "source": [
    "# 6절. 파일정리작업"
   ]
  },
  {
   "cell_type": "code",
   "execution_count": 2,
   "metadata": {
    "ExecuteTime": {
     "end_time": "2021-02-26T07:52:14.304953Z",
     "start_time": "2021-02-26T07:52:14.300963Z"
    }
   },
   "outputs": [
    {
     "ename": "SyntaxError",
     "evalue": "invalid syntax (<ipython-input-2-faa0d02354d1>, line 7)",
     "output_type": "error",
     "traceback": [
      "\u001b[1;36m  File \u001b[1;32m\"<ipython-input-2-faa0d02354d1>\"\u001b[1;36m, line \u001b[1;32m7\u001b[0m\n\u001b[1;33m    except\u001b[0m\n\u001b[1;37m          ^\u001b[0m\n\u001b[1;31mSyntaxError\u001b[0m\u001b[1;31m:\u001b[0m invalid syntax\n"
     ]
    }
   ],
   "source": [
    "filename= input('파일명은?')\n",
    "\n",
    "f=open('data/'+filename,'r')\n",
    "lines=f.readlines()\n",
    "print(lines)\n",
    "f.close()#★가장 제일 중요함! \n"
   ]
  },
  {
   "cell_type": "code",
   "execution_count": 3,
   "metadata": {
    "ExecuteTime": {
     "end_time": "2021-02-26T07:52:14.893572Z",
     "start_time": "2021-02-26T07:52:14.888586Z"
    }
   },
   "outputs": [
    {
     "name": "stdout",
     "output_type": "stream",
     "text": [
      "['jupyter notebook KR utf-8\\n', 'Hello\\n', 'Python']\n"
     ]
    }
   ],
   "source": [
    "#with절 이후에는 자동적으로 close()\n",
    "with open('data/ch08_abc.txt','r')as f:\n",
    "    lines=f.readlines()\n",
    "    print(lines)\n"
   ]
  },
  {
   "cell_type": "code",
   "execution_count": 22,
   "metadata": {
    "ExecuteTime": {
     "end_time": "2021-02-26T08:13:25.718474Z",
     "start_time": "2021-02-26T08:13:23.657521Z"
    }
   },
   "outputs": [
    {
     "name": "stdout",
     "output_type": "stream",
     "text": [
      "첫번째 정수를 입력하시오5\n",
      "두번째 정수를 입력하시오5\n",
      "입력한 정수는 5,5입니다\n",
      "5을5로 나누면 1.0입니다\n"
     ]
    }
   ],
   "source": [
    "while True:\n",
    "    try:\n",
    "        x=int(input(\"첫번째 정수를 입력하시오\"))\n",
    "        y=int(input(\"두번째 정수를 입력하시오\"))\n",
    "        print(\"입력한 정수는 {},{}입니다\".format(x,y))\n",
    "        result=x/y\n",
    "        print(\"{}을{}로 나누면 {}입니다\".format(x,y,result))\n",
    "        break;\n",
    "    except Exception as e:\n",
    "        print(\"유효한숫자입력\",e)"
   ]
  },
  {
   "cell_type": "code",
   "execution_count": 20,
   "metadata": {
    "ExecuteTime": {
     "end_time": "2021-02-26T08:12:21.939088Z",
     "start_time": "2021-02-26T08:12:20.245318Z"
    }
   },
   "outputs": [
    {
     "name": "stdout",
     "output_type": "stream",
     "text": [
      "첫번째 정수를 입력하시오5\n",
      "두번째 정수를 입력하시오3\n",
      "입력한 정수는 5,3입니다\n",
      "5을3로 나누면 1.6666666666666667입니다\n"
     ]
    }
   ],
   "source": [
    "while True:\n",
    "    try:\n",
    "        x=int(input(\"첫번째 정수를 입력하시오\"))\n",
    "        y=int(input(\"두번째 정수를 입력하시오\"))\n",
    "        print(\"입력한 정수는 {},{}입니다\".format(x,y))\n",
    "        result=float(x/y)\n",
    "        print(\"{}을{}로 나누면 {}입니다\".format(x,y,result))\n",
    "        break;\n",
    "    except Exception as e:\n",
    "        print(e)"
   ]
  }
 ],
 "metadata": {
  "kernelspec": {
   "display_name": "Python 3",
   "language": "python",
   "name": "python3"
  },
  "language_info": {
   "codemirror_mode": {
    "name": "ipython",
    "version": 3
   },
   "file_extension": ".py",
   "mimetype": "text/x-python",
   "name": "python",
   "nbconvert_exporter": "python",
   "pygments_lexer": "ipython3",
   "version": "3.8.5"
  },
  "toc": {
   "base_numbering": 1,
   "nav_menu": {},
   "number_sections": false,
   "sideBar": true,
   "skip_h1_title": false,
   "title_cell": "Table of Contents",
   "title_sidebar": "Contents",
   "toc_cell": false,
   "toc_position": {},
   "toc_section_display": true,
   "toc_window_display": true
  },
  "varInspector": {
   "cols": {
    "lenName": 16,
    "lenType": 16,
    "lenVar": 40
   },
   "kernels_config": {
    "python": {
     "delete_cmd_postfix": "",
     "delete_cmd_prefix": "del ",
     "library": "var_list.py",
     "varRefreshCmd": "print(var_dic_list())"
    },
    "r": {
     "delete_cmd_postfix": ") ",
     "delete_cmd_prefix": "rm(",
     "library": "var_list.r",
     "varRefreshCmd": "cat(var_dic_list()) "
    }
   },
   "types_to_exclude": [
    "module",
    "function",
    "builtin_function_or_method",
    "instance",
    "_Feature"
   ],
   "window_display": false
  }
 },
 "nbformat": 4,
 "nbformat_minor": 4
}
