{
 "cells": [
  {
   "cell_type": "markdown",
   "metadata": {
    "ExecuteTime": {
     "end_time": "2021-02-25T08:14:57.725594Z",
     "start_time": "2021-02-25T08:14:57.721605Z"
    }
   },
   "source": [
    "**<font size='6' color='red'>ch07. 객체지향 프로그래밍</font>**"
   ]
  },
  {
   "cell_type": "markdown",
   "metadata": {
    "ExecuteTime": {
     "end_time": "2021-02-25T08:15:13.861394Z",
     "start_time": "2021-02-25T08:15:13.857405Z"
    }
   },
   "source": [
    "# 1절. 객체와 클래스\n",
    "<pre>\n",
    "class 클래스명(상속받을 클래스명):\n",
    "    함수나 변수들 선언"
   ]
  },
  {
   "cell_type": "code",
   "execution_count": 1,
   "metadata": {
    "ExecuteTime": {
     "end_time": "2021-03-08T15:31:16.690465Z",
     "start_time": "2021-03-08T15:31:16.679495Z"
    }
   },
   "outputs": [
    {
     "name": "stdout",
     "output_type": "stream",
     "text": [
      "<class '__main__.Person'>\n",
      "<__main__.Person object at 0x000001FCE549E7C0>\n",
      "True\n",
      "Person 클래스\n"
     ]
    }
   ],
   "source": [
    "class Person:\n",
    "    \"Person 클래스\"\n",
    "    pass\n",
    "p1 = Person()\n",
    "print(type(p1))\n",
    "print(p1)\n",
    "print(isinstance(p1,Person))\n",
    "print(p1.__doc__)"
   ]
  },
  {
   "cell_type": "markdown",
   "metadata": {},
   "source": [
    "# 2절. 변수와 메소드\n",
    "- 일반변수, static 변수,일반메소드,static메소드,클래스메소드 "
   ]
  },
  {
   "cell_type": "markdown",
   "metadata": {},
   "source": [
    "**클래스 메소드 vs static 메소드**\n",
    "1. 인스턴스 메소드 : 첫 인자에 self를 꼭 삽입, 객체를 통해서 호출할 메소드\n",
    "2. 클래스 메소드 : @classmethod를 통해서 선언한 메소드. 첫 인자에 cls(class)를 꼭 삽입.\n",
    "3. static 메소드 : @staticmethod를 통해서 선언한 메소드. "
   ]
  },
  {
   "cell_type": "code",
   "execution_count": 41,
   "metadata": {
    "ExecuteTime": {
     "end_time": "2021-02-26T02:50:03.913149Z",
     "start_time": "2021-02-26T02:50:03.908175Z"
    }
   },
   "outputs": [],
   "source": [
    "#인스턴스메소드 vs 클래스 메소드 vs static 메소드 \n",
    "class Person:\n",
    "    name = '홍길동'\n",
    "    gender= '남자'\n",
    "    age= 30\n",
    "    def print_info(self):#인스턴스 메소드\n",
    "        print(\"일반(인스턴스=객체)메소드 {}는 {}살 {}입니다\".format(self.name,self.age,self.gender))\n",
    "    \n",
    "    @classmethod\n",
    "    def do_(cls): #클래스메소드 (인자에cls , class)\n",
    "        cls.name=\"신사임당\"\n",
    "        cls.gender= \"여자\"\n",
    "        cls.age= 517\n",
    "        print(\"클래스 메소드 - {}는 {}살 {}입니다\".format(cls.name,cls.age,cls.gender))\n",
    "    @staticmethod \n",
    "    def that_(): #static메소드(인자없음)\n",
    "        print(\"static 메소드 -{}는 {}살 {}입니다\".format(Person.name,Person.age,Person.gender))\n",
    "        "
   ]
  },
  {
   "cell_type": "code",
   "execution_count": 42,
   "metadata": {
    "ExecuteTime": {
     "end_time": "2021-02-26T02:50:04.221199Z",
     "start_time": "2021-02-26T02:50:04.217209Z"
    }
   },
   "outputs": [
    {
     "name": "stdout",
     "output_type": "stream",
     "text": [
      "Person 객체를 소멸시킵니다.\n",
      "Person 객체를 소멸시킵니다.\n",
      "일반(인스턴스=객체)메소드 홍길동는 30살 남자입니다\n",
      "일반(인스턴스=객체)메소드 홍길동는 30살 남자입니다\n"
     ]
    }
   ],
   "source": [
    "p1=Person()\n",
    "p2=Person()\n",
    "p1.print_info()\n",
    "p2.print_info()"
   ]
  },
  {
   "cell_type": "code",
   "execution_count": 44,
   "metadata": {
    "ExecuteTime": {
     "end_time": "2021-02-26T02:50:11.744527Z",
     "start_time": "2021-02-26T02:50:11.739540Z"
    }
   },
   "outputs": [
    {
     "name": "stdout",
     "output_type": "stream",
     "text": [
      "일반(인스턴스=객체)메소드 김말동는 32살 남자입니다\n",
      "일반(인스턴스=객체)메소드 홍길동는 30살 남자입니다\n",
      "static 메소드 -홍길동는 30살 남자입니다\n",
      "static 메소드 -홍길동는 30살 남자입니다\n"
     ]
    }
   ],
   "source": [
    "p1.name='김말동'\n",
    "p1.age+=1\n",
    "p1.print_info()\n",
    "p2.print_info()#인스턴스 메소드는 객체를 통해서만 호출 가능 \n",
    "p2.that_()     #static 메소드는 객체를 통해서도, 클래스를 통해서도 호출가능\n",
    "Person.that_()  #static 메소드 \n"
   ]
  },
  {
   "cell_type": "code",
   "execution_count": 20,
   "metadata": {
    "ExecuteTime": {
     "end_time": "2021-02-26T00:56:13.808146Z",
     "start_time": "2021-02-26T00:56:13.805155Z"
    }
   },
   "outputs": [
    {
     "name": "stdout",
     "output_type": "stream",
     "text": [
      "클래스 메소드 - 신사임당는 517살 여자입니다\n"
     ]
    }
   ],
   "source": [
    "Person.do_() #클래스 메소드"
   ]
  },
  {
   "cell_type": "code",
   "execution_count": 21,
   "metadata": {
    "ExecuteTime": {
     "end_time": "2021-02-26T00:57:18.755034Z",
     "start_time": "2021-02-26T00:57:18.751070Z"
    }
   },
   "outputs": [
    {
     "name": "stdout",
     "output_type": "stream",
     "text": [
      "일반(인스턴스=객체)메소드 김말동는 31살 여자입니다\n",
      "일반(인스턴스=객체)메소드 신사임당는 517살 여자입니다\n"
     ]
    }
   ],
   "source": [
    "p1.print_info()\n",
    "p2.print_info()"
   ]
  },
  {
   "cell_type": "code",
   "execution_count": 22,
   "metadata": {
    "ExecuteTime": {
     "end_time": "2021-02-26T00:59:16.402727Z",
     "start_time": "2021-02-26T00:59:16.398758Z"
    }
   },
   "outputs": [
    {
     "name": "stdout",
     "output_type": "stream",
     "text": [
      "일반(인스턴스=객체)메소드 김말동는 31살 남자입니다\n",
      "일반(인스턴스=객체)메소드 이순신는 477살 남자입니다\n"
     ]
    }
   ],
   "source": [
    "Person.name='이순신'\n",
    "Person.gender='남자'\n",
    "Person.age=477\n",
    "p1.print_info()\n",
    "p2.print_info()"
   ]
  },
  {
   "cell_type": "markdown",
   "metadata": {},
   "source": [
    "# 3절 생성자( _ _init_ _ ())와 소멸자(_ _ del _ _())\n",
    "- 생성자함수 : _ _ init _ _ (self[,매개변수1,...]) 객체가 생성될 떄 자동 실행 \n",
    "                생성시 필요한 코드(객체멤버의 초기화)를 포함\n",
    "- 소멸자함수 : _ _ del _ _(self) 객체가 소멸될 떄 자동 실행.\n",
    "            소멸시 필요한 코드를 포함 \n",
    "             인스턴스 객체의 레퍼런스 카운트가 0이 될 때 실행 \n",
    "             "
   ]
  },
  {
   "cell_type": "markdown",
   "metadata": {},
   "source": [
    "<pre>\n",
    "**★생성자함수를 통한 멤버변수의 초기화★**\n",
    "**★파이썬은 함수를 중복정의(오버로딩) 불가능★**\n",
    "**★생성자 함수도 중복정의 불가★**</pre>"
   ]
  },
  {
   "cell_type": "code",
   "execution_count": 1,
   "metadata": {
    "ExecuteTime": {
     "end_time": "2021-02-26T01:53:28.878630Z",
     "start_time": "2021-02-26T01:53:28.873624Z"
    }
   },
   "outputs": [],
   "source": [
    "class Person:\n",
    "    #name='금경용'\n",
    "    #gender='남'\n",
    "#자바 처럼 오버로딩 불가~ !\n",
    "#     def __init__(self): #매개변수 없이 호출\n",
    "#         print(\"Person 객체를 생성합니다\")\n",
    "#         self.name='홍길동' \n",
    "#         self.gender='남자'\n",
    "        \n",
    "#     def __init__(self,name):  #매개변수 1개로 호출\n",
    "#         print(\"Person 객체를 생성합니다\")\n",
    "#         self.name=name\n",
    "#         self.gender='남자'   \n",
    "        \n",
    "    def __init__(self,name='홍길동',gender='남자'): #매개변수 2개로 호출\n",
    "        print(\"Person 객체를 생성합니다\")\n",
    "        self.name=name\n",
    "        self.gender=gender\n",
    "        \n",
    "    def __del__(self):\n",
    "        print(\"Person 객체를 소멸시킵니다.\")\n",
    "    def print_info(self):\n",
    "        print(\"일반메소드-{}님은 {}입니다\".format(self.name,self.gender))\n",
    "    def __str__(self):#자바의 to.string과 유사~ \n",
    "        return \"일반메소드-{}님은 {}입니다\".format(self.name,self.gender)"
   ]
  },
  {
   "cell_type": "code",
   "execution_count": 2,
   "metadata": {
    "ExecuteTime": {
     "end_time": "2021-02-26T01:53:29.232469Z",
     "start_time": "2021-02-26T01:53:29.228479Z"
    }
   },
   "outputs": [
    {
     "name": "stdout",
     "output_type": "stream",
     "text": [
      "Person 객체를 생성합니다\n",
      "Person 객체를 생성합니다\n",
      "Person 객체를 생성합니다\n"
     ]
    }
   ],
   "source": [
    "p1=Person(\"김길동\",\"남자\")\n",
    "p2=Person(name=\"박길동\")\n",
    "p3=Person()"
   ]
  },
  {
   "cell_type": "code",
   "execution_count": 4,
   "metadata": {
    "ExecuteTime": {
     "end_time": "2021-02-26T01:55:11.832729Z",
     "start_time": "2021-02-26T01:55:11.828752Z"
    }
   },
   "outputs": [
    {
     "name": "stdout",
     "output_type": "stream",
     "text": [
      "일반메소드-김길동님은 남자입니다\n",
      "일반메소드-김길동님은 남자입니다\n",
      "일반메소드-박길동님은 남자입니다\n",
      "일반메소드-홍길동님은 남자입니다\n"
     ]
    }
   ],
   "source": [
    "print(p1)\n",
    "p1.print_info()\n",
    "print(p2)\n",
    "print(p3)"
   ]
  },
  {
   "cell_type": "markdown",
   "metadata": {},
   "source": [
    "# 4절. 상속과 재정의"
   ]
  },
  {
   "cell_type": "markdown",
   "metadata": {},
   "source": [
    "**static변수 : 여러 객체들 사이에 데이터를 공유하고 싶을 떄 사용**\n",
    "- 클래스 변수이름 앞에 under score 2개(_) 붙이면 내부적으로 클래스명._클래스명 변수이름으로 참조"
   ]
  },
  {
   "cell_type": "code",
   "execution_count": 1,
   "metadata": {
    "ExecuteTime": {
     "end_time": "2021-02-26T04:06:29.154337Z",
     "start_time": "2021-02-26T04:06:29.149352Z"
    }
   },
   "outputs": [],
   "source": [
    "class Person:        \n",
    "    \"\"\"name과 gender를 갖는 Person 타입\"\"\"\n",
    "    def __init__(self,name,gender): #매개변수 2개로 호출\n",
    "        print(\"Person 객체를 생성합니다\")\n",
    "        self.name=name\n",
    "        self.gender=gender\n",
    "        \n",
    "    def __del__(self):\n",
    "        print(\"Person 객체를 소멸시킵니다.\")\n",
    "    def print_info(self):\n",
    "        print(\"일반메소드-{}님은 {}입니다\".format(self.name,self.gender))\n",
    "    def __str__(self):#자바의 to.string과 유사~ \n",
    "        return \"일반메소드-{}님은 {}입니다\".format(self.name,self.gender)"
   ]
  },
  {
   "cell_type": "code",
   "execution_count": 10,
   "metadata": {
    "ExecuteTime": {
     "end_time": "2021-02-26T04:08:40.870311Z",
     "start_time": "2021-02-26T04:08:40.864349Z"
    }
   },
   "outputs": [],
   "source": [
    "#super 이용(부모클래스로 부터 생성자를 가져온다)\n",
    "class Student(Person):\n",
    "    \"\"\"name과 gender에 major 변수를 갖는 Student 타입(객체 갯수도 포함)\"\"\"\n",
    "    __count=0; #static 변수 \n",
    "    \n",
    "    def __init__(self,name,gender,major):\n",
    "        #부모클래스의 생성자를 호출하여 자식 클래스의 생성자를 쉽게\n",
    "        Student._Student__count+=1 # 객체가 생성될 때마다 __count 증가 \n",
    "        #Person.__init__(self,name,gender)\n",
    "        super().__init__(name,gender)\n",
    "        self.major=major\n",
    "    def __del__(self):\n",
    "        Student._Student__count-=1 # 객체가 소멸될 때마다 __count 감소\n",
    "    def print_info(self):\n",
    "        print(\"일반메소드-{}님은 전공{}에 {}입니다\".format(self.name,self.major,self.gender))\n",
    "        print(\"일반메소드- %s님은 전공%s에 %s입니다\"%(self.name,self.major,self.gender))\n",
    "    def __str__(self):\n",
    "        return super().__str__()+\"전공은 {}입니다\".format(self.major)\n",
    "        #return Person.__str__(self)+\"전공은 {}입니다\".format(self.major)\n",
    "    @classmethod\n",
    "    def get_count(cls):\n",
    "        return Student._Student__count\n",
    "    "
   ]
  },
  {
   "cell_type": "code",
   "execution_count": 11,
   "metadata": {
    "ExecuteTime": {
     "end_time": "2021-02-26T04:08:41.175709Z",
     "start_time": "2021-02-26T04:08:41.171712Z"
    }
   },
   "outputs": [
    {
     "name": "stdout",
     "output_type": "stream",
     "text": [
      "Person 객체를 생성합니다\n",
      "일반메소드-홍길동님은 남자입니다전공은 빅데이터입니다\n",
      "객체갯수 0\n"
     ]
    }
   ],
   "source": [
    "s1=Student(\"홍길동\",\"남자\",\"빅데이터\")\n",
    "print(s1)\n",
    "print('객체갯수',Student.get_count())"
   ]
  },
  {
   "cell_type": "code",
   "execution_count": 12,
   "metadata": {
    "ExecuteTime": {
     "end_time": "2021-02-26T04:08:41.595720Z",
     "start_time": "2021-02-26T04:08:41.591731Z"
    }
   },
   "outputs": [
    {
     "name": "stdout",
     "output_type": "stream",
     "text": [
      "Person 객체를 생성합니다\n",
      "일반메소드-홍길순님은 전공통계에 남자입니다\n",
      "일반메소드- 홍길순님은 전공통계에 남자입니다\n",
      "객체갯수 0\n"
     ]
    }
   ],
   "source": [
    "s2=Student(\"홍길순\",\"남자\",\"통계\")\n",
    "s2.print_info()\n",
    "print('객체갯수',Student.get_count())"
   ]
  },
  {
   "cell_type": "code",
   "execution_count": 9,
   "metadata": {
    "ExecuteTime": {
     "end_time": "2021-02-26T04:06:58.439495Z",
     "start_time": "2021-02-26T04:06:58.435506Z"
    }
   },
   "outputs": [
    {
     "name": "stdout",
     "output_type": "stream",
     "text": [
      "Person 객체를 생성합니다\n",
      "일반메소드-홍길순님은 전공통계에 남자입니다\n",
      "일반메소드- 홍길순님은 전공통계에 남자입니다\n",
      "객체갯수 1\n",
      "객체갯수 1\n",
      "객체갯수 1\n"
     ]
    }
   ],
   "source": [
    "s3=Student(\"홍길순\",\"남자\",\"통계\")\n",
    "s3.print_info()\n",
    "print('객체갯수',s2.get_count())\n",
    "print('객체갯수',s3.get_count())\n",
    "print('객체갯수',Student.get_count())"
   ]
  },
  {
   "cell_type": "code",
   "execution_count": 6,
   "metadata": {
    "ExecuteTime": {
     "end_time": "2021-02-26T02:54:17.231064Z",
     "start_time": "2021-02-26T02:54:17.228071Z"
    }
   },
   "outputs": [
    {
     "name": "stdout",
     "output_type": "stream",
     "text": [
      "객체갯수 2\n"
     ]
    }
   ],
   "source": [
    "del s3\n",
    "print('객체갯수',Student.get_count())"
   ]
  },
  {
   "cell_type": "markdown",
   "metadata": {},
   "source": [
    "# 연습문제"
   ]
  },
  {
   "cell_type": "code",
   "execution_count": 1,
   "metadata": {
    "ExecuteTime": {
     "end_time": "2021-02-26T06:24:46.440694Z",
     "start_time": "2021-02-26T06:24:46.423947Z"
    }
   },
   "outputs": [],
   "source": [
    "#1.\n",
    "\n",
    "class Shape:\n",
    "    try:\n",
    "        def __init__(self,x=0,y=0):\n",
    "            \"도형 클래스입니다 \"\n",
    "            self.x=x\n",
    "            self.y=y\n",
    "        def __str__(self):\n",
    "            return \"도형클래스 입니다. 좌표는 x={}, y={}\".format(self.x,self.y)\n",
    "\n",
    "        def cacl_area():\n",
    "            raise Exception()\n",
    "        def move(self,x,y):\n",
    "            self.x+=x\n",
    "            self.y+=y\n",
    "    \n",
    "        def Shape_info(self):\n",
    "            print('도형클래스의 정적메소드 입니다')\n",
    "        @staticmethod\n",
    "        def staticmethod_():\n",
    "            print(\"도형 클래스 staticmethod 호출\")\n",
    "    except Exception as e:\n",
    "        print('예외가 발생했습니다',e)"
   ]
  },
  {
   "cell_type": "code",
   "execution_count": 2,
   "metadata": {
    "ExecuteTime": {
     "end_time": "2021-02-26T06:24:46.702955Z",
     "start_time": "2021-02-26T06:24:46.698966Z"
    }
   },
   "outputs": [
    {
     "name": "stdout",
     "output_type": "stream",
     "text": [
      "도형클래스 입니다. 좌표는 x=0, y=0\n",
      "도형클래스의 정적메소드 입니다\n"
     ]
    }
   ],
   "source": [
    "a1=Shape()\n",
    "print(a1)\n",
    "a1.Shape_info()\n"
   ]
  },
  {
   "cell_type": "code",
   "execution_count": 3,
   "metadata": {
    "ExecuteTime": {
     "end_time": "2021-02-26T06:24:47.043845Z",
     "start_time": "2021-02-26T06:24:47.037861Z"
    }
   },
   "outputs": [],
   "source": [
    "class Truangle(Shape):\n",
    "    \"삼각형클래스입니다. 도형클래스로부터 상속받았습니다.\"\n",
    "    __count=0\n",
    "    def __init__(self,x=0,y=0,width=1,heigh=1):\n",
    "        Truangle._Truangle__count+=1\n",
    "        Shape.__init__(self,x,y,)\n",
    "        self.width=width\n",
    "        self.heigh=heigh\n",
    "    \n",
    "    def __del__(self):\n",
    "        Truangle._Truangle__count-=1\n",
    "    \n",
    "    def __str__(self):\n",
    "        #return \"삼각형클래스입니다 밑변은 {} 높이는{}\".format(self.width,self.heigh)\n",
    "        #return Shape.__str__(self)+\",width{},heigh:{}\".format(self.width,self.heigh)\n",
    "        return super().__str__()+\",width{},heigh:{}\".format(self.width,self.heigh)\n",
    "                                                          \n",
    "    def truangle_area(self):\n",
    "        return \"삼각형 넓이는{}\".format((self.width*self.heigh)/2)"
   ]
  },
  {
   "cell_type": "code",
   "execution_count": 4,
   "metadata": {
    "ExecuteTime": {
     "end_time": "2021-02-26T06:24:47.564642Z",
     "start_time": "2021-02-26T06:24:47.553646Z"
    }
   },
   "outputs": [
    {
     "name": "stdout",
     "output_type": "stream",
     "text": [
      "도형클래스 입니다. 좌표는 x=0, y=0,width10,heigh:5\n"
     ]
    },
    {
     "data": {
      "text/plain": [
       "'삼각형 넓이는25.0'"
      ]
     },
     "execution_count": 4,
     "metadata": {},
     "output_type": "execute_result"
    }
   ],
   "source": [
    "a2=Truangle(width=10,heigh=5)\n",
    "print(a2)\n",
    "a2.truangle_area()\n"
   ]
  }
 ],
 "metadata": {
  "kernelspec": {
   "display_name": "Python 3",
   "language": "python",
   "name": "python3"
  },
  "language_info": {
   "codemirror_mode": {
    "name": "ipython",
    "version": 3
   },
   "file_extension": ".py",
   "mimetype": "text/x-python",
   "name": "python",
   "nbconvert_exporter": "python",
   "pygments_lexer": "ipython3",
   "version": "3.8.5"
  },
  "toc": {
   "base_numbering": 1,
   "nav_menu": {},
   "number_sections": false,
   "sideBar": true,
   "skip_h1_title": false,
   "title_cell": "Table of Contents",
   "title_sidebar": "Contents",
   "toc_cell": false,
   "toc_position": {
    "height": "calc(100% - 180px)",
    "left": "10px",
    "top": "150px",
    "width": "165px"
   },
   "toc_section_display": true,
   "toc_window_display": true
  },
  "varInspector": {
   "cols": {
    "lenName": 16,
    "lenType": 16,
    "lenVar": 40
   },
   "kernels_config": {
    "python": {
     "delete_cmd_postfix": "",
     "delete_cmd_prefix": "del ",
     "library": "var_list.py",
     "varRefreshCmd": "print(var_dic_list())"
    },
    "r": {
     "delete_cmd_postfix": ") ",
     "delete_cmd_prefix": "rm(",
     "library": "var_list.r",
     "varRefreshCmd": "cat(var_dic_list()) "
    }
   },
   "types_to_exclude": [
    "module",
    "function",
    "builtin_function_or_method",
    "instance",
    "_Feature"
   ],
   "window_display": false
  }
 },
 "nbformat": 4,
 "nbformat_minor": 4
}
