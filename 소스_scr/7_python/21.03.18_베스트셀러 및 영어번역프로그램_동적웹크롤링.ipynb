{
 "cells": [
  {
   "cell_type": "markdown",
   "metadata": {},
   "source": [
    "# 연습문제\n",
    "- yes24 베스트셀러 뽑아오기\n"
   ]
  },
  {
   "cell_type": "code",
   "execution_count": 5,
   "metadata": {
    "ExecuteTime": {
     "end_time": "2021-03-28T13:37:15.064882Z",
     "start_time": "2021-03-28T13:37:14.091523Z"
    }
   },
   "outputs": [
    {
     "name": "stdout",
     "output_type": "stream",
     "text": [
      "0, 취득부터 임대, 양도, 증여까지. 주택 세금의 모든 것! 국세청 저 | 국세청, 7,000원\n",
      "2, 흔한남매가 선사하는 유쾌한 우애 흔한남매 원저/백난도 글/유난희 그림/흔한컴퍼니 감수 | 미래엔아이세움, 10,800원\n",
      "4, 전 세계에서 가장 많이 팔린 경제경영서! 20주년 특별판 로버트 기요사키 저/안진환 역 | 민음인, 14,220원\n",
      "6, 잠들면 열리는 비밀상점, 그곳에서 펼쳐지는 힐링 판타지 이미예 저 | 팩토리나인, 12,420원\n",
      "8, 유튜버 '여락이들' 재미 보장 여행기!  김옥선 저 | 상상출판, 13,500원\n",
      "10, 우리 땅 독도를 지켜낸 빛나는 영웅들 설민석,스토리박스 글/정현희 그림/태건 역사 연구소 감수 | 아이휴먼, 10,800원\n",
      "12, 주린이들을 위한 안전판! 염블리표 투자 바이블 염승환 저 | 메이트북스, 16,200원\n",
      "14, 국민 육아멘토 오은영 박사의 현실밀착 육아회화 오은영 저/차상미 그림 | 김영사, 15,750원\n",
      "16, 돌아온 피터슨, 다시 인생 법칙을 말하다  조던 B. 피터슨 저/김한영 역 | 웅진지식하우스, 16,020원\n",
      "18, 비상! 나무 집에 ‘미확인 비행 눈알’이 나타났다! 앤디 그리피스 글/테리 덴톤 그림/신수진 역 | 시공주니어, 10,800원\n",
      "20, 유서 깊은 역사와 찬란한 문화! 한국으로 GO GO! 김미영 글/김정한 그림 | 아울북, 10,800원\n",
      "22, 전천당에 행운의 손님이 등장했다! 히로시마 레이코 글/쟈쟈 그림/김정화 역 | 길벗스쿨, 10,800원\n",
      "24, '인더숲 BTS편'에서 슈가, RM이 읽은 그 책! 손원평 저 | 창비, 10,800원\n",
      "26, 드디어 카이도와의 전력 대전!  오다 에이이치로 글그림 | 대원, 4,500원\n",
      "28, 10년 후, 지금보다 더 거대한 변화가 우리 앞에 온다 마우로 기옌 저/우진하 역 | 리더스북, 16,200원\n",
      "30, 2021년 한국사능력검정시험 준비는 큰별쌤과 함께 최태성 저 | 이투스북 , 17,100원\n",
      "32, 수학이 어려운 엄마를 위한 전략적 학습 로드맵! 류승재 저 | 블루무스, 15,120원\n",
      "34, 일론 머스크가 자문하는 두뇌 전문가 '짐 퀵'의 책! 짐 퀵 저/김미정 역 | 비즈니스북스, 15,120원\n",
      "36, 박완서 작가 10주기 에세이  박완서 저 | 세계사, 14,400원\n",
      "38, ‘사랑할 때 알아야 할 것들’ 김재식 작가의 관계 처방전  김재식 저 | 위즈덤하우스, 13,320원\n",
      "40, 박원순 사건의 진상  손병관 편 | 왕의서재, 15,750원\n",
      "42, 2021년도 한국사능력검정시험 합격을 위해! 최태성 저 | 이투스북 , 12,600원\n",
      "44, 마이클 샌델, 기울어진 사회구조를 논하다 마이클 샌델 저/함규진 역 | 와이즈베리, 16,200원\n",
      "46, 구독자 25만! 미국주식 대표 유튜버 ‘소수몽키’의 책 소수몽키(홍승초) 저 | 길벗, 18,000원\n",
      "48, 한국어능력검정시험 압도적 1위 최태성 저 | 이투스북 , 13,500원\n",
      "50, 슈퍼개미 김정환이 딸에게 전한 투자 비책! 마인드편 김정환,김이안 저 | 트러스트북스, 15,300원\n",
      "52, 흔한남매의 초등 어휘력 학습만화 !  흔한남매 원저/한은호 글/유희석 그림/흔한컴퍼니 감수 | 다산어린이, 11,700원\n",
      "54, 슈퍼개미 김정환이 딸에게 전한 실전! 투자 비책 김이안,김정환 저 | 트러스트북스, 15,300원\n",
      "56, 평화를 되찾기 위한 사자 와니니와 친구들의 모험 이현 글/오윤화 그림 | 창비, 9,720원\n",
      "58, 2020 최신판으로 토익 기출 보카 업그레이드 데이비드 조 저 | 해커스어학연구소, 11,610원\n",
      "60, 워런 버핏과 함께 \"세계의 위대한 투자가 99인\"에 선정! 강방천 저 | 한국경제신문사(한경비피), 22,500원\n",
      "62, '한국 철학의 대부' 김형석 교수의 진솔한 삶의 고백 김형석 저 | 덴스토리(DENSTORY), 13,500원\n",
      "64, 국가직 시험 실전감각 완벽 준비! 이선재,선재국어연구소 편저 | 에스티유니타스, 10,800원\n",
      "66, 98.4% 학생이 “공부하고 싶어졌다”고 응답한 바로 그 책! 박성혁 저 | 다산북스, 13,500원\n",
      "68, 우리 곁의, 내 안의, 세상 속의 어린이 김소영 저 | 사계절, 13,500원\n",
      "70, 부모를 선택하는 시대, 누구를 고르시겠습니까? 이희영 저 | 창비, 10,800원\n",
      "72, 나는 약하지만, 우리는 강해! \"함께\"의 힘!  이현 글/오윤화 그림 | 창비, 9,720원\n",
      "74, 미중 신냉전 한반도의 미래를 묻다  문정인 저 | 청림출판, 15,300원\n",
      "76, '월가의 영웅' 피터 린치가 쓴 주식 투자의 고전 피터 린치,존 로스차일드 저/이건 역 | 국일증권경제연구소, 20,700원\n",
      "78, 늦기 전에 디지털 지구, 메타버스에 올라타라! 김상균 저 | 플랜비디자인, 15,300원\n"
     ]
    }
   ],
   "source": [
    "# 화면에 출력\n",
    "import requests\n",
    "import codecs\n",
    "from bs4 import BeautifulSoup\n",
    "bestseller = requests.get('http://www.yes24.com/24/category/bestseller')\n",
    "soup = BeautifulSoup(bestseller.content, \"html.parser\")\n",
    "titles = soup.select(\"ol > li > p.copy > a\")\n",
    "authors = soup.select(\"ol > li > p.aupu\")\n",
    "prices = soup.select(\"ol > li > p.price > strong\")\n",
    "\n",
    "for i in range(len(titles)):\n",
    "    print(\"{}, {} {}, {}\".format(i+i, titles[i].text,\n",
    "                            authors[i].text,  prices[i].text))"
   ]
  },
  {
   "cell_type": "code",
   "execution_count": 3,
   "metadata": {
    "ExecuteTime": {
     "end_time": "2021-03-28T13:36:14.872262Z",
     "start_time": "2021-03-28T13:36:12.865243Z"
    }
   },
   "outputs": [],
   "source": [
    "# csv 파일로 출력\n",
    "import requests\n",
    "import codecs\n",
    "from bs4 import BeautifulSoup\n",
    "import csv\n",
    "bestseller = requests.get('http://www.yes24.com/24/category/bestseller')\n",
    "soup = BeautifulSoup(bestseller.content, \"html.parser\")\n",
    "titles = soup.select(\"ol > li > p.copy > a\")\n",
    "authors = soup.select(\"ol > li > p.aupu\")\n",
    "prices = soup.select(\"ol > li > p.price > strong\")\n",
    "\n",
    "with open('data/1_yes24.csv','w', newline='', encoding=\"utf-8\") as f:\n",
    "    writer = csv.DictWriter(f, fieldnames=[\"순위\",\"책이름\",\"저자및출판사\",\"가격\"])\n",
    "    writer.writeheader()\n",
    "    for i in range(len(titles)):\n",
    "        result = {'순위':i+1, '책이름':titles[i].text,\n",
    "                 '저자및출판사':authors[i].text, '가격':prices[i].text}\n",
    "        writer.writerow(result)"
   ]
  },
  {
   "cell_type": "code",
   "execution_count": 4,
   "metadata": {
    "ExecuteTime": {
     "end_time": "2021-03-28T13:36:16.145732Z",
     "start_time": "2021-03-28T13:36:15.134175Z"
    }
   },
   "outputs": [],
   "source": [
    "# text 파일로 출력\n",
    "import requests\n",
    "import codecs\n",
    "from bs4 import BeautifulSoup\n",
    "bestseller = requests.get('http://www.yes24.com/24/category/bestseller')\n",
    "soup = BeautifulSoup(bestseller.content, \"html.parser\")\n",
    "titles = soup.select(\"ol > li > p.copy > a\")\n",
    "authors = soup.select(\"ol > li > p.aupu\")\n",
    "prices = soup.select(\"ol > li > p.price > strong\")\n",
    "\n",
    "with open('data/1_yes24.txt','w',encoding=\"utf-8\") as f:\n",
    "    f.write(\"순위,책이름,저자및출판사,가격\\n\")\n",
    "    for i in range(len(titles)):\n",
    "        result = \"{}, {}, {}, {}\\n\".format(i+i, titles[i].text,\n",
    "                            authors[i].text,  prices[i].text)\n",
    "        f.write(result)"
   ]
  },
  {
   "cell_type": "markdown",
   "metadata": {},
   "source": [
    "# 영어번역 자동화 프로그램"
   ]
  },
  {
   "cell_type": "code",
   "execution_count": null,
   "metadata": {},
   "outputs": [],
   "source": [
    "from selenium import webdriver\n",
    "from selenium.webdriver.common.keys import Keys\n",
    "from bs4 import BeautifulSoup\n",
    "import time\n",
    "\n",
    "with open(\"data/2_한글원본.txt\",\"r\",encoding=\"utf-8\") as f:\n",
    "    text = f.read()\n",
    "ready_list = []\n",
    "while len(text) > 5000:\n",
    "    temp_str = text[:5000]\n",
    "    last_space_idx = temp_str.rfind('. ')\n",
    "    ready_list.append(text[:last_space_idx+1])\n",
    "    text = text[last_space_idx+1:] # ready_list에 append한 앞부분은 날림\n",
    "ready_list.append(text)\n",
    "# print(len(ready_list))\n",
    "driver = webdriver.Chrome('c:/big/selenium/chromedriver')\n",
    "driver.get(\"https://translate.kakao.com/\")\n",
    "\n",
    "close_btn = driver.find_element_by_css_selector(\"a.btn_close\")\n",
    "close_btn.click()\n",
    "elem = driver.find_element_by_css_selector('div.tf_translation')\n",
    "results = \"\"\n",
    "for ready in ready_list:\n",
    "    elem.clear()\n",
    "    elem.send_keys(ready)\n",
    "    \n",
    "    button = driver.find_element_by_id(\"btnTranslate\")\n",
    "    button.click()\n",
    "    time.sleep(2) # 검사하기 클릭 후 잠시 후에 결과 크롤링\n",
    "    soup = BeautifulSoup(driver.page_source, \"html.parser\")\n",
    "    result = soup.select_one(\"p#result\").text\n",
    "    results += result\n",
    "with open('data/2_자동화영어번역본.txt','w', encoding=\"utf-8\") as f:\n",
    "    f.write(results)\n",
    "driver.close()"
   ]
  }
 ],
 "metadata": {
  "kernelspec": {
   "display_name": "Python 3",
   "language": "python",
   "name": "python3"
  },
  "language_info": {
   "codemirror_mode": {
    "name": "ipython",
    "version": 3
   },
   "file_extension": ".py",
   "mimetype": "text/x-python",
   "name": "python",
   "nbconvert_exporter": "python",
   "pygments_lexer": "ipython3",
   "version": "3.8.5"
  },
  "toc": {
   "base_numbering": 1,
   "nav_menu": {},
   "number_sections": false,
   "sideBar": true,
   "skip_h1_title": false,
   "title_cell": "Table of Contents",
   "title_sidebar": "Contents",
   "toc_cell": false,
   "toc_position": {},
   "toc_section_display": true,
   "toc_window_display": false
  }
 },
 "nbformat": 4,
 "nbformat_minor": 4
}
