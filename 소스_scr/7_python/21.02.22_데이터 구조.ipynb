{
 "cells": [
  {
   "cell_type": "markdown",
   "metadata": {
    "ExecuteTime": {
     "end_time": "2021-02-22T07:14:11.075359Z",
     "start_time": "2021-02-22T07:14:11.071370Z"
    }
   },
   "source": [
    "<font size='5' color='red'>ch03.데이터구조"
   ]
  },
  {
   "cell_type": "markdown",
   "metadata": {},
   "source": [
    "# 1절.리스트"
   ]
  },
  {
   "cell_type": "markdown",
   "metadata": {},
   "source": [
    "## 1.1 리스트 만들기\n",
    "    -[]를 이용해서 만들며, 여러개 값을 하나의 변수에 저장/ 관리할 수 있음\n",
    "    -인덱스: 각 요소의 위치. 인덱스는 0부터 시작.맨 마지막 인덱스는 -1 \n",
    "    -슬라이싱: 부분 데이터셋을 뽑아 내는 것. 인덱스를 이용해서 쓰기와 읽기를 지원\n",
    "    "
   ]
  },
  {
   "cell_type": "code",
   "execution_count": 1,
   "metadata": {
    "ExecuteTime": {
     "end_time": "2021-02-22T07:32:28.725517Z",
     "start_time": "2021-02-22T07:32:28.715545Z"
    }
   },
   "outputs": [
    {
     "data": {
      "text/plain": [
       "list"
      ]
     },
     "execution_count": 1,
     "metadata": {},
     "output_type": "execute_result"
    }
   ],
   "source": [
    "fruits=['banana','apple','orange','grape']\n",
    "type(fruits)"
   ]
  },
  {
   "cell_type": "code",
   "execution_count": 26,
   "metadata": {
    "ExecuteTime": {
     "end_time": "2021-02-22T07:32:05.625560Z",
     "start_time": "2021-02-22T07:32:05.621590Z"
    }
   },
   "outputs": [
    {
     "name": "stdout",
     "output_type": "stream",
     "text": [
      "['banana', 'apple', 'orange', 'grape']\n"
     ]
    }
   ],
   "source": [
    "print(fruits)"
   ]
  },
  {
   "cell_type": "code",
   "execution_count": 27,
   "metadata": {
    "ExecuteTime": {
     "end_time": "2021-02-22T07:32:06.863758Z",
     "start_time": "2021-02-22T07:32:06.859770Z"
    }
   },
   "outputs": [
    {
     "name": "stdout",
     "output_type": "stream",
     "text": [
      "banana\n"
     ]
    }
   ],
   "source": [
    "print(fruits[0])"
   ]
  },
  {
   "cell_type": "code",
   "execution_count": 3,
   "metadata": {
    "ExecuteTime": {
     "end_time": "2021-02-22T07:34:39.581532Z",
     "start_time": "2021-02-22T07:34:39.577542Z"
    }
   },
   "outputs": [
    {
     "name": "stdout",
     "output_type": "stream",
     "text": [
      "banana\n",
      "apple\n",
      "orange\n",
      "grape\n"
     ]
    }
   ],
   "source": [
    "for fruit in fruits : \n",
    "    print(fruit)"
   ]
  },
  {
   "cell_type": "code",
   "execution_count": 6,
   "metadata": {
    "ExecuteTime": {
     "end_time": "2021-02-22T07:36:56.242637Z",
     "start_time": "2021-02-22T07:36:56.237649Z"
    }
   },
   "outputs": [
    {
     "data": {
      "text/plain": [
       "[0, 1, 2, 3, 4, 5]"
      ]
     },
     "execution_count": 6,
     "metadata": {},
     "output_type": "execute_result"
    }
   ],
   "source": [
    "#range(from, to ,by); from부터 to바로 앞까지 by씩 증가되면서 만들어진 list \n",
    "        #from 생략시 0시부터 by생략시 1씩 \n",
    "list(range(6))"
   ]
  },
  {
   "cell_type": "code",
   "execution_count": 7,
   "metadata": {
    "ExecuteTime": {
     "end_time": "2021-02-22T07:39:34.455582Z",
     "start_time": "2021-02-22T07:39:34.450593Z"
    }
   },
   "outputs": [
    {
     "data": {
      "text/plain": [
       "[0, 2, 4, 6, 8]"
      ]
     },
     "execution_count": 7,
     "metadata": {},
     "output_type": "execute_result"
    }
   ],
   "source": [
    "list(range(0,10,2))"
   ]
  },
  {
   "cell_type": "code",
   "execution_count": 8,
   "metadata": {
    "ExecuteTime": {
     "end_time": "2021-02-22T07:39:36.135760Z",
     "start_time": "2021-02-22T07:39:36.130774Z"
    }
   },
   "outputs": [
    {
     "data": {
      "text/plain": [
       "[10, 8, 6, 4, 2, 0]"
      ]
     },
     "execution_count": 8,
     "metadata": {},
     "output_type": "execute_result"
    }
   ],
   "source": [
    "list(range(10,-1,-2))"
   ]
  },
  {
   "cell_type": "code",
   "execution_count": 17,
   "metadata": {
    "ExecuteTime": {
     "end_time": "2021-02-22T07:45:20.610906Z",
     "start_time": "2021-02-22T07:45:20.606897Z"
    }
   },
   "outputs": [
    {
     "name": "stdout",
     "output_type": "stream",
     "text": [
      "0\t1\t2\t3\t4\t"
     ]
    }
   ],
   "source": [
    "for i in range(5):\n",
    "    print(i,end='\\t')"
   ]
  },
  {
   "cell_type": "code",
   "execution_count": 11,
   "metadata": {
    "ExecuteTime": {
     "end_time": "2021-02-22T07:42:08.558640Z",
     "start_time": "2021-02-22T07:42:08.554650Z"
    }
   },
   "outputs": [
    {
     "name": "stdout",
     "output_type": "stream",
     "text": [
      "0번쨰: banana\n",
      "1번쨰: apple\n",
      "2번쨰: orange\n",
      "3번쨰: grape\n"
     ]
    }
   ],
   "source": [
    "# 0번쨰 : banana... len(fruits):fruits 요소의 갯수\n",
    "for idx in range(len(fruits)):\n",
    "    print('{}번쨰: {}'.format(idx,fruits[idx]))"
   ]
  },
  {
   "cell_type": "code",
   "execution_count": 12,
   "metadata": {
    "ExecuteTime": {
     "end_time": "2021-02-22T07:42:59.686075Z",
     "start_time": "2021-02-22T07:42:59.682113Z"
    }
   },
   "outputs": [],
   "source": [
    "numbers= [1,2,3,True,'5']"
   ]
  },
  {
   "cell_type": "code",
   "execution_count": 13,
   "metadata": {
    "ExecuteTime": {
     "end_time": "2021-02-22T07:43:02.388780Z",
     "start_time": "2021-02-22T07:43:02.384792Z"
    }
   },
   "outputs": [
    {
     "data": {
      "text/plain": [
       "[1, 2, 3, True, '5']"
      ]
     },
     "execution_count": 13,
     "metadata": {},
     "output_type": "execute_result"
    }
   ],
   "source": [
    "numbers"
   ]
  },
  {
   "cell_type": "code",
   "execution_count": 29,
   "metadata": {
    "ExecuteTime": {
     "end_time": "2021-02-22T08:27:41.511342Z",
     "start_time": "2021-02-22T08:27:41.502365Z"
    }
   },
   "outputs": [
    {
     "ename": "NameError",
     "evalue": "name 'number_2d' is not defined",
     "output_type": "error",
     "traceback": [
      "\u001b[1;31m---------------------------------------------------------------------------\u001b[0m",
      "\u001b[1;31mNameError\u001b[0m                                 Traceback (most recent call last)",
      "\u001b[1;32m<ipython-input-29-911d543ccca9>\u001b[0m in \u001b[0;36m<module>\u001b[1;34m\u001b[0m\n\u001b[0;32m      3\u001b[0m             \u001b[1;33m[\u001b[0m\u001b[1;36m1\u001b[0m\u001b[1;33m,\u001b[0m\u001b[1;36m3\u001b[0m\u001b[1;33m,\u001b[0m\u001b[1;36m5\u001b[0m\u001b[1;33m,\u001b[0m\u001b[1;36m7\u001b[0m\u001b[1;33m,\u001b[0m\u001b[1;36m9\u001b[0m\u001b[1;33m]\u001b[0m\u001b[1;33m,\u001b[0m\u001b[1;33m\u001b[0m\u001b[1;33m\u001b[0m\u001b[0m\n\u001b[0;32m      4\u001b[0m             [2,4,6,8,10]] #리스트안에 리스트를 안에 넣는 구조 \n\u001b[1;32m----> 5\u001b[1;33m \u001b[0mprint\u001b[0m\u001b[1;33m(\u001b[0m\u001b[0mnumber_2d\u001b[0m\u001b[1;33m)\u001b[0m\u001b[1;33m\u001b[0m\u001b[1;33m\u001b[0m\u001b[0m\n\u001b[0m",
      "\u001b[1;31mNameError\u001b[0m: name 'number_2d' is not defined"
     ]
    }
   ],
   "source": [
    "numbers_2d =[[1,2,3,4,5],\n",
    "            [10,20,30,40,50],\n",
    "            [1,3,5,7,9],\n",
    "            [2,4,6,8,10]] #리스트안에 리스트를 안에 넣는 구조 \n",
    "print(number_2d)"
   ]
  },
  {
   "cell_type": "code",
   "execution_count": 53,
   "metadata": {
    "ExecuteTime": {
     "end_time": "2021-02-22T08:00:33.357679Z",
     "start_time": "2021-02-22T08:00:33.354667Z"
    }
   },
   "outputs": [
    {
     "data": {
      "text/plain": [
       "10"
      ]
     },
     "execution_count": 53,
     "metadata": {},
     "output_type": "execute_result"
    }
   ],
   "source": [
    "numbers_2d[1][0]"
   ]
  },
  {
   "cell_type": "code",
   "execution_count": 33,
   "metadata": {
    "ExecuteTime": {
     "end_time": "2021-02-22T08:29:21.945258Z",
     "start_time": "2021-02-22T08:29:21.939296Z"
    }
   },
   "outputs": [
    {
     "name": "stdout",
     "output_type": "stream",
     "text": [
      "1\t2\t3\t4\t5\t\n",
      "10\t20\t30\t40\t50\t\n",
      "1\t3\t5\t7\t9\t\n",
      "2\t4\t6\t8\t10\t\n"
     ]
    }
   ],
   "source": [
    "for row in numbers_2d:\n",
    "    for date in row:\n",
    "        #print(date+'\\t')\n",
    "        print(date,end='\\t')\n",
    "    print()"
   ]
  },
  {
   "cell_type": "code",
   "execution_count": 36,
   "metadata": {
    "ExecuteTime": {
     "end_time": "2021-02-22T07:52:16.368420Z",
     "start_time": "2021-02-22T07:52:16.365428Z"
    }
   },
   "outputs": [
    {
     "name": "stdout",
     "output_type": "stream",
     "text": [
      "하이\t안녕하세요\n"
     ]
    }
   ],
   "source": [
    "print('하이'+'\\t'+'안녕하세요')"
   ]
  },
  {
   "cell_type": "code",
   "execution_count": 54,
   "metadata": {
    "ExecuteTime": {
     "end_time": "2021-02-22T08:00:37.672942Z",
     "start_time": "2021-02-22T08:00:37.667981Z"
    }
   },
   "outputs": [
    {
     "name": "stdout",
     "output_type": "stream",
     "text": [
      "0행,0열: 1\t0행,1열: 2\t0행,2열: 3\t0행,3열: 4\t0행,4열: 5\t\n",
      "1행,0열:10\t1행,1열:20\t1행,2열:30\t1행,3열:40\t1행,4열:50\t\n",
      "2행,0열: 1\t2행,1열: 3\t2행,2열: 5\t2행,3열: 7\t2행,4열: 9\t\n",
      "3행,0열: 2\t3행,1열: 4\t3행,2열: 6\t3행,3열: 8\t3행,4열:10\t\n"
     ]
    }
   ],
   "source": [
    "numbers_2d =[[1,2,3,4,5],\n",
    "            [10,20,30,40,50],\n",
    "            [1,3,5,7,9],\n",
    "            [2,4,6,8,10]]\n",
    "\n",
    "for i in range(len(number_2d)): #len(numbers_2d)=4\n",
    "    for j in range(len(number_2d[i])):\n",
    "        print(\"{}행,{}열:{:>2}\".format(i,j,number_2d[i][j]),end='\\t')\n",
    "    print()"
   ]
  },
  {
   "cell_type": "markdown",
   "metadata": {},
   "source": [
    "## 1.2 기본 정보 조회"
   ]
  },
  {
   "cell_type": "code",
   "execution_count": 1,
   "metadata": {
    "ExecuteTime": {
     "end_time": "2021-02-22T08:02:36.110069Z",
     "start_time": "2021-02-22T08:02:36.105108Z"
    }
   },
   "outputs": [],
   "source": [
    "numbers= [1,2,3,4,5]\n",
    "numbers_2d =[[1,2,3,4,5],\n",
    "            [10,20,30,40,50],\n",
    "            [1,3,5,7,9],\n",
    "            [2,4,6,8,10]]"
   ]
  },
  {
   "cell_type": "code",
   "execution_count": 56,
   "metadata": {
    "ExecuteTime": {
     "end_time": "2021-02-22T08:02:11.277734Z",
     "start_time": "2021-02-22T08:02:11.274783Z"
    }
   },
   "outputs": [],
   "source": [
    "del numbers"
   ]
  },
  {
   "cell_type": "code",
   "execution_count": 3,
   "metadata": {
    "ExecuteTime": {
     "end_time": "2021-02-22T08:03:48.971040Z",
     "start_time": "2021-02-22T08:03:48.953452Z"
    }
   },
   "outputs": [
    {
     "name": "stdout",
     "output_type": "stream",
     "text": [
      "numbers의 요소수: 5\n",
      "numbers_2d의 요소수 4\n"
     ]
    }
   ],
   "source": [
    "#요소 수 \n",
    "print('numbers의 요소수:',len(numbers))\n",
    "print('numbers_2d의 요소수',len(numbers_2d))"
   ]
  },
  {
   "cell_type": "code",
   "execution_count": 4,
   "metadata": {
    "ExecuteTime": {
     "end_time": "2021-02-22T08:04:19.989321Z",
     "start_time": "2021-02-22T08:04:19.985331Z"
    }
   },
   "outputs": [
    {
     "name": "stdout",
     "output_type": "stream",
     "text": [
      "numbers_2d[0]의 요소수 5\n"
     ]
    }
   ],
   "source": [
    "print('numbers_2d[0]의 요소수',len(numbers_2d[0]))"
   ]
  },
  {
   "cell_type": "code",
   "execution_count": 5,
   "metadata": {
    "ExecuteTime": {
     "end_time": "2021-02-22T08:05:49.498857Z",
     "start_time": "2021-02-22T08:05:49.488903Z"
    }
   },
   "outputs": [
    {
     "data": {
      "text/plain": [
       "(1, 5)"
      ]
     },
     "execution_count": 5,
     "metadata": {},
     "output_type": "execute_result"
    }
   ],
   "source": [
    "# 최소값 min, 최대값 max\n",
    "min(numbers), max(numbers)"
   ]
  },
  {
   "cell_type": "code",
   "execution_count": 6,
   "metadata": {
    "ExecuteTime": {
     "end_time": "2021-02-22T08:06:53.920349Z",
     "start_time": "2021-02-22T08:06:53.915382Z"
    }
   },
   "outputs": [
    {
     "data": {
      "text/plain": [
       "([1, 2, 3, 4, 5], [10, 20, 30, 40, 50])"
      ]
     },
     "execution_count": 6,
     "metadata": {},
     "output_type": "execute_result"
    }
   ],
   "source": [
    "#2차원 리스트에서는 max()함수는 부분 리스트중 첫 요소가 가장 큰 값을 갖는 리스트를 반환\n",
    "#                    min()함수는 부분 리스트중 첫 요소가 가장 작은 값을 갖는 리스트를 반환 \n",
    "min(numbers_2d),max(numbers_2d)    "
   ]
  },
  {
   "cell_type": "code",
   "execution_count": null,
   "metadata": {},
   "outputs": [],
   "source": [
    "# 요소 추가"
   ]
  },
  {
   "cell_type": "code",
   "execution_count": null,
   "metadata": {},
   "outputs": [],
   "source": [
    "# + 두리스트를 연결\n",
    "# * 리스트를 곱한 수 만큼 반복\n",
    "# append() 요소를 맨뒤에 추가\n",
    "# extend() 리스트를 요소별로 맨 뒤에 추가\n",
    "# insert() 지정된 index 위치에 삽입"
   ]
  },
  {
   "cell_type": "code",
   "execution_count": 7,
   "metadata": {
    "ExecuteTime": {
     "end_time": "2021-02-22T08:10:51.453149Z",
     "start_time": "2021-02-22T08:10:51.448170Z"
    }
   },
   "outputs": [
    {
     "data": {
      "text/plain": [
       "[1, 2, 3, 4, 5, 1, 2, 3, 4, 5]"
      ]
     },
     "execution_count": 7,
     "metadata": {},
     "output_type": "execute_result"
    }
   ],
   "source": [
    "numbers= [1,2,3,4,5]\n",
    "numbers=numbers+numbers #리스트연결\n",
    "numbers"
   ]
  },
  {
   "cell_type": "code",
   "execution_count": 8,
   "metadata": {
    "ExecuteTime": {
     "end_time": "2021-02-22T08:11:14.036220Z",
     "start_time": "2021-02-22T08:11:14.020375Z"
    }
   },
   "outputs": [
    {
     "name": "stdout",
     "output_type": "stream",
     "text": [
      "[1, 2, 3, 1, 2, 3, 1, 2, 3]\n"
     ]
    }
   ],
   "source": [
    "numbers=[1,2,3]\n",
    "print(numbers * 3)"
   ]
  },
  {
   "cell_type": "code",
   "execution_count": 9,
   "metadata": {
    "ExecuteTime": {
     "end_time": "2021-02-22T08:11:23.894750Z",
     "start_time": "2021-02-22T08:11:23.891758Z"
    }
   },
   "outputs": [
    {
     "name": "stdout",
     "output_type": "stream",
     "text": [
      "ABCABCABC\n"
     ]
    }
   ],
   "source": [
    "print('ABC'*3)"
   ]
  },
  {
   "cell_type": "code",
   "execution_count": 10,
   "metadata": {
    "ExecuteTime": {
     "end_time": "2021-02-22T08:13:19.655317Z",
     "start_time": "2021-02-22T08:13:19.650357Z"
    }
   },
   "outputs": [
    {
     "data": {
      "text/plain": [
       "[1, 2, 3, 4]"
      ]
     },
     "execution_count": 10,
     "metadata": {},
     "output_type": "execute_result"
    }
   ],
   "source": [
    "#append() 함수 이용\n",
    "numbers=[1,2,3]\n",
    "numbers.append(4)#요소의 맨 뒤에 추가 \n",
    "numbers"
   ]
  },
  {
   "cell_type": "code",
   "execution_count": 12,
   "metadata": {
    "ExecuteTime": {
     "end_time": "2021-02-22T08:13:58.064289Z",
     "start_time": "2021-02-22T08:13:58.059302Z"
    }
   },
   "outputs": [
    {
     "data": {
      "text/plain": [
       "[1, 2, 3, 4, 5, 6]"
      ]
     },
     "execution_count": 12,
     "metadata": {},
     "output_type": "execute_result"
    }
   ],
   "source": [
    "#extend()\n",
    "numbers=[1,2,3]\n",
    "num =[4,5,6]\n",
    "numbers.extend(num)\n",
    "numbers"
   ]
  },
  {
   "cell_type": "code",
   "execution_count": 14,
   "metadata": {
    "ExecuteTime": {
     "end_time": "2021-02-22T08:14:13.066471Z",
     "start_time": "2021-02-22T08:14:13.044529Z"
    }
   },
   "outputs": [
    {
     "data": {
      "text/plain": [
       "[1, 2, 3, 4, 5, 6, 'H', 'e', 'l', 'l', 'o', 'H', 'e', 'l', 'l', 'o']"
      ]
     },
     "execution_count": 14,
     "metadata": {},
     "output_type": "execute_result"
    }
   ],
   "source": [
    "numbers.extend('Hello')\n",
    "numbers"
   ]
  },
  {
   "cell_type": "code",
   "execution_count": 16,
   "metadata": {
    "ExecuteTime": {
     "end_time": "2021-02-22T08:15:53.764524Z",
     "start_time": "2021-02-22T08:15:53.759538Z"
    }
   },
   "outputs": [
    {
     "data": {
      "text/plain": [
       "[1, 'xx', 2, 3]"
      ]
     },
     "execution_count": 16,
     "metadata": {},
     "output_type": "execute_result"
    }
   ],
   "source": [
    "#insert(idx,추가할내용):idx번쨰 인덱스에 추가할 내용 삽입\n",
    "numbers=[1,2,3]\n",
    "numbers.insert(1,'xx')\n",
    "numbers"
   ]
  },
  {
   "cell_type": "markdown",
   "metadata": {},
   "source": [
    "## 1.4 인덱싱\n",
    "    -count(): 리스트에서 데이터의 갯수 반환\n",
    "    -index(): 해당 요소의 위치 반환\n",
    "    -[index]: 인덱스를 이용한 접근"
   ]
  },
  {
   "cell_type": "code",
   "execution_count": 17,
   "metadata": {
    "ExecuteTime": {
     "end_time": "2021-02-22T08:19:00.248720Z",
     "start_time": "2021-02-22T08:19:00.243732Z"
    }
   },
   "outputs": [
    {
     "name": "stdout",
     "output_type": "stream",
     "text": [
      "[1, 2, 3, [1, 2, 3], 1, 2, 3]\n",
      "[[1, 2, 3], [1, 2, 3]]\n"
     ]
    }
   ],
   "source": [
    "numbers=[1,2,3,[1,2,3],1,2,3]\n",
    "numbers_2d=[[1,2,3],[1,2,3]]\n",
    "print(numbers)\n",
    "print(numbers_2d)"
   ]
  },
  {
   "cell_type": "code",
   "execution_count": null,
   "metadata": {},
   "outputs": [],
   "source": [
    "numbers.count(2)# 2가 몇개 있는지 "
   ]
  },
  {
   "cell_type": "code",
   "execution_count": null,
   "metadata": {},
   "outputs": [],
   "source": [
    "numbers.count(9)"
   ]
  },
  {
   "cell_type": "code",
   "execution_count": 18,
   "metadata": {
    "ExecuteTime": {
     "end_time": "2021-02-22T08:20:35.791914Z",
     "start_time": "2021-02-22T08:20:35.786928Z"
    }
   },
   "outputs": [
    {
     "data": {
      "text/plain": [
       "1"
      ]
     },
     "execution_count": 18,
     "metadata": {},
     "output_type": "execute_result"
    }
   ],
   "source": [
    "numbers.count([1,2,3])"
   ]
  },
  {
   "cell_type": "code",
   "execution_count": 19,
   "metadata": {
    "ExecuteTime": {
     "end_time": "2021-02-22T08:20:47.114007Z",
     "start_time": "2021-02-22T08:20:47.110018Z"
    }
   },
   "outputs": [
    {
     "data": {
      "text/plain": [
       "0"
      ]
     },
     "execution_count": 19,
     "metadata": {},
     "output_type": "execute_result"
    }
   ],
   "source": [
    "numbers_2d.count(2)"
   ]
  },
  {
   "cell_type": "code",
   "execution_count": 20,
   "metadata": {
    "ExecuteTime": {
     "end_time": "2021-02-22T08:20:54.867233Z",
     "start_time": "2021-02-22T08:20:54.862268Z"
    }
   },
   "outputs": [
    {
     "data": {
      "text/plain": [
       "2"
      ]
     },
     "execution_count": 20,
     "metadata": {},
     "output_type": "execute_result"
    }
   ],
   "source": [
    "numbers_2d.count([1,2,3])"
   ]
  },
  {
   "cell_type": "code",
   "execution_count": 21,
   "metadata": {
    "ExecuteTime": {
     "end_time": "2021-02-22T08:22:32.132344Z",
     "start_time": "2021-02-22T08:22:32.127366Z"
    }
   },
   "outputs": [
    {
     "data": {
      "text/plain": [
       "1"
      ]
     },
     "execution_count": 21,
     "metadata": {},
     "output_type": "execute_result"
    }
   ],
   "source": [
    "# 0번쨰 인덱스부터 처음 나오는 2의 인덱스\n",
    "numbers.index(2)"
   ]
  },
  {
   "cell_type": "code",
   "execution_count": null,
   "metadata": {},
   "outputs": [],
   "source": [
    "#4번쨰 인덱스 이후부터 처음 나오는 2의 인덱스 \n",
    "numbers=[1,2,3,[1,2,3],1,2,3]\n",
    "numbers.index(2,4)"
   ]
  },
  {
   "cell_type": "code",
   "execution_count": 24,
   "metadata": {
    "ExecuteTime": {
     "end_time": "2021-02-22T08:24:45.694214Z",
     "start_time": "2021-02-22T08:24:45.686236Z"
    }
   },
   "outputs": [
    {
     "name": "stdout",
     "output_type": "stream",
     "text": [
      "0\n"
     ]
    },
    {
     "ename": "ValueError",
     "evalue": "9 is not in list",
     "output_type": "error",
     "traceback": [
      "\u001b[1;31m---------------------------------------------------------------------------\u001b[0m",
      "\u001b[1;31mValueError\u001b[0m                                Traceback (most recent call last)",
      "\u001b[1;32m<ipython-input-24-66655c0f6076>\u001b[0m in \u001b[0;36m<module>\u001b[1;34m\u001b[0m\n\u001b[0;32m      1\u001b[0m \u001b[0mprint\u001b[0m\u001b[1;33m(\u001b[0m\u001b[0mnumbers\u001b[0m\u001b[1;33m.\u001b[0m\u001b[0mcount\u001b[0m\u001b[1;33m(\u001b[0m\u001b[1;36m9\u001b[0m\u001b[1;33m)\u001b[0m\u001b[1;33m)\u001b[0m\u001b[1;33m\u001b[0m\u001b[1;33m\u001b[0m\u001b[0m\n\u001b[1;32m----> 2\u001b[1;33m \u001b[0mprint\u001b[0m\u001b[1;33m(\u001b[0m\u001b[0mnumbers\u001b[0m\u001b[1;33m.\u001b[0m\u001b[0mindex\u001b[0m\u001b[1;33m(\u001b[0m\u001b[1;36m9\u001b[0m\u001b[1;33m)\u001b[0m\u001b[1;33m)\u001b[0m\u001b[1;31m#index함수는 없는 값을 찾으면 에러\u001b[0m\u001b[1;33m\u001b[0m\u001b[1;33m\u001b[0m\u001b[0m\n\u001b[0m",
      "\u001b[1;31mValueError\u001b[0m: 9 is not in list"
     ]
    }
   ],
   "source": [
    "print(numbers.count(9))\n",
    "print(numbers.index(9))#index함수는 없는 값을 찾으면 에러 "
   ]
  },
  {
   "cell_type": "code",
   "execution_count": 26,
   "metadata": {
    "ExecuteTime": {
     "end_time": "2021-02-22T08:25:14.073482Z",
     "start_time": "2021-02-22T08:25:14.069473Z"
    }
   },
   "outputs": [
    {
     "name": "stdout",
     "output_type": "stream",
     "text": [
      "3\n"
     ]
    }
   ],
   "source": [
    "len(numbers)\n",
    "print(numbers[6])"
   ]
  },
  {
   "cell_type": "markdown",
   "metadata": {},
   "source": [
    "## 1.5 원하는 리스트 내용만 추출; 리스트 슬라이싱 "
   ]
  },
  {
   "cell_type": "markdown",
   "metadata": {},
   "source": [
    "- [from:to:by] ; from부터 to 바로 앞까지 by번 증가하는 index아이템 추출\n",
    "                 from,to,by 생략 가능\n",
    "                 인덱스는 음수 가능 "
   ]
  },
  {
   "cell_type": "code",
   "execution_count": 35,
   "metadata": {
    "ExecuteTime": {
     "end_time": "2021-02-22T08:40:30.722625Z",
     "start_time": "2021-02-22T08:40:30.718662Z"
    }
   },
   "outputs": [],
   "source": [
    "numbers=[1,2,3,4,5]"
   ]
  },
  {
   "cell_type": "code",
   "execution_count": 36,
   "metadata": {
    "ExecuteTime": {
     "end_time": "2021-02-22T08:40:32.545607Z",
     "start_time": "2021-02-22T08:40:32.541640Z"
    }
   },
   "outputs": [
    {
     "data": {
      "text/plain": [
       "[3, 4, 5]"
      ]
     },
     "execution_count": 36,
     "metadata": {},
     "output_type": "execute_result"
    }
   ],
   "source": [
    "numbers[2:9]#2부터 9번 인덱스 바로 앞까지(해당 인덱스가 없을 경우 끝까지)"
   ]
  },
  {
   "cell_type": "code",
   "execution_count": 37,
   "metadata": {
    "ExecuteTime": {
     "end_time": "2021-02-22T08:40:46.659541Z",
     "start_time": "2021-02-22T08:40:46.654555Z"
    }
   },
   "outputs": [
    {
     "data": {
      "text/plain": [
       "[5, 4, 3, 2, 1]"
      ]
     },
     "execution_count": 37,
     "metadata": {},
     "output_type": "execute_result"
    }
   ],
   "source": [
    "numbers[::-1]"
   ]
  },
  {
   "cell_type": "code",
   "execution_count": 38,
   "metadata": {
    "ExecuteTime": {
     "end_time": "2021-02-22T08:40:55.379143Z",
     "start_time": "2021-02-22T08:40:55.374157Z"
    }
   },
   "outputs": [
    {
     "data": {
      "text/plain": [
       "[1, 2, 3, 4, 5]"
      ]
     },
     "execution_count": 38,
     "metadata": {},
     "output_type": "execute_result"
    }
   ],
   "source": [
    "numbers[::]"
   ]
  },
  {
   "cell_type": "code",
   "execution_count": 39,
   "metadata": {
    "ExecuteTime": {
     "end_time": "2021-02-22T08:41:24.847966Z",
     "start_time": "2021-02-22T08:41:24.843993Z"
    }
   },
   "outputs": [
    {
     "data": {
      "text/plain": [
       "[1, 2, 3, 4]"
      ]
     },
     "execution_count": 39,
     "metadata": {},
     "output_type": "execute_result"
    }
   ],
   "source": [
    "numbers[-5:-1]"
   ]
  },
  {
   "cell_type": "code",
   "execution_count": 45,
   "metadata": {
    "ExecuteTime": {
     "end_time": "2021-02-22T08:43:40.032316Z",
     "start_time": "2021-02-22T08:43:40.028352Z"
    }
   },
   "outputs": [
    {
     "data": {
      "text/plain": [
       "[]"
      ]
     },
     "execution_count": 45,
     "metadata": {},
     "output_type": "execute_result"
    }
   ],
   "source": [
    "numbers[-1:-5]#-1부터 -5바로 전까지 by(1)씩 인덱스를 전지하며 액세스 "
   ]
  },
  {
   "cell_type": "code",
   "execution_count": 47,
   "metadata": {
    "ExecuteTime": {
     "end_time": "2021-02-22T08:44:50.431695Z",
     "start_time": "2021-02-22T08:44:50.427732Z"
    }
   },
   "outputs": [],
   "source": [
    "numbers_2d=[[1,2,3],[10,20,30],[11,12,13],[14,15,16]]"
   ]
  },
  {
   "cell_type": "code",
   "execution_count": 49,
   "metadata": {
    "ExecuteTime": {
     "end_time": "2021-02-22T08:44:56.437912Z",
     "start_time": "2021-02-22T08:44:56.433923Z"
    }
   },
   "outputs": [
    {
     "data": {
      "text/plain": [
       "[2, 3]"
      ]
     },
     "execution_count": 49,
     "metadata": {},
     "output_type": "execute_result"
    }
   ],
   "source": [
    "numbers_2d[0][1:3]"
   ]
  },
  {
   "cell_type": "code",
   "execution_count": null,
   "metadata": {},
   "outputs": [],
   "source": [
    "#람다식을 이용해서  list의 원하는 데이터 액세스\n"
   ]
  },
  {
   "cell_type": "code",
   "execution_count": 61,
   "metadata": {
    "ExecuteTime": {
     "end_time": "2021-02-22T08:51:09.910464Z",
     "start_time": "2021-02-22T08:51:09.905477Z"
    }
   },
   "outputs": [
    {
     "data": {
      "text/plain": [
       "[1, 3, 5, 9, 10, 12, 13, 18, 19, 20]"
      ]
     },
     "execution_count": 61,
     "metadata": {},
     "output_type": "execute_result"
    }
   ],
   "source": [
    "numbers=[1,3,5,9,10,12,13,18,19,20]\n",
    "#모든 데이터 다 가져오기\n",
    "#for data in numbers:\n",
    "#   print(data)\n",
    "[data for data in numbers]"
   ]
  },
  {
   "cell_type": "code",
   "execution_count": 76,
   "metadata": {
    "ExecuteTime": {
     "end_time": "2021-02-22T08:56:09.142343Z",
     "start_time": "2021-02-22T08:56:09.139350Z"
    }
   },
   "outputs": [
    {
     "name": "stdout",
     "output_type": "stream",
     "text": [
      "10\n",
      "12\n",
      "18\n",
      "20\n"
     ]
    }
   ],
   "source": [
    "#짝수 데이터만 가져오기\n",
    "for x in numbers:\n",
    "    if x%2==0:\n",
    "        print(x)\n",
    "#[data for data in numbers if data%2==0]"
   ]
  },
  {
   "cell_type": "code",
   "execution_count": 67,
   "metadata": {
    "ExecuteTime": {
     "end_time": "2021-02-22T08:52:15.943074Z",
     "start_time": "2021-02-22T08:52:15.940075Z"
    }
   },
   "outputs": [
    {
     "data": {
      "text/plain": [
       "[10, 12, 13, 18, 19, 20]"
      ]
     },
     "execution_count": 67,
     "metadata": {},
     "output_type": "execute_result"
    }
   ],
   "source": [
    "#10이상의 데이터만 가져오기\n",
    "[x for x in numbers if x>=10]"
   ]
  },
  {
   "cell_type": "code",
   "execution_count": 80,
   "metadata": {
    "ExecuteTime": {
     "end_time": "2021-02-22T08:57:01.190214Z",
     "start_time": "2021-02-22T08:57:01.185227Z"
    }
   },
   "outputs": [
    {
     "data": {
      "text/plain": [
       "['orange', 'apple', 'mango']"
      ]
     },
     "execution_count": 80,
     "metadata": {},
     "output_type": "execute_result"
    }
   ],
   "source": [
    "#과일의 글씨가 5글자 이상인 과일만 추출\n",
    "fruits = ['orange','apple','mango','kiwi']\n",
    "[x for x in fruits if len(x)>=5]\n",
    "#for x in fruits:\n",
    "#    if len(x)>=5:\n",
    "#            print(x)"
   ]
  },
  {
   "cell_type": "code",
   "execution_count": 108,
   "metadata": {
    "ExecuteTime": {
     "end_time": "2021-02-22T09:18:55.770627Z",
     "start_time": "2021-02-22T09:18:55.765665Z"
    }
   },
   "outputs": [
    {
     "name": "stdout",
     "output_type": "stream",
     "text": [
      "1\t4\t9\t16\t25\t"
     ]
    },
    {
     "data": {
      "text/plain": [
       "[1, 4, 9, 16, 25]"
      ]
     },
     "execution_count": 108,
     "metadata": {},
     "output_type": "execute_result"
    }
   ],
   "source": [
    "#리스트 값의 제곱을 추출하라\n",
    "L=[1,2,3,4,5]\n",
    "for x in L:\n",
    "    print(x**L[1], end='\\t')\n",
    "[x**2 for x in L]"
   ]
  },
  {
   "cell_type": "code",
   "execution_count": 107,
   "metadata": {
    "ExecuteTime": {
     "end_time": "2021-02-22T09:18:52.232065Z",
     "start_time": "2021-02-22T09:18:52.225084Z"
    }
   },
   "outputs": [
    {
     "name": "stdout",
     "output_type": "stream",
     "text": [
      "1\t8\t27\t64\t125\t"
     ]
    },
    {
     "data": {
      "text/plain": [
       "[1, 8, 27, 64, 125]"
      ]
     },
     "execution_count": 107,
     "metadata": {},
     "output_type": "execute_result"
    }
   ],
   "source": [
    "#리스트의 세제곱을 추출하라 \n",
    "L=[1,2,3,4,5]\n",
    "for x in L:\n",
    "    print(x**L[2], end='\\t')\n",
    "[x**3 for x in L]"
   ]
  },
  {
   "cell_type": "code",
   "execution_count": 106,
   "metadata": {
    "ExecuteTime": {
     "end_time": "2021-02-22T09:18:50.172301Z",
     "start_time": "2021-02-22T09:18:50.166316Z"
    }
   },
   "outputs": [
    {
     "name": "stdout",
     "output_type": "stream",
     "text": [
      "2\t4\t6\t8\t10\t"
     ]
    },
    {
     "data": {
      "text/plain": [
       "[2, 4, 6, 8, 10]"
      ]
     },
     "execution_count": 106,
     "metadata": {},
     "output_type": "execute_result"
    }
   ],
   "source": [
    "#리스트 값의 두배의 수를 추출하라\n",
    "L=[1,2,3,4,5]\n",
    "for x in L:\n",
    "    print(x*2, end='\\t')\n",
    "[x*2 for x in L]"
   ]
  },
  {
   "cell_type": "markdown",
   "metadata": {},
   "source": [
    "## 1.6 요소 수정하기\n"
   ]
  },
  {
   "cell_type": "code",
   "execution_count": 270,
   "metadata": {
    "ExecuteTime": {
     "end_time": "2021-02-23T04:22:28.224139Z",
     "start_time": "2021-02-23T04:22:28.220171Z"
    }
   },
   "outputs": [
    {
     "name": "stdout",
     "output_type": "stream",
     "text": [
      "[0, 1, 2, 3, 4, 5, 6, 7, 8, 9]\n"
     ]
    }
   ],
   "source": [
    "numbers=[0,1,2,3,4,5,6,7,8,9]\n",
    "print(numbers)"
   ]
  },
  {
   "cell_type": "code",
   "execution_count": 271,
   "metadata": {
    "ExecuteTime": {
     "end_time": "2021-02-23T04:22:30.313670Z",
     "start_time": "2021-02-23T04:22:30.309681Z"
    }
   },
   "outputs": [
    {
     "data": {
      "text/plain": [
       "[0, 1, 222, 3, 4, 5, 6, 7, 8, 9]"
      ]
     },
     "execution_count": 271,
     "metadata": {},
     "output_type": "execute_result"
    }
   ],
   "source": [
    "numbers[2]=222\n",
    "numbers"
   ]
  },
  {
   "cell_type": "code",
   "execution_count": 272,
   "metadata": {
    "ExecuteTime": {
     "end_time": "2021-02-23T04:22:32.110990Z",
     "start_time": "2021-02-23T04:22:32.106004Z"
    }
   },
   "outputs": [
    {
     "data": {
      "text/plain": [
       "[111, 111, 111, 111, 111, 222, 3, 4, 5, 6, 7, 8, 9]"
      ]
     },
     "execution_count": 272,
     "metadata": {},
     "output_type": "execute_result"
    }
   ],
   "source": [
    "# 부분리스트를 통쨰로 바꿈(by없이 슬라이싱)\n",
    "numbers[0:2]=[111,111,111,111,111] \n",
    "numbers"
   ]
  },
  {
   "cell_type": "code",
   "execution_count": 273,
   "metadata": {
    "ExecuteTime": {
     "end_time": "2021-02-23T04:22:33.711258Z",
     "start_time": "2021-02-23T04:22:33.707275Z"
    }
   },
   "outputs": [
    {
     "data": {
      "text/plain": [
       "[5, 6, 7, 8, 9, 5, 6, 7, 8, 9]"
      ]
     },
     "execution_count": 273,
     "metadata": {},
     "output_type": "execute_result"
    }
   ],
   "source": [
    "numbers=[0,1,2,3,4,5,6,7,8,9]\n",
    "numbers[0:5]=numbers[5:]\n",
    "numbers"
   ]
  },
  {
   "cell_type": "code",
   "execution_count": 275,
   "metadata": {
    "ExecuteTime": {
     "end_time": "2021-02-23T04:22:44.526476Z",
     "start_time": "2021-02-23T04:22:44.522511Z"
    }
   },
   "outputs": [
    {
     "name": "stdout",
     "output_type": "stream",
     "text": [
      "수정전: [0, 0, 0, 0, 0, 0, 0, 0, 0, 0]\n",
      "수정후: [99, 0, 99, 0, 99, 0, 99, 0, 99, 0]\n"
     ]
    }
   ],
   "source": [
    "#슬라이싱에서 by를 추가 \n",
    "numbers = [0]*10\n",
    "print('수정전:',numbers)\n",
    "numbers[::2]=[99,99,99,99,99]\n",
    "print('수정후:',numbers)"
   ]
  },
  {
   "cell_type": "code",
   "execution_count": null,
   "metadata": {},
   "outputs": [],
   "source": [
    "#슬라이싱에서 by가 포함될 경우 바꾸려는 값의 갯수가 맞아야함 (즉 1:1맞춤)\n",
    "numbers[::2]=[11,11,11]"
   ]
  },
  {
   "cell_type": "markdown",
   "metadata": {},
   "source": [
    "## 1.7삭제하기\n",
    "    -pop() : 가장 마지막 요소가 반환되고 삭제. pop(n): n번쨰 요소가 반환되고 삭제\n",
    "    -remove() : remove(data)해당 데이터가 삭제\n",
    "    -del() xx[n]"
   ]
  },
  {
   "cell_type": "code",
   "execution_count": 20,
   "metadata": {
    "ExecuteTime": {
     "end_time": "2021-02-23T00:48:47.546470Z",
     "start_time": "2021-02-23T00:48:47.542508Z"
    }
   },
   "outputs": [
    {
     "name": "stdout",
     "output_type": "stream",
     "text": [
      "[0, 1, 2, 3, 4, 5, 6, 7, 8, 9]\n",
      "9\n",
      "[0, 1, 2, 3, 4, 5, 6, 7, 8]\n"
     ]
    }
   ],
   "source": [
    "numbers=[0,1,2,3,4,5,6,7,8,9]\n",
    "print(numbers)\n",
    "print(numbers.pop())\n",
    "print(numbers)"
   ]
  },
  {
   "cell_type": "code",
   "execution_count": 21,
   "metadata": {
    "ExecuteTime": {
     "end_time": "2021-02-23T00:49:37.279816Z",
     "start_time": "2021-02-23T00:49:37.264193Z"
    }
   },
   "outputs": [
    {
     "name": "stdout",
     "output_type": "stream",
     "text": [
      "2\n",
      "[0, 1, 3, 4, 5, 6, 7, 8]\n"
     ]
    }
   ],
   "source": [
    "print(numbers.pop(2))#반환되고 인덱스 삭제 \n",
    "print(numbers)"
   ]
  },
  {
   "cell_type": "code",
   "execution_count": 22,
   "metadata": {
    "ExecuteTime": {
     "end_time": "2021-02-23T00:51:35.140432Z",
     "start_time": "2021-02-23T00:51:35.136466Z"
    }
   },
   "outputs": [
    {
     "name": "stdout",
     "output_type": "stream",
     "text": [
      "pop전 [[1, 2, 3], [10, 20, 30], [100, 100, 100]]\n",
      "[100, 100, 100]\n",
      "pop후 [[1, 2, 3], [10, 20, 30]]\n"
     ]
    }
   ],
   "source": [
    "numbers_2d=[[1,2,3],[10,20,30],[100,100,100]]\n",
    "print('pop전',numbers_2d)\n",
    "print(numbers_2d.pop())\n",
    "print('pop후',numbers_2d)"
   ]
  },
  {
   "cell_type": "code",
   "execution_count": 30,
   "metadata": {
    "ExecuteTime": {
     "end_time": "2021-02-23T00:55:31.712905Z",
     "start_time": "2021-02-23T00:55:31.697422Z"
    }
   },
   "outputs": [
    {
     "name": "stdout",
     "output_type": "stream",
     "text": [
      "[0, 1, 3, 4, 6, 7, 8, 9]\n"
     ]
    }
   ],
   "source": [
    "numbers = [0,1,3,4,5,6,7,8,9]\n",
    "numbers.remove(5) #해당 데이터 삭제 / pop()과 다르게 반환 값이 없음\n",
    "print(numbers)"
   ]
  },
  {
   "cell_type": "code",
   "execution_count": 24,
   "metadata": {
    "ExecuteTime": {
     "end_time": "2021-02-23T00:53:44.104340Z",
     "start_time": "2021-02-23T00:53:43.903630Z"
    }
   },
   "outputs": [
    {
     "ename": "ValueError",
     "evalue": "list.remove(x): x not in list",
     "output_type": "error",
     "traceback": [
      "\u001b[1;31m---------------------------------------------------------------------------\u001b[0m",
      "\u001b[1;31mValueError\u001b[0m                                Traceback (most recent call last)",
      "\u001b[1;32m<ipython-input-24-6fb5a74b600e>\u001b[0m in \u001b[0;36m<module>\u001b[1;34m\u001b[0m\n\u001b[1;32m----> 1\u001b[1;33m \u001b[0mnumbers\u001b[0m\u001b[1;33m.\u001b[0m\u001b[0mremove\u001b[0m\u001b[1;33m(\u001b[0m\u001b[1;36m99\u001b[0m\u001b[1;33m)\u001b[0m \u001b[1;31m#없는 값을 remove할 경우 error\u001b[0m\u001b[1;33m\u001b[0m\u001b[1;33m\u001b[0m\u001b[0m\n\u001b[0m",
      "\u001b[1;31mValueError\u001b[0m: list.remove(x): x not in list"
     ]
    }
   ],
   "source": [
    "numbers.remove(99) #없는 값을 remove할 경우 error"
   ]
  },
  {
   "cell_type": "code",
   "execution_count": 31,
   "metadata": {
    "ExecuteTime": {
     "end_time": "2021-02-23T00:55:33.628387Z",
     "start_time": "2021-02-23T00:55:33.612764Z"
    }
   },
   "outputs": [
    {
     "name": "stdout",
     "output_type": "stream",
     "text": [
      "[0, 1, 3, 4, 6, 7, 8, 9]\n",
      "[0, 1, 4, 6, 7, 8, 9]\n"
     ]
    }
   ],
   "source": [
    "print(numbers)\n",
    "del numbers[2] #변수삭제\n",
    "print(numbers)"
   ]
  },
  {
   "cell_type": "code",
   "execution_count": 32,
   "metadata": {
    "ExecuteTime": {
     "end_time": "2021-02-23T00:55:40.061984Z",
     "start_time": "2021-02-23T00:55:40.046334Z"
    }
   },
   "outputs": [
    {
     "ename": "NameError",
     "evalue": "name 'numbers' is not defined",
     "output_type": "error",
     "traceback": [
      "\u001b[1;31m---------------------------------------------------------------------------\u001b[0m",
      "\u001b[1;31mNameError\u001b[0m                                 Traceback (most recent call last)",
      "\u001b[1;32m<ipython-input-32-ace1044fa32e>\u001b[0m in \u001b[0;36m<module>\u001b[1;34m\u001b[0m\n\u001b[0;32m      1\u001b[0m \u001b[1;32mdel\u001b[0m \u001b[0mnumbers\u001b[0m\u001b[1;33m\u001b[0m\u001b[1;33m\u001b[0m\u001b[0m\n\u001b[1;32m----> 2\u001b[1;33m \u001b[0mnumbers\u001b[0m\u001b[1;33m\u001b[0m\u001b[1;33m\u001b[0m\u001b[0m\n\u001b[0m",
      "\u001b[1;31mNameError\u001b[0m: name 'numbers' is not defined"
     ]
    }
   ],
   "source": [
    "del numbers\n",
    "numbers"
   ]
  },
  {
   "cell_type": "code",
   "execution_count": 36,
   "metadata": {
    "ExecuteTime": {
     "end_time": "2021-02-23T00:57:12.621056Z",
     "start_time": "2021-02-23T00:57:12.617061Z"
    }
   },
   "outputs": [
    {
     "name": "stdout",
     "output_type": "stream",
     "text": [
      "clear전: [0, 1, 2, 3, 4]\n",
      "clear후: []\n"
     ]
    }
   ],
   "source": [
    "numbers=[0,1,2,3,4]\n",
    "print('clear전:',numbers)\n",
    "numbers.clear()\n",
    "#del numbers[:]\n",
    "print('clear후:',numbers)"
   ]
  },
  {
   "cell_type": "markdown",
   "metadata": {},
   "source": [
    "## 1.8정렬하기"
   ]
  },
  {
   "cell_type": "code",
   "execution_count": 39,
   "metadata": {
    "ExecuteTime": {
     "end_time": "2021-02-23T00:59:16.777310Z",
     "start_time": "2021-02-23T00:59:16.772322Z"
    }
   },
   "outputs": [
    {
     "data": {
      "text/plain": [
       "[9, 8, 6, 5, 4, 2, 1, 0]"
      ]
     },
     "execution_count": 39,
     "metadata": {},
     "output_type": "execute_result"
    }
   ],
   "source": [
    "numbers = [9,5,1,0,6,4,2,8]\n",
    "numbers.sort() # 기본 정렬 오름차순. sort()실행  후 리스트가 바뀜\n",
    "numbers[::-1] # 내림차순처럼 보이나 numbers 내림차순으로 정렬된 것으로 저장되지 않았음 "
   ]
  },
  {
   "cell_type": "code",
   "execution_count": 41,
   "metadata": {
    "ExecuteTime": {
     "end_time": "2021-02-23T01:01:41.510887Z",
     "start_time": "2021-02-23T01:01:41.506878Z"
    }
   },
   "outputs": [
    {
     "data": {
      "text/plain": [
       "[9, 8, 6, 5, 4, 2, 1, 0]"
      ]
     },
     "execution_count": 41,
     "metadata": {},
     "output_type": "execute_result"
    }
   ],
   "source": [
    "numbers.sort(reverse=True)\n",
    "numbers"
   ]
  },
  {
   "cell_type": "code",
   "execution_count": null,
   "metadata": {},
   "outputs": [],
   "source": [
    "numbers.reverse()#리스트를 역순으로 변경\n",
    "numbers"
   ]
  },
  {
   "cell_type": "code",
   "execution_count": null,
   "metadata": {},
   "outputs": [],
   "source": [
    "numbers=numbers[::-1]#reverse()함수와 같은 명령 \n",
    "numbers"
   ]
  },
  {
   "cell_type": "markdown",
   "metadata": {},
   "source": [
    "## 1.9 리스트 복제"
   ]
  },
  {
   "cell_type": "code",
   "execution_count": 45,
   "metadata": {
    "ExecuteTime": {
     "end_time": "2021-02-23T01:14:39.698678Z",
     "start_time": "2021-02-23T01:14:39.693690Z"
    }
   },
   "outputs": [
    {
     "name": "stdout",
     "output_type": "stream",
     "text": [
      "정렬전 데이터 [2, 4, 6, 7, 10]\n",
      "정렬후 데이터 [2, 4, 6, 7, 10]\n",
      "new_numbers주소: 2429465131648\n",
      "numbers주소: 2429465131648\n"
     ]
    }
   ],
   "source": [
    "numbers=[6,2,7,4,10]\n",
    "new_numbers=numbers # 정렬전 데이터를 new_numbers 로 \n",
    "numbers.sort() #numbers는 정렬된 데이터로 \n",
    "print('정렬전 데이터',new_numbers)\n",
    "print('정렬후 데이터',numbers)\n",
    "print('new_numbers주소:',id(new_numbers))\n",
    "print('numbers주소:',id(numbers))\n",
    "# 복제 되지 않고 numbers와 new_numbers는 객체를 참조하기 떄문에 복제가 되지 않았음 "
   ]
  },
  {
   "cell_type": "code",
   "execution_count": 46,
   "metadata": {
    "ExecuteTime": {
     "end_time": "2021-02-23T01:14:46.652296Z",
     "start_time": "2021-02-23T01:14:46.648306Z"
    }
   },
   "outputs": [
    {
     "name": "stdout",
     "output_type": "stream",
     "text": [
      "정렬전 데이터 [6, 2, 7, 4, 10]\n",
      "정렬후 데이터 [2, 4, 6, 7, 10]\n",
      "new_numbers주소: 2429465141632\n",
      "numbers주소: 2429465141824\n"
     ]
    }
   ],
   "source": [
    "#복제\n",
    "numbers=[6,2,7,4,10]\n",
    "new_numbers=numbers.copy() # new_number에 number데이터를 복제\n",
    "numbers.sort() \n",
    "print('정렬전 데이터',new_numbers)\n",
    "print('정렬후 데이터',numbers)\n",
    "print('new_numbers주소:',id(new_numbers))\n",
    "print('numbers주소:',id(numbers))"
   ]
  },
  {
   "cell_type": "code",
   "execution_count": 56,
   "metadata": {
    "ExecuteTime": {
     "end_time": "2021-02-23T01:19:07.163052Z",
     "start_time": "2021-02-23T01:19:07.159062Z"
    }
   },
   "outputs": [
    {
     "name": "stdout",
     "output_type": "stream",
     "text": [
      "['광주', '대구', '부산', '서울', '울산', '인천']\n",
      "광주 대구 부산 서울 울산 인천\n"
     ]
    }
   ],
   "source": [
    "city=['서울','부산','대구','인천','광주','울산']\n",
    "city.sort()\n",
    "print(city)\n",
    "print(' '.join(city))"
   ]
  },
  {
   "cell_type": "markdown",
   "metadata": {
    "ExecuteTime": {
     "end_time": "2021-02-23T01:18:08.398171Z",
     "start_time": "2021-02-23T01:18:08.391169Z"
    }
   },
   "source": [
    "# 2절 . 튜블\n",
    " - 리스트와 유사하지만, 읽기 전용. 수정이 필요없는 데이터타입에서 사용 \n",
    " - 수정이 불가하므로 튜블에 데이터 추가, 수정 ,삭제 불가. 제공되는 함수도 많지 않음\n",
    " - ()이용해서 생성. tupple()"
   ]
  },
  {
   "cell_type": "code",
   "execution_count": 57,
   "metadata": {
    "ExecuteTime": {
     "end_time": "2021-02-23T01:22:01.683868Z",
     "start_time": "2021-02-23T01:22:01.679883Z"
    }
   },
   "outputs": [
    {
     "data": {
      "text/plain": [
       "tuple"
      ]
     },
     "execution_count": 57,
     "metadata": {},
     "output_type": "execute_result"
    }
   ],
   "source": [
    "city = ('서울','부산','인천','대구','대전')\n",
    "type(city)"
   ]
  },
  {
   "cell_type": "code",
   "execution_count": 58,
   "metadata": {
    "ExecuteTime": {
     "end_time": "2021-02-23T01:22:22.370006Z",
     "start_time": "2021-02-23T01:22:22.366016Z"
    }
   },
   "outputs": [
    {
     "data": {
      "text/plain": [
       "'서울-부산-인천-대구-대전'"
      ]
     },
     "execution_count": 58,
     "metadata": {},
     "output_type": "execute_result"
    }
   ],
   "source": [
    "'-'.join(city)"
   ]
  },
  {
   "cell_type": "code",
   "execution_count": 63,
   "metadata": {
    "ExecuteTime": {
     "end_time": "2021-02-23T01:24:23.494731Z",
     "start_time": "2021-02-23T01:24:23.490768Z"
    }
   },
   "outputs": [
    {
     "name": "stdout",
     "output_type": "stream",
     "text": [
      "<class 'list'>\n",
      "['서울']\n"
     ]
    }
   ],
   "source": [
    "l=['서울']# 요소가 하나 있는 리스트\n",
    "print(type(l))\n",
    "print(l)"
   ]
  },
  {
   "cell_type": "code",
   "execution_count": 65,
   "metadata": {
    "ExecuteTime": {
     "end_time": "2021-02-23T01:24:48.751464Z",
     "start_time": "2021-02-23T01:24:48.747465Z"
    }
   },
   "outputs": [
    {
     "name": "stdout",
     "output_type": "stream",
     "text": [
      "<class 'str'>\n",
      "서울\n"
     ]
    }
   ],
   "source": [
    "l=('서울')# 요소가 하나 있는 튜블(x)\n",
    "print(type(l))\n",
    "print(l)"
   ]
  },
  {
   "cell_type": "code",
   "execution_count": 66,
   "metadata": {
    "ExecuteTime": {
     "end_time": "2021-02-23T01:25:10.951276Z",
     "start_time": "2021-02-23T01:25:10.947286Z"
    }
   },
   "outputs": [
    {
     "name": "stdout",
     "output_type": "stream",
     "text": [
      "<class 'tuple'>\n",
      "('서울',)\n"
     ]
    }
   ],
   "source": [
    "l=('서울',)# 요소가 하나 있는 튜블(o)\n",
    "print(type(l))\n",
    "print(l)"
   ]
  },
  {
   "cell_type": "code",
   "execution_count": 67,
   "metadata": {
    "ExecuteTime": {
     "end_time": "2021-02-23T01:41:05.204830Z",
     "start_time": "2021-02-23T01:41:05.189181Z"
    }
   },
   "outputs": [
    {
     "data": {
      "text/plain": [
       "tuple"
      ]
     },
     "execution_count": 67,
     "metadata": {},
     "output_type": "execute_result"
    }
   ],
   "source": [
    "numbers= 1,2,3 # 여러개 값이 나열될 떄는 자동적으로 튜블로 처리\n",
    "type(numbers)\n",
    "numbers[0:5]=numbers[5:]"
   ]
  },
  {
   "cell_type": "code",
   "execution_count": 74,
   "metadata": {
    "ExecuteTime": {
     "end_time": "2021-02-23T01:43:36.474517Z",
     "start_time": "2021-02-23T01:43:36.470547Z"
    }
   },
   "outputs": [
    {
     "data": {
      "text/plain": [
       "(1, 3, 3)"
      ]
     },
     "execution_count": 74,
     "metadata": {},
     "output_type": "execute_result"
    }
   ],
   "source": [
    "min(numbers),max(numbers),len(numbers)"
   ]
  },
  {
   "cell_type": "code",
   "execution_count": 75,
   "metadata": {
    "ExecuteTime": {
     "end_time": "2021-02-23T01:44:16.386101Z",
     "start_time": "2021-02-23T01:44:16.381115Z"
    }
   },
   "outputs": [
    {
     "data": {
      "text/plain": [
       "2"
      ]
     },
     "execution_count": 75,
     "metadata": {},
     "output_type": "execute_result"
    }
   ],
   "source": [
    "numbers=1,2,1,2,3\n",
    "numbers.count(2)"
   ]
  },
  {
   "cell_type": "code",
   "execution_count": 76,
   "metadata": {
    "ExecuteTime": {
     "end_time": "2021-02-23T01:44:36.937449Z",
     "start_time": "2021-02-23T01:44:36.921826Z"
    }
   },
   "outputs": [
    {
     "data": {
      "text/plain": [
       "4"
      ]
     },
     "execution_count": 76,
     "metadata": {},
     "output_type": "execute_result"
    }
   ],
   "source": [
    "numbers.index(3) #3인덱스의 값을 반환"
   ]
  },
  {
   "cell_type": "code",
   "execution_count": 81,
   "metadata": {
    "ExecuteTime": {
     "end_time": "2021-02-23T01:47:12.251718Z",
     "start_time": "2021-02-23T01:47:12.247728Z"
    }
   },
   "outputs": [
    {
     "name": "stdout",
     "output_type": "stream",
     "text": [
      "(5, 6)\n",
      "((5, 6), 4, 3, 2, 1, 0)\n",
      "((5, 6), 4, 3, 2)\n",
      "((5, 6),)\n"
     ]
    }
   ],
   "source": [
    "data=(0,1,2,3,4,(5,6))\n",
    "print(data[5])\n",
    "print(data[::-1])\n",
    "print(data[-1:-5:-1])\n",
    "print(data[5:9:2])#리스트와 같이 에러 발생하지 않음\n",
    "#print(data.index(9))#에러 발생"
   ]
  },
  {
   "cell_type": "code",
   "execution_count": 84,
   "metadata": {
    "ExecuteTime": {
     "end_time": "2021-02-23T01:48:43.858985Z",
     "start_time": "2021-02-23T01:48:43.853026Z"
    }
   },
   "outputs": [
    {
     "data": {
      "text/plain": [
       "((100, 2, 3), (10, 20, 30), 2)"
      ]
     },
     "execution_count": 84,
     "metadata": {},
     "output_type": "execute_result"
    }
   ],
   "source": [
    "data=((100,2,3),(10,20,30))\n",
    "max(data),min(data),len(data)"
   ]
  },
  {
   "cell_type": "code",
   "execution_count": 85,
   "metadata": {
    "ExecuteTime": {
     "end_time": "2021-02-23T01:48:49.587668Z",
     "start_time": "2021-02-23T01:48:49.570895Z"
    }
   },
   "outputs": [
    {
     "data": {
      "text/plain": [
       "((100, 2, 3), (10, 20, 30), (100, 2, 3), (10, 20, 30))"
      ]
     },
     "execution_count": 85,
     "metadata": {},
     "output_type": "execute_result"
    }
   ],
   "source": [
    "data+data"
   ]
  },
  {
   "cell_type": "code",
   "execution_count": 88,
   "metadata": {
    "ExecuteTime": {
     "end_time": "2021-02-23T01:50:36.998636Z",
     "start_time": "2021-02-23T01:50:36.995644Z"
    }
   },
   "outputs": [
    {
     "name": "stdout",
     "output_type": "stream",
     "text": [
      "('서울', 2, True, '서울', 2, True, '서울', 2, True)\n"
     ]
    }
   ],
   "source": [
    "data=('서울',2,True)\n",
    "print(data*3)\n",
    "del data\n"
   ]
  },
  {
   "cell_type": "markdown",
   "metadata": {},
   "source": [
    "# 3절.딕션너리\n",
    "    cf.자바에서의 hashMap\n",
    "- 중괄호({})를 이용해서 딕셔너리 생성. 키(key)-값(value)의 쌍으로 구성된 자료구조\n",
    "- 키는 유일한 값(중복허용안함). 키에 리스트는 사용 불가. 키는 튜블은 사용 가능\n",
    "- 값은 중복가능. 모든 데이터 타입이 가능 \n",
    "- 없는 키의 값을 참조하면 에러발생 \n",
    "- 인덱스를 이용한 참조는 지원안함"
   ]
  },
  {
   "cell_type": "code",
   "execution_count": 90,
   "metadata": {
    "ExecuteTime": {
     "end_time": "2021-02-23T01:56:35.018414Z",
     "start_time": "2021-02-23T01:56:35.013447Z"
    }
   },
   "outputs": [
    {
     "name": "stdout",
     "output_type": "stream",
     "text": [
      "<class 'dict'>\n",
      "2\n"
     ]
    }
   ],
   "source": [
    "dic = {'key1':'value',\n",
    "       'key2':'value'}\n",
    "print(type(dic))\n",
    "print(len(dic))#데이터 구조의 요소의 갯수"
   ]
  },
  {
   "cell_type": "code",
   "execution_count": 91,
   "metadata": {
    "ExecuteTime": {
     "end_time": "2021-02-23T01:57:30.669318Z",
     "start_time": "2021-02-23T01:57:30.652588Z"
    }
   },
   "outputs": [
    {
     "data": {
      "text/plain": [
       "{'fruit': 'apple', 'number': 1, 'sport': 'golf'}"
      ]
     },
     "execution_count": 91,
     "metadata": {},
     "output_type": "execute_result"
    }
   ],
   "source": [
    "my_favorite = {'fruit':'apple','number':1,'sport':'golf'}\n",
    "my_favorite"
   ]
  },
  {
   "cell_type": "code",
   "execution_count": 96,
   "metadata": {
    "ExecuteTime": {
     "end_time": "2021-02-23T01:59:43.783053Z",
     "start_time": "2021-02-23T01:59:43.780062Z"
    }
   },
   "outputs": [
    {
     "name": "stdout",
     "output_type": "stream",
     "text": [
      "1\n",
      "apple\n"
     ]
    }
   ],
   "source": [
    "#my_favorite[0]#인덱스를 이용한 참조는 자원 안함! \n",
    "print(my_favorite.get('number'))\n",
    "print(my_favorite['fruit'])\n",
    "#print(my_favorite['people'])# 키목록에 없는 데이터 참조시 에러~ ! "
   ]
  },
  {
   "cell_type": "code",
   "execution_count": 97,
   "metadata": {
    "ExecuteTime": {
     "end_time": "2021-02-23T02:00:48.597988Z",
     "start_time": "2021-02-23T02:00:48.593023Z"
    }
   },
   "outputs": [
    {
     "data": {
      "text/plain": [
       "{'fruit': 'banana', 'number': 1, 'sport': 'golf'}"
      ]
     },
     "execution_count": 97,
     "metadata": {},
     "output_type": "execute_result"
    }
   ],
   "source": [
    "my_favorite = {'fruit':'apple','number':1,'sport':'golf'}\n",
    "my_favorite['fruit']='banana'\n",
    "my_favorite"
   ]
  },
  {
   "cell_type": "code",
   "execution_count": 102,
   "metadata": {
    "ExecuteTime": {
     "end_time": "2021-02-23T02:07:26.976294Z",
     "start_time": "2021-02-23T02:07:26.972305Z"
    }
   },
   "outputs": [
    {
     "data": {
      "text/plain": [
       "{1: 'Hello', 2: 'World', 3: 'Python'}"
      ]
     },
     "execution_count": 102,
     "metadata": {},
     "output_type": "execute_result"
    }
   ],
   "source": [
    "# 키 : 문자,숫자,튜플 .중복불가\n",
    "# 값 : 모든 문자 타입 .중복가능\n",
    "my_dict1={1:'Hello',2:'World',3:'Python'}\n",
    "my_dict1\n"
   ]
  },
  {
   "cell_type": "code",
   "execution_count": 108,
   "metadata": {
    "ExecuteTime": {
     "end_time": "2021-02-23T02:08:03.741552Z",
     "start_time": "2021-02-23T02:08:03.736565Z"
    }
   },
   "outputs": [
    {
     "data": {
      "text/plain": [
       "['python', 'hadoop']"
      ]
     },
     "execution_count": 108,
     "metadata": {},
     "output_type": "execute_result"
    }
   ],
   "source": [
    "my_dict1['people']=['홍길동','홀길순']# my_dict1에 요소추가 \n",
    "my_dict1['study']=['python','hadoop']#추가\n",
    "\n",
    "#my_dict1.append({'people':['홍길동','홍길순']})\n",
    "my_dict1['study']"
   ]
  },
  {
   "cell_type": "code",
   "execution_count": 111,
   "metadata": {
    "ExecuteTime": {
     "end_time": "2021-02-23T02:08:32.903896Z",
     "start_time": "2021-02-23T02:08:32.899822Z"
    }
   },
   "outputs": [
    {
     "data": {
      "text/plain": [
       "{1: 'Hello', 2: 'World', 3: 'Python', 'people': ['홍길동', '홀길순']}"
      ]
     },
     "execution_count": 111,
     "metadata": {},
     "output_type": "execute_result"
    }
   ],
   "source": [
    "del my_dict1['study']\n",
    "my_dict1"
   ]
  },
  {
   "cell_type": "code",
   "execution_count": 112,
   "metadata": {
    "ExecuteTime": {
     "end_time": "2021-02-23T02:09:48.976804Z",
     "start_time": "2021-02-23T02:09:48.971818Z"
    }
   },
   "outputs": [
    {
     "data": {
      "text/plain": [
       "{'name': 'KilDong', 'age': 30}"
      ]
     },
     "execution_count": 112,
     "metadata": {},
     "output_type": "execute_result"
    }
   ],
   "source": [
    "my_dict2={'name':'Hong','name':'KilDong','age':30}\n",
    "my_dict2"
   ]
  },
  {
   "cell_type": "code",
   "execution_count": 113,
   "metadata": {
    "ExecuteTime": {
     "end_time": "2021-02-23T02:11:09.149709Z",
     "start_time": "2021-02-23T02:11:09.144723Z"
    }
   },
   "outputs": [
    {
     "data": {
      "text/plain": [
       "{1: 'World', False: 'Hadoop'}"
      ]
     },
     "execution_count": 113,
     "metadata": {},
     "output_type": "execute_result"
    }
   ],
   "source": [
    "# 키목록에 Trye와 1은 같은 키으로 간주. False와 0은 같은 키로 간주 \n",
    "my_dict3={1:'Hello',True:'World',False:'Python',0:'Hadoop'}\n",
    "my_dict3"
   ]
  },
  {
   "cell_type": "code",
   "execution_count": 124,
   "metadata": {
    "ExecuteTime": {
     "end_time": "2021-02-23T02:18:51.964942Z",
     "start_time": "2021-02-23T02:18:51.959981Z"
    }
   },
   "outputs": [
    {
     "name": "stdout",
     "output_type": "stream",
     "text": [
      "홍길동\t25\t010-9999-9999\t\n",
      "0번쨰 데이터 홍길동\n",
      "1번쨰 데이터 25\n",
      "2번쨰 데이터 010-9999-9999\n"
     ]
    }
   ],
   "source": [
    "my_dic={'name':'홍길동','age':25,'tel':'010-9999-9999'}\n",
    "my_list=['홍길동',25,'010-9999-9999']\n",
    "my_tupple =('홍길동',25,'010-9999-9999')\n",
    "for date in my_tubble:\n",
    "    print(date,end='\\t')\n",
    "print()\n",
    "for idx in range(len(my_list)):\n",
    "    print(\"{}번쨰 데이터 {}\".format(idx,my_tupple[idx],end='\\t'))"
   ]
  },
  {
   "cell_type": "code",
   "execution_count": 126,
   "metadata": {
    "ExecuteTime": {
     "end_time": "2021-02-23T02:19:53.132345Z",
     "start_time": "2021-02-23T02:19:53.116698Z"
    }
   },
   "outputs": [
    {
     "name": "stdout",
     "output_type": "stream",
     "text": [
      "name\tage\ttel\t"
     ]
    }
   ],
   "source": [
    "my_dic={'name':'홍길동','age':25,'tel':'010-9999-9999'}\n",
    "for data in my_dic:\n",
    "    print(data,end='\\t')"
   ]
  },
  {
   "cell_type": "code",
   "execution_count": 127,
   "metadata": {
    "ExecuteTime": {
     "end_time": "2021-02-23T02:20:10.857458Z",
     "start_time": "2021-02-23T02:20:10.853495Z"
    }
   },
   "outputs": [
    {
     "data": {
      "text/plain": [
       "dict_keys(['name', 'age', 'tel'])"
      ]
     },
     "execution_count": 127,
     "metadata": {},
     "output_type": "execute_result"
    }
   ],
   "source": [
    "my_dic.keys() #키목록"
   ]
  },
  {
   "cell_type": "code",
   "execution_count": 128,
   "metadata": {
    "ExecuteTime": {
     "end_time": "2021-02-23T02:20:42.557139Z",
     "start_time": "2021-02-23T02:20:42.552178Z"
    }
   },
   "outputs": [
    {
     "data": {
      "text/plain": [
       "dict_values(['홍길동', 25, '010-9999-9999'])"
      ]
     },
     "execution_count": 128,
     "metadata": {},
     "output_type": "execute_result"
    }
   ],
   "source": [
    "my_dic.values() #값들만 "
   ]
  },
  {
   "cell_type": "code",
   "execution_count": 129,
   "metadata": {
    "ExecuteTime": {
     "end_time": "2021-02-23T02:21:06.019144Z",
     "start_time": "2021-02-23T02:21:06.014157Z"
    }
   },
   "outputs": [
    {
     "data": {
      "text/plain": [
       "dict_items([('name', '홍길동'), ('age', 25), ('tel', '010-9999-9999')])"
      ]
     },
     "execution_count": 129,
     "metadata": {},
     "output_type": "execute_result"
    }
   ],
   "source": [
    "my_dic.items()# 튜플로 이루어진(키,값)들 "
   ]
  },
  {
   "cell_type": "code",
   "execution_count": 132,
   "metadata": {
    "ExecuteTime": {
     "end_time": "2021-02-23T02:34:41.809212Z",
     "start_time": "2021-02-23T02:34:41.805228Z"
    }
   },
   "outputs": [
    {
     "name": "stdout",
     "output_type": "stream",
     "text": [
      "name\tage\ttel\t"
     ]
    }
   ],
   "source": [
    "for key in my_dic:\n",
    "    print(key,end='\\t')"
   ]
  },
  {
   "cell_type": "code",
   "execution_count": 133,
   "metadata": {
    "ExecuteTime": {
     "end_time": "2021-02-23T02:34:53.919708Z",
     "start_time": "2021-02-23T02:34:53.915712Z"
    }
   },
   "outputs": [
    {
     "name": "stdout",
     "output_type": "stream",
     "text": [
      "name\tage\ttel\t"
     ]
    }
   ],
   "source": [
    "for key in my_dic.keys():\n",
    "    print(key,end='\\t')"
   ]
  },
  {
   "cell_type": "code",
   "execution_count": 137,
   "metadata": {
    "ExecuteTime": {
     "end_time": "2021-02-23T02:36:14.372026Z",
     "start_time": "2021-02-23T02:36:14.368037Z"
    }
   },
   "outputs": [
    {
     "name": "stdout",
     "output_type": "stream",
     "text": [
      "홍길동\t25\t010-9999-9999\t"
     ]
    }
   ],
   "source": [
    "for value in my_dic.values():\n",
    "    print(value,end='\\t')"
   ]
  },
  {
   "cell_type": "code",
   "execution_count": 138,
   "metadata": {
    "ExecuteTime": {
     "end_time": "2021-02-23T02:36:16.180355Z",
     "start_time": "2021-02-23T02:36:16.176366Z"
    }
   },
   "outputs": [
    {
     "name": "stdout",
     "output_type": "stream",
     "text": [
      "('name', '홍길동')\t('age', 25)\t('tel', '010-9999-9999')\t"
     ]
    }
   ],
   "source": [
    "for item in my_dic.items():\n",
    "    print(item,end='\\t')"
   ]
  },
  {
   "cell_type": "code",
   "execution_count": 139,
   "metadata": {
    "ExecuteTime": {
     "end_time": "2021-02-23T02:37:40.962540Z",
     "start_time": "2021-02-23T02:37:40.958549Z"
    }
   },
   "outputs": [
    {
     "name": "stdout",
     "output_type": "stream",
     "text": [
      "name은 홍길동.\tage은 25.\ttel은 010-9999-9999.\t"
     ]
    }
   ],
   "source": [
    "for key,value in my_dic.items():\n",
    "    print(\"{}은 {}.\".format(key,value),end='\\t')"
   ]
  },
  {
   "cell_type": "markdown",
   "metadata": {
    "ExecuteTime": {
     "end_time": "2021-02-23T02:40:07.525284Z",
     "start_time": "2021-02-23T02:40:07.521296Z"
    }
   },
   "source": [
    "**in 연산자** 키가 있는지 여부"
   ]
  },
  {
   "cell_type": "code",
   "execution_count": 142,
   "metadata": {
    "ExecuteTime": {
     "end_time": "2021-02-23T02:41:07.437014Z",
     "start_time": "2021-02-23T02:41:07.432054Z"
    }
   },
   "outputs": [
    {
     "data": {
      "text/plain": [
       "False"
      ]
     },
     "execution_count": 142,
     "metadata": {},
     "output_type": "execute_result"
    }
   ],
   "source": [
    "my_favorite = {'fruit':'apple','number':1,'sport':'golf'}\n",
    "'golf'in my_favorite"
   ]
  },
  {
   "cell_type": "code",
   "execution_count": 143,
   "metadata": {
    "ExecuteTime": {
     "end_time": "2021-02-23T02:41:14.776806Z",
     "start_time": "2021-02-23T02:41:14.772842Z"
    }
   },
   "outputs": [
    {
     "data": {
      "text/plain": [
       "True"
      ]
     },
     "execution_count": 143,
     "metadata": {},
     "output_type": "execute_result"
    }
   ],
   "source": [
    "'sport'in my_favorite"
   ]
  },
  {
   "cell_type": "code",
   "execution_count": 148,
   "metadata": {
    "ExecuteTime": {
     "end_time": "2021-02-23T02:48:29.527688Z",
     "start_time": "2021-02-23T02:48:29.512040Z"
    },
    "scrolled": false
   },
   "outputs": [
    {
     "ename": "SyntaxError",
     "evalue": "invalid syntax (<ipython-input-148-d195ef297d41>, line 13)",
     "output_type": "error",
     "traceback": [
      "\u001b[1;36m  File \u001b[1;32m\"<ipython-input-148-d195ef297d41>\"\u001b[1;36m, line \u001b[1;32m13\u001b[0m\n\u001b[1;33m    executed in 4ms, finished 11:43:43 2021-02-23\u001b[0m\n\u001b[1;37m                 ^\u001b[0m\n\u001b[1;31mSyntaxError\u001b[0m\u001b[1;31m:\u001b[0m invalid syntax\n"
     ]
    }
   ],
   "source": [
    "my_favorite\n",
    "# 할당\n",
    "new_my_favorite = my_favorite\n",
    "print('new_my_favorite : ', new_my_favorite)\n",
    "print('my_favorite : ', my_favorite)"
   ]
  },
  {
   "cell_type": "code",
   "execution_count": 149,
   "metadata": {
    "ExecuteTime": {
     "end_time": "2021-02-23T02:48:39.776895Z",
     "start_time": "2021-02-23T02:48:39.761249Z"
    },
    "scrolled": false
   },
   "outputs": [
    {
     "name": "stdout",
     "output_type": "stream",
     "text": [
      "new_my_favorite: {'fruit': 'apple', 'number': ' 좋습니다', 'sport': 'golf'}\n",
      "my_favorite {'fruit': 'apple', 'number': ' 좋습니다', 'sport': 'golf'}\n",
      "new_my_favorite 주소: 2429501193344\n",
      "my_favorite 주소 2429501193344\n"
     ]
    }
   ],
   "source": [
    "my_favorite['number'] = '다 좋아'\n",
    "print('new_my_favorite : ', new_my_favorite)\n",
    "print('my_favorite : ', my_favorite)\n",
    "print('new_my_favorite 주소 :', id(new_my_favorite))\n",
    "print('my_favorite 주소 :', id(my_favorite))"
   ]
  },
  {
   "cell_type": "code",
   "execution_count": 145,
   "metadata": {
    "ExecuteTime": {
     "end_time": "2021-02-23T02:43:43.313255Z",
     "start_time": "2021-02-23T02:43:43.309266Z"
    },
    "scrolled": false
   },
   "outputs": [
    {
     "name": "stdout",
     "output_type": "stream",
     "text": [
      "new_my_favorite: {'fruit': 'apple', 'number': 1, 'sport': 'golf'}\n",
      "my_favorite {'fruit': 'apple', 'number': 1, 'sport': 'golf'}\n"
     ]
    }
   ],
   "source": []
  },
  {
   "cell_type": "code",
   "execution_count": 147,
   "metadata": {
    "ExecuteTime": {
     "end_time": "2021-02-23T02:47:16.209900Z",
     "start_time": "2021-02-23T02:47:16.204938Z"
    },
    "scrolled": false
   },
   "outputs": [
    {
     "name": "stdout",
     "output_type": "stream",
     "text": [
      "new_my_favorite: {'fruit': 'apple', 'number': ' 좋습니다', 'sport': 'golf'}\n",
      "my_favorite {'fruit': 'apple', 'number': ' 좋습니다', 'sport': 'golf'}\n",
      "new_my_favorite 주소: 2429501193344\n",
      "my_favorite 주소 2429501193344\n"
     ]
    }
   ],
   "source": [
    "my_favorite\n",
    "# 복제\n",
    "new_my_favorite = my_favorite.copy()\n",
    "print('new_my_favorite : ', new_my_favorite)\n",
    "print('my_favorite : ', my_favorite)"
   ]
  },
  {
   "cell_type": "code",
   "execution_count": null,
   "metadata": {},
   "outputs": [],
   "source": [
    "my_favorite['number'] = 9\n",
    "print('new_my_favorite : ', new_my_favorite)\n",
    "print('my_favorite : ', my_favorite)\n",
    "print('new_my_favorite 주소 :', id(new_my_favorite))\n",
    "print('my_favorite 주소 :', id(my_favorite))"
   ]
  },
  {
   "cell_type": "code",
   "execution_count": null,
   "metadata": {},
   "outputs": [],
   "source": []
  },
  {
   "cell_type": "code",
   "execution_count": null,
   "metadata": {},
   "outputs": [],
   "source": []
  },
  {
   "cell_type": "code",
   "execution_count": null,
   "metadata": {},
   "outputs": [],
   "source": []
  },
  {
   "cell_type": "markdown",
   "metadata": {},
   "source": [
    "# 4절. 셋\n",
    "- 중복 허용하지 않는 집합(순서x)\n",
    "- 중괄호({})나 set()함수를 이용해서 셋 생성\n",
    "    ; set(딕셔너리타입의 변수) 딕셔너리변수의 키만 셋에 추가\n",
    "- 집합연산자 (&:교집합 , |:합집합, -:차집합)\n"
   ]
  },
  {
   "cell_type": "code",
   "execution_count": 184,
   "metadata": {
    "ExecuteTime": {
     "end_time": "2021-02-23T03:22:56.172192Z",
     "start_time": "2021-02-23T03:22:56.155466Z"
    }
   },
   "outputs": [
    {
     "data": {
      "text/plain": [
       "{'apple', 'banana', 'orange'}"
      ]
     },
     "execution_count": 184,
     "metadata": {},
     "output_type": "execute_result"
    }
   ],
   "source": [
    "fruits = {'apple','orange','banana','banana'}\n",
    "fruits"
   ]
  },
  {
   "cell_type": "code",
   "execution_count": 157,
   "metadata": {
    "ExecuteTime": {
     "end_time": "2021-02-23T02:58:07.189765Z",
     "start_time": "2021-02-23T02:58:07.184804Z"
    }
   },
   "outputs": [
    {
     "data": {
      "text/plain": [
       "{1, 2, 3}"
      ]
     },
     "execution_count": 157,
     "metadata": {},
     "output_type": "execute_result"
    }
   ],
   "source": [
    "s1=set((1,2,3,1))\n",
    "s1"
   ]
  },
  {
   "cell_type": "code",
   "execution_count": 158,
   "metadata": {
    "ExecuteTime": {
     "end_time": "2021-02-23T02:58:09.418541Z",
     "start_time": "2021-02-23T02:58:09.414544Z"
    }
   },
   "outputs": [
    {
     "data": {
      "text/plain": [
       "{1, 2, 3, 4}"
      ]
     },
     "execution_count": 158,
     "metadata": {},
     "output_type": "execute_result"
    }
   ],
   "source": [
    "s1.add(4)\n",
    "s1.add(1)\n",
    "s1"
   ]
  },
  {
   "cell_type": "code",
   "execution_count": 161,
   "metadata": {
    "ExecuteTime": {
     "end_time": "2021-02-23T02:58:30.600315Z",
     "start_time": "2021-02-23T02:58:30.595329Z"
    }
   },
   "outputs": [
    {
     "data": {
      "text/plain": [
       "{(5, 6, 7, 8, 9), 1, 2, 3, 4, 5}"
      ]
     },
     "execution_count": 161,
     "metadata": {},
     "output_type": "execute_result"
    }
   ],
   "source": [
    "s1.add((5,6,7,8,9))\n",
    "s1"
   ]
  },
  {
   "cell_type": "code",
   "execution_count": 163,
   "metadata": {
    "ExecuteTime": {
     "end_time": "2021-02-23T02:59:15.750359Z",
     "start_time": "2021-02-23T02:59:15.741384Z"
    }
   },
   "outputs": [
    {
     "ename": "TypeError",
     "evalue": "unhashable type: 'list'",
     "output_type": "error",
     "traceback": [
      "\u001b[1;31m---------------------------------------------------------------------------\u001b[0m",
      "\u001b[1;31mTypeError\u001b[0m                                 Traceback (most recent call last)",
      "\u001b[1;32m<ipython-input-163-02bcd3084dfb>\u001b[0m in \u001b[0;36m<module>\u001b[1;34m\u001b[0m\n\u001b[1;32m----> 1\u001b[1;33m \u001b[0ms1\u001b[0m\u001b[1;33m.\u001b[0m\u001b[0madd\u001b[0m\u001b[1;33m(\u001b[0m\u001b[1;33m[\u001b[0m\u001b[1;36m10\u001b[0m\u001b[1;33m,\u001b[0m\u001b[1;36m11\u001b[0m\u001b[1;33m]\u001b[0m\u001b[1;33m)\u001b[0m \u001b[1;31m# add함수는 list안수를 받지 않습니다.\u001b[0m\u001b[1;33m\u001b[0m\u001b[1;33m\u001b[0m\u001b[0m\n\u001b[0m",
      "\u001b[1;31mTypeError\u001b[0m: unhashable type: 'list'"
     ]
    }
   ],
   "source": [
    "s1.add([10,11]) # add함수는 list안수를 받지 않습니다. \n"
   ]
  },
  {
   "cell_type": "code",
   "execution_count": 164,
   "metadata": {
    "ExecuteTime": {
     "end_time": "2021-02-23T03:00:03.061897Z",
     "start_time": "2021-02-23T03:00:03.053945Z"
    }
   },
   "outputs": [
    {
     "ename": "TypeError",
     "evalue": "unhashable type: 'dict'",
     "output_type": "error",
     "traceback": [
      "\u001b[1;31m---------------------------------------------------------------------------\u001b[0m",
      "\u001b[1;31mTypeError\u001b[0m                                 Traceback (most recent call last)",
      "\u001b[1;32m<ipython-input-164-5c089d54f712>\u001b[0m in \u001b[0;36m<module>\u001b[1;34m\u001b[0m\n\u001b[1;32m----> 1\u001b[1;33m \u001b[0ms1\u001b[0m\u001b[1;33m.\u001b[0m\u001b[0madd\u001b[0m\u001b[1;33m(\u001b[0m\u001b[1;33m{\u001b[0m\u001b[1;34m'name'\u001b[0m\u001b[1;33m:\u001b[0m\u001b[1;34m'kil'\u001b[0m\u001b[1;33m}\u001b[0m\u001b[1;33m)\u001b[0m \u001b[1;31m#add함수는 dictonary 인수 불가\u001b[0m\u001b[1;33m\u001b[0m\u001b[1;33m\u001b[0m\u001b[0m\n\u001b[0m",
      "\u001b[1;31mTypeError\u001b[0m: unhashable type: 'dict'"
     ]
    }
   ],
   "source": [
    "s1.add({'name':'kil'}) #add함수는 dictonary 인수 불가 "
   ]
  },
  {
   "cell_type": "code",
   "execution_count": 167,
   "metadata": {
    "ExecuteTime": {
     "end_time": "2021-02-23T03:01:00.035433Z",
     "start_time": "2021-02-23T03:01:00.029449Z"
    }
   },
   "outputs": [
    {
     "data": {
      "text/plain": [
       "{1, 2, 3, 4, 5, 6, 7, 8, 9}"
      ]
     },
     "execution_count": 167,
     "metadata": {},
     "output_type": "execute_result"
    }
   ],
   "source": [
    "s1 = {1,2,3,4}\n",
    "s1.update([5,6,7,8,9])\n",
    "s1"
   ]
  },
  {
   "cell_type": "code",
   "execution_count": 168,
   "metadata": {
    "ExecuteTime": {
     "end_time": "2021-02-23T03:01:55.173520Z",
     "start_time": "2021-02-23T03:01:55.169556Z"
    }
   },
   "outputs": [
    {
     "data": {
      "text/plain": [
       "{1, 2, 3, 4, 5, 6, 7, 8, 9, 'name'}"
      ]
     },
     "execution_count": 168,
     "metadata": {},
     "output_type": "execute_result"
    }
   ],
   "source": [
    "s1.update({'name':'kildong'}) #딕셔너리는 키값만 추가 \n",
    "s1"
   ]
  },
  {
   "cell_type": "code",
   "execution_count": 169,
   "metadata": {
    "ExecuteTime": {
     "end_time": "2021-02-23T03:02:20.536506Z",
     "start_time": "2021-02-23T03:02:20.531528Z"
    }
   },
   "outputs": [
    {
     "data": {
      "text/plain": [
       "{1, 2, 3, 4, 5, 6, 7, 8, 9}"
      ]
     },
     "execution_count": 169,
     "metadata": {},
     "output_type": "execute_result"
    }
   ],
   "source": [
    "s1.remove('name') # 특정 요소 삭제(없는 데이터일 경우 에러 발생)\n",
    "s1"
   ]
  },
  {
   "cell_type": "code",
   "execution_count": 170,
   "metadata": {
    "ExecuteTime": {
     "end_time": "2021-02-23T03:02:58.562554Z",
     "start_time": "2021-02-23T03:02:58.554575Z"
    }
   },
   "outputs": [
    {
     "ename": "KeyError",
     "evalue": "'name'",
     "output_type": "error",
     "traceback": [
      "\u001b[1;31m---------------------------------------------------------------------------\u001b[0m",
      "\u001b[1;31mKeyError\u001b[0m                                  Traceback (most recent call last)",
      "\u001b[1;32m<ipython-input-170-b5522589be5c>\u001b[0m in \u001b[0;36m<module>\u001b[1;34m\u001b[0m\n\u001b[1;32m----> 1\u001b[1;33m \u001b[0ms1\u001b[0m\u001b[1;33m.\u001b[0m\u001b[0mremove\u001b[0m\u001b[1;33m(\u001b[0m\u001b[1;34m'name'\u001b[0m\u001b[1;33m)\u001b[0m\u001b[1;33m\u001b[0m\u001b[1;33m\u001b[0m\u001b[0m\n\u001b[0m",
      "\u001b[1;31mKeyError\u001b[0m: 'name'"
     ]
    }
   ],
   "source": [
    "s1.remove('name')"
   ]
  },
  {
   "cell_type": "code",
   "execution_count": 171,
   "metadata": {
    "ExecuteTime": {
     "end_time": "2021-02-23T03:04:12.683272Z",
     "start_time": "2021-02-23T03:04:12.679282Z"
    }
   },
   "outputs": [
    {
     "data": {
      "text/plain": [
       "{0, True}"
      ]
     },
     "execution_count": 171,
     "metadata": {},
     "output_type": "execute_result"
    }
   ],
   "source": [
    "s1={0,False,True,1} #False와 0 , True와 1을 같은 값으로 간자 \n",
    "s1"
   ]
  },
  {
   "cell_type": "code",
   "execution_count": 172,
   "metadata": {
    "ExecuteTime": {
     "end_time": "2021-02-23T03:05:21.376935Z",
     "start_time": "2021-02-23T03:05:21.371948Z"
    }
   },
   "outputs": [
    {
     "data": {
      "text/plain": [
       "({1, 2, 3, 4, 5, 6}, {4, 5, 6, 7, 8, 9})"
      ]
     },
     "execution_count": 172,
     "metadata": {},
     "output_type": "execute_result"
    }
   ],
   "source": [
    "s1={1,2,3,4,5,6}\n",
    "s2={4,5,6,7,8,9}\n",
    "s1,s2"
   ]
  },
  {
   "cell_type": "code",
   "execution_count": 174,
   "metadata": {
    "ExecuteTime": {
     "end_time": "2021-02-23T03:06:46.554750Z",
     "start_time": "2021-02-23T03:06:46.550782Z"
    }
   },
   "outputs": [
    {
     "name": "stdout",
     "output_type": "stream",
     "text": [
      "합집합: {1, 2, 3, 4, 5, 6, 7, 8, 9}\n",
      "교집합: {4, 5, 6}\n",
      "차집합: {1, 2, 3}\n"
     ]
    }
   ],
   "source": [
    "#합집합\n",
    "print('합집합:',s1|s2)\n",
    "#교집합\n",
    "print('교집합:',s1&s2)\n",
    "#차집합\n",
    "print('차집합:',s1-s2)"
   ]
  },
  {
   "cell_type": "code",
   "execution_count": 175,
   "metadata": {
    "ExecuteTime": {
     "end_time": "2021-02-23T03:08:08.108761Z",
     "start_time": "2021-02-23T03:08:08.104798Z"
    }
   },
   "outputs": [
    {
     "name": "stdout",
     "output_type": "stream",
     "text": [
      "sunja\tkilja\tkildong\t"
     ]
    }
   ],
   "source": [
    "names = {'kildong','kilja','sunja'}\n",
    "for name in names:\n",
    "    print(name,end='\\t')"
   ]
  },
  {
   "cell_type": "markdown",
   "metadata": {},
   "source": [
    "# 5절 . enmerate\n",
    "- 반복자 또는 순서 객체로 반복문을 처리할 떄 인덱스 처리를 해결"
   ]
  },
  {
   "cell_type": "code",
   "execution_count": 176,
   "metadata": {
    "ExecuteTime": {
     "end_time": "2021-02-23T03:14:13.556428Z",
     "start_time": "2021-02-23T03:14:13.540783Z"
    }
   },
   "outputs": [
    {
     "data": {
      "text/plain": [
       "[(0, 'sunja'), (1, 'kilja'), (2, 'kildong')]"
      ]
     },
     "execution_count": 176,
     "metadata": {},
     "output_type": "execute_result"
    }
   ],
   "source": [
    "list(enumerate(names))"
   ]
  },
  {
   "cell_type": "code",
   "execution_count": 177,
   "metadata": {
    "ExecuteTime": {
     "end_time": "2021-02-23T03:15:05.559671Z",
     "start_time": "2021-02-23T03:15:05.554711Z"
    }
   },
   "outputs": [
    {
     "name": "stdout",
     "output_type": "stream",
     "text": [
      "0번쨰 이름 : sunja\n",
      "1번쨰 이름 : kilja\n",
      "2번쨰 이름 : kildong\n"
     ]
    }
   ],
   "source": [
    "for idx,name in enumerate(names):\n",
    "    print('{}번쨰 이름 : {}'.format(idx,name))"
   ]
  },
  {
   "cell_type": "code",
   "execution_count": 179,
   "metadata": {
    "ExecuteTime": {
     "end_time": "2021-02-23T03:19:42.853085Z",
     "start_time": "2021-02-23T03:19:42.849096Z"
    }
   },
   "outputs": [
    {
     "name": "stdout",
     "output_type": "stream",
     "text": [
      "0번쨰:길자\n",
      "1번쨰:순자\n",
      "2번쨰:길동\n"
     ]
    }
   ],
   "source": [
    "L=['길자','순자','길동']\n",
    "for i in range(len(L)):\n",
    "    print(\"{}번쨰:{}\".format(i,L[i]))"
   ]
  },
  {
   "cell_type": "code",
   "execution_count": 180,
   "metadata": {
    "ExecuteTime": {
     "end_time": "2021-02-23T03:20:22.159214Z",
     "start_time": "2021-02-23T03:20:22.156222Z"
    }
   },
   "outputs": [
    {
     "name": "stdout",
     "output_type": "stream",
     "text": [
      "0번쨰:길자\n",
      "1번쨰:순자\n",
      "2번쨰:길동\n"
     ]
    }
   ],
   "source": [
    "for idx, name in enumerate(L):\n",
    "    print(\"{}번쨰:{}\".format(idx,name))"
   ]
  },
  {
   "cell_type": "code",
   "execution_count": 276,
   "metadata": {
    "ExecuteTime": {
     "end_time": "2021-02-23T04:24:35.559376Z",
     "start_time": "2021-02-23T04:24:35.554410Z"
    }
   },
   "outputs": [
    {
     "data": {
      "text/plain": [
       "[(0, ('name', '홍길동')), (1, ('age', 35)), (2, ('address', '마포'))]"
      ]
     },
     "execution_count": 276,
     "metadata": {},
     "output_type": "execute_result"
    }
   ],
   "source": [
    "dic = {\"name\":\"홍길동\",\"age\":35, \"address\":\"마포\"}\n",
    "list(enumerate(dic.items()))"
   ]
  },
  {
   "cell_type": "code",
   "execution_count": 279,
   "metadata": {
    "ExecuteTime": {
     "end_time": "2021-02-23T04:25:37.442865Z",
     "start_time": "2021-02-23T04:25:37.438876Z"
    }
   },
   "outputs": [
    {
     "name": "stdout",
     "output_type": "stream",
     "text": [
      "0번째 키는 name, 값은 홍길동\n",
      "1번째 키는 age, 값은 35\n",
      "2번째 키는 address, 값은 마포\n"
     ]
    }
   ],
   "source": [
    "for idx, (key, value) in enumerate(dic.items()):\n",
    "    print(\"{}번째 키는 {}, 값은 {}\".format(idx, key, value))"
   ]
  },
  {
   "cell_type": "markdown",
   "metadata": {},
   "source": [
    "# 연습문제 "
   ]
  },
  {
   "cell_type": "code",
   "execution_count": 264,
   "metadata": {
    "ExecuteTime": {
     "end_time": "2021-02-23T04:19:58.296788Z",
     "start_time": "2021-02-23T04:19:58.292818Z"
    }
   },
   "outputs": [],
   "source": [
    "numbers=[1,2,3,4,5,6,7,8,9,10]"
   ]
  },
  {
   "cell_type": "code",
   "execution_count": 265,
   "metadata": {
    "ExecuteTime": {
     "end_time": "2021-02-23T04:20:00.554684Z",
     "start_time": "2021-02-23T04:20:00.549719Z"
    }
   },
   "outputs": [
    {
     "data": {
      "text/plain": [
       "[1, 2, 3, 4, 5, 6, 7, 8, 9, 10, 100]"
      ]
     },
     "execution_count": 265,
     "metadata": {},
     "output_type": "execute_result"
    }
   ],
   "source": [
    "#1\n",
    "numbers.append(100)\n",
    "numbers"
   ]
  },
  {
   "cell_type": "code",
   "execution_count": 266,
   "metadata": {
    "ExecuteTime": {
     "end_time": "2021-02-23T04:20:01.835837Z",
     "start_time": "2021-02-23T04:20:01.829852Z"
    }
   },
   "outputs": [
    {
     "data": {
      "text/plain": [
       "[1, 2, 3, 4, 5, 6, 7, 8, 9, 10, 100, 200, 300, 400, 500]"
      ]
     },
     "execution_count": 266,
     "metadata": {},
     "output_type": "execute_result"
    }
   ],
   "source": [
    "#2\n",
    "data=[200,300,400,500]\n",
    "numbers.extend(data)\n",
    "numbers"
   ]
  },
  {
   "cell_type": "code",
   "execution_count": 267,
   "metadata": {
    "ExecuteTime": {
     "end_time": "2021-02-23T04:20:03.443570Z",
     "start_time": "2021-02-23T04:20:03.439562Z"
    }
   },
   "outputs": [
    {
     "data": {
      "text/plain": [
       "[1, 2, 3, 4, 5]"
      ]
     },
     "execution_count": 267,
     "metadata": {},
     "output_type": "execute_result"
    }
   ],
   "source": [
    "#3\n",
    "numbers[0:5]"
   ]
  },
  {
   "cell_type": "code",
   "execution_count": 268,
   "metadata": {
    "ExecuteTime": {
     "end_time": "2021-02-23T04:20:04.749465Z",
     "start_time": "2021-02-23T04:20:04.744478Z"
    }
   },
   "outputs": [
    {
     "data": {
      "text/plain": [
       "[1, 3, 5, 7, 9, 100, 300, 500]"
      ]
     },
     "execution_count": 268,
     "metadata": {},
     "output_type": "execute_result"
    }
   ],
   "source": [
    "#4\n",
    "numbers[::2]"
   ]
  },
  {
   "cell_type": "code",
   "execution_count": 269,
   "metadata": {
    "ExecuteTime": {
     "end_time": "2021-02-23T04:20:06.461372Z",
     "start_time": "2021-02-23T04:20:06.452397Z"
    }
   },
   "outputs": [
    {
     "ename": "ValueError",
     "evalue": "attempt to assign sequence of size 9 to extended slice of size 8",
     "output_type": "error",
     "traceback": [
      "\u001b[1;31m---------------------------------------------------------------------------\u001b[0m",
      "\u001b[1;31mValueError\u001b[0m                                Traceback (most recent call last)",
      "\u001b[1;32m<ipython-input-269-4227c05e651d>\u001b[0m in \u001b[0;36m<module>\u001b[1;34m\u001b[0m\n\u001b[0;32m      1\u001b[0m \u001b[1;31m#5\u001b[0m\u001b[1;33m\u001b[0m\u001b[1;33m\u001b[0m\u001b[1;33m\u001b[0m\u001b[0m\n\u001b[0;32m      2\u001b[0m \u001b[1;31m#numbers[::2]=[0]*len(numbers[::2])\u001b[0m\u001b[1;33m\u001b[0m\u001b[1;33m\u001b[0m\u001b[1;33m\u001b[0m\u001b[0m\n\u001b[1;32m----> 3\u001b[1;33m \u001b[0mnumbers\u001b[0m\u001b[1;33m[\u001b[0m\u001b[1;33m:\u001b[0m\u001b[1;33m:\u001b[0m\u001b[1;36m2\u001b[0m\u001b[1;33m]\u001b[0m\u001b[1;33m=\u001b[0m\u001b[1;33m[\u001b[0m\u001b[1;36m0\u001b[0m\u001b[1;33m]\u001b[0m\u001b[1;33m*\u001b[0m\u001b[1;36m9\u001b[0m\u001b[1;33m\u001b[0m\u001b[1;33m\u001b[0m\u001b[0m\n\u001b[0m\u001b[0;32m      4\u001b[0m \u001b[0mnumbers\u001b[0m\u001b[1;33m\u001b[0m\u001b[1;33m\u001b[0m\u001b[0m\n",
      "\u001b[1;31mValueError\u001b[0m: attempt to assign sequence of size 9 to extended slice of size 8"
     ]
    }
   ],
   "source": [
    "#5\n",
    "numbers[::2]=[0]*len(numbers[::2])\n",
    "numbers"
   ]
  },
  {
   "cell_type": "code",
   "execution_count": 250,
   "metadata": {
    "ExecuteTime": {
     "end_time": "2021-02-23T04:07:37.959406Z",
     "start_time": "2021-02-23T04:07:37.954444Z"
    }
   },
   "outputs": [
    {
     "data": {
      "text/plain": [
       "[400, 200, 10, 8, 6, 4, 2, 0, 0, 0, 0, 0, 0, 0, 0]"
      ]
     },
     "execution_count": 250,
     "metadata": {},
     "output_type": "execute_result"
    }
   ],
   "source": [
    "#6\n",
    "numbers.sort()\n",
    "numbers[::-1]"
   ]
  },
  {
   "cell_type": "code",
   "execution_count": 251,
   "metadata": {
    "ExecuteTime": {
     "end_time": "2021-02-23T04:07:39.947299Z",
     "start_time": "2021-02-23T04:07:39.943321Z"
    }
   },
   "outputs": [
    {
     "data": {
      "text/plain": [
       "'서울시 마포구'"
      ]
     },
     "execution_count": 251,
     "metadata": {},
     "output_type": "execute_result"
    }
   ],
   "source": [
    "member_info={\"name\":\"홍길동\",\"age\":\"20\",\"address\":\"서울시 마포구\",\"score\":90}\n",
    "#7\n",
    "member_info['address']\n",
    "member_info.get('address')"
   ]
  },
  {
   "cell_type": "code",
   "execution_count": 252,
   "metadata": {
    "ExecuteTime": {
     "end_time": "2021-02-23T04:07:42.178364Z",
     "start_time": "2021-02-23T04:07:42.173380Z"
    }
   },
   "outputs": [
    {
     "data": {
      "text/plain": [
       "{'name': '홍길동', 'age': '20', 'address': '서울시 마포구'}"
      ]
     },
     "execution_count": 252,
     "metadata": {},
     "output_type": "execute_result"
    }
   ],
   "source": [
    "#8\n",
    "member.pop('score')\n",
    "member_info['score']\n",
    "del member_info['score']\n",
    "member_info"
   ]
  },
  {
   "cell_type": "code",
   "execution_count": 253,
   "metadata": {
    "ExecuteTime": {
     "end_time": "2021-02-23T04:07:44.414324Z",
     "start_time": "2021-02-23T04:07:44.409337Z"
    }
   },
   "outputs": [
    {
     "data": {
      "text/plain": [
       "{'name': '홍길동', 'age': '20', 'address': '서울시 서대문구'}"
      ]
     },
     "execution_count": 253,
     "metadata": {},
     "output_type": "execute_result"
    }
   ],
   "source": [
    "#9\n",
    "member_info['address']='서울시 서대문구'\n",
    "member_info"
   ]
  },
  {
   "cell_type": "code",
   "execution_count": 254,
   "metadata": {
    "ExecuteTime": {
     "end_time": "2021-02-23T04:07:47.340298Z",
     "start_time": "2021-02-23T04:07:47.335313Z"
    }
   },
   "outputs": [
    {
     "data": {
      "text/plain": [
       "[('name', '홍길동'), ('age', '20'), ('address', '서울시 서대문구')]"
      ]
     },
     "execution_count": 254,
     "metadata": {},
     "output_type": "execute_result"
    }
   ],
   "source": [
    "#10\n",
    "list(member_info.items())"
   ]
  },
  {
   "cell_type": "code",
   "execution_count": null,
   "metadata": {},
   "outputs": [],
   "source": []
  },
  {
   "cell_type": "code",
   "execution_count": 243,
   "metadata": {
    "ExecuteTime": {
     "end_time": "2021-02-23T04:06:00.302474Z",
     "start_time": "2021-02-23T04:06:00.297468Z"
    }
   },
   "outputs": [
    {
     "data": {
      "text/plain": [
       "10"
      ]
     },
     "execution_count": 243,
     "metadata": {},
     "output_type": "execute_result"
    }
   ],
   "source": [
    "my_dit={\"a\":10,\"b\":20,\"c\":30}\n",
    "list(my_dit.items())[0][1]"
   ]
  },
  {
   "cell_type": "code",
   "execution_count": null,
   "metadata": {},
   "outputs": [],
   "source": []
  },
  {
   "cell_type": "code",
   "execution_count": null,
   "metadata": {},
   "outputs": [],
   "source": []
  },
  {
   "cell_type": "code",
   "execution_count": null,
   "metadata": {},
   "outputs": [],
   "source": []
  },
  {
   "cell_type": "code",
   "execution_count": null,
   "metadata": {},
   "outputs": [],
   "source": []
  },
  {
   "cell_type": "code",
   "execution_count": null,
   "metadata": {},
   "outputs": [],
   "source": []
  },
  {
   "cell_type": "code",
   "execution_count": null,
   "metadata": {},
   "outputs": [],
   "source": []
  },
  {
   "cell_type": "code",
   "execution_count": null,
   "metadata": {},
   "outputs": [],
   "source": []
  },
  {
   "cell_type": "code",
   "execution_count": null,
   "metadata": {},
   "outputs": [],
   "source": []
  }
 ],
 "metadata": {
  "kernelspec": {
   "display_name": "Python 3",
   "language": "python",
   "name": "python3"
  },
  "language_info": {
   "codemirror_mode": {
    "name": "ipython",
    "version": 3
   },
   "file_extension": ".py",
   "mimetype": "text/x-python",
   "name": "python",
   "nbconvert_exporter": "python",
   "pygments_lexer": "ipython3",
   "version": "3.8.5"
  },
  "toc": {
   "base_numbering": 1,
   "nav_menu": {},
   "number_sections": false,
   "sideBar": true,
   "skip_h1_title": false,
   "title_cell": "Table of Contents",
   "title_sidebar": "Contents",
   "toc_cell": false,
   "toc_position": {},
   "toc_section_display": true,
   "toc_window_display": true
  },
  "varInspector": {
   "cols": {
    "lenName": 16,
    "lenType": 16,
    "lenVar": 40
   },
   "kernels_config": {
    "python": {
     "delete_cmd_postfix": "",
     "delete_cmd_prefix": "del ",
     "library": "var_list.py",
     "varRefreshCmd": "print(var_dic_list())"
    },
    "r": {
     "delete_cmd_postfix": ") ",
     "delete_cmd_prefix": "rm(",
     "library": "var_list.r",
     "varRefreshCmd": "cat(var_dic_list()) "
    }
   },
   "types_to_exclude": [
    "module",
    "function",
    "builtin_function_or_method",
    "instance",
    "_Feature"
   ],
   "window_display": false
  }
 },
 "nbformat": 4,
 "nbformat_minor": 4
}
