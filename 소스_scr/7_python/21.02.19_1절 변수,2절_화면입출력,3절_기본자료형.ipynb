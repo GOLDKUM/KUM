{
 "cells": [
  {
   "cell_type": "markdown",
   "metadata": {},
   "source": [
    "<b><font  color='red'>ch02.자료형과 연산자<b>"
   ]
  },
  {
   "cell_type": "markdown",
   "metadata": {},
   "source": [
    "# 절.변수"
   ]
  },
  {
   "cell_type": "markdown",
   "metadata": {},
   "source": [
    "## 변수 선언"
   ]
  },
  {
   "cell_type": "markdown",
   "metadata": {},
   "source": [
    "- 값을 저장할 수 있는 변수를 만드는것\n",
    "- 파이썬은 변수 선언을 위한 타입이 없고 별도의 변수 선언과정이 없음"
   ]
  },
  {
   "cell_type": "markdown",
   "metadata": {},
   "source": [
    "## 변수할당 "
   ]
  },
  {
   "cell_type": "markdown",
   "metadata": {},
   "source": [
    "- 어떤 값이 이름을 갖도록 하는 과정 \n",
    "- 할당연산자(=)을 이용"
   ]
  },
  {
   "cell_type": "code",
   "execution_count": null,
   "metadata": {
    "ExecuteTime": {
     "end_time": "2021-02-19T07:27:26.293384Z",
     "start_time": "2021-02-19T07:27:26.288397Z"
    }
   },
   "outputs": [],
   "source": [
    "r=5\n",
    "area=3.14*5*5\n",
    "print(area)"
   ]
  },
  {
   "cell_type": "code",
   "execution_count": null,
   "metadata": {
    "ExecuteTime": {
     "end_time": "2021-02-19T07:31:24.595100Z",
     "start_time": "2021-02-19T07:31:24.591133Z"
    }
   },
   "outputs": [],
   "source": [
    "import numpy as np\n",
    "r=5\n",
    "area=np.pi*r*r\n",
    "print('반지름이 5인 원의 넓이는',r)"
   ]
  },
  {
   "cell_type": "code",
   "execution_count": null,
   "metadata": {
    "ExecuteTime": {
     "end_time": "2021-02-19T07:33:28.218935Z",
     "start_time": "2021-02-19T07:33:28.214945Z"
    }
   },
   "outputs": [],
   "source": [
    "a=10"
   ]
  },
  {
   "cell_type": "code",
   "execution_count": null,
   "metadata": {
    "ExecuteTime": {
     "end_time": "2021-02-19T07:33:53.559774Z",
     "start_time": "2021-02-19T07:33:53.556763Z"
    }
   },
   "outputs": [],
   "source": [
    "print(id(a))#a변수의 주소 \n",
    "print(type(a))#a변수의 타입"
   ]
  },
  {
   "cell_type": "code",
   "execution_count": null,
   "metadata": {
    "ExecuteTime": {
     "end_time": "2021-02-19T07:34:07.674956Z",
     "start_time": "2021-02-19T07:34:07.671981Z"
    }
   },
   "outputs": [],
   "source": [
    "a=5"
   ]
  },
  {
   "cell_type": "code",
   "execution_count": null,
   "metadata": {
    "ExecuteTime": {
     "end_time": "2021-02-19T07:34:10.210395Z",
     "start_time": "2021-02-19T07:34:10.206396Z"
    }
   },
   "outputs": [],
   "source": [
    "print(id(a))#a변수의 주소 \n",
    "print(type(a))#a변수의 타입"
   ]
  },
  {
   "cell_type": "code",
   "execution_count": null,
   "metadata": {
    "ExecuteTime": {
     "end_time": "2021-02-19T07:34:21.841705Z",
     "start_time": "2021-02-19T07:34:21.838718Z"
    }
   },
   "outputs": [],
   "source": [
    "a='Pyhton'"
   ]
  },
  {
   "cell_type": "code",
   "execution_count": null,
   "metadata": {
    "ExecuteTime": {
     "end_time": "2021-02-19T07:34:22.317427Z",
     "start_time": "2021-02-19T07:34:22.313438Z"
    }
   },
   "outputs": [],
   "source": [
    "print(id(a))#a변수의 주소 \n",
    "print(type(a))#a변수의 타입"
   ]
  },
  {
   "cell_type": "markdown",
   "metadata": {
    "ExecuteTime": {
     "end_time": "2021-02-19T07:47:55.785308Z",
     "start_time": "2021-02-19T07:47:55.781316Z"
    }
   },
   "source": [
    "## 변수 이름 규칙"
   ]
  },
  {
   "cell_type": "code",
   "execution_count": null,
   "metadata": {
    "ExecuteTime": {
     "end_time": "2021-02-19T07:48:21.648683Z",
     "start_time": "2021-02-19T07:48:21.644714Z"
    }
   },
   "outputs": [],
   "source": [
    "불용어 = '북한'"
   ]
  },
  {
   "cell_type": "code",
   "execution_count": null,
   "metadata": {
    "ExecuteTime": {
     "end_time": "2021-02-19T07:48:25.616952Z",
     "start_time": "2021-02-19T07:48:25.612963Z"
    }
   },
   "outputs": [],
   "source": [
    "불용어"
   ]
  },
  {
   "cell_type": "code",
   "execution_count": null,
   "metadata": {
    "ExecuteTime": {
     "end_time": "2021-02-19T07:49:18.173426Z",
     "start_time": "2021-02-19T07:49:18.169438Z"
    }
   },
   "outputs": [],
   "source": [
    "print('Hello'+', world')"
   ]
  },
  {
   "cell_type": "code",
   "execution_count": null,
   "metadata": {
    "ExecuteTime": {
     "end_time": "2021-02-19T07:50:17.617920Z",
     "start_time": "2021-02-19T07:50:17.614908Z"
    }
   },
   "outputs": [],
   "source": [
    "print = 5"
   ]
  },
  {
   "cell_type": "code",
   "execution_count": null,
   "metadata": {
    "ExecuteTime": {
     "end_time": "2021-02-19T07:50:31.113326Z",
     "start_time": "2021-02-19T07:50:31.105347Z"
    }
   },
   "outputs": [],
   "source": [
    "print('Hello')"
   ]
  },
  {
   "cell_type": "code",
   "execution_count": 2,
   "metadata": {
    "ExecuteTime": {
     "end_time": "2021-02-19T07:53:29.428590Z",
     "start_time": "2021-02-19T07:53:29.424601Z"
    }
   },
   "outputs": [],
   "source": [
    "print_=5\n",
    "_print=5"
   ]
  },
  {
   "cell_type": "code",
   "execution_count": 4,
   "metadata": {
    "ExecuteTime": {
     "end_time": "2021-02-19T07:53:42.267741Z",
     "start_time": "2021-02-19T07:53:42.263769Z"
    }
   },
   "outputs": [
    {
     "data": {
      "text/plain": [
       "5"
      ]
     },
     "execution_count": 4,
     "metadata": {},
     "output_type": "execute_result"
    }
   ],
   "source": [
    "_print"
   ]
  },
  {
   "cell_type": "code",
   "execution_count": 5,
   "metadata": {
    "ExecuteTime": {
     "end_time": "2021-02-19T07:53:51.739874Z",
     "start_time": "2021-02-19T07:53:51.735914Z"
    }
   },
   "outputs": [
    {
     "ename": "SyntaxError",
     "evalue": "invalid syntax (<ipython-input-5-80d1fa1c30d6>, line 1)",
     "output_type": "error",
     "traceback": [
      "\u001b[1;36m  File \u001b[1;32m\"<ipython-input-5-80d1fa1c30d6>\"\u001b[1;36m, line \u001b[1;32m1\u001b[0m\n\u001b[1;33m    if=5\u001b[0m\n\u001b[1;37m      ^\u001b[0m\n\u001b[1;31mSyntaxError\u001b[0m\u001b[1;31m:\u001b[0m invalid syntax\n"
     ]
    }
   ],
   "source": [
    "if=5"
   ]
  },
  {
   "cell_type": "code",
   "execution_count": 6,
   "metadata": {
    "ExecuteTime": {
     "end_time": "2021-02-19T07:54:31.416333Z",
     "start_time": "2021-02-19T07:54:31.412344Z"
    }
   },
   "outputs": [],
   "source": [
    "i=5j+4 #복소수"
   ]
  },
  {
   "cell_type": "code",
   "execution_count": 8,
   "metadata": {
    "ExecuteTime": {
     "end_time": "2021-02-19T07:55:11.646984Z",
     "start_time": "2021-02-19T07:55:11.642994Z"
    }
   },
   "outputs": [
    {
     "data": {
      "text/plain": [
       "complex"
      ]
     },
     "execution_count": 8,
     "metadata": {},
     "output_type": "execute_result"
    }
   ],
   "source": [
    "type(i)#변수의 타입 반환 "
   ]
  },
  {
   "cell_type": "code",
   "execution_count": 9,
   "metadata": {
    "ExecuteTime": {
     "end_time": "2021-02-19T07:56:22.312146Z",
     "start_time": "2021-02-19T07:56:22.308157Z"
    }
   },
   "outputs": [
    {
     "data": {
      "text/plain": [
       "True"
      ]
     },
     "execution_count": 9,
     "metadata": {},
     "output_type": "execute_result"
    }
   ],
   "source": [
    "#자동완성(Tab 키)\n",
    "isinstance(i,complex)#변수의 타입이 complex"
   ]
  },
  {
   "cell_type": "code",
   "execution_count": 10,
   "metadata": {
    "ExecuteTime": {
     "end_time": "2021-02-19T07:56:54.475897Z",
     "start_time": "2021-02-19T07:56:54.470934Z"
    }
   },
   "outputs": [
    {
     "data": {
      "text/plain": [
       "str"
      ]
     },
     "execution_count": 10,
     "metadata": {},
     "output_type": "execute_result"
    }
   ],
   "source": [
    "i='i'\n",
    "type(i)"
   ]
  },
  {
   "cell_type": "code",
   "execution_count": 11,
   "metadata": {
    "ExecuteTime": {
     "end_time": "2021-02-19T07:57:00.152001Z",
     "start_time": "2021-02-19T07:57:00.147015Z"
    }
   },
   "outputs": [
    {
     "data": {
      "text/plain": [
       "int"
      ]
     },
     "execution_count": 11,
     "metadata": {},
     "output_type": "execute_result"
    }
   ],
   "source": [
    "i=10\n",
    "type(i)"
   ]
  },
  {
   "cell_type": "code",
   "execution_count": 12,
   "metadata": {
    "ExecuteTime": {
     "end_time": "2021-02-19T07:57:35.123268Z",
     "start_time": "2021-02-19T07:57:35.120277Z"
    }
   },
   "outputs": [],
   "source": [
    "a , b= 10, 20 "
   ]
  },
  {
   "cell_type": "code",
   "execution_count": 13,
   "metadata": {
    "ExecuteTime": {
     "end_time": "2021-02-19T07:58:06.649096Z",
     "start_time": "2021-02-19T07:58:06.645106Z"
    }
   },
   "outputs": [
    {
     "name": "stdout",
     "output_type": "stream",
     "text": [
      "a= 10 /b= 20\n"
     ]
    }
   ],
   "source": [
    "print('a=',a,'/b=',b)"
   ]
  },
  {
   "cell_type": "code",
   "execution_count": 14,
   "metadata": {
    "ExecuteTime": {
     "end_time": "2021-02-19T07:58:21.918647Z",
     "start_time": "2021-02-19T07:58:21.914685Z"
    }
   },
   "outputs": [],
   "source": [
    "a, b = b, a+b"
   ]
  },
  {
   "cell_type": "code",
   "execution_count": 17,
   "metadata": {
    "ExecuteTime": {
     "end_time": "2021-02-19T07:58:50.392566Z",
     "start_time": "2021-02-19T07:58:50.389575Z"
    }
   },
   "outputs": [
    {
     "name": "stdout",
     "output_type": "stream",
     "text": [
      "20\n",
      "30\n"
     ]
    }
   ],
   "source": [
    "print(a)\n",
    "print(b)"
   ]
  },
  {
   "cell_type": "markdown",
   "metadata": {},
   "source": [
    "## 도움말"
   ]
  },
  {
   "cell_type": "code",
   "execution_count": 19,
   "metadata": {
    "ExecuteTime": {
     "end_time": "2021-02-19T08:01:24.599467Z",
     "start_time": "2021-02-19T08:00:58.918500Z"
    }
   },
   "outputs": [
    {
     "name": "stdout",
     "output_type": "stream",
     "text": [
      "\n",
      "Welcome to Python 3.8's help utility!\n",
      "\n",
      "If this is your first time using Python, you should definitely check out\n",
      "the tutorial on the Internet at https://docs.python.org/3.8/tutorial/.\n",
      "\n",
      "Enter the name of any module, keyword, or topic to get help on writing\n",
      "Python programs and using Python modules.  To quit this help utility and\n",
      "return to the interpreter, just type \"quit\".\n",
      "\n",
      "To get a list of available modules, keywords, symbols, or topics, type\n",
      "\"modules\", \"keywords\", \"symbols\", or \"topics\".  Each module also comes\n",
      "with a one-line summary of what it does; to list the modules whose name\n",
      "or summary contain a given string such as \"spam\", type \"modules spam\".\n",
      "\n",
      "help> print\n",
      "Help on built-in function print in module builtins:\n",
      "\n",
      "print(...)\n",
      "    print(value, ..., sep=' ', end='\\n', file=sys.stdout, flush=False)\n",
      "    \n",
      "    Prints the values to a stream, or to sys.stdout by default.\n",
      "    Optional keyword arguments:\n",
      "    file:  a file-like object (stream); defaults to the current sys.stdout.\n",
      "    sep:   string inserted between values, default a space.\n",
      "    end:   string appended after the last value, default a newline.\n",
      "    flush: whether to forcibly flush the stream.\n",
      "\n",
      "help> q\n",
      "\n",
      "You are now leaving help and returning to the Python interpreter.\n",
      "If you want to ask for help on a particular object directly from the\n",
      "interpreter, you can type \"help(object)\".  Executing \"help('string')\"\n",
      "has the same effect as typing a particular string at the help> prompt.\n"
     ]
    }
   ],
   "source": [
    "help()"
   ]
  },
  {
   "cell_type": "code",
   "execution_count": null,
   "metadata": {},
   "outputs": [],
   "source": [
    "#도움말 기능은 shift_tab키 같이 \n",
    "print()"
   ]
  },
  {
   "cell_type": "markdown",
   "metadata": {},
   "source": [
    "# 화면입출력"
   ]
  },
  {
   "cell_type": "code",
   "execution_count": 1,
   "metadata": {
    "ExecuteTime": {
     "end_time": "2021-02-19T08:09:34.166758Z",
     "start_time": "2021-02-19T08:09:29.691035Z"
    }
   },
   "outputs": [
    {
     "name": "stdout",
     "output_type": "stream",
     "text": [
      "첫번쨰 숫자10\n",
      "두번쨰숫자20\n"
     ]
    }
   ],
   "source": [
    "first = input('첫번쨰 숫자')\n",
    "second = input('두번쨰숫자')"
   ]
  },
  {
   "cell_type": "code",
   "execution_count": 2,
   "metadata": {
    "ExecuteTime": {
     "end_time": "2021-02-19T08:09:35.993479Z",
     "start_time": "2021-02-19T08:09:35.989489Z"
    }
   },
   "outputs": [
    {
     "name": "stdout",
     "output_type": "stream",
     "text": [
      "두수의 합은 1020\n"
     ]
    }
   ],
   "source": [
    "print('두수의 합은',(first+second))"
   ]
  },
  {
   "cell_type": "code",
   "execution_count": 3,
   "metadata": {
    "ExecuteTime": {
     "end_time": "2021-02-19T08:09:38.492815Z",
     "start_time": "2021-02-19T08:09:38.488826Z"
    }
   },
   "outputs": [
    {
     "name": "stdout",
     "output_type": "stream",
     "text": [
      "두수의 합은 30\n"
     ]
    }
   ],
   "source": [
    "print('두수의 합은',int(first)+int(second))"
   ]
  },
  {
   "cell_type": "code",
   "execution_count": 4,
   "metadata": {
    "ExecuteTime": {
     "end_time": "2021-02-19T08:09:45.492316Z",
     "start_time": "2021-02-19T08:09:40.754836Z"
    }
   },
   "outputs": [
    {
     "name": "stdout",
     "output_type": "stream",
     "text": [
      "첫번쨰 수10\n",
      "두번쨰 수20\n"
     ]
    }
   ],
   "source": [
    "first=int(input('첫번쨰 수'))\n",
    "second=int(input('두번쨰 수'))"
   ]
  },
  {
   "cell_type": "code",
   "execution_count": 8,
   "metadata": {
    "ExecuteTime": {
     "end_time": "2021-02-19T08:12:46.040276Z",
     "start_time": "2021-02-19T08:12:46.037284Z"
    }
   },
   "outputs": [
    {
     "name": "stdout",
     "output_type": "stream",
     "text": [
      "Hello /Word\n",
      "\n",
      "Hello♥Python\n"
     ]
    }
   ],
   "source": [
    "print('Hello','Word',sep=' /',end='\\n\\n')\n",
    "print('Hello','Python',sep='♥')"
   ]
  },
  {
   "cell_type": "markdown",
   "metadata": {},
   "source": [
    "# .기본자료형 - 숫자형(정수,실수,복소수),논리형,문자"
   ]
  },
  {
   "cell_type": "markdown",
   "metadata": {},
   "source": [
    "## 숫자형"
   ]
  },
  {
   "cell_type": "code",
   "execution_count": 11,
   "metadata": {
    "ExecuteTime": {
     "end_time": "2021-02-19T08:16:10.405697Z",
     "start_time": "2021-02-19T08:16:10.401707Z"
    }
   },
   "outputs": [
    {
     "name": "stdout",
     "output_type": "stream",
     "text": [
      "9223372036854775807\n"
     ]
    }
   ],
   "source": [
    "import sys\n",
    "print(sys.maxsize)"
   ]
  },
  {
   "cell_type": "code",
   "execution_count": 13,
   "metadata": {
    "ExecuteTime": {
     "end_time": "2021-02-19T08:17:32.507407Z",
     "start_time": "2021-02-19T08:17:32.503416Z"
    }
   },
   "outputs": [
    {
     "data": {
      "text/plain": [
       "int"
      ]
     },
     "execution_count": 13,
     "metadata": {},
     "output_type": "execute_result"
    }
   ],
   "source": [
    "i=9223372036854775807 #정수\n",
    "type(i)"
   ]
  },
  {
   "cell_type": "code",
   "execution_count": 18,
   "metadata": {
    "ExecuteTime": {
     "end_time": "2021-02-19T08:19:25.598124Z",
     "start_time": "2021-02-19T08:19:25.594162Z"
    }
   },
   "outputs": [
    {
     "data": {
      "text/plain": [
       "float"
      ]
     },
     "execution_count": 18,
     "metadata": {},
     "output_type": "execute_result"
    }
   ],
   "source": [
    "f=3.0 #실수\n",
    "type(f)"
   ]
  },
  {
   "cell_type": "code",
   "execution_count": 20,
   "metadata": {
    "ExecuteTime": {
     "end_time": "2021-02-19T08:19:35.131912Z",
     "start_time": "2021-02-19T08:19:35.128919Z"
    }
   },
   "outputs": [
    {
     "name": "stdout",
     "output_type": "stream",
     "text": [
      "1.0\n",
      "<class 'float'>\n"
     ]
    }
   ],
   "source": [
    "f=2/2\n",
    "print(f)\n",
    "print(type(f))"
   ]
  },
  {
   "cell_type": "code",
   "execution_count": 30,
   "metadata": {
    "ExecuteTime": {
     "end_time": "2021-02-19T08:21:57.150917Z",
     "start_time": "2021-02-19T08:21:57.146950Z"
    }
   },
   "outputs": [],
   "source": [
    "a=3+2j #복소수\n",
    "b=1j   #복소수"
   ]
  },
  {
   "cell_type": "code",
   "execution_count": 29,
   "metadata": {
    "ExecuteTime": {
     "end_time": "2021-02-19T08:21:55.720730Z",
     "start_time": "2021-02-19T08:21:55.716740Z"
    }
   },
   "outputs": [
    {
     "name": "stdout",
     "output_type": "stream",
     "text": [
      "(3+2j)\n",
      "<class 'complex'>\n"
     ]
    }
   ],
   "source": [
    "print(a)\n",
    "print(type(a))"
   ]
  },
  {
   "cell_type": "code",
   "execution_count": 28,
   "metadata": {
    "ExecuteTime": {
     "end_time": "2021-02-19T08:21:53.477400Z",
     "start_time": "2021-02-19T08:21:53.473410Z"
    }
   },
   "outputs": [
    {
     "data": {
      "text/plain": [
       "(3+3j)"
      ]
     },
     "execution_count": 28,
     "metadata": {},
     "output_type": "execute_result"
    }
   ],
   "source": [
    "a+b"
   ]
  },
  {
   "cell_type": "code",
   "execution_count": 31,
   "metadata": {
    "ExecuteTime": {
     "end_time": "2021-02-19T08:22:16.464962Z",
     "start_time": "2021-02-19T08:22:16.460972Z"
    }
   },
   "outputs": [
    {
     "name": "stdout",
     "output_type": "stream",
     "text": [
      "(-1+0j)\n"
     ]
    }
   ],
   "source": [
    "print(b**2)#b의 제곱 "
   ]
  },
  {
   "cell_type": "code",
   "execution_count": 43,
   "metadata": {
    "ExecuteTime": {
     "end_time": "2021-02-19T08:23:53.184720Z",
     "start_time": "2021-02-19T08:23:53.179734Z"
    }
   },
   "outputs": [
    {
     "name": "stdout",
     "output_type": "stream",
     "text": [
      "1.13e-08\n",
      "<class 'float'>\n",
      "113000000.0\n"
     ]
    }
   ],
   "source": [
    "f=1.13e-8\n",
    "print(f)\n",
    "print(type(f))\n",
    "g=1.13e+8\n",
    "print(g)"
   ]
  },
  {
   "cell_type": "code",
   "execution_count": 36,
   "metadata": {
    "ExecuteTime": {
     "end_time": "2021-02-19T08:22:56.907428Z",
     "start_time": "2021-02-19T08:22:56.902441Z"
    }
   },
   "outputs": [
    {
     "data": {
      "text/plain": [
       "1.13e-08"
      ]
     },
     "execution_count": 36,
     "metadata": {},
     "output_type": "execute_result"
    }
   ],
   "source": []
  },
  {
   "cell_type": "markdown",
   "metadata": {
    "ExecuteTime": {
     "end_time": "2021-02-19T08:36:07.204893Z",
     "start_time": "2021-02-19T08:36:07.189270Z"
    }
   },
   "source": [
    "## 문자형"
   ]
  },
  {
   "cell_type": "code",
   "execution_count": 46,
   "metadata": {
    "ExecuteTime": {
     "end_time": "2021-02-19T08:36:44.371238Z",
     "start_time": "2021-02-19T08:36:44.367274Z"
    }
   },
   "outputs": [
    {
     "name": "stdout",
     "output_type": "stream",
     "text": [
      "홍길동 서울시 마포구\n"
     ]
    }
   ],
   "source": [
    "name='홍길동'\n",
    "address='서울시 마포구'\n",
    "print(name,address)"
   ]
  },
  {
   "cell_type": "code",
   "execution_count": 47,
   "metadata": {
    "ExecuteTime": {
     "end_time": "2021-02-19T08:38:34.372535Z",
     "start_time": "2021-02-19T08:38:34.368158Z"
    }
   },
   "outputs": [
    {
     "name": "stdout",
     "output_type": "stream",
     "text": [
      "이렇게 작성하면 \n",
      "줄 바꿈도 그대로 적용해서 여러 줄의 문자를 \n",
      "입력할 수 있습니다\n"
     ]
    }
   ],
   "source": [
    "text='''이렇게 작성하면 \n",
    "줄 바꿈도 그대로 적용해서 여러 줄의 문자를 \n",
    "입력할 수 있습니다'''\n",
    "print(text)"
   ]
  },
  {
   "cell_type": "code",
   "execution_count": 48,
   "metadata": {
    "ExecuteTime": {
     "end_time": "2021-02-19T08:38:47.805467Z",
     "start_time": "2021-02-19T08:38:47.801501Z"
    }
   },
   "outputs": [
    {
     "name": "stdout",
     "output_type": "stream",
     "text": [
      "이렇게 작성하면 \n",
      "줄 바꿈도 그대로 적용해서 여러 줄의 문자를 \n",
      "입력할 수 있습니다\n"
     ]
    }
   ],
   "source": [
    "text=\"\"\"이렇게 작성하면 \n",
    "줄 바꿈도 그대로 적용해서 여러 줄의 문자를 \n",
    "입력할 수 있습니다\"\"\"\n",
    "print(text)"
   ]
  },
  {
   "cell_type": "code",
   "execution_count": 49,
   "metadata": {
    "ExecuteTime": {
     "end_time": "2021-02-19T08:40:09.506366Z",
     "start_time": "2021-02-19T08:40:09.502377Z"
    }
   },
   "outputs": [
    {
     "name": "stdout",
     "output_type": "stream",
     "text": [
      "Hello\n",
      "World\n"
     ]
    }
   ],
   "source": [
    "greeting=\"\"\"Hello\n",
    "World\"\"\"\n",
    "print(greeting)"
   ]
  },
  {
   "cell_type": "code",
   "execution_count": 50,
   "metadata": {
    "ExecuteTime": {
     "end_time": "2021-02-19T08:40:28.776344Z",
     "start_time": "2021-02-19T08:40:28.772358Z"
    }
   },
   "outputs": [
    {
     "name": "stdout",
     "output_type": "stream",
     "text": [
      "Hello\n",
      "world\n"
     ]
    }
   ],
   "source": [
    "greeting=\"Hello\\nworld\"\n",
    "print(greeting)"
   ]
  },
  {
   "cell_type": "code",
   "execution_count": 51,
   "metadata": {
    "ExecuteTime": {
     "end_time": "2021-02-19T08:41:16.343763Z",
     "start_time": "2021-02-19T08:41:16.340776Z"
    }
   },
   "outputs": [
    {
     "name": "stdout",
     "output_type": "stream",
     "text": [
      "Hello\\nworld\n"
     ]
    }
   ],
   "source": [
    "print(r\"Hello\\nworld\")#r: row data 데이터 있는거 그대로 뿌려줘라"
   ]
  },
  {
   "cell_type": "code",
   "execution_count": 53,
   "metadata": {
    "ExecuteTime": {
     "end_time": "2021-02-19T08:42:20.359596Z",
     "start_time": "2021-02-19T08:42:20.356604Z"
    }
   },
   "outputs": [
    {
     "name": "stdout",
     "output_type": "stream",
     "text": [
      "Hello, World\n"
     ]
    }
   ],
   "source": [
    "print(\"Hello\"+\", World\")"
   ]
  },
  {
   "cell_type": "code",
   "execution_count": 54,
   "metadata": {
    "ExecuteTime": {
     "end_time": "2021-02-19T08:42:39.537991Z",
     "start_time": "2021-02-19T08:42:39.521066Z"
    }
   },
   "outputs": [
    {
     "name": "stdout",
     "output_type": "stream",
     "text": [
      "HelloHelloHello\n"
     ]
    }
   ],
   "source": [
    "print(\"Hello\"*3)#문자열 *숫자 ; 숫자만큼 반복 "
   ]
  },
  {
   "cell_type": "code",
   "execution_count": 1,
   "metadata": {
    "ExecuteTime": {
     "end_time": "2021-02-19T08:50:31.856566Z",
     "start_time": "2021-02-19T08:50:31.853594Z"
    }
   },
   "outputs": [],
   "source": [
    "str=\"0123456789\""
   ]
  },
  {
   "cell_type": "code",
   "execution_count": null,
   "metadata": {},
   "outputs": [],
   "source": [
    "#문자열 슬라이싱"
   ]
  },
  {
   "cell_type": "code",
   "execution_count": 56,
   "metadata": {
    "ExecuteTime": {
     "end_time": "2021-02-19T08:44:15.134766Z",
     "start_time": "2021-02-19T08:44:15.129804Z"
    }
   },
   "outputs": [
    {
     "data": {
      "text/plain": [
       "'012'"
      ]
     },
     "execution_count": 56,
     "metadata": {},
     "output_type": "execute_result"
    }
   ],
   "source": [
    "str[0:3]#0번쨰 부터 3번쨰 앞까지 ;"
   ]
  },
  {
   "cell_type": "code",
   "execution_count": 57,
   "metadata": {
    "ExecuteTime": {
     "end_time": "2021-02-19T08:44:46.735097Z",
     "start_time": "2021-02-19T08:44:46.731101Z"
    }
   },
   "outputs": [
    {
     "data": {
      "text/plain": [
       "'7'"
      ]
     },
     "execution_count": 57,
     "metadata": {},
     "output_type": "execute_result"
    }
   ],
   "source": [
    "str[-3]#음수인덱스는 뒤에서부터 ;뒤에서부터 3번쨰 "
   ]
  },
  {
   "cell_type": "code",
   "execution_count": null,
   "metadata": {
    "ExecuteTime": {
     "start_time": "2021-02-19T08:45:16.292Z"
    }
   },
   "outputs": [],
   "source": [
    "str[5:]#5번쨰부터 끝까지"
   ]
  },
  {
   "cell_type": "code",
   "execution_count": null,
   "metadata": {},
   "outputs": [],
   "source": [
    "str[:3]#처음부터 3번쨰 앞까지"
   ]
  },
  {
   "cell_type": "code",
   "execution_count": null,
   "metadata": {},
   "outputs": [],
   "source": [
    "str[:]#처음부터 끝까지 "
   ]
  },
  {
   "cell_type": "code",
   "execution_count": null,
   "metadata": {},
   "outputs": [],
   "source": [
    "str[5]"
   ]
  },
  {
   "cell_type": "code",
   "execution_count": null,
   "metadata": {},
   "outputs": [],
   "source": [
    "str[5:100]#5번쨰 끝까지"
   ]
  },
  {
   "cell_type": "code",
   "execution_count": 3,
   "metadata": {
    "ExecuteTime": {
     "end_time": "2021-02-19T08:50:43.820097Z",
     "start_time": "2021-02-19T08:50:43.816108Z"
    }
   },
   "outputs": [
    {
     "name": "stdout",
     "output_type": "stream",
     "text": [
      "02468\n",
      "02468\n"
     ]
    }
   ],
   "source": [
    "print(str[0:9:2])#0번쨰부터 2씩 증가해서 9번째 앞까지 0,2,4,6,8번쨰\n",
    "print(str[::2])"
   ]
  },
  {
   "cell_type": "code",
   "execution_count": 21,
   "metadata": {
    "ExecuteTime": {
     "end_time": "2021-02-19T08:56:26.816289Z",
     "start_time": "2021-02-19T08:56:26.812300Z"
    }
   },
   "outputs": [
    {
     "name": "stdout",
     "output_type": "stream",
     "text": [
      "987654321\n",
      "9876543210\n",
      "987654321\n"
     ]
    }
   ],
   "source": [
    "#끝부터 처음까지 꺼꾸로 \n",
    "print(str[9:0:-1])#9부터 0번쨰 전까지 -1씩 감소\n",
    "print(str[9::-1])#9부터 처음까지 -1씩 감소\n",
    "print(str[:0:-1])#끝부터 처음까지 -1씩 감소 \n"
   ]
  },
  {
   "cell_type": "code",
   "execution_count": 25,
   "metadata": {
    "ExecuteTime": {
     "end_time": "2021-02-19T08:59:08.262028Z",
     "start_time": "2021-02-19T08:59:08.258065Z"
    }
   },
   "outputs": [
    {
     "name": "stdout",
     "output_type": "stream",
     "text": [
      "이름:홍길동, 주소:서울, 전화:02-716-1006, 특징:번쩍번쩍\n"
     ]
    }
   ],
   "source": [
    "import re\n",
    "data=\"이름:홍길동, 주소:서울, 전화:02-716-1006, 특징:번쩍번쩍\"\n",
    "print(data)"
   ]
  },
  {
   "cell_type": "code",
   "execution_count": 27,
   "metadata": {
    "ExecuteTime": {
     "end_time": "2021-02-19T08:59:20.705199Z",
     "start_time": "2021-02-19T08:59:20.701228Z"
    }
   },
   "outputs": [
    {
     "name": "stdout",
     "output_type": "stream",
     "text": [
      "data에서 추출된 전화번호 ['02-716-1006']\n"
     ]
    }
   ],
   "source": [
    "phone_pattern=r'[\\d]{2,3}-[\\d]{3,4}-[\\d]{4}'\n",
    "phone=re.findall(phone_pattern,data)\n",
    "print('data에서 추출된 전화번호',phone)"
   ]
  },
  {
   "cell_type": "markdown",
   "metadata": {},
   "source": [
    "## 논리형(True,False)"
   ]
  },
  {
   "cell_type": "code",
   "execution_count": 28,
   "metadata": {
    "ExecuteTime": {
     "end_time": "2021-02-19T09:01:24.328409Z",
     "start_time": "2021-02-19T09:01:24.323424Z"
    }
   },
   "outputs": [
    {
     "name": "stdout",
     "output_type": "stream",
     "text": [
      "True\n",
      "<class 'bool'>\n",
      "True\n"
     ]
    }
   ],
   "source": [
    "a=True\n",
    "print(a)\n",
    "print(type(a))\n",
    "print(isinstance(a,bool))"
   ]
  },
  {
   "cell_type": "code",
   "execution_count": null,
   "metadata": {},
   "outputs": [],
   "source": [
    "#False로 간주되는 것 : 0,None,\"\",[],(),{}\n",
    "#' ',널문자('\\0')은 True"
   ]
  },
  {
   "cell_type": "code",
   "execution_count": 32,
   "metadata": {
    "ExecuteTime": {
     "end_time": "2021-02-19T09:04:50.606133Z",
     "start_time": "2021-02-19T09:04:50.602163Z"
    }
   },
   "outputs": [
    {
     "name": "stdout",
     "output_type": "stream",
     "text": [
      "F\n"
     ]
    }
   ],
   "source": [
    "if \"\":\n",
    "    print('T')\n",
    "else:\n",
    "    print('F')"
   ]
  },
  {
   "cell_type": "code",
   "execution_count": 34,
   "metadata": {
    "ExecuteTime": {
     "end_time": "2021-02-19T09:05:26.770184Z",
     "start_time": "2021-02-19T09:05:26.766176Z"
    }
   },
   "outputs": [
    {
     "name": "stdout",
     "output_type": "stream",
     "text": [
      "False\n",
      "none\n"
     ]
    }
   ],
   "source": [
    "a=10\n",
    "b=10\n",
    "if a-b:\n",
    "    print(True)\n",
    "    \n",
    "else:\n",
    "    print(False)\n",
    "    print('none')"
   ]
  },
  {
   "cell_type": "code",
   "execution_count": 35,
   "metadata": {
    "ExecuteTime": {
     "end_time": "2021-02-19T09:06:22.424384Z",
     "start_time": "2021-02-19T09:06:22.421398Z"
    }
   },
   "outputs": [
    {
     "name": "stdout",
     "output_type": "stream",
     "text": [
      "False\n"
     ]
    }
   ],
   "source": [
    "if 0+0j:\n",
    "    print(True)\n",
    "else:\n",
    "    print(False)"
   ]
  },
  {
   "cell_type": "code",
   "execution_count": null,
   "metadata": {},
   "outputs": [],
   "source": []
  }
 ],
 "metadata": {
  "kernelspec": {
   "display_name": "Python 3",
   "language": "python",
   "name": "python3"
  },
  "language_info": {
   "codemirror_mode": {
    "name": "ipython",
    "version": 3
   },
   "file_extension": ".py",
   "mimetype": "text/x-python",
   "name": "python",
   "nbconvert_exporter": "python",
   "pygments_lexer": "ipython3",
   "version": "3.8.5"
  },
  "toc": {
   "base_numbering": 1,
   "nav_menu": {},
   "number_sections": true,
   "sideBar": true,
   "skip_h1_title": false,
   "title_cell": "Table of Contents",
   "title_sidebar": "Contents",
   "toc_cell": false,
   "toc_position": {
    "height": "calc(100% - 180px)",
    "left": "10px",
    "top": "150px",
    "width": "192px"
   },
   "toc_section_display": true,
   "toc_window_display": false
  },
  "varInspector": {
   "cols": {
    "lenName": 16,
    "lenType": 16,
    "lenVar": 40
   },
   "kernels_config": {
    "python": {
     "delete_cmd_postfix": "",
     "delete_cmd_prefix": "del ",
     "library": "var_list.py",
     "varRefreshCmd": "print(var_dic_list())"
    },
    "r": {
     "delete_cmd_postfix": ") ",
     "delete_cmd_prefix": "rm(",
     "library": "var_list.r",
     "varRefreshCmd": "cat(var_dic_list()) "
    }
   },
   "types_to_exclude": [
    "module",
    "function",
    "builtin_function_or_method",
    "instance",
    "_Feature"
   ],
   "window_display": false
  }
 },
 "nbformat": 4,
 "nbformat_minor": 4
}
