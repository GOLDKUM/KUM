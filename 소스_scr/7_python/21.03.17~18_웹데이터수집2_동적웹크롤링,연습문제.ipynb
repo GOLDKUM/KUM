{
 "cells": [
  {
   "cell_type": "markdown",
   "metadata": {},
   "source": [
    "**<font size='6' color='red'>ch14. 웹데이터 수집 </font>**"
   ]
  },
  {
   "cell_type": "markdown",
   "metadata": {},
   "source": [
    "# 3절.selenium을 이용한 웹 데이터 수집\n",
    "- selenium python 검색\n",
    "- https://selenium-python.readthedocs.io/getting-started.html\n",
    "\n",
    "- 'pip install selenium'\n"
   ]
  },
  {
   "cell_type": "code",
   "execution_count": 9,
   "metadata": {
    "ExecuteTime": {
     "end_time": "2021-03-18T00:35:18.835563Z",
     "start_time": "2021-03-18T00:35:17.590894Z"
    }
   },
   "outputs": [],
   "source": [
    "from selenium import webdriver\n",
    "driver = webdriver.Chrome('E:\\금경용\\selenium\\chromedriver.exe')"
   ]
  },
  {
   "cell_type": "code",
   "execution_count": 10,
   "metadata": {
    "ExecuteTime": {
     "end_time": "2021-03-18T00:35:28.299690Z",
     "start_time": "2021-03-18T00:35:23.346685Z"
    }
   },
   "outputs": [],
   "source": [
    "driver.get('http://python.org')"
   ]
  },
  {
   "cell_type": "code",
   "execution_count": 11,
   "metadata": {
    "ExecuteTime": {
     "end_time": "2021-03-18T00:35:28.415414Z",
     "start_time": "2021-03-18T00:35:28.333824Z"
    }
   },
   "outputs": [],
   "source": [
    "element=driver.find_element_by_name('q')\n",
    "element.clear()#검색어 청소\n",
    "element.send_keys(\"pycon\")#검색어작성"
   ]
  },
  {
   "cell_type": "code",
   "execution_count": 12,
   "metadata": {
    "ExecuteTime": {
     "end_time": "2021-03-18T00:35:30.407688Z",
     "start_time": "2021-03-18T00:35:29.238339Z"
    }
   },
   "outputs": [],
   "source": [
    "from selenium.webdriver.common.keys import Keys\n",
    "element.send_keys(Keys.RETURN)# Enter키 "
   ]
  },
  {
   "cell_type": "code",
   "execution_count": 13,
   "metadata": {
    "ExecuteTime": {
     "end_time": "2021-03-18T00:35:31.343389Z",
     "start_time": "2021-03-18T00:35:31.340394Z"
    }
   },
   "outputs": [],
   "source": [
    "#find_element_by_css_selector 1개\n",
    "#find_elements_by_css_selector 1개이상"
   ]
  },
  {
   "cell_type": "code",
   "execution_count": 14,
   "metadata": {
    "ExecuteTime": {
     "end_time": "2021-03-18T00:35:32.664524Z",
     "start_time": "2021-03-18T00:35:32.353726Z"
    }
   },
   "outputs": [
    {
     "name": "stdout",
     "output_type": "stream",
     "text": [
      "PSF PyCon Trademark Usage Policy - https://www.python.org/psf/trademarks/pycon\n",
      "Conferences and Workshops - https://www.python.org/community/workshops\n",
      "PyCon Italia 2016 (PyCon Sette) - https://www.python.org/events/python-events/378/\n",
      "2008-04-14 PSF Board Meeting Minutes - https://www.python.org/psf/records/board/minutes/2008-04-14\n",
      "2012-07-16 PSF Board Meeting Minutes - https://www.python.org/psf/records/board/minutes/2012-07-16\n",
      "2013-02-06 PSF Board Meeting Minutes - https://www.python.org/psf/records/board/minutes/2013-02-06\n",
      "PyCon Home at python.org - https://www.python.org/community/pycon\n",
      "PyCon Australia 2013 - https://www.python.org/events/python-events/57/\n",
      "PyCon AU 2019 - https://www.python.org/events/python-events/776/\n",
      "PyCon Australia 2014 - https://www.python.org/events/python-events/10/\n",
      "PyCon Ireland 2012 - https://www.python.org/events/python-events/76/\n",
      "PyCon Ireland 2016 - https://www.python.org/events/python-events/429/\n",
      "PyCon AU 2018 - https://www.python.org/events/python-events/696/\n",
      "PyCon Ireland 2015 - https://www.python.org/events/python-events/333/\n",
      "PyCon PL 2014 - https://www.python.org/events/python-events/191/\n",
      "PyCon AU 2015 - https://www.python.org/events/python-events/273/\n",
      "PyCon MY 2015 - https://www.python.org/events/python-events/313/\n",
      "PyCon Australia 2016 - https://www.python.org/events/python-events/357/\n",
      "PyCon MY 2014 - https://www.python.org/events/python-events/151/\n",
      "PyCon Ireland 2014 - https://www.python.org/events/python-events/149/\n"
     ]
    }
   ],
   "source": [
    "result_list=driver.find_elements_by_css_selector('form h3 > a') # form h3 > a\n",
    "for result in result_list:\n",
    "    print(\"%s - %s\" % (result.text,result.get_attribute('href'))) "
   ]
  },
  {
   "cell_type": "code",
   "execution_count": 15,
   "metadata": {
    "ExecuteTime": {
     "end_time": "2021-03-18T00:35:37.981371Z",
     "start_time": "2021-03-18T00:35:37.960452Z"
    }
   },
   "outputs": [
    {
     "data": {
      "text/plain": [
       "'Conferences and Workshops'"
      ]
     },
     "execution_count": 15,
     "metadata": {},
     "output_type": "execute_result"
    }
   ],
   "source": [
    "result_list[1].text"
   ]
  },
  {
   "cell_type": "code",
   "execution_count": 16,
   "metadata": {
    "ExecuteTime": {
     "end_time": "2021-03-18T00:35:38.909495Z",
     "start_time": "2021-03-18T00:35:38.894543Z"
    }
   },
   "outputs": [
    {
     "data": {
      "text/plain": [
       "'PSF PyCon Trademark Usage Policy'"
      ]
     },
     "execution_count": 16,
     "metadata": {},
     "output_type": "execute_result"
    }
   ],
   "source": [
    "result_list[0].text"
   ]
  },
  {
   "cell_type": "code",
   "execution_count": 17,
   "metadata": {
    "ExecuteTime": {
     "end_time": "2021-03-18T00:35:39.523155Z",
     "start_time": "2021-03-18T00:35:39.519187Z"
    }
   },
   "outputs": [
    {
     "data": {
      "text/plain": [
       "list"
      ]
     },
     "execution_count": 17,
     "metadata": {},
     "output_type": "execute_result"
    }
   ],
   "source": [
    "type(result_list)"
   ]
  },
  {
   "cell_type": "code",
   "execution_count": 18,
   "metadata": {
    "ExecuteTime": {
     "end_time": "2021-03-18T00:35:50.694786Z",
     "start_time": "2021-03-18T00:35:50.632951Z"
    }
   },
   "outputs": [],
   "source": [
    "#브라우저 종료\n",
    "driver.close()"
   ]
  },
  {
   "cell_type": "markdown",
   "metadata": {},
   "source": [
    "**맞춤법 검사기(네이버 맞춤법 검사기 이용)**"
   ]
  },
  {
   "cell_type": "code",
   "execution_count": 37,
   "metadata": {
    "ExecuteTime": {
     "end_time": "2021-03-18T01:03:25.699554Z",
     "start_time": "2021-03-18T01:03:25.695590Z"
    }
   },
   "outputs": [],
   "source": [
    "from selenium import webdriver\n",
    "from selenium.webdriver.common.keys import Keys #엔터입력 컨틀롤입력 등등조작어\n",
    "from bs4 import BeautifulSoup\n",
    "import time\n",
    "\n"
   ]
  },
  {
   "cell_type": "code",
   "execution_count": 39,
   "metadata": {
    "ExecuteTime": {
     "end_time": "2021-03-18T01:03:38.683712Z",
     "start_time": "2021-03-18T01:03:33.306710Z"
    }
   },
   "outputs": [],
   "source": [
    "driver = webdriver.Chrome('E:\\금경용\\selenium\\chromedriver.exe')\n",
    "driver.get('http://www.naver.com')\n",
    "element=driver.find_element_by_name('query')\n",
    "element.clear()#검색어 청소\n",
    "element.send_keys(\"맞춤법 검사기\")#검색어작성\n",
    "element.send_keys(Keys.RETURN)# Enter키 "
   ]
  },
  {
   "cell_type": "code",
   "execution_count": 43,
   "metadata": {
    "ExecuteTime": {
     "end_time": "2021-03-18T01:03:57.856237Z",
     "start_time": "2021-03-18T01:03:57.749948Z"
    }
   },
   "outputs": [],
   "source": [
    "textarea=driver.find_element_by_class_name('txt_gray')\n",
    "textarea.send_keys('한녕하세요. 방갑습니다.')"
   ]
  },
  {
   "cell_type": "code",
   "execution_count": 44,
   "metadata": {
    "ExecuteTime": {
     "end_time": "2021-03-18T01:03:58.959965Z",
     "start_time": "2021-03-18T01:03:58.900747Z"
    }
   },
   "outputs": [],
   "source": [
    "button=driver.find_element_by_class_name('btn_check')\n",
    "button.click()"
   ]
  },
  {
   "cell_type": "code",
   "execution_count": 50,
   "metadata": {
    "ExecuteTime": {
     "end_time": "2021-03-18T01:06:25.411653Z",
     "start_time": "2021-03-18T01:06:25.273963Z"
    }
   },
   "outputs": [
    {
     "data": {
      "text/plain": [
       "'안녕하세요. 반갑습니다.'"
      ]
     },
     "execution_count": 50,
     "metadata": {},
     "output_type": "execute_result"
    }
   ],
   "source": [
    "soup=BeautifulSoup(driver.page_source,\"html.parser\")\n",
    "result=soup.select_one('p._result_text.stand_txt').text\n",
    "result"
   ]
  },
  {
   "cell_type": "code",
   "execution_count": 51,
   "metadata": {
    "ExecuteTime": {
     "end_time": "2021-03-18T01:07:05.442049Z",
     "start_time": "2021-03-18T01:07:01.321665Z"
    }
   },
   "outputs": [],
   "source": [
    "driver.close()"
   ]
  },
  {
   "cell_type": "code",
   "execution_count": 61,
   "metadata": {
    "ExecuteTime": {
     "end_time": "2021-03-18T01:19:02.398415Z",
     "start_time": "2021-03-18T01:18:49.105992Z"
    }
   },
   "outputs": [
    {
     "data": {
      "text/plain": [
       "'안녕하세요. 반갑습니다.'"
      ]
     },
     "execution_count": 61,
     "metadata": {},
     "output_type": "execute_result"
    }
   ],
   "source": [
    "from selenium import webdriver\n",
    "from selenium.webdriver.common.keys import Keys #엔터입력 컨틀롤입력 등등조작어\n",
    "from bs4 import BeautifulSoup\n",
    "import time\n",
    "driver = webdriver.Chrome('E:\\금경용\\selenium\\chromedriver.exe')\n",
    "driver.get('http://www.naver.com')\n",
    "element=driver.find_element_by_name('query')\n",
    "element.clear()#검색어 청소\n",
    "element.send_keys(\"맞춤법 검사기\")#검색어작성\n",
    "element.send_keys(Keys.RETURN)# Enter키 \n",
    "time.sleep(3)\n",
    "textarea=driver.find_element_by_class_name('txt_gray')\n",
    "textarea.clear()\n",
    "textarea.send_keys('한녕하세요. 방갑습니다.')\n",
    "\n",
    "\n",
    "button=driver.find_element_by_class_name('btn_check')\n",
    "button.click()\n",
    "time.sleep(3)# 검사하기 클릭 후 잠시 후 에 결과 크롤링!\n",
    "\n",
    "soup=BeautifulSoup(driver.page_source,\"html.parser\")\n",
    "result=soup.select_one('p._result_text.stand_txt').text\n",
    "result"
   ]
  },
  {
   "cell_type": "markdown",
   "metadata": {},
   "source": [
    "**맞춤법검사가 안 된 text파일을 맞춤법 검사가 완료된 text파일로 output**"
   ]
  },
  {
   "cell_type": "code",
   "execution_count": 90,
   "metadata": {
    "ExecuteTime": {
     "end_time": "2021-03-18T05:37:28.909573Z",
     "start_time": "2021-03-18T05:37:05.627841Z"
    }
   },
   "outputs": [
    {
     "name": "stdout",
     "output_type": "stream",
     "text": [
      "반갑습니다.\n",
      " 이 부분의 본문은 한반도입니다.\n",
      " 맞춤법 검사입니다.\n",
      "한국은 동아시아의 한반도에 위치하고 있다.\n",
      " 북서쪽으로는 압록강을 경계로 중국과 경계를 이루고, 북동쪽으로는 두만강을 경계로 중국 및 러시아와 마주하고 있다.\n",
      " 삼면이 바다인 한국에는 서쪽으로 황해(서해), 동쪽으로 동해, 남쪽으로 남해에 의해 둘러싸여 있다.\n",
      " 한반도 및 부속도서의 최북단은 함경북도의 온성, 최서단은 평안북도의 마안도, 최동단은 경상북도 울릉군에 속한 섬 독도, 최남단은 마라도이다.\n",
      " 조선시대의 인구 조사에 따르면 조선의 인구는 대체로 700만 명을 넘지 못했다.\n",
      " 조세와 부역 등을 피하려고 호구조사를 기피하는 등 여러 가지 요인으로 40% 가까이 누락되었을 것으로 추측되고[2] 실제 인구는 조선 시대 중기에 와서 1천만 명 내외, 후기에는 약 1,300만 명이었을 것으로 추측된다.\n",
      " 1910년 일제의 조사에 따르면 대한 제국의 인구는 약 1,312여만 명으로 나타난다.\n",
      " 그러나, 학계에서는 1910년 무렵에는1,742만 명 전도였을 것으로 추정한다.\n",
      "[3] 국권 피탈 후 현대적 인구 조사를 한 1925년에는 1,900만여 명, 1935년에는 2,289만 9천여 명 1944년에는 2,590만여 명으로 증가하였다.\n",
      "1911년의 성비(여자 100명 당 남자의 수)는 110.\n",
      "9로 심한 남초 현상을 보였으나, 1944년에는 99.\n",
      "4로 여초로 바뀌었다.\n",
      " 대한민국에서는 1949년 102.\n",
      "1로 남초 현상을 보이다가 1955년에는 100.\n",
      "1로 균형이 이루어졌다.\n",
      "2017년 12월 말 기준으로 외국인을 제외한 대한민국의 총인구는 5천177만 8544 명[4]이고, 2016년 12월 말 기준으로 조선민주주의인민공화국의 인구는 약 2천537만 명으로 추산된다.\n",
      " 약 700만 명인 해외 거주 한인(韓人) 중 400여만 명인 외국 국적자를 제외한 전체 한국인 수는 약 8천만 명이다.\n",
      "한반도의 동부 및 북부는 비교적 높은 신들로 이루어진 산지 지형을 특징으로 하고, 서쪽으로 갈수록 대체로 완만한 경사를 이루어서해로 흘러드는 하천에 의해 형성된 여러 충적평야와 구릉지들이 나타난다.\n",
      " 한국에서 가장 높은 산은 백두산(2,744m)이며, 관모봉(冠帽峰, 2,541m), 북수백산(北水白山, 2,522m)의 순이다.\n",
      " 한국 북부의 개마고원은 '한국의 지붕'이라고 불리는 고지대이며, 반도의 동해안을 따라 달리는 산맥인 태백산맥은 백두대간이라고도 불린다.\n",
      "한국의 주요한 섬으로는 면적 순로 제주도, 거제도, 진도, 강화도 등이 있는데, 대부분의 섬이 황해와 남해의 근해에 형성되어 있는 한편 제주도와 울릉도는 화산 활동에 의해 형성되어 비교적 고립되어 있다.\n",
      " 한국의 황해안과 남해안은 리아스식 해안이 발달되어 있으며, 조수 간만의 차가 크다.\n",
      "감사합니다.\n",
      " 반갑습니다\n"
     ]
    }
   ],
   "source": [
    "from selenium import webdriver\n",
    "from selenium.webdriver.common.keys import Keys #엔터입력 컨틀롤입력 등등조작어\n",
    "from bs4 import BeautifulSoup\n",
    "import time\n",
    "\n",
    "with open('data/ch14.txt','r',encoding='utf-8') as f:\n",
    "    text=f.read()\n",
    "text\n",
    "len(text)\n",
    "ready_list=[]\n",
    "while len(text) >500:\n",
    "    temp_str=text[:500]\n",
    "    last_space_idx=temp_str.rfind(' ')\n",
    "    ready_list.append(text[:last_space_idx])#\n",
    "    text= text[last_space_idx:]#ready_list에 append한 앞부분은 날림\n",
    "ready_list.append(text)\n",
    "\n",
    "driver = webdriver.Chrome('E:\\금경용\\selenium\\chromedriver.exe')\n",
    "driver.get('http://www.naver.com')\n",
    "element=driver.find_element_by_name('query')\n",
    "element.clear()#검색어 청소\n",
    "element.send_keys(\"맞춤법 검사기\")#검색어작성\n",
    "element.send_keys(Keys.RETURN)# Enter키 \n",
    "time.sleep(3)\n",
    "textarea=driver.find_element_by_class_name('txt_gray')\n",
    "results=\"\"\n",
    "\n",
    "for ready in ready_list:\n",
    "    textarea.clear()\n",
    "    #textarea.send_keys(Keys.CONTROL,'a')\n",
    "    textarea.send_keys(ready)\n",
    "    button=driver.find_element_by_class_name(\"btn_check\")\n",
    "    button.click()\n",
    "    time.sleep(3)\n",
    "    soup=BeautifulSoup(driver.page_source,\"html.parser\")\n",
    "    result=soup.select_one('p._result_text.stand_txt').text\n",
    "    results+=result.replace('.','.\\n')\n",
    "    \n",
    "print(results)\n",
    "with open('data/ch14_check.txt','w',encoding='utf-8') as f:\n",
    "    f.write(results)"
   ]
  },
  {
   "cell_type": "code",
   "execution_count": null,
   "metadata": {},
   "outputs": [],
   "source": [
    "# v파파고\n",
    "ready_list.append(text[:last_space_idx+1])#\n",
    "text= text[last_space_idx+1:]"
   ]
  }
 ],
 "metadata": {
  "kernelspec": {
   "display_name": "Python 3",
   "language": "python",
   "name": "python3"
  },
  "language_info": {
   "codemirror_mode": {
    "name": "ipython",
    "version": 3
   },
   "file_extension": ".py",
   "mimetype": "text/x-python",
   "name": "python",
   "nbconvert_exporter": "python",
   "pygments_lexer": "ipython3",
   "version": "3.8.5"
  },
  "toc": {
   "base_numbering": 1,
   "nav_menu": {},
   "number_sections": false,
   "sideBar": true,
   "skip_h1_title": false,
   "title_cell": "Table of Contents",
   "title_sidebar": "Contents",
   "toc_cell": false,
   "toc_position": {},
   "toc_section_display": true,
   "toc_window_display": false
  },
  "varInspector": {
   "cols": {
    "lenName": 16,
    "lenType": 16,
    "lenVar": 40
   },
   "kernels_config": {
    "python": {
     "delete_cmd_postfix": "",
     "delete_cmd_prefix": "del ",
     "library": "var_list.py",
     "varRefreshCmd": "print(var_dic_list())"
    },
    "r": {
     "delete_cmd_postfix": ") ",
     "delete_cmd_prefix": "rm(",
     "library": "var_list.r",
     "varRefreshCmd": "cat(var_dic_list()) "
    }
   },
   "types_to_exclude": [
    "module",
    "function",
    "builtin_function_or_method",
    "instance",
    "_Feature"
   ],
   "window_display": false
  }
 },
 "nbformat": 4,
 "nbformat_minor": 4
}
