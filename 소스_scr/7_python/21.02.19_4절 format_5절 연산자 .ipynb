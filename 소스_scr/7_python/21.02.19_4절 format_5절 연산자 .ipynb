{
 "cells": [
  {
   "cell_type": "markdown",
   "metadata": {},
   "source": [
    "# 4절. 포맷팅"
   ]
  },
  {
   "cell_type": "markdown",
   "metadata": {},
   "source": [
    "- 포맷팅이란 출력할 문자, 숫자, 날짜 데이터에 형식을 지정하는 것 \n",
    "- 변수와 텍스트를 결합해서 보기 좋은 형식의 새로운 테스트를 만들떄 사용"
   ]
  },
  {
   "cell_type": "markdown",
   "metadata": {},
   "source": [
    "## 4.1 문자열에 형식 지정 "
   ]
  },
  {
   "cell_type": "code",
   "execution_count": 179,
   "metadata": {
    "ExecuteTime": {
     "end_time": "2021-02-22T04:16:15.398465Z",
     "start_time": "2021-02-22T04:16:15.393478Z"
    }
   },
   "outputs": [
    {
     "name": "stdout",
     "output_type": "stream",
     "text": [
      "홍길동님의 나이는30살입니다\n",
      "홍길동님의 나이는 30살입니다\n"
     ]
    }
   ],
   "source": [
    "name = \"홍길동\"\n",
    "age = 30 \n",
    "print(name, '님의 나이는',age,'살입니다',sep='')\n",
    "#변수와 텍스트를 번갈아 사용해서 형식을 지정하는 것은 가독성이 떨어지고 코드를 작성하기 불편\n",
    "print(name+'님의 나이는',str(age)+'살입니다')"
   ]
  },
  {
   "cell_type": "code",
   "execution_count": 5,
   "metadata": {
    "ExecuteTime": {
     "end_time": "2021-02-22T00:49:42.559484Z",
     "start_time": "2021-02-22T00:49:42.543862Z"
    }
   },
   "outputs": [
    {
     "data": {
      "text/plain": [
       "'홍길동님의 나이는 30살입니다'"
      ]
     },
     "execution_count": 5,
     "metadata": {},
     "output_type": "execute_result"
    }
   ],
   "source": [
    "# 이전 스타일\n",
    "#%s문자열 ,%c문자, %d정수, %f 실수,%x 16진수,%o8진수, % 문자%\n",
    "print(\"%s님의 나이는 %d살입니다\"%(name,age))"
   ]
  },
  {
   "cell_type": "code",
   "execution_count": 153,
   "metadata": {
    "ExecuteTime": {
     "end_time": "2021-02-22T04:01:37.323261Z",
     "start_time": "2021-02-22T04:01:37.320283Z"
    }
   },
   "outputs": [
    {
     "data": {
      "text/plain": [
       "'홍길동님의 나이는 23살입니다'"
      ]
     },
     "execution_count": 153,
     "metadata": {},
     "output_type": "execute_result"
    }
   ],
   "source": [
    "#새로운 스타일\n",
    "\"{}님의 나이는 {}살입니다\".format(name,age)"
   ]
  },
  {
   "cell_type": "code",
   "execution_count": 8,
   "metadata": {
    "ExecuteTime": {
     "end_time": "2021-02-22T00:57:46.877816Z",
     "start_time": "2021-02-22T00:57:46.873826Z"
    }
   },
   "outputs": [
    {
     "data": {
      "text/plain": [
       "'홍길동님의 나이는 30살입니다'"
      ]
     },
     "execution_count": 8,
     "metadata": {},
     "output_type": "execute_result"
    }
   ],
   "source": [
    "\"{1}님의 나이는 {0}살입니다\".format(age,name)"
   ]
  },
  {
   "cell_type": "markdown",
   "metadata": {},
   "source": [
    "## 4.2 format()함수 문법"
   ]
  },
  {
   "cell_type": "markdown",
   "metadata": {},
   "source": [
    "<font size=\"4\">'{[인덱스]:[공백대체문자][정렬방법][자릿수][타입]}'.format(변수명)"
   ]
  },
  {
   "cell_type": "code",
   "execution_count": null,
   "metadata": {},
   "outputs": [],
   "source": [
    "#인덱스:출력할 인수의 인덱스(순서)\n",
    "#정렬방법:<기호는 왼쪽정렬,>기호는 오른쪽 정렬,^기호는 가운대 정렬\n",
    "#자릿수: 출력할 자릿수 지정. 변수보다 적은 자릿수가 지정될 경우 무시되고 변수가 다 출력 \n",
    "#타입: d는 10진수, f는 실수, s는 문자, b는 2진수, o는 8진수, x는 16진수 "
   ]
  },
  {
   "cell_type": "code",
   "execution_count": 13,
   "metadata": {
    "ExecuteTime": {
     "end_time": "2021-02-22T01:10:47.150737Z",
     "start_time": "2021-02-22T01:10:43.316146Z"
    }
   },
   "outputs": [
    {
     "name": "stdout",
     "output_type": "stream",
     "text": [
      "이름은  금경용\n",
      "나이는 30\n",
      "금경용님의 나이는 30입니다\n",
      "금경용님의 나이는 30입니다\n"
     ]
    }
   ],
   "source": [
    "name = input('이름은  ')\n",
    "age = int(input('나이는 '))\n",
    "print(\"{}님의 나이는 {}입니다\".format(name,age))\n",
    "print(\"{1}님의 나이는 {0}입니다\".format(age,name))#인덱스는 순서 지정 "
   ]
  },
  {
   "cell_type": "code",
   "execution_count": 10,
   "metadata": {
    "ExecuteTime": {
     "end_time": "2021-02-22T01:07:23.676966Z",
     "start_time": "2021-02-22T01:07:23.671984Z"
    }
   },
   "outputs": [
    {
     "name": "stdout",
     "output_type": "stream",
     "text": [
      "30살 금경용님은 30살이 참 좋은 걸 알려나\n"
     ]
    }
   ],
   "source": [
    "print(\"{0}살 {1}님은 {0}살이 참 좋은 걸 알려나\".format(age,name))"
   ]
  },
  {
   "cell_type": "code",
   "execution_count": 17,
   "metadata": {
    "ExecuteTime": {
     "end_time": "2021-02-22T01:16:19.520227Z",
     "start_time": "2021-02-22T01:16:19.516238Z"
    }
   },
   "outputs": [
    {
     "name": "stdout",
     "output_type": "stream",
     "text": [
      "출력:10,10,   20\n"
     ]
    }
   ],
   "source": [
    "#{}만 쓸 경우 변수의 수와 갯수가 작으면 오류\n",
    "a , b = 10, 20 \n",
    "print(\"출력:{0:1},{0:2},{1:5}\".format(a,b))"
   ]
  },
  {
   "cell_type": "code",
   "execution_count": 18,
   "metadata": {
    "ExecuteTime": {
     "end_time": "2021-02-22T01:16:41.588216Z",
     "start_time": "2021-02-22T01:16:41.584226Z"
    }
   },
   "outputs": [
    {
     "name": "stdout",
     "output_type": "stream",
     "text": [
      "출력 : [12345],[     12345],[12345]\n",
      "출력 : [Hello],[Hello     ],[Hello]\n"
     ]
    }
   ],
   "source": [
    "#자릿수 지정: 숫자의 경우 출력할 변수보다 큰 자릿수를 지정하면 오른쪽 정렬(기본값 )\n",
    "#문자의 경우  숫자의 경우 출력할 변수보다 큰 자릿수를 지정하면 왼쪽 정렬(기본값 )\n",
    "#변수보다 작은 자리수를 지정하면 자리수 지정이 무시되고 다 출력\n",
    "a=12345\n",
    "s=\"Hello\"\n",
    "print(\"출력 : [{}],[{:10}],[{:3}]\".format(a,a,a))\n",
    "print(\"출력 : [{}],[{:10}],[{:3}]\".format(s,s,s))"
   ]
  },
  {
   "cell_type": "code",
   "execution_count": 20,
   "metadata": {
    "ExecuteTime": {
     "end_time": "2021-02-22T01:21:05.596351Z",
     "start_time": "2021-02-22T01:21:05.592360Z"
    }
   },
   "outputs": [
    {
     "name": "stdout",
     "output_type": "stream",
     "text": [
      "출력\n",
      "10진수 -12345, 실수 - 12345.0, 2진수-11000000111001, 8진수 -30071, 16진수 -3039\n"
     ]
    }
   ],
   "source": [
    "a=12345 #숫자의 경우 다양한 진수로 표현\n",
    "print(\"\"\"출력\n",
    "10진수 -{:d}, 실수 - {:7.1f}, 2진수-{:b}, 8진수 -{:o}, 16진수 -{:x}\"\"\".\\\n",
    "      format(a,a,a,a,a))"
   ]
  },
  {
   "cell_type": "code",
   "execution_count": 24,
   "metadata": {
    "ExecuteTime": {
     "end_time": "2021-02-22T01:37:36.823099Z",
     "start_time": "2021-02-22T01:37:36.819109Z"
    }
   },
   "outputs": [
    {
     "name": "stdout",
     "output_type": "stream",
     "text": [
      "출력: [    10],[20    ],[  30  ]\n"
     ]
    }
   ],
   "source": [
    "# 정렬방법 < > ^(정확하게 가운데가 안되면 하나 왼쪽)\n",
    "#{[인덱스]:[공백대체문자][정렬방법][자릿수][타입]}'\n",
    "a, b, c= 10,20,30\n",
    "print(\"출력: [{:>6d}],[{:<6d}],[{:^6}]\".format(a,b,c))"
   ]
  },
  {
   "cell_type": "code",
   "execution_count": 26,
   "metadata": {
    "ExecuteTime": {
     "end_time": "2021-02-22T01:41:06.535568Z",
     "start_time": "2021-02-22T01:41:06.531578Z"
    }
   },
   "outputs": [
    {
     "name": "stdout",
     "output_type": "stream",
     "text": [
      "출력: [$$$$$$$$10],[Hello***************],[Hel_______]\n"
     ]
    }
   ],
   "source": [
    "# 인덱스:공백대체문자 정렬방법 자릿수 타입\n",
    "a=10\n",
    "s=\"Hello\"\n",
    "print(\"출력: [{0:$>10}],[{1:*<20}],[{1:_<10.3}]\".format(a,s))\n",
    "                                        #10.3: 전체 10자리 확보, 변수는 3자리만 출력 \n"
   ]
  },
  {
   "cell_type": "code",
   "execution_count": 34,
   "metadata": {
    "ExecuteTime": {
     "end_time": "2021-02-22T01:43:45.848301Z",
     "start_time": "2021-02-22T01:43:45.844312Z"
    }
   },
   "outputs": [
    {
     "name": "stdout",
     "output_type": "stream",
     "text": [
      "10$$$$$$$$/Hel*****************\n"
     ]
    }
   ],
   "source": [
    "#주의점: 공백대체문자를 지정할떄는 반드시 정렬기호, 자릿수를 표현해야한다.\n",
    "print(\"{0:$<10}/{1:*<20.3}\".format(a,s))"
   ]
  },
  {
   "cell_type": "code",
   "execution_count": 46,
   "metadata": {
    "ExecuteTime": {
     "end_time": "2021-02-22T01:53:58.487546Z",
     "start_time": "2021-02-22T01:53:58.471898Z"
    }
   },
   "outputs": [
    {
     "name": "stdout",
     "output_type": "stream",
     "text": [
      "출력: [      -123] [      +123] [      +123]\n",
      "출력: [-      123] [       123] [       123]\n",
      "출력: [-      123] [+      123] [+      123]\n",
      "출력: [-******123] [+      123] [+000000123]\n",
      "출력: [-******123] [+$$$$$$123] [+______123]\n"
     ]
    }
   ],
   "source": [
    "# + (+을 붙이면 양주의 경우 숫자앞에 부호를 붙여줌)\n",
    "# =를 붙이면 전체 자리수만큼 출력하는 문자의 맨 앞에 부호 표시 \n",
    "# =+를 사용하면 =도 표시\n",
    "#자리수앞에 0을 채우면 빈자리에 0을 채워\n",
    "#공백대체문자는 =앞에 \n",
    "#공백대체문자와 자리수 앞에 0을 붙이는 것은 같이 자리수앞에 0이 무시\n",
    "    #(공백데체문자와 자리수 앞 0은 공백대체문자가 우선순위가 높음)\n",
    "a,b =123, -123\n",
    "print(\"출력: [{:+10}] [{:+10}] [{:+10}]\".format(b,a,a))\n",
    "print(\"출력: [{:=10}] [{:=10}] [{:=10}]\".format(b,a,a))\n",
    "print(\"출력: [{:=+10}] [{:=+10}] [{:=+10}]\".format(b,a,a))\n",
    "print(\"출력: [{:*=+10}] [{:=+10}] [{:=+010}]\".format(b,a,a))\n",
    "\n",
    "print(\"출력: [{:*=+10}] [{:$=+10}] [{:_=+010}]\".format(b,a,a))"
   ]
  },
  {
   "cell_type": "code",
   "execution_count": 55,
   "metadata": {
    "ExecuteTime": {
     "end_time": "2021-02-22T01:57:52.824735Z",
     "start_time": "2021-02-22T01:57:52.820755Z"
    }
   },
   "outputs": [
    {
     "name": "stdout",
     "output_type": "stream",
     "text": [
      "\n",
      "a=[_______2.8]\n",
      "s=[He________]\n"
     ]
    }
   ],
   "source": [
    "#전체자리수,표현될자리수\n",
    "# 자리수.자리수\n",
    "a= 2.785\n",
    "s=\"Hello\"\n",
    "print(\"\")\n",
    "print(\"a=[{:_>10.2}]\".format(a))\n",
    "print(\"s=[{:_<10.2}]\".format(s))"
   ]
  },
  {
   "cell_type": "code",
   "execution_count": 57,
   "metadata": {
    "ExecuteTime": {
     "end_time": "2021-02-22T01:59:49.675327Z",
     "start_time": "2021-02-22T01:59:49.671337Z"
    }
   },
   "outputs": [
    {
     "name": "stdout",
     "output_type": "stream",
     "text": [
      "a=[ 2.8]\n"
     ]
    }
   ],
   "source": [
    "#전체자리수.소수점자리수f_ _._ 전체자리수에는 소수점 포함\n",
    "print(\"a=[{:4.1f}]\".format(a)) #_ _ . _"
   ]
  },
  {
   "cell_type": "code",
   "execution_count": 60,
   "metadata": {
    "ExecuteTime": {
     "end_time": "2021-02-22T02:03:42.169780Z",
     "start_time": "2021-02-22T02:03:42.164793Z"
    }
   },
   "outputs": [
    {
     "name": "stdout",
     "output_type": "stream",
     "text": [
      "출력 : [0123456789]\n",
      "출력 : [      2.79]\n",
      "출력 : [      2.79]\n"
     ]
    }
   ],
   "source": [
    "#format함수의 매개변수에 출력포맷\n",
    "a=2.785\n",
    "print(\"출력 : [0123456789]\")\n",
    "print(\"출력 : [{:>10.3}]\".format(a))\n",
    "print(\"출력 : [{:{}{}.{}}]\".format(a,'>',10,3))\n"
   ]
  },
  {
   "cell_type": "code",
   "execution_count": 61,
   "metadata": {
    "ExecuteTime": {
     "end_time": "2021-02-22T02:05:47.280465Z",
     "start_time": "2021-02-22T02:05:47.276475Z"
    }
   },
   "outputs": [
    {
     "name": "stdout",
     "output_type": "stream",
     "text": [
      "출력 : [0123456789]\n",
      "출력 : [     +2.79]\n",
      "출력 : [     +2.79]\n"
     ]
    }
   ],
   "source": [
    "a=2.785\n",
    "print(\"출력 : [0123456789]\")\n",
    "print(\"출력 : [{:>+10.3}]\".format(a))\n",
    "print(\"출력 : [{:{}{}{}.{}}]\".format(a,'>','+',10,3))"
   ]
  },
  {
   "cell_type": "code",
   "execution_count": 62,
   "metadata": {
    "ExecuteTime": {
     "end_time": "2021-02-22T02:07:37.341057Z",
     "start_time": "2021-02-22T02:07:37.336070Z"
    }
   },
   "outputs": [
    {
     "name": "stdout",
     "output_type": "stream",
     "text": [
      "출력 : [0123456789]\n",
      "출력 : [     +2.79]\n",
      "출력 : [     +2.79]\n"
     ]
    }
   ],
   "source": [
    "#가독성ㅇ르 높이고자 포맷인자에 이름을 부여\n",
    "a=2.785\n",
    "print(\"출력 : [0123456789]\")\n",
    "print(\"출력 : [{:>+10.3}]\".format(a))\n",
    "print(\"출력 : [{:{dir}{sing}{width}.{precision}}]\".format(a,\n",
    "                dir='>',sing='+',width=10,precision=3))"
   ]
  },
  {
   "cell_type": "code",
   "execution_count": 65,
   "metadata": {
    "ExecuteTime": {
     "end_time": "2021-02-22T02:11:36.534606Z",
     "start_time": "2021-02-22T02:11:36.530637Z"
    }
   },
   "outputs": [
    {
     "name": "stdout",
     "output_type": "stream",
     "text": [
      "10진수:[      15]\n",
      "2진수:[00001111]\n",
      "8진수:[00000017]\n",
      "16진수:[0000000f]\n"
     ]
    }
   ],
   "source": [
    "a=15\n",
    "print(\"10진수:[{:8d}]\".format(a))\n",
    "print(\"2진수:[{:08b}]\".format(a))\n",
    "print(\"8진수:[{:08o}]\".format(a))\n",
    "print(\"16진수:[{:08x}]\".format(a))"
   ]
  },
  {
   "cell_type": "markdown",
   "metadata": {
    "ExecuteTime": {
     "end_time": "2021-02-22T01:45:40.789375Z",
     "start_time": "2021-02-22T01:45:40.785411Z"
    }
   },
   "source": [
    "## 4.3날짜 출력"
   ]
  },
  {
   "cell_type": "code",
   "execution_count": 66,
   "metadata": {
    "ExecuteTime": {
     "end_time": "2021-02-22T02:19:22.658390Z",
     "start_time": "2021-02-22T02:19:22.653416Z"
    }
   },
   "outputs": [
    {
     "data": {
      "text/plain": [
       "time.struct_time(tm_year=2021, tm_mon=2, tm_mday=22, tm_hour=11, tm_min=19, tm_sec=22, tm_wday=0, tm_yday=53, tm_isdst=0)"
      ]
     },
     "execution_count": 66,
     "metadata": {},
     "output_type": "execute_result"
    }
   ],
   "source": [
    "# %Y는 연도4자리, %y는 연도2자리 , %m은 월 ,%d은 일\n",
    "# %H는 24시간, %I는 12시간, %p는 PM도는 AM, %M은 분, %S는 초를 의미 \n",
    "from time import localtime # time패키지에서 Localtime라는 함수 사용 \n",
    "now = localtime()\n",
    "now #현재 날짜와 시간 "
   ]
  },
  {
   "cell_type": "code",
   "execution_count": 69,
   "metadata": {
    "ExecuteTime": {
     "end_time": "2021-02-22T02:23:18.628633Z",
     "start_time": "2021-02-22T02:23:18.624669Z"
    }
   },
   "outputs": [
    {
     "name": "stdout",
     "output_type": "stream",
     "text": [
      "2021년 02월 22일 11: 19: 22\n",
      "2021년 02월 22일 AM: 11: 19: 22\n"
     ]
    }
   ],
   "source": [
    "#날짜를 문자열로 출력하기 위해 format보다 strftime()함수 이용 \n",
    "from time import strftime\n",
    "print(strftime(\"%Y년 %m월 %d일 %H: %M: %S\",now))\n",
    "print(strftime(\"%Y년 %m월 %d일 %p: %I: %M: %S\",now))"
   ]
  },
  {
   "cell_type": "code",
   "execution_count": 71,
   "metadata": {
    "ExecuteTime": {
     "end_time": "2021-02-22T02:37:30.798831Z",
     "start_time": "2021-02-22T02:37:30.794842Z"
    }
   },
   "outputs": [
    {
     "data": {
      "text/plain": [
       "datetime.datetime(2021, 4, 30, 18, 20)"
      ]
     },
     "execution_count": 71,
     "metadata": {},
     "output_type": "execute_result"
    }
   ],
   "source": [
    "#format함수 이용\n",
    "from datetime import datetime\n",
    "thatday=datetime(2021,4,30,18,20,0)\n",
    "thatday"
   ]
  },
  {
   "cell_type": "code",
   "execution_count": 73,
   "metadata": {
    "ExecuteTime": {
     "end_time": "2021-02-22T02:40:49.767058Z",
     "start_time": "2021-02-22T02:40:49.764092Z"
    }
   },
   "outputs": [
    {
     "name": "stdout",
     "output_type": "stream",
     "text": [
      "2021 - 04 - 30 - 18 - 20 - 00\n"
     ]
    }
   ],
   "source": [
    "print(\"{:%Y - %m - %d - %H - %M - %S}\".format(thatday))"
   ]
  },
  {
   "cell_type": "code",
   "execution_count": 75,
   "metadata": {
    "ExecuteTime": {
     "end_time": "2021-02-22T02:41:16.005449Z",
     "start_time": "2021-02-22T02:41:16.001449Z"
    }
   },
   "outputs": [
    {
     "name": "stdout",
     "output_type": "stream",
     "text": [
      "2021 - 04 - 30 - PM 06 - 20 - 00\n"
     ]
    }
   ],
   "source": [
    "print(\"{:%Y - %m - %d - %p %I - %M - %S}\".format(thatday))"
   ]
  },
  {
   "cell_type": "code",
   "execution_count": 204,
   "metadata": {
    "ExecuteTime": {
     "end_time": "2021-02-22T05:40:18.079999Z",
     "start_time": "2021-02-22T05:40:18.076010Z"
    }
   },
   "outputs": [
    {
     "name": "stdout",
     "output_type": "stream",
     "text": [
      "Hello,홍길동.you are 30 years old \n",
      "Hello,홍길동.you are 30 years old \n"
     ]
    }
   ],
   "source": [
    "name =\"홍길동\"\n",
    "age = 30 \n",
    "print(f\"Hello,{name}.you are {age} years old \")\n",
    "print(\"Hello,{}.you are {} years old \".format(name,age))\n",
    "print(\"Hello,%s.you are %d years old \"{name,age})\n",
    "\n"
   ]
  },
  {
   "cell_type": "markdown",
   "metadata": {},
   "source": [
    "## 5.1 산술연산자"
   ]
  },
  {
   "cell_type": "code",
   "execution_count": 85,
   "metadata": {
    "ExecuteTime": {
     "end_time": "2021-02-22T02:47:37.245027Z",
     "start_time": "2021-02-22T02:47:37.240066Z"
    }
   },
   "outputs": [
    {
     "name": "stdout",
     "output_type": "stream",
     "text": [
      "1000\n",
      "3\n",
      "3.3333333333333335\n",
      "3.0\n"
     ]
    }
   ],
   "source": [
    "a=10\n",
    "print(a**3)#a의 3제곱\n",
    "print(a//3)# a 나누기 3의 몫\n",
    "print(a/3) # 3.3333333\n",
    "print(9/3) # 3.0 (파이썬에서 연산의 결과는 실수)"
   ]
  },
  {
   "cell_type": "code",
   "execution_count": 84,
   "metadata": {
    "ExecuteTime": {
     "end_time": "2021-02-22T02:47:06.040096Z",
     "start_time": "2021-02-22T02:47:06.036125Z"
    }
   },
   "outputs": [
    {
     "name": "stdout",
     "output_type": "stream",
     "text": [
      "1.0\n"
     ]
    }
   ],
   "source": [
    "print(10.0%3.0) #실수끼리 나머지 연산 "
   ]
  },
  {
   "cell_type": "code",
   "execution_count": 86,
   "metadata": {
    "ExecuteTime": {
     "end_time": "2021-02-22T02:48:18.399343Z",
     "start_time": "2021-02-22T02:48:18.395374Z"
    }
   },
   "outputs": [
    {
     "name": "stdout",
     "output_type": "stream",
     "text": [
      "0.19999999999999996\n"
     ]
    }
   ],
   "source": [
    "print(3.8%1.2) #실수끼리 나머지 연산시 결과가 다소 오차가 존재할 수 있음"
   ]
  },
  {
   "cell_type": "markdown",
   "metadata": {},
   "source": [
    "## 5.2대입(할당)연산자 \n",
    "    - = += -= //= =/ "
   ]
  },
  {
   "cell_type": "code",
   "execution_count": 87,
   "metadata": {
    "ExecuteTime": {
     "end_time": "2021-02-22T02:50:03.939198Z",
     "start_time": "2021-02-22T02:50:03.935189Z"
    }
   },
   "outputs": [
    {
     "data": {
      "text/plain": [
       "5"
      ]
     },
     "execution_count": 87,
     "metadata": {},
     "output_type": "execute_result"
    }
   ],
   "source": [
    "a = 10 \n",
    "a //=2 # a= a//2\n",
    "a"
   ]
  },
  {
   "cell_type": "markdown",
   "metadata": {},
   "source": [
    "## 5.3 논리연산자\n",
    "- & | not and or"
   ]
  },
  {
   "cell_type": "code",
   "execution_count": 90,
   "metadata": {
    "ExecuteTime": {
     "end_time": "2021-02-22T02:54:00.162188Z",
     "start_time": "2021-02-22T02:54:00.157209Z"
    }
   },
   "outputs": [
    {
     "name": "stdout",
     "output_type": "stream",
     "text": [
      "True\n",
      "0\n",
      "True\n"
     ]
    }
   ],
   "source": [
    "print((10>3)&(10>5))#T 논리연산자 T & T\n",
    "print(12 & 1)       #비트연산 1100 & 0001 \n",
    "print(5<8<10<100)   #논리연산자를 삼항, 사항,...로 가능 "
   ]
  },
  {
   "cell_type": "code",
   "execution_count": 92,
   "metadata": {
    "ExecuteTime": {
     "end_time": "2021-02-22T02:56:00.423993Z",
     "start_time": "2021-02-22T02:56:00.420003Z"
    }
   },
   "outputs": [
    {
     "name": "stdout",
     "output_type": "stream",
     "text": [
      "False\n",
      "2\n"
     ]
    }
   ],
   "source": [
    "print(10>3 & 10>5) #연산자 우선 순위 : 비트연산자가 논리비교연산보다 높다\n",
    "print(3&10) #비트연산 2 "
   ]
  },
  {
   "cell_type": "code",
   "execution_count": 101,
   "metadata": {
    "ExecuteTime": {
     "end_time": "2021-02-22T03:00:06.284329Z",
     "start_time": "2021-02-22T03:00:06.281336Z"
    }
   },
   "outputs": [
    {
     "name": "stdout",
     "output_type": "stream",
     "text": [
      "빈스트링은 False인가\n"
     ]
    }
   ],
   "source": [
    "# 논리연산자에 문자열이 오면 ''(빈스트링)은 False. 그외 True\n",
    "#''(빈스트링)은 False로 그외는 True\n",
    "if '':\n",
    "    print('빈스트링은 True인가')\n",
    "else:\n",
    "    print('빈스트링은 False인가')"
   ]
  },
  {
   "cell_type": "code",
   "execution_count": 102,
   "metadata": {
    "ExecuteTime": {
     "end_time": "2021-02-22T03:00:27.928975Z",
     "start_time": "2021-02-22T03:00:27.923004Z"
    }
   },
   "outputs": [
    {
     "ename": "TypeError",
     "evalue": "unsupported operand type(s) for |: 'bool' and 'str'",
     "output_type": "error",
     "traceback": [
      "\u001b[1;31m---------------------------------------------------------------------------\u001b[0m",
      "\u001b[1;31mTypeError\u001b[0m                                 Traceback (most recent call last)",
      "\u001b[1;32m<ipython-input-102-be4876b8cbf6>\u001b[0m in \u001b[0;36m<module>\u001b[1;34m\u001b[0m\n\u001b[0;32m      1\u001b[0m \u001b[1;31m#논리 연산자에 문자열이 오면 에러\u001b[0m\u001b[1;33m\u001b[0m\u001b[1;33m\u001b[0m\u001b[1;33m\u001b[0m\u001b[0m\n\u001b[1;32m----> 2\u001b[1;33m \u001b[1;32mFalse\u001b[0m \u001b[1;33m|\u001b[0m \u001b[1;34m''\u001b[0m\u001b[1;33m\u001b[0m\u001b[1;33m\u001b[0m\u001b[0m\n\u001b[0m",
      "\u001b[1;31mTypeError\u001b[0m: unsupported operand type(s) for |: 'bool' and 'str'"
     ]
    }
   ],
   "source": [
    "#논리 연산자에 문자열이 오면 에러\n",
    "False | ''"
   ]
  },
  {
   "cell_type": "code",
   "execution_count": 105,
   "metadata": {
    "ExecuteTime": {
     "end_time": "2021-02-22T03:01:02.459894Z",
     "start_time": "2021-02-22T03:01:02.454908Z"
    }
   },
   "outputs": [
    {
     "data": {
      "text/plain": [
       "True"
      ]
     },
     "execution_count": 105,
     "metadata": {},
     "output_type": "execute_result"
    }
   ],
   "source": [
    "True | bool('')"
   ]
  },
  {
   "cell_type": "code",
   "execution_count": 110,
   "metadata": {
    "ExecuteTime": {
     "end_time": "2021-02-22T03:02:13.052376Z",
     "start_time": "2021-02-22T03:02:13.031450Z"
    }
   },
   "outputs": [
    {
     "name": "stdout",
     "output_type": "stream",
     "text": [
      " E 드라이브의 볼륨: 학생방\n",
      " 볼륨 일련 번호: 7E59-335E\n",
      "\n",
      " E:\\금경용\\src\\08_python 디렉터리\n",
      "\n",
      "2021-02-22  오후 12:00    <DIR>          .\n",
      "2021-02-22  오후 12:00    <DIR>          ..\n",
      "2021-02-22  오전 09:40    <DIR>          .ipynb_checkpoints\n",
      "2021-02-19  오후 05:10             5,777 ch01 파이썬 개요 및 개발환경 구성.ipynb\n",
      "2021-02-19  오후 06:06            31,180 ch02_1절 변수,2절_화면입출력,3절_기본자료형.ipynb\n",
      "2021-02-22  오후 12:00            26,385 ch02_4절 format_5절 연산자 .ipynb\n",
      "2021-02-19  오후 02:54               201 ex.py\n",
      "               4개 파일              63,543 바이트\n",
      "               3개 디렉터리  404,075,347,968 바이트 남음\n"
     ]
    }
   ],
   "source": [
    "#쥬피터노트북에서 !는 명령행을 실행시킬 수 있음\n",
    "!dir"
   ]
  },
  {
   "cell_type": "code",
   "execution_count": null,
   "metadata": {},
   "outputs": [],
   "source": [
    "#논리의 반전은 ! 아니고 not을 사용 "
   ]
  },
  {
   "cell_type": "code",
   "execution_count": 111,
   "metadata": {
    "ExecuteTime": {
     "end_time": "2021-02-22T03:04:55.163477Z",
     "start_time": "2021-02-22T03:04:55.158515Z"
    }
   },
   "outputs": [
    {
     "data": {
      "text/plain": [
       "False"
      ]
     },
     "execution_count": 111,
     "metadata": {},
     "output_type": "execute_result"
    }
   ],
   "source": [
    "not True"
   ]
  },
  {
   "cell_type": "code",
   "execution_count": 113,
   "metadata": {
    "ExecuteTime": {
     "end_time": "2021-02-22T03:05:04.216139Z",
     "start_time": "2021-02-22T03:05:04.211154Z"
    }
   },
   "outputs": [
    {
     "data": {
      "text/plain": [
       "True"
      ]
     },
     "execution_count": 113,
     "metadata": {},
     "output_type": "execute_result"
    }
   ],
   "source": [
    "not 0 #0은 False. 그 외 숫자는 True"
   ]
  },
  {
   "cell_type": "code",
   "execution_count": 116,
   "metadata": {
    "ExecuteTime": {
     "end_time": "2021-02-22T03:06:04.607451Z",
     "start_time": "2021-02-22T03:06:04.602484Z"
    }
   },
   "outputs": [
    {
     "data": {
      "text/plain": [
       "False"
      ]
     },
     "execution_count": 116,
     "metadata": {},
     "output_type": "execute_result"
    }
   ],
   "source": [
    "not -999"
   ]
  },
  {
   "cell_type": "code",
   "execution_count": 117,
   "metadata": {
    "ExecuteTime": {
     "end_time": "2021-02-22T03:06:22.185694Z",
     "start_time": "2021-02-22T03:06:22.181707Z"
    }
   },
   "outputs": [
    {
     "name": "stdout",
     "output_type": "stream",
     "text": [
      "False\n"
     ]
    }
   ],
   "source": [
    "a = False\n",
    "if not a:\n",
    "    print(a)"
   ]
  },
  {
   "cell_type": "code",
   "execution_count": 118,
   "metadata": {
    "ExecuteTime": {
     "end_time": "2021-02-22T03:06:54.743043Z",
     "start_time": "2021-02-22T03:06:54.739053Z"
    }
   },
   "outputs": [
    {
     "name": "stdout",
     "output_type": "stream",
     "text": [
      "두수는 다르다 \n"
     ]
    }
   ],
   "source": [
    "a,b =15,16\n",
    "if a!=b:\n",
    "    print('두수는 다르다 ')"
   ]
  },
  {
   "cell_type": "code",
   "execution_count": 121,
   "metadata": {
    "ExecuteTime": {
     "end_time": "2021-02-22T03:09:22.451267Z",
     "start_time": "2021-02-22T03:09:22.447307Z"
    }
   },
   "outputs": [
    {
     "name": "stdout",
     "output_type": "stream",
     "text": [
      "0\n",
      "True\n",
      "2\n"
     ]
    }
   ],
   "source": [
    "# and 연산자: 거짓으로 판별되는 첫번쨰 항의 결과가 반환 \n",
    "#              모든 항이 참이면 마지막 항의 결과 반환 \n",
    "print(True and 3 and 0)\n",
    "print(True and 3 and True)\n",
    "print(3 and 2 )"
   ]
  },
  {
   "cell_type": "code",
   "execution_count": 122,
   "metadata": {
    "ExecuteTime": {
     "end_time": "2021-02-22T03:10:09.911840Z",
     "start_time": "2021-02-22T03:10:09.908841Z"
    }
   },
   "outputs": [
    {
     "name": "stdout",
     "output_type": "stream",
     "text": [
      "Python\n"
     ]
    }
   ],
   "source": [
    "print(3 and 5.4 and True and 'Hello' and 'Python')"
   ]
  },
  {
   "cell_type": "code",
   "execution_count": 126,
   "metadata": {
    "ExecuteTime": {
     "end_time": "2021-02-22T03:10:57.511689Z",
     "start_time": "2021-02-22T03:10:57.507700Z"
    }
   },
   "outputs": [
    {
     "name": "stdout",
     "output_type": "stream",
     "text": [
      "False\n"
     ]
    }
   ],
   "source": [
    "print(3 and 5.4 and True  and 1>10 and 'Python')"
   ]
  },
  {
   "cell_type": "code",
   "execution_count": 128,
   "metadata": {
    "ExecuteTime": {
     "end_time": "2021-02-22T03:13:59.459733Z",
     "start_time": "2021-02-22T03:13:59.455744Z"
    }
   },
   "outputs": [
    {
     "name": "stdout",
     "output_type": "stream",
     "text": [
      "0\n",
      "100\n"
     ]
    }
   ],
   "source": [
    "#or 연산자 : 참으로 판별되는 첫번쨰 항의 결과가 반환\n",
    "#          : 모든 항이 거짓이면 마지막 항의 결과 반환 \n",
    "print(''or False or None or 0)\n",
    "print(''or 100 or None or 0 )"
   ]
  },
  {
   "cell_type": "markdown",
   "metadata": {
    "ExecuteTime": {
     "end_time": "2021-02-22T03:14:18.879218Z",
     "start_time": "2021-02-22T03:14:18.875219Z"
    }
   },
   "source": [
    "## 5.4 비교연산자 \n",
    "- > >= < <= == !="
   ]
  },
  {
   "cell_type": "code",
   "execution_count": 131,
   "metadata": {
    "ExecuteTime": {
     "end_time": "2021-02-22T03:17:57.005334Z",
     "start_time": "2021-02-22T03:17:57.001346Z"
    }
   },
   "outputs": [
    {
     "data": {
      "text/plain": [
       "True"
      ]
     },
     "execution_count": 131,
     "metadata": {},
     "output_type": "execute_result"
    }
   ],
   "source": [
    "# 문자는 ASCII 코드 순으로 비교: 특수문자< 숫자(숫자문자) < 대문자 < 소문자 < 한글\n",
    "'아'>'하'\n",
    "'1'<'a'"
   ]
  },
  {
   "cell_type": "code",
   "execution_count": 135,
   "metadata": {
    "ExecuteTime": {
     "end_time": "2021-02-22T03:19:46.879394Z",
     "start_time": "2021-02-22T03:19:46.875405Z"
    }
   },
   "outputs": [
    {
     "name": "stdout",
     "output_type": "stream",
     "text": [
      "True\n",
      "1 0\n"
     ]
    }
   ],
   "source": [
    "print(True>False) # T는1  F는0\n",
    "print(int(True),int(False))"
   ]
  },
  {
   "cell_type": "code",
   "execution_count": 139,
   "metadata": {
    "ExecuteTime": {
     "end_time": "2021-02-22T03:23:25.615829Z",
     "start_time": "2021-02-22T03:23:23.364151Z"
    }
   },
   "outputs": [
    {
     "name": "stdout",
     "output_type": "stream",
     "text": [
      "점수를 입력하세요90\n",
      "합격\n"
     ]
    }
   ],
   "source": [
    "jumsu = int(input('점수를 입력하세요'))#입력한 수는 정수로 반환\n",
    "                                            #input함수는 문자로 반환\n",
    "if jumsu>=60:\n",
    "    print('합격')\n",
    "else:\n",
    "    print('불합격')\n"
   ]
  },
  {
   "cell_type": "markdown",
   "metadata": {},
   "source": [
    "## 5.5 비트연산자"
   ]
  },
  {
   "cell_type": "code",
   "execution_count": null,
   "metadata": {},
   "outputs": [],
   "source": [
    "a=\"\"\"\n",
    "x  y x&y x|y  x^y(XOR)\n",
    "0  0  0  0     0  \n",
    "0  1  0  1     1\n",
    "1  0  0  1     1\n",
    "1  1  1  1     0\n",
    "\"\"\"\n"
   ]
  },
  {
   "cell_type": "code",
   "execution_count": 148,
   "metadata": {
    "ExecuteTime": {
     "end_time": "2021-02-22T03:49:26.628828Z",
     "start_time": "2021-02-22T03:49:26.623842Z"
    }
   },
   "outputs": [
    {
     "name": "stdout",
     "output_type": "stream",
     "text": [
      "00001111\n",
      "00000010\n",
      "2\n",
      "15\n",
      "13\n"
     ]
    }
   ],
   "source": [
    "a =15 #0 0 0 0 1 1 1 1\n",
    "b =2  #0 0 0 0 0 0 1 0\n",
    "print(\"{:08b}\".format(a))\n",
    "print(\"{:08b}\".format(b))\n",
    "print(a&b) # 0 0 0 0 0 0 1 0\n",
    "print(a | b)#0 0 0 0 1 1 1 1\n",
    "print(a ^ b)#0 0 0 0 1 1 0 1"
   ]
  },
  {
   "cell_type": "code",
   "execution_count": 150,
   "metadata": {
    "ExecuteTime": {
     "end_time": "2021-02-22T03:54:12.715357Z",
     "start_time": "2021-02-22T03:54:12.710391Z"
    }
   },
   "outputs": [
    {
     "name": "stdout",
     "output_type": "stream",
     "text": [
      "3\n",
      "60\n"
     ]
    }
   ],
   "source": [
    "#shift \n",
    "# a>>b ; a를 b비트만큼 이동\n",
    "# A>>B ; A를 B bit 오른쪽으로 이동 (=A를 2의 B승으로 나누는 결과) \n",
    "# A<<B ; A를 B bit 왼쪽으로 이동 (=A를 2의 B승으로 곱하는 결과)\n",
    "a= 15 # 0 0 0 0 1 1 1 1\n",
    "print(a >>2) # a를 오른쪽으로 2bit 이동 \n",
    "print(a <<2)# a를 왼쪽으로 2bit 이동 \n",
    "#not 논리연산의 반전. ~비트연산의 반전\n",
    "print(~a) #0 0 0 0 1 1 1 1 => 1 1 1 1 0 0 0 0(음수는 2의 보수취함)"
   ]
  },
  {
   "cell_type": "markdown",
   "metadata": {},
   "source": [
    "## 5.6 isinstance \n",
    "    -isinstance(data,type); 스칼라 데이터나 객체의 유형을 확인하는 함수, 어떤 갑이 특성 유형인지를 확인 "
   ]
  },
  {
   "cell_type": "code",
   "execution_count": 151,
   "metadata": {
    "ExecuteTime": {
     "end_time": "2021-02-22T03:58:12.454342Z",
     "start_time": "2021-02-22T03:58:12.449355Z"
    }
   },
   "outputs": [
    {
     "data": {
      "text/plain": [
       "True"
      ]
     },
     "execution_count": 151,
     "metadata": {},
     "output_type": "execute_result"
    }
   ],
   "source": [
    "isinstance(3.5,float)"
   ]
  },
  {
   "cell_type": "markdown",
   "metadata": {},
   "source": [
    "# 8절 연습문제 "
   ]
  },
  {
   "cell_type": "code",
   "execution_count": 187,
   "metadata": {
    "ExecuteTime": {
     "end_time": "2021-02-22T04:17:56.437576Z",
     "start_time": "2021-02-22T04:17:56.432584Z"
    }
   },
   "outputs": [
    {
     "data": {
      "text/plain": [
       "'홍길동님의 나이는 23살입니다'"
      ]
     },
     "execution_count": 187,
     "metadata": {},
     "output_type": "execute_result"
    }
   ],
   "source": [
    "#1\n",
    "name='홍길동'\n",
    "age=23\n",
    "\"{}님의 나이는 {}살입니다\".format(name,age)"
   ]
  },
  {
   "cell_type": "code",
   "execution_count": 189,
   "metadata": {
    "ExecuteTime": {
     "end_time": "2021-02-22T05:33:59.154121Z",
     "start_time": "2021-02-22T05:33:56.771544Z"
    }
   },
   "outputs": [
    {
     "name": "stdout",
     "output_type": "stream",
     "text": [
      "first number 입력하시오0\n",
      "second number 입력하시오0\n",
      "0\n",
      "0\n",
      "0\n",
      "두번쨰 수에 0을 입력하여 나누기 연산이 불가능합니다.\n"
     ]
    }
   ],
   "source": [
    "#2\n",
    "a=int(input('first number 입력하시오'))\n",
    "b=int(input('second number 입력하시오'))\n",
    "print(a+b)\n",
    "print(a-b)\n",
    "print(a*b)\n",
    "try:\n",
    "    print(a/b)\n",
    "    print(a//b)\n",
    "    print(a%b)\n",
    "except Exception:\n",
    "    print('두번쨰 수에 0을 입력하여 나누기 연산이 불가능합니다.')\n"
   ]
  },
  {
   "cell_type": "code",
   "execution_count": 190,
   "metadata": {
    "ExecuteTime": {
     "end_time": "2021-02-22T05:35:44.045194Z",
     "start_time": "2021-02-22T05:35:44.040205Z"
    }
   },
   "outputs": [
    {
     "name": "stdout",
     "output_type": "stream",
     "text": [
      "world Hello\n",
      "HelloWord\n"
     ]
    }
   ],
   "source": [
    "#3\n",
    "str= 'Hello world'\n",
    "print(str[-5:],str[:5])\n",
    "print('Hello','Word',sep='')"
   ]
  },
  {
   "cell_type": "code",
   "execution_count": 194,
   "metadata": {
    "ExecuteTime": {
     "end_time": "2021-02-22T05:36:34.081379Z",
     "start_time": "2021-02-22T05:36:34.076420Z"
    }
   },
   "outputs": [
    {
     "name": "stdout",
     "output_type": "stream",
     "text": [
      "bcdefa\n"
     ]
    }
   ],
   "source": [
    "#4\n",
    "x='abcdef'\n",
    "print(x[1:]+x[0:1])"
   ]
  },
  {
   "cell_type": "code",
   "execution_count": 196,
   "metadata": {
    "ExecuteTime": {
     "end_time": "2021-02-22T05:36:54.103081Z",
     "start_time": "2021-02-22T05:36:54.100088Z"
    }
   },
   "outputs": [
    {
     "name": "stdout",
     "output_type": "stream",
     "text": [
      "fedcba\n"
     ]
    }
   ],
   "source": [
    "#5\n",
    "print(x[::-1])"
   ]
  },
  {
   "cell_type": "code",
   "execution_count": 199,
   "metadata": {
    "ExecuteTime": {
     "end_time": "2021-02-22T05:39:32.442687Z",
     "start_time": "2021-02-22T05:39:30.328995Z"
    }
   },
   "outputs": [
    {
     "name": "stdout",
     "output_type": "stream",
     "text": [
      "온도를 입력하시요10\n",
      "섭시온도는 10\n",
      "화씨온도는 50.000000\n"
     ]
    }
   ],
   "source": [
    "#6\n",
    "temperature=int(input('온도를 입력하시요'))\n",
    "print('섭시온도는 {}'.format(temperature))\n",
    "print('화씨온도는 {:2f}'.format((temperature*1.8)+32))\n",
    "\n",
    "\n"
   ]
  },
  {
   "cell_type": "code",
   "execution_count": null,
   "metadata": {},
   "outputs": [],
   "source": [
    "# 6.섭씨온도로 입력받아 화씨 온도로 변환\n",
    "c = float(input('섭씨 온도를 입력하세요'))\n",
    "f = (c*1.8)+32\n",
    "if c == round(c):\n",
    "    print(\"섭씨 {:.0f}도는 화씨온도로 바꾸면 {:.2f}도 입니다\".format(c, f))\n",
    "else:\n",
    "    print(\"섭씨 {}도는 화씨온도로 바꾸면 {:.2f}도 입니다\".format(c, f))"
   ]
  },
  {
   "cell_type": "code",
   "execution_count": null,
   "metadata": {},
   "outputs": [],
   "source": []
  },
  {
   "cell_type": "code",
   "execution_count": null,
   "metadata": {},
   "outputs": [],
   "source": []
  },
  {
   "cell_type": "code",
   "execution_count": null,
   "metadata": {},
   "outputs": [],
   "source": []
  },
  {
   "cell_type": "code",
   "execution_count": null,
   "metadata": {},
   "outputs": [],
   "source": []
  },
  {
   "cell_type": "code",
   "execution_count": null,
   "metadata": {},
   "outputs": [],
   "source": []
  },
  {
   "cell_type": "code",
   "execution_count": null,
   "metadata": {},
   "outputs": [],
   "source": []
  },
  {
   "cell_type": "code",
   "execution_count": null,
   "metadata": {},
   "outputs": [],
   "source": []
  },
  {
   "cell_type": "code",
   "execution_count": null,
   "metadata": {},
   "outputs": [],
   "source": []
  }
 ],
 "metadata": {
  "kernelspec": {
   "display_name": "Python 3",
   "language": "python",
   "name": "python3"
  },
  "language_info": {
   "codemirror_mode": {
    "name": "ipython",
    "version": 3
   },
   "file_extension": ".py",
   "mimetype": "text/x-python",
   "name": "python",
   "nbconvert_exporter": "python",
   "pygments_lexer": "ipython3",
   "version": "3.8.5"
  },
  "toc": {
   "base_numbering": 1,
   "nav_menu": {},
   "number_sections": false,
   "sideBar": true,
   "skip_h1_title": false,
   "title_cell": "Table of Contents",
   "title_sidebar": "Contents",
   "toc_cell": false,
   "toc_position": {
    "height": "calc(100% - 180px)",
    "left": "10px",
    "top": "150px",
    "width": "202.391px"
   },
   "toc_section_display": true,
   "toc_window_display": true
  },
  "varInspector": {
   "cols": {
    "lenName": 16,
    "lenType": 16,
    "lenVar": 40
   },
   "kernels_config": {
    "python": {
     "delete_cmd_postfix": "",
     "delete_cmd_prefix": "del ",
     "library": "var_list.py",
     "varRefreshCmd": "print(var_dic_list())"
    },
    "r": {
     "delete_cmd_postfix": ") ",
     "delete_cmd_prefix": "rm(",
     "library": "var_list.r",
     "varRefreshCmd": "cat(var_dic_list()) "
    }
   },
   "types_to_exclude": [
    "module",
    "function",
    "builtin_function_or_method",
    "instance",
    "_Feature"
   ],
   "window_display": false
  }
 },
 "nbformat": 4,
 "nbformat_minor": 4
}
