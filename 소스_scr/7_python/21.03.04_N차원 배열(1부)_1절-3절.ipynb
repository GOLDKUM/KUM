{
 "cells": [
  {
   "cell_type": "markdown",
   "metadata": {
    "ExecuteTime": {
     "end_time": "2021-03-04T03:46:42.045094Z",
     "start_time": "2021-03-04T03:46:42.041096Z"
    }
   },
   "source": [
    "**<font size='6' color='red'>ch11. N차원 배열 나누기 </font>**"
   ]
  },
  {
   "cell_type": "markdown",
   "metadata": {},
   "source": [
    "- N차원 배열 객체()\n",
    "- 행렬 개념으로 이헤\n",
    "- c언어로 구현된 고성능 수치계산 패키지 Numpy이용 \n",
    "- C//C+, 포트란 코드 통합도구"
   ]
  },
  {
   "cell_type": "markdown",
   "metadata": {},
   "source": [
    "# 1절.  넘파이 패키지"
   ]
  },
  {
   "cell_type": "code",
   "execution_count": 1,
   "metadata": {
    "ExecuteTime": {
     "end_time": "2021-03-04T04:00:44.337590Z",
     "start_time": "2021-03-04T04:00:44.327616Z"
    }
   },
   "outputs": [
    {
     "data": {
      "text/plain": [
       "array([ 0,  1,  2,  3,  4,  5,  6,  7,  8,  9, 10, 11, 12, 13, 14])"
      ]
     },
     "execution_count": 1,
     "metadata": {},
     "output_type": "execute_result"
    }
   ],
   "source": [
    "import numpy as np #아나콘다를download를 했기떄문에 가능\n",
    "a=np.arange(15)#0 부터 15앞까지 1씩 증가하는 1차원 배열 \n",
    "a"
   ]
  },
  {
   "cell_type": "code",
   "execution_count": 65,
   "metadata": {
    "ExecuteTime": {
     "end_time": "2021-03-04T05:19:28.582496Z",
     "start_time": "2021-03-04T05:19:28.577511Z"
    }
   },
   "outputs": [
    {
     "data": {
      "text/plain": [
       "array([[ 0,  1,  2,  3,  4],\n",
       "       [ 5,  6,  7,  8,  9],\n",
       "       [10, 11, 12, 13, 14]])"
      ]
     },
     "execution_count": 65,
     "metadata": {},
     "output_type": "execute_result"
    }
   ],
   "source": [
    "import numpy as np #아나콘다를download를 했기떄문에 가능\n",
    "a=np.arange(15).reshape(3,5) \n",
    "a"
   ]
  },
  {
   "cell_type": "code",
   "execution_count": 66,
   "metadata": {
    "ExecuteTime": {
     "end_time": "2021-03-04T05:19:28.775998Z",
     "start_time": "2021-03-04T05:19:28.771018Z"
    }
   },
   "outputs": [
    {
     "data": {
      "text/plain": [
       "numpy.ndarray"
      ]
     },
     "execution_count": 66,
     "metadata": {},
     "output_type": "execute_result"
    }
   ],
   "source": [
    "type(a)# a변수 자체의 타입: N차원배열"
   ]
  },
  {
   "cell_type": "code",
   "execution_count": 67,
   "metadata": {
    "ExecuteTime": {
     "end_time": "2021-03-04T05:19:29.037341Z",
     "start_time": "2021-03-04T05:19:29.033352Z"
    }
   },
   "outputs": [
    {
     "data": {
      "text/plain": [
       "dtype('int32')"
      ]
     },
     "execution_count": 67,
     "metadata": {},
     "output_type": "execute_result"
    }
   ],
   "source": [
    "a.dtype #a변수의 요소들의 type"
   ]
  },
  {
   "cell_type": "code",
   "execution_count": 68,
   "metadata": {
    "ExecuteTime": {
     "end_time": "2021-03-04T05:19:29.307630Z",
     "start_time": "2021-03-04T05:19:29.303641Z"
    }
   },
   "outputs": [
    {
     "data": {
      "text/plain": [
       "'int32'"
      ]
     },
     "execution_count": 68,
     "metadata": {},
     "output_type": "execute_result"
    }
   ],
   "source": [
    "a.dtype.name #a변수의 요소들의 type"
   ]
  },
  {
   "cell_type": "code",
   "execution_count": 69,
   "metadata": {
    "ExecuteTime": {
     "end_time": "2021-03-04T05:19:29.664978Z",
     "start_time": "2021-03-04T05:19:29.660987Z"
    }
   },
   "outputs": [
    {
     "data": {
      "text/plain": [
       "4"
      ]
     },
     "execution_count": 69,
     "metadata": {},
     "output_type": "execute_result"
    }
   ],
   "source": [
    "a.itemsize #요소하나호나 사이즈(byte 단위)                         #여기서 말하는 요소는 무엇인가?"
   ]
  },
  {
   "cell_type": "code",
   "execution_count": 64,
   "metadata": {
    "ExecuteTime": {
     "end_time": "2021-03-04T05:16:27.786047Z",
     "start_time": "2021-03-04T05:16:27.781060Z"
    }
   },
   "outputs": [
    {
     "data": {
      "text/plain": [
       "2"
      ]
     },
     "execution_count": 64,
     "metadata": {},
     "output_type": "execute_result"
    }
   ],
   "source": [
    "a.ndim #축수 (차원수)"
   ]
  },
  {
   "cell_type": "code",
   "execution_count": 58,
   "metadata": {
    "ExecuteTime": {
     "end_time": "2021-03-04T05:16:21.282503Z",
     "start_time": "2021-03-04T05:16:21.278520Z"
    }
   },
   "outputs": [
    {
     "data": {
      "text/plain": [
       "(3, 5)"
      ]
     },
     "execution_count": 58,
     "metadata": {},
     "output_type": "execute_result"
    }
   ],
   "source": [
    "a.shape# 배열 구조 3행 5열"
   ]
  },
  {
   "cell_type": "code",
   "execution_count": 19,
   "metadata": {
    "ExecuteTime": {
     "end_time": "2021-03-04T04:01:01.617490Z",
     "start_time": "2021-03-04T04:01:01.612502Z"
    }
   },
   "outputs": [
    {
     "data": {
      "text/plain": [
       "15"
      ]
     },
     "execution_count": 19,
     "metadata": {},
     "output_type": "execute_result"
    }
   ],
   "source": [
    "a.size #a 배열 요소의 총수"
   ]
  },
  {
   "cell_type": "code",
   "execution_count": 20,
   "metadata": {
    "ExecuteTime": {
     "end_time": "2021-03-04T04:01:02.144474Z",
     "start_time": "2021-03-04T04:01:02.141488Z"
    }
   },
   "outputs": [],
   "source": [
    "#dtype 속성을 바꾸면 형변환이 되지 않습니다. "
   ]
  },
  {
   "cell_type": "code",
   "execution_count": 35,
   "metadata": {
    "ExecuteTime": {
     "end_time": "2021-03-04T04:03:09.600670Z",
     "start_time": "2021-03-04T04:03:09.595664Z"
    }
   },
   "outputs": [
    {
     "data": {
      "text/plain": [
       "array([[ 0,  1,  2,  3],\n",
       "       [ 4,  5,  6,  7],\n",
       "       [ 8,  9, 10, 11]])"
      ]
     },
     "execution_count": 35,
     "metadata": {},
     "output_type": "execute_result"
    }
   ],
   "source": [
    "a = np.arange(12).reshape(3,4)\n",
    "a"
   ]
  },
  {
   "cell_type": "code",
   "execution_count": 36,
   "metadata": {
    "ExecuteTime": {
     "end_time": "2021-03-04T04:03:20.665515Z",
     "start_time": "2021-03-04T04:03:20.660553Z"
    }
   },
   "outputs": [
    {
     "data": {
      "text/plain": [
       "12"
      ]
     },
     "execution_count": 36,
     "metadata": {},
     "output_type": "execute_result"
    }
   ],
   "source": [
    "a.size"
   ]
  },
  {
   "cell_type": "code",
   "execution_count": 37,
   "metadata": {
    "ExecuteTime": {
     "end_time": "2021-03-04T04:03:26.044124Z",
     "start_time": "2021-03-04T04:03:26.039137Z"
    }
   },
   "outputs": [
    {
     "data": {
      "text/plain": [
       "dtype('int32')"
      ]
     },
     "execution_count": 37,
     "metadata": {},
     "output_type": "execute_result"
    }
   ],
   "source": [
    "a.dtype"
   ]
  },
  {
   "cell_type": "code",
   "execution_count": 38,
   "metadata": {
    "ExecuteTime": {
     "end_time": "2021-03-04T04:03:29.238456Z",
     "start_time": "2021-03-04T04:03:29.234479Z"
    }
   },
   "outputs": [],
   "source": [
    "a.dtype=np.int64 # a요소의 dtype을 int64fh "
   ]
  },
  {
   "cell_type": "code",
   "execution_count": 39,
   "metadata": {
    "ExecuteTime": {
     "end_time": "2021-03-04T04:03:32.386506Z",
     "start_time": "2021-03-04T04:03:32.382516Z"
    }
   },
   "outputs": [
    {
     "data": {
      "text/plain": [
       "dtype('int64')"
      ]
     },
     "execution_count": 39,
     "metadata": {},
     "output_type": "execute_result"
    }
   ],
   "source": [
    "a.dtype"
   ]
  },
  {
   "cell_type": "code",
   "execution_count": 40,
   "metadata": {
    "ExecuteTime": {
     "end_time": "2021-03-04T04:03:38.501364Z",
     "start_time": "2021-03-04T04:03:38.497375Z"
    }
   },
   "outputs": [
    {
     "data": {
      "text/plain": [
       "array([[ 4294967296, 12884901890],\n",
       "       [21474836484, 30064771078],\n",
       "       [38654705672, 47244640266]], dtype=int64)"
      ]
     },
     "execution_count": 40,
     "metadata": {},
     "output_type": "execute_result"
    }
   ],
   "source": [
    "a"
   ]
  },
  {
   "cell_type": "code",
   "execution_count": 41,
   "metadata": {
    "ExecuteTime": {
     "end_time": "2021-03-04T04:03:49.595356Z",
     "start_time": "2021-03-04T04:03:49.591349Z"
    }
   },
   "outputs": [
    {
     "data": {
      "text/plain": [
       "6"
      ]
     },
     "execution_count": 41,
     "metadata": {},
     "output_type": "execute_result"
    }
   ],
   "source": [
    "a.size"
   ]
  },
  {
   "cell_type": "markdown",
   "metadata": {},
   "source": [
    "# 2절. 넘파이 배열\n",
    "- array()함수를 이용한 다른 파이썬 구조(벡터구조)를 넘파일 배열로 변환\n",
    "- 넘파일 배열을 생성하는 기타 함수들 :array, ones, zeros \n",
    "- 특수 라이브러리 함수(ex. random) 이용\n",
    "\n",
    "\n",
    "- [넘파이 Docs](https://numpy.org/doc/stable/index.html)"
   ]
  },
  {
   "cell_type": "markdown",
   "metadata": {},
   "source": [
    "## 2.1 array()함수로 넘파이 배열 만들기"
   ]
  },
  {
   "cell_type": "code",
   "execution_count": 43,
   "metadata": {
    "ExecuteTime": {
     "end_time": "2021-03-04T04:15:44.050750Z",
     "start_time": "2021-03-04T04:15:44.045763Z"
    }
   },
   "outputs": [
    {
     "data": {
      "text/plain": [
       "array([2, 4, 5])"
      ]
     },
     "execution_count": 43,
     "metadata": {},
     "output_type": "execute_result"
    }
   ],
   "source": [
    "import numpy as np\n",
    "a=np.array([2,4,5]) #이건 리스트인가 행렬인가 \n",
    "a"
   ]
  },
  {
   "cell_type": "code",
   "execution_count": 44,
   "metadata": {
    "ExecuteTime": {
     "end_time": "2021-03-04T04:16:01.480388Z",
     "start_time": "2021-03-04T04:16:01.477396Z"
    }
   },
   "outputs": [
    {
     "name": "stdout",
     "output_type": "stream",
     "text": [
      "2\t4\t5\t"
     ]
    }
   ],
   "source": [
    "for i in a:\n",
    "    print(i, end='\\t')"
   ]
  },
  {
   "cell_type": "code",
   "execution_count": 45,
   "metadata": {
    "ExecuteTime": {
     "end_time": "2021-03-04T04:16:04.995575Z",
     "start_time": "2021-03-04T04:16:04.991606Z"
    }
   },
   "outputs": [
    {
     "data": {
      "text/plain": [
       "4"
      ]
     },
     "execution_count": 45,
     "metadata": {},
     "output_type": "execute_result"
    }
   ],
   "source": [
    "a[1]"
   ]
  },
  {
   "cell_type": "code",
   "execution_count": 46,
   "metadata": {
    "ExecuteTime": {
     "end_time": "2021-03-04T04:16:55.344105Z",
     "start_time": "2021-03-04T04:16:55.340115Z"
    }
   },
   "outputs": [
    {
     "data": {
      "text/plain": [
       "(3,)"
      ]
     },
     "execution_count": 46,
     "metadata": {},
     "output_type": "execute_result"
    }
   ],
   "source": [
    "a.shape #배열의 구조 "
   ]
  },
  {
   "cell_type": "code",
   "execution_count": 71,
   "metadata": {
    "ExecuteTime": {
     "end_time": "2021-03-04T05:32:49.698849Z",
     "start_time": "2021-03-04T05:32:49.693884Z"
    }
   },
   "outputs": [
    {
     "data": {
      "text/plain": [
       "array([[1. ],\n",
       "       [6. ],\n",
       "       [9.1]])"
      ]
     },
     "execution_count": 71,
     "metadata": {},
     "output_type": "execute_result"
    }
   ],
   "source": [
    "a=np.array([1,6,9.1]).reshape(3,1)  #리스트인가 행렬인가?\n",
    "a"
   ]
  },
  {
   "cell_type": "code",
   "execution_count": 72,
   "metadata": {
    "ExecuteTime": {
     "end_time": "2021-03-04T05:32:50.223591Z",
     "start_time": "2021-03-04T05:32:50.219601Z"
    }
   },
   "outputs": [
    {
     "data": {
      "text/plain": [
       "dtype('float64')"
      ]
     },
     "execution_count": 72,
     "metadata": {},
     "output_type": "execute_result"
    }
   ],
   "source": [
    "a.dtype"
   ]
  },
  {
   "cell_type": "code",
   "execution_count": 73,
   "metadata": {
    "ExecuteTime": {
     "end_time": "2021-03-04T05:32:51.084994Z",
     "start_time": "2021-03-04T05:32:51.081028Z"
    }
   },
   "outputs": [
    {
     "data": {
      "text/plain": [
       "array([[1.5, 2.3],\n",
       "       [4. , 5. ]])"
      ]
     },
     "execution_count": 73,
     "metadata": {},
     "output_type": "execute_result"
    }
   ],
   "source": [
    "b= np.array([(1.5,2.3),[4,5]])#arange안에는 백터탑임만 들어가면 됩니다.\n",
    "b"
   ]
  },
  {
   "cell_type": "code",
   "execution_count": 74,
   "metadata": {
    "ExecuteTime": {
     "end_time": "2021-03-04T05:32:52.704777Z",
     "start_time": "2021-03-04T05:32:52.700787Z"
    }
   },
   "outputs": [
    {
     "data": {
      "text/plain": [
       "'1.19.2'"
      ]
     },
     "execution_count": 74,
     "metadata": {},
     "output_type": "execute_result"
    }
   ],
   "source": [
    "np.__version__"
   ]
  },
  {
   "cell_type": "code",
   "execution_count": 75,
   "metadata": {
    "ExecuteTime": {
     "end_time": "2021-03-04T05:33:49.016183Z",
     "start_time": "2021-03-04T05:33:49.011221Z"
    }
   },
   "outputs": [
    {
     "data": {
      "text/plain": [
       "array([[1. , 2. ],\n",
       "       [3. , 4.1]])"
      ]
     },
     "execution_count": 75,
     "metadata": {},
     "output_type": "execute_result"
    }
   ],
   "source": [
    "a=np.array([1,2,3,4.1]).reshape(2,2) #2행 2열짜리 2차원 배열\n",
    "a"
   ]
  },
  {
   "cell_type": "code",
   "execution_count": 76,
   "metadata": {
    "ExecuteTime": {
     "end_time": "2021-03-04T05:34:08.974119Z",
     "start_time": "2021-03-04T05:34:08.969131Z"
    }
   },
   "outputs": [
    {
     "data": {
      "text/plain": [
       "dtype('float64')"
      ]
     },
     "execution_count": 76,
     "metadata": {},
     "output_type": "execute_result"
    }
   ],
   "source": [
    "a.dtype"
   ]
  },
  {
   "cell_type": "code",
   "execution_count": 80,
   "metadata": {
    "ExecuteTime": {
     "end_time": "2021-03-04T05:35:50.971956Z",
     "start_time": "2021-03-04T05:35:50.966997Z"
    }
   },
   "outputs": [
    {
     "data": {
      "text/plain": [
       "array([[1, 2, 3],\n",
       "       [4, 5, 6]])"
      ]
     },
     "execution_count": 80,
     "metadata": {},
     "output_type": "execute_result"
    }
   ],
   "source": [
    "b=np.array([[1,2,3],[4,5,6]]) #2차원으로 리스트로 만들고 싶다면 하나로\n",
    "b"
   ]
  },
  {
   "cell_type": "code",
   "execution_count": 81,
   "metadata": {
    "ExecuteTime": {
     "end_time": "2021-03-04T05:36:02.032619Z",
     "start_time": "2021-03-04T05:36:02.027642Z"
    }
   },
   "outputs": [
    {
     "data": {
      "text/plain": [
       "dtype('int32')"
      ]
     },
     "execution_count": 81,
     "metadata": {},
     "output_type": "execute_result"
    }
   ],
   "source": [
    "b.dtype"
   ]
  },
  {
   "cell_type": "code",
   "execution_count": 104,
   "metadata": {
    "ExecuteTime": {
     "end_time": "2021-03-04T05:44:01.575489Z",
     "start_time": "2021-03-04T05:44:01.570501Z"
    }
   },
   "outputs": [
    {
     "data": {
      "text/plain": [
       "array([[1, 2, 3],\n",
       "       [4, 5, 6]], dtype=int64)"
      ]
     },
     "execution_count": 104,
     "metadata": {},
     "output_type": "execute_result"
    }
   ],
   "source": [
    "b=np.array([[1,2,3],[4,5,6]],dtype=np.int64)#dtype을 인수로 세팅\n",
    "b"
   ]
  },
  {
   "cell_type": "code",
   "execution_count": 95,
   "metadata": {
    "ExecuteTime": {
     "end_time": "2021-03-04T05:39:40.719898Z",
     "start_time": "2021-03-04T05:39:40.714914Z"
    }
   },
   "outputs": [
    {
     "data": {
      "text/plain": [
       "dtype('int64')"
      ]
     },
     "execution_count": 95,
     "metadata": {},
     "output_type": "execute_result"
    }
   ],
   "source": [
    "b.dtype"
   ]
  },
  {
   "cell_type": "code",
   "execution_count": 98,
   "metadata": {
    "ExecuteTime": {
     "end_time": "2021-03-04T05:40:12.870131Z",
     "start_time": "2021-03-04T05:40:12.867164Z"
    }
   },
   "outputs": [],
   "source": [
    "b=b.astype(np.int32) #dtype 바꾸기"
   ]
  },
  {
   "cell_type": "code",
   "execution_count": 99,
   "metadata": {
    "ExecuteTime": {
     "end_time": "2021-03-04T05:40:13.455194Z",
     "start_time": "2021-03-04T05:40:13.451205Z"
    }
   },
   "outputs": [
    {
     "data": {
      "text/plain": [
       "dtype('int32')"
      ]
     },
     "execution_count": 99,
     "metadata": {},
     "output_type": "execute_result"
    }
   ],
   "source": [
    "b.dtype"
   ]
  },
  {
   "cell_type": "code",
   "execution_count": 100,
   "metadata": {
    "ExecuteTime": {
     "end_time": "2021-03-04T05:42:11.864117Z",
     "start_time": "2021-03-04T05:42:11.859155Z"
    }
   },
   "outputs": [
    {
     "data": {
      "text/plain": [
       "[[1, 2, 3], [4, 5, 6]]"
      ]
     },
     "execution_count": 100,
     "metadata": {},
     "output_type": "execute_result"
    }
   ],
   "source": [
    "list_=[[1,2,3],[4,5,6]]\n",
    "list_"
   ]
  },
  {
   "cell_type": "code",
   "execution_count": 107,
   "metadata": {
    "ExecuteTime": {
     "end_time": "2021-03-04T05:44:35.669337Z",
     "start_time": "2021-03-04T05:44:35.665373Z"
    }
   },
   "outputs": [
    {
     "name": "stdout",
     "output_type": "stream",
     "text": [
      "1\t2\t3\t\n",
      "4\t5\t6\t\n"
     ]
    }
   ],
   "source": [
    "for row in list_:\n",
    "    for data in row:\n",
    "        print(data,end='\\t')\n",
    "    print()"
   ]
  },
  {
   "cell_type": "code",
   "execution_count": 108,
   "metadata": {
    "ExecuteTime": {
     "end_time": "2021-03-04T05:46:38.485547Z",
     "start_time": "2021-03-04T05:46:38.480558Z"
    }
   },
   "outputs": [
    {
     "name": "stdout",
     "output_type": "stream",
     "text": [
      "0행0열: 1\t0행1열: 2\t0행2열: 3\t\n",
      "1행0열: 4\t1행1열: 5\t1행2열: 6\t\n"
     ]
    }
   ],
   "source": [
    "for i, row in enumerate(list_):\n",
    "    for j, data in enumerate(row):\n",
    "        print(\"{}행{}열: {}\".format(i,j,data),end='\\t')\n",
    "    print()"
   ]
  },
  {
   "cell_type": "code",
   "execution_count": 109,
   "metadata": {
    "ExecuteTime": {
     "end_time": "2021-03-04T05:46:57.466116Z",
     "start_time": "2021-03-04T05:46:57.461152Z"
    }
   },
   "outputs": [
    {
     "data": {
      "text/plain": [
       "2"
      ]
     },
     "execution_count": 109,
     "metadata": {},
     "output_type": "execute_result"
    }
   ],
   "source": [
    "list_[0][1]#리스트에서의 인덱싱 "
   ]
  },
  {
   "cell_type": "code",
   "execution_count": 111,
   "metadata": {
    "ExecuteTime": {
     "end_time": "2021-03-04T05:47:59.117211Z",
     "start_time": "2021-03-04T05:47:59.113222Z"
    }
   },
   "outputs": [
    {
     "data": {
      "text/plain": [
       "[1, 2]"
      ]
     },
     "execution_count": 111,
     "metadata": {},
     "output_type": "execute_result"
    }
   ],
   "source": [
    "list_[0][0:2]#리스트에서의 인덱싱 슬라이싱"
   ]
  },
  {
   "cell_type": "markdown",
   "metadata": {},
   "source": [
    "- 지금부터 새롭게 배우는것!  #넘파일 접근하는 방법"
   ]
  },
  {
   "cell_type": "code",
   "execution_count": 106,
   "metadata": {
    "ExecuteTime": {
     "end_time": "2021-03-04T05:44:10.979546Z",
     "start_time": "2021-03-04T05:44:10.974559Z"
    }
   },
   "outputs": [
    {
     "data": {
      "text/plain": [
       "array([[1, 2, 3],\n",
       "       [4, 5, 6]], dtype=int16)"
      ]
     },
     "execution_count": 106,
     "metadata": {},
     "output_type": "execute_result"
    }
   ],
   "source": [
    "b=np.array([[1,2,3],[4,5,6]],dtype=np.int16)\n",
    "b"
   ]
  },
  {
   "cell_type": "code",
   "execution_count": 112,
   "metadata": {
    "ExecuteTime": {
     "end_time": "2021-03-04T05:49:31.743906Z",
     "start_time": "2021-03-04T05:49:31.739916Z"
    }
   },
   "outputs": [
    {
     "name": "stdout",
     "output_type": "stream",
     "text": [
      "1\t2\t3\t\n",
      "4\t5\t6\t\n"
     ]
    }
   ],
   "source": [
    "for row in b:\n",
    "    for item in row:\n",
    "        print(item,end='\\t')\n",
    "    print()"
   ]
  },
  {
   "cell_type": "code",
   "execution_count": 138,
   "metadata": {
    "ExecuteTime": {
     "end_time": "2021-03-04T05:59:44.031282Z",
     "start_time": "2021-03-04T05:59:44.027292Z"
    }
   },
   "outputs": [
    {
     "name": "stdout",
     "output_type": "stream",
     "text": [
      "0행0열: 1\t0행1열: 2\t0행2열: 3\t\n",
      "1행0열: 4\t1행1열: 5\t1행2열: 6\t\n"
     ]
    }
   ],
   "source": [
    "for i, row in enumerate(b):\n",
    "    for j, item in enumerate(row):\n",
    "        print(\"{}행{}열: {}\".format(i,j,item),end='\\t')\n",
    "    print()"
   ]
  },
  {
   "cell_type": "code",
   "execution_count": 139,
   "metadata": {
    "ExecuteTime": {
     "end_time": "2021-03-04T05:59:44.239569Z",
     "start_time": "2021-03-04T05:59:44.234607Z"
    }
   },
   "outputs": [
    {
     "data": {
      "text/plain": [
       "(2, 2)"
      ]
     },
     "execution_count": 139,
     "metadata": {},
     "output_type": "execute_result"
    }
   ],
   "source": [
    "b[0,1],b[0][1]# 넘파이 배열에서의 인덱싱"
   ]
  },
  {
   "cell_type": "code",
   "execution_count": 140,
   "metadata": {
    "ExecuteTime": {
     "end_time": "2021-03-04T05:59:44.633176Z",
     "start_time": "2021-03-04T05:59:44.628212Z"
    }
   },
   "outputs": [
    {
     "data": {
      "text/plain": [
       "array([1, 2], dtype=int16)"
      ]
     },
     "execution_count": 140,
     "metadata": {},
     "output_type": "execute_result"
    }
   ],
   "source": [
    "b[0,0:2]#넘파이 배열에서의 슬라이싱"
   ]
  },
  {
   "cell_type": "code",
   "execution_count": 141,
   "metadata": {
    "ExecuteTime": {
     "end_time": "2021-03-04T05:59:45.227327Z",
     "start_time": "2021-03-04T05:59:45.222365Z"
    }
   },
   "outputs": [
    {
     "data": {
      "text/plain": [
       "array([[1.+0.j, 2.+0.j],\n",
       "       [3.+0.j, 4.+0.j]])"
      ]
     },
     "execution_count": 141,
     "metadata": {},
     "output_type": "execute_result"
    }
   ],
   "source": [
    "c=np.array([[1,2],[3,4]],dtype=complex)# dtype이 복소수 \n",
    "c"
   ]
  },
  {
   "cell_type": "code",
   "execution_count": 142,
   "metadata": {
    "ExecuteTime": {
     "end_time": "2021-03-04T05:59:46.469075Z",
     "start_time": "2021-03-04T05:59:46.462121Z"
    }
   },
   "outputs": [
    {
     "name": "stdout",
     "output_type": "stream",
     "text": [
      "d=\n",
      "[[1.+0.j 2.+0.j]\n",
      " [3.+0.j 4.+0.j]]\n",
      "1824648092528 1824648092528\n",
      "d의 요소 타입은 complex128\n",
      "c=\n",
      "[[100.+0.j   2.+0.j]\n",
      " [  3.+0.j   4.+0.j]]\n",
      "d=\n",
      "[[100.+0.j   2.+0.j]\n",
      " [  3.+0.j   4.+0.j]]\n",
      "1824648092528 1824648092528\n"
     ]
    }
   ],
   "source": [
    "d=np.array(c,copy=False)#copy 복사하지말고 참조해라 id(주소)를 뿌려보면 같음\n",
    "print('d=',d,sep='\\n')\n",
    "print(id(c),id(d))\n",
    "print('d의 요소 타입은',d.dtype)\n",
    "d[0,0]=100\n",
    "print('c=',c,sep='\\n')\n",
    "print('d=',d,sep='\\n')\n",
    "print(id(c),id(d))"
   ]
  },
  {
   "cell_type": "code",
   "execution_count": 143,
   "metadata": {
    "ExecuteTime": {
     "end_time": "2021-03-04T05:59:48.753658Z",
     "start_time": "2021-03-04T05:59:48.738037Z"
    }
   },
   "outputs": [
    {
     "name": "stdout",
     "output_type": "stream",
     "text": [
      "d=\n",
      "[[100   2]\n",
      " [  3   4]]\n",
      "1824648092528 1824636518448\n",
      "d의 요소 타입은 int32\n",
      "c=\n",
      "[[100.+0.j   2.+0.j]\n",
      " [  3.+0.j   4.+0.j]]\n",
      "d=\n",
      "[[99  2]\n",
      " [ 3  4]]\n",
      "1824648092528 1824636518448\n"
     ]
    },
    {
     "name": "stderr",
     "output_type": "stream",
     "text": [
      "<ipython-input-143-dc8a6063b665>:1: ComplexWarning: Casting complex values to real discards the imaginary part\n",
      "  d=np.array(c,copy=True,dtype=int)#copy 복사하지말고 참조해라 id(주소)를 뿌려보면 같음\n"
     ]
    }
   ],
   "source": [
    "d=np.array(c,copy=True,dtype=int)#copy 복사하지말고 참조해라 id(주소)를 뿌려보면 같음\n",
    "print('d=',d,sep='\\n')\n",
    "print(id(c),id(d))\n",
    "print('d의 요소 타입은',d.dtype)\n",
    "d[0,0]=99\n",
    "print('c=',c,sep='\\n')\n",
    "print('d=',d,sep='\\n')\n",
    "print(id(c),id(d))"
   ]
  },
  {
   "cell_type": "markdown",
   "metadata": {},
   "source": [
    "## 2.2 기본값이 있는 배열 만들기 \n",
    "- zeros : 요소가 다 0\n",
    "- ones : 요소가 다 1\n",
    "- empty : 초기 내용은 임의값인 배열(메모리 상태에 따라 달라짐)\n",
    "\n",
    "* 이렇게 생성된 배열은 dtype은 float64. dtype 속성을 띠로 지정할 수 있음."
   ]
  },
  {
   "cell_type": "code",
   "execution_count": 144,
   "metadata": {
    "ExecuteTime": {
     "end_time": "2021-03-04T06:04:54.971445Z",
     "start_time": "2021-03-04T06:04:54.966459Z"
    }
   },
   "outputs": [
    {
     "data": {
      "text/plain": [
       "array([[0., 0., 0., 0.],\n",
       "       [0., 0., 0., 0.],\n",
       "       [0., 0., 0., 0.]])"
      ]
     },
     "execution_count": 144,
     "metadata": {},
     "output_type": "execute_result"
    }
   ],
   "source": [
    "np.zeros((3,4))#3행4열짜리 2차원 배열(요소값이 다 0)"
   ]
  },
  {
   "cell_type": "code",
   "execution_count": 149,
   "metadata": {
    "ExecuteTime": {
     "end_time": "2021-03-04T06:08:13.602638Z",
     "start_time": "2021-03-04T06:08:13.598648Z"
    }
   },
   "outputs": [
    {
     "name": "stdout",
     "output_type": "stream",
     "text": [
      "[[[0 0 0 0]\n",
      "  [0 0 0 0]\n",
      "  [0 0 0 0]]\n",
      "\n",
      " [[0 0 0 0]\n",
      "  [0 0 0 0]\n",
      "  [0 0 0 0]]]\n",
      "int16\n",
      "2\n"
     ]
    }
   ],
   "source": [
    "x=np.zeros((2,3,4),dtype=np.int16)#2면 3행 4열 짜리 3차원 배열 dtype을 int16로 지정 \n",
    "print(x)\n",
    "print(x.dtype)\n",
    "print(x.itemsize)"
   ]
  },
  {
   "cell_type": "code",
   "execution_count": 150,
   "metadata": {
    "ExecuteTime": {
     "end_time": "2021-03-04T06:08:42.188789Z",
     "start_time": "2021-03-04T06:08:42.172832Z"
    }
   },
   "outputs": [
    {
     "data": {
      "text/plain": [
       "array([[1, 1, 1, 1, 1],\n",
       "       [1, 1, 1, 1, 1]], dtype=int8)"
      ]
     },
     "execution_count": 150,
     "metadata": {},
     "output_type": "execute_result"
    }
   ],
   "source": [
    "np.ones((2,5),dtype=np.int8)"
   ]
  },
  {
   "cell_type": "code",
   "execution_count": 1,
   "metadata": {
    "ExecuteTime": {
     "end_time": "2021-03-04T06:09:39.013967Z",
     "start_time": "2021-03-04T06:09:39.004986Z"
    }
   },
   "outputs": [
    {
     "data": {
      "text/plain": [
       "array([[0., 0., 0.],\n",
       "       [0., 0., 0.]])"
      ]
     },
     "execution_count": 1,
     "metadata": {},
     "output_type": "execute_result"
    }
   ],
   "source": [
    "np.empty((2,3))"
   ]
  },
  {
   "cell_type": "markdown",
   "metadata": {},
   "source": [
    "## 2.3 연속된 값을 갖는 베열 만들기 \n",
    "- np.arange(from,to,by,type=None) : from부터 by씩 건너뛴 값을 to 앞까지(to 미포함)목록으로 N차원 배열 만들수 있습니다.\n",
    "- from생략시 0 ,by생략시 1\n",
    "\n",
    "\n",
    "- np.linspace(from,to,num) : from부터 to까지(to포함) num가 숫자들을 N차원 배열로 만듬"
   ]
  },
  {
   "cell_type": "code",
   "execution_count": 4,
   "metadata": {
    "ExecuteTime": {
     "end_time": "2021-03-04T06:33:09.449521Z",
     "start_time": "2021-03-04T06:33:09.443536Z"
    }
   },
   "outputs": [
    {
     "data": {
      "text/plain": [
       "array([10., 15., 20., 25.])"
      ]
     },
     "execution_count": 4,
     "metadata": {},
     "output_type": "execute_result"
    }
   ],
   "source": [
    "np.arange(10,30,5,dtype=np.float64)"
   ]
  },
  {
   "cell_type": "code",
   "execution_count": 5,
   "metadata": {
    "ExecuteTime": {
     "end_time": "2021-03-04T06:33:10.040990Z",
     "start_time": "2021-03-04T06:33:10.014043Z"
    }
   },
   "outputs": [
    {
     "data": {
      "text/plain": [
       "array([0. , 0.3, 0.6, 0.9, 1.2, 1.5, 1.8])"
      ]
     },
     "execution_count": 5,
     "metadata": {},
     "output_type": "execute_result"
    }
   ],
   "source": [
    "np.arange(0,2,0.3)"
   ]
  },
  {
   "cell_type": "code",
   "execution_count": 6,
   "metadata": {
    "ExecuteTime": {
     "end_time": "2021-03-04T06:33:10.406172Z",
     "start_time": "2021-03-04T06:33:10.400209Z"
    }
   },
   "outputs": [
    {
     "data": {
      "text/plain": [
       "array([0.  , 0.25, 0.5 , 0.75, 1.  , 1.25, 1.5 , 1.75, 2.  ])"
      ]
     },
     "execution_count": 6,
     "metadata": {},
     "output_type": "execute_result"
    }
   ],
   "source": [
    "np.linspace(0,2,9)"
   ]
  },
  {
   "cell_type": "code",
   "execution_count": 7,
   "metadata": {
    "ExecuteTime": {
     "end_time": "2021-03-04T06:33:10.814742Z",
     "start_time": "2021-03-04T06:33:10.809779Z"
    }
   },
   "outputs": [
    {
     "data": {
      "text/plain": [
       "array([0.  , 0.25, 0.5 , 0.75, 1.  , 1.25, 1.5 , 1.75, 2.  ])"
      ]
     },
     "execution_count": 7,
     "metadata": {},
     "output_type": "execute_result"
    }
   ],
   "source": [
    "import numpy as np\n",
    "from numpy import linspace\n",
    "linspace(0,2,9)"
   ]
  },
  {
   "cell_type": "code",
   "execution_count": 8,
   "metadata": {
    "ExecuteTime": {
     "end_time": "2021-03-04T06:33:11.213167Z",
     "start_time": "2021-03-04T06:33:11.206186Z"
    }
   },
   "outputs": [
    {
     "name": "stdout",
     "output_type": "stream",
     "text": [
      "[0.         0.06346652 0.12693304 0.19039955 0.25386607 0.31733259\n",
      " 0.38079911 0.44426563 0.50773215 0.57119866 0.63466518 0.6981317\n",
      " 0.76159822 0.82506474 0.88853126 0.95199777 1.01546429 1.07893081\n",
      " 1.14239733 1.20586385 1.26933037 1.33279688 1.3962634  1.45972992\n",
      " 1.52319644 1.58666296 1.65012947 1.71359599 1.77706251 1.84052903\n",
      " 1.90399555 1.96746207 2.03092858 2.0943951  2.15786162 2.22132814\n",
      " 2.28479466 2.34826118 2.41172769 2.47519421 2.53866073 2.60212725\n",
      " 2.66559377 2.72906028 2.7925268  2.85599332 2.91945984 2.98292636\n",
      " 3.04639288 3.10985939 3.17332591 3.23679243 3.30025895 3.36372547\n",
      " 3.42719199 3.4906585  3.55412502 3.61759154 3.68105806 3.74452458\n",
      " 3.8079911  3.87145761 3.93492413 3.99839065 4.06185717 4.12532369\n",
      " 4.1887902  4.25225672 4.31572324 4.37918976 4.44265628 4.5061228\n",
      " 4.56958931 4.63305583 4.69652235 4.75998887 4.82345539 4.88692191\n",
      " 4.95038842 5.01385494 5.07732146 5.14078798 5.2042545  5.26772102\n",
      " 5.33118753 5.39465405 5.45812057 5.52158709 5.58505361 5.64852012\n",
      " 5.71198664 5.77545316 5.83891968 5.9023862  5.96585272 6.02931923\n",
      " 6.09278575 6.15625227 6.21971879 6.28318531]\n",
      "=================================\n",
      "[ 0.00000000e+00  6.34239197e-02  1.26592454e-01  1.89251244e-01\n",
      "  2.51147987e-01  3.12033446e-01  3.71662456e-01  4.29794912e-01\n",
      "  4.86196736e-01  5.40640817e-01  5.92907929e-01  6.42787610e-01\n",
      "  6.90079011e-01  7.34591709e-01  7.76146464e-01  8.14575952e-01\n",
      "  8.49725430e-01  8.81453363e-01  9.09631995e-01  9.34147860e-01\n",
      "  9.54902241e-01  9.71811568e-01  9.84807753e-01  9.93838464e-01\n",
      "  9.98867339e-01  9.99874128e-01  9.96854776e-01  9.89821442e-01\n",
      "  9.78802446e-01  9.63842159e-01  9.45000819e-01  9.22354294e-01\n",
      "  8.95993774e-01  8.66025404e-01  8.32569855e-01  7.95761841e-01\n",
      "  7.55749574e-01  7.12694171e-01  6.66769001e-01  6.18158986e-01\n",
      "  5.67059864e-01  5.13677392e-01  4.58226522e-01  4.00930535e-01\n",
      "  3.42020143e-01  2.81732557e-01  2.20310533e-01  1.58001396e-01\n",
      "  9.50560433e-02  3.17279335e-02 -3.17279335e-02 -9.50560433e-02\n",
      " -1.58001396e-01 -2.20310533e-01 -2.81732557e-01 -3.42020143e-01\n",
      " -4.00930535e-01 -4.58226522e-01 -5.13677392e-01 -5.67059864e-01\n",
      " -6.18158986e-01 -6.66769001e-01 -7.12694171e-01 -7.55749574e-01\n",
      " -7.95761841e-01 -8.32569855e-01 -8.66025404e-01 -8.95993774e-01\n",
      " -9.22354294e-01 -9.45000819e-01 -9.63842159e-01 -9.78802446e-01\n",
      " -9.89821442e-01 -9.96854776e-01 -9.99874128e-01 -9.98867339e-01\n",
      " -9.93838464e-01 -9.84807753e-01 -9.71811568e-01 -9.54902241e-01\n",
      " -9.34147860e-01 -9.09631995e-01 -8.81453363e-01 -8.49725430e-01\n",
      " -8.14575952e-01 -7.76146464e-01 -7.34591709e-01 -6.90079011e-01\n",
      " -6.42787610e-01 -5.92907929e-01 -5.40640817e-01 -4.86196736e-01\n",
      " -4.29794912e-01 -3.71662456e-01 -3.12033446e-01 -2.51147987e-01\n",
      " -1.89251244e-01 -1.26592454e-01 -6.34239197e-02 -2.44929360e-16]\n"
     ]
    }
   ],
   "source": [
    "#많은 수의 점들을 생성할 떄 유용\n",
    "from numpy import pi\n",
    "x= linspace(0,2*pi,100)\n",
    "print(x)\n",
    "print('=================================')\n",
    "f=np.sin(x)\n",
    "print(f)"
   ]
  },
  {
   "cell_type": "code",
   "execution_count": 14,
   "metadata": {
    "ExecuteTime": {
     "end_time": "2021-03-04T06:36:45.428426Z",
     "start_time": "2021-03-04T06:36:45.416437Z"
    }
   },
   "outputs": [
    {
     "name": "stdout",
     "output_type": "stream",
     "text": [
      "[ 2.12776989e-01  4.83049892e-01  5.37876741e-01 -4.29008422e-01\n",
      "  7.71870609e-01 -1.13551656e+00 -2.14997712e+00  3.30455508e-01\n",
      "  4.44783358e-01 -1.17910957e+00 -9.71787551e-02  1.18447611e-01\n",
      " -4.79840255e-01  1.67998913e+00 -9.16508976e-01  3.77103330e-02\n",
      "  4.73272510e-01 -8.44827160e-01 -4.29966119e-01 -1.11986180e+00\n",
      "  5.28319542e-01 -1.35056430e+00 -2.96699589e-02 -6.28462513e-01\n",
      "  2.25418243e-01  9.38617330e-01  3.92206234e-01 -1.68717782e+00\n",
      " -4.96857645e-02  4.50521129e-02 -6.15648008e-01  1.12350884e+00\n",
      "  1.36626954e-01 -3.60827995e-01 -5.48243779e-01 -3.92862646e-01\n",
      "  8.18095885e-01 -1.01851150e+00  1.63214564e-01 -7.63484616e-01\n",
      "  4.06175558e-01 -9.31051465e-01  5.73321385e-01  1.29056606e-01\n",
      "  5.66358985e-01 -5.68913942e-01 -1.41192592e+00  6.88988336e-01\n",
      " -9.43223015e-01  5.00708000e-01  5.75446325e-01  9.84776420e-01\n",
      "  1.60731515e+00  8.62709501e-01  1.34341178e+00  9.77127173e-01\n",
      "  1.22603471e-02 -1.92579907e-01  1.79804855e+00  8.26101369e-01\n",
      "  8.37118186e-01 -3.30819760e-01 -5.12443998e-01  1.33714036e+00\n",
      " -9.74632982e-01 -1.08889184e+00 -3.88960755e-01  1.17378516e+00\n",
      " -1.17913777e+00  3.31008942e+00  2.42504675e-01  5.68849136e-01\n",
      " -6.83463452e-01  1.23589323e+00 -2.06633224e+00 -3.69830240e-01\n",
      "  4.27026572e-01 -8.47389523e-01  2.49675118e-01  1.44720372e+00\n",
      " -1.07113265e+00 -4.69796202e-01 -1.26547768e+00  8.36075334e-01\n",
      " -7.07744374e-01 -7.45895046e-01 -6.05570669e-01 -1.87952866e+00\n",
      "  7.53647099e-01  2.22798395e-02  2.03749311e+00 -5.69258979e-01\n",
      "  9.62951857e-01  1.06219810e+00 -1.69845682e+00 -4.24161359e-01\n",
      " -9.22231434e-01 -5.21672497e-01 -1.44952632e+00  2.07875108e-01\n",
      "  6.28913945e-01 -4.13799898e-01  6.19853842e-01 -1.14275001e-01\n",
      " -1.60295829e+00  7.60415137e-01  1.70778722e+00  5.27151895e-01\n",
      " -3.19166689e+00  5.02163565e-01  1.80538464e+00 -1.55636048e+00\n",
      " -6.27463438e-01  1.74719431e-02  1.47388932e-01 -5.33127243e-02\n",
      "  7.89529429e-01 -4.23734231e-01 -1.11704313e-01 -2.43068553e-01\n",
      "  1.30205433e+00 -1.24738113e+00  1.71700151e+00 -7.09460405e-01\n",
      " -9.31071434e-01 -5.82709969e-02  9.08396599e-01 -1.48493480e-01\n",
      " -1.25023542e+00  9.59724803e-01  7.55359025e-01 -3.88012722e-01\n",
      "  7.94481662e-01  6.84166911e-01  2.61803997e-01 -2.75519207e-01\n",
      "  1.18072377e+00 -3.46321990e-01  1.30775830e+00 -7.77401281e-01\n",
      " -5.95968693e-01  2.73502263e-01  1.22880781e+00  5.98620150e-02\n",
      "  1.31081058e-01  6.68231414e-01 -3.94191102e-01 -3.43555453e-01\n",
      " -2.76752133e-01 -8.34544761e-01 -8.57123317e-02  1.84296710e+00\n",
      "  4.97292877e-02  1.09254655e+00 -8.66773877e-01 -3.66825753e-01\n",
      " -1.24376322e+00 -2.38278322e-01  1.73920753e+00  7.35670246e-01\n",
      "  3.55605758e-01  6.25773438e-01 -2.53030282e-01  5.65451522e-02\n",
      " -3.96017679e-01 -1.65711478e-01 -1.64177617e+00 -6.17468517e-01\n",
      "  1.28721783e+00 -7.03219982e-01  5.75641546e-01 -3.25143792e-01\n",
      "  1.15718264e+00 -1.50979608e-01  3.35150451e-01 -2.88938465e-01\n",
      " -3.65691763e-01 -5.93645603e-01 -5.79507667e-01  6.30531433e-01\n",
      "  6.25494933e-01 -8.95547726e-02  4.79656578e-01 -1.06749768e-02\n",
      "  9.17567229e-01  4.42598463e-01 -1.26057786e+00  6.32578396e-01\n",
      "  1.07940084e+00  3.48801946e-01 -1.29626308e+00 -1.87303698e-01\n",
      " -1.41748186e-02  8.12410564e-01 -4.40845143e-01  5.69076851e-01\n",
      "  5.39282607e-01  2.38387933e+00 -1.27891756e+00 -1.67761987e+00\n",
      "  4.16221183e-01 -5.43174117e-01 -1.88837573e-01  2.03104832e-01\n",
      "  1.20197177e+00  2.97406530e-01 -7.24917539e-02 -8.94730328e-01\n",
      " -5.41301712e-01 -1.12303445e+00 -1.48240142e-01  1.48052920e+00\n",
      " -1.57937238e+00  1.97662212e+00 -4.17697045e-01 -8.01821743e-01\n",
      "  1.07005086e+00 -8.70162253e-02  1.99631309e-01 -1.58228275e-02\n",
      "  1.33893816e+00  1.35832924e-01  7.73117235e-01 -1.57928560e+00\n",
      " -3.81004937e-01 -8.37286875e-01  4.80735101e-01 -2.08084381e+00\n",
      "  1.04790693e+00  6.97724898e-02 -1.42646346e+00  1.03623692e+00\n",
      "  1.36445357e+00 -2.22821297e-01 -5.21016030e-01 -4.87335336e-01\n",
      " -4.12607826e-01 -8.02021205e-01 -1.96999715e+00 -2.07591952e+00\n",
      " -1.51583094e+00 -5.65743927e-02  1.38894262e+00  4.79950443e-03\n",
      "  1.47935837e-01 -9.45182113e-01 -8.78172275e-02  1.10194554e+00\n",
      "  2.54998894e-02  2.87137644e+00  6.15789092e-01  1.44637817e-01\n",
      "  4.11728883e-01  1.20325520e+00 -8.04819013e-01  9.44554180e-01\n",
      "  8.18352749e-01 -3.35887122e-01 -9.43399539e-02 -3.20947074e-01\n",
      " -1.15478250e+00 -2.33957524e-01 -1.54117893e-01 -1.35313084e-01\n",
      "  8.56768308e-01 -3.05244142e-01 -5.74283138e-01  3.55838160e-01\n",
      "  1.55689625e+00  8.37147129e-01 -9.87080189e-01  6.93861125e-01\n",
      "  9.54600397e-01  1.62096922e-01  1.60883918e+00  1.67950954e-01\n",
      "  1.11286599e+00 -3.06538741e-01  8.13608798e-01 -3.06212356e-01\n",
      "  4.16697326e-01  9.24531914e-02  9.57048003e-01 -1.37660397e+00\n",
      " -1.00636515e+00 -1.76396204e+00  1.02734518e+00 -4.20434418e-01\n",
      " -1.23050884e-01  3.15134672e-02  1.18026395e+00 -8.67259446e-01\n",
      " -8.63282612e-02  2.13019354e+00 -5.82987342e-01 -2.26498918e-01\n",
      "  3.97834247e-01  9.73158272e-01 -6.40947212e-01  1.54267064e+00\n",
      "  1.21950943e+00  2.33892370e-01 -4.91384783e-01  1.78487979e-01\n",
      "  7.77732985e-01  1.16405869e+00 -1.97557365e-01 -2.70527955e+00\n",
      "  1.64939964e+00 -6.46445404e-01 -2.48486747e-01 -1.38498978e+00\n",
      "  2.16282322e-01 -1.92783964e-01  1.79053216e+00  5.41642283e-01\n",
      " -5.42444090e-01  2.10677916e+00 -1.57211187e+00  9.54021549e-01\n",
      "  1.23364124e+00 -1.98947026e-01  1.37980696e-01 -7.07503143e-01\n",
      "  5.60149227e-01 -1.55132867e+00 -8.67458838e-02  1.60208229e+00\n",
      " -7.06589753e-01  2.70644750e-01 -6.99509720e-01 -9.03827682e-01\n",
      "  2.11436564e-01 -1.57585249e+00  1.03183071e+00 -5.61673545e-01\n",
      " -1.73321866e-01 -7.67425488e-01  5.06012031e-01 -1.43328986e+00\n",
      "  8.56679852e-01 -1.16450938e+00  3.17294867e-01  8.02996658e-01\n",
      " -9.70106638e-02  2.50313313e-01 -1.10523706e+00 -1.55547225e-01\n",
      " -7.52013481e-01 -4.51939499e-01 -6.13287438e-01 -3.44956273e-01\n",
      " -5.71782980e-01  8.16909001e-01 -3.13908538e-01  3.54720297e-01\n",
      " -6.49037870e-01 -7.99222542e-02 -2.26449370e-01 -1.35628242e+00\n",
      " -1.59874491e+00 -2.40475886e+00 -7.69922976e-01 -2.99742380e-01\n",
      " -1.23597681e+00 -1.55477732e-01  8.55749553e-01 -8.08957665e-01\n",
      " -6.11519145e-01  1.66579761e+00 -1.14453208e+00  8.70297820e-01\n",
      " -1.42736706e+00  2.69685698e+00 -2.74938949e-01 -9.93362408e-01\n",
      " -4.18181201e-02  2.99758492e-01 -4.99137497e-01 -2.19229934e-01\n",
      "  2.38928525e-01  1.35358429e+00  1.13724413e+00 -1.58531418e+00\n",
      " -2.59893179e+00 -1.34355399e-01  2.64703126e-02  1.29903728e+00\n",
      " -2.50445529e-02  2.73023767e-01  6.33764350e-01  1.64572579e+00\n",
      "  5.67772307e-01 -3.09196087e-01  1.08725496e-02 -1.36672035e+00\n",
      " -2.11129544e-01  7.45580604e-01 -1.18004900e+00  7.05569193e-01\n",
      "  5.91155773e-01 -1.57829153e-01 -5.75907824e-01 -5.78193450e-01\n",
      " -5.77970075e-01 -1.54223703e+00 -4.62787314e-01  2.16291709e+00\n",
      " -1.35120638e+00 -1.30971593e+00 -5.82631188e-01 -5.69064282e-01\n",
      " -9.81061154e-01  6.44514588e-01 -6.47042631e-01  2.06638836e+00\n",
      " -1.03429084e-01 -4.59541023e-01  4.17562749e-01  2.29939521e+00\n",
      "  5.59944521e-01 -2.82335085e-01 -1.07668897e+00  1.91613181e-01\n",
      " -1.12953661e+00  1.04327501e+00 -1.75472053e-01  5.09802544e-02\n",
      "  5.10293024e-01  5.64752864e-01 -2.61737201e-01 -4.19420158e-01\n",
      "  3.38608595e-01  2.01809254e+00 -3.84627299e-01 -1.63813530e+00\n",
      " -8.06975297e-01  6.04306490e-01  7.99594452e-01 -1.27681915e-01\n",
      " -2.56152634e+00  1.44696212e+00  1.19123947e+00 -2.89182809e-01\n",
      " -1.31578262e-01  1.31779836e-01 -2.92749527e-01 -7.09218652e-03\n",
      "  7.55412332e-01  5.60541773e-01  2.74780499e-01 -1.10858174e+00\n",
      "  3.94249542e-01  5.67611293e-01  6.27599244e-01  2.01877540e+00\n",
      " -5.86238721e-01 -3.44825820e-01  1.51842071e-01  4.77356096e-01\n",
      " -4.43195807e-02 -1.45065379e+00  7.09399809e-01  5.50582744e-01\n",
      "  2.24556432e-01  1.72088447e+00  1.73392676e+00 -1.11687603e+00\n",
      " -4.64307001e-01 -4.45801136e-01  2.66750215e+00  2.47540650e-01\n",
      "  1.52651835e+00  1.38756893e+00 -1.75726463e+00 -5.72328708e-01\n",
      "  1.03722840e+00 -5.45764216e-01 -8.41892579e-01 -4.50913689e-01\n",
      "  1.08261697e+00 -1.43600252e+00  1.45654425e+00 -4.12917667e-02\n",
      " -8.95154780e-01  1.19486265e+00 -3.89914148e-01  3.92453656e-01\n",
      " -8.55675920e-01 -1.19634066e+00 -1.55534998e-01 -3.05396990e-01\n",
      " -1.53724845e+00 -1.46292519e+00 -1.60943711e+00  1.89264990e-01\n",
      " -1.53109790e-01 -1.11850521e+00  1.03017049e+00 -7.41229523e-01\n",
      " -9.71421259e-01 -2.64111157e-01 -2.86799192e-01 -6.02740299e-02\n",
      "  2.79080582e-01  4.78747270e-02 -8.65471744e-02  1.32623496e-01\n",
      "  2.54964305e-01 -4.68360118e-01  5.18018256e-01 -2.15704852e-01\n",
      "  1.05907830e-01  1.68134166e+00  1.76207928e+00 -2.92728743e-01\n",
      " -7.88388151e-01  6.14184580e-01 -3.91213339e-01 -9.44245629e-01\n",
      " -4.21677098e-01 -8.96823644e-03  2.46911373e-01  4.65740255e-01\n",
      " -5.85155056e-01 -8.49434351e-02  4.56272098e-01  1.08938193e+00\n",
      " -7.17300972e-01  9.00650332e-01 -2.80105861e-02  6.76777553e-01\n",
      " -1.35573919e+00 -1.54626028e+00 -1.76273713e-01  4.65687476e-01\n",
      " -1.01422669e+00 -5.43602978e-01 -5.01802016e-01  1.34326700e+00\n",
      "  2.94059406e-01 -1.41815446e+00  1.43741121e+00  1.48848810e+00\n",
      " -3.92860702e-01  2.05231967e+00 -1.71204429e+00 -8.25334420e-01\n",
      "  8.41619520e-01 -9.73198030e-01  5.85895636e-01  1.78670868e+00\n",
      " -1.05437672e+00 -1.14269579e+00 -1.93704934e+00 -4.43049293e-01\n",
      "  9.12266404e-02 -1.11153880e+00  6.08237695e-01 -1.48051334e+00\n",
      " -1.15341809e+00 -7.73428606e-01  6.49114042e-02  5.76478212e-01\n",
      "  1.78198985e+00 -5.30986790e-01  3.66877746e-01  4.05936317e-01\n",
      " -4.50302179e-01  1.45106015e+00 -4.42107567e-01  3.17458780e-01\n",
      " -9.03089744e-01  3.74607298e-01 -7.20149422e-02 -2.08659887e+00\n",
      " -1.42063967e-01  9.57114904e-01 -7.33457695e-01  2.85921613e-01\n",
      "  7.55585989e-01 -6.29501575e-01  8.67835951e-01  5.11892032e-01\n",
      "  2.80492614e-01  2.03277443e-01 -8.75260377e-01  3.69437707e-01\n",
      "  1.37507868e+00 -1.48980361e+00 -3.62618683e-01 -6.99384428e-01\n",
      " -3.88174608e-01 -2.31652616e-02  1.97391172e+00  7.77855060e-02\n",
      " -5.38793834e-02  1.49192132e+00  2.66443142e-01  2.72227359e-01\n",
      "  4.15715257e-01 -1.04665241e+00 -8.59977424e-01  3.94812354e-01\n",
      "  6.42238719e-01  3.45173738e-01  1.65100525e-01  1.06047100e-01\n",
      "  9.93285724e-01  1.11801450e+00  1.28715924e+00 -7.94021980e-01\n",
      " -2.49016149e-01 -2.11124172e-01 -3.47811469e-01  1.24823587e+00\n",
      "  1.24436489e+00 -1.00368884e+00  2.69354916e+00  1.52670395e+00\n",
      " -9.10023988e-01 -3.58695095e-01  1.83307962e+00  6.88870662e-01\n",
      " -3.52387780e-02 -2.83869706e-01 -1.98244065e+00  1.43807575e+00\n",
      " -9.43744470e-01  1.12758705e+00 -1.13418392e+00  1.06730098e+00\n",
      "  5.88073091e-01  1.82462825e-02  4.46406727e-01  6.62812228e-01\n",
      "  7.15350069e-02  2.79780266e-01  2.57492029e-01  3.90891768e-02\n",
      " -3.67226656e-01  2.09571616e-01  1.04793949e+00  1.78047391e+00\n",
      " -8.81448104e-05  1.83500277e+00 -8.86003371e-01  3.45622191e-02\n",
      "  6.15298176e-01 -8.57991711e-02  1.18004081e+00  2.75823204e-01\n",
      "  8.92080714e-01 -1.65429436e+00  8.84038838e-01  2.37853720e+00\n",
      " -1.07501633e+00 -3.91690140e-01 -9.91451671e-02 -6.46945092e-01\n",
      "  4.48377480e-01 -5.37134036e-01  8.11053839e-01  2.58713772e-01\n",
      " -7.78489560e-01  1.22139904e-01  3.25058134e-01  1.77594139e+00\n",
      " -1.61383440e+00 -9.65859943e-01  1.45613621e+00 -1.31654845e+00\n",
      "  1.56243257e+00  9.45629229e-02 -4.72568861e-01 -6.73295393e-01\n",
      " -8.28977678e-01  1.01617711e+00 -1.74247068e-01 -5.54056882e-01\n",
      " -1.45974014e+00 -1.03109076e+00 -1.07890773e-01  1.00619278e-01\n",
      " -1.57298612e+00 -9.92987317e-01  4.95657106e-01  7.34308066e-01\n",
      "  2.09112276e-01  1.82162425e-01  4.43780486e-01 -3.51346454e-01\n",
      " -1.91036559e+00 -4.18330324e-01  1.10385007e+00  2.18128138e+00\n",
      " -1.13751046e-01  1.93086531e-01 -6.99338657e-01  7.64466346e-01\n",
      "  2.79250041e-01 -6.90860703e-02 -7.41658720e-01  1.19727382e+00\n",
      " -1.47756594e+00 -1.29647476e+00 -2.13055287e-01 -3.03397413e-01\n",
      " -2.28088219e-01 -4.25065616e-02  4.37678310e-01  4.65196051e-01\n",
      " -8.38599503e-01 -1.60983072e+00 -5.31592064e-02 -7.10311328e-01\n",
      "  1.14070998e-01 -1.18322122e+00 -1.72166567e+00 -1.22066212e+00\n",
      "  2.38802220e-01 -3.38415190e+00  2.45672944e+00  6.16430137e-01\n",
      "  1.07030756e+00  6.46812871e-01  2.70216830e-01 -1.24171178e-01\n",
      " -1.56081757e-01  7.95603805e-01  6.22704410e-01 -1.68627815e-01\n",
      " -1.68404498e-01 -7.50301367e-01 -7.80893760e-01 -2.27343230e-01\n",
      "  4.86556366e-01  1.54400610e-01 -4.05293713e-01  6.85594223e-02\n",
      "  7.46338380e-01 -7.04725018e-01 -3.93114116e-01 -1.69167290e+00\n",
      " -1.25886308e+00 -1.88397688e-01 -8.06676678e-01  4.10823959e-01\n",
      "  6.93689103e-04  1.01053952e+00  4.06720336e-01  1.92040691e-01\n",
      " -1.44218294e-01 -6.68746253e-01  5.86165213e-01  8.02353128e-01\n",
      " -2.22391756e+00  4.84911388e-02  2.04580724e-01  3.17794625e-01\n",
      "  1.74287746e+00 -1.93958930e+00 -6.66838056e-01  7.74861460e-01\n",
      "  1.10447884e+00 -2.59582023e+00  1.14799064e+00 -1.52955703e-01\n",
      " -7.82120870e-01 -6.48875674e-02  3.60101389e-01  6.75403934e-01\n",
      " -1.39979062e+00  5.21768012e-01 -7.25381403e-01  8.83308349e-01\n",
      "  3.56142736e-01  2.33748533e+00 -1.12911181e+00 -1.81857265e+00\n",
      "  1.99958296e+00  1.80830762e-01 -1.28006873e+00 -5.90553027e-01\n",
      " -1.43543875e-01  1.57866813e+00  1.92933563e-01 -1.16595346e+00\n",
      " -8.63268889e-01  5.26874955e-01  2.00018467e+00  7.86228650e-02\n",
      "  3.96639659e-01  6.84966176e-01  5.98792828e-01 -9.81083522e-01\n",
      "  1.86213103e+00 -4.63534302e-01  8.55813432e-01 -7.25156943e-01\n",
      "  1.37589679e-01  1.14572755e+00 -8.24324507e-01  2.59802031e-01\n",
      "  3.75128045e-01 -4.76486751e-01  5.59141861e-01 -1.08546465e+00\n",
      "  7.02962186e-01  2.05738732e+00  2.51356778e+00 -1.00221075e+00\n",
      " -6.90833207e-01 -2.04967285e+00 -1.30798831e+00  1.51560336e+00\n",
      " -5.10314480e-02 -6.45945894e-02  4.96914524e-01 -3.13533431e-01\n",
      "  8.71235459e-02 -1.78692239e-01  1.92031006e+00  4.47087294e-01\n",
      " -2.46226407e-01  1.39355050e+00  4.52571728e-01  4.81089168e-01\n",
      "  8.34933597e-01 -1.98541931e+00 -5.38574955e-01  2.14735094e+00\n",
      "  3.32110115e-01 -8.87382111e-01  2.17527290e-01 -1.59335302e+00\n",
      " -4.18366621e-01  6.74433910e-01 -3.59115705e-01 -9.95531418e-01\n",
      "  7.79291772e-01  1.11163129e+00  1.59277993e-01 -1.20012488e+00\n",
      "  2.21039580e+00  8.83737195e-01 -4.24073339e-01  1.05877676e+00\n",
      " -4.94258016e-01  1.05134703e+00  8.36206060e-01  5.09832238e-01\n",
      "  2.09632192e+00  4.86935251e-01  2.05886074e+00 -8.79326894e-01\n",
      "  5.93198449e-01  1.57841919e+00 -1.16191051e+00  7.79461966e-01\n",
      "  9.92689166e-01 -2.14568066e+00  1.07987988e+00  1.09065839e+00\n",
      "  1.43849293e+00  4.69755439e-01 -7.48110159e-01 -1.72096336e-01\n",
      "  1.08906169e-01  3.90928171e-01  1.58518649e+00 -2.10052292e-01\n",
      " -2.28138170e+00  9.61234577e-01 -7.10056090e-01  2.74897058e-01\n",
      " -8.30561338e-01 -3.62899534e-01 -1.08253726e+00 -4.79824958e-01\n",
      "  1.37735506e+00  5.62667061e-01  5.49507763e-01 -1.56378177e+00\n",
      " -5.89931286e-01 -7.36967534e-02 -3.70209389e-01 -1.22545925e+00\n",
      " -3.19299035e-01 -7.31448043e-01 -7.64247174e-02  1.06241252e-01\n",
      "  3.70375017e-01  3.69086689e-01 -2.14683409e+00 -6.77304772e-01\n",
      " -7.39286746e-01 -5.54439812e-01 -1.52848129e+00  5.76752345e-01\n",
      "  6.08062223e-02 -1.40233420e+00 -4.44983859e-01 -1.05011796e+00\n",
      " -1.22167447e+00 -7.27200248e-01  5.17790351e-01  1.08518808e+00\n",
      " -5.85742013e-01  1.67956032e+00  1.54164563e-01  3.46199216e-01\n",
      "  1.78787106e+00 -1.16774651e-01 -1.56933797e-01 -5.15383024e-01\n",
      "  8.80506891e-01 -1.52785516e+00 -9.97910306e-01  8.41529459e-02\n",
      "  5.54542447e-01 -6.87215299e-01 -7.29603564e-01  4.75931583e-01\n",
      "  2.79841084e-01 -2.96821735e-01  6.12557728e-03  2.20536850e-01\n",
      "  1.16880172e+00  1.55993038e+00 -7.77924849e-01 -9.09186794e-01\n",
      "  8.72471233e-01 -4.14295937e-01  4.90175201e-01  4.43775895e-01\n",
      " -1.95759062e+00 -2.12266408e+00  3.77886137e-02 -6.06453448e-02\n",
      "  3.72131545e-01 -3.29609825e-01 -2.96432174e-01  1.72546996e+00\n",
      " -1.17205392e+00 -7.82032906e-01 -1.41741603e+00 -5.46168176e-01\n",
      " -8.24636568e-01  4.19925286e-01  1.88240119e-01  1.23183682e-01\n",
      "  1.37063904e+00 -1.14973012e+00 -2.04402877e+00 -7.04726385e-01\n",
      " -4.19821165e-01 -8.40648058e-01  2.19466318e+00 -7.16272854e-01\n",
      "  7.81313702e-01 -1.32823767e+00  8.30640599e-01  1.29976461e+00\n",
      "  3.15515646e-01  4.52211788e-01  5.43653342e-01 -1.16724501e+00\n",
      " -3.51781445e-01  1.23206502e+00 -6.55271512e-01 -1.12130724e+00\n",
      " -3.45245077e-01  5.02175012e-01  9.31472716e-01 -7.94475097e-01\n",
      " -3.11369036e-01 -1.07858505e-01 -1.66973736e+00 -1.32122469e+00\n",
      "  5.89595860e-02 -7.82632807e-01  2.07288506e-01 -9.60083197e-01\n",
      " -2.10275753e-01 -5.13208739e-01  2.89599757e-01  1.14967417e-02\n",
      "  3.64313037e-01 -4.00589041e-01  6.73453909e-01 -1.05911090e+00\n",
      "  3.52181246e-01 -6.87888816e-01  1.06909838e+00 -4.69399110e-01\n",
      "  2.37306253e-03 -1.89551792e+00  9.87314107e-01  1.44143746e+00]\n"
     ]
    }
   ],
   "source": [
    "print(x)"
   ]
  },
  {
   "cell_type": "code",
   "execution_count": 12,
   "metadata": {
    "ExecuteTime": {
     "end_time": "2021-03-04T06:34:05.989000Z",
     "start_time": "2021-03-04T06:34:05.834832Z"
    }
   },
   "outputs": [
    {
     "data": {
      "text/plain": [
       "[<matplotlib.lines.Line2D at 0x1f2713c6460>]"
      ]
     },
     "execution_count": 12,
     "metadata": {},
     "output_type": "execute_result"
    },
    {
     "data": {
      "image/png": "[encoded data removed]",
      "text/plain": [
       "<Figure size 432x288 with 1 Axes>"
      ]
     },
     "metadata": {
      "needs_background": "light"
     },
     "output_type": "display_data"
    }
   ],
   "source": [
    "import matplotlib.pyplot as plt\n",
    "plt.plot(x,f) \n",
    "#plt.show()"
   ]
  },
  {
   "cell_type": "code",
   "execution_count": 19,
   "metadata": {
    "ExecuteTime": {
     "end_time": "2021-03-04T06:39:45.290650Z",
     "start_time": "2021-03-04T06:39:45.276698Z"
    }
   },
   "outputs": [
    {
     "data": {
      "text/plain": [
       "array([-6.28412957e-01,  1.29220168e+00, -4.13691125e-01,  1.86669387e-01,\n",
       "        1.08369617e+00,  2.24170948e+00,  1.21148147e-01,  8.22345712e-01,\n",
       "       -7.12001714e-01,  1.39316749e+00,  6.14716464e-01, -4.12125030e-01,\n",
       "       -1.72939956e+00, -1.07436482e+00, -9.08168511e-02,  1.48783008e-01,\n",
       "       -9.37615264e-01,  2.18203549e+00, -2.92858249e-01,  1.27376511e+00,\n",
       "       -1.98847881e+00,  9.30078539e-01,  2.13126595e+00, -2.78149547e-01,\n",
       "        7.37859013e-01,  1.48115923e+00,  5.54540026e-01,  6.03392346e-01,\n",
       "       -1.16921584e-01, -1.78317153e+00,  5.63365073e-01, -5.77457781e-01,\n",
       "       -9.46445933e-02, -1.43443593e+00, -7.87193062e-02,  9.28625427e-02,\n",
       "       -1.16205961e+00, -9.16604102e-02, -9.13299615e-01,  7.46400134e-01,\n",
       "        2.12521742e+00, -1.24563221e+00,  4.39802398e-01, -3.21233421e-01,\n",
       "       -1.30098021e+00, -3.58378707e-02,  5.60490318e-01, -1.40297432e+00,\n",
       "        1.05875466e+00,  3.06863216e-01, -1.24388115e-01, -1.22536519e+00,\n",
       "        1.44111282e-01,  3.72902743e-01,  2.84165466e-01,  1.18533668e+00,\n",
       "        2.55975188e-01,  8.23525106e-01, -1.58385666e+00, -3.10130099e-02,\n",
       "       -6.80434220e-01, -1.10595053e+00, -3.21700032e+00,  1.51057875e+00,\n",
       "        5.54933807e-01,  1.55269138e-02, -2.74970411e-01,  1.48452999e+00,\n",
       "        9.44035204e-01,  4.00517175e-01,  1.50824918e+00,  1.07280888e+00,\n",
       "        1.59669558e+00,  1.71790035e+00,  2.63122333e+00, -4.32551095e-01,\n",
       "        4.66129121e-01,  5.38421677e-01,  8.32750680e-01, -4.42046281e-01,\n",
       "       -1.01840875e+00, -4.95418011e-01,  9.21512856e-01,  1.78278889e-01,\n",
       "       -2.44624867e-02, -6.37252173e-01, -1.61858126e+00, -2.45696492e+00,\n",
       "        6.57274094e-01,  2.24836398e+00,  5.74372601e-01,  1.27787520e-02,\n",
       "        1.51757586e+00,  8.23033055e-01,  2.90327155e+00, -7.40131831e-01,\n",
       "        2.57670450e-01,  1.09435870e+00,  6.79456886e-01,  9.51490453e-01,\n",
       "       -6.89460035e-02, -4.12815901e-02,  2.61310030e-01,  2.37700734e-01,\n",
       "        7.73312768e-01,  2.22413682e+00, -3.93722926e-01,  1.33928744e+00,\n",
       "       -2.01478554e-01,  7.85439840e-01, -6.74637508e-01, -8.71549175e-01,\n",
       "       -3.27983423e-01, -1.13318859e+00, -9.01176436e-01, -6.89686340e-01,\n",
       "        1.40957363e+00, -8.99722912e-01, -9.03577218e-01, -1.61932196e+00,\n",
       "        8.12053726e-01, -4.12148530e-02, -3.18188442e-01, -8.37001016e-01,\n",
       "       -1.73807983e+00, -1.27693842e+00, -7.96783663e-01, -1.34204362e-01,\n",
       "        1.54375191e+00, -1.24915657e+00,  4.40815153e-01, -9.75158842e-01,\n",
       "        3.50439704e+00, -1.65177840e-01,  1.43670619e+00,  1.30209532e+00,\n",
       "       -1.11799292e+00,  6.32899671e-02, -9.61414960e-01,  9.68071251e-03,\n",
       "        5.18043509e-01,  6.70021671e-01, -1.37642166e+00,  1.10211637e+00,\n",
       "       -6.00883822e-01, -4.44708059e-01,  2.11661291e-02, -1.03256005e+00,\n",
       "       -5.60772483e-01, -7.73641305e-01,  8.52788945e-01, -4.46026024e-01,\n",
       "       -5.00944099e-01, -9.39381765e-01, -9.95777486e-01, -6.19765248e-01,\n",
       "        7.31660075e-02,  1.96619370e+00, -1.49349929e+00, -1.39383007e+00,\n",
       "        6.28667465e-01, -1.17211313e+00,  6.86411827e-01,  3.18109530e-02,\n",
       "        2.09046529e+00, -6.89329013e-01,  8.01560856e-01,  7.84741212e-01,\n",
       "        1.35072633e-01, -9.50617039e-01,  1.31379429e+00, -6.22617631e-01,\n",
       "        3.51139758e-01, -4.23286886e-02,  5.16286450e-01, -1.88673264e+00,\n",
       "       -6.95881592e-01,  1.22508504e+00,  5.62686054e-01, -3.82145361e-01,\n",
       "       -1.17075939e+00,  8.80226177e-01,  7.98903864e-01,  1.01697373e+00,\n",
       "       -2.11209699e+00, -1.66521379e+00, -9.06238854e-01,  5.19921980e-01,\n",
       "        1.31389957e+00, -4.41791507e-01, -8.43706037e-02, -1.14136832e+00,\n",
       "        6.13067272e-01,  2.41362898e-01, -5.00314810e-01,  1.93497197e+00,\n",
       "       -6.16129128e-01, -9.03657978e-01, -6.27354723e-01,  1.74660733e-01,\n",
       "       -2.14438513e-01, -2.27321531e+00,  7.21431832e-01,  6.84225401e-01,\n",
       "        1.11670892e-01, -9.16205714e-01, -2.25958929e+00, -9.00200893e-01,\n",
       "        1.39976024e+00, -3.74562137e-01,  1.96107107e-01,  9.43408238e-01,\n",
       "        1.01722309e+00, -7.89091049e-01,  8.23228295e-01,  6.43744034e-02,\n",
       "        1.42196729e+00,  1.50894994e-01, -7.49003489e-01,  1.17207285e+00,\n",
       "       -8.99055448e-01,  5.38210929e-01, -6.18651424e-01,  1.78930942e+00,\n",
       "        1.24385860e-01,  1.94303213e-01, -1.30625612e-01,  1.64035796e+00,\n",
       "       -1.57123490e-02, -5.19666635e-01,  3.58618258e-01, -3.53211520e-02,\n",
       "       -2.13985403e+00,  5.30903914e-01,  9.63974361e-01, -1.34569319e+00,\n",
       "        8.90882561e-01, -7.30386999e-02, -1.54904923e-02,  5.58265993e-01,\n",
       "       -1.19760932e+00, -1.36675843e+00,  9.32390347e-01,  1.22453329e+00,\n",
       "        5.61751317e-01, -6.30938217e-01,  1.95344798e-02,  9.22986914e-01,\n",
       "       -2.20924319e-01, -1.51236927e+00,  9.56044068e-01, -1.56108469e+00,\n",
       "        1.76926642e+00,  6.47519036e-01,  6.11502317e-01, -3.49744297e-01,\n",
       "        1.79975190e+00,  4.61058329e-02,  2.13369654e+00, -6.90624824e-02,\n",
       "       -1.31137821e-01, -1.65087547e-01,  1.48833480e-02,  7.97766330e-01,\n",
       "       -1.27619283e+00, -1.20956200e+00, -1.61589618e+00,  7.99639667e-01,\n",
       "       -7.65630303e-01, -1.49844610e+00, -3.21210057e-02,  1.25787693e+00,\n",
       "        1.13636642e+00,  2.25072444e-01, -2.18980549e+00, -7.52408281e-01,\n",
       "       -1.66062762e-01, -4.31997159e-01, -9.89213071e-01, -7.29907128e-01,\n",
       "        4.88516704e-01, -8.46614653e-01,  3.21978314e+00,  3.11611953e-01,\n",
       "       -2.12768111e+00, -6.68013550e-01, -7.71495911e-01, -1.17902811e+00,\n",
       "        3.62940046e-01,  4.79284735e-01,  1.40566910e+00, -8.15109624e-01,\n",
       "       -2.60221469e-01,  1.05815802e+00, -2.05030131e+00, -6.17413044e-01,\n",
       "       -2.08611040e+00, -4.80984611e-01,  2.82407291e-01,  9.81884544e-01,\n",
       "        1.76604487e-01, -9.24627821e-01, -1.97972557e+00,  8.87605661e-01,\n",
       "       -4.07217614e-01, -9.15054053e-01, -2.43761012e-01,  9.29373865e-01,\n",
       "        4.25935313e-01,  1.73479060e+00,  7.88381574e-01, -2.41331621e+00,\n",
       "        1.33114381e+00, -2.52756251e-01, -6.49573711e-01,  1.26881926e-01,\n",
       "       -8.11943498e-01,  4.83077123e-01,  7.65002680e-01,  1.38004087e+00,\n",
       "        2.32293387e+00, -9.55638626e-01, -5.27531238e-01, -3.77217727e-01,\n",
       "        1.95475067e+00,  1.14041999e+00,  2.39402137e+00,  1.20007943e+00,\n",
       "       -2.38302246e-01, -1.72061491e+00,  5.95752238e-01,  7.42334825e-01,\n",
       "        2.41142952e+00,  4.75312172e-01, -4.58183619e-03,  3.84739118e-01,\n",
       "        8.66472195e-01, -3.15734459e-01, -1.33503282e-01,  1.81452599e-01,\n",
       "       -1.52555178e+00,  1.18905991e+00, -3.47066735e-02,  1.01430483e+00,\n",
       "        8.28425974e-03, -1.87681157e-01,  1.18660203e-02, -9.34474611e-01,\n",
       "       -3.03921050e-01, -4.73460198e-01, -9.95764871e-01,  1.24200754e+00,\n",
       "        2.24041037e-02,  1.15109526e-01,  2.27524670e+00, -1.59168664e+00,\n",
       "       -1.41867446e+00,  2.28535843e+00, -2.79975586e-01,  8.03280437e-01,\n",
       "        1.95040880e+00, -3.56682655e-01, -3.19522711e-01, -7.80468862e-02,\n",
       "        8.29490340e-02, -1.97372943e-01, -9.18455300e-03,  1.67522329e-01,\n",
       "       -1.63214412e+00, -1.25699979e+00, -9.91282850e-01,  1.14523680e+00,\n",
       "       -2.63160189e-01,  3.45552439e-02, -1.85188742e+00,  8.10336198e-02,\n",
       "        1.76506181e+00,  1.26422792e-01,  9.00915793e-01, -8.92139512e-03,\n",
       "        1.91966148e+00, -6.65008805e-01,  1.62235696e+00, -6.71266308e-01,\n",
       "       -1.11187121e+00, -7.68269723e-01,  1.17894728e+00,  5.15430599e-01,\n",
       "       -3.05693063e-01, -2.88441070e-01,  1.51024551e+00, -8.49961089e-01,\n",
       "        2.75233101e-01, -7.54627592e-02, -1.14908642e+00, -3.27595526e-01,\n",
       "       -2.48881520e-01,  2.11829757e+00, -2.93384470e-02, -2.75084403e-01,\n",
       "        1.27267129e-01, -1.48633486e+00, -3.38198454e-01,  1.28751406e+00,\n",
       "        1.00694728e+00, -2.31403122e-01,  1.20601015e+00, -5.80435650e-01,\n",
       "        2.25198761e+00,  3.80801349e-01,  9.48372731e-01,  6.30492908e-01,\n",
       "       -9.75307350e-01,  1.45526644e+00,  9.33010697e-01,  2.32258359e-02,\n",
       "       -9.14527313e-01,  8.53845126e-01,  4.76620094e-01, -2.34229806e+00,\n",
       "       -8.73178818e-01, -3.46067356e-01,  2.80864506e-01, -1.37396956e+00,\n",
       "        8.22887299e-01,  1.67214566e+00, -1.15731282e-01,  9.65574128e-01,\n",
       "       -1.05391918e+00,  1.15891749e+00,  4.77704283e-01, -4.04449827e-01,\n",
       "       -4.86651312e-01, -4.96811460e-01, -9.11533650e-01,  3.00241152e-01,\n",
       "       -3.14571979e-01,  3.49411947e-02,  4.45179360e-01, -3.70998781e-01,\n",
       "        1.46238110e+00,  1.04031989e+00, -1.93741813e-01, -2.63689143e-01,\n",
       "        8.22862339e-01, -1.48531968e-01,  7.80527905e-01, -8.73053182e-01,\n",
       "        1.21064830e+00, -1.05019289e+00,  3.65464249e-01, -1.74654456e+00,\n",
       "        6.78248611e-01, -1.97672333e+00, -1.04042233e+00,  2.01960197e-01,\n",
       "       -8.43754306e-01,  6.31143372e-01,  1.15942337e+00,  2.73105655e-01,\n",
       "       -1.01786941e+00, -1.23661083e+00,  6.50250757e-02,  5.32830339e-01,\n",
       "        5.16496981e-01,  6.56922021e-01, -4.78573706e-01,  1.01867439e+00,\n",
       "        3.54313736e-01, -1.57722061e+00, -4.57662380e-01, -8.56157894e-01,\n",
       "        3.69932093e-02,  1.69141777e+00, -1.14918199e+00, -2.37865009e-01,\n",
       "        1.92649021e+00, -3.63595320e-01,  1.21134944e+00, -7.81098886e-01,\n",
       "        1.51982973e+00, -1.54012943e-01,  5.47274754e-01,  1.14512478e+00,\n",
       "        1.13647045e+00, -1.04576686e+00,  2.89544524e-01,  1.85993354e+00,\n",
       "        1.75488739e-01,  5.58192801e-02,  1.09914619e+00, -9.50194032e-01,\n",
       "       -4.98360747e-01, -2.11848414e-01,  1.01573224e+00,  3.87787556e-02,\n",
       "       -1.99075455e-02,  2.66325490e+00,  1.47853317e+00, -1.57662302e-01,\n",
       "        5.03476668e-01, -1.44027202e-01, -9.98627371e-01,  7.00871567e-01,\n",
       "        3.46012894e-01, -7.28101356e-01, -1.06833805e+00, -3.34183288e+00,\n",
       "        5.65714721e-01,  2.27307248e-01, -5.48408605e-01, -1.33708736e-01,\n",
       "        9.63056612e-01, -3.39144934e-01,  6.99062538e-01, -1.17635960e-01,\n",
       "        1.88524728e-01, -6.97120359e-01,  1.90166984e-01,  9.35933871e-01,\n",
       "       -1.56053473e+00, -1.05208263e+00,  5.51355423e-01,  4.92866927e-01,\n",
       "        1.09974593e+00, -1.42970763e+00, -1.76417039e+00, -1.30164327e+00,\n",
       "       -1.11561206e-02, -3.28416109e-01, -8.32601946e-01,  8.98402060e-02,\n",
       "        6.32278717e-01, -1.11886622e+00, -1.69310656e+00, -7.07024366e-01,\n",
       "       -9.52141339e-03,  5.71066106e-02,  6.04533264e-01,  8.53996599e-01,\n",
       "       -8.38631585e-01, -3.33202464e-02, -4.67876091e-01,  1.17708281e+00,\n",
       "       -1.87888571e+00,  2.15765062e-01, -1.57032457e+00,  1.21239142e+00,\n",
       "       -2.80857985e-01,  1.32880374e+00, -3.45613623e-01, -1.73759582e+00,\n",
       "       -2.58596931e-01, -8.08954093e-02, -4.81400249e-01,  7.47972012e-01,\n",
       "       -1.35802277e+00,  2.88901447e-01,  1.77008068e-01, -5.84553523e-01,\n",
       "        1.30743750e+00,  1.37498013e+00,  1.98320998e-01, -1.39705199e+00,\n",
       "        6.80546533e-01, -2.21907498e+00,  1.09607088e+00, -4.05640056e-01,\n",
       "       -2.40225865e-01, -6.94201293e-01,  3.42271052e-01, -1.82660371e+00,\n",
       "        9.04224750e-01, -1.39125542e+00,  6.16139765e-01,  2.28487527e+00,\n",
       "        3.20454256e-02, -6.22713563e-01, -6.26569705e-01, -3.14526896e-01,\n",
       "        6.20344125e-02,  6.79160997e-01, -5.59342495e-01, -4.23242770e-01,\n",
       "        2.45227404e+00,  7.90611851e-01,  1.09844665e-01, -7.27662971e-01,\n",
       "        7.44237246e-01, -1.72416257e+00,  2.20481771e+00, -4.02055350e-01,\n",
       "        6.77842035e-01, -5.18010839e-01,  7.40383247e-01, -7.55157109e-01,\n",
       "       -5.14131086e-02,  1.57724133e-01,  1.32746531e+00,  1.12561653e+00,\n",
       "       -5.78023571e-01, -1.44598890e+00,  1.00794351e-01,  4.70056197e-01,\n",
       "       -7.49648702e-01, -2.44761259e-01, -4.45741831e-01, -1.35537514e-01,\n",
       "        2.63656181e-01, -1.26028073e+00, -1.30469858e+00, -1.38091524e+00,\n",
       "        1.21810648e-02,  6.06706050e-01,  7.00253990e-01, -8.25098401e-01,\n",
       "        1.04636214e+00,  1.59347375e+00, -1.83971989e+00, -1.57333071e-01,\n",
       "        1.36756486e+00,  5.40404368e-01, -1.42886727e+00, -3.59051574e-01,\n",
       "        8.24809112e-01,  4.14008120e-01,  5.59235116e-01,  3.70076538e-01,\n",
       "        5.86171101e-01,  1.30031271e+00,  1.54478131e-01,  2.25915200e-01,\n",
       "        7.42308599e-02,  9.92986949e-01,  8.98128006e-01, -5.19156117e-01,\n",
       "       -6.28635082e-01,  8.71274103e-02,  2.32734270e-01, -3.08386257e-01,\n",
       "       -3.64493156e-01, -3.60524330e-01, -1.27139936e+00, -5.99978141e-01,\n",
       "        1.99124585e-01,  3.90284662e-01,  1.30380234e+00, -3.06171898e-01,\n",
       "        2.21631520e+00,  8.87313356e-03,  3.59964237e-01, -1.62268629e+00,\n",
       "        5.91014238e-01,  4.92379489e-01,  5.26971716e-01,  6.08486122e-02,\n",
       "        1.53098076e+00, -2.22610346e-01,  1.41144385e+00, -1.60257421e-01,\n",
       "        4.16216820e-01,  5.71960496e-01,  2.99756631e-01, -3.58398606e-01,\n",
       "        1.21589056e-01, -1.65353789e+00,  4.25698013e-01, -9.07833607e-01,\n",
       "        8.22482203e-01, -1.08863665e+00, -1.51363470e+00, -1.51184177e+00,\n",
       "       -5.00382664e-01, -1.66895662e+00, -8.82641953e-01, -9.14218941e-01,\n",
       "        1.08310885e+00,  7.81388592e-01,  1.77523813e+00, -9.29789110e-01,\n",
       "        5.99530882e-01,  4.43278123e-01,  2.48987000e-01,  3.24848378e-01,\n",
       "        6.96573287e-02,  9.72098873e-01,  6.96535040e-01,  7.58221950e-01,\n",
       "        1.74401182e+00, -4.41631741e-01, -1.20835713e+00,  1.77207588e-01,\n",
       "        1.07686521e-01,  6.66700370e-01, -8.99829671e-01,  7.26005548e-01,\n",
       "        1.70151506e+00,  4.18326992e-01, -7.32315572e-01, -3.16569936e-01,\n",
       "       -1.16504006e+00, -1.45767592e-01,  5.64428387e-01,  4.43907100e-01,\n",
       "        1.23134922e+00, -7.40494593e-01, -3.73606917e-01, -9.83858988e-02,\n",
       "        1.24609816e+00,  6.33789083e-01, -7.84164290e-02, -6.94887562e-01,\n",
       "       -1.46795257e+00,  1.49988720e-01,  7.82166813e-01, -4.56322151e-01,\n",
       "        1.27619447e-01,  8.76792868e-01, -1.30994041e+00, -6.93737512e-01,\n",
       "       -3.50280953e-01, -8.42232150e-01,  4.08260281e-01, -2.30715241e-01,\n",
       "       -2.79769244e-01,  1.04291157e+00,  1.39303494e+00,  2.81021419e-01,\n",
       "       -2.25216324e-01,  1.29247558e+00,  3.70198047e-01, -1.34233292e-01,\n",
       "        1.18525302e+00,  8.94973990e-01,  1.14050665e+00,  2.00782869e+00,\n",
       "       -2.26909462e+00,  1.48530842e-01, -1.56783866e+00, -2.29950466e-01,\n",
       "       -1.89484471e-01,  2.41122977e+00,  1.09321960e+00, -1.31844353e+00,\n",
       "       -5.36349504e-01,  1.41917750e+00,  7.14181705e-01,  3.09841093e-01,\n",
       "       -5.09212077e-01,  4.79508540e-01, -3.31251697e-01, -1.29562612e+00,\n",
       "        4.82340852e-01,  1.61665817e-01,  5.39312435e-01, -4.09087709e-01,\n",
       "        3.74024853e-01,  3.69628815e-01, -3.01111473e-01,  1.90520214e+00,\n",
       "       -2.59247008e-01, -6.99303850e-01, -8.13327261e-01,  9.20851030e-01,\n",
       "        1.03156714e-01,  9.46343623e-01, -5.19149368e-01,  1.03263026e-01,\n",
       "       -7.52026763e-02,  1.37204767e-01, -7.32425159e-02,  8.07041420e-01,\n",
       "       -8.50113346e-01, -6.37897485e-01, -3.05104580e-01, -1.45502784e+00,\n",
       "        1.00880375e+00, -5.15884741e-01, -5.98818935e-01,  5.83500995e-01,\n",
       "        1.27824130e+00, -7.68165153e-01, -3.89691540e-01, -1.03003047e+00,\n",
       "       -1.39812963e+00,  3.51000149e-01,  3.58781933e-01,  1.65525823e-02,\n",
       "       -2.13324130e+00, -2.02534829e+00, -3.59583505e-01, -2.60899050e-02,\n",
       "       -5.61895188e-01,  4.50560445e-01,  4.21922219e-02,  1.44870275e+00,\n",
       "       -2.50570791e-01,  9.03700699e-01,  1.10943183e+00, -6.85343636e-01,\n",
       "       -1.86578036e+00,  6.58884849e-03,  1.67831890e+00,  1.38361117e-01,\n",
       "        1.46796295e+00,  8.29488969e-01, -1.32063152e+00, -1.06579643e+00,\n",
       "        9.77039375e-02,  1.66131649e-01,  7.54438797e-01,  9.79321822e-01,\n",
       "        1.82480131e+00,  2.53065999e-01, -8.32114058e-01,  5.18240378e-01,\n",
       "       -1.00192152e-01,  1.08941339e+00,  1.82503289e+00,  1.26592298e-01,\n",
       "       -1.59046760e+00, -6.94650882e-02, -1.18835503e+00, -1.51749357e+00,\n",
       "       -1.82901939e+00,  1.08102318e+00, -4.31744035e-01, -9.50559715e-01,\n",
       "       -1.31749785e+00,  6.14142176e-01,  6.76064962e-01, -1.76199434e+00,\n",
       "        1.02488407e+00,  1.98693990e-01, -6.06167497e-01, -8.35317550e-01,\n",
       "        3.48904669e-01,  1.63177892e-01, -8.29751212e-01,  1.15997243e+00,\n",
       "        2.32264660e-01, -3.93356183e-01,  4.62189020e-01,  3.36433482e-01,\n",
       "       -1.36211098e+00, -3.49495582e-01,  1.79022088e-01,  8.60056396e-01,\n",
       "       -6.26093170e-01, -5.35255549e-01, -1.86399650e-01, -1.11264733e-01,\n",
       "       -1.87978999e-01,  1.09546772e+00,  5.23822932e-01,  7.11089146e-02,\n",
       "       -6.90573920e-01, -2.37791947e-02,  3.88164126e-01,  3.71977856e-01,\n",
       "        1.99340165e+00,  8.42794690e-01,  1.27823346e+00, -6.66631129e-01,\n",
       "       -2.94687838e-02, -4.65314710e-01,  1.08034179e+00,  2.32726685e-01,\n",
       "        2.58568915e-01,  1.94610875e-01, -8.86651110e-01,  2.41698368e+00,\n",
       "       -6.76084842e-02, -2.53847043e+00, -3.69168367e-01, -1.24595616e-01,\n",
       "       -5.06897754e-01,  7.81706166e-01,  6.84226829e-01, -3.40273230e-01,\n",
       "        1.35182320e-01, -8.62161638e-01,  9.41662829e-01, -7.57016324e-02,\n",
       "       -1.51299213e+00, -2.16030206e+00,  6.42556998e-02, -1.35329424e-01,\n",
       "        5.53967187e-01, -3.22498603e-01, -5.86026745e-01,  6.36988091e-01,\n",
       "        2.16578077e+00, -3.20287480e-01,  1.63571175e+00,  5.46945160e-01,\n",
       "       -5.12227833e-01,  5.73594183e-01, -2.74933800e-01, -7.85977746e-01,\n",
       "        9.33339802e-01, -8.74188647e-02, -1.48495419e+00,  6.52493807e-01,\n",
       "        9.68084562e-02,  2.99383903e-01,  1.18387879e+00, -1.23419117e+00,\n",
       "        1.07513044e+00,  1.00671903e+00, -1.18164425e-01,  8.58171567e-01,\n",
       "        2.00843739e+00,  8.85327698e-01, -1.13634308e-01, -4.07495267e-01,\n",
       "        1.07076922e+00, -6.80954712e-02, -8.77830778e-02,  9.88611891e-01,\n",
       "       -1.74355582e-01, -1.95004616e+00,  1.19621221e+00, -1.80584293e+00,\n",
       "        5.10616983e-01,  6.51389891e-01, -1.13004658e+00, -1.16497342e+00,\n",
       "       -1.10750514e-01, -1.61042372e+00,  3.93083404e-03,  1.52863700e+00,\n",
       "        1.11187501e+00,  1.18998719e+00,  2.02631647e-02,  1.04169102e+00,\n",
       "        2.13774429e+00, -1.08525924e+00, -2.06191957e-01, -1.00140565e+00,\n",
       "        7.86671899e-01, -3.63284381e-01, -1.88703871e-01, -4.11807878e-01,\n",
       "        1.87438577e+00, -5.38797090e-02,  6.39113067e-01, -6.88588101e-01,\n",
       "        2.11954096e-01, -1.08384552e+00,  1.47831103e+00,  8.81541088e-01,\n",
       "        5.55599736e-01,  1.36358888e-01,  1.17403856e+00, -6.25306390e-01,\n",
       "       -7.90025501e-02,  9.97821219e-03,  5.70180834e-01, -5.77584475e-01,\n",
       "        2.47782180e-01, -3.04370122e-01, -8.64179060e-01,  7.26956607e-01,\n",
       "        2.26145048e+00, -2.30865304e-02,  2.26967846e+00, -1.20146552e+00,\n",
       "       -1.59379543e+00, -2.45367795e-01, -1.46267534e+00, -1.10020434e-01,\n",
       "       -7.44812045e-01,  1.25471623e-01, -5.44750892e-01, -1.05654458e+00,\n",
       "        7.39858481e-02,  5.07313139e-01, -5.46500646e-01, -6.39267957e-01,\n",
       "        3.07417871e-01, -3.80552068e-01, -4.22377041e-01,  1.03929707e+00,\n",
       "       -8.03120860e-02,  1.49783131e+00, -9.58893088e-01,  1.10426930e+00,\n",
       "       -1.38824581e-01,  1.00887006e+00,  3.00523261e-01,  7.09216046e-01,\n",
       "       -1.03909711e+00,  1.21525515e+00,  4.87643782e-01, -1.48768845e+00,\n",
       "        1.00047420e-03, -7.76747248e-01, -1.32468167e+00,  3.12878210e-01])"
      ]
     },
     "execution_count": 19,
     "metadata": {},
     "output_type": "execute_result"
    }
   ],
   "source": [
    "x= np.random.normal(0,1,1000)#평균0,표준편차가 1인 정규분포값 1000개\n",
    "x"
   ]
  },
  {
   "cell_type": "code",
   "execution_count": 20,
   "metadata": {
    "ExecuteTime": {
     "end_time": "2021-03-04T06:40:20.324485Z",
     "start_time": "2021-03-04T06:40:20.116744Z"
    }
   },
   "outputs": [
    {
     "data": {
      "text/plain": [
       "(array([  2.,  20.,  77., 162., 266., 231., 165.,  52.,  22.,   3.]),\n",
       " array([-3.34183288, -2.65720989, -1.97258689, -1.2879639 , -0.60334091,\n",
       "         0.08128208,  0.76590507,  1.45052807,  2.13515106,  2.81977405,\n",
       "         3.50439704]),\n",
       " <BarContainer object of 10 artists>)"
      ]
     },
     "execution_count": 20,
     "metadata": {},
     "output_type": "execute_result"
    },
    {
     "data": {
      "image/png": "[encoded data removed]",
      "text/plain": [
       "<Figure size 432x288 with 1 Axes>"
      ]
     },
     "metadata": {
      "needs_background": "light"
     },
     "output_type": "display_data"
    }
   ],
   "source": [
    "plt.hist(x)"
   ]
  },
  {
   "cell_type": "markdown",
   "metadata": {},
   "source": [
    "## 2.4 배열의 차원 변경하기"
   ]
  },
  {
   "cell_type": "code",
   "execution_count": 121,
   "metadata": {
    "ExecuteTime": {
     "end_time": "2021-03-04T07:27:48.958687Z",
     "start_time": "2021-03-04T07:27:48.953727Z"
    }
   },
   "outputs": [
    {
     "data": {
      "text/plain": [
       "array([[4.17022005e-01, 7.20324493e-01, 1.14374817e-04, 3.02332573e-01],\n",
       "       [1.46755891e-01, 9.23385948e-02, 1.86260211e-01, 3.45560727e-01],\n",
       "       [3.96767474e-01, 5.38816734e-01, 4.19194514e-01, 6.85219500e-01]])"
      ]
     },
     "execution_count": 121,
     "metadata": {},
     "output_type": "execute_result"
    }
   ],
   "source": [
    "np.random.seed(1)\n",
    "t= np.random.random((3,4))#3행 4열 2차원 배열(random수)  // t= np.random.random((3,4,2)) 3면 4행 2열  시작은 0면\n",
    "t"
   ]
  },
  {
   "cell_type": "code",
   "execution_count": 36,
   "metadata": {
    "ExecuteTime": {
     "end_time": "2021-03-04T06:46:50.648044Z",
     "start_time": "2021-03-04T06:46:50.643081Z"
    }
   },
   "outputs": [
    {
     "data": {
      "text/plain": [
       "array([[4., 7., 0., 3.],\n",
       "       [1., 0., 1., 3.],\n",
       "       [3., 5., 4., 6.]])"
      ]
     },
     "execution_count": 36,
     "metadata": {},
     "output_type": "execute_result"
    }
   ],
   "source": [
    "a=np.floor(t*10)\n",
    "a"
   ]
  },
  {
   "cell_type": "code",
   "execution_count": 37,
   "metadata": {
    "ExecuteTime": {
     "end_time": "2021-03-04T06:46:59.183440Z",
     "start_time": "2021-03-04T06:46:59.167816Z"
    }
   },
   "outputs": [
    {
     "data": {
      "text/plain": [
       "(3, 4)"
      ]
     },
     "execution_count": 37,
     "metadata": {},
     "output_type": "execute_result"
    }
   ],
   "source": [
    "a.shape"
   ]
  },
  {
   "cell_type": "code",
   "execution_count": 40,
   "metadata": {
    "ExecuteTime": {
     "end_time": "2021-03-04T06:47:53.921286Z",
     "start_time": "2021-03-04T06:47:53.917296Z"
    }
   },
   "outputs": [
    {
     "data": {
      "text/plain": [
       "array([4., 7., 0., 3., 1., 0., 1., 3., 3., 5., 4., 6.])"
      ]
     },
     "execution_count": 40,
     "metadata": {},
     "output_type": "execute_result"
    }
   ],
   "source": [
    "a.ravel()#차원이 풀린 배열을 반환(a가 바뀌는 것은 아님)"
   ]
  },
  {
   "cell_type": "code",
   "execution_count": 41,
   "metadata": {
    "ExecuteTime": {
     "end_time": "2021-03-04T06:47:56.957126Z",
     "start_time": "2021-03-04T06:47:56.952138Z"
    }
   },
   "outputs": [
    {
     "data": {
      "text/plain": [
       "array([[4., 7., 0., 3.],\n",
       "       [1., 0., 1., 3.],\n",
       "       [3., 5., 4., 6.]])"
      ]
     },
     "execution_count": 41,
     "metadata": {},
     "output_type": "execute_result"
    }
   ],
   "source": [
    "a"
   ]
  },
  {
   "cell_type": "code",
   "execution_count": 69,
   "metadata": {
    "ExecuteTime": {
     "end_time": "2021-03-04T06:55:43.472957Z",
     "start_time": "2021-03-04T06:55:43.468964Z"
    }
   },
   "outputs": [
    {
     "data": {
      "text/plain": [
       "array([[4., 7., 0., 3., 1., 0.],\n",
       "       [1., 3., 3., 5., 4., 6.]])"
      ]
     },
     "execution_count": 69,
     "metadata": {},
     "output_type": "execute_result"
    }
   ],
   "source": [
    "a.reshape(2,6) #shape가 수정된 배열을 반환(a는 그대로)"
   ]
  },
  {
   "cell_type": "code",
   "execution_count": 43,
   "metadata": {
    "ExecuteTime": {
     "end_time": "2021-03-04T06:48:29.467481Z",
     "start_time": "2021-03-04T06:48:29.451723Z"
    }
   },
   "outputs": [
    {
     "data": {
      "text/plain": [
       "array([[4., 7., 0., 3.],\n",
       "       [1., 0., 1., 3.],\n",
       "       [3., 5., 4., 6.]])"
      ]
     },
     "execution_count": 43,
     "metadata": {},
     "output_type": "execute_result"
    }
   ],
   "source": [
    "a"
   ]
  },
  {
   "cell_type": "code",
   "execution_count": null,
   "metadata": {},
   "outputs": [],
   "source": [
    "#a는 3행 4열짜리 2차원 배열. 2차원배열은 행렬(Matrix)로 이해\n",
    "a.T# 전치행렬(행과 열을 거꾸로 )"
   ]
  },
  {
   "cell_type": "code",
   "execution_count": 44,
   "metadata": {
    "ExecuteTime": {
     "end_time": "2021-03-04T06:50:34.957485Z",
     "start_time": "2021-03-04T06:50:34.952499Z"
    }
   },
   "outputs": [
    {
     "data": {
      "text/plain": [
       "array([[4., 1., 3.],\n",
       "       [7., 0., 5.],\n",
       "       [0., 1., 4.],\n",
       "       [3., 3., 6.]])"
      ]
     },
     "execution_count": 44,
     "metadata": {},
     "output_type": "execute_result"
    }
   ],
   "source": [
    "a.transpose() #전치행렬을 반환(a는 그대로)"
   ]
  },
  {
   "cell_type": "code",
   "execution_count": 45,
   "metadata": {
    "ExecuteTime": {
     "end_time": "2021-03-04T06:51:04.678456Z",
     "start_time": "2021-03-04T06:51:04.675464Z"
    }
   },
   "outputs": [],
   "source": [
    "a.resize((2,6)) #a의 차원을 수정! "
   ]
  },
  {
   "cell_type": "code",
   "execution_count": 56,
   "metadata": {
    "ExecuteTime": {
     "end_time": "2021-03-04T06:55:05.855183Z",
     "start_time": "2021-03-04T06:55:05.850197Z"
    }
   },
   "outputs": [
    {
     "data": {
      "text/plain": [
       "array([[4., 7., 0., 3.],\n",
       "       [1., 0., 1., 3.],\n",
       "       [3., 5., 4., 6.]])"
      ]
     },
     "execution_count": 56,
     "metadata": {},
     "output_type": "execute_result"
    }
   ],
   "source": [
    "a"
   ]
  },
  {
   "cell_type": "code",
   "execution_count": 57,
   "metadata": {
    "ExecuteTime": {
     "end_time": "2021-03-04T06:55:08.113568Z",
     "start_time": "2021-03-04T06:55:08.108595Z"
    }
   },
   "outputs": [
    {
     "data": {
      "text/plain": [
       "array([[4., 7., 0., 3.],\n",
       "       [1., 0., 1., 3.],\n",
       "       [3., 5., 4., 6.]])"
      ]
     },
     "execution_count": 57,
     "metadata": {},
     "output_type": "execute_result"
    }
   ],
   "source": [
    "a.reshape(3,-1) #-1로 주어지면 해당 차원의 크기가 자동 계산"
   ]
  },
  {
   "cell_type": "code",
   "execution_count": 68,
   "metadata": {
    "ExecuteTime": {
     "end_time": "2021-03-04T06:55:30.764604Z",
     "start_time": "2021-03-04T06:55:30.759617Z"
    }
   },
   "outputs": [
    {
     "data": {
      "text/plain": [
       "array([[4., 7., 0., 3.],\n",
       "       [1., 0., 1., 3.],\n",
       "       [3., 5., 4., 6.]])"
      ]
     },
     "execution_count": 68,
     "metadata": {},
     "output_type": "execute_result"
    }
   ],
   "source": [
    "a"
   ]
  },
  {
   "cell_type": "code",
   "execution_count": 67,
   "metadata": {
    "ExecuteTime": {
     "end_time": "2021-03-04T06:55:29.164182Z",
     "start_time": "2021-03-04T06:55:29.159216Z"
    }
   },
   "outputs": [
    {
     "data": {
      "text/plain": [
       "array([[4., 7., 0.],\n",
       "       [3., 1., 0.],\n",
       "       [1., 3., 3.],\n",
       "       [5., 4., 6.]])"
      ]
     },
     "execution_count": 67,
     "metadata": {},
     "output_type": "execute_result"
    }
   ],
   "source": [
    "a.reshape(-1,3) #reshape에는 -1가능"
   ]
  },
  {
   "cell_type": "code",
   "execution_count": 60,
   "metadata": {
    "ExecuteTime": {
     "end_time": "2021-03-04T06:55:15.290222Z",
     "start_time": "2021-03-04T06:55:15.287251Z"
    }
   },
   "outputs": [],
   "source": [
    "a.resize(3,4)"
   ]
  },
  {
   "cell_type": "code",
   "execution_count": 55,
   "metadata": {
    "ExecuteTime": {
     "end_time": "2021-03-04T06:54:41.484701Z",
     "start_time": "2021-03-04T06:54:41.475700Z"
    }
   },
   "outputs": [
    {
     "ename": "ValueError",
     "evalue": "negative dimensions not allowed",
     "output_type": "error",
     "traceback": [
      "\u001b[1;31m---------------------------------------------------------------------------\u001b[0m",
      "\u001b[1;31mValueError\u001b[0m                                Traceback (most recent call last)",
      "\u001b[1;32m<ipython-input-55-0276bf510ae0>\u001b[0m in \u001b[0;36m<module>\u001b[1;34m\u001b[0m\n\u001b[1;32m----> 1\u001b[1;33m \u001b[0ma\u001b[0m\u001b[1;33m.\u001b[0m\u001b[0mresize\u001b[0m\u001b[1;33m(\u001b[0m\u001b[1;33m(\u001b[0m\u001b[1;36m3\u001b[0m\u001b[1;33m,\u001b[0m\u001b[1;33m-\u001b[0m\u001b[1;36m1\u001b[0m\u001b[1;33m)\u001b[0m\u001b[1;33m)\u001b[0m\u001b[1;33m\u001b[0m\u001b[1;33m\u001b[0m\u001b[0m\n\u001b[0m",
      "\u001b[1;31mValueError\u001b[0m: negative dimensions not allowed"
     ]
    }
   ],
   "source": [
    "a.resize((3,-1))"
   ]
  },
  {
   "cell_type": "code",
   "execution_count": 70,
   "metadata": {
    "ExecuteTime": {
     "end_time": "2021-03-04T06:56:11.607799Z",
     "start_time": "2021-03-04T06:56:11.604826Z"
    }
   },
   "outputs": [],
   "source": [
    "# 로또번호 6개(1~45)를 구해서 sort하여 1차원 배열에 넣기"
   ]
  },
  {
   "cell_type": "code",
   "execution_count": 73,
   "metadata": {
    "ExecuteTime": {
     "end_time": "2021-03-04T06:57:24.200348Z",
     "start_time": "2021-03-04T06:57:24.196360Z"
    }
   },
   "outputs": [
    {
     "data": {
      "text/plain": [
       "array([ 6.31741224,  8.91456701, 36.03350559, 43.57177091, 14.10408802,\n",
       "       31.15451771])"
      ]
     },
     "execution_count": 73,
     "metadata": {},
     "output_type": "execute_result"
    }
   ],
   "source": [
    "45*np.random.random(6)#0부터 45미만의 실수 "
   ]
  },
  {
   "cell_type": "code",
   "execution_count": 81,
   "metadata": {
    "ExecuteTime": {
     "end_time": "2021-03-04T07:01:46.588019Z",
     "start_time": "2021-03-04T07:01:46.583026Z"
    }
   },
   "outputs": [
    {
     "name": "stdout",
     "output_type": "stream",
     "text": [
      "[ 3.  7. 23. 26. 27. 32.]\n"
     ]
    }
   ],
   "source": [
    "while True:\n",
    "    a=np.floor(45*np.random.random(6))+1\n",
    "    a.sort()#set에 넣어서 작업하면 중복을 없앤다.\n",
    "    if len(set([int(data) for data in a]))==6:\n",
    "        print(a)\n",
    "        break;"
   ]
  },
  {
   "cell_type": "code",
   "execution_count": 83,
   "metadata": {
    "ExecuteTime": {
     "end_time": "2021-03-04T07:03:03.616497Z",
     "start_time": "2021-03-04T07:03:03.600876Z"
    }
   },
   "outputs": [
    {
     "data": {
      "text/plain": [
       "array([['1', '1'],\n",
       "       ['2.0', '1']], dtype='<U32')"
      ]
     },
     "execution_count": 83,
     "metadata": {},
     "output_type": "execute_result"
    }
   ],
   "source": [
    "np.array([[1,1],[2.0,'1']])"
   ]
  },
  {
   "cell_type": "markdown",
   "metadata": {},
   "source": [
    "## 2.5 배열 인쇄 "
   ]
  },
  {
   "cell_type": "code",
   "execution_count": 85,
   "metadata": {
    "ExecuteTime": {
     "end_time": "2021-03-04T07:05:35.624810Z",
     "start_time": "2021-03-04T07:05:35.619848Z"
    }
   },
   "outputs": [
    {
     "name": "stdout",
     "output_type": "stream",
     "text": [
      "[   0    1    2 ... 9997 9998 9999]\n"
     ]
    }
   ],
   "source": [
    "# 배열이 너무 커서 인쇄할수 없는 겨ㅕㅇ우 \n",
    "print(np.arange(10000))"
   ]
  },
  {
   "cell_type": "code",
   "execution_count": 88,
   "metadata": {
    "ExecuteTime": {
     "end_time": "2021-03-04T07:07:00.315832Z",
     "start_time": "2021-03-04T07:07:00.311843Z"
    }
   },
   "outputs": [
    {
     "name": "stdout",
     "output_type": "stream",
     "text": [
      "[[   0    1    2 ...  997  998  999]\n",
      " [1000 1001 1002 ... 1997 1998 1999]\n",
      " [2000 2001 2002 ... 2997 2998 2999]\n",
      " ...\n",
      " [7000 7001 7002 ... 7997 7998 7999]\n",
      " [8000 8001 8002 ... 8997 8998 8999]\n",
      " [9000 9001 9002 ... 9997 9998 9999]]\n"
     ]
    }
   ],
   "source": [
    "print(np.arange(10000).reshape(10,1000))"
   ]
  },
  {
   "cell_type": "code",
   "execution_count": 101,
   "metadata": {
    "ExecuteTime": {
     "end_time": "2021-03-04T07:14:02.127187Z",
     "start_time": "2021-03-04T07:14:02.123197Z"
    }
   },
   "outputs": [],
   "source": [
    "# 배열이 너무 커서 인쇄할 수 없는 경우 자동으로 건너뛰고 모서리만 인쇄\n",
    "# 이동작을 비활성화하고 넘파이가 전체 배열을 인쇄하도록 하려면\n",
    "#인쇄 옵션 변경 threshold값을 큰 값으로\n",
    "np.set_printoptions(threshold=100) \n",
    "#np.inf:무한대\n",
    "#내 시스템에서의 sys.maxsize"
   ]
  },
  {
   "cell_type": "code",
   "execution_count": 104,
   "metadata": {
    "ExecuteTime": {
     "end_time": "2021-03-04T07:14:24.844762Z",
     "start_time": "2021-03-04T07:14:24.839803Z"
    }
   },
   "outputs": [
    {
     "name": "stdout",
     "output_type": "stream",
     "text": [
      "[[   0    1    2 ...  997  998  999]\n",
      " [1000 1001 1002 ... 1997 1998 1999]\n",
      " [2000 2001 2002 ... 2997 2998 2999]\n",
      " ...\n",
      " [7000 7001 7002 ... 7997 7998 7999]\n",
      " [8000 8001 8002 ... 8997 8998 8999]\n",
      " [9000 9001 9002 ... 9997 9998 9999]]\n"
     ]
    }
   ],
   "source": [
    "print(np.arange(10000).reshape(10,1000))"
   ]
  },
  {
   "cell_type": "markdown",
   "metadata": {},
   "source": [
    "## 2.6 기본연산 동작\n",
    "### 1)배역의 요소별 연산"
   ]
  },
  {
   "cell_type": "code",
   "execution_count": 105,
   "metadata": {
    "ExecuteTime": {
     "end_time": "2021-03-04T07:16:02.626726Z",
     "start_time": "2021-03-04T07:16:02.621740Z"
    }
   },
   "outputs": [
    {
     "name": "stdout",
     "output_type": "stream",
     "text": [
      "[20 30 40 50]\n",
      "[0 1 2 3]\n"
     ]
    }
   ],
   "source": [
    "a=np.array([20,30,40,50])\n",
    "b=np.arange(4)\n",
    "print(a)\n",
    "print(b)"
   ]
  },
  {
   "cell_type": "code",
   "execution_count": 106,
   "metadata": {
    "ExecuteTime": {
     "end_time": "2021-03-04T07:16:23.220944Z",
     "start_time": "2021-03-04T07:16:23.215980Z"
    }
   },
   "outputs": [
    {
     "data": {
      "text/plain": [
       "array([20, 31, 42, 53])"
      ]
     },
     "execution_count": 106,
     "metadata": {},
     "output_type": "execute_result"
    }
   ],
   "source": [
    "a+b #index 요소별로 연산"
   ]
  },
  {
   "cell_type": "code",
   "execution_count": 107,
   "metadata": {
    "ExecuteTime": {
     "end_time": "2021-03-04T07:16:26.776577Z",
     "start_time": "2021-03-04T07:16:26.772588Z"
    }
   },
   "outputs": [
    {
     "data": {
      "text/plain": [
       "array([20, 29, 38, 47])"
      ]
     },
     "execution_count": 107,
     "metadata": {},
     "output_type": "execute_result"
    }
   ],
   "source": [
    "a-b"
   ]
  },
  {
   "cell_type": "code",
   "execution_count": 111,
   "metadata": {
    "ExecuteTime": {
     "end_time": "2021-03-04T07:19:54.603174Z",
     "start_time": "2021-03-04T07:19:54.598210Z"
    }
   },
   "outputs": [
    {
     "data": {
      "text/plain": [
       "array([  0,  30,  80, 150])"
      ]
     },
     "execution_count": 111,
     "metadata": {},
     "output_type": "execute_result"
    }
   ],
   "source": [
    "a*b"
   ]
  },
  {
   "cell_type": "code",
   "execution_count": 109,
   "metadata": {
    "ExecuteTime": {
     "end_time": "2021-03-04T07:17:50.625973Z",
     "start_time": "2021-03-04T07:17:50.621013Z"
    }
   },
   "outputs": [
    {
     "data": {
      "text/plain": [
       "array([ True,  True, False, False])"
      ]
     },
     "execution_count": 109,
     "metadata": {},
     "output_type": "execute_result"
    }
   ],
   "source": [
    "a<35 #요소별 연산"
   ]
  },
  {
   "cell_type": "code",
   "execution_count": 110,
   "metadata": {
    "ExecuteTime": {
     "end_time": "2021-03-04T07:18:10.185912Z",
     "start_time": "2021-03-04T07:18:10.181923Z"
    }
   },
   "outputs": [
    {
     "data": {
      "text/plain": [
       "array([20, 30])"
      ]
     },
     "execution_count": 110,
     "metadata": {},
     "output_type": "execute_result"
    }
   ],
   "source": [
    "#0번쨰와 1번쨰는 True이기 떄문에 출력\n",
    "a[a<35] #a배열에서 a<35 데이터만 추출 "
   ]
  },
  {
   "cell_type": "markdown",
   "metadata": {},
   "source": [
    "### 2)행렬의 곱(@)cf.*(요소별곱)"
   ]
  },
  {
   "cell_type": "code",
   "execution_count": 113,
   "metadata": {
    "ExecuteTime": {
     "end_time": "2021-03-04T07:21:50.721521Z",
     "start_time": "2021-03-04T07:21:50.717525Z"
    }
   },
   "outputs": [],
   "source": [
    "A=np.array([[1,1],[0,1]])"
   ]
  },
  {
   "cell_type": "code",
   "execution_count": 114,
   "metadata": {
    "ExecuteTime": {
     "end_time": "2021-03-04T07:21:51.136567Z",
     "start_time": "2021-03-04T07:21:51.133601Z"
    }
   },
   "outputs": [],
   "source": [
    "B=np.array([[2,0],[3,4]])"
   ]
  },
  {
   "cell_type": "code",
   "execution_count": 115,
   "metadata": {
    "ExecuteTime": {
     "end_time": "2021-03-04T07:21:51.674109Z",
     "start_time": "2021-03-04T07:21:51.670119Z"
    }
   },
   "outputs": [
    {
     "data": {
      "text/plain": [
       "(array([[1, 1],\n",
       "        [0, 1]]),\n",
       " array([[2, 0],\n",
       "        [3, 4]]))"
      ]
     },
     "execution_count": 115,
     "metadata": {},
     "output_type": "execute_result"
    }
   ],
   "source": [
    "A,B"
   ]
  },
  {
   "cell_type": "code",
   "execution_count": 117,
   "metadata": {
    "ExecuteTime": {
     "end_time": "2021-03-04T07:23:48.802183Z",
     "start_time": "2021-03-04T07:23:48.791213Z"
    }
   },
   "outputs": [
    {
     "name": "stdout",
     "output_type": "stream",
     "text": [
      "요소별 곱 A*B=\n",
      "[[2 0]\n",
      " [0 4]]\n",
      "행렬 곱 A@B=\n",
      "[[5 4]\n",
      " [3 4]]\n",
      "행렬 곱 A.dot(B)=\n",
      "[[5 4]\n",
      " [3 4]]\n"
     ]
    }
   ],
   "source": [
    "print ('요소별 곱 A*B=',A*B,sep='\\n')\n",
    "print ('행렬 곱 A@B=',A@B,sep='\\n')\n",
    "print ('행렬 곱 A.dot(B)=',A.dot(B),sep='\\n')"
   ]
  },
  {
   "cell_type": "markdown",
   "metadata": {},
   "source": [
    "### 3) 복합대일 연산자 사용 (+=,-=,*=,...)"
   ]
  },
  {
   "cell_type": "code",
   "execution_count": 126,
   "metadata": {
    "ExecuteTime": {
     "end_time": "2021-03-04T07:39:24.019485Z",
     "start_time": "2021-03-04T07:39:24.014497Z"
    }
   },
   "outputs": [
    {
     "data": {
      "text/plain": [
       "array([[1, 1, 1],\n",
       "       [1, 1, 1]])"
      ]
     },
     "execution_count": 126,
     "metadata": {},
     "output_type": "execute_result"
    }
   ],
   "source": [
    "a=np.ones((2,3),dtype=int)# 2차원 2행 2열 배열 int32 \n",
    "a"
   ]
  },
  {
   "cell_type": "code",
   "execution_count": 127,
   "metadata": {
    "ExecuteTime": {
     "end_time": "2021-03-04T07:39:24.358974Z",
     "start_time": "2021-03-04T07:39:24.354990Z"
    }
   },
   "outputs": [
    {
     "data": {
      "text/plain": [
       "array([[0.14038694, 0.19810149, 0.80074457],\n",
       "       [0.96826158, 0.31342418, 0.69232262]])"
      ]
     },
     "execution_count": 127,
     "metadata": {},
     "output_type": "execute_result"
    }
   ],
   "source": [
    "b=np.random.random((2,3))#2차원 2행 2열 배열 float64\n",
    "b"
   ]
  },
  {
   "cell_type": "code",
   "execution_count": 128,
   "metadata": {
    "ExecuteTime": {
     "end_time": "2021-03-04T07:39:24.738229Z",
     "start_time": "2021-03-04T07:39:24.734241Z"
    }
   },
   "outputs": [
    {
     "data": {
      "text/plain": [
       "array([[4, 4, 4],\n",
       "       [4, 4, 4]])"
      ]
     },
     "execution_count": 128,
     "metadata": {},
     "output_type": "execute_result"
    }
   ],
   "source": [
    "a+=3\n",
    "a"
   ]
  },
  {
   "cell_type": "code",
   "execution_count": 129,
   "metadata": {
    "ExecuteTime": {
     "end_time": "2021-03-04T07:39:59.403330Z",
     "start_time": "2021-03-04T07:39:59.399340Z"
    }
   },
   "outputs": [
    {
     "data": {
      "text/plain": [
       "array([[4.14038694, 4.19810149, 4.80074457],\n",
       "       [4.96826158, 4.31342418, 4.69232262]])"
      ]
     },
     "execution_count": 129,
     "metadata": {},
     "output_type": "execute_result"
    }
   ],
   "source": [
    "b+=a\n",
    "b"
   ]
  },
  {
   "cell_type": "code",
   "execution_count": 131,
   "metadata": {
    "ExecuteTime": {
     "end_time": "2021-03-04T07:42:13.368165Z",
     "start_time": "2021-03-04T07:42:13.359190Z"
    }
   },
   "outputs": [
    {
     "ename": "UFuncTypeError",
     "evalue": "Cannot cast ufunc 'add' output from dtype('float64') to dtype('int32') with casting rule 'same_kind'",
     "output_type": "error",
     "traceback": [
      "\u001b[1;31m---------------------------------------------------------------------------\u001b[0m",
      "\u001b[1;31mUFuncTypeError\u001b[0m                            Traceback (most recent call last)",
      "\u001b[1;32m<ipython-input-131-72726284244b>\u001b[0m in \u001b[0;36m<module>\u001b[1;34m\u001b[0m\n\u001b[1;32m----> 1\u001b[1;33m \u001b[0ma\u001b[0m\u001b[1;33m+=\u001b[0m\u001b[0mb\u001b[0m \u001b[1;31m#b가 float64기 떄문에 a+b는 float64 a는 int32\u001b[0m\u001b[1;33m\u001b[0m\u001b[1;33m\u001b[0m\u001b[0m\n\u001b[0m",
      "\u001b[1;31mUFuncTypeError\u001b[0m: Cannot cast ufunc 'add' output from dtype('float64') to dtype('int32') with casting rule 'same_kind'"
     ]
    }
   ],
   "source": [
    "a+=b #b가 float64기 떄문에 a+b는 float64 a는 int32 "
   ]
  },
  {
   "cell_type": "code",
   "execution_count": 134,
   "metadata": {
    "ExecuteTime": {
     "end_time": "2021-03-04T07:43:52.944619Z",
     "start_time": "2021-03-04T07:43:52.940630Z"
    }
   },
   "outputs": [
    {
     "name": "stdout",
     "output_type": "stream",
     "text": [
      "[1 1 1]\n",
      "[0.         1.57079633 3.14159265]\n"
     ]
    }
   ],
   "source": [
    "a=np.ones(3,dtype=np.int16)\n",
    "b=np.linspace(0,np.pi,3)  #0부터 np.pi까지 3공간을 만들어라 \n",
    "print(a)\n",
    "print(b)"
   ]
  },
  {
   "cell_type": "code",
   "execution_count": 136,
   "metadata": {
    "ExecuteTime": {
     "end_time": "2021-03-04T07:44:48.379202Z",
     "start_time": "2021-03-04T07:44:48.363445Z"
    }
   },
   "outputs": [
    {
     "name": "stdout",
     "output_type": "stream",
     "text": [
      "[1.         2.57079633 4.14159265]\n",
      "float64\n"
     ]
    }
   ],
   "source": [
    "c=a+b\n",
    "print(c)\n",
    "print(c.dtype)"
   ]
  },
  {
   "cell_type": "code",
   "execution_count": 137,
   "metadata": {
    "ExecuteTime": {
     "end_time": "2021-03-04T07:45:04.839411Z",
     "start_time": "2021-03-04T07:45:04.833427Z"
    }
   },
   "outputs": [
    {
     "data": {
      "text/plain": [
       "array([1.+0.j        , 1.+1.57079633j, 1.+3.14159265j])"
      ]
     },
     "execution_count": 137,
     "metadata": {},
     "output_type": "execute_result"
    }
   ],
   "source": [
    "c=a+b*1j\n",
    "c"
   ]
  },
  {
   "cell_type": "code",
   "execution_count": 138,
   "metadata": {
    "ExecuteTime": {
     "end_time": "2021-03-04T07:45:12.360523Z",
     "start_time": "2021-03-04T07:45:12.356534Z"
    }
   },
   "outputs": [
    {
     "data": {
      "text/plain": [
       "dtype('complex128')"
      ]
     },
     "execution_count": 138,
     "metadata": {},
     "output_type": "execute_result"
    }
   ],
   "source": [
    "c.dtype"
   ]
  },
  {
   "cell_type": "markdown",
   "metadata": {},
   "source": [
    "### 4) 배열 요소별 집계 ; 배열요소 전체의 sum,min..."
   ]
  },
  {
   "cell_type": "code",
   "execution_count": 141,
   "metadata": {
    "ExecuteTime": {
     "end_time": "2021-03-04T07:48:04.776708Z",
     "start_time": "2021-03-04T07:48:04.771750Z"
    }
   },
   "outputs": [
    {
     "data": {
      "text/plain": [
       "array([[0.87638915, 0.89460666, 0.08504421],\n",
       "       [0.03905478, 0.16983042, 0.8781425 ]])"
      ]
     },
     "execution_count": 141,
     "metadata": {},
     "output_type": "execute_result"
    }
   ],
   "source": [
    "a=np.random.random((2,3))\n",
    "a"
   ]
  },
  {
   "cell_type": "code",
   "execution_count": 142,
   "metadata": {
    "ExecuteTime": {
     "end_time": "2021-03-04T07:49:20.120909Z",
     "start_time": "2021-03-04T07:49:20.116920Z"
    }
   },
   "outputs": [],
   "source": [
    "a=np.array([[2,2,2,4],[4,3,2,1]])"
   ]
  },
  {
   "cell_type": "code",
   "execution_count": 144,
   "metadata": {
    "ExecuteTime": {
     "end_time": "2021-03-04T07:49:32.001920Z",
     "start_time": "2021-03-04T07:49:31.997957Z"
    }
   },
   "outputs": [
    {
     "name": "stdout",
     "output_type": "stream",
     "text": [
      "a 배열 요소들 전체의 합:  20\n",
      "a 배열 요소들 전체의 최소값:  1\n",
      "a 배열 요소들 전체의 최대값:  4\n"
     ]
    }
   ],
   "source": [
    "print('a 배열 요소들 전체의 합: ',a.sum())\n",
    "print('a 배열 요소들 전체의 최소값: ',a.min())\n",
    "print('a 배열 요소들 전체의 최대값: ',a.max())"
   ]
  },
  {
   "cell_type": "markdown",
   "metadata": {},
   "source": [
    "### 5)배열 축별 집계; 행별 sum,min...열별 sum,min..."
   ]
  },
  {
   "cell_type": "code",
   "execution_count": null,
   "metadata": {},
   "outputs": [],
   "source": [
    "a=np.array([[2,2,2,4],[4,3,2,1]])"
   ]
  },
  {
   "cell_type": "code",
   "execution_count": 180,
   "metadata": {
    "ExecuteTime": {
     "end_time": "2021-03-04T08:04:23.361480Z",
     "start_time": "2021-03-04T08:04:23.345649Z"
    }
   },
   "outputs": [
    {
     "name": "stdout",
     "output_type": "stream",
     "text": [
      "a 배열의 행별합 (결과는 1행 2열짜리 배열): [10 10]\n"
     ]
    }
   ],
   "source": [
    "print('a 배열의 행별합 (결과는 1행 2열짜리 배열):',a.sum(axis=1))"
   ]
  },
  {
   "cell_type": "code",
   "execution_count": 146,
   "metadata": {
    "ExecuteTime": {
     "end_time": "2021-03-04T07:52:14.794137Z",
     "start_time": "2021-03-04T07:52:14.790170Z"
    }
   },
   "outputs": [
    {
     "name": "stdout",
     "output_type": "stream",
     "text": [
      "a 배열의 열별합 (결과는 1행 4열짜리 배열): [6 5 4 5]\n"
     ]
    }
   ],
   "source": [
    "print('a 배열의 열별합 (결과는 1행 4열짜리 배열):',a.sum(axis=0))"
   ]
  },
  {
   "cell_type": "code",
   "execution_count": 149,
   "metadata": {
    "ExecuteTime": {
     "end_time": "2021-03-04T07:54:32.799793Z",
     "start_time": "2021-03-04T07:54:32.794806Z"
    }
   },
   "outputs": [
    {
     "name": "stdout",
     "output_type": "stream",
     "text": [
      "a 배열의 행별 최소값: [2 1]\n",
      "a 배열의 열별 최소값: [2 2 2 1]\n",
      "a 배열의 행별 최대값: [4 4]\n",
      "a 배열의 열별 최대값: [4 3 2 4]\n"
     ]
    }
   ],
   "source": [
    "print('a 배열의 행별 최소값:',a.min(axis=1))\n",
    "print('a 배열의 열별 최소값:',a.min(axis=0))\n",
    "print('a 배열의 행별 최대값:',a.max(axis=1))\n",
    "print('a 배열의 열별 최대값:',a.max(axis=0))"
   ]
  },
  {
   "cell_type": "code",
   "execution_count": 154,
   "metadata": {
    "ExecuteTime": {
     "end_time": "2021-03-04T07:56:29.975383Z",
     "start_time": "2021-03-04T07:56:29.971387Z"
    }
   },
   "outputs": [
    {
     "name": "stdout",
     "output_type": "stream",
     "text": [
      "[[2 2 2 4]\n",
      " [4 3 2 1]]\n",
      "[[ 2  4  6 10]\n",
      " [ 4  7  9 10]]\n"
     ]
    }
   ],
   "source": [
    "# 누적합\n",
    "print(a)\n",
    "print(a.cumsum(axis=1)) #행별로 누적합"
   ]
  },
  {
   "cell_type": "code",
   "execution_count": 155,
   "metadata": {
    "ExecuteTime": {
     "end_time": "2021-03-04T07:56:30.628066Z",
     "start_time": "2021-03-04T07:56:30.624077Z"
    }
   },
   "outputs": [
    {
     "name": "stdout",
     "output_type": "stream",
     "text": [
      "[[2 2 2 4]\n",
      " [6 5 4 5]]\n"
     ]
    }
   ],
   "source": [
    "print(a.cumsum(axis=0)) #열별로 누적합"
   ]
  },
  {
   "cell_type": "code",
   "execution_count": 157,
   "metadata": {
    "ExecuteTime": {
     "end_time": "2021-03-04T07:57:39.151979Z",
     "start_time": "2021-03-04T07:57:39.146992Z"
    }
   },
   "outputs": [
    {
     "data": {
      "text/plain": [
       "array([[[ 0,  1,  2,  3],\n",
       "        [ 4,  5,  6,  7],\n",
       "        [ 8,  9, 10, 11]],\n",
       "\n",
       "       [[12, 13, 14, 15],\n",
       "        [16, 17, 18, 19],\n",
       "        [20, 21, 22, 23]]])"
      ]
     },
     "execution_count": 157,
     "metadata": {},
     "output_type": "execute_result"
    }
   ],
   "source": [
    "b= np.arange(24).reshape(2,3,4)\n",
    "b"
   ]
  },
  {
   "cell_type": "code",
   "execution_count": 162,
   "metadata": {
    "ExecuteTime": {
     "end_time": "2021-03-04T07:59:35.857283Z",
     "start_time": "2021-03-04T07:59:35.852296Z"
    }
   },
   "outputs": [
    {
     "data": {
      "text/plain": [
       "(276, 0, 23)"
      ]
     },
     "execution_count": 162,
     "metadata": {},
     "output_type": "execute_result"
    }
   ],
   "source": [
    "b.sum(),b.min(),b.max()"
   ]
  },
  {
   "cell_type": "code",
   "execution_count": 169,
   "metadata": {
    "ExecuteTime": {
     "end_time": "2021-03-04T08:01:01.833793Z",
     "start_time": "2021-03-04T08:01:01.828832Z"
    }
   },
   "outputs": [
    {
     "data": {
      "text/plain": [
       "array([[12, 14, 16, 18],\n",
       "       [20, 22, 24, 26],\n",
       "       [28, 30, 32, 34]])"
      ]
     },
     "execution_count": 169,
     "metadata": {},
     "output_type": "execute_result"
    }
   ],
   "source": [
    "b.sum(axis=0)#면은 뺴고, 같은 행과 열끼리 sum"
   ]
  },
  {
   "cell_type": "code",
   "execution_count": 176,
   "metadata": {
    "ExecuteTime": {
     "end_time": "2021-03-04T08:03:36.563682Z",
     "start_time": "2021-03-04T08:03:36.559680Z"
    }
   },
   "outputs": [
    {
     "data": {
      "text/plain": [
       "array([[12, 15, 18, 21],\n",
       "       [48, 51, 54, 57]])"
      ]
     },
     "execution_count": 176,
     "metadata": {},
     "output_type": "execute_result"
    }
   ],
   "source": [
    "b.sum(axis=1) #행을 뺴고 같은면, 열끼리 sum"
   ]
  },
  {
   "cell_type": "code",
   "execution_count": 177,
   "metadata": {
    "ExecuteTime": {
     "end_time": "2021-03-04T08:03:48.259682Z",
     "start_time": "2021-03-04T08:03:48.254695Z"
    }
   },
   "outputs": [
    {
     "data": {
      "text/plain": [
       "array([[ 6, 22, 38],\n",
       "       [54, 70, 86]])"
      ]
     },
     "execution_count": 177,
     "metadata": {},
     "output_type": "execute_result"
    }
   ],
   "source": [
    "b.sum(axis=2) #열을 뺴고 같은면, 행끼리 sum"
   ]
  },
  {
   "cell_type": "code",
   "execution_count": 181,
   "metadata": {
    "ExecuteTime": {
     "end_time": "2021-03-04T08:05:26.683335Z",
     "start_time": "2021-03-04T08:05:26.679345Z"
    }
   },
   "outputs": [
    {
     "data": {
      "text/plain": [
       "276"
      ]
     },
     "execution_count": 181,
     "metadata": {},
     "output_type": "execute_result"
    }
   ],
   "source": [
    "np.sum(b)#요소들 전체합"
   ]
  },
  {
   "cell_type": "code",
   "execution_count": 182,
   "metadata": {
    "ExecuteTime": {
     "end_time": "2021-03-04T08:05:43.023797Z",
     "start_time": "2021-03-04T08:05:43.017839Z"
    }
   },
   "outputs": [
    {
     "data": {
      "text/plain": [
       "11.5"
      ]
     },
     "execution_count": 182,
     "metadata": {},
     "output_type": "execute_result"
    }
   ],
   "source": [
    "np.mean(b)#요소들의 전체 평균"
   ]
  },
  {
   "cell_type": "code",
   "execution_count": 183,
   "metadata": {
    "ExecuteTime": {
     "end_time": "2021-03-04T08:06:28.227004Z",
     "start_time": "2021-03-04T08:06:28.222017Z"
    }
   },
   "outputs": [
    {
     "data": {
      "text/plain": [
       "6.922186552431729"
      ]
     },
     "execution_count": 183,
     "metadata": {},
     "output_type": "execute_result"
    }
   ],
   "source": [
    "np.std(b)#표준편차"
   ]
  },
  {
   "cell_type": "code",
   "execution_count": 184,
   "metadata": {
    "ExecuteTime": {
     "end_time": "2021-03-04T08:08:59.101997Z",
     "start_time": "2021-03-04T08:08:59.097035Z"
    }
   },
   "outputs": [
    {
     "data": {
      "text/plain": [
       "47.916666666666664"
      ]
     },
     "execution_count": 184,
     "metadata": {},
     "output_type": "execute_result"
    }
   ],
   "source": [
    "np.var(b)#분산"
   ]
  },
  {
   "cell_type": "code",
   "execution_count": 186,
   "metadata": {
    "ExecuteTime": {
     "end_time": "2021-03-04T08:09:35.871058Z",
     "start_time": "2021-03-04T08:09:35.866074Z"
    }
   },
   "outputs": [
    {
     "data": {
      "text/plain": [
       "6.922186552431729"
      ]
     },
     "execution_count": 186,
     "metadata": {},
     "output_type": "execute_result"
    }
   ],
   "source": [
    "np.sqrt(np.var(b))#np.sqrt() 루트값의 매개변수에는 스칼라변수,배열변수 모두 가능"
   ]
  },
  {
   "cell_type": "code",
   "execution_count": 188,
   "metadata": {
    "ExecuteTime": {
     "end_time": "2021-03-04T08:11:16.993534Z",
     "start_time": "2021-03-04T08:11:16.977885Z"
    }
   },
   "outputs": [
    {
     "data": {
      "text/plain": [
       "6.922186552431729"
      ]
     },
     "execution_count": 188,
     "metadata": {},
     "output_type": "execute_result"
    }
   ],
   "source": [
    "import math\n",
    "math.sqrt(np.var(b)) #math.sqrt()의 매개변수는 스칼라변수 "
   ]
  },
  {
   "cell_type": "markdown",
   "metadata": {},
   "source": [
    "## 2.7그 외 함수들"
   ]
  },
  {
   "cell_type": "code",
   "execution_count": 190,
   "metadata": {
    "ExecuteTime": {
     "end_time": "2021-03-04T08:12:26.439863Z",
     "start_time": "2021-03-04T08:12:26.434907Z"
    }
   },
   "outputs": [
    {
     "data": {
      "text/plain": [
       "array([0, 1, 2])"
      ]
     },
     "execution_count": 190,
     "metadata": {},
     "output_type": "execute_result"
    }
   ],
   "source": [
    "a=np.arange(3)\n",
    "np.sqrt(a)"
   ]
  },
  {
   "cell_type": "code",
   "execution_count": 192,
   "metadata": {
    "ExecuteTime": {
     "end_time": "2021-03-04T08:13:32.721069Z",
     "start_time": "2021-03-04T08:13:32.717105Z"
    }
   },
   "outputs": [
    {
     "data": {
      "text/plain": [
       "array([1.        , 2.71828183, 7.3890561 ])"
      ]
     },
     "execution_count": 192,
     "metadata": {},
     "output_type": "execute_result"
    }
   ],
   "source": [
    "np.exp(a) #지수 e의 0승, 1승 , 2승 "
   ]
  },
  {
   "cell_type": "code",
   "execution_count": 193,
   "metadata": {
    "ExecuteTime": {
     "end_time": "2021-03-04T08:14:22.600297Z",
     "start_time": "2021-03-04T08:14:22.595309Z"
    }
   },
   "outputs": [
    {
     "data": {
      "text/plain": [
       "array([0, 1, 2])"
      ]
     },
     "execution_count": 193,
     "metadata": {},
     "output_type": "execute_result"
    }
   ],
   "source": [
    "a"
   ]
  },
  {
   "cell_type": "code",
   "execution_count": 199,
   "metadata": {
    "ExecuteTime": {
     "end_time": "2021-03-04T08:20:49.275261Z",
     "start_time": "2021-03-04T08:20:49.270274Z"
    }
   },
   "outputs": [
    {
     "data": {
      "text/plain": [
       "array([10, 12, 14])"
      ]
     },
     "execution_count": 199,
     "metadata": {},
     "output_type": "execute_result"
    }
   ],
   "source": [
    "b=np.array([10,11,12])\n",
    "np.add(a,b)\n"
   ]
  },
  {
   "cell_type": "code",
   "execution_count": 205,
   "metadata": {
    "ExecuteTime": {
     "end_time": "2021-03-04T08:22:00.757924Z",
     "start_time": "2021-03-04T08:21:52.469540Z"
    }
   },
   "outputs": [
    {
     "name": "stdout",
     "output_type": "stream",
     "text": [
      "The memory_profiler extension is already loaded. To reload it, use:\n",
      "  %reload_ext memory_profiler\n"
     ]
    }
   ],
   "source": [
    "#메모리 사용량 측정(메모리 프로파일러)를 로드하고 임의의 데이터 생성후 np.add\n",
    "#아나콘다 프롬프트에서 (! pip install memory_profiler)\n",
    "%load_ext memory_profiler\n",
    "A = np.random.randn(100000000)\n",
    "B = np.random.randn(100000000)\n",
    "C = np.random.randn(100000000)"
   ]
  },
  {
   "cell_type": "code",
   "execution_count": 206,
   "metadata": {
    "ExecuteTime": {
     "end_time": "2021-03-04T08:23:29.007291Z",
     "start_time": "2021-03-04T08:23:29.003301Z"
    }
   },
   "outputs": [],
   "source": [
    "# %%time : 셀을 실행할 떄 소요 시간 출력\n",
    "# %memit : 메모리 사용량 출력"
   ]
  },
  {
   "cell_type": "code",
   "execution_count": 209,
   "metadata": {
    "ExecuteTime": {
     "end_time": "2021-03-04T08:24:28.376194Z",
     "start_time": "2021-03-04T08:24:26.719774Z"
    }
   },
   "outputs": [
    {
     "name": "stdout",
     "output_type": "stream",
     "text": [
      "peak memory: 3859.30 MiB, increment: 1453.67 MiB\n",
      "[-0.00899021  2.47645748 -0.32363621 ... -1.28186105 -2.6741352\n",
      "  1.21802183]\n",
      "Wall time: 1.65 s\n"
     ]
    }
   ],
   "source": [
    "%%time\n",
    "%memit G = A*B+C\n",
    "print(G)"
   ]
  },
  {
   "cell_type": "code",
   "execution_count": 210,
   "metadata": {
    "ExecuteTime": {
     "end_time": "2021-03-04T08:25:12.557713Z",
     "start_time": "2021-03-04T08:25:10.744115Z"
    }
   },
   "outputs": [
    {
     "name": "stdout",
     "output_type": "stream",
     "text": [
      "peak memory: 4656.02 MiB, increment: 1487.43 MiB\n",
      "[-0.00899021  2.47645748 -0.32363621 ... -1.28186105 -2.6741352\n",
      "  1.21802183]\n",
      "Wall time: 1.81 s\n"
     ]
    }
   ],
   "source": [
    "%%time\n",
    "%memit T = A*B; G=T+C; del T\n",
    "print(G)\n"
   ]
  },
  {
   "cell_type": "code",
   "execution_count": 211,
   "metadata": {
    "ExecuteTime": {
     "end_time": "2021-03-04T08:26:13.013651Z",
     "start_time": "2021-03-04T08:26:11.656929Z"
    }
   },
   "outputs": [
    {
     "name": "stdout",
     "output_type": "stream",
     "text": [
      "peak memory: 3931.53 MiB, increment: 762.94 MiB\n",
      "[-0.00899021  2.47645748 -0.32363621 ... -1.28186105 -2.6741352\n",
      "  1.21802183]\n",
      "Wall time: 1.35 s\n"
     ]
    }
   ],
   "source": [
    "%%time\n",
    "%memit T = A*B; T+=C\n",
    "print(T)\n"
   ]
  },
  {
   "cell_type": "code",
   "execution_count": null,
   "metadata": {},
   "outputs": [],
   "source": [
    "np.add()경우 배열별 연산을 할 경우 메모리 절약 "
   ]
  },
  {
   "cell_type": "code",
   "execution_count": 212,
   "metadata": {
    "ExecuteTime": {
     "end_time": "2021-03-04T08:27:31.746990Z",
     "start_time": "2021-03-04T08:27:30.273178Z"
    }
   },
   "outputs": [
    {
     "name": "stdout",
     "output_type": "stream",
     "text": [
      "peak memory: 4564.95 MiB, increment: 633.41 MiB\n",
      "[-0.00899021  2.47645748 -0.32363621 ... -1.28186105 -2.6741352\n",
      "  1.21802183]\n",
      "Wall time: 1.47 s\n"
     ]
    }
   ],
   "source": [
    "%%time\n",
    "%memit T = A*B; np.add(T,C,T)\n",
    "print(T)"
   ]
  },
  {
   "cell_type": "code",
   "execution_count": 203,
   "metadata": {
    "ExecuteTime": {
     "end_time": "2021-03-04T08:21:27.366763Z",
     "start_time": "2021-03-04T08:21:27.361798Z"
    }
   },
   "outputs": [
    {
     "data": {
      "text/plain": [
       "array([-0.7474975 ,  1.77761893,  0.43058266, -0.29525226, -0.16310175,\n",
       "       -0.04872274,  0.46382517, -0.27897323,  0.04767236,  0.66642984])"
      ]
     },
     "execution_count": 203,
     "metadata": {},
     "output_type": "execute_result"
    }
   ],
   "source": [
    "np.random.randn(10)"
   ]
  },
  {
   "cell_type": "code",
   "execution_count": 204,
   "metadata": {
    "ExecuteTime": {
     "end_time": "2021-03-04T08:21:29.420908Z",
     "start_time": "2021-03-04T08:21:29.415947Z"
    }
   },
   "outputs": [
    {
     "data": {
      "text/plain": [
       "array([0.08190556, 0.84436117, 0.37203256, 0.28842791, 0.16817009,\n",
       "       0.79627111, 0.50993019, 0.42561149, 0.55290105, 0.87555461])"
      ]
     },
     "execution_count": 204,
     "metadata": {},
     "output_type": "execute_result"
    }
   ],
   "source": [
    "np.random.random(10)"
   ]
  },
  {
   "cell_type": "markdown",
   "metadata": {},
   "source": [
    "## 2.8 브로드 캐스팅"
   ]
  },
  {
   "cell_type": "code",
   "execution_count": 216,
   "metadata": {
    "ExecuteTime": {
     "end_time": "2021-03-04T08:43:57.501886Z",
     "start_time": "2021-03-04T08:43:57.495902Z"
    }
   },
   "outputs": [
    {
     "data": {
      "text/plain": [
       "array([11, 12, 13])"
      ]
     },
     "execution_count": 216,
     "metadata": {},
     "output_type": "execute_result"
    }
   ],
   "source": [
    "# 1차원 배열의 경우\n",
    "from numpy import array\n",
    "a = array([1,2,3])\n",
    "b = array([10,20,30])\n",
    "np.add(a,10)"
   ]
  },
  {
   "cell_type": "code",
   "execution_count": 221,
   "metadata": {
    "ExecuteTime": {
     "end_time": "2021-03-04T08:46:08.416961Z",
     "start_time": "2021-03-04T08:46:08.410977Z"
    }
   },
   "outputs": [
    {
     "data": {
      "text/plain": [
       "array([[ 5.,  5.,  5.],\n",
       "       [15., 15., 15.],\n",
       "       [25., 25., 25.],\n",
       "       [35., 35., 35.]])"
      ]
     },
     "execution_count": 221,
     "metadata": {},
     "output_type": "execute_result"
    }
   ],
   "source": [
    "# 2차원 배열의 경우 두배열의 후미 축(열)의 크기가 동일 \n",
    "from numpy import array\n",
    "a=array([[0.,0,0],\n",
    "        [10.,10.,10,],\n",
    "        [20,20,20],\n",
    "        [30,30,30,]])\n",
    "b=array([5,5,5])\n",
    "np.add(a,b)"
   ]
  },
  {
   "cell_type": "code",
   "execution_count": 220,
   "metadata": {
    "ExecuteTime": {
     "end_time": "2021-03-04T08:46:06.303260Z",
     "start_time": "2021-03-04T08:46:06.298274Z"
    }
   },
   "outputs": [
    {
     "data": {
      "text/plain": [
       "array([[  0.,   0.,   0.],\n",
       "       [ 50.,  50.,  50.],\n",
       "       [100., 100., 100.],\n",
       "       [150., 150., 150.]])"
      ]
     },
     "execution_count": 220,
     "metadata": {},
     "output_type": "execute_result"
    }
   ],
   "source": [
    "np.multiply(a,b) #곱하기"
   ]
  },
  {
   "cell_type": "code",
   "execution_count": 226,
   "metadata": {
    "ExecuteTime": {
     "end_time": "2021-03-04T08:52:57.981826Z",
     "start_time": "2021-03-04T08:52:57.977837Z"
    }
   },
   "outputs": [],
   "source": [
    "from numpy import array, newaxis\n",
    "a=array([0,10,20,30])\n",
    "b=array([1,2,3])\n",
    "#np.add(a,b) 열이 맞지 않아 계산할수 없음"
   ]
  },
  {
   "cell_type": "code",
   "execution_count": 227,
   "metadata": {
    "ExecuteTime": {
     "end_time": "2021-03-04T08:53:00.298749Z",
     "start_time": "2021-03-04T08:53:00.293782Z"
    }
   },
   "outputs": [
    {
     "data": {
      "text/plain": [
       "array([[ 0],\n",
       "       [10],\n",
       "       [20],\n",
       "       [30]])"
      ]
     },
     "execution_count": 227,
     "metadata": {},
     "output_type": "execute_result"
    }
   ],
   "source": [
    "a[:,newaxis]#newaxis 연산자는 배열에 새로운 축을 추가 2차원인 4x1 배열"
   ]
  },
  {
   "cell_type": "code",
   "execution_count": 231,
   "metadata": {
    "ExecuteTime": {
     "end_time": "2021-03-04T08:54:08.619122Z",
     "start_time": "2021-03-04T08:54:08.614160Z"
    }
   },
   "outputs": [
    {
     "data": {
      "text/plain": [
       "array([[ 1,  2,  3],\n",
       "       [11, 12, 13],\n",
       "       [21, 22, 23],\n",
       "       [31, 32, 33]])"
      ]
     },
     "execution_count": 231,
     "metadata": {},
     "output_type": "execute_result"
    }
   ],
   "source": [
    "# 4x1 배열 + 1x3배열   = 4x3배열 \n",
    "x=np.add(a[:,newaxis],b)\n",
    "x"
   ]
  },
  {
   "cell_type": "code",
   "execution_count": 232,
   "metadata": {
    "ExecuteTime": {
     "end_time": "2021-03-04T08:54:09.773029Z",
     "start_time": "2021-03-04T08:54:09.757378Z"
    }
   },
   "outputs": [
    {
     "data": {
      "text/plain": [
       "True"
      ]
     },
     "execution_count": 232,
     "metadata": {},
     "output_type": "execute_result"
    }
   ],
   "source": [
    "a[0]+b[1]==x[0,1]\n",
    "a[1]+b[2]==x[1,2]"
   ]
  },
  {
   "cell_type": "markdown",
   "metadata": {},
   "source": [
    "# 3절. 배열합치기/분할하기"
   ]
  },
  {
   "cell_type": "code",
   "execution_count": 238,
   "metadata": {
    "ExecuteTime": {
     "end_time": "2021-03-04T08:57:04.977110Z",
     "start_time": "2021-03-04T08:57:04.972122Z"
    }
   },
   "outputs": [
    {
     "data": {
      "text/plain": [
       "array([ 0,  1,  2,  3,  4,  5,  6,  7,  8,  9, 10, 11, 12, 13, 14, 15, 16,\n",
       "       17, 18, 19, 20, 21, 22, 23, 24, 25, 26])"
      ]
     },
     "execution_count": 238,
     "metadata": {},
     "output_type": "execute_result"
    }
   ],
   "source": [
    "a= np.arange(27)\n",
    "a"
   ]
  },
  {
   "cell_type": "code",
   "execution_count": 251,
   "metadata": {
    "ExecuteTime": {
     "end_time": "2021-03-04T09:02:32.176845Z",
     "start_time": "2021-03-04T09:02:32.171858Z"
    }
   },
   "outputs": [
    {
     "data": {
      "text/plain": [
       "array([ 0,  3,  6,  9, 12, 15, 18, 21, 24, 27])"
      ]
     },
     "execution_count": 251,
     "metadata": {},
     "output_type": "execute_result"
    }
   ],
   "source": [
    "a=np.arange(10)*3\n",
    "a"
   ]
  },
  {
   "cell_type": "markdown",
   "metadata": {},
   "source": [
    "## 3.1인덱싱과 슬라이싱"
   ]
  },
  {
   "cell_type": "code",
   "execution_count": 236,
   "metadata": {
    "ExecuteTime": {
     "end_time": "2021-03-04T08:56:50.337932Z",
     "start_time": "2021-03-04T08:56:50.333944Z"
    }
   },
   "outputs": [
    {
     "data": {
      "text/plain": [
       "2"
      ]
     },
     "execution_count": 236,
     "metadata": {},
     "output_type": "execute_result"
    }
   ],
   "source": [
    "# 1) 인덱싱\n",
    "a[2]"
   ]
  },
  {
   "cell_type": "code",
   "execution_count": 239,
   "metadata": {
    "ExecuteTime": {
     "end_time": "2021-03-04T08:57:13.930601Z",
     "start_time": "2021-03-04T08:57:13.926601Z"
    }
   },
   "outputs": [
    {
     "data": {
      "text/plain": [
       "26"
      ]
     },
     "execution_count": 239,
     "metadata": {},
     "output_type": "execute_result"
    }
   ],
   "source": [
    "a[-1]"
   ]
  },
  {
   "cell_type": "code",
   "execution_count": 240,
   "metadata": {
    "ExecuteTime": {
     "end_time": "2021-03-04T08:57:32.273234Z",
     "start_time": "2021-03-04T08:57:32.269246Z"
    }
   },
   "outputs": [
    {
     "data": {
      "text/plain": [
       "10"
      ]
     },
     "execution_count": 240,
     "metadata": {},
     "output_type": "execute_result"
    }
   ],
   "source": [
    "a[10]"
   ]
  },
  {
   "cell_type": "code",
   "execution_count": null,
   "metadata": {},
   "outputs": [],
   "source": [
    "# 2) 슬라이싱"
   ]
  },
  {
   "cell_type": "code",
   "execution_count": 241,
   "metadata": {
    "ExecuteTime": {
     "end_time": "2021-03-04T08:58:17.123524Z",
     "start_time": "2021-03-04T08:58:17.118532Z"
    }
   },
   "outputs": [
    {
     "data": {
      "text/plain": [
       "array([2, 3, 4])"
      ]
     },
     "execution_count": 241,
     "metadata": {},
     "output_type": "execute_result"
    }
   ],
   "source": [
    "a[2:5] #2번쨰에서 5번째 앞까지"
   ]
  },
  {
   "cell_type": "code",
   "execution_count": 242,
   "metadata": {
    "ExecuteTime": {
     "end_time": "2021-03-04T08:58:47.331942Z",
     "start_time": "2021-03-04T08:58:47.327953Z"
    }
   },
   "outputs": [
    {
     "data": {
      "text/plain": [
       "array([ 0,  2,  4,  6,  8, 10])"
      ]
     },
     "execution_count": 242,
     "metadata": {},
     "output_type": "execute_result"
    }
   ],
   "source": [
    "a[0:11:2]#슬라이싱은 벗어난 인덱스 값도 가능 "
   ]
  },
  {
   "cell_type": "code",
   "execution_count": 243,
   "metadata": {
    "ExecuteTime": {
     "end_time": "2021-03-04T08:59:06.304342Z",
     "start_time": "2021-03-04T08:59:06.299381Z"
    }
   },
   "outputs": [
    {
     "data": {
      "text/plain": [
       "array([26, 25, 24, 23, 22, 21, 20, 19, 18, 17, 16, 15, 14, 13, 12, 11, 10,\n",
       "        9,  8,  7,  6,  5,  4,  3,  2,  1,  0])"
      ]
     },
     "execution_count": 243,
     "metadata": {},
     "output_type": "execute_result"
    }
   ],
   "source": [
    "a[::-1] #a배열을 꺼꾸로 출력"
   ]
  },
  {
   "cell_type": "code",
   "execution_count": 247,
   "metadata": {
    "ExecuteTime": {
     "end_time": "2021-03-04T09:01:02.040354Z",
     "start_time": "2021-03-04T09:01:02.024705Z"
    }
   },
   "outputs": [],
   "source": [
    "a[:6:2]= -99\n",
    "#a[:6:2]= array([-99],[-99],[-99])"
   ]
  },
  {
   "cell_type": "code",
   "execution_count": 246,
   "metadata": {
    "ExecuteTime": {
     "end_time": "2021-03-04T09:00:01.747776Z",
     "start_time": "2021-03-04T09:00:01.742814Z"
    }
   },
   "outputs": [
    {
     "data": {
      "text/plain": [
       "array([-99,   1, -99,   3, -99,   5,   6,   7,   8,   9,  10,  11,  12,\n",
       "        13,  14,  15,  16,  17,  18,  19,  20,  21,  22,  23,  24,  25,\n",
       "        26])"
      ]
     },
     "execution_count": 246,
     "metadata": {},
     "output_type": "execute_result"
    }
   ],
   "source": [
    "a"
   ]
  },
  {
   "cell_type": "markdown",
   "metadata": {},
   "source": [
    "\n",
    "document 정말 중요합니다. 참고할수있도록\n",
    "도움말 문서들\n",
    "\n",
    "인덱싱 : https://docs.scipy.org/doc/numpy/user/basics.indexing.html\n",
    "배열 인덱싱 : https://docs.scipy.org/doc/numpy/reference/arrays.indexing.html\n",
    "newaxis : https://docs.scipy.org/doc/numpy/reference/constants.html#numpy.newaxis"
   ]
  },
  {
   "cell_type": "code",
   "execution_count": 16,
   "metadata": {
    "ExecuteTime": {
     "end_time": "2021-03-05T00:39:52.266579Z",
     "start_time": "2021-03-05T00:39:52.261592Z"
    }
   },
   "outputs": [
    {
     "data": {
      "text/plain": [
       "array([[1, 2],\n",
       "       [3, 4]], dtype=int8)"
      ]
     },
     "execution_count": 16,
     "metadata": {},
     "output_type": "execute_result"
    }
   ],
   "source": [
    "import numpy as np\n",
    "np.array([[1,2],[3,4]],dtype=np.int8)"
   ]
  },
  {
   "cell_type": "code",
   "execution_count": 15,
   "metadata": {
    "ExecuteTime": {
     "end_time": "2021-03-05T00:39:44.964198Z",
     "start_time": "2021-03-05T00:39:44.959219Z"
    }
   },
   "outputs": [
    {
     "data": {
      "text/plain": [
       "array([-0.65147285, -0.94230286, -0.77783544,  0.59217835,  0.85823105,\n",
       "        0.09737843,  0.20137985, -1.46253712,  1.23579772, -0.82800492])"
      ]
     },
     "execution_count": 15,
     "metadata": {},
     "output_type": "execute_result"
    }
   ],
   "source": [
    "np.empty((2,3))\n",
    "np.random.normal(0,1,10)# 0부터 평균이 0이고 표준편차가 1인 10개를 뽑아라 "
   ]
  },
  {
   "cell_type": "code",
   "execution_count": null,
   "metadata": {},
   "outputs": [],
   "source": [
    "# 3) 다차원인덱싱"
   ]
  },
  {
   "cell_type": "code",
   "execution_count": 17,
   "metadata": {
    "ExecuteTime": {
     "end_time": "2021-03-05T00:40:06.394404Z",
     "start_time": "2021-03-05T00:40:06.392422Z"
    }
   },
   "outputs": [],
   "source": [
    "def f(x,y):\n",
    "    return 10*x+y"
   ]
  },
  {
   "cell_type": "code",
   "execution_count": 18,
   "metadata": {
    "ExecuteTime": {
     "end_time": "2021-03-05T00:40:10.300113Z",
     "start_time": "2021-03-05T00:40:10.296124Z"
    }
   },
   "outputs": [
    {
     "data": {
      "text/plain": [
       "23"
      ]
     },
     "execution_count": 18,
     "metadata": {},
     "output_type": "execute_result"
    }
   ],
   "source": [
    "f(2,3)"
   ]
  },
  {
   "cell_type": "code",
   "execution_count": 22,
   "metadata": {
    "ExecuteTime": {
     "end_time": "2021-03-05T00:41:37.675921Z",
     "start_time": "2021-03-05T00:41:37.670935Z"
    }
   },
   "outputs": [
    {
     "data": {
      "text/plain": [
       "array([[ 0,  1,  2,  3],\n",
       "       [10, 11, 12, 13],\n",
       "       [20, 21, 22, 23],\n",
       "       [30, 31, 32, 33],\n",
       "       [40, 41, 42, 43]], dtype=int8)"
      ]
     },
     "execution_count": 22,
     "metadata": {},
     "output_type": "execute_result"
    }
   ],
   "source": [
    "import numpy as np \n",
    "#5행 4열짜리 2차원 넘파이배열 int16 dtype으로 만듦(그 안의 데이터는 f함수에 의해\n",
    "a= np.fromfunction(f,(5,4),dtype=np.int16)  \n",
    "a"
   ]
  },
  {
   "cell_type": "code",
   "execution_count": 23,
   "metadata": {
    "ExecuteTime": {
     "end_time": "2021-03-05T00:45:36.697481Z",
     "start_time": "2021-03-05T00:45:36.688505Z"
    }
   },
   "outputs": [
    {
     "ename": "TypeError",
     "evalue": "fromfunction() missing 1 required positional argument: 'shape'",
     "output_type": "error",
     "traceback": [
      "\u001b[1;31m---------------------------------------------------------------------------\u001b[0m",
      "\u001b[1;31mTypeError\u001b[0m                                 Traceback (most recent call last)",
      "\u001b[1;32m<ipython-input-23-2e12dcad999c>\u001b[0m in \u001b[0;36m<module>\u001b[1;34m\u001b[0m\n\u001b[1;32m----> 1\u001b[1;33m \u001b[0ma\u001b[0m \u001b[1;33m=\u001b[0m \u001b[0mnp\u001b[0m\u001b[1;33m.\u001b[0m\u001b[0mfromfunction\u001b[0m\u001b[1;33m(\u001b[0m\u001b[1;32mlambda\u001b[0m \u001b[0mx\u001b[0m\u001b[1;33m,\u001b[0m\u001b[0my\u001b[0m \u001b[1;33m:\u001b[0m\u001b[1;36m10\u001b[0m\u001b[1;33m*\u001b[0m\u001b[0mx\u001b[0m\u001b[1;33m+\u001b[0m\u001b[0my\u001b[0m\u001b[1;33m)\u001b[0m\u001b[1;33m\u001b[0m\u001b[1;33m\u001b[0m\u001b[0m\n\u001b[0m",
      "\u001b[1;31mTypeError\u001b[0m: fromfunction() missing 1 required positional argument: 'shape'"
     ]
    }
   ],
   "source": [
    "a = np.fromfunction(lambda x,y :10*x+y)"
   ]
  },
  {
   "cell_type": "code",
   "execution_count": 31,
   "metadata": {
    "ExecuteTime": {
     "end_time": "2021-03-05T00:48:57.639609Z",
     "start_time": "2021-03-05T00:48:57.634622Z"
    }
   },
   "outputs": [
    {
     "data": {
      "text/plain": [
       "23"
      ]
     },
     "execution_count": 31,
     "metadata": {},
     "output_type": "execute_result"
    }
   ],
   "source": [
    "a[2,3]"
   ]
  },
  {
   "cell_type": "code",
   "execution_count": 32,
   "metadata": {
    "ExecuteTime": {
     "end_time": "2021-03-05T00:48:57.995212Z",
     "start_time": "2021-03-05T00:48:57.990226Z"
    }
   },
   "outputs": [
    {
     "data": {
      "text/plain": [
       "33"
      ]
     },
     "execution_count": 32,
     "metadata": {},
     "output_type": "execute_result"
    }
   ],
   "source": [
    "a[-2,-1]"
   ]
  },
  {
   "cell_type": "code",
   "execution_count": 33,
   "metadata": {
    "ExecuteTime": {
     "end_time": "2021-03-05T00:48:58.553165Z",
     "start_time": "2021-03-05T00:48:58.545181Z"
    }
   },
   "outputs": [
    {
     "ename": "IndexError",
     "evalue": "index 5 is out of bounds for axis 0 with size 5",
     "output_type": "error",
     "traceback": [
      "\u001b[1;31m---------------------------------------------------------------------------\u001b[0m",
      "\u001b[1;31mIndexError\u001b[0m                                Traceback (most recent call last)",
      "\u001b[1;32m<ipython-input-33-5bc6de321c24>\u001b[0m in \u001b[0;36m<module>\u001b[1;34m\u001b[0m\n\u001b[1;32m----> 1\u001b[1;33m \u001b[0ma\u001b[0m\u001b[1;33m[\u001b[0m\u001b[1;36m5\u001b[0m\u001b[1;33m,\u001b[0m\u001b[1;36m0\u001b[0m\u001b[1;33m]\u001b[0m\u001b[1;31m#벗어난 인덱싱를 인덱싱하면 에러\u001b[0m\u001b[1;33m\u001b[0m\u001b[1;33m\u001b[0m\u001b[0m\n\u001b[0m",
      "\u001b[1;31mIndexError\u001b[0m: index 5 is out of bounds for axis 0 with size 5"
     ]
    }
   ],
   "source": [
    "a[5,0]#벗어난 인덱싱를 인덱싱하면 에러 "
   ]
  },
  {
   "cell_type": "code",
   "execution_count": 41,
   "metadata": {
    "ExecuteTime": {
     "end_time": "2021-03-05T00:51:06.099034Z",
     "start_time": "2021-03-05T00:51:06.095046Z"
    }
   },
   "outputs": [
    {
     "data": {
      "text/plain": [
       "array([ 3, 13, 23, 33, 43], dtype=int8)"
      ]
     },
     "execution_count": 41,
     "metadata": {},
     "output_type": "execute_result"
    }
   ],
   "source": [
    "a[0:10,-1] #마지막 열들만 출력(0행부터 9행까지) 행 0:10까지 ,-1열까지"
   ]
  },
  {
   "cell_type": "code",
   "execution_count": 48,
   "metadata": {
    "ExecuteTime": {
     "end_time": "2021-03-05T00:54:07.433058Z",
     "start_time": "2021-03-05T00:54:07.429057Z"
    }
   },
   "outputs": [
    {
     "data": {
      "text/plain": [
       "array([[ 0,  1],\n",
       "       [10, 11],\n",
       "       [20, 21],\n",
       "       [30, 31]], dtype=int8)"
      ]
     },
     "execution_count": 48,
     "metadata": {},
     "output_type": "execute_result"
    }
   ],
   "source": [
    "a[0:4,0:2]#1~3행,0~1열 #0:4 면 0에서 4앞까지 ~!"
   ]
  },
  {
   "cell_type": "code",
   "execution_count": 49,
   "metadata": {
    "ExecuteTime": {
     "end_time": "2021-03-05T00:55:43.526590Z",
     "start_time": "2021-03-05T00:55:43.520606Z"
    }
   },
   "outputs": [
    {
     "data": {
      "text/plain": [
       "array([[ 0,  1,  2,  3],\n",
       "       [10, 11, 12, 13],\n",
       "       [20, 21, 22, 23],\n",
       "       [30, 31, 32, 33]], dtype=int8)"
      ]
     },
     "execution_count": 49,
     "metadata": {},
     "output_type": "execute_result"
    }
   ],
   "source": [
    "a[1:4,:]#1~3행 모든 열\n",
    "a[1:4,]#1~3행 모든 열\n",
    "a[0:4,...]#1~3행 모든 열 ...:누락된 인덱스의 전체를 의미 "
   ]
  },
  {
   "cell_type": "code",
   "execution_count": 52,
   "metadata": {
    "ExecuteTime": {
     "end_time": "2021-03-05T00:56:56.790071Z",
     "start_time": "2021-03-05T00:56:56.786082Z"
    }
   },
   "outputs": [
    {
     "data": {
      "text/plain": [
       "array([[10, 11, 12, 13],\n",
       "       [20, 21, 22, 23],\n",
       "       [30, 31, 32, 33]], dtype=int8)"
      ]
     },
     "execution_count": 52,
     "metadata": {},
     "output_type": "execute_result"
    }
   ],
   "source": [
    "a[1:4] #1~3행 모든열 (마지막 축(열) 인덱스 생략 가능)"
   ]
  },
  {
   "cell_type": "code",
   "execution_count": 53,
   "metadata": {
    "ExecuteTime": {
     "end_time": "2021-03-05T00:59:07.884192Z",
     "start_time": "2021-03-05T00:59:07.879205Z"
    }
   },
   "outputs": [
    {
     "data": {
      "text/plain": [
       "array([[ 0,  1,  2,  3],\n",
       "       [10, 11, 12, 13],\n",
       "       [20, 21, 22, 23],\n",
       "       [30, 31, 32, 33]], dtype=int8)"
      ]
     },
     "execution_count": 53,
     "metadata": {},
     "output_type": "execute_result"
    }
   ],
   "source": [
    "a[:-1]#모든 행에 마지막 열"
   ]
  },
  {
   "cell_type": "markdown",
   "metadata": {},
   "source": [
    "array([[ 0,  1,  2,  3],\n",
    "       [10, 11, 12, 13],\n",
    "       [20, 21, 22, 23],\n",
    "       [30, 31, 32, 33],\n",
    "       [40, 41, 42, 43]], dtype=int8)"
   ]
  },
  {
   "cell_type": "code",
   "execution_count": 60,
   "metadata": {
    "ExecuteTime": {
     "end_time": "2021-03-05T01:01:31.557698Z",
     "start_time": "2021-03-05T01:01:31.540990Z"
    }
   },
   "outputs": [
    {
     "data": {
      "text/plain": [
       "array([[ 3,  2],\n",
       "       [13, 12],\n",
       "       [23, 22],\n",
       "       [33, 32],\n",
       "       [43, 42]], dtype=int8)"
      ]
     },
     "execution_count": 60,
     "metadata": {},
     "output_type": "execute_result"
    }
   ],
   "source": [
    "a[:,-1:-3:-1]#모든행에 마지막 열, 마지막 전열"
   ]
  },
  {
   "cell_type": "code",
   "execution_count": 80,
   "metadata": {
    "ExecuteTime": {
     "end_time": "2021-03-05T01:14:46.576098Z",
     "start_time": "2021-03-05T01:14:46.570142Z"
    }
   },
   "outputs": [
    {
     "data": {
      "text/plain": [
       "array([[ 0,  2],\n",
       "       [10, 12],\n",
       "       [20, 22],\n",
       "       [30, 32],\n",
       "       [40, 42]], dtype=int8)"
      ]
     },
     "execution_count": 80,
     "metadata": {},
     "output_type": "execute_result"
    }
   ],
   "source": [
    "a[...,0:5:2]"
   ]
  },
  {
   "cell_type": "code",
   "execution_count": 64,
   "metadata": {
    "ExecuteTime": {
     "end_time": "2021-03-05T01:02:42.605174Z",
     "start_time": "2021-03-05T01:02:42.600187Z"
    }
   },
   "outputs": [
    {
     "data": {
      "text/plain": [
       "array([[[ 0,  1,  2,  3],\n",
       "        [ 4,  5,  6,  7],\n",
       "        [ 8,  9, 10, 11]],\n",
       "\n",
       "       [[12, 13, 14, 15],\n",
       "        [16, 17, 18, 19],\n",
       "        [20, 21, 22, 23]]])"
      ]
     },
     "execution_count": 64,
     "metadata": {},
     "output_type": "execute_result"
    }
   ],
   "source": [
    "b=np.arange(24).reshape(2,3,4) #0~23까지 2면 3행 4열\n",
    "b"
   ]
  },
  {
   "cell_type": "code",
   "execution_count": 65,
   "metadata": {
    "ExecuteTime": {
     "end_time": "2021-03-05T01:03:03.700885Z",
     "start_time": "2021-03-05T01:03:03.695911Z"
    }
   },
   "outputs": [
    {
     "data": {
      "text/plain": [
       "12"
      ]
     },
     "execution_count": 65,
     "metadata": {},
     "output_type": "execute_result"
    }
   ],
   "source": [
    "b[1,0,0]"
   ]
  },
  {
   "cell_type": "code",
   "execution_count": 68,
   "metadata": {
    "ExecuteTime": {
     "end_time": "2021-03-05T01:03:54.688724Z",
     "start_time": "2021-03-05T01:03:54.673105Z"
    }
   },
   "outputs": [],
   "source": [
    "# 1면 모두 출력 "
   ]
  },
  {
   "cell_type": "code",
   "execution_count": 70,
   "metadata": {
    "ExecuteTime": {
     "end_time": "2021-03-05T01:04:49.018097Z",
     "start_time": "2021-03-05T01:04:49.013109Z"
    }
   },
   "outputs": [
    {
     "data": {
      "text/plain": [
       "array([[12, 13, 14, 15],\n",
       "       [16, 17, 18, 19],\n",
       "       [20, 21, 22, 23]])"
      ]
     },
     "execution_count": 70,
     "metadata": {},
     "output_type": "execute_result"
    }
   ],
   "source": [
    "b[1,:,:]"
   ]
  },
  {
   "cell_type": "code",
   "execution_count": 71,
   "metadata": {
    "ExecuteTime": {
     "end_time": "2021-03-05T01:05:35.575995Z",
     "start_time": "2021-03-05T01:05:35.572005Z"
    }
   },
   "outputs": [
    {
     "data": {
      "text/plain": [
       "array([[12, 13, 14, 15],\n",
       "       [16, 17, 18, 19],\n",
       "       [20, 21, 22, 23]])"
      ]
     },
     "execution_count": 71,
     "metadata": {},
     "output_type": "execute_result"
    }
   ],
   "source": [
    "b[1] # 첫번쨰 축만 쓸 경우"
   ]
  },
  {
   "cell_type": "code",
   "execution_count": 67,
   "metadata": {
    "ExecuteTime": {
     "end_time": "2021-03-05T01:03:53.005738Z",
     "start_time": "2021-03-05T01:03:53.001744Z"
    }
   },
   "outputs": [],
   "source": [
    "# 1행들 모두 출력"
   ]
  },
  {
   "cell_type": "code",
   "execution_count": 72,
   "metadata": {
    "ExecuteTime": {
     "end_time": "2021-03-05T01:06:33.711851Z",
     "start_time": "2021-03-05T01:06:33.706890Z"
    }
   },
   "outputs": [
    {
     "data": {
      "text/plain": [
       "array([[ 4,  5,  6,  7],\n",
       "       [16, 17, 18, 19]])"
      ]
     },
     "execution_count": 72,
     "metadata": {},
     "output_type": "execute_result"
    }
   ],
   "source": [
    "b[:,1,:]"
   ]
  },
  {
   "cell_type": "code",
   "execution_count": 73,
   "metadata": {
    "ExecuteTime": {
     "end_time": "2021-03-05T01:07:28.180662Z",
     "start_time": "2021-03-05T01:07:28.176673Z"
    }
   },
   "outputs": [
    {
     "data": {
      "text/plain": [
       "array([[ 4,  5,  6,  7],\n",
       "       [16, 17, 18, 19]])"
      ]
     },
     "execution_count": 73,
     "metadata": {},
     "output_type": "execute_result"
    }
   ],
   "source": [
    "b[:,1,...]"
   ]
  },
  {
   "cell_type": "code",
   "execution_count": 69,
   "metadata": {
    "ExecuteTime": {
     "end_time": "2021-03-05T01:04:23.856234Z",
     "start_time": "2021-03-05T01:04:23.853242Z"
    }
   },
   "outputs": [],
   "source": [
    "# 1열들 모두 출력"
   ]
  },
  {
   "cell_type": "code",
   "execution_count": 74,
   "metadata": {
    "ExecuteTime": {
     "end_time": "2021-03-05T01:08:12.603659Z",
     "start_time": "2021-03-05T01:08:12.600661Z"
    }
   },
   "outputs": [
    {
     "data": {
      "text/plain": [
       "array([[ 1,  5,  9],\n",
       "       [13, 17, 21]])"
      ]
     },
     "execution_count": 74,
     "metadata": {},
     "output_type": "execute_result"
    }
   ],
   "source": [
    "b[:,:,1]"
   ]
  },
  {
   "cell_type": "code",
   "execution_count": 75,
   "metadata": {
    "ExecuteTime": {
     "end_time": "2021-03-05T01:08:56.635817Z",
     "start_time": "2021-03-05T01:08:56.630859Z"
    }
   },
   "outputs": [
    {
     "data": {
      "text/plain": [
       "array([[ 1,  5,  9],\n",
       "       [13, 17, 21]])"
      ]
     },
     "execution_count": 75,
     "metadata": {},
     "output_type": "execute_result"
    }
   ],
   "source": [
    "b[...,1]"
   ]
  },
  {
   "cell_type": "code",
   "execution_count": 77,
   "metadata": {
    "ExecuteTime": {
     "end_time": "2021-03-05T01:12:23.117445Z",
     "start_time": "2021-03-05T01:12:23.111461Z"
    }
   },
   "outputs": [
    {
     "name": "stdout",
     "output_type": "stream",
     "text": [
      "0면0행0열:0=t0면0행1열:1=t0면0행2열:2=t0면0행3열:3=t\n",
      "0면1행0열:4=t0면1행1열:5=t0면1행2열:6=t0면1행3열:7=t\n",
      "0면2행0열:8=t0면2행1열:9=t0면2행2열:10=t0면2행3열:11=t\n",
      "1면0행0열:12=t1면0행1열:13=t1면0행2열:14=t1면0행3열:15=t\n",
      "1면1행0열:16=t1면1행1열:17=t1면1행2열:18=t1면1행3열:19=t\n",
      "1면2행0열:20=t1면2행1열:21=t1면2행2열:22=t1면2행3열:23=t\n"
     ]
    }
   ],
   "source": [
    "for i,data in enumerate(b):#i 는 면\n",
    "    for j, row in enumerate(data): #j는 행\n",
    "        for k , item in enumerate(row): # k는 열이고 item은 요소하나하나\n",
    "            print(\"{}면{}행{}열:{}\".format(i,j,k,item),end='=t')\n",
    "        print()"
   ]
  },
  {
   "cell_type": "code",
   "execution_count": 87,
   "metadata": {
    "ExecuteTime": {
     "end_time": "2021-03-05T01:17:28.322924Z",
     "start_time": "2021-03-05T01:17:28.317957Z"
    }
   },
   "outputs": [
    {
     "name": "stdout",
     "output_type": "stream",
     "text": [
      "[0, 1, 2, 3, 4, 5, 6, 7, 8, 9, 10, 11, 12, 13, 14, 15, 16, 17, 18, 19, 20, 21, 22, 23]\n",
      "--------------------------------------------------------------------------------\n",
      "0 1 2 3 4 5 6 7 8 9 10 11 12 13 14 15 16 17 18 19 20 21 22 23 "
     ]
    }
   ],
   "source": [
    "print(list(b.flat))\n",
    "print('-'*80)\n",
    "for item in b.flat:\n",
    "    print(item,end=' ')"
   ]
  },
  {
   "cell_type": "code",
   "execution_count": 88,
   "metadata": {
    "ExecuteTime": {
     "end_time": "2021-03-05T01:17:46.897425Z",
     "start_time": "2021-03-05T01:17:46.828634Z"
    }
   },
   "outputs": [],
   "source": [
    "b.flat??"
   ]
  },
  {
   "cell_type": "markdown",
   "metadata": {},
   "source": [
    "## 3.2 두 배열을 쌓아 합치기\n",
    "\n",
    "- vstack(tup) : 아래에 추가하는 방식으로 합침\n",
    "- hstack(tup) : 옆으로 추가하는 방식으로 합침\n",
    "- dstack() : 마지막 축(열)을 쌓아 합침. 0열들끼리 쌓고, 1열끼리 쌓고"
   ]
  },
  {
   "cell_type": "code",
   "execution_count": 90,
   "metadata": {
    "ExecuteTime": {
     "end_time": "2021-03-05T01:34:28.498189Z",
     "start_time": "2021-03-05T01:34:28.493201Z"
    }
   },
   "outputs": [
    {
     "data": {
      "text/plain": [
       "array([[[ 0,  1,  2,  3],\n",
       "        [ 4,  5,  6,  7],\n",
       "        [ 8,  9, 10, 11]],\n",
       "\n",
       "       [[12, 13, 14, 15],\n",
       "        [16, 17, 18, 19],\n",
       "        [20, 21, 22, 23]]])"
      ]
     },
     "execution_count": 90,
     "metadata": {},
     "output_type": "execute_result"
    }
   ],
   "source": [
    "c =np.arange(24).reshape(2,3,4)\n",
    "c"
   ]
  },
  {
   "cell_type": "code",
   "execution_count": 91,
   "metadata": {
    "ExecuteTime": {
     "end_time": "2021-03-05T01:35:04.571353Z",
     "start_time": "2021-03-05T01:35:04.555730Z"
    }
   },
   "outputs": [],
   "source": [
    "a, b =c[0],c[1]"
   ]
  },
  {
   "cell_type": "code",
   "execution_count": 92,
   "metadata": {
    "ExecuteTime": {
     "end_time": "2021-03-05T01:35:05.959552Z",
     "start_time": "2021-03-05T01:35:05.954565Z"
    }
   },
   "outputs": [
    {
     "data": {
      "text/plain": [
       "array([[ 0,  1,  2,  3],\n",
       "       [ 4,  5,  6,  7],\n",
       "       [ 8,  9, 10, 11]])"
      ]
     },
     "execution_count": 92,
     "metadata": {},
     "output_type": "execute_result"
    }
   ],
   "source": []
  },
  {
   "cell_type": "code",
   "execution_count": 93,
   "metadata": {
    "ExecuteTime": {
     "end_time": "2021-03-05T01:35:16.004702Z",
     "start_time": "2021-03-05T01:35:15.999715Z"
    }
   },
   "outputs": [
    {
     "data": {
      "text/plain": [
       "array([[12, 13, 14, 15],\n",
       "       [16, 17, 18, 19],\n",
       "       [20, 21, 22, 23]])"
      ]
     },
     "execution_count": 93,
     "metadata": {},
     "output_type": "execute_result"
    }
   ],
   "source": [
    "b"
   ]
  },
  {
   "cell_type": "code",
   "execution_count": 94,
   "metadata": {
    "ExecuteTime": {
     "end_time": "2021-03-05T01:36:44.837734Z",
     "start_time": "2021-03-05T01:36:44.822112Z"
    }
   },
   "outputs": [
    {
     "data": {
      "text/plain": [
       "array([[ 0,  1,  2,  3],\n",
       "       [ 4,  5,  6,  7],\n",
       "       [ 8,  9, 10, 11],\n",
       "       [12, 13, 14, 15],\n",
       "       [16, 17, 18, 19],\n",
       "       [20, 21, 22, 23]])"
      ]
     },
     "execution_count": 94,
     "metadata": {},
     "output_type": "execute_result"
    }
   ],
   "source": [
    "#수직으로 합치기 \n",
    "np.vstack((a,b)) #반드시 매개변수에 튜플이  들어가야함"
   ]
  },
  {
   "cell_type": "code",
   "execution_count": 95,
   "metadata": {
    "ExecuteTime": {
     "end_time": "2021-03-05T01:37:30.288001Z",
     "start_time": "2021-03-05T01:37:30.277166Z"
    }
   },
   "outputs": [
    {
     "data": {
      "text/plain": [
       "array([[ 0,  1,  2,  3, 12, 13, 14, 15],\n",
       "       [ 4,  5,  6,  7, 16, 17, 18, 19],\n",
       "       [ 8,  9, 10, 11, 20, 21, 22, 23]])"
      ]
     },
     "execution_count": 95,
     "metadata": {},
     "output_type": "execute_result"
    }
   ],
   "source": [
    "np.hstack((a,b))# 수평(열)으로 합치기"
   ]
  },
  {
   "cell_type": "code",
   "execution_count": 98,
   "metadata": {
    "ExecuteTime": {
     "end_time": "2021-03-05T01:38:58.006731Z",
     "start_time": "2021-03-05T01:38:58.002775Z"
    }
   },
   "outputs": [
    {
     "data": {
      "text/plain": [
       "array([[[ 0, 12],\n",
       "        [ 1, 13],\n",
       "        [ 2, 14],\n",
       "        [ 3, 15]],\n",
       "\n",
       "       [[ 4, 16],\n",
       "        [ 5, 17],\n",
       "        [ 6, 18],\n",
       "        [ 7, 19]],\n",
       "\n",
       "       [[ 8, 20],\n",
       "        [ 9, 21],\n",
       "        [10, 22],\n",
       "        [11, 23]]])"
      ]
     },
     "execution_count": 98,
     "metadata": {},
     "output_type": "execute_result"
    }
   ],
   "source": [
    "np.dstack((a,b)) #0열끼리 0면에, 1열끼리 1면, 2열까지 2면"
   ]
  },
  {
   "cell_type": "markdown",
   "metadata": {
    "ExecuteTime": {
     "end_time": "2021-03-05T01:38:33.687283Z",
     "start_time": "2021-03-05T01:38:33.682317Z"
    }
   },
   "source": [
    "**-column_stack((튜플형태로 들어가야함)) : 1차원 배열을 열단위로 배열하여 2차원 배열로 만듦**"
   ]
  },
  {
   "cell_type": "code",
   "execution_count": 104,
   "metadata": {
    "ExecuteTime": {
     "end_time": "2021-03-05T01:43:14.323554Z",
     "start_time": "2021-03-05T01:43:14.317558Z"
    }
   },
   "outputs": [
    {
     "data": {
      "text/plain": [
       "array([[ 1,  5,  9],\n",
       "       [ 2,  6, 10],\n",
       "       [ 3,  7, 11],\n",
       "       [ 4,  8, 12]])"
      ]
     },
     "execution_count": 104,
     "metadata": {},
     "output_type": "execute_result"
    }
   ],
   "source": [
    "a= np.array([1,2,3,4])\n",
    "b= np.array([5,6,7,8])\n",
    "c= np.array([9,10,11,12])\n",
    "np.column_stack((a,b,c)) #차원 배열을 열단위로 2차원배열로"
   ]
  },
  {
   "cell_type": "code",
   "execution_count": 105,
   "metadata": {
    "ExecuteTime": {
     "end_time": "2021-03-05T01:44:05.141328Z",
     "start_time": "2021-03-05T01:44:05.136342Z"
    }
   },
   "outputs": [
    {
     "data": {
      "text/plain": [
       "array([[1, 2, 3, 4],\n",
       "       [5, 6, 7, 8]])"
      ]
     },
     "execution_count": 105,
     "metadata": {},
     "output_type": "execute_result"
    }
   ],
   "source": [
    "np.vstack((a,b))#행합치기"
   ]
  },
  {
   "cell_type": "code",
   "execution_count": 108,
   "metadata": {
    "ExecuteTime": {
     "end_time": "2021-03-05T01:45:18.835553Z",
     "start_time": "2021-03-05T01:45:18.831564Z"
    }
   },
   "outputs": [
    {
     "data": {
      "text/plain": [
       "array([ 1,  2,  3,  4,  5,  6,  7,  8,  9, 10, 11, 12])"
      ]
     },
     "execution_count": 108,
     "metadata": {},
     "output_type": "execute_result"
    }
   ],
   "source": [
    "np.hstack((a,b,c))#열합치기"
   ]
  },
  {
   "cell_type": "code",
   "execution_count": 109,
   "metadata": {
    "ExecuteTime": {
     "end_time": "2021-03-05T01:45:59.298718Z",
     "start_time": "2021-03-05T01:45:59.293752Z"
    }
   },
   "outputs": [
    {
     "data": {
      "text/plain": [
       "array([1, 2, 3, 4])"
      ]
     },
     "execution_count": 109,
     "metadata": {},
     "output_type": "execute_result"
    }
   ],
   "source": [
    "a"
   ]
  },
  {
   "cell_type": "code",
   "execution_count": 115,
   "metadata": {
    "ExecuteTime": {
     "end_time": "2021-03-05T01:48:12.795880Z",
     "start_time": "2021-03-05T01:48:12.789895Z"
    }
   },
   "outputs": [
    {
     "data": {
      "text/plain": [
       "array([[ 1,  5,  9],\n",
       "       [ 2,  6, 10],\n",
       "       [ 3,  7, 11],\n",
       "       [ 4,  8, 12]])"
      ]
     },
     "execution_count": 115,
     "metadata": {},
     "output_type": "execute_result"
    }
   ],
   "source": [
    "np.hstack((a[:,np.newaxis],b[:,np.newaxis],c[:,np.newaxis])) # ==np.column_stack((a,b,c)) 같은결과입니다"
   ]
  },
  {
   "cell_type": "markdown",
   "metadata": {},
   "source": [
    "** - row_stack(tup) ; vstack()과 같음. 행단위로 쌓아줌 **"
   ]
  },
  {
   "cell_type": "code",
   "execution_count": 116,
   "metadata": {
    "ExecuteTime": {
     "end_time": "2021-03-05T01:50:50.867859Z",
     "start_time": "2021-03-05T01:50:50.862872Z"
    }
   },
   "outputs": [
    {
     "data": {
      "text/plain": [
       "array([[ 1,  2,  3,  4],\n",
       "       [ 5,  6,  7,  8],\n",
       "       [ 9, 10, 11, 12]])"
      ]
     },
     "execution_count": 116,
     "metadata": {},
     "output_type": "execute_result"
    }
   ],
   "source": [
    "np.row_stack((a,b,c))"
   ]
  },
  {
   "cell_type": "code",
   "execution_count": 117,
   "metadata": {
    "ExecuteTime": {
     "end_time": "2021-03-05T01:51:11.400314Z",
     "start_time": "2021-03-05T01:51:11.395353Z"
    }
   },
   "outputs": [
    {
     "data": {
      "text/plain": [
       "array([[ 1,  2,  3,  4],\n",
       "       [ 5,  6,  7,  8],\n",
       "       [ 9, 10, 11, 12]])"
      ]
     },
     "execution_count": 117,
     "metadata": {},
     "output_type": "execute_result"
    }
   ],
   "source": [
    "np.vstack((a,b,c))"
   ]
  },
  {
   "cell_type": "markdown",
   "metadata": {},
   "source": [
    "**-stack(ary_tup,axis=0) ; axis속서에 따라 넘파이 배열을 합침 \n",
    "  \n",
    "    *ary_tup(array tup):합칙 배열의 모음\n",
    "    *axis=0; 첫번쨰 차원, axis=-1이면 마지막 차원이 됨 "
   ]
  },
  {
   "cell_type": "code",
   "execution_count": 122,
   "metadata": {
    "ExecuteTime": {
     "end_time": "2021-03-05T01:56:12.167836Z",
     "start_time": "2021-03-05T01:56:12.162869Z"
    }
   },
   "outputs": [
    {
     "data": {
      "text/plain": [
       "array([[ 0,  1,  2,  3],\n",
       "       [ 4,  5,  6,  7],\n",
       "       [ 8,  9, 10, 11]])"
      ]
     },
     "execution_count": 122,
     "metadata": {},
     "output_type": "execute_result"
    }
   ],
   "source": [
    "a=np.arange(12).reshape(3,4)\n",
    "a"
   ]
  },
  {
   "cell_type": "code",
   "execution_count": 123,
   "metadata": {
    "ExecuteTime": {
     "end_time": "2021-03-05T01:56:34.056144Z",
     "start_time": "2021-03-05T01:56:34.051237Z"
    }
   },
   "outputs": [
    {
     "data": {
      "text/plain": [
       "array([[12, 13, 14, 15],\n",
       "       [16, 17, 18, 19],\n",
       "       [20, 21, 22, 23]])"
      ]
     },
     "execution_count": 123,
     "metadata": {},
     "output_type": "execute_result"
    }
   ],
   "source": [
    "b=np.arange(12,24).reshape(3,4)\n",
    "b"
   ]
  },
  {
   "cell_type": "code",
   "execution_count": 124,
   "metadata": {
    "ExecuteTime": {
     "end_time": "2021-03-05T01:57:29.947786Z",
     "start_time": "2021-03-05T01:57:29.943825Z"
    }
   },
   "outputs": [
    {
     "data": {
      "text/plain": [
       "array([[[ 0,  1,  2,  3],\n",
       "        [ 4,  5,  6,  7],\n",
       "        [ 8,  9, 10, 11]],\n",
       "\n",
       "       [[12, 13, 14, 15],\n",
       "        [16, 17, 18, 19],\n",
       "        [20, 21, 22, 23]]])"
      ]
     },
     "execution_count": 124,
     "metadata": {},
     "output_type": "execute_result"
    }
   ],
   "source": [
    "np.stack((a,b),axis=0) #a,b를 차원이 다르게 합침 "
   ]
  },
  {
   "cell_type": "code",
   "execution_count": null,
   "metadata": {},
   "outputs": [],
   "source": [
    "np.stack()"
   ]
  },
  {
   "cell_type": "code",
   "execution_count": 125,
   "metadata": {
    "ExecuteTime": {
     "end_time": "2021-03-05T01:59:21.238836Z",
     "start_time": "2021-03-05T01:59:21.234842Z"
    }
   },
   "outputs": [
    {
     "data": {
      "text/plain": [
       "array([[[ 0,  1,  2,  3],\n",
       "        [12, 13, 14, 15]],\n",
       "\n",
       "       [[ 4,  5,  6,  7],\n",
       "        [16, 17, 18, 19]],\n",
       "\n",
       "       [[ 8,  9, 10, 11],\n",
       "        [20, 21, 22, 23]]])"
      ]
     },
     "execution_count": 125,
     "metadata": {},
     "output_type": "execute_result"
    }
   ],
   "source": [
    "np.stack((a,b),axis=1) #행끼리 합침 "
   ]
  },
  {
   "cell_type": "code",
   "execution_count": 127,
   "metadata": {
    "ExecuteTime": {
     "end_time": "2021-03-05T02:00:03.027997Z",
     "start_time": "2021-03-05T02:00:03.023992Z"
    }
   },
   "outputs": [
    {
     "data": {
      "text/plain": [
       "array([[[ 0, 12],\n",
       "        [ 1, 13],\n",
       "        [ 2, 14],\n",
       "        [ 3, 15]],\n",
       "\n",
       "       [[ 4, 16],\n",
       "        [ 5, 17],\n",
       "        [ 6, 18],\n",
       "        [ 7, 19]],\n",
       "\n",
       "       [[ 8, 20],\n",
       "        [ 9, 21],\n",
       "        [10, 22],\n",
       "        [11, 23]]])"
      ]
     },
     "execution_count": 127,
     "metadata": {},
     "output_type": "execute_result"
    }
   ],
   "source": [
    "np.stack((a,b),axis=2) #행들을 열끼리 합침 "
   ]
  },
  {
   "cell_type": "code",
   "execution_count": 129,
   "metadata": {
    "ExecuteTime": {
     "end_time": "2021-03-05T02:01:19.015514Z",
     "start_time": "2021-03-05T02:01:19.010554Z"
    }
   },
   "outputs": [
    {
     "data": {
      "text/plain": [
       "array([[[ 0, 12],\n",
       "        [ 1, 13],\n",
       "        [ 2, 14],\n",
       "        [ 3, 15]],\n",
       "\n",
       "       [[ 4, 16],\n",
       "        [ 5, 17],\n",
       "        [ 6, 18],\n",
       "        [ 7, 19]],\n",
       "\n",
       "       [[ 8, 20],\n",
       "        [ 9, 21],\n",
       "        [10, 22],\n",
       "        [11, 23]]])"
      ]
     },
     "execution_count": 129,
     "metadata": {},
     "output_type": "execute_result"
    }
   ],
   "source": [
    "np.stack((a,b),axis=-1) #마지막 차원으로 합침"
   ]
  },
  {
   "cell_type": "markdown",
   "metadata": {},
   "source": [
    "## 3.3 r_,c_"
   ]
  },
  {
   "cell_type": "code",
   "execution_count": 130,
   "metadata": {
    "ExecuteTime": {
     "end_time": "2021-03-05T02:03:20.866092Z",
     "start_time": "2021-03-05T02:03:20.863121Z"
    }
   },
   "outputs": [],
   "source": [
    "a = np.array([1,2,3,4])\n",
    "b = np.array([5,6,7,8])\n",
    "c = np.array([9,10,11,12])"
   ]
  },
  {
   "cell_type": "code",
   "execution_count": 131,
   "metadata": {
    "ExecuteTime": {
     "end_time": "2021-03-05T02:03:40.520728Z",
     "start_time": "2021-03-05T02:03:40.515743Z"
    }
   },
   "outputs": [
    {
     "data": {
      "text/plain": [
       "array([ 1,  2,  3,  4,  5,  6,  7,  8,  9, 10, 11, 12])"
      ]
     },
     "execution_count": 131,
     "metadata": {},
     "output_type": "execute_result"
    }
   ],
   "source": [
    "np.r_[a,b,c]"
   ]
  },
  {
   "cell_type": "code",
   "execution_count": 132,
   "metadata": {
    "ExecuteTime": {
     "end_time": "2021-03-05T02:03:59.847735Z",
     "start_time": "2021-03-05T02:03:59.842769Z"
    }
   },
   "outputs": [
    {
     "data": {
      "text/plain": [
       "array([[ 1,  5,  9],\n",
       "       [ 2,  6, 10],\n",
       "       [ 3,  7, 11],\n",
       "       [ 4,  8, 12]])"
      ]
     },
     "execution_count": 132,
     "metadata": {},
     "output_type": "execute_result"
    }
   ],
   "source": [
    "np.c_[a,b,c]"
   ]
  },
  {
   "cell_type": "code",
   "execution_count": 134,
   "metadata": {
    "ExecuteTime": {
     "end_time": "2021-03-05T02:05:01.504266Z",
     "start_time": "2021-03-05T02:05:01.499279Z"
    }
   },
   "outputs": [
    {
     "data": {
      "text/plain": [
       "array([[ 1,  2,  3,  4],\n",
       "       [ 5,  6,  7,  8],\n",
       "       [ 9, 10, 11, 12]])"
      ]
     },
     "execution_count": 134,
     "metadata": {},
     "output_type": "execute_result"
    }
   ],
   "source": [
    "np.r_[[a],[b],[c]]"
   ]
  },
  {
   "cell_type": "code",
   "execution_count": 133,
   "metadata": {
    "ExecuteTime": {
     "end_time": "2021-03-05T02:04:56.999530Z",
     "start_time": "2021-03-05T02:04:56.994544Z"
    }
   },
   "outputs": [
    {
     "data": {
      "text/plain": [
       "[array([1, 2, 3, 4])]"
      ]
     },
     "execution_count": 133,
     "metadata": {},
     "output_type": "execute_result"
    }
   ],
   "source": [
    "[a]"
   ]
  },
  {
   "cell_type": "markdown",
   "metadata": {},
   "source": [
    "## 3.4 하나의 배열을 여러 개 작은 배열로 분할하기\n",
    "*0번축 면 1번쨰축 행 2번쨰축 열 (3차원일경우)\n",
    "*0번축 행 1번째축 열 (2차원일 경우 )\n",
    "**- hsplit(ary,indices_or_sections) ; 두번쨰 축(2차원의 경우 세로축)을 따라 분할 **\n",
    "\n",
    "**- vsplit(ary,indices_or_sections) ; 첫번쨰 축 (2차원의 경우 가로축)을 따라 분할 **\n",
    "\n",
    "**- dsplit(ary,indices_or_sections) ; 3번쨰 차원을 나눔**\n",
    "\n",
    "    *ary: 분할할 배열\n",
    "    *indices_or_sections : 정수 또는 1차원 배열 형식 -> 분할할 배열의 수,\n",
    "                            [2,5,7]분할되어질 인덱스를 의미"
   ]
  },
  {
   "cell_type": "code",
   "execution_count": 135,
   "metadata": {
    "ExecuteTime": {
     "end_time": "2021-03-05T02:13:07.567958Z",
     "start_time": "2021-03-05T02:13:07.562971Z"
    }
   },
   "outputs": [
    {
     "data": {
      "text/plain": [
       "array([[ 0,  1,  2,  3],\n",
       "       [ 4,  5,  6,  7],\n",
       "       [ 8,  9, 10, 11]])"
      ]
     },
     "execution_count": 135,
     "metadata": {},
     "output_type": "execute_result"
    }
   ],
   "source": [
    "a = np.arange(12).reshape(3,4)\n",
    "a"
   ]
  },
  {
   "cell_type": "code",
   "execution_count": 139,
   "metadata": {
    "ExecuteTime": {
     "end_time": "2021-03-05T02:15:01.431098Z",
     "start_time": "2021-03-05T02:15:01.426112Z"
    }
   },
   "outputs": [
    {
     "data": {
      "text/plain": [
       "[array([[0, 1, 2, 3]]), array([[4, 5, 6, 7]]), array([[ 8,  9, 10, 11]])]"
      ]
     },
     "execution_count": 139,
     "metadata": {},
     "output_type": "execute_result"
    }
   ],
   "source": [
    "a_vsplit=np.vsplit(a,3) #행단위 즉 가로축을 따라 3개의 배열로 분한\n",
    "a_vsplit"
   ]
  },
  {
   "cell_type": "code",
   "execution_count": 140,
   "metadata": {
    "ExecuteTime": {
     "end_time": "2021-03-05T02:15:06.285620Z",
     "start_time": "2021-03-05T02:15:06.281650Z"
    }
   },
   "outputs": [
    {
     "data": {
      "text/plain": [
       "list"
      ]
     },
     "execution_count": 140,
     "metadata": {},
     "output_type": "execute_result"
    }
   ],
   "source": [
    "type(a_vsplit)"
   ]
  },
  {
   "cell_type": "code",
   "execution_count": 141,
   "metadata": {
    "ExecuteTime": {
     "end_time": "2021-03-05T02:15:13.950820Z",
     "start_time": "2021-03-05T02:15:13.946830Z"
    }
   },
   "outputs": [
    {
     "data": {
      "text/plain": [
       "array([[0, 1, 2, 3]])"
      ]
     },
     "execution_count": 141,
     "metadata": {},
     "output_type": "execute_result"
    }
   ],
   "source": [
    "a_vsplit[0] #V행단위"
   ]
  },
  {
   "cell_type": "code",
   "execution_count": 144,
   "metadata": {
    "ExecuteTime": {
     "end_time": "2021-03-05T02:17:26.850082Z",
     "start_time": "2021-03-05T02:17:26.845117Z"
    }
   },
   "outputs": [
    {
     "data": {
      "text/plain": [
       "[array([[0],\n",
       "        [4],\n",
       "        [8]]),\n",
       " array([[1],\n",
       "        [5],\n",
       "        [9]]),\n",
       " array([[ 2],\n",
       "        [ 6],\n",
       "        [10]]),\n",
       " array([[ 3],\n",
       "        [ 7],\n",
       "        [11]])]"
      ]
     },
     "execution_count": 144,
     "metadata": {},
     "output_type": "execute_result"
    }
   ],
   "source": [
    "a_hsplit=np.hsplit(a,4) #열단위 즉 세로축을 따라 4개의 배열로 분한\n",
    "a_hsplit"
   ]
  },
  {
   "cell_type": "code",
   "execution_count": 146,
   "metadata": {
    "ExecuteTime": {
     "end_time": "2021-03-05T02:17:50.932518Z",
     "start_time": "2021-03-05T02:17:50.928528Z"
    }
   },
   "outputs": [
    {
     "data": {
      "text/plain": [
       "(3, 1)"
      ]
     },
     "execution_count": 146,
     "metadata": {},
     "output_type": "execute_result"
    }
   ],
   "source": [
    "a_hsplit[0].shape"
   ]
  },
  {
   "cell_type": "code",
   "execution_count": 149,
   "metadata": {
    "ExecuteTime": {
     "end_time": "2021-03-05T02:18:19.400829Z",
     "start_time": "2021-03-05T02:18:19.395838Z"
    }
   },
   "outputs": [
    {
     "data": {
      "text/plain": [
       "array([[[ 0,  1,  2,  3],\n",
       "        [ 4,  5,  6,  7],\n",
       "        [ 8,  9, 10, 11]],\n",
       "\n",
       "       [[12, 13, 14, 15],\n",
       "        [16, 17, 18, 19],\n",
       "        [20, 21, 22, 23]]])"
      ]
     },
     "execution_count": 149,
     "metadata": {},
     "output_type": "execute_result"
    }
   ],
   "source": [
    "b=np.arange(24).reshape(2,3,4)\n",
    "b"
   ]
  },
  {
   "cell_type": "code",
   "execution_count": 153,
   "metadata": {
    "ExecuteTime": {
     "end_time": "2021-03-05T02:22:19.602970Z",
     "start_time": "2021-03-05T02:22:19.597983Z"
    }
   },
   "outputs": [
    {
     "data": {
      "text/plain": [
       "[array([[[ 0,  1,  2,  3]],\n",
       " \n",
       "        [[12, 13, 14, 15]]]),\n",
       " array([[[ 4,  5,  6,  7]],\n",
       " \n",
       "        [[16, 17, 18, 19]]]),\n",
       " array([[[ 8,  9, 10, 11]],\n",
       " \n",
       "        [[20, 21, 22, 23]]])]"
      ]
     },
     "execution_count": 153,
     "metadata": {},
     "output_type": "execute_result"
    }
   ],
   "source": [
    "b_split=np.hsplit(b,3)#두번쨰축(행)을 이용해서 split\n",
    "b_split                # 3차원배열 b를 3개의 3차원 배열로 split\n"
   ]
  },
  {
   "cell_type": "code",
   "execution_count": 154,
   "metadata": {
    "ExecuteTime": {
     "end_time": "2021-03-05T02:22:34.500341Z",
     "start_time": "2021-03-05T02:22:34.484692Z"
    }
   },
   "outputs": [
    {
     "data": {
      "text/plain": [
       "(2, 1, 4)"
      ]
     },
     "execution_count": 154,
     "metadata": {},
     "output_type": "execute_result"
    }
   ],
   "source": [
    "b_split[0].shape"
   ]
  },
  {
   "cell_type": "code",
   "execution_count": 159,
   "metadata": {
    "ExecuteTime": {
     "end_time": "2021-03-05T02:36:25.477396Z",
     "start_time": "2021-03-05T02:36:25.472435Z"
    }
   },
   "outputs": [
    {
     "data": {
      "text/plain": [
       "[array([[[ 0,  1,  2,  3],\n",
       "         [ 4,  5,  6,  7],\n",
       "         [ 8,  9, 10, 11]]]),\n",
       " array([[[12, 13, 14, 15],\n",
       "         [16, 17, 18, 19],\n",
       "         [20, 21, 22, 23]]])]"
      ]
     },
     "execution_count": 159,
     "metadata": {},
     "output_type": "execute_result"
    }
   ],
   "source": [
    "b_vsplit=np.vsplit(b,2) # 3차원 배열 b를 첫번쨰 축을 기반으로 나눠 2개의 배열로 분할\n",
    "b_vsplit"
   ]
  },
  {
   "cell_type": "code",
   "execution_count": 160,
   "metadata": {
    "ExecuteTime": {
     "end_time": "2021-03-05T02:37:55.419600Z",
     "start_time": "2021-03-05T02:37:55.413620Z"
    }
   },
   "outputs": [
    {
     "data": {
      "text/plain": [
       "(1, 3, 4)"
      ]
     },
     "execution_count": 160,
     "metadata": {},
     "output_type": "execute_result"
    }
   ],
   "source": [
    "b_vsplit[0].shape"
   ]
  },
  {
   "cell_type": "code",
   "execution_count": 169,
   "metadata": {
    "ExecuteTime": {
     "end_time": "2021-03-05T02:46:09.239629Z",
     "start_time": "2021-03-05T02:46:09.235652Z"
    }
   },
   "outputs": [
    {
     "data": {
      "text/plain": [
       "[array([[[ 0,  1],\n",
       "         [ 4,  5],\n",
       "         [ 8,  9]],\n",
       " \n",
       "        [[12, 13],\n",
       "         [16, 17],\n",
       "         [20, 21]]]),\n",
       " array([[[ 2,  3],\n",
       "         [ 6,  7],\n",
       "         [10, 11]],\n",
       " \n",
       "        [[14, 15],\n",
       "         [18, 19],\n",
       "         [22, 23]]])]"
      ]
     },
     "execution_count": 169,
     "metadata": {},
     "output_type": "execute_result"
    }
   ],
   "source": [
    "b_dsplit=np.dsplit(b,2) # 3번쨰 축을 기준으로 2개의 3차워 배열로 나눔 \n",
    "b_dsplit"
   ]
  },
  {
   "cell_type": "code",
   "execution_count": 165,
   "metadata": {
    "ExecuteTime": {
     "end_time": "2021-03-05T02:41:29.848786Z",
     "start_time": "2021-03-05T02:41:29.844818Z"
    }
   },
   "outputs": [
    {
     "data": {
      "text/plain": [
       "(2, 3, 2)"
      ]
     },
     "execution_count": 165,
     "metadata": {},
     "output_type": "execute_result"
    }
   ],
   "source": [
    "b_dsplit[0].shape"
   ]
  },
  {
   "cell_type": "markdown",
   "metadata": {
    "ExecuteTime": {
     "end_time": "2021-03-05T02:43:10.955843Z",
     "start_time": "2021-03-05T02:43:10.951843Z"
    }
   },
   "source": [
    "**- split(ary,indices_or_sections,axis=?)\n",
    "    \n",
    "    *axis=0이면, vsplit()과 동일 행row\n",
    "    *axis=1이면, hsplit()과 동일 열col\n",
    "    *axis=2이면, 3차원 이상에서 동작하며 dsplit()동일 면"
   ]
  },
  {
   "cell_type": "code",
   "execution_count": 167,
   "metadata": {
    "ExecuteTime": {
     "end_time": "2021-03-05T02:45:24.080353Z",
     "start_time": "2021-03-05T02:45:24.074387Z"
    }
   },
   "outputs": [
    {
     "data": {
      "text/plain": [
       "array([[ 0,  1,  2,  3,  4,  5,  6,  7,  8,  9],\n",
       "       [10, 11, 12, 13, 14, 15, 16, 17, 18, 19]])"
      ]
     },
     "execution_count": 167,
     "metadata": {},
     "output_type": "execute_result"
    }
   ],
   "source": [
    "a = np.arange(20).reshape(2,10)\n",
    "a"
   ]
  },
  {
   "cell_type": "code",
   "execution_count": 175,
   "metadata": {
    "ExecuteTime": {
     "end_time": "2021-03-05T02:48:45.187427Z",
     "start_time": "2021-03-05T02:48:45.182442Z"
    }
   },
   "outputs": [
    {
     "data": {
      "text/plain": [
       "[array([[ 0,  1,  2],\n",
       "        [10, 11, 12]]),\n",
       " array([[ 3,  4,  5],\n",
       "        [13, 14, 15]]),\n",
       " array([[ 6,  7,  8,  9],\n",
       "        [16, 17, 18, 19]])]"
      ]
     },
     "execution_count": 175,
     "metadata": {},
     "output_type": "execute_result"
    }
   ],
   "source": [
    "np.split(a,[3,6],axis=1) #[3,6] 나누고자 하는 인덱스 "
   ]
  },
  {
   "cell_type": "code",
   "execution_count": 190,
   "metadata": {
    "ExecuteTime": {
     "end_time": "2021-03-05T03:27:50.676513Z",
     "start_time": "2021-03-05T03:27:50.671527Z"
    }
   },
   "outputs": [
    {
     "data": {
      "text/plain": [
       "[array([[ 0],\n",
       "        [10]]),\n",
       " array([[ 1,  2,  3,  4,  5],\n",
       "        [11, 12, 13, 14, 15]]),\n",
       " array([[ 6,  7,  8,  9],\n",
       "        [16, 17, 18, 19]])]"
      ]
     },
     "execution_count": 190,
     "metadata": {},
     "output_type": "execute_result"
    }
   ],
   "source": [
    "np.hsplit(a,[1,6])"
   ]
  },
  {
   "cell_type": "markdown",
   "metadata": {
    "ExecuteTime": {
     "end_time": "2021-03-05T02:51:34.655807Z",
     "start_time": "2021-03-05T02:51:34.650841Z"
    }
   },
   "source": [
    "# np.vsplit(a,2)"
   ]
  },
  {
   "cell_type": "code",
   "execution_count": 191,
   "metadata": {
    "ExecuteTime": {
     "end_time": "2021-03-05T03:28:31.304716Z",
     "start_time": "2021-03-05T03:28:31.300748Z"
    }
   },
   "outputs": [
    {
     "data": {
      "text/plain": [
       "[array([[0, 1, 2, 3, 4, 5, 6, 7, 8, 9]]),\n",
       " array([[10, 11, 12, 13, 14, 15, 16, 17, 18, 19]])]"
      ]
     },
     "execution_count": 191,
     "metadata": {},
     "output_type": "execute_result"
    }
   ],
   "source": [
    "np.split(a,2,axis=0)"
   ]
  },
  {
   "cell_type": "markdown",
   "metadata": {},
   "source": [
    "**_ array_split(ary,indices_or_sections,axis=?)\n",
    "    \n",
    "    *split() 유일한 차이점은 축을 똑같이 나눌 수 없는 정수도 사용 가능 \n",
    "    *axis=0이면, vsplit()과 동일\n",
    "    *axis=1이면, hsplit()과 동일\n",
    "    *axis=2이면, 3차원 이상에서 동작하며 dsplit()동일"
   ]
  },
  {
   "cell_type": "code",
   "execution_count": 183,
   "metadata": {
    "ExecuteTime": {
     "end_time": "2021-03-05T02:52:43.536803Z",
     "start_time": "2021-03-05T02:52:43.531816Z"
    }
   },
   "outputs": [
    {
     "data": {
      "text/plain": [
       "[array([[ 0,  1,  2,  3],\n",
       "        [10, 11, 12, 13]]),\n",
       " array([[ 4,  5,  6],\n",
       "        [14, 15, 16]]),\n",
       " array([[ 7,  8,  9],\n",
       "        [17, 18, 19]])]"
      ]
     },
     "execution_count": 183,
     "metadata": {},
     "output_type": "execute_result"
    }
   ],
   "source": [
    "np.array_split(a,3,axis=1)"
   ]
  },
  {
   "cell_type": "code",
   "execution_count": 192,
   "metadata": {
    "ExecuteTime": {
     "end_time": "2021-03-05T03:29:36.843757Z",
     "start_time": "2021-03-05T03:29:36.839768Z"
    }
   },
   "outputs": [
    {
     "data": {
      "text/plain": [
       "[array([[0, 1, 2, 3, 4, 5, 6, 7, 8, 9]]),\n",
       " array([[10, 11, 12, 13, 14, 15, 16, 17, 18, 19]])]"
      ]
     },
     "execution_count": 192,
     "metadata": {},
     "output_type": "execute_result"
    }
   ],
   "source": [
    "np.array_split(a,2,axis=0)"
   ]
  }
 ],
 "metadata": {
  "kernelspec": {
   "display_name": "Python 3",
   "language": "python",
   "name": "python3"
  },
  "language_info": {
   "codemirror_mode": {
    "name": "ipython",
    "version": 3
   },
   "file_extension": ".py",
   "mimetype": "text/x-python",
   "name": "python",
   "nbconvert_exporter": "python",
   "pygments_lexer": "ipython3",
   "version": "3.8.5"
  },
  "toc": {
   "base_numbering": 1,
   "nav_menu": {},
   "number_sections": false,
   "sideBar": true,
   "skip_h1_title": false,
   "title_cell": "Table of Contents",
   "title_sidebar": "Contents",
   "toc_cell": false,
   "toc_position": {
    "height": "calc(100% - 180px)",
    "left": "10px",
    "top": "150px",
    "width": "171.463px"
   },
   "toc_section_display": true,
   "toc_window_display": false
  },
  "varInspector": {
   "cols": {
    "lenName": 16,
    "lenType": 16,
    "lenVar": 40
   },
   "kernels_config": {
    "python": {
     "delete_cmd_postfix": "",
     "delete_cmd_prefix": "del ",
     "library": "var_list.py",
     "varRefreshCmd": "print(var_dic_list())"
    },
    "r": {
     "delete_cmd_postfix": ") ",
     "delete_cmd_prefix": "rm(",
     "library": "var_list.r",
     "varRefreshCmd": "cat(var_dic_list()) "
    }
   },
   "types_to_exclude": [
    "module",
    "function",
    "builtin_function_or_method",
    "instance",
    "_Feature"
   ],
   "window_display": false
  }
 },
 "nbformat": 4,
 "nbformat_minor": 4
}
