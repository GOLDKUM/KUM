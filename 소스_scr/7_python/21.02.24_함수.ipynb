{
 "cells": [
  {
   "cell_type": "markdown",
   "metadata": {},
   "source": [
    "**<font size='6' color='red'>ch05. 함수</font>**\n",
    "- 반복해서 사용한 코드를 묶어 놓고 그것에 이름을 붙인 것\n",
    "- 반복해서 사용할 코드는 함수를 이용하면 훨씬 구조적이고 간결한 코드를 작성할 수 있다.\n",
    "- 함수의 정의\n",
    "def 함수명(문자,숫자,_)\n",
    "    def 함수명[para1,para2]"
   ]
  },
  {
   "cell_type": "markdown",
   "metadata": {},
   "source": [
    "# ★ 람다식 ★\n",
    "- 람다식은 작은 익명함수를 의미함\n",
    "- 실행한 문장을 한문장만 작성할 수 있음\n",
    "- return 구분이 없어도 statement결과를 반환함!\n",
    "- 리스트컴프리헨션 같이 참조해서 학습\n",
    "- filter(),map()함수 같이 참조해서 학습"
   ]
  },
  {
   "cell_type": "markdown",
   "metadata": {},
   "source": [
    "## .1 람다식; 한줄짜리 작은 익명함수를 의미 "
   ]
  },
  {
   "cell_type": "code",
   "execution_count": 195,
   "metadata": {
    "ExecuteTime": {
     "end_time": "2021-02-24T05:50:31.726836Z",
     "start_time": "2021-02-24T05:50:31.721874Z"
    }
   },
   "outputs": [
    {
     "data": {
      "text/plain": [
       "11"
      ]
     },
     "execution_count": 195,
     "metadata": {},
     "output_type": "execute_result"
    }
   ],
   "source": [
    "def add(a,b):\n",
    "    return a+b\n",
    "add(5,6)"
   ]
  },
  {
   "cell_type": "code",
   "execution_count": 197,
   "metadata": {
    "ExecuteTime": {
     "end_time": "2021-02-24T05:54:09.588767Z",
     "start_time": "2021-02-24T05:54:09.584778Z"
    }
   },
   "outputs": [],
   "source": [
    "add2 = lambda a,b : a+b"
   ]
  },
  {
   "cell_type": "code",
   "execution_count": 198,
   "metadata": {
    "ExecuteTime": {
     "end_time": "2021-02-24T05:54:13.593863Z",
     "start_time": "2021-02-24T05:54:13.588876Z"
    }
   },
   "outputs": [
    {
     "data": {
      "text/plain": [
       "30"
      ]
     },
     "execution_count": 198,
     "metadata": {},
     "output_type": "execute_result"
    }
   ],
   "source": [
    "add2(10,20)"
   ]
  },
  {
   "cell_type": "code",
   "execution_count": 50,
   "metadata": {
    "ExecuteTime": {
     "end_time": "2021-02-25T01:04:31.369612Z",
     "start_time": "2021-02-25T01:04:31.364626Z"
    }
   },
   "outputs": [
    {
     "data": {
      "text/plain": [
       "70"
      ]
     },
     "execution_count": 50,
     "metadata": {},
     "output_type": "execute_result"
    }
   ],
   "source": [
    "(lambda a,b:a+b)(30,40)"
   ]
  },
  {
   "cell_type": "markdown",
   "metadata": {},
   "source": [
    "## .2함수의 인수에 람다식 사용"
   ]
  },
  {
   "cell_type": "code",
   "execution_count": 200,
   "metadata": {
    "ExecuteTime": {
     "end_time": "2021-02-24T06:02:15.290428Z",
     "start_time": "2021-02-24T06:02:15.286458Z"
    }
   },
   "outputs": [],
   "source": [
    "def map_template(func, L=[]):\n",
    "    result=[]\n",
    "    for item in L:\n",
    "        result.append(func(item))\n",
    "    return result     \n",
    "    "
   ]
  },
  {
   "cell_type": "code",
   "execution_count": 205,
   "metadata": {
    "ExecuteTime": {
     "end_time": "2021-02-24T06:03:22.809734Z",
     "start_time": "2021-02-24T06:03:22.794001Z"
    }
   },
   "outputs": [
    {
     "data": {
      "text/plain": [
       "[2, 4, 6, 8, 10]"
      ]
     },
     "execution_count": 205,
     "metadata": {},
     "output_type": "execute_result"
    }
   ],
   "source": [
    "list_data=[1,2,3,4,5]\n",
    "def x_2(x):\n",
    "    return x*2\n",
    "map_template(x_2,list_data)"
   ]
  },
  {
   "cell_type": "code",
   "execution_count": 206,
   "metadata": {
    "ExecuteTime": {
     "end_time": "2021-02-24T06:05:05.643024Z",
     "start_time": "2021-02-24T06:05:05.638030Z"
    }
   },
   "outputs": [
    {
     "data": {
      "text/plain": [
       "[2, 4, 6, 8, 10]"
      ]
     },
     "execution_count": 206,
     "metadata": {},
     "output_type": "execute_result"
    }
   ],
   "source": [
    "map_template(lambda x:x*2,list_data)"
   ]
  },
  {
   "cell_type": "code",
   "execution_count": 210,
   "metadata": {
    "ExecuteTime": {
     "end_time": "2021-02-24T06:07:31.795323Z",
     "start_time": "2021-02-24T06:07:31.790336Z"
    }
   },
   "outputs": [
    {
     "name": "stdout",
     "output_type": "stream",
     "text": [
      "[2, 4, 6, 8, 10]\n"
     ]
    },
    {
     "data": {
      "text/plain": [
       "<map at 0x1ef963ebfa0>"
      ]
     },
     "execution_count": 210,
     "metadata": {},
     "output_type": "execute_result"
    }
   ],
   "source": [
    "# map()함수 이용\n",
    "print(list(map(lambda x:x*2,list_data)))\n",
    "map(lambda x:x*2,list_data)"
   ]
  },
  {
   "cell_type": "code",
   "execution_count": 211,
   "metadata": {
    "ExecuteTime": {
     "end_time": "2021-02-24T06:07:53.637154Z",
     "start_time": "2021-02-24T06:07:53.633184Z"
    }
   },
   "outputs": [
    {
     "data": {
      "text/plain": [
       "[2, 4, 6, 8, 10]"
      ]
     },
     "execution_count": 211,
     "metadata": {},
     "output_type": "execute_result"
    }
   ],
   "source": [
    "#리스트 컴프리헨션\n",
    "[x*2 for x in list_data]"
   ]
  },
  {
   "cell_type": "code",
   "execution_count": 216,
   "metadata": {
    "ExecuteTime": {
     "end_time": "2021-02-24T06:13:35.574509Z",
     "start_time": "2021-02-24T06:13:35.570545Z"
    }
   },
   "outputs": [],
   "source": [
    "list_data=[1,2,3,4,5]\n",
    "def filter_template(func,L=[]):\n",
    "    result=[]\n",
    "    for item in L:\n",
    "        if func(item):\n",
    "            result.append(item)\n",
    "    return result \n"
   ]
  },
  {
   "cell_type": "code",
   "execution_count": 217,
   "metadata": {
    "ExecuteTime": {
     "end_time": "2021-02-24T06:13:53.424411Z",
     "start_time": "2021-02-24T06:13:53.419418Z"
    }
   },
   "outputs": [
    {
     "data": {
      "text/plain": [
       "[2, 4]"
      ]
     },
     "execution_count": 217,
     "metadata": {},
     "output_type": "execute_result"
    }
   ],
   "source": [
    "def evenyesorno(x):\n",
    "    if x%2==0:\n",
    "        return True\n",
    "    else:\n",
    "        return False\n",
    "filter_template(evenyesorno,list_data)"
   ]
  },
  {
   "cell_type": "code",
   "execution_count": 218,
   "metadata": {
    "ExecuteTime": {
     "end_time": "2021-02-24T06:18:09.972777Z",
     "start_time": "2021-02-24T06:18:09.957129Z"
    }
   },
   "outputs": [
    {
     "data": {
      "text/plain": [
       "[2, 4]"
      ]
     },
     "execution_count": 218,
     "metadata": {},
     "output_type": "execute_result"
    }
   ],
   "source": [
    "filter_template(lambda x: x%2==0,list_data)"
   ]
  },
  {
   "cell_type": "code",
   "execution_count": 220,
   "metadata": {
    "ExecuteTime": {
     "end_time": "2021-02-24T06:19:08.773974Z",
     "start_time": "2021-02-24T06:19:08.768988Z"
    }
   },
   "outputs": [
    {
     "data": {
      "text/plain": [
       "[2, 4]"
      ]
     },
     "execution_count": 220,
     "metadata": {},
     "output_type": "execute_result"
    }
   ],
   "source": [
    "# filter()함수\n",
    "list(filter(lambda x: x%2==0,list_data))"
   ]
  },
  {
   "cell_type": "code",
   "execution_count": 221,
   "metadata": {
    "ExecuteTime": {
     "end_time": "2021-02-24T06:20:46.979774Z",
     "start_time": "2021-02-24T06:20:46.975784Z"
    }
   },
   "outputs": [
    {
     "data": {
      "text/plain": [
       "[2, 4]"
      ]
     },
     "execution_count": 221,
     "metadata": {},
     "output_type": "execute_result"
    }
   ],
   "source": [
    "# 리스트 컴프리헨션\n",
    "[x for x in list_data if x%2==0]"
   ]
  },
  {
   "cell_type": "markdown",
   "metadata": {},
   "source": [
    "**람다식은 함수가 실행할 문장이 한문장일 경무나 사용**<br>\n",
    "\n",
    "**람다식이 가장 많이 사용되는 곳은 함수의 인수로 전달할떄나 return할때**\n"
   ]
  },
  {
   "cell_type": "code",
   "execution_count": 231,
   "metadata": {
    "ExecuteTime": {
     "end_time": "2021-02-24T06:46:46.929801Z",
     "start_time": "2021-02-24T06:46:46.924801Z"
    }
   },
   "outputs": [
    {
     "data": {
      "text/plain": [
       "[(1, 'one'), (2, 'two'), (3, 'three'), (4, 'four')]"
      ]
     },
     "execution_count": 231,
     "metadata": {},
     "output_type": "execute_result"
    }
   ],
   "source": [
    "pairs= [(1,'one'),(3,'three'),(2,'two'),(4,'four')]\n",
    "pairs.sort()\n",
    "pairs"
   ]
  },
  {
   "cell_type": "code",
   "execution_count": 233,
   "metadata": {
    "ExecuteTime": {
     "end_time": "2021-02-24T06:46:53.060708Z",
     "start_time": "2021-02-24T06:46:53.055721Z"
    }
   },
   "outputs": [
    {
     "data": {
      "text/plain": [
       "[(4, 'four'), (1, 'one'), (3, 'three'), (2, 'two')]"
      ]
     },
     "execution_count": 233,
     "metadata": {},
     "output_type": "execute_result"
    }
   ],
   "source": [
    "pairs.sort(key=lambda pair : pair[1])\n",
    "pairs"
   ]
  },
  {
   "cell_type": "code",
   "execution_count": 239,
   "metadata": {
    "ExecuteTime": {
     "end_time": "2021-02-24T06:49:08.751826Z",
     "start_time": "2021-02-24T06:49:08.746866Z"
    }
   },
   "outputs": [
    {
     "data": {
      "text/plain": [
       "1000000"
      ]
     },
     "execution_count": 239,
     "metadata": {},
     "output_type": "execute_result"
    }
   ],
   "source": [
    "def apply(data,func=None):\n",
    "    if func==None:\n",
    "        return data\n",
    "    else:\n",
    "        return func(data)\n",
    "apply(100,lambda x:x**3)"
   ]
  },
  {
   "cell_type": "markdown",
   "metadata": {},
   "source": [
    "## .3리턴문에 람다식 이용"
   ]
  },
  {
   "cell_type": "code",
   "execution_count": null,
   "metadata": {},
   "outputs": [],
   "source": [
    "\"\"\"\n",
    "make_box(5,)=>1차원 5열 list를 만드는 함수 fun => fun(10) => [10,10,10,10,10]\n",
    "make_box((2,3))=> 2차원 2행 3열 list를 만드는 함수 fun=> fun(10) =>\n",
    "                                            [[10,10,10],[10,10,10]]\n",
    "\"\"\""
   ]
  },
  {
   "cell_type": "code",
   "execution_count": 5,
   "metadata": {
    "ExecuteTime": {
     "end_time": "2021-03-08T16:06:14.047606Z",
     "start_time": "2021-03-08T16:06:14.041622Z"
    }
   },
   "outputs": [],
   "source": [
    "def make_box1(shape):\n",
    "    if len(shape)==1:\n",
    "        return lambda x: [x]*shape[0]\n",
    "    elif len(shape)==2:\n",
    "        return lambda x:[[x]*shape[1]]*shape[0]"
   ]
  },
  {
   "cell_type": "code",
   "execution_count": 6,
   "metadata": {
    "ExecuteTime": {
     "end_time": "2021-03-08T16:06:14.627836Z",
     "start_time": "2021-03-08T16:06:14.622850Z"
    }
   },
   "outputs": [
    {
     "data": {
      "text/plain": [
       "[[5, 5], [5, 5], [5, 5]]"
      ]
     },
     "execution_count": 6,
     "metadata": {},
     "output_type": "execute_result"
    }
   ],
   "source": [
    "box1=make_box1((3,2))\n",
    "box1(5)"
   ]
  },
  {
   "cell_type": "code",
   "execution_count": 7,
   "metadata": {
    "ExecuteTime": {
     "end_time": "2021-03-08T16:06:15.359927Z",
     "start_time": "2021-03-08T16:06:15.353947Z"
    }
   },
   "outputs": [
    {
     "data": {
      "text/plain": [
       "[10, 10, 10, 10, 10, 10, 10]"
      ]
     },
     "execution_count": 7,
     "metadata": {},
     "output_type": "execute_result"
    }
   ],
   "source": [
    "box2=make_box1((7,))\n",
    "box2(10)"
   ]
  },
  {
   "cell_type": "code",
   "execution_count": 8,
   "metadata": {
    "ExecuteTime": {
     "end_time": "2021-03-08T16:09:39.532246Z",
     "start_time": "2021-03-08T16:09:39.527259Z"
    }
   },
   "outputs": [],
   "source": [
    "def make_box(shape):\n",
    "    def box(init_value):\n",
    "        if len(shape)==1:\n",
    "            return [init_value] * shape[0]\n",
    "        elif len(shape)==2:\n",
    "            return [ [init_value]*shape[1] ] * shape[0]\n",
    "    return box"
   ]
  },
  {
   "cell_type": "code",
   "execution_count": 9,
   "metadata": {
    "ExecuteTime": {
     "end_time": "2021-03-08T16:09:55.912472Z",
     "start_time": "2021-03-08T16:09:55.906490Z"
    }
   },
   "outputs": [
    {
     "data": {
      "text/plain": [
       "[[10, 10, 10], [10, 10, 10]]"
      ]
     },
     "execution_count": 9,
     "metadata": {},
     "output_type": "execute_result"
    }
   ],
   "source": [
    "box2 = make_box( [2,3] )\n",
    "box2(10)"
   ]
  },
  {
   "cell_type": "markdown",
   "metadata": {},
   "source": [
    "# 1절. 함수의 정의 및 사용 "
   ]
  },
  {
   "cell_type": "code",
   "execution_count": 1,
   "metadata": {
    "ExecuteTime": {
     "end_time": "2021-02-24T00:39:33.490324Z",
     "start_time": "2021-02-24T00:39:33.486334Z"
    }
   },
   "outputs": [],
   "source": [
    "def my_hello():\n",
    "    print('Hello,world')\n",
    "    print('Hello,Python')"
   ]
  },
  {
   "cell_type": "code",
   "execution_count": 2,
   "metadata": {
    "ExecuteTime": {
     "end_time": "2021-02-24T00:40:17.068573Z",
     "start_time": "2021-02-24T00:40:17.059597Z"
    }
   },
   "outputs": [
    {
     "data": {
      "text/plain": [
       "<function __main__.my_hello()>"
      ]
     },
     "execution_count": 2,
     "metadata": {},
     "output_type": "execute_result"
    }
   ],
   "source": [
    "my_hello"
   ]
  },
  {
   "cell_type": "code",
   "execution_count": 3,
   "metadata": {
    "ExecuteTime": {
     "end_time": "2021-02-24T00:40:26.635926Z",
     "start_time": "2021-02-24T00:40:26.631961Z"
    }
   },
   "outputs": [
    {
     "name": "stdout",
     "output_type": "stream",
     "text": [
      "Hello,world\n",
      "Hello,Python\n"
     ]
    }
   ],
   "source": [
    "my_hello()"
   ]
  },
  {
   "cell_type": "code",
   "execution_count": 8,
   "metadata": {
    "ExecuteTime": {
     "end_time": "2021-02-24T00:43:01.905859Z",
     "start_time": "2021-02-24T00:43:01.901895Z"
    }
   },
   "outputs": [
    {
     "name": "stdout",
     "output_type": "stream",
     "text": [
      "Hello,world\n",
      "Hello,Python\n"
     ]
    }
   ],
   "source": [
    "if __name__=='__main__':\n",
    "    my_hello()"
   ]
  },
  {
   "cell_type": "code",
   "execution_count": 20,
   "metadata": {
    "ExecuteTime": {
     "end_time": "2021-02-24T00:48:27.393964Z",
     "start_time": "2021-02-24T00:48:27.387980Z"
    }
   },
   "outputs": [
    {
     "name": "stdout",
     "output_type": "stream",
     "text": [
      "90\n",
      "50\n",
      "20\n"
     ]
    }
   ],
   "source": [
    "#기본 값을 갖는 매개변수는 뒤에 \n",
    "def my_add(num1, num2=0, num3=0):  #which함수 num=3 키워드함수 num1,num2 \n",
    "    return num1+num2+num3\n",
    "print(my_add(20,30,40))\n",
    "print(my_add(20,30))\n",
    "print(my_add(20))"
   ]
  },
  {
   "cell_type": "markdown",
   "metadata": {},
   "source": [
    "## **1.2 docstring**"
   ]
  },
  {
   "cell_type": "code",
   "execution_count": 22,
   "metadata": {
    "ExecuteTime": {
     "end_time": "2021-02-24T00:53:40.637513Z",
     "start_time": "2021-02-24T00:53:40.633523Z"
    }
   },
   "outputs": [],
   "source": [
    "def my_function():\n",
    "    \"\"\"함수의 첫 라인에 독스트링을 포함시킬 수 있다.\n",
    "    독스트링은 함수의 설명서를 달아주는 역할. 주석보다 더 많은 기능\n",
    "    \"\"\"\n",
    "    pass#아무것도 하지 않는 함수"
   ]
  },
  {
   "cell_type": "code",
   "execution_count": 23,
   "metadata": {
    "ExecuteTime": {
     "end_time": "2021-02-24T00:53:50.084295Z",
     "start_time": "2021-02-24T00:53:50.080306Z"
    }
   },
   "outputs": [
    {
     "name": "stdout",
     "output_type": "stream",
     "text": [
      "함수의 첫 라인에 독스트링을 포함시킬 수 있다.\n",
      "    독스트링은 함수의 설명서를 달아주는 역할. 주석보다 더 많은 기능\n",
      "    \n"
     ]
    }
   ],
   "source": [
    "print(my_function.__doc__)"
   ]
  },
  {
   "cell_type": "code",
   "execution_count": 28,
   "metadata": {
    "ExecuteTime": {
     "end_time": "2021-02-24T01:01:40.242430Z",
     "start_time": "2021-02-24T01:01:40.238439Z"
    }
   },
   "outputs": [
    {
     "ename": "SyntaxError",
     "evalue": "invalid syntax (<ipython-input-28-4c0258e849be>, line 11)",
     "output_type": "error",
     "traceback": [
      "\u001b[1;36m  File \u001b[1;32m\"<ipython-input-28-4c0258e849be>\"\u001b[1;36m, line \u001b[1;32m11\u001b[0m\n\u001b[1;33m    if__name__=='__main__':\u001b[0m\n\u001b[1;37m                           ^\u001b[0m\n\u001b[1;31mSyntaxError\u001b[0m\u001b[1;31m:\u001b[0m invalid syntax\n"
     ]
    }
   ],
   "source": [
    "def fibonacci(n):\n",
    "    \"\"\"\n",
    "    매개변수로 들어온 n값 미만까지 피보나치 수열을 출력합니다.\n",
    "    \"\"\"\n",
    "    a,b=0,1\n",
    "    while a<n:\n",
    "        print(a, end=' ')\n",
    "        a, b= b, a+b\n",
    "    print()\n",
    "    \n",
    "#if__name__=='__main__':\n",
    "#    fibonacci(10)"
   ]
  },
  {
   "cell_type": "markdown",
   "metadata": {
    "ExecuteTime": {
     "end_time": "2021-02-24T01:00:08.076007Z",
     "start_time": "2021-02-24T01:00:08.072019Z"
    }
   },
   "source": [
    "## 1.3지역변수와 전역변수"
   ]
  },
  {
   "cell_type": "code",
   "execution_count": 33,
   "metadata": {
    "ExecuteTime": {
     "end_time": "2021-02-24T01:05:04.442875Z",
     "start_time": "2021-02-24T01:05:04.438885Z"
    }
   },
   "outputs": [
    {
     "name": "stdout",
     "output_type": "stream",
     "text": [
      "100\n"
     ]
    }
   ],
   "source": [
    "gobal_var=100 #전역번수\n",
    "def func1():\n",
    "    print(gobal_var)\n",
    "func1()"
   ]
  },
  {
   "cell_type": "code",
   "execution_count": 34,
   "metadata": {
    "ExecuteTime": {
     "end_time": "2021-02-24T01:05:34.277023Z",
     "start_time": "2021-02-24T01:05:34.273058Z"
    }
   },
   "outputs": [
    {
     "name": "stdout",
     "output_type": "stream",
     "text": [
      "200\n"
     ]
    }
   ],
   "source": [
    "def func2(): #지역변수\n",
    "    local_var = 200\n",
    "    print(local_var)\n",
    "func2()"
   ]
  },
  {
   "cell_type": "code",
   "execution_count": 41,
   "metadata": {
    "ExecuteTime": {
     "end_time": "2021-02-24T01:12:41.361661Z",
     "start_time": "2021-02-24T01:12:41.346196Z"
    }
   },
   "outputs": [
    {
     "ename": "UnboundLocalError",
     "evalue": "local variable 'g_var' referenced before assignment",
     "output_type": "error",
     "traceback": [
      "\u001b[1;31m---------------------------------------------------------------------------\u001b[0m",
      "\u001b[1;31mUnboundLocalError\u001b[0m                         Traceback (most recent call last)",
      "\u001b[1;32m<ipython-input-41-0fadb3deb9d3>\u001b[0m in \u001b[0;36m<module>\u001b[1;34m\u001b[0m\n\u001b[0;32m      5\u001b[0m     \u001b[0mg_var\u001b[0m\u001b[1;33m=\u001b[0m\u001b[1;36m200\u001b[0m\u001b[1;31m# 지역변수를 선언하면서 할당\u001b[0m\u001b[1;33m\u001b[0m\u001b[1;33m\u001b[0m\u001b[0m\n\u001b[0;32m      6\u001b[0m     \u001b[0mprint\u001b[0m\u001b[1;33m(\u001b[0m\u001b[1;34m'after'\u001b[0m\u001b[1;33m,\u001b[0m\u001b[0mg_var\u001b[0m\u001b[1;33m)\u001b[0m\u001b[1;33m\u001b[0m\u001b[1;33m\u001b[0m\u001b[0m\n\u001b[1;32m----> 7\u001b[1;33m \u001b[0mfunc3\u001b[0m\u001b[1;33m(\u001b[0m\u001b[1;33m)\u001b[0m\u001b[1;33m\u001b[0m\u001b[1;33m\u001b[0m\u001b[0m\n\u001b[0m",
      "\u001b[1;32m<ipython-input-41-0fadb3deb9d3>\u001b[0m in \u001b[0;36mfunc3\u001b[1;34m()\u001b[0m\n\u001b[0;32m      2\u001b[0m \u001b[0mg_var\u001b[0m\u001b[1;33m=\u001b[0m\u001b[1;36m100\u001b[0m\u001b[1;33m\u001b[0m\u001b[1;33m\u001b[0m\u001b[0m\n\u001b[0;32m      3\u001b[0m \u001b[1;32mdef\u001b[0m \u001b[0mfunc3\u001b[0m\u001b[1;33m(\u001b[0m\u001b[1;33m)\u001b[0m\u001b[1;33m:\u001b[0m\u001b[1;33m\u001b[0m\u001b[1;33m\u001b[0m\u001b[0m\n\u001b[1;32m----> 4\u001b[1;33m     \u001b[0mprint\u001b[0m\u001b[1;33m(\u001b[0m\u001b[1;34m'before'\u001b[0m\u001b[1;33m,\u001b[0m\u001b[0mg_var\u001b[0m\u001b[1;33m)\u001b[0m\u001b[1;33m\u001b[0m\u001b[1;33m\u001b[0m\u001b[0m\n\u001b[0m\u001b[0;32m      5\u001b[0m     \u001b[0mg_var\u001b[0m\u001b[1;33m=\u001b[0m\u001b[1;36m200\u001b[0m\u001b[1;31m# 지역변수를 선언하면서 할당\u001b[0m\u001b[1;33m\u001b[0m\u001b[1;33m\u001b[0m\u001b[0m\n\u001b[0;32m      6\u001b[0m     \u001b[0mprint\u001b[0m\u001b[1;33m(\u001b[0m\u001b[1;34m'after'\u001b[0m\u001b[1;33m,\u001b[0m\u001b[0mg_var\u001b[0m\u001b[1;33m)\u001b[0m\u001b[1;33m\u001b[0m\u001b[1;33m\u001b[0m\u001b[0m\n",
      "\u001b[1;31mUnboundLocalError\u001b[0m: local variable 'g_var' referenced before assignment"
     ]
    }
   ],
   "source": [
    "#렉시컬 특성\n",
    "g_var=100\n",
    "def func3():\n",
    "    print('before',g_var)\n",
    "    g_var=200# 지역변수를 선언하면서 할당\n",
    "    print('after',g_var)\n",
    "func3() "
   ]
  },
  {
   "cell_type": "code",
   "execution_count": 49,
   "metadata": {
    "ExecuteTime": {
     "end_time": "2021-02-24T01:16:16.435125Z",
     "start_time": "2021-02-24T01:16:16.430138Z"
    }
   },
   "outputs": [
    {
     "name": "stdout",
     "output_type": "stream",
     "text": [
      "func3() 실행 전 100\n",
      "before 100\n",
      "after 200\n",
      "200\n"
     ]
    }
   ],
   "source": [
    "g_var=100\n",
    "def func3():\n",
    "    global g_var #g_var변수는 전역변수를 쓸꺼야 \n",
    "    print('before',g_var)\n",
    "    g_var=200#전역변수 g_var에 다시 값 할당\n",
    "    print('after',g_var)#전역변수 \n",
    "print('func3() 실행 전',g_var)\n",
    "func3()\n",
    "print(g_var)"
   ]
  },
  {
   "cell_type": "code",
   "execution_count": 51,
   "metadata": {
    "ExecuteTime": {
     "end_time": "2021-02-24T01:18:25.186655Z",
     "start_time": "2021-02-24T01:18:25.182665Z"
    }
   },
   "outputs": [
    {
     "name": "stdout",
     "output_type": "stream",
     "text": [
      "func1()실행 전 global_var값 100\n",
      "200\n",
      "func1()실행 후 global_var값 100\n"
     ]
    }
   ],
   "source": [
    "global_var = 100\n",
    "def func1():\n",
    "    global_var = 200 #지역변수 선언 \n",
    "    print(global_var)#\n",
    "print('func1()실행 전 global_var값',global_var)\n",
    "func1()\n",
    "print('func1()실행 후 global_var값',global_var)"
   ]
  },
  {
   "cell_type": "code",
   "execution_count": 53,
   "metadata": {
    "ExecuteTime": {
     "end_time": "2021-02-24T01:22:37.372186Z",
     "start_time": "2021-02-24T01:22:37.368197Z"
    }
   },
   "outputs": [
    {
     "name": "stdout",
     "output_type": "stream",
     "text": [
      "func1()실행 전 global_var값 100\n",
      "200\n",
      "func1()실행 후 global_var값 200\n",
      "200\n"
     ]
    }
   ],
   "source": [
    "global_var = 100\n",
    "def func1():\n",
    "    global global_var\n",
    "    global_var = 200 #전역변수 선언 \n",
    "    print(global_var)#전역변수\n",
    "print('func1()실행 전 global_var값',global_var)\n",
    "func1()\n",
    "print('func1()실행 후 global_var값',global_var)"
   ]
  },
  {
   "cell_type": "markdown",
   "metadata": {},
   "source": [
    "## 1.3값에 의한 호출 \n",
    "- 함수에 인수로 전달되는 변수가 스칼라 변수(숫자,문자,논리)일 경우"
   ]
  },
  {
   "cell_type": "code",
   "execution_count": 54,
   "metadata": {
    "ExecuteTime": {
     "end_time": "2021-02-24T01:38:15.789432Z",
     "start_time": "2021-02-24T01:38:15.784443Z"
    }
   },
   "outputs": [
    {
     "data": {
      "text/plain": [
       "2263549099760"
      ]
     },
     "execution_count": 54,
     "metadata": {},
     "output_type": "execute_result"
    }
   ],
   "source": [
    "foo = 'a'# 전역변수 \n",
    "id(foo)"
   ]
  },
  {
   "cell_type": "code",
   "execution_count": 63,
   "metadata": {
    "ExecuteTime": {
     "end_time": "2021-02-24T01:43:49.485826Z",
     "start_time": "2021-02-24T01:43:49.481836Z"
    }
   },
   "outputs": [
    {
     "name": "stdout",
     "output_type": "stream",
     "text": [
      "Before: a 의 주소는 2263549099760\n",
      "After: aaa 의 주소는 2263660536176\n"
     ]
    }
   ],
   "source": [
    "def func1(foo): #매개변수는 지역변수 \n",
    "    print('Before:',foo,'의 주소는',id(foo))\n",
    "    foo=foo*3\n",
    "    print('After:',foo,'의 주소는',id(foo))\n",
    "\n",
    "func1(foo)"
   ]
  },
  {
   "cell_type": "code",
   "execution_count": 64,
   "metadata": {
    "ExecuteTime": {
     "end_time": "2021-02-24T01:43:53.291674Z",
     "start_time": "2021-02-24T01:43:53.287685Z"
    }
   },
   "outputs": [
    {
     "name": "stdout",
     "output_type": "stream",
     "text": [
      "a 2263549099760\n"
     ]
    }
   ],
   "source": [
    "print(foo,id(foo))# 전역변수 "
   ]
  },
  {
   "cell_type": "markdown",
   "metadata": {},
   "source": [
    "## 1.4 참조의 의한 호출\n",
    "- 함수에 인수로 전달되는 변수가 리스트, 딕셔너리,셋....일 경우"
   ]
  },
  {
   "cell_type": "code",
   "execution_count": 66,
   "metadata": {
    "ExecuteTime": {
     "end_time": "2021-02-24T01:48:23.184301Z",
     "start_time": "2021-02-24T01:48:23.179313Z"
    }
   },
   "outputs": [
    {
     "data": {
      "text/plain": [
       "2263660504896"
      ]
     },
     "execution_count": 66,
     "metadata": {},
     "output_type": "execute_result"
    }
   ],
   "source": [
    "L= [1,2,3,4,5]\n",
    "id(L)"
   ]
  },
  {
   "cell_type": "code",
   "execution_count": 67,
   "metadata": {
    "ExecuteTime": {
     "end_time": "2021-02-24T01:48:24.500783Z",
     "start_time": "2021-02-24T01:48:24.495816Z"
    }
   },
   "outputs": [
    {
     "name": "stdout",
     "output_type": "stream",
     "text": [
      "before [1, 2, 3, 4, 5] 의 주소: 2263660504896\n",
      "after [1, 2, 3, 4, 5, 6] 의 주소 2263660504896\n",
      "함수 호출 후에L: [1, 2, 3, 4, 5, 6] 의 주소: 2263660504896\n"
     ]
    }
   ],
   "source": [
    "def func2(foo):#foo는 지역변수\n",
    "    print('before',foo,'의 주소:',id(foo))\n",
    "    foo.append(6)\n",
    "    print('after',foo,'의 주소',id(foo))\n",
    "func2(L)\n",
    "print('함수 호출 후에L:',L,'의 주소:',id(L))"
   ]
  },
  {
   "cell_type": "markdown",
   "metadata": {},
   "source": [
    "## 1.5 함수의 이름 변경\n",
    "- Python ; 함수형 언어, 객체 지향 언어 "
   ]
  },
  {
   "cell_type": "code",
   "execution_count": null,
   "metadata": {},
   "outputs": [],
   "source": [
    "def fibonacci(n):\n",
    "    \"\"\"\n",
    "    매개변수로 들어온 n값 미만까지 피보나치 수열을 출력합니다.\n",
    "    \"\"\"\n",
    "    a,b=0,1\n",
    "    while a<n:\n",
    "        print(a, end=' ')\n",
    "        a, b= b, a+b\n",
    "    print()"
   ]
  },
  {
   "cell_type": "code",
   "execution_count": 69,
   "metadata": {
    "ExecuteTime": {
     "end_time": "2021-02-24T01:51:30.123246Z",
     "start_time": "2021-02-24T01:51:30.119254Z"
    }
   },
   "outputs": [
    {
     "data": {
      "text/plain": [
       "function"
      ]
     },
     "execution_count": 69,
     "metadata": {},
     "output_type": "execute_result"
    }
   ],
   "source": [
    "type(fibonacci)"
   ]
  },
  {
   "cell_type": "code",
   "execution_count": 70,
   "metadata": {
    "ExecuteTime": {
     "end_time": "2021-02-24T01:52:35.821298Z",
     "start_time": "2021-02-24T01:52:35.817302Z"
    }
   },
   "outputs": [],
   "source": [
    "fibo = fibonacci #fibonacci함수이름이 fibo로도 사용 가능 "
   ]
  },
  {
   "cell_type": "code",
   "execution_count": 72,
   "metadata": {
    "ExecuteTime": {
     "end_time": "2021-02-24T01:52:58.265583Z",
     "start_time": "2021-02-24T01:52:58.257625Z"
    }
   },
   "outputs": [
    {
     "ename": "TypeError",
     "evalue": "fibonacci() missing 1 required positional argument: 'n'",
     "output_type": "error",
     "traceback": [
      "\u001b[1;31m---------------------------------------------------------------------------\u001b[0m",
      "\u001b[1;31mTypeError\u001b[0m                                 Traceback (most recent call last)",
      "\u001b[1;32m<ipython-input-72-8de07561c188>\u001b[0m in \u001b[0;36m<module>\u001b[1;34m\u001b[0m\n\u001b[1;32m----> 1\u001b[1;33m \u001b[0mfibo\u001b[0m\u001b[1;33m(\u001b[0m\u001b[1;33m)\u001b[0m\u001b[1;33m\u001b[0m\u001b[1;33m\u001b[0m\u001b[0m\n\u001b[0m",
      "\u001b[1;31mTypeError\u001b[0m: fibonacci() missing 1 required positional argument: 'n'"
     ]
    }
   ],
   "source": [
    "fibo()"
   ]
  },
  {
   "cell_type": "markdown",
   "metadata": {},
   "source": [
    "# 2절 함수의 실행 결과를 반환하는 return"
   ]
  },
  {
   "cell_type": "code",
   "execution_count": 77,
   "metadata": {
    "ExecuteTime": {
     "end_time": "2021-02-24T02:01:45.290332Z",
     "start_time": "2021-02-24T02:01:45.283351Z"
    }
   },
   "outputs": [
    {
     "data": {
      "text/plain": [
       "[0, 1, 1, 2, 3]"
      ]
     },
     "execution_count": 77,
     "metadata": {},
     "output_type": "execute_result"
    }
   ],
   "source": [
    "def fibonacci_print(n):\n",
    "    \"\"\"\n",
    "    매개변수로 들어온 n값 미만까지 피보나치 수열을 출력합니다.\n",
    "    \"\"\"\n",
    "    a,b=0,1\n",
    "    while a<n:\n",
    "        print(a, end=' ')\n",
    "        a, b= b, a+b\n",
    "    print()\n",
    "\n",
    "def fibonacci(n):\n",
    "    \"\"\"n값 미만의 피보나치 수열을 return 0 1 1 2\"\"\"\n",
    "    result= []\n",
    "    a,b= 0,1 \n",
    "    while a<n:\n",
    "        result.append(a)\n",
    "        a,b=b,a+b\n",
    "    return result \n",
    "\n",
    "fibonacci(5)"
   ]
  },
  {
   "cell_type": "code",
   "execution_count": 83,
   "metadata": {
    "ExecuteTime": {
     "end_time": "2021-02-24T02:03:46.571006Z",
     "start_time": "2021-02-24T02:03:46.555358Z"
    }
   },
   "outputs": [
    {
     "name": "stdout",
     "output_type": "stream",
     "text": [
      "0 1 1 2 3 5 8 13 21 34 55 89 \n"
     ]
    }
   ],
   "source": [
    "x=fibonacci_print(100)"
   ]
  },
  {
   "cell_type": "code",
   "execution_count": 84,
   "metadata": {
    "ExecuteTime": {
     "end_time": "2021-02-24T02:04:01.170871Z",
     "start_time": "2021-02-24T02:04:01.166882Z"
    }
   },
   "outputs": [],
   "source": [
    "L=fibonacci(100)"
   ]
  },
  {
   "cell_type": "code",
   "execution_count": 86,
   "metadata": {
    "ExecuteTime": {
     "end_time": "2021-02-24T02:04:26.651106Z",
     "start_time": "2021-02-24T02:04:26.647142Z"
    }
   },
   "outputs": [
    {
     "name": "stdout",
     "output_type": "stream",
     "text": [
      "[0, 1, 1, 2, 3, 5, 8, 13, 21, 34, 55, 89] <class 'list'>\n"
     ]
    }
   ],
   "source": [
    "print(L,type(L))"
   ]
  },
  {
   "cell_type": "markdown",
   "metadata": {},
   "source": [
    "## 2.1여러개 값 반환"
   ]
  },
  {
   "cell_type": "code",
   "execution_count": 89,
   "metadata": {
    "ExecuteTime": {
     "end_time": "2021-02-24T02:07:36.150799Z",
     "start_time": "2021-02-24T02:07:36.146835Z"
    }
   },
   "outputs": [],
   "source": [
    "def swap(a,b):\n",
    "    return b,a"
   ]
  },
  {
   "cell_type": "code",
   "execution_count": 90,
   "metadata": {
    "ExecuteTime": {
     "end_time": "2021-02-24T02:07:37.387621Z",
     "start_time": "2021-02-24T02:07:37.372799Z"
    }
   },
   "outputs": [
    {
     "name": "stdout",
     "output_type": "stream",
     "text": [
      "함수 실행 전 5 10\n",
      "함수 실행 후 10 5\n"
     ]
    }
   ],
   "source": [
    "x,y=5,10\n",
    "print('함수 실행 전',x,y)\n",
    "x,y=swap(x,y)\n",
    "print('함수 실행 후',x,y)"
   ]
  },
  {
   "cell_type": "code",
   "execution_count": 93,
   "metadata": {
    "ExecuteTime": {
     "end_time": "2021-02-24T02:08:16.650513Z",
     "start_time": "2021-02-24T02:08:16.646530Z"
    }
   },
   "outputs": [
    {
     "name": "stdout",
     "output_type": "stream",
     "text": [
      "(5, 10) <class 'tuple'>\n"
     ]
    }
   ],
   "source": [
    "a= swap(x,y)\n",
    "print(a,type(a)) #질문!!!!!!!!!!!! "
   ]
  },
  {
   "cell_type": "markdown",
   "metadata": {},
   "source": [
    "# 3절. 함수의 매개변수★"
   ]
  },
  {
   "cell_type": "markdown",
   "metadata": {},
   "source": [
    "## 3.1 기본값을 갖는 매개변수 "
   ]
  },
  {
   "cell_type": "code",
   "execution_count": 99,
   "metadata": {
    "ExecuteTime": {
     "end_time": "2021-02-24T02:17:39.097326Z",
     "start_time": "2021-02-24T02:17:39.094347Z"
    }
   },
   "outputs": [],
   "source": [
    "def make_url(ip,port=80):\n",
    "        return 'http://{}:{}'.format(ip,port)"
   ]
  },
  {
   "cell_type": "code",
   "execution_count": 97,
   "metadata": {
    "ExecuteTime": {
     "end_time": "2021-02-24T02:17:15.139438Z",
     "start_time": "2021-02-24T02:17:15.133481Z"
    }
   },
   "outputs": [
    {
     "data": {
      "text/plain": [
       "'http://localhost:80'"
      ]
     },
     "execution_count": 97,
     "metadata": {},
     "output_type": "execute_result"
    }
   ],
   "source": [
    "make_url('localhost',80)"
   ]
  },
  {
   "cell_type": "markdown",
   "metadata": {},
   "source": [
    "## 3.2기본 변수를 갖는 매개변수"
   ]
  },
  {
   "cell_type": "code",
   "execution_count": 100,
   "metadata": {
    "ExecuteTime": {
     "end_time": "2021-02-24T02:19:06.042945Z",
     "start_time": "2021-02-24T02:19:06.039934Z"
    }
   },
   "outputs": [],
   "source": [
    "#기본값을 변수로 \n",
    "i = 5 \n",
    "#스칼라 변수일 경우에만~ \n",
    "def func2(arg=i):#arg의 기본값은 함수가 정의되는 지점에 한번만 평가 됩니다.(스칼라 변수)\n",
    "    print('arg=',arg)"
   ]
  },
  {
   "cell_type": "code",
   "execution_count": 101,
   "metadata": {
    "ExecuteTime": {
     "end_time": "2021-02-24T02:19:55.709309Z",
     "start_time": "2021-02-24T02:19:55.706336Z"
    }
   },
   "outputs": [
    {
     "name": "stdout",
     "output_type": "stream",
     "text": [
      "arg= 5\n"
     ]
    }
   ],
   "source": [
    "i=6\n",
    "func2()"
   ]
  },
  {
   "cell_type": "code",
   "execution_count": 102,
   "metadata": {
    "ExecuteTime": {
     "end_time": "2021-02-24T02:37:54.427366Z",
     "start_time": "2021-02-24T02:37:54.423376Z"
    }
   },
   "outputs": [
    {
     "name": "stdout",
     "output_type": "stream",
     "text": [
      "[1]\n"
     ]
    }
   ],
   "source": [
    "#기본변수가 리스트,셋,딕셔너리 또는 객체일떄 함수를 호출후 다시 전달 \n",
    "list_=[]\n",
    "def func3(a,L=list_):\n",
    "    L.append(a)\n",
    "    return L\n",
    "print(func3(1))"
   ]
  },
  {
   "cell_type": "code",
   "execution_count": 105,
   "metadata": {
    "ExecuteTime": {
     "end_time": "2021-02-24T02:42:28.222088Z",
     "start_time": "2021-02-24T02:42:28.218079Z"
    }
   },
   "outputs": [
    {
     "name": "stdout",
     "output_type": "stream",
     "text": [
      "[1, 2, 2, 2]\n",
      "[1, 2, 2, 2]\n"
     ]
    }
   ],
   "source": [
    "print(func3(2))\n",
    "print(list_)"
   ]
  },
  {
   "cell_type": "code",
   "execution_count": 128,
   "metadata": {
    "ExecuteTime": {
     "end_time": "2021-02-24T02:54:42.135719Z",
     "start_time": "2021-02-24T02:54:42.131746Z"
    }
   },
   "outputs": [
    {
     "name": "stdout",
     "output_type": "stream",
     "text": [
      "[1]\n"
     ]
    }
   ],
   "source": [
    "def func(a, L=[]):\n",
    "    L.append(a)\n",
    "    return L\n",
    "print(func(1))"
   ]
  },
  {
   "cell_type": "code",
   "execution_count": 132,
   "metadata": {
    "ExecuteTime": {
     "end_time": "2021-02-24T02:54:47.560245Z",
     "start_time": "2021-02-24T02:54:47.556255Z"
    }
   },
   "outputs": [
    {
     "name": "stdout",
     "output_type": "stream",
     "text": [
      "[1, 2, 2, 2, 2]\n"
     ]
    }
   ],
   "source": [
    "print(func(2))"
   ]
  },
  {
   "cell_type": "markdown",
   "metadata": {},
   "source": [
    "## 3.3 순서인수와 키워드 인수\n",
    "- 순서인수와 키워드 인수(기본값을 갖는 인수)가 같이 올 때는 키워드 인수가 반드시 뒤에 온다.\n",
    "<pre>\n",
    "    def function명 (변수명1,변수명2,변수명n=기본값):\n",
    "                        순서인수     키워드인수 \n",
    "</pre>"
   ]
  },
  {
   "cell_type": "code",
   "execution_count": 139,
   "metadata": {
    "ExecuteTime": {
     "end_time": "2021-02-24T02:57:00.995174Z",
     "start_time": "2021-02-24T02:57:00.992180Z"
    }
   },
   "outputs": [
    {
     "name": "stdout",
     "output_type": "stream",
     "text": [
      "10 20\n"
     ]
    }
   ],
   "source": [
    "def func(a,b,c=10):\n",
    "    print(a,b)\n",
    "func(10,20)"
   ]
  },
  {
   "cell_type": "code",
   "execution_count": 6,
   "metadata": {
    "ExecuteTime": {
     "end_time": "2021-02-24T03:04:54.631587Z",
     "start_time": "2021-02-24T03:04:54.626626Z"
    }
   },
   "outputs": [
    {
     "data": {
      "text/plain": [
       "[100]"
      ]
     },
     "execution_count": 6,
     "metadata": {},
     "output_type": "execute_result"
    }
   ],
   "source": [
    "def func4(a,L=None):\n",
    "    if L is None:\n",
    "        L=[]\n",
    "    L.append(a)\n",
    "    return L\n",
    "func4(100)"
   ]
  },
  {
   "cell_type": "code",
   "execution_count": 7,
   "metadata": {
    "ExecuteTime": {
     "end_time": "2021-02-24T03:04:55.179352Z",
     "start_time": "2021-02-24T03:04:55.175352Z"
    }
   },
   "outputs": [
    {
     "data": {
      "text/plain": [
       "[10]"
      ]
     },
     "execution_count": 7,
     "metadata": {},
     "output_type": "execute_result"
    }
   ],
   "source": [
    "list_ = []\n",
    "func4(10,list_)"
   ]
  },
  {
   "cell_type": "code",
   "execution_count": 8,
   "metadata": {
    "ExecuteTime": {
     "end_time": "2021-02-24T03:04:55.895725Z",
     "start_time": "2021-02-24T03:04:55.890738Z"
    }
   },
   "outputs": [
    {
     "data": {
      "text/plain": [
       "[10, 2]"
      ]
     },
     "execution_count": 8,
     "metadata": {},
     "output_type": "execute_result"
    }
   ],
   "source": [
    "func4(2,list_)"
   ]
  },
  {
   "cell_type": "code",
   "execution_count": 9,
   "metadata": {
    "ExecuteTime": {
     "end_time": "2021-02-24T03:04:56.378217Z",
     "start_time": "2021-02-24T03:04:56.373230Z"
    }
   },
   "outputs": [
    {
     "data": {
      "text/plain": [
       "[10, 2, 2]"
      ]
     },
     "execution_count": 9,
     "metadata": {},
     "output_type": "execute_result"
    }
   ],
   "source": [
    "func4(a=2,L=list_)"
   ]
  },
  {
   "cell_type": "code",
   "execution_count": 10,
   "metadata": {
    "ExecuteTime": {
     "end_time": "2021-02-24T03:04:56.814052Z",
     "start_time": "2021-02-24T03:04:56.808068Z"
    }
   },
   "outputs": [
    {
     "data": {
      "text/plain": [
       "[10, 2, 2, 2]"
      ]
     },
     "execution_count": 10,
     "metadata": {},
     "output_type": "execute_result"
    }
   ],
   "source": [
    "func4(L=list_,a=2)"
   ]
  },
  {
   "cell_type": "code",
   "execution_count": 11,
   "metadata": {
    "ExecuteTime": {
     "end_time": "2021-02-24T03:04:57.134979Z",
     "start_time": "2021-02-24T03:04:57.130989Z"
    }
   },
   "outputs": [
    {
     "data": {
      "text/plain": [
       "[30]"
      ]
     },
     "execution_count": 11,
     "metadata": {},
     "output_type": "execute_result"
    }
   ],
   "source": [
    "func4(a=30)"
   ]
  },
  {
   "cell_type": "code",
   "execution_count": 12,
   "metadata": {
    "ExecuteTime": {
     "end_time": "2021-02-24T03:04:59.117121Z",
     "start_time": "2021-02-24T03:04:58.948766Z"
    }
   },
   "outputs": [
    {
     "ename": "TypeError",
     "evalue": "func4() missing 1 required positional argument: 'a'",
     "output_type": "error",
     "traceback": [
      "\u001b[1;31m---------------------------------------------------------------------------\u001b[0m",
      "\u001b[1;31mTypeError\u001b[0m                                 Traceback (most recent call last)",
      "\u001b[1;32m<ipython-input-12-0e6ad11a93c1>\u001b[0m in \u001b[0;36m<module>\u001b[1;34m\u001b[0m\n\u001b[1;32m----> 1\u001b[1;33m \u001b[0mfunc4\u001b[0m\u001b[1;33m(\u001b[0m\u001b[1;33m)\u001b[0m\u001b[1;33m\u001b[0m\u001b[1;33m\u001b[0m\u001b[0m\n\u001b[0m",
      "\u001b[1;31mTypeError\u001b[0m: func4() missing 1 required positional argument: 'a'"
     ]
    }
   ],
   "source": [
    "func4()"
   ]
  },
  {
   "cell_type": "code",
   "execution_count": 153,
   "metadata": {
    "ExecuteTime": {
     "end_time": "2021-02-24T02:59:26.768164Z",
     "start_time": "2021-02-24T02:59:26.761157Z"
    }
   },
   "outputs": [
    {
     "ename": "TypeError",
     "evalue": "func4() got multiple values for argument 'a'",
     "output_type": "error",
     "traceback": [
      "\u001b[1;31m---------------------------------------------------------------------------\u001b[0m",
      "\u001b[1;31mTypeError\u001b[0m                                 Traceback (most recent call last)",
      "\u001b[1;32m<ipython-input-153-89237d0adea5>\u001b[0m in \u001b[0;36m<module>\u001b[1;34m\u001b[0m\n\u001b[1;32m----> 1\u001b[1;33m \u001b[0mfunc4\u001b[0m\u001b[1;33m(\u001b[0m\u001b[1;33m[\u001b[0m\u001b[1;33m]\u001b[0m\u001b[1;33m,\u001b[0m\u001b[0ma\u001b[0m\u001b[1;33m=\u001b[0m\u001b[1;36m30\u001b[0m\u001b[1;33m)\u001b[0m\u001b[1;33m\u001b[0m\u001b[1;33m\u001b[0m\u001b[0m\n\u001b[0m",
      "\u001b[1;31mTypeError\u001b[0m: func4() got multiple values for argument 'a'"
     ]
    }
   ],
   "source": [
    "func4([],a=30)  #d를 []로 먼저 전달 "
   ]
  },
  {
   "cell_type": "code",
   "execution_count": 155,
   "metadata": {
    "ExecuteTime": {
     "end_time": "2021-02-24T03:00:32.723039Z",
     "start_time": "2021-02-24T03:00:32.718071Z"
    }
   },
   "outputs": [
    {
     "data": {
      "text/plain": [
       "[[]]"
      ]
     },
     "execution_count": 155,
     "metadata": {},
     "output_type": "execute_result"
    }
   ],
   "source": [
    "func4([])"
   ]
  },
  {
   "cell_type": "code",
   "execution_count": 156,
   "metadata": {
    "ExecuteTime": {
     "end_time": "2021-02-24T03:02:09.686918Z",
     "start_time": "2021-02-24T03:02:09.682929Z"
    }
   },
   "outputs": [],
   "source": [
    "func4(L=list_,a=70)"
   ]
  },
  {
   "cell_type": "markdown",
   "metadata": {},
   "source": [
    "## 3.4튜플 매개변수를 이용한 가변인수 설정 "
   ]
  },
  {
   "cell_type": "code",
   "execution_count": 18,
   "metadata": {
    "ExecuteTime": {
     "end_time": "2021-02-24T03:09:17.901788Z",
     "start_time": "2021-02-24T03:09:17.897819Z"
    }
   },
   "outputs": [
    {
     "name": "stdout",
     "output_type": "stream",
     "text": [
      "3\n"
     ]
    }
   ],
   "source": [
    "def add(a,b):\n",
    "    return a+b\n",
    "print(add(1,2))"
   ]
  },
  {
   "cell_type": "code",
   "execution_count": 19,
   "metadata": {
    "ExecuteTime": {
     "end_time": "2021-02-24T03:09:19.495463Z",
     "start_time": "2021-02-24T03:09:19.491473Z"
    }
   },
   "outputs": [
    {
     "name": "stdout",
     "output_type": "stream",
     "text": [
      "6\n"
     ]
    }
   ],
   "source": [
    "def add(a,b,c):\n",
    "    return a+b+c\n",
    "print(add(1,2,3))"
   ]
  },
  {
   "cell_type": "code",
   "execution_count": 20,
   "metadata": {
    "ExecuteTime": {
     "end_time": "2021-02-24T03:09:21.347812Z",
     "start_time": "2021-02-24T03:09:21.339861Z"
    }
   },
   "outputs": [
    {
     "ename": "TypeError",
     "evalue": "add() missing 1 required positional argument: 'c'",
     "output_type": "error",
     "traceback": [
      "\u001b[1;31m---------------------------------------------------------------------------\u001b[0m",
      "\u001b[1;31mTypeError\u001b[0m                                 Traceback (most recent call last)",
      "\u001b[1;32m<ipython-input-20-4554db589b65>\u001b[0m in \u001b[0;36m<module>\u001b[1;34m\u001b[0m\n\u001b[1;32m----> 1\u001b[1;33m \u001b[0mprint\u001b[0m\u001b[1;33m(\u001b[0m\u001b[0madd\u001b[0m\u001b[1;33m(\u001b[0m\u001b[1;36m10\u001b[0m\u001b[1;33m,\u001b[0m\u001b[1;36m20\u001b[0m\u001b[1;33m)\u001b[0m\u001b[1;33m)\u001b[0m\u001b[1;33m\u001b[0m\u001b[1;33m\u001b[0m\u001b[0m\n\u001b[0m",
      "\u001b[1;31mTypeError\u001b[0m: add() missing 1 required positional argument: 'c'"
     ]
    }
   ],
   "source": [
    "print(add(10,20))"
   ]
  },
  {
   "cell_type": "code",
   "execution_count": 25,
   "metadata": {
    "ExecuteTime": {
     "end_time": "2021-02-24T03:13:45.381718Z",
     "start_time": "2021-02-24T03:13:45.376720Z"
    }
   },
   "outputs": [
    {
     "name": "stdout",
     "output_type": "stream",
     "text": [
      "15\n"
     ]
    },
    {
     "data": {
      "text/plain": [
       "3"
      ]
     },
     "execution_count": 25,
     "metadata": {},
     "output_type": "execute_result"
    }
   ],
   "source": [
    "# args앞에 *: args가 튜플전달 \n",
    "def add(*args):#args=(1,2,3,4,5)\n",
    "    sum=0\n",
    "    for num in args:\n",
    "        sum+=num\n",
    "    return sum\n",
    "\n",
    "print(add(1,2,3,4,5))\n",
    "add(1,2,)"
   ]
  },
  {
   "cell_type": "code",
   "execution_count": 73,
   "metadata": {
    "ExecuteTime": {
     "end_time": "2021-02-24T03:30:53.962234Z",
     "start_time": "2021-02-24T03:30:53.958226Z"
    }
   },
   "outputs": [
    {
     "data": {
      "text/plain": [
       "'서울-부산-인천'"
      ]
     },
     "execution_count": 73,
     "metadata": {},
     "output_type": "execute_result"
    }
   ],
   "source": [
    "city= ('서울','부산','인천')\n",
    "'-'.join(city)"
   ]
  },
  {
   "cell_type": "code",
   "execution_count": 86,
   "metadata": {
    "ExecuteTime": {
     "end_time": "2021-02-24T03:32:16.334165Z",
     "start_time": "2021-02-24T03:32:16.331173Z"
    }
   },
   "outputs": [],
   "source": [
    "def concat(*args, sep):\n",
    "    return sep.join(args)"
   ]
  },
  {
   "cell_type": "code",
   "execution_count": 84,
   "metadata": {
    "ExecuteTime": {
     "end_time": "2021-02-24T03:31:54.249234Z",
     "start_time": "2021-02-24T03:31:54.241256Z"
    }
   },
   "outputs": [
    {
     "ename": "TypeError",
     "evalue": "concat() missing 1 required keyword-only argument: 'sep'",
     "output_type": "error",
     "traceback": [
      "\u001b[1;31m---------------------------------------------------------------------------\u001b[0m",
      "\u001b[1;31mTypeError\u001b[0m                                 Traceback (most recent call last)",
      "\u001b[1;32m<ipython-input-84-e7f24296ec96>\u001b[0m in \u001b[0;36m<module>\u001b[1;34m\u001b[0m\n\u001b[1;32m----> 1\u001b[1;33m \u001b[0mconcat\u001b[0m\u001b[1;33m(\u001b[0m\u001b[1;34m'hello'\u001b[0m\u001b[1;33m,\u001b[0m \u001b[1;34m'world'\u001b[0m\u001b[1;33m,\u001b[0m \u001b[1;34m'/'\u001b[0m\u001b[1;33m)\u001b[0m\u001b[1;33m\u001b[0m\u001b[1;33m\u001b[0m\u001b[0m\n\u001b[0m",
      "\u001b[1;31mTypeError\u001b[0m: concat() missing 1 required keyword-only argument: 'sep'"
     ]
    }
   ],
   "source": [
    "concat('hello', 'world', '/')"
   ]
  },
  {
   "cell_type": "code",
   "execution_count": 85,
   "metadata": {
    "ExecuteTime": {
     "end_time": "2021-02-24T03:31:55.698693Z",
     "start_time": "2021-02-24T03:31:55.693706Z"
    }
   },
   "outputs": [
    {
     "data": {
      "text/plain": [
       "'hello/world'"
      ]
     },
     "execution_count": 85,
     "metadata": {},
     "output_type": "execute_result"
    }
   ],
   "source": [
    "# 해결책1\n",
    "concat('hello', 'world', sep='/')"
   ]
  },
  {
   "cell_type": "code",
   "execution_count": 45,
   "metadata": {
    "ExecuteTime": {
     "end_time": "2021-02-24T03:22:29.280013Z",
     "start_time": "2021-02-24T03:22:29.277021Z"
    }
   },
   "outputs": [],
   "source": [
    "#해결책2\n",
    "def concat(sep,*args):\n",
    "    return sep.join(args)"
   ]
  },
  {
   "cell_type": "code",
   "execution_count": 47,
   "metadata": {
    "ExecuteTime": {
     "end_time": "2021-02-24T03:23:07.995085Z",
     "start_time": "2021-02-24T03:23:07.990098Z"
    }
   },
   "outputs": [
    {
     "data": {
      "text/plain": [
       "'earth/mars/venus'"
      ]
     },
     "execution_count": 47,
     "metadata": {},
     "output_type": "execute_result"
    }
   ],
   "source": [
    "concat('/','earth','mars','venus')"
   ]
  },
  {
   "cell_type": "code",
   "execution_count": 88,
   "metadata": {
    "ExecuteTime": {
     "end_time": "2021-02-24T03:32:20.631180Z",
     "start_time": "2021-02-24T03:32:20.627188Z"
    }
   },
   "outputs": [],
   "source": [
    "#해결책3\n",
    "def concat(*args,sep='/'):#순서인수>튜플인스>키워드인수 \n",
    "    return sep.join(args)"
   ]
  },
  {
   "cell_type": "code",
   "execution_count": 89,
   "metadata": {
    "ExecuteTime": {
     "end_time": "2021-02-24T03:32:21.005901Z",
     "start_time": "2021-02-24T03:32:21.001937Z"
    }
   },
   "outputs": [
    {
     "data": {
      "text/plain": [
       "'earth/mars/venus'"
      ]
     },
     "execution_count": 89,
     "metadata": {},
     "output_type": "execute_result"
    }
   ],
   "source": [
    "concat('earth','mars','venus')"
   ]
  },
  {
   "cell_type": "code",
   "execution_count": 90,
   "metadata": {
    "ExecuteTime": {
     "end_time": "2021-02-24T03:32:21.402017Z",
     "start_time": "2021-02-24T03:32:21.397050Z"
    }
   },
   "outputs": [
    {
     "data": {
      "text/plain": [
       "'Python~R~haddop'"
      ]
     },
     "execution_count": 90,
     "metadata": {},
     "output_type": "execute_result"
    }
   ],
   "source": [
    "concat('Python','R','haddop',sep='~')"
   ]
  },
  {
   "cell_type": "markdown",
   "metadata": {},
   "source": [
    "## 3.5딕셔너리 매개변수\n",
    " - 순서인수,투플인수,키워드인수,딕셔너리 인수등은 같이 사용될 수 있음. 순서를 유의해서 사용 "
   ]
  },
  {
   "cell_type": "code",
   "execution_count": 93,
   "metadata": {
    "ExecuteTime": {
     "end_time": "2021-02-24T03:50:23.571548Z",
     "start_time": "2021-02-24T03:50:23.567585Z"
    }
   },
   "outputs": [
    {
     "name": "stdout",
     "output_type": "stream",
     "text": [
      "name:홍길동\n",
      "age:20\n",
      "address:서울시\n"
     ]
    }
   ],
   "source": [
    "def func5(**args):#args가 딕셔너리로 전달(**)\n",
    "                 #args={name='홍길동',age=20,address='서울시'}\n",
    "    for key,value in args.items():\n",
    "        print(\"{}:{}\".format(key,value))\n",
    "func5(name='홍길동',age=20,address='서울시')"
   ]
  },
  {
   "cell_type": "code",
   "execution_count": 96,
   "metadata": {
    "ExecuteTime": {
     "end_time": "2021-02-24T03:53:40.746842Z",
     "start_time": "2021-02-24T03:53:40.743846Z"
    }
   },
   "outputs": [],
   "source": [
    "#순서인수,튜블인수,키워드인수,딕셔너리인수\n",
    "def func6(a,*b,**c):\n",
    "    print('a=',a)\n",
    "    print('b=',b)\n",
    "    print('c=',c)"
   ]
  },
  {
   "cell_type": "code",
   "execution_count": 97,
   "metadata": {
    "ExecuteTime": {
     "end_time": "2021-02-24T03:53:42.428151Z",
     "start_time": "2021-02-24T03:53:42.424149Z"
    }
   },
   "outputs": [
    {
     "name": "stdout",
     "output_type": "stream",
     "text": [
      "a= 10\n",
      "b= (1, 2, 3, 4, 5, 6)\n",
      "c= {'name': 'kim', 'age': 30}\n"
     ]
    }
   ],
   "source": [
    "func6(10,1,2,3,4,5,6,name='kim',age=30)"
   ]
  },
  {
   "cell_type": "markdown",
   "metadata": {},
   "source": [
    "## 3.6 함수 정의 시 매개변수의 순서 "
   ]
  },
  {
   "cell_type": "code",
   "execution_count": 103,
   "metadata": {
    "ExecuteTime": {
     "end_time": "2021-02-24T03:58:09.231427Z",
     "start_time": "2021-02-24T03:58:09.227438Z"
    }
   },
   "outputs": [],
   "source": [
    "def func(a,b,c,*d,e=10,**f):\n",
    "    print('a=',a)\n",
    "    print('b=',b)\n",
    "    print('c=',c)\n",
    "    print('d=',d)\n",
    "    print('e=',e)\n",
    "    print('f=',f)"
   ]
  },
  {
   "cell_type": "code",
   "execution_count": 104,
   "metadata": {
    "ExecuteTime": {
     "end_time": "2021-02-24T03:58:10.756877Z",
     "start_time": "2021-02-24T03:58:10.752909Z"
    }
   },
   "outputs": [
    {
     "name": "stdout",
     "output_type": "stream",
     "text": [
      "a= 10\n",
      "b= 20\n",
      "c= 30\n",
      "d= (1, 2, 3, 4, 5)\n",
      "e= 20\n",
      "f= {'name': 'kim', 'age': 30, 'address': '마포'}\n"
     ]
    }
   ],
   "source": [
    "func(10,20,30,1,2,3,4,5,e=20,name='kim',age=30,address='마포')"
   ]
  },
  {
   "cell_type": "markdown",
   "metadata": {},
   "source": [
    "## 3.7 인수의 언패킹 "
   ]
  },
  {
   "cell_type": "markdown",
   "metadata": {
    "ExecuteTime": {
     "end_time": "2021-02-24T04:01:33.075553Z",
     "start_time": "2021-02-24T04:01:33.071590Z"
    }
   },
   "source": [
    "**튜블언패킹**"
   ]
  },
  {
   "cell_type": "code",
   "execution_count": 105,
   "metadata": {
    "ExecuteTime": {
     "end_time": "2021-02-24T04:00:03.327220Z",
     "start_time": "2021-02-24T04:00:03.322264Z"
    }
   },
   "outputs": [
    {
     "data": {
      "text/plain": [
       "10"
      ]
     },
     "execution_count": 105,
     "metadata": {},
     "output_type": "execute_result"
    }
   ],
   "source": [
    "def add(*args):\n",
    "    sum=0\n",
    "    for num in args:\n",
    "        sum+=num\n",
    "    return sum\n",
    "add(1,2,3,4)"
   ]
  },
  {
   "cell_type": "code",
   "execution_count": 108,
   "metadata": {
    "ExecuteTime": {
     "end_time": "2021-02-24T04:02:14.796256Z",
     "start_time": "2021-02-24T04:02:14.792248Z"
    }
   },
   "outputs": [
    {
     "data": {
      "text/plain": [
       "10"
      ]
     },
     "execution_count": 108,
     "metadata": {},
     "output_type": "execute_result"
    }
   ],
   "source": [
    "numbers=(1,2,3,4)\n",
    "#add(numbers)\n",
    "add(*numbers)"
   ]
  },
  {
   "cell_type": "code",
   "execution_count": 112,
   "metadata": {
    "ExecuteTime": {
     "end_time": "2021-02-24T04:03:56.251885Z",
     "start_time": "2021-02-24T04:03:56.236242Z"
    }
   },
   "outputs": [
    {
     "name": "stdout",
     "output_type": "stream",
     "text": [
      "[0, 1, 2, 3, 4, 5, 6, 7, 8, 9]\n",
      "[5, 6, 7, 8, 9]\n",
      "[5, 7, 9]\n"
     ]
    }
   ],
   "source": [
    "#예제: 다음과 같은 실행 결과의 튜플인수를 갖는 range2함수를 구현하시오\n",
    "print(range2(10))\n",
    "print(range2(5,10))\n",
    "print(range2(5,10,2))\n",
    "\n",
    "#[0, 1, 2, 3, 4, 5, 6, 7, 8, 9]\n",
    "#[5, 6, 7, 8, 9]\n",
    "#[5, 7, 9]"
   ]
  },
  {
   "cell_type": "code",
   "execution_count": 182,
   "metadata": {
    "ExecuteTime": {
     "end_time": "2021-02-24T05:37:24.185054Z",
     "start_time": "2021-02-24T05:37:24.180074Z"
    }
   },
   "outputs": [],
   "source": [
    "def range2(*args):\n",
    "    length=len(args)\n",
    "    if length==0:\n",
    "        print('매개 변수를 입력하세요')\n",
    "    elif length ==1:\n",
    "        for num in range(args[0]):\n",
    "            print(num,end=' ')\n",
    "    elif length ==2:\n",
    "        for num in range(args[0],args[1]):\n",
    "            print(num,end=' ')\n",
    "    elif length ==3:\n",
    "        for num in range(args[0],args[1],args[2]):\n",
    "            print(num,end=' ')\n",
    "    else:\n",
    "        print('제대로 입력하시오')"
   ]
  },
  {
   "cell_type": "code",
   "execution_count": 183,
   "metadata": {
    "ExecuteTime": {
     "end_time": "2021-02-24T05:37:27.826005Z",
     "start_time": "2021-02-24T05:37:27.822027Z"
    }
   },
   "outputs": [
    {
     "name": "stdout",
     "output_type": "stream",
     "text": [
      "매개 변수를 입력하세요\n"
     ]
    }
   ],
   "source": [
    "range2()"
   ]
  },
  {
   "cell_type": "code",
   "execution_count": 180,
   "metadata": {
    "ExecuteTime": {
     "end_time": "2021-02-24T05:36:15.180357Z",
     "start_time": "2021-02-24T05:36:15.175390Z"
    }
   },
   "outputs": [],
   "source": [
    "def range3(*args):\n",
    "    length=len(args)\n",
    "    result=[]\n",
    "    if length==0:\n",
    "        raise Exception('매개변수가 없으면 안 돼')\n",
    "    elif length ==1:\n",
    "        for i in range(args[0]):\n",
    "            result.append(i)\n",
    "    elif length ==2:\n",
    "        for i in range(args[0],args[1]):\n",
    "            result.append(i)\n",
    "    elif length ==3:\n",
    "        for i in range(args[0],args[1],args[2]):\n",
    "            result.append(i)\n",
    "    else:\n",
    "        print('떼기')\n",
    "    return result"
   ]
  },
  {
   "cell_type": "code",
   "execution_count": 181,
   "metadata": {
    "ExecuteTime": {
     "end_time": "2021-02-24T05:36:17.550349Z",
     "start_time": "2021-02-24T05:36:17.546359Z"
    }
   },
   "outputs": [
    {
     "data": {
      "text/plain": [
       "[0, 1, 2, 3, 4, 5, 6, 7, 8, 9]"
      ]
     },
     "execution_count": 181,
     "metadata": {},
     "output_type": "execute_result"
    }
   ],
   "source": [
    "range3(10)"
   ]
  },
  {
   "cell_type": "code",
   "execution_count": 188,
   "metadata": {
    "ExecuteTime": {
     "end_time": "2021-02-24T05:39:40.798486Z",
     "start_time": "2021-02-24T05:39:40.795494Z"
    }
   },
   "outputs": [
    {
     "name": "stdout",
     "output_type": "stream",
     "text": [
      "5 7 9 "
     ]
    }
   ],
   "source": [
    "t=(5,10,2)\n",
    "range2(*t)"
   ]
  },
  {
   "cell_type": "markdown",
   "metadata": {},
   "source": [
    "**딕셔너리 인수 언패킹**"
   ]
  },
  {
   "cell_type": "code",
   "execution_count": 192,
   "metadata": {
    "ExecuteTime": {
     "end_time": "2021-02-24T05:42:29.742108Z",
     "start_time": "2021-02-24T05:42:29.738108Z"
    }
   },
   "outputs": [
    {
     "name": "stdout",
     "output_type": "stream",
     "text": [
      "('name', '홍길동')\n",
      "('age', 30)\n",
      "('addres', '마포')\n"
     ]
    }
   ],
   "source": [
    "def func5(**data):\n",
    "    for item in data.items():\n",
    "        print(item)\n",
    "func5(name='홍길동',age=30,addres='마포')\n",
    "        "
   ]
  },
  {
   "cell_type": "code",
   "execution_count": 193,
   "metadata": {
    "ExecuteTime": {
     "end_time": "2021-02-24T05:43:09.757672Z",
     "start_time": "2021-02-24T05:43:09.753683Z"
    }
   },
   "outputs": [
    {
     "name": "stdout",
     "output_type": "stream",
     "text": [
      "('name', '홍길동')\n",
      "('age', 30)\n",
      "('address', '마포')\n"
     ]
    }
   ],
   "source": [
    "customerInfo={'name':'홍길동','age':30,'address':'마포'}\n",
    "func5(**customerInfo) #딕셔너리 인수 언패킹 "
   ]
  },
  {
   "cell_type": "code",
   "execution_count": 195,
   "metadata": {
    "ExecuteTime": {
     "end_time": "2021-02-24T05:50:31.726836Z",
     "start_time": "2021-02-24T05:50:31.721874Z"
    }
   },
   "outputs": [
    {
     "data": {
      "text/plain": [
       "11"
      ]
     },
     "execution_count": 195,
     "metadata": {},
     "output_type": "execute_result"
    }
   ],
   "source": [
    "def add(a,b):\n",
    "    return a+b\n",
    "add(5,6)"
   ]
  },
  {
   "cell_type": "markdown",
   "metadata": {
    "ExecuteTime": {
     "end_time": "2021-02-24T07:07:13.423225Z",
     "start_time": "2021-02-24T07:07:13.419260Z"
    }
   },
   "source": [
    "# 4절.파이썬 내장 함수\n",
    "- import 하지 않고 바로 사용 가능한 함수. 키워드처럼 간주되므로 식별자로 사용하는 것을 피함 "
   ]
  },
  {
   "cell_type": "code",
   "execution_count": 296,
   "metadata": {
    "ExecuteTime": {
     "end_time": "2021-02-24T07:13:59.366505Z",
     "start_time": "2021-02-24T07:13:59.362515Z"
    }
   },
   "outputs": [
    {
     "data": {
      "text/plain": [
       "1"
      ]
     },
     "execution_count": 296,
     "metadata": {},
     "output_type": "execute_result"
    }
   ],
   "source": [
    "float('1.2')\n",
    "#int('1.2')\n",
    "int(float('1.2'))"
   ]
  },
  {
   "cell_type": "code",
   "execution_count": 297,
   "metadata": {
    "ExecuteTime": {
     "end_time": "2021-02-24T07:14:56.280087Z",
     "start_time": "2021-02-24T07:14:56.201295Z"
    }
   },
   "outputs": [
    {
     "data": {
      "text/plain": [
       "{'__name__': '__main__',\n",
       " '__doc__': 'Automatically created module for IPython interactive environment',\n",
       " '__package__': None,\n",
       " '__loader__': None,\n",
       " '__spec__': None,\n",
       " '__builtin__': <module 'builtins' (built-in)>,\n",
       " '__builtins__': <module 'builtins' (built-in)>,\n",
       " '_ih': ['',\n",
       "  'def func4(a,L=None):\\n    if L is None:\\n        L=[]\\n        L.append(a)\\n        return L\\nfunc4(100)',\n",
       "  'list_ = []\\nprint(func4(10,list_))',\n",
       "  'def func4(a,L=None):\\n    if L is None:\\n        L=[]\\n        L.append(a)\\n    return L\\nfunc4(100)',\n",
       "  'list_ = []\\nfunc4(10,list_)',\n",
       "  'list_ = []\\nfunc4(10,list_)',\n",
       "  'def func4(a,L=None):\\n    if L is None:\\n        L=[]\\n    L.append(a)\\n    return L\\nfunc4(100)',\n",
       "  'list_ = []\\nfunc4(10,list_)',\n",
       "  'func4(2,list_)',\n",
       "  'func4(a=2,L=list_)',\n",
       "  'func4(L=list_,a=2)',\n",
       "  'func4(a=30)',\n",
       "  'func4()',\n",
       "  'def add(a,b):\\n    return a+b\\nprint(add(1,2,3))',\n",
       "  'print(add(10,20))',\n",
       "  'def add(a,b,c):\\n    return a+b+c\\nprint(add(1,2,3))',\n",
       "  'def add(a,b):\\n    return a+b\\nprint(add(1,2))',\n",
       "  'print(add(10,20))',\n",
       "  'def add(a,b):\\n    return a+b\\nprint(add(1,2))',\n",
       "  'def add(a,b,c):\\n    return a+b+c\\nprint(add(1,2,3))',\n",
       "  'print(add(10,20))',\n",
       "  '# args앞에 *: args가 튜플전달 \\ndef add(*args):#args=(1,2,3,4,5)\\n    sum=0\\n    for num in args:\\n        sum+=num\\n    return sum\\nadd(1,2,3,4,5)\\n    ',\n",
       "  '# args앞에 *: args가 튜플전달 \\ndef add(*args):#args=(1,2,3,4,5)\\n    sum=0\\n    for num in args:\\n        sum+=num\\n    return sum\\n\\nadd(1,2,3,4,5)\\nadd(1,)',\n",
       "  '# args앞에 *: args가 튜플전달 \\ndef add(*args):#args=(1,2,3,4,5)\\n    sum=0\\n    for num in args:\\n        sum+=num\\n    return sum\\n\\nadd(1,2,3,4,5)\\nadd(1,2,,,)',\n",
       "  '# args앞에 *: args가 튜플전달 \\ndef add(*args):#args=(1,2,3,4,5)\\n    sum=0\\n    for num in args:\\n        sum+=num\\n    return sum\\n\\nadd(1,2,3,4,5)\\nadd(1,2,)',\n",
       "  '# args앞에 *: args가 튜플전달 \\ndef add(*args):#args=(1,2,3,4,5)\\n    sum=0\\n    for num in args:\\n        sum+=num\\n    return sum\\n\\nprint(add(1,2,3,4,5))\\nadd(1,2,)',\n",
       "  \"city= ('서울','부산','인천')\\n'-'.join(city)\",\n",
       "  'def concat(*args,sep):\\n    return sep.join(args)',\n",
       "  \"concat=('hello','world',sep='/')\",\n",
       "  'def concat(*args,sep):\\n    return sep.join(args)',\n",
       "  \"concat=('hello','world','/')\",\n",
       "  'def concat(*args,sep):\\n    return sep.join(args)',\n",
       "  \"concat=('hello','world','/')\",\n",
       "  \"#해결책1 \\nconcat('hello','world',sep='/')\",\n",
       "  'def concat(*args,sep):\\n    return sep.join(args)',\n",
       "  \"concat=('hello','world','/')\",\n",
       "  \"#해결책1 \\nconcat('hello','world',sep='/')\",\n",
       "  \"#해결책1 \\nconcat('hello','world',sep='/')\",\n",
       "  'def concat(*args,sep):\\n    return sep.join(args)',\n",
       "  'def concat(*args,sep):\\n    return sep.join(args)',\n",
       "  'def concat(*args,sep):\\n    return sep.join(args)',\n",
       "  \"concat=('hello','world','/')\",\n",
       "  'def concat(*args,sep):\\n    return sep.join(args)',\n",
       "  'def concat(*args,sep):\\n    return sep.join(args)',\n",
       "  \"concat=('hello','world','/')\",\n",
       "  '#해결책2\\ndef concat(sep,*args):\\n    return sep.join(args)',\n",
       "  \"concat('/','earth','venus')\",\n",
       "  \"concat('/','earth','mars','venus')\",\n",
       "  \"concat(sep='/','earth','mars','venus')\",\n",
       "  \"concat('/','earth','mars','venus')\",\n",
       "  'def concat(*args,sep):\\n    return sep.join(args)',\n",
       "  \"concat=('hello','world','/')\",\n",
       "  \"concat(earth','mars','venus')\",\n",
       "  \"concat('earth','mars','venus')\",\n",
       "  '#해결책3',\n",
       "  'def concat(*args,sep):\\n    return sep.join(args)',\n",
       "  \"concat=('hello','world','/')\",\n",
       "  \"#해결책1 \\nconcat('hello','world',sep='/')\",\n",
       "  'def concat(*args,sep):\\n    return sep.join(args)',\n",
       "  \"concat=('hello','world','/')\",\n",
       "  \"#해결책3\\ndef concat(*args,sep='/'):#순서인수>튜플인스>키워드인수 \\n    return sep.join(args)\",\n",
       "  \"concat('earth','mars','venus')\",\n",
       "  'def concat(*args,sep):\\n    return sep.join(args)',\n",
       "  \"concat=('hello','world','/')\",\n",
       "  \"#해결책1 \\nconcat('hello','world',sep='/')\",\n",
       "  \"concat('Python','R','haddop',sep=' ~ ')\",\n",
       "  \"concat('Python','R','haddop',sep='~')\",\n",
       "  \"#해결책3\\ndef concat(*args,sep='/'):#순서인수>튜플인스>키워드인수 \\n    return sep.join(args)\",\n",
       "  \"concat('earth','mars','venus')\",\n",
       "  \"concat('Python','R','haddop',sep='~')\",\n",
       "  \"#해결책3\\ndef concat(*args,sep='/'):#순서인수>튜플인스>키워드인수 \\n    return sep.join(args)\",\n",
       "  \"concat('earth','mars','venus')\",\n",
       "  \"concat('Python','R','haddop',sep='~')\",\n",
       "  \"city= ('서울','부산','인천')\\n'-'.join(city)\",\n",
       "  'def concat(*args, sep):\\n    return sep.join(args)',\n",
       "  \"concat('hello', 'world', '/')\",\n",
       "  \"# 해결책1\\nconcat('hello', 'world', sep='/')\",\n",
       "  'def concat(*args,sep):\\n    return sep.join(args)',\n",
       "  \"concat('hello', 'world', '/')\",\n",
       "  \"# 해결책1\\nconcat('hello', 'world', sep='/')\",\n",
       "  'def concat(*args, sep):\\n    return sep.join(args)',\n",
       "  \"concat('hello', 'world', '/')\",\n",
       "  \"# 해결책1\\nconcat('hello', 'world', sep='/')\",\n",
       "  'def concat(*args,sep):\\n    return sep.join(args)',\n",
       "  \"concat('hello', 'world', '/')\",\n",
       "  \"# 해결책1\\nconcat('hello', 'world', sep='/')\",\n",
       "  'def concat(*args, sep):\\n    return sep.join(args)',\n",
       "  \"concat('Python','R','haddop',sep='~')\",\n",
       "  \"#해결책3\\ndef concat(*args,sep='/'):#순서인수>튜플인스>키워드인수 \\n    return sep.join(args)\",\n",
       "  \"concat('earth','mars','venus')\",\n",
       "  \"concat('Python','R','haddop',sep='~')\",\n",
       "  \"def func5(**args):#args가 딕셔너리로 전달(**)\\n    for item in args.items():\\n        print(item)\\nfunc5(name='홍길동',age=20,address='서울시')\",\n",
       "  'def func5(**args):#args가 딕셔너리로 전달(**)\\n                 #args={name=\\'홍길동\\',age=20,address=\\'서울시\\'}\\n    for key,item in args.items():\\n        print(\"{}:{}\".format(key,value))\\nfunc5(name=\\'홍길동\\',age=20,address=\\'서울시\\')',\n",
       "  'def func5(**args):#args가 딕셔너리로 전달(**)\\n                 #args={name=\\'홍길동\\',age=20,address=\\'서울시\\'}\\n    for key,value in args.items():\\n        print(\"{}:{}\".format(key,value))\\nfunc5(name=\\'홍길동\\',age=20,address=\\'서울시\\')',\n",
       "  \"func6(10,1,2,3,4,5,6,name='kim',age=30)\",\n",
       "  \"#순서인수,튜블인수,키워드인수,딕셔너리인수\\ndef func6(a,*b,**c)\\n    print('a=',a)\\n    print('b=',b)\\n    print('c=',c)\",\n",
       "  \"#순서인수,튜블인수,키워드인수,딕셔너리인수\\ndef func6(a,*b,**c):\\n    print('a=',a)\\n    print('b=',b)\\n    print('c=',c)\",\n",
       "  \"func6(10,1,2,3,4,5,6,name='kim',age=30)\",\n",
       "  \"def func(a,b,c,*d,e=10,**f):\\n    print('a=')\\n    print('a=')\\n    print('a=')\\n    print('a=')\",\n",
       "  \"def func(a,b,c,*d,e=10,**f):\\n    print('a=')\\n    print('a=')\\n    print('a=')\\n    print('a=')\",\n",
       "  \"def func(a,b,c,*d,e=10,**f):\\n    print('a=')\\n    print('a=')\\n    print('a=')\\n    print('a=')\\n    print('a=')\\n    print('a=')\",\n",
       "  \"def func(a,b,c,*d,e=10,**f):\\n    print('a=')\\n    print('a=')\\n    print('a=')\\n    print('a=')\\n    print('a=')\\n    print('a=')\",\n",
       "  \"func(10,20,30,1,2,3,4,5,e=20,name='kim',age=30,address='마포')\",\n",
       "  \"def func(a,b,c,*d,e=10,**f):\\n    print('a=',a)\\n    print('b=',b)\\n    print('c=',c)\\n    print('d=',d)\\n    print('e=',e)\\n    print('f=',f)\",\n",
       "  \"func(10,20,30,1,2,3,4,5,e=20,name='kim',age=30,address='마포')\",\n",
       "  'def add(*args):\\n    sum=0\\n    for num in args:\\n        sum+=num\\n    return sum\\nadd(1,2,3,4)',\n",
       "  'numbers=(1,2,3,4)\\nadd(numbers)',\n",
       "  '**튜블언패킹**',\n",
       "  'numbers=(1,2,3,4)\\n#add(numbers)\\nadd(*numbers)',\n",
       "  '#예제:\\nrange(10)',\n",
       "  '#예제:\\nlist(range(10))',\n",
       "  '#예제:\\nprint(list(range(10)))',\n",
       "  '#예제:\\nprint(list(range(10)))\\nprint(list(range(5,10)))\\nprint(list(range(5,10,2)))',\n",
       "  'def range2(*args):\\n    for num in args:\\n        return num',\n",
       "  'range2(10)',\n",
       "  'def range2(*args):\\n    for num in range(args):\\n        return num',\n",
       "  'range2(10)',\n",
       "  'def range2(*args):\\n    for num in range(args):\\n        return num',\n",
       "  'range2(10)',\n",
       "  'def range2(*args):\\n    for num in args:\\n        return num',\n",
       "  'range2(10)',\n",
       "  'for num in range(10):\\n        print(num)',\n",
       "  \"def range2(args):\\n    for num in range(args):\\n        print(num,end=' ')\",\n",
       "  'range2(10)',\n",
       "  \"def range2(*args):\\n    for num in range(args[0]):\\n        print(num,end=' ')\",\n",
       "  'range2(10)',\n",
       "  \"def range2(*args):\\n        for num in range(args[0]):\\n            print(num,end=' ')\",\n",
       "  'range2(10)',\n",
       "  'range2(5)',\n",
       "  'range2(5,1)',\n",
       "  'range2(5,1)',\n",
       "  \"def range2(*args):\\n        for num in range(args[0],args[1]):\\n            print(num,end=' ')\",\n",
       "  'range2(5,10)',\n",
       "  \"def range2(*args):\\n        for num in range(args[0],args[1],args[2]):\\n            print(num,end=' ')\",\n",
       "  'range2(5,10,2)',\n",
       "  \"def range2(*args):\\n        for num in range(args[0],args[1],args[2]):\\n            print(num,end=' ')\",\n",
       "  'range2(5)',\n",
       "  'range2(5,10,2)',\n",
       "  \"def range2(*args):\\n    length=len(args)\\n    elif length ==1:\\n        for i in range(args[0]):\\n            print(num,end=' ')\\n    elif length ==2:\\n        for num in range(args[0],args[1]):\\n            print(num,end=' ')\\n    elif length ==3:\\n        for num in range(args[0],args[1],args[2]):\\n            print(num,end=' ')\\n    else:\\n        print('ㅃㅃ')\",\n",
       "  \"def range2(*args):\\n    length=len(args)\\n    if length ==1:\\n        for i in range(args[0]):\\n            print(num,end=' ')\\n    elif length ==2:\\n        for num in range(args[0],args[1]):\\n            print(num,end=' ')\\n    elif length ==3:\\n        for num in range(args[0],args[1],args[2]):\\n            print(num,end=' ')\\n    else:\\n        print('ㅃㅃ')\",\n",
       "  'range2(10,1)',\n",
       "  \"def range2(*args):\\n    length=len(args)\\n    if length ==1:\\n        for i in range(args[0]):\\n            print(num,end=' ')\\n    elif length ==2:\\n        for num in range(args[0],args[1]):\\n            print(num,end=' ')\\n    elif length ==3:\\n        for num in range(args[0],args[1],args[2]):\\n            print(num,end=' ')\\n    else:\\n        print('ㅃㅃ')\",\n",
       "  'range2(10,1,2)',\n",
       "  \"def range2(*args):\\n    length=len(args)\\n    if length ==1:\\n        for i in range(args[0]):\\n            print(num,end=' ')\\n    elif length ==2:\\n        for num in range(args[0],args[1]):\\n            print(num,end=' ')\\n    elif length ==3:\\n        for num in range(args[0],args[1],args[2]):\\n            print(num,end=' ')\\n    else:\\n        print('ㅃㅃ')\",\n",
       "  'range3(10,1,2)',\n",
       "  \"def range3(*args):\\n    length=len(args)\\n    result=[]\\n    if length==0:\\n        raise Exception('매개변수가 없으면 안 돼')\\n    elif length ==1:\\n        for i in range(args[0]):\\n            result.append(i)\\n    elif length ==2:\\n        for i in range(args[0],args[1]):\\n            result.append(i)\\n    elif length ==3:\\n        for i in range(args[0],args[1],args[2]):\\n            result.append(i)\\n    else:\\n        print('떼기')\",\n",
       "  'range3(10,1,2)',\n",
       "  'range3(10,1,2)',\n",
       "  'range(10,20,3)',\n",
       "  'range4(10,20,3)',\n",
       "  \"def range4(*args):\\n    for num in range(args[0],args[1],args[2]):\\n            print(num,end=' ')\",\n",
       "  'range4(10,20,3)',\n",
       "  'range3(1,10,2)',\n",
       "  'range3(1,10,2)',\n",
       "  'range2(5,10,2)',\n",
       "  \"def range2(*args):\\n    length=len(args)\\n    if length ==1:\\n        for i in range(args[0]):\\n            print(num,end=' ')\\n    elif length ==2:\\n        for num in range(args[0],args[1]):\\n            print(num,end=' ')\\n    elif length ==3:\\n        for num in range(args[0],args[1],args[2]):\\n            print(num,end=' ')\\n    else:\\n        print('제대로 입력하시오')\",\n",
       "  'range4(10,20,3)\\nrange2(10,20)',\n",
       "  'range4(10,20,3)\\nrange2(10,20,1)',\n",
       "  'range4(10,20,3)\\nrange2(10,20,1)',\n",
       "  'range2(10,20,1)',\n",
       "  \"def range2(*args):\\n    length=len(args)\\n    if length ==1:\\n        for i in range(args[0]):\\n            print(num,end=' ')\\n    elif length ==2:\\n        for num in range(args[0],args[1]):\\n            print(num,end=' ')\\n    elif length ==3:\\n        for num in range(args[0],args[1],args[2]):\\n            print(num,end=' ')\\n    else:\\n        print('제대로 입력하시오')\",\n",
       "  \"def range3(*args):\\n    length=len(args)\\n    result=[]\\n    if length==0:\\n        raise Exception('매개변수가 없으면 안 돼')\\n    elif length ==1:\\n        for i in range(args[0]):\\n            result.append(i)\\n    elif length ==2:\\n        for i in range(args[0],args[1]):\\n            result.append(i)\\n    elif length ==3:\\n        for i in range(args[0],args[1],args[2]):\\n            result.append(i)\\n    else:\\n        print('떼기')\",\n",
       "  'range3(10,20,1)',\n",
       "  'range2(10,20,1)',\n",
       "  \"def range2(*args):\\n    length=len(args)\\n    if length ==1:\\n        for i in range(args[0]):\\n            print(num,end=' ')\\n    elif length ==2:\\n        for num in range(args[0],args[1]):\\n            print(num,end=' ')\\n    elif length ==3:\\n        for num in range(args[0],args[1],args[2]):\\n            print(num,end=' ')\\n    else:\\n        print('제대로 입력하시오')\",\n",
       "  'range2(10,20,1)',\n",
       "  'range2(10)',\n",
       "  \"def range2(*args):\\n    length=len(args)\\n    if length ==1:\\n        for num in range(args[0]):\\n            print(num,end=' ')\\n    elif length ==2:\\n        for num in range(args[0],args[1]):\\n            print(num,end=' ')\\n    elif length ==3:\\n        for num in range(args[0],args[1],args[2]):\\n            print(num,end=' ')\\n    else:\\n        print('제대로 입력하시오')\",\n",
       "  'range2(10)',\n",
       "  'range2(10,20)',\n",
       "  'range3(10,20,30)',\n",
       "  'a=range3(10,20,30)\\nprint(a)',\n",
       "  'a=range3(10,20,30)\\nprint(a)',\n",
       "  'range2(10,20,50,20)',\n",
       "  'range3(10,20,1)',\n",
       "  'range3(10)',\n",
       "  \"def range3(*args):\\n    length=len(args)\\n    result=[]\\n    if length==0:\\n        raise Exception('매개변수가 없으면 안 돼')\\n    elif length ==1:\\n        for i in range(args[0]):\\n            result.append(i)\\n    elif length ==2:\\n        for i in range(args[0],args[1]):\\n            result.append(i)\\n    elif length ==3:\\n        for i in range(args[0],args[1],args[2]):\\n            result.append(i)\\n    else:\\n        print('떼기')\",\n",
       "  'range3(10)',\n",
       "  \"def range3(*args):\\n    length=len(args)\\n    result=[]\\n    if length==0:\\n        raise Exception('매개변수가 없으면 안 돼')\\n    elif length ==1:\\n        print('출력')\\n        for i in range(args[0]):\\n            result.append(i)\\n    elif length ==2:\\n        for i in range(args[0],args[1]):\\n            result.append(i)\\n    elif length ==3:\\n        for i in range(args[0],args[1],args[2]):\\n            result.append(i)\\n    else:\\n        print('떼기')\",\n",
       "  'range3(10)',\n",
       "  \"def range3(*args):\\n    length=len(args)\\n    result=[]\\n    if length==0:\\n        raise Exception('매개변수가 없으면 안 돼')\\n    elif length ==1:\\n        for i in range(args[0]):\\n            result.append(i)\\n    elif length ==2:\\n        for i in range(args[0],args[1]):\\n            result.append(i)\\n    elif length ==3:\\n        for i in range(args[0],args[1],args[2]):\\n            result.append(i)\\n    else:\\n        print('떼기')\\n    return result\",\n",
       "  'range3(10)',\n",
       "  \"def range2(*args):\\n    length=len(args)\\n    if length==0:\\n        print('매개 변수를 입력하세요')\\n    elif length ==1:\\n        for num in range(args[0]):\\n            print(num,end=' ')\\n    elif length ==2:\\n        for num in range(args[0],args[1]):\\n            print(num,end=' ')\\n    elif length ==3:\\n        for num in range(args[0],args[1],args[2]):\\n            print(num,end=' ')\\n    else:\\n        print('제대로 입력하시오')\",\n",
       "  'range2()',\n",
       "  't=(5,10,2)\\nrange(t)',\n",
       "  't=(5,10,2)\\nrange(*t)',\n",
       "  't=(5,10,2)\\nrange2(*t)',\n",
       "  't=(5,10,2)\\nrange2(t)',\n",
       "  't=(5,10,2)\\nrange2(*t)',\n",
       "  \"def func5(**data):\\n    for item in data.items()\\n        print(item)\\nfunc5(name='홍길동',age=30,addres='마포')\\n        \",\n",
       "  \"def func5(**data):\\n    for item in data.items():\\n        print(item)\\nfunc5(name='홍길동',age=30,addres='마포')\\n        \",\n",
       "  \"def func5(**data):\\n    for key,value in data.items():\\n        print(key,value)\\nfunc5(name='홍길동',age=30,addres='마포')\\n        \",\n",
       "  \"def func5(**data):\\n    for item in data.items():\\n        print(item)\\nfunc5(name='홍길동',age=30,addres='마포')\\n        \",\n",
       "  \"customerInfo={'name':'홍길동','age':30,'address':'마포'}\\nfunc5(**customerInfo)\",\n",
       "  'l=[1,2,3]\\n[x**3 for x in l]',\n",
       "  'def add(a,b):\\n    return a+b\\nadd(5,6)',\n",
       "  'xx =add\\ntype(add)',\n",
       "  'add2 = lambda a,b : a+b',\n",
       "  'add2(10,20)',\n",
       "  '(lambda a,b:a+b)(30,40)',\n",
       "  'def map_template(func, L=[]):\\n    result=[]\\n    for item in L:\\n        result.append(func(item))\\n    return result     \\n    ',\n",
       "  'list_data=[1,2,3,4,5]\\ndef x_2(x):\\n    return x*2',\n",
       "  'list_data=[1,2,3,4,5]\\ndef x_2(x):\\n    return x*2\\nmap_template(x_2,list_date)',\n",
       "  'list_data=[1,2,3,4,5]\\ndef x_2(x):\\n    return x*2\\nmap_template(x_2,list_data)',\n",
       "  'list_data=[1,2,3,4,5]\\ndef x_2(x):\\n    return x*x\\nmap_template(x_2,list_data)',\n",
       "  'list_data=[1,2,3,4,5]\\ndef x_2(x):\\n    return x*2\\nmap_template(x_2,list_data)',\n",
       "  'map_template(lambda x:x*2,list_data)',\n",
       "  '# map()함수 이용\\nlist(map(lambdax:x*2,list_data))',\n",
       "  '# map()함수 이용\\nlist(map(lambda x:x*2,list_data))',\n",
       "  '# map()함수 이용\\nlist(map(lambda x:x*2,list_data))\\nmap(lambda x:x*2,list_data)',\n",
       "  '# map()함수 이용\\nprint(list(map(lambda x:x*2,list_data)))\\nmap(lambda x:x*2,list_data)',\n",
       "  '#리스트 컴프리헨션\\n[x*2 for x in list_data]',\n",
       "  'def evenyesorno(x):\\n    if x%2==0:\\n        return True\\n    else:\\n        return False',\n",
       "  'list_data=[1,2,3,4,5]\\ndef filter_template(func,L=[])\\n    result=[]\\n    for item in L:\\n        if func(item):\\n            result.append(item)\\n    return result ',\n",
       "  'def evenyesorno(x):\\n    if x%2==0:\\n        return True\\n    else:\\n        return False',\n",
       "  'list_data=[1,2,3,4,5]\\ndef filter_template(func,L=[])\\n    result=[]\\n    for item in L:\\n        if func(item):\\n            result.append(item)\\n    return result ',\n",
       "  'list_data=[1,2,3,4,5]\\ndef filter_template(func,L=[]):\\n    result=[]\\n    for item in L:\\n        if func(item):\\n            result.append(item)\\n    return result ',\n",
       "  'def evenyesorno(x):\\n    if x%2==0:\\n        return True\\n    else:\\n        return False\\nfilter_template(evenyesorno,list_data)',\n",
       "  'filter_template(lambda x: x%2==0,list_data)',\n",
       "  '# filter()함수\\nlist(filter(lambda x: x%==0,list_data))',\n",
       "  '# filter()함수\\nlist(filter(lambda x: x%2==0,list_data))',\n",
       "  '# 리스트 컴프리헨션\\n[x for x in list_data if x%2==0]',\n",
       "  \"pairs= [(1,'one'),(3,'three'),(2,'two'),(4,'four')]\\nmax(pairs)\",\n",
       "  \"pairs= [(1,'one'),(3,'three'),(2,'two'),(4,'four')]\\npairs.sort()\\npairs\",\n",
       "  \"pairs= [(1,'one'),(3,'three'),(2,'two'),(4,'four')]\\npairs.sort(1)\\npairs\",\n",
       "  \"pairs= [(1,'one'),(3,'three'),(2,'two'),(4,'four')]\\npairs.sort(1)\\npairs\",\n",
       "  \"pairs= [(1,'one'),(3,'three'),(2,'two'),(4,'four')]\\npairs.sort(2)\\npairs\",\n",
       "  \"pairs= [(1,'one'),(3,'three'),(2,'two'),(4,'four')]\\npairs.sort()\\npairs\",\n",
       "  'lambda pair : pair[1](10,20,30)',\n",
       "  '(lambda pair : pair[1](10,20,30))',\n",
       "  'pairs.sort(key=lambda pair : pair[1])',\n",
       "  \"pairs= [(1,'one'),(3,'three'),(2,'two'),(4,'four')]\\npairs.sort()\\npairs\",\n",
       "  'pairs.sort(key=lambda pair : pair[1])',\n",
       "  'pairs.sort(key=lambda pair : pair[1])\\npairs',\n",
       "  '(lambda pair : pair[1](10,20,30))',\n",
       "  'lambda pair : pair[1]',\n",
       "  '(lambda pair : pair[1])',\n",
       "  '(lambda pair : pair[1])(10,20,30)',\n",
       "  '((lambda pair : pair[1])(10,20,30))',\n",
       "  'def apply(data,func=None):\\n    if func==None:\\n        return data\\n    else:\\n        return func(data)\\napply(100,lambda x:x**3)',\n",
       "  '((lambda pair : pair[1])',\n",
       "  '(lambda pair : pair[1])',\n",
       "  'lambda pair : pair[1]',\n",
       "  'lambda pairs : pairs[1]',\n",
       "  'lambda pairs : pairs[1]',\n",
       "  'lambda pairs : pairs[1]',\n",
       "  '(lambda pairs : pairs[1])',\n",
       "  'lambda pairs',\n",
       "  'lambda pairs: pairs*2',\n",
       "  '# 함수를 return하는 함수\\ndef make_box(shape):\\n    def box(init_value):\\n        if len(shape)==1:\\n            return[init_value]*shape[0]\\n    ',\n",
       "  'box1=make_box([5,])',\n",
       "  'type(box1)',\n",
       "  '# 함수를 return하는 함수\\ndef make_box(shape):\\n    def box(init_value):\\n        if len(shape)==1:\\n            return[init_value]*shape[0]\\n        elif len(shape)==2:\\n            return[[init_value]*shape[1]*shape[0]]\\n    return box\\n    ',\n",
       "  'box1=make_box([5,])',\n",
       "  'box1(10)',\n",
       "  'box1(20)',\n",
       "  'box1(10)',\n",
       "  'box1=make_box([5,])\\ntype(box1)',\n",
       "  'type(box1)',\n",
       "  'box1=make_box([5,])\\ntype(box1)',\n",
       "  'box2=make_box([2,3])\\nbox2(10)',\n",
       "  '# 함수를 return하는 함수\\ndef make_box(shape):\\n    def box(init_value):\\n        if len(shape)==1:\\n            return[init_value]*shape[0]\\n        elif len(shape)==2:\\n            return[[init_value]*shape[1]]*shape[0]\\n    return box\\n    ',\n",
       "  'box2=make_box([2,3])\\nbox2(10)',\n",
       "  'def make_box(shape):\\n    if len(shape)==1:\\n        return lambda x: [x]*shape[0]',\n",
       "  'def make_box(shape):\\n    if len(shape)==1:\\n        return lambda x: [x]*shape[0]\\n    elif len(shape)==2:\\n        return lambda x:[[x]*shape[1]]*shape[0]',\n",
       "  'box1=make_box1(3,2)\\nbox1(5)',\n",
       "  'def make_box1(shape):\\n    if len(shape)==1:\\n        return lambda x: [x]*shape[0]\\n    elif len(shape)==2:\\n        return lambda x:[[x]*shape[1]]*shape[0]',\n",
       "  'box1=make_box1(3,2)\\nbox1(5)',\n",
       "  'box1=make_box1(3,2)\\nbox1(5)',\n",
       "  'def make_box1(shape):\\n    if len(shape)==1:\\n        return lambda x: [x]*shape[0]\\n    elif len(shape)==2:\\n        return lambda x:[[x]*shape[1]]*shape[0]',\n",
       "  'box1=make_box1(3,2)\\nbox1(5)',\n",
       "  'box1=make_box1((3,2))\\nbox1(5)',\n",
       "  'box2=make_box1((7,))\\nbox2(10)',\n",
       "  'box2=make_box1((7))\\nbox2(10)',\n",
       "  'box2=make_box1((7,))\\nbox2(10)',\n",
       "  'len(1,)',\n",
       "  'a=(1,)\\nlen(a)',\n",
       "  'a=(1)\\nlen(a)',\n",
       "  'a=(1)\\nlen(a)',\n",
       "  \"a=('가')\\nlen(a)\",\n",
       "  \"a=('가',)\\nlen(a)\",\n",
       "  \"a=('가')\\nlen(a)\",\n",
       "  'a=(1)\\nlen(a)',\n",
       "  'a=(1,)\\nlen(a)',\n",
       "  '(lambda pair : pair[1])(10,20)',\n",
       "  '(lambda pair : pair[1])(10,20,30)',\n",
       "  '(lambda pair:pair[1])(10,20,30)',\n",
       "  'set([1,2,3])',\n",
       "  'set(1,2,3)',\n",
       "  'set([1,2,3])',\n",
       "  'set{1,2,3}',\n",
       "  'set(1,2,3)',\n",
       "  'set((1,2,3))',\n",
       "  \"int('1.2')\",\n",
       "  \"float('1.2')\",\n",
       "  \"int('1.2')\",\n",
       "  \"float('1.2')\\n#int('1.2')\\nint(float('1.2'))\",\n",
       "  'globals()# 전역변수들 딕셔너리 '],\n",
       " '_oh': {1: [100],\n",
       "  3: [100],\n",
       "  4: [],\n",
       "  5: [],\n",
       "  6: [100],\n",
       "  7: [10, 2, 2, 2],\n",
       "  8: [10, 2, 2, 2],\n",
       "  9: [10, 2, 2, 2],\n",
       "  10: [10, 2, 2, 2],\n",
       "  11: [30],\n",
       "  21: 15,\n",
       "  22: 1,\n",
       "  24: 3,\n",
       "  25: 3,\n",
       "  26: '서울-부산-인천',\n",
       "  46: 'earth/venus',\n",
       "  47: 'earth/mars/venus',\n",
       "  49: 'earth/mars/venus',\n",
       "  61: 'earth/mars/venus',\n",
       "  68: 'earth/mars/venus',\n",
       "  69: 'Python~R~haddop',\n",
       "  71: 'earth/mars/venus',\n",
       "  72: 'Python~R~haddop',\n",
       "  73: '서울-부산-인천',\n",
       "  76: 'hello/world',\n",
       "  79: 'hello/world',\n",
       "  82: 'hello/world',\n",
       "  85: 'hello/world',\n",
       "  87: 'Python~R~haddop',\n",
       "  89: 'earth/mars/venus',\n",
       "  90: 'Python~R~haddop',\n",
       "  105: 10,\n",
       "  108: 10,\n",
       "  109: range(0, 10),\n",
       "  110: [0, 1, 2, 3, 4, 5, 6, 7, 8, 9],\n",
       "  114: 10,\n",
       "  120: 10,\n",
       "  148: range(10, 20, 3),\n",
       "  181: [0, 1, 2, 3, 4, 5, 6, 7, 8, 9],\n",
       "  185: range(5, 10, 2),\n",
       "  194: [1, 8, 27],\n",
       "  195: 11,\n",
       "  196: function,\n",
       "  198: 30,\n",
       "  199: 70,\n",
       "  203: [2, 4, 6, 8, 10],\n",
       "  204: [1, 4, 9, 16, 25],\n",
       "  205: [2, 4, 6, 8, 10],\n",
       "  206: [2, 4, 6, 8, 10],\n",
       "  208: [2, 4, 6, 8, 10],\n",
       "  209: <map at 0x1ef973f0280>,\n",
       "  210: <map at 0x1ef963ebfa0>,\n",
       "  211: [2, 4, 6, 8, 10],\n",
       "  217: [2, 4],\n",
       "  218: [2, 4],\n",
       "  220: [2, 4],\n",
       "  221: [2, 4],\n",
       "  222: (4, 'four'),\n",
       "  223: [(1, 'one'), (2, 'two'), (3, 'three'), (4, 'four')],\n",
       "  227: [(4, 'four'), (1, 'one'), (3, 'three'), (2, 'two')],\n",
       "  228: <function __main__.<lambda>(pair)>,\n",
       "  229: <function __main__.<lambda>(pair)>,\n",
       "  231: [(4, 'four'), (1, 'one'), (3, 'three'), (2, 'two')],\n",
       "  233: [(4, 'four'), (1, 'one'), (3, 'three'), (2, 'two')],\n",
       "  234: <function __main__.<lambda>(pair)>,\n",
       "  235: <function __main__.<lambda>(pair)>,\n",
       "  236: <function __main__.<lambda>(pair)>,\n",
       "  239: 1000000,\n",
       "  241: <function __main__.<lambda>(pair)>,\n",
       "  242: <function __main__.<lambda>(pair)>,\n",
       "  243: <function __main__.<lambda>(pairs)>,\n",
       "  244: <function __main__.<lambda>(pairs)>,\n",
       "  245: <function __main__.<lambda>(pairs)>,\n",
       "  246: <function __main__.<lambda>(pairs)>,\n",
       "  248: <function __main__.<lambda>(pairs)>,\n",
       "  251: NoneType,\n",
       "  254: [10, 10, 10, 10, 10],\n",
       "  255: [20, 20, 20, 20, 20],\n",
       "  256: [10, 10, 10, 10, 10],\n",
       "  257: function,\n",
       "  258: function,\n",
       "  259: function,\n",
       "  260: [[10, 10, 10, 10, 10, 10]],\n",
       "  262: [[10, 10, 10], [10, 10, 10]],\n",
       "  271: [[5, 5], [5, 5], [5, 5]],\n",
       "  272: [10, 10, 10, 10, 10, 10, 10],\n",
       "  274: [10, 10, 10, 10, 10, 10, 10],\n",
       "  276: 1,\n",
       "  279: 1,\n",
       "  280: 1,\n",
       "  281: 1,\n",
       "  283: 1,\n",
       "  287: {1, 2, 3},\n",
       "  289: {1, 2, 3},\n",
       "  292: {1, 2, 3},\n",
       "  294: 1.2,\n",
       "  296: 1},\n",
       " '_dh': ['E:\\\\금경용\\\\src\\\\08_python'],\n",
       " 'In': ['',\n",
       "  'def func4(a,L=None):\\n    if L is None:\\n        L=[]\\n        L.append(a)\\n        return L\\nfunc4(100)',\n",
       "  'list_ = []\\nprint(func4(10,list_))',\n",
       "  'def func4(a,L=None):\\n    if L is None:\\n        L=[]\\n        L.append(a)\\n    return L\\nfunc4(100)',\n",
       "  'list_ = []\\nfunc4(10,list_)',\n",
       "  'list_ = []\\nfunc4(10,list_)',\n",
       "  'def func4(a,L=None):\\n    if L is None:\\n        L=[]\\n    L.append(a)\\n    return L\\nfunc4(100)',\n",
       "  'list_ = []\\nfunc4(10,list_)',\n",
       "  'func4(2,list_)',\n",
       "  'func4(a=2,L=list_)',\n",
       "  'func4(L=list_,a=2)',\n",
       "  'func4(a=30)',\n",
       "  'func4()',\n",
       "  'def add(a,b):\\n    return a+b\\nprint(add(1,2,3))',\n",
       "  'print(add(10,20))',\n",
       "  'def add(a,b,c):\\n    return a+b+c\\nprint(add(1,2,3))',\n",
       "  'def add(a,b):\\n    return a+b\\nprint(add(1,2))',\n",
       "  'print(add(10,20))',\n",
       "  'def add(a,b):\\n    return a+b\\nprint(add(1,2))',\n",
       "  'def add(a,b,c):\\n    return a+b+c\\nprint(add(1,2,3))',\n",
       "  'print(add(10,20))',\n",
       "  '# args앞에 *: args가 튜플전달 \\ndef add(*args):#args=(1,2,3,4,5)\\n    sum=0\\n    for num in args:\\n        sum+=num\\n    return sum\\nadd(1,2,3,4,5)\\n    ',\n",
       "  '# args앞에 *: args가 튜플전달 \\ndef add(*args):#args=(1,2,3,4,5)\\n    sum=0\\n    for num in args:\\n        sum+=num\\n    return sum\\n\\nadd(1,2,3,4,5)\\nadd(1,)',\n",
       "  '# args앞에 *: args가 튜플전달 \\ndef add(*args):#args=(1,2,3,4,5)\\n    sum=0\\n    for num in args:\\n        sum+=num\\n    return sum\\n\\nadd(1,2,3,4,5)\\nadd(1,2,,,)',\n",
       "  '# args앞에 *: args가 튜플전달 \\ndef add(*args):#args=(1,2,3,4,5)\\n    sum=0\\n    for num in args:\\n        sum+=num\\n    return sum\\n\\nadd(1,2,3,4,5)\\nadd(1,2,)',\n",
       "  '# args앞에 *: args가 튜플전달 \\ndef add(*args):#args=(1,2,3,4,5)\\n    sum=0\\n    for num in args:\\n        sum+=num\\n    return sum\\n\\nprint(add(1,2,3,4,5))\\nadd(1,2,)',\n",
       "  \"city= ('서울','부산','인천')\\n'-'.join(city)\",\n",
       "  'def concat(*args,sep):\\n    return sep.join(args)',\n",
       "  \"concat=('hello','world',sep='/')\",\n",
       "  'def concat(*args,sep):\\n    return sep.join(args)',\n",
       "  \"concat=('hello','world','/')\",\n",
       "  'def concat(*args,sep):\\n    return sep.join(args)',\n",
       "  \"concat=('hello','world','/')\",\n",
       "  \"#해결책1 \\nconcat('hello','world',sep='/')\",\n",
       "  'def concat(*args,sep):\\n    return sep.join(args)',\n",
       "  \"concat=('hello','world','/')\",\n",
       "  \"#해결책1 \\nconcat('hello','world',sep='/')\",\n",
       "  \"#해결책1 \\nconcat('hello','world',sep='/')\",\n",
       "  'def concat(*args,sep):\\n    return sep.join(args)',\n",
       "  'def concat(*args,sep):\\n    return sep.join(args)',\n",
       "  'def concat(*args,sep):\\n    return sep.join(args)',\n",
       "  \"concat=('hello','world','/')\",\n",
       "  'def concat(*args,sep):\\n    return sep.join(args)',\n",
       "  'def concat(*args,sep):\\n    return sep.join(args)',\n",
       "  \"concat=('hello','world','/')\",\n",
       "  '#해결책2\\ndef concat(sep,*args):\\n    return sep.join(args)',\n",
       "  \"concat('/','earth','venus')\",\n",
       "  \"concat('/','earth','mars','venus')\",\n",
       "  \"concat(sep='/','earth','mars','venus')\",\n",
       "  \"concat('/','earth','mars','venus')\",\n",
       "  'def concat(*args,sep):\\n    return sep.join(args)',\n",
       "  \"concat=('hello','world','/')\",\n",
       "  \"concat(earth','mars','venus')\",\n",
       "  \"concat('earth','mars','venus')\",\n",
       "  '#해결책3',\n",
       "  'def concat(*args,sep):\\n    return sep.join(args)',\n",
       "  \"concat=('hello','world','/')\",\n",
       "  \"#해결책1 \\nconcat('hello','world',sep='/')\",\n",
       "  'def concat(*args,sep):\\n    return sep.join(args)',\n",
       "  \"concat=('hello','world','/')\",\n",
       "  \"#해결책3\\ndef concat(*args,sep='/'):#순서인수>튜플인스>키워드인수 \\n    return sep.join(args)\",\n",
       "  \"concat('earth','mars','venus')\",\n",
       "  'def concat(*args,sep):\\n    return sep.join(args)',\n",
       "  \"concat=('hello','world','/')\",\n",
       "  \"#해결책1 \\nconcat('hello','world',sep='/')\",\n",
       "  \"concat('Python','R','haddop',sep=' ~ ')\",\n",
       "  \"concat('Python','R','haddop',sep='~')\",\n",
       "  \"#해결책3\\ndef concat(*args,sep='/'):#순서인수>튜플인스>키워드인수 \\n    return sep.join(args)\",\n",
       "  \"concat('earth','mars','venus')\",\n",
       "  \"concat('Python','R','haddop',sep='~')\",\n",
       "  \"#해결책3\\ndef concat(*args,sep='/'):#순서인수>튜플인스>키워드인수 \\n    return sep.join(args)\",\n",
       "  \"concat('earth','mars','venus')\",\n",
       "  \"concat('Python','R','haddop',sep='~')\",\n",
       "  \"city= ('서울','부산','인천')\\n'-'.join(city)\",\n",
       "  'def concat(*args, sep):\\n    return sep.join(args)',\n",
       "  \"concat('hello', 'world', '/')\",\n",
       "  \"# 해결책1\\nconcat('hello', 'world', sep='/')\",\n",
       "  'def concat(*args,sep):\\n    return sep.join(args)',\n",
       "  \"concat('hello', 'world', '/')\",\n",
       "  \"# 해결책1\\nconcat('hello', 'world', sep='/')\",\n",
       "  'def concat(*args, sep):\\n    return sep.join(args)',\n",
       "  \"concat('hello', 'world', '/')\",\n",
       "  \"# 해결책1\\nconcat('hello', 'world', sep='/')\",\n",
       "  'def concat(*args,sep):\\n    return sep.join(args)',\n",
       "  \"concat('hello', 'world', '/')\",\n",
       "  \"# 해결책1\\nconcat('hello', 'world', sep='/')\",\n",
       "  'def concat(*args, sep):\\n    return sep.join(args)',\n",
       "  \"concat('Python','R','haddop',sep='~')\",\n",
       "  \"#해결책3\\ndef concat(*args,sep='/'):#순서인수>튜플인스>키워드인수 \\n    return sep.join(args)\",\n",
       "  \"concat('earth','mars','venus')\",\n",
       "  \"concat('Python','R','haddop',sep='~')\",\n",
       "  \"def func5(**args):#args가 딕셔너리로 전달(**)\\n    for item in args.items():\\n        print(item)\\nfunc5(name='홍길동',age=20,address='서울시')\",\n",
       "  'def func5(**args):#args가 딕셔너리로 전달(**)\\n                 #args={name=\\'홍길동\\',age=20,address=\\'서울시\\'}\\n    for key,item in args.items():\\n        print(\"{}:{}\".format(key,value))\\nfunc5(name=\\'홍길동\\',age=20,address=\\'서울시\\')',\n",
       "  'def func5(**args):#args가 딕셔너리로 전달(**)\\n                 #args={name=\\'홍길동\\',age=20,address=\\'서울시\\'}\\n    for key,value in args.items():\\n        print(\"{}:{}\".format(key,value))\\nfunc5(name=\\'홍길동\\',age=20,address=\\'서울시\\')',\n",
       "  \"func6(10,1,2,3,4,5,6,name='kim',age=30)\",\n",
       "  \"#순서인수,튜블인수,키워드인수,딕셔너리인수\\ndef func6(a,*b,**c)\\n    print('a=',a)\\n    print('b=',b)\\n    print('c=',c)\",\n",
       "  \"#순서인수,튜블인수,키워드인수,딕셔너리인수\\ndef func6(a,*b,**c):\\n    print('a=',a)\\n    print('b=',b)\\n    print('c=',c)\",\n",
       "  \"func6(10,1,2,3,4,5,6,name='kim',age=30)\",\n",
       "  \"def func(a,b,c,*d,e=10,**f):\\n    print('a=')\\n    print('a=')\\n    print('a=')\\n    print('a=')\",\n",
       "  \"def func(a,b,c,*d,e=10,**f):\\n    print('a=')\\n    print('a=')\\n    print('a=')\\n    print('a=')\",\n",
       "  \"def func(a,b,c,*d,e=10,**f):\\n    print('a=')\\n    print('a=')\\n    print('a=')\\n    print('a=')\\n    print('a=')\\n    print('a=')\",\n",
       "  \"def func(a,b,c,*d,e=10,**f):\\n    print('a=')\\n    print('a=')\\n    print('a=')\\n    print('a=')\\n    print('a=')\\n    print('a=')\",\n",
       "  \"func(10,20,30,1,2,3,4,5,e=20,name='kim',age=30,address='마포')\",\n",
       "  \"def func(a,b,c,*d,e=10,**f):\\n    print('a=',a)\\n    print('b=',b)\\n    print('c=',c)\\n    print('d=',d)\\n    print('e=',e)\\n    print('f=',f)\",\n",
       "  \"func(10,20,30,1,2,3,4,5,e=20,name='kim',age=30,address='마포')\",\n",
       "  'def add(*args):\\n    sum=0\\n    for num in args:\\n        sum+=num\\n    return sum\\nadd(1,2,3,4)',\n",
       "  'numbers=(1,2,3,4)\\nadd(numbers)',\n",
       "  '**튜블언패킹**',\n",
       "  'numbers=(1,2,3,4)\\n#add(numbers)\\nadd(*numbers)',\n",
       "  '#예제:\\nrange(10)',\n",
       "  '#예제:\\nlist(range(10))',\n",
       "  '#예제:\\nprint(list(range(10)))',\n",
       "  '#예제:\\nprint(list(range(10)))\\nprint(list(range(5,10)))\\nprint(list(range(5,10,2)))',\n",
       "  'def range2(*args):\\n    for num in args:\\n        return num',\n",
       "  'range2(10)',\n",
       "  'def range2(*args):\\n    for num in range(args):\\n        return num',\n",
       "  'range2(10)',\n",
       "  'def range2(*args):\\n    for num in range(args):\\n        return num',\n",
       "  'range2(10)',\n",
       "  'def range2(*args):\\n    for num in args:\\n        return num',\n",
       "  'range2(10)',\n",
       "  'for num in range(10):\\n        print(num)',\n",
       "  \"def range2(args):\\n    for num in range(args):\\n        print(num,end=' ')\",\n",
       "  'range2(10)',\n",
       "  \"def range2(*args):\\n    for num in range(args[0]):\\n        print(num,end=' ')\",\n",
       "  'range2(10)',\n",
       "  \"def range2(*args):\\n        for num in range(args[0]):\\n            print(num,end=' ')\",\n",
       "  'range2(10)',\n",
       "  'range2(5)',\n",
       "  'range2(5,1)',\n",
       "  'range2(5,1)',\n",
       "  \"def range2(*args):\\n        for num in range(args[0],args[1]):\\n            print(num,end=' ')\",\n",
       "  'range2(5,10)',\n",
       "  \"def range2(*args):\\n        for num in range(args[0],args[1],args[2]):\\n            print(num,end=' ')\",\n",
       "  'range2(5,10,2)',\n",
       "  \"def range2(*args):\\n        for num in range(args[0],args[1],args[2]):\\n            print(num,end=' ')\",\n",
       "  'range2(5)',\n",
       "  'range2(5,10,2)',\n",
       "  \"def range2(*args):\\n    length=len(args)\\n    elif length ==1:\\n        for i in range(args[0]):\\n            print(num,end=' ')\\n    elif length ==2:\\n        for num in range(args[0],args[1]):\\n            print(num,end=' ')\\n    elif length ==3:\\n        for num in range(args[0],args[1],args[2]):\\n            print(num,end=' ')\\n    else:\\n        print('ㅃㅃ')\",\n",
       "  \"def range2(*args):\\n    length=len(args)\\n    if length ==1:\\n        for i in range(args[0]):\\n            print(num,end=' ')\\n    elif length ==2:\\n        for num in range(args[0],args[1]):\\n            print(num,end=' ')\\n    elif length ==3:\\n        for num in range(args[0],args[1],args[2]):\\n            print(num,end=' ')\\n    else:\\n        print('ㅃㅃ')\",\n",
       "  'range2(10,1)',\n",
       "  \"def range2(*args):\\n    length=len(args)\\n    if length ==1:\\n        for i in range(args[0]):\\n            print(num,end=' ')\\n    elif length ==2:\\n        for num in range(args[0],args[1]):\\n            print(num,end=' ')\\n    elif length ==3:\\n        for num in range(args[0],args[1],args[2]):\\n            print(num,end=' ')\\n    else:\\n        print('ㅃㅃ')\",\n",
       "  'range2(10,1,2)',\n",
       "  \"def range2(*args):\\n    length=len(args)\\n    if length ==1:\\n        for i in range(args[0]):\\n            print(num,end=' ')\\n    elif length ==2:\\n        for num in range(args[0],args[1]):\\n            print(num,end=' ')\\n    elif length ==3:\\n        for num in range(args[0],args[1],args[2]):\\n            print(num,end=' ')\\n    else:\\n        print('ㅃㅃ')\",\n",
       "  'range3(10,1,2)',\n",
       "  \"def range3(*args):\\n    length=len(args)\\n    result=[]\\n    if length==0:\\n        raise Exception('매개변수가 없으면 안 돼')\\n    elif length ==1:\\n        for i in range(args[0]):\\n            result.append(i)\\n    elif length ==2:\\n        for i in range(args[0],args[1]):\\n            result.append(i)\\n    elif length ==3:\\n        for i in range(args[0],args[1],args[2]):\\n            result.append(i)\\n    else:\\n        print('떼기')\",\n",
       "  'range3(10,1,2)',\n",
       "  'range3(10,1,2)',\n",
       "  'range(10,20,3)',\n",
       "  'range4(10,20,3)',\n",
       "  \"def range4(*args):\\n    for num in range(args[0],args[1],args[2]):\\n            print(num,end=' ')\",\n",
       "  'range4(10,20,3)',\n",
       "  'range3(1,10,2)',\n",
       "  'range3(1,10,2)',\n",
       "  'range2(5,10,2)',\n",
       "  \"def range2(*args):\\n    length=len(args)\\n    if length ==1:\\n        for i in range(args[0]):\\n            print(num,end=' ')\\n    elif length ==2:\\n        for num in range(args[0],args[1]):\\n            print(num,end=' ')\\n    elif length ==3:\\n        for num in range(args[0],args[1],args[2]):\\n            print(num,end=' ')\\n    else:\\n        print('제대로 입력하시오')\",\n",
       "  'range4(10,20,3)\\nrange2(10,20)',\n",
       "  'range4(10,20,3)\\nrange2(10,20,1)',\n",
       "  'range4(10,20,3)\\nrange2(10,20,1)',\n",
       "  'range2(10,20,1)',\n",
       "  \"def range2(*args):\\n    length=len(args)\\n    if length ==1:\\n        for i in range(args[0]):\\n            print(num,end=' ')\\n    elif length ==2:\\n        for num in range(args[0],args[1]):\\n            print(num,end=' ')\\n    elif length ==3:\\n        for num in range(args[0],args[1],args[2]):\\n            print(num,end=' ')\\n    else:\\n        print('제대로 입력하시오')\",\n",
       "  \"def range3(*args):\\n    length=len(args)\\n    result=[]\\n    if length==0:\\n        raise Exception('매개변수가 없으면 안 돼')\\n    elif length ==1:\\n        for i in range(args[0]):\\n            result.append(i)\\n    elif length ==2:\\n        for i in range(args[0],args[1]):\\n            result.append(i)\\n    elif length ==3:\\n        for i in range(args[0],args[1],args[2]):\\n            result.append(i)\\n    else:\\n        print('떼기')\",\n",
       "  'range3(10,20,1)',\n",
       "  'range2(10,20,1)',\n",
       "  \"def range2(*args):\\n    length=len(args)\\n    if length ==1:\\n        for i in range(args[0]):\\n            print(num,end=' ')\\n    elif length ==2:\\n        for num in range(args[0],args[1]):\\n            print(num,end=' ')\\n    elif length ==3:\\n        for num in range(args[0],args[1],args[2]):\\n            print(num,end=' ')\\n    else:\\n        print('제대로 입력하시오')\",\n",
       "  'range2(10,20,1)',\n",
       "  'range2(10)',\n",
       "  \"def range2(*args):\\n    length=len(args)\\n    if length ==1:\\n        for num in range(args[0]):\\n            print(num,end=' ')\\n    elif length ==2:\\n        for num in range(args[0],args[1]):\\n            print(num,end=' ')\\n    elif length ==3:\\n        for num in range(args[0],args[1],args[2]):\\n            print(num,end=' ')\\n    else:\\n        print('제대로 입력하시오')\",\n",
       "  'range2(10)',\n",
       "  'range2(10,20)',\n",
       "  'range3(10,20,30)',\n",
       "  'a=range3(10,20,30)\\nprint(a)',\n",
       "  'a=range3(10,20,30)\\nprint(a)',\n",
       "  'range2(10,20,50,20)',\n",
       "  'range3(10,20,1)',\n",
       "  'range3(10)',\n",
       "  \"def range3(*args):\\n    length=len(args)\\n    result=[]\\n    if length==0:\\n        raise Exception('매개변수가 없으면 안 돼')\\n    elif length ==1:\\n        for i in range(args[0]):\\n            result.append(i)\\n    elif length ==2:\\n        for i in range(args[0],args[1]):\\n            result.append(i)\\n    elif length ==3:\\n        for i in range(args[0],args[1],args[2]):\\n            result.append(i)\\n    else:\\n        print('떼기')\",\n",
       "  'range3(10)',\n",
       "  \"def range3(*args):\\n    length=len(args)\\n    result=[]\\n    if length==0:\\n        raise Exception('매개변수가 없으면 안 돼')\\n    elif length ==1:\\n        print('출력')\\n        for i in range(args[0]):\\n            result.append(i)\\n    elif length ==2:\\n        for i in range(args[0],args[1]):\\n            result.append(i)\\n    elif length ==3:\\n        for i in range(args[0],args[1],args[2]):\\n            result.append(i)\\n    else:\\n        print('떼기')\",\n",
       "  'range3(10)',\n",
       "  \"def range3(*args):\\n    length=len(args)\\n    result=[]\\n    if length==0:\\n        raise Exception('매개변수가 없으면 안 돼')\\n    elif length ==1:\\n        for i in range(args[0]):\\n            result.append(i)\\n    elif length ==2:\\n        for i in range(args[0],args[1]):\\n            result.append(i)\\n    elif length ==3:\\n        for i in range(args[0],args[1],args[2]):\\n            result.append(i)\\n    else:\\n        print('떼기')\\n    return result\",\n",
       "  'range3(10)',\n",
       "  \"def range2(*args):\\n    length=len(args)\\n    if length==0:\\n        print('매개 변수를 입력하세요')\\n    elif length ==1:\\n        for num in range(args[0]):\\n            print(num,end=' ')\\n    elif length ==2:\\n        for num in range(args[0],args[1]):\\n            print(num,end=' ')\\n    elif length ==3:\\n        for num in range(args[0],args[1],args[2]):\\n            print(num,end=' ')\\n    else:\\n        print('제대로 입력하시오')\",\n",
       "  'range2()',\n",
       "  't=(5,10,2)\\nrange(t)',\n",
       "  't=(5,10,2)\\nrange(*t)',\n",
       "  't=(5,10,2)\\nrange2(*t)',\n",
       "  't=(5,10,2)\\nrange2(t)',\n",
       "  't=(5,10,2)\\nrange2(*t)',\n",
       "  \"def func5(**data):\\n    for item in data.items()\\n        print(item)\\nfunc5(name='홍길동',age=30,addres='마포')\\n        \",\n",
       "  \"def func5(**data):\\n    for item in data.items():\\n        print(item)\\nfunc5(name='홍길동',age=30,addres='마포')\\n        \",\n",
       "  \"def func5(**data):\\n    for key,value in data.items():\\n        print(key,value)\\nfunc5(name='홍길동',age=30,addres='마포')\\n        \",\n",
       "  \"def func5(**data):\\n    for item in data.items():\\n        print(item)\\nfunc5(name='홍길동',age=30,addres='마포')\\n        \",\n",
       "  \"customerInfo={'name':'홍길동','age':30,'address':'마포'}\\nfunc5(**customerInfo)\",\n",
       "  'l=[1,2,3]\\n[x**3 for x in l]',\n",
       "  'def add(a,b):\\n    return a+b\\nadd(5,6)',\n",
       "  'xx =add\\ntype(add)',\n",
       "  'add2 = lambda a,b : a+b',\n",
       "  'add2(10,20)',\n",
       "  '(lambda a,b:a+b)(30,40)',\n",
       "  'def map_template(func, L=[]):\\n    result=[]\\n    for item in L:\\n        result.append(func(item))\\n    return result     \\n    ',\n",
       "  'list_data=[1,2,3,4,5]\\ndef x_2(x):\\n    return x*2',\n",
       "  'list_data=[1,2,3,4,5]\\ndef x_2(x):\\n    return x*2\\nmap_template(x_2,list_date)',\n",
       "  'list_data=[1,2,3,4,5]\\ndef x_2(x):\\n    return x*2\\nmap_template(x_2,list_data)',\n",
       "  'list_data=[1,2,3,4,5]\\ndef x_2(x):\\n    return x*x\\nmap_template(x_2,list_data)',\n",
       "  'list_data=[1,2,3,4,5]\\ndef x_2(x):\\n    return x*2\\nmap_template(x_2,list_data)',\n",
       "  'map_template(lambda x:x*2,list_data)',\n",
       "  '# map()함수 이용\\nlist(map(lambdax:x*2,list_data))',\n",
       "  '# map()함수 이용\\nlist(map(lambda x:x*2,list_data))',\n",
       "  '# map()함수 이용\\nlist(map(lambda x:x*2,list_data))\\nmap(lambda x:x*2,list_data)',\n",
       "  '# map()함수 이용\\nprint(list(map(lambda x:x*2,list_data)))\\nmap(lambda x:x*2,list_data)',\n",
       "  '#리스트 컴프리헨션\\n[x*2 for x in list_data]',\n",
       "  'def evenyesorno(x):\\n    if x%2==0:\\n        return True\\n    else:\\n        return False',\n",
       "  'list_data=[1,2,3,4,5]\\ndef filter_template(func,L=[])\\n    result=[]\\n    for item in L:\\n        if func(item):\\n            result.append(item)\\n    return result ',\n",
       "  'def evenyesorno(x):\\n    if x%2==0:\\n        return True\\n    else:\\n        return False',\n",
       "  'list_data=[1,2,3,4,5]\\ndef filter_template(func,L=[])\\n    result=[]\\n    for item in L:\\n        if func(item):\\n            result.append(item)\\n    return result ',\n",
       "  'list_data=[1,2,3,4,5]\\ndef filter_template(func,L=[]):\\n    result=[]\\n    for item in L:\\n        if func(item):\\n            result.append(item)\\n    return result ',\n",
       "  'def evenyesorno(x):\\n    if x%2==0:\\n        return True\\n    else:\\n        return False\\nfilter_template(evenyesorno,list_data)',\n",
       "  'filter_template(lambda x: x%2==0,list_data)',\n",
       "  '# filter()함수\\nlist(filter(lambda x: x%==0,list_data))',\n",
       "  '# filter()함수\\nlist(filter(lambda x: x%2==0,list_data))',\n",
       "  '# 리스트 컴프리헨션\\n[x for x in list_data if x%2==0]',\n",
       "  \"pairs= [(1,'one'),(3,'three'),(2,'two'),(4,'four')]\\nmax(pairs)\",\n",
       "  \"pairs= [(1,'one'),(3,'three'),(2,'two'),(4,'four')]\\npairs.sort()\\npairs\",\n",
       "  \"pairs= [(1,'one'),(3,'three'),(2,'two'),(4,'four')]\\npairs.sort(1)\\npairs\",\n",
       "  \"pairs= [(1,'one'),(3,'three'),(2,'two'),(4,'four')]\\npairs.sort(1)\\npairs\",\n",
       "  \"pairs= [(1,'one'),(3,'three'),(2,'two'),(4,'four')]\\npairs.sort(2)\\npairs\",\n",
       "  \"pairs= [(1,'one'),(3,'three'),(2,'two'),(4,'four')]\\npairs.sort()\\npairs\",\n",
       "  'lambda pair : pair[1](10,20,30)',\n",
       "  '(lambda pair : pair[1](10,20,30))',\n",
       "  'pairs.sort(key=lambda pair : pair[1])',\n",
       "  \"pairs= [(1,'one'),(3,'three'),(2,'two'),(4,'four')]\\npairs.sort()\\npairs\",\n",
       "  'pairs.sort(key=lambda pair : pair[1])',\n",
       "  'pairs.sort(key=lambda pair : pair[1])\\npairs',\n",
       "  '(lambda pair : pair[1](10,20,30))',\n",
       "  'lambda pair : pair[1]',\n",
       "  '(lambda pair : pair[1])',\n",
       "  '(lambda pair : pair[1])(10,20,30)',\n",
       "  '((lambda pair : pair[1])(10,20,30))',\n",
       "  'def apply(data,func=None):\\n    if func==None:\\n        return data\\n    else:\\n        return func(data)\\napply(100,lambda x:x**3)',\n",
       "  '((lambda pair : pair[1])',\n",
       "  '(lambda pair : pair[1])',\n",
       "  'lambda pair : pair[1]',\n",
       "  'lambda pairs : pairs[1]',\n",
       "  'lambda pairs : pairs[1]',\n",
       "  'lambda pairs : pairs[1]',\n",
       "  '(lambda pairs : pairs[1])',\n",
       "  'lambda pairs',\n",
       "  'lambda pairs: pairs*2',\n",
       "  '# 함수를 return하는 함수\\ndef make_box(shape):\\n    def box(init_value):\\n        if len(shape)==1:\\n            return[init_value]*shape[0]\\n    ',\n",
       "  'box1=make_box([5,])',\n",
       "  'type(box1)',\n",
       "  '# 함수를 return하는 함수\\ndef make_box(shape):\\n    def box(init_value):\\n        if len(shape)==1:\\n            return[init_value]*shape[0]\\n        elif len(shape)==2:\\n            return[[init_value]*shape[1]*shape[0]]\\n    return box\\n    ',\n",
       "  'box1=make_box([5,])',\n",
       "  'box1(10)',\n",
       "  'box1(20)',\n",
       "  'box1(10)',\n",
       "  'box1=make_box([5,])\\ntype(box1)',\n",
       "  'type(box1)',\n",
       "  'box1=make_box([5,])\\ntype(box1)',\n",
       "  'box2=make_box([2,3])\\nbox2(10)',\n",
       "  '# 함수를 return하는 함수\\ndef make_box(shape):\\n    def box(init_value):\\n        if len(shape)==1:\\n            return[init_value]*shape[0]\\n        elif len(shape)==2:\\n            return[[init_value]*shape[1]]*shape[0]\\n    return box\\n    ',\n",
       "  'box2=make_box([2,3])\\nbox2(10)',\n",
       "  'def make_box(shape):\\n    if len(shape)==1:\\n        return lambda x: [x]*shape[0]',\n",
       "  'def make_box(shape):\\n    if len(shape)==1:\\n        return lambda x: [x]*shape[0]\\n    elif len(shape)==2:\\n        return lambda x:[[x]*shape[1]]*shape[0]',\n",
       "  'box1=make_box1(3,2)\\nbox1(5)',\n",
       "  'def make_box1(shape):\\n    if len(shape)==1:\\n        return lambda x: [x]*shape[0]\\n    elif len(shape)==2:\\n        return lambda x:[[x]*shape[1]]*shape[0]',\n",
       "  'box1=make_box1(3,2)\\nbox1(5)',\n",
       "  'box1=make_box1(3,2)\\nbox1(5)',\n",
       "  'def make_box1(shape):\\n    if len(shape)==1:\\n        return lambda x: [x]*shape[0]\\n    elif len(shape)==2:\\n        return lambda x:[[x]*shape[1]]*shape[0]',\n",
       "  'box1=make_box1(3,2)\\nbox1(5)',\n",
       "  'box1=make_box1((3,2))\\nbox1(5)',\n",
       "  'box2=make_box1((7,))\\nbox2(10)',\n",
       "  'box2=make_box1((7))\\nbox2(10)',\n",
       "  'box2=make_box1((7,))\\nbox2(10)',\n",
       "  'len(1,)',\n",
       "  'a=(1,)\\nlen(a)',\n",
       "  'a=(1)\\nlen(a)',\n",
       "  'a=(1)\\nlen(a)',\n",
       "  \"a=('가')\\nlen(a)\",\n",
       "  \"a=('가',)\\nlen(a)\",\n",
       "  \"a=('가')\\nlen(a)\",\n",
       "  'a=(1)\\nlen(a)',\n",
       "  'a=(1,)\\nlen(a)',\n",
       "  '(lambda pair : pair[1])(10,20)',\n",
       "  '(lambda pair : pair[1])(10,20,30)',\n",
       "  '(lambda pair:pair[1])(10,20,30)',\n",
       "  'set([1,2,3])',\n",
       "  'set(1,2,3)',\n",
       "  'set([1,2,3])',\n",
       "  'set{1,2,3}',\n",
       "  'set(1,2,3)',\n",
       "  'set((1,2,3))',\n",
       "  \"int('1.2')\",\n",
       "  \"float('1.2')\",\n",
       "  \"int('1.2')\",\n",
       "  \"float('1.2')\\n#int('1.2')\\nint(float('1.2'))\",\n",
       "  'globals()# 전역변수들 딕셔너리 '],\n",
       " 'Out': {1: [100],\n",
       "  3: [100],\n",
       "  4: [],\n",
       "  5: [],\n",
       "  6: [100],\n",
       "  7: [10, 2, 2, 2],\n",
       "  8: [10, 2, 2, 2],\n",
       "  9: [10, 2, 2, 2],\n",
       "  10: [10, 2, 2, 2],\n",
       "  11: [30],\n",
       "  21: 15,\n",
       "  22: 1,\n",
       "  24: 3,\n",
       "  25: 3,\n",
       "  26: '서울-부산-인천',\n",
       "  46: 'earth/venus',\n",
       "  47: 'earth/mars/venus',\n",
       "  49: 'earth/mars/venus',\n",
       "  61: 'earth/mars/venus',\n",
       "  68: 'earth/mars/venus',\n",
       "  69: 'Python~R~haddop',\n",
       "  71: 'earth/mars/venus',\n",
       "  72: 'Python~R~haddop',\n",
       "  73: '서울-부산-인천',\n",
       "  76: 'hello/world',\n",
       "  79: 'hello/world',\n",
       "  82: 'hello/world',\n",
       "  85: 'hello/world',\n",
       "  87: 'Python~R~haddop',\n",
       "  89: 'earth/mars/venus',\n",
       "  90: 'Python~R~haddop',\n",
       "  105: 10,\n",
       "  108: 10,\n",
       "  109: range(0, 10),\n",
       "  110: [0, 1, 2, 3, 4, 5, 6, 7, 8, 9],\n",
       "  114: 10,\n",
       "  120: 10,\n",
       "  148: range(10, 20, 3),\n",
       "  181: [0, 1, 2, 3, 4, 5, 6, 7, 8, 9],\n",
       "  185: range(5, 10, 2),\n",
       "  194: [1, 8, 27],\n",
       "  195: 11,\n",
       "  196: function,\n",
       "  198: 30,\n",
       "  199: 70,\n",
       "  203: [2, 4, 6, 8, 10],\n",
       "  204: [1, 4, 9, 16, 25],\n",
       "  205: [2, 4, 6, 8, 10],\n",
       "  206: [2, 4, 6, 8, 10],\n",
       "  208: [2, 4, 6, 8, 10],\n",
       "  209: <map at 0x1ef973f0280>,\n",
       "  210: <map at 0x1ef963ebfa0>,\n",
       "  211: [2, 4, 6, 8, 10],\n",
       "  217: [2, 4],\n",
       "  218: [2, 4],\n",
       "  220: [2, 4],\n",
       "  221: [2, 4],\n",
       "  222: (4, 'four'),\n",
       "  223: [(1, 'one'), (2, 'two'), (3, 'three'), (4, 'four')],\n",
       "  227: [(4, 'four'), (1, 'one'), (3, 'three'), (2, 'two')],\n",
       "  228: <function __main__.<lambda>(pair)>,\n",
       "  229: <function __main__.<lambda>(pair)>,\n",
       "  231: [(4, 'four'), (1, 'one'), (3, 'three'), (2, 'two')],\n",
       "  233: [(4, 'four'), (1, 'one'), (3, 'three'), (2, 'two')],\n",
       "  234: <function __main__.<lambda>(pair)>,\n",
       "  235: <function __main__.<lambda>(pair)>,\n",
       "  236: <function __main__.<lambda>(pair)>,\n",
       "  239: 1000000,\n",
       "  241: <function __main__.<lambda>(pair)>,\n",
       "  242: <function __main__.<lambda>(pair)>,\n",
       "  243: <function __main__.<lambda>(pairs)>,\n",
       "  244: <function __main__.<lambda>(pairs)>,\n",
       "  245: <function __main__.<lambda>(pairs)>,\n",
       "  246: <function __main__.<lambda>(pairs)>,\n",
       "  248: <function __main__.<lambda>(pairs)>,\n",
       "  251: NoneType,\n",
       "  254: [10, 10, 10, 10, 10],\n",
       "  255: [20, 20, 20, 20, 20],\n",
       "  256: [10, 10, 10, 10, 10],\n",
       "  257: function,\n",
       "  258: function,\n",
       "  259: function,\n",
       "  260: [[10, 10, 10, 10, 10, 10]],\n",
       "  262: [[10, 10, 10], [10, 10, 10]],\n",
       "  271: [[5, 5], [5, 5], [5, 5]],\n",
       "  272: [10, 10, 10, 10, 10, 10, 10],\n",
       "  274: [10, 10, 10, 10, 10, 10, 10],\n",
       "  276: 1,\n",
       "  279: 1,\n",
       "  280: 1,\n",
       "  281: 1,\n",
       "  283: 1,\n",
       "  287: {1, 2, 3},\n",
       "  289: {1, 2, 3},\n",
       "  292: {1, 2, 3},\n",
       "  294: 1.2,\n",
       "  296: 1},\n",
       " 'get_ipython': <function IPython.core.getipython.get_ipython()>,\n",
       " 'exit': <IPython.core.autocall.ZMQExitAutocall at 0x1ef94edb340>,\n",
       " 'quit': <IPython.core.autocall.ZMQExitAutocall at 0x1ef94edb340>,\n",
       " '_': 1,\n",
       " '__': 1.2,\n",
       " '___': {1, 2, 3},\n",
       " 'json': <module 'json' from 'C:\\\\Users\\\\tjoeun\\\\anaconda3\\\\lib\\\\json\\\\__init__.py'>,\n",
       " 'autopep8': <module 'autopep8' from 'C:\\\\Users\\\\tjoeun\\\\anaconda3\\\\lib\\\\site-packages\\\\autopep8.py'>,\n",
       " 'getsizeof': <function sys.getsizeof>,\n",
       " 'NamespaceMagics': IPython.core.magics.namespace.NamespaceMagics,\n",
       " '_nms': <IPython.core.magics.namespace.NamespaceMagics at 0x1ef95017190>,\n",
       " '_Jupyter': <ipykernel.zmqshell.ZMQInteractiveShell at 0x1ef94e659a0>,\n",
       " 'np': <module 'numpy' from 'C:\\\\Users\\\\tjoeun\\\\anaconda3\\\\lib\\\\site-packages\\\\numpy\\\\__init__.py'>,\n",
       " '_getsizeof': <function __main__._getsizeof(x)>,\n",
       " '_getshapeof': <function __main__._getshapeof(x)>,\n",
       " 'var_dic_list': <function __main__.var_dic_list()>,\n",
       " '_i': \"float('1.2')\\n#int('1.2')\\nint(float('1.2'))\",\n",
       " '_ii': \"int('1.2')\",\n",
       " '_iii': \"float('1.2')\",\n",
       " '_i1': 'def func4(a,L=None):\\n    if L is None:\\n        L=[]\\n        L.append(a)\\n        return L\\nfunc4(100)',\n",
       " 'func4': <function __main__.func4(a, L=None)>,\n",
       " '_1': [100],\n",
       " '_i2': 'list_ = []\\nprint(func4(10,list_))',\n",
       " 'list_': [10, 2, 2, 2],\n",
       " '_i3': 'def func4(a,L=None):\\n    if L is None:\\n        L=[]\\n        L.append(a)\\n    return L\\nfunc4(100)',\n",
       " '_3': [100],\n",
       " '_i4': 'list_ = []\\nfunc4(10,list_)',\n",
       " '_4': [],\n",
       " '_i5': 'list_ = []\\nfunc4(10,list_)',\n",
       " '_5': [],\n",
       " '_i6': 'def func4(a,L=None):\\n    if L is None:\\n        L=[]\\n    L.append(a)\\n    return L\\nfunc4(100)',\n",
       " '_6': [100],\n",
       " '_i7': 'list_ = []\\nfunc4(10,list_)',\n",
       " '_7': [10, 2, 2, 2],\n",
       " '_i8': 'func4(2,list_)',\n",
       " '_8': [10, 2, 2, 2],\n",
       " '_i9': 'func4(a=2,L=list_)',\n",
       " '_9': [10, 2, 2, 2],\n",
       " '_i10': 'func4(L=list_,a=2)',\n",
       " '_10': [10, 2, 2, 2],\n",
       " '_i11': 'func4(a=30)',\n",
       " '_11': [30],\n",
       " '_i12': 'func4()',\n",
       " '_i13': 'def add(a,b):\\n    return a+b\\nprint(add(1,2,3))',\n",
       " 'add': <function __main__.add(a, b)>,\n",
       " '_i14': 'print(add(10,20))',\n",
       " '_i15': 'def add(a,b,c):\\n    return a+b+c\\nprint(add(1,2,3))',\n",
       " '_i16': 'def add(a,b):\\n    return a+b\\nprint(add(1,2))',\n",
       " '_i17': 'print(add(10,20))',\n",
       " '_i18': 'def add(a,b):\\n    return a+b\\nprint(add(1,2))',\n",
       " '_i19': 'def add(a,b,c):\\n    return a+b+c\\nprint(add(1,2,3))',\n",
       " '_i20': 'print(add(10,20))',\n",
       " '_i21': '# args앞에 *: args가 튜플전달 \\ndef add(*args):#args=(1,2,3,4,5)\\n    sum=0\\n    for num in args:\\n        sum+=num\\n    return sum\\nadd(1,2,3,4,5)\\n    ',\n",
       " '_21': 15,\n",
       " '_i22': '# args앞에 *: args가 튜플전달 \\ndef add(*args):#args=(1,2,3,4,5)\\n    sum=0\\n    for num in args:\\n        sum+=num\\n    return sum\\n\\nadd(1,2,3,4,5)\\nadd(1,)',\n",
       " '_22': 1,\n",
       " '_i23': '# args앞에 *: args가 튜플전달 \\ndef add(*args):#args=(1,2,3,4,5)\\n    sum=0\\n    for num in args:\\n        sum+=num\\n    return sum\\n\\nadd(1,2,3,4,5)\\nadd(1,2,,,)',\n",
       " '_i24': '# args앞에 *: args가 튜플전달 \\ndef add(*args):#args=(1,2,3,4,5)\\n    sum=0\\n    for num in args:\\n        sum+=num\\n    return sum\\n\\nadd(1,2,3,4,5)\\nadd(1,2,)',\n",
       " '_24': 3,\n",
       " '_i25': '# args앞에 *: args가 튜플전달 \\ndef add(*args):#args=(1,2,3,4,5)\\n    sum=0\\n    for num in args:\\n        sum+=num\\n    return sum\\n\\nprint(add(1,2,3,4,5))\\nadd(1,2,)',\n",
       " '_25': 3,\n",
       " '_i26': \"city= ('서울','부산','인천')\\n'-'.join(city)\",\n",
       " 'city': ('서울', '부산', '인천'),\n",
       " '_26': '서울-부산-인천',\n",
       " '_i27': 'def concat(*args,sep):\\n    return sep.join(args)',\n",
       " 'concat': <function __main__.concat(*args, sep='/')>,\n",
       " '_i28': \"concat=('hello','world',sep='/')\",\n",
       " '_i29': 'def concat(*args,sep):\\n    return sep.join(args)',\n",
       " '_i30': \"concat=('hello','world','/')\",\n",
       " '_i31': 'def concat(*args,sep):\\n    return sep.join(args)',\n",
       " '_i32': \"concat=('hello','world','/')\",\n",
       " '_i33': \"#해결책1 \\nconcat('hello','world',sep='/')\",\n",
       " '_i34': 'def concat(*args,sep):\\n    return sep.join(args)',\n",
       " '_i35': \"concat=('hello','world','/')\",\n",
       " '_i36': \"#해결책1 \\nconcat('hello','world',sep='/')\",\n",
       " '_i37': \"#해결책1 \\nconcat('hello','world',sep='/')\",\n",
       " '_i38': 'def concat(*args,sep):\\n    return sep.join(args)',\n",
       " '_i39': 'def concat(*args,sep):\\n    return sep.join(args)',\n",
       " '_i40': 'def concat(*args,sep):\\n    return sep.join(args)',\n",
       " '_i41': \"concat=('hello','world','/')\",\n",
       " '_i42': 'def concat(*args,sep):\\n    return sep.join(args)',\n",
       " '_i43': 'def concat(*args,sep):\\n    return sep.join(args)',\n",
       " '_i44': \"concat=('hello','world','/')\",\n",
       " '_i45': '#해결책2\\ndef concat(sep,*args):\\n    return sep.join(args)',\n",
       " '_i46': \"concat('/','earth','venus')\",\n",
       " '_46': 'earth/venus',\n",
       " '_i47': \"concat('/','earth','mars','venus')\",\n",
       " '_47': 'earth/mars/venus',\n",
       " '_i48': \"concat(sep='/','earth','mars','venus')\",\n",
       " '_i49': \"concat('/','earth','mars','venus')\",\n",
       " '_49': 'earth/mars/venus',\n",
       " '_i50': 'def concat(*args,sep):\\n    return sep.join(args)',\n",
       " '_i51': \"concat=('hello','world','/')\",\n",
       " '_i52': \"concat(earth','mars','venus')\",\n",
       " '_i53': \"concat('earth','mars','venus')\",\n",
       " '_i54': '#해결책3',\n",
       " '_i55': 'def concat(*args,sep):\\n    return sep.join(args)',\n",
       " '_i56': \"concat=('hello','world','/')\",\n",
       " '_i57': \"#해결책1 \\nconcat('hello','world',sep='/')\",\n",
       " '_i58': 'def concat(*args,sep):\\n    return sep.join(args)',\n",
       " '_i59': \"concat=('hello','world','/')\",\n",
       " '_i60': \"#해결책3\\ndef concat(*args,sep='/'):#순서인수>튜플인스>키워드인수 \\n    return sep.join(args)\",\n",
       " '_i61': \"concat('earth','mars','venus')\",\n",
       " '_61': 'earth/mars/venus',\n",
       " '_i62': 'def concat(*args,sep):\\n    return sep.join(args)',\n",
       " '_i63': \"concat=('hello','world','/')\",\n",
       " '_i64': \"#해결책1 \\nconcat('hello','world',sep='/')\",\n",
       " '_i65': \"concat('Python','R','haddop',sep=' ~ ')\",\n",
       " '_i66': \"concat('Python','R','haddop',sep='~')\",\n",
       " '_i67': \"#해결책3\\ndef concat(*args,sep='/'):#순서인수>튜플인스>키워드인수 \\n    return sep.join(args)\",\n",
       " '_i68': \"concat('earth','mars','venus')\",\n",
       " '_68': 'earth/mars/venus',\n",
       " '_i69': \"concat('Python','R','haddop',sep='~')\",\n",
       " '_69': 'Python~R~haddop',\n",
       " '_i70': \"#해결책3\\ndef concat(*args,sep='/'):#순서인수>튜플인스>키워드인수 \\n    return sep.join(args)\",\n",
       " '_i71': \"concat('earth','mars','venus')\",\n",
       " '_71': 'earth/mars/venus',\n",
       " '_i72': \"concat('Python','R','haddop',sep='~')\",\n",
       " '_72': 'Python~R~haddop',\n",
       " '_i73': \"city= ('서울','부산','인천')\\n'-'.join(city)\",\n",
       " '_73': '서울-부산-인천',\n",
       " '_i74': 'def concat(*args, sep):\\n    return sep.join(args)',\n",
       " '_i75': \"concat('hello', 'world', '/')\",\n",
       " '_i76': \"# 해결책1\\nconcat('hello', 'world', sep='/')\",\n",
       " '_76': 'hello/world',\n",
       " '_i77': 'def concat(*args,sep):\\n    return sep.join(args)',\n",
       " '_i78': \"concat('hello', 'world', '/')\",\n",
       " '_i79': \"# 해결책1\\nconcat('hello', 'world', sep='/')\",\n",
       " '_79': 'hello/world',\n",
       " '_i80': 'def concat(*args, sep):\\n    return sep.join(args)',\n",
       " '_i81': \"concat('hello', 'world', '/')\",\n",
       " '_i82': \"# 해결책1\\nconcat('hello', 'world', sep='/')\",\n",
       " '_82': 'hello/world',\n",
       " '_i83': 'def concat(*args,sep):\\n    return sep.join(args)',\n",
       " '_i84': \"concat('hello', 'world', '/')\",\n",
       " '_i85': \"# 해결책1\\nconcat('hello', 'world', sep='/')\",\n",
       " '_85': 'hello/world',\n",
       " '_i86': 'def concat(*args, sep):\\n    return sep.join(args)',\n",
       " '_i87': \"concat('Python','R','haddop',sep='~')\",\n",
       " '_87': 'Python~R~haddop',\n",
       " '_i88': \"#해결책3\\ndef concat(*args,sep='/'):#순서인수>튜플인스>키워드인수 \\n    return sep.join(args)\",\n",
       " '_i89': \"concat('earth','mars','venus')\",\n",
       " '_89': 'earth/mars/venus',\n",
       " '_i90': \"concat('Python','R','haddop',sep='~')\",\n",
       " '_90': 'Python~R~haddop',\n",
       " '_i91': \"def func5(**args):#args가 딕셔너리로 전달(**)\\n    for item in args.items():\\n        print(item)\\nfunc5(name='홍길동',age=20,address='서울시')\",\n",
       " 'func5': <function __main__.func5(**data)>,\n",
       " '_i92': 'def func5(**args):#args가 딕셔너리로 전달(**)\\n                 #args={name=\\'홍길동\\',age=20,address=\\'서울시\\'}\\n    for key,item in args.items():\\n        print(\"{}:{}\".format(key,value))\\nfunc5(name=\\'홍길동\\',age=20,address=\\'서울시\\')',\n",
       " '_i93': 'def func5(**args):#args가 딕셔너리로 전달(**)\\n                 #args={name=\\'홍길동\\',age=20,address=\\'서울시\\'}\\n    for key,value in args.items():\\n        print(\"{}:{}\".format(key,value))\\nfunc5(name=\\'홍길동\\',age=20,address=\\'서울시\\')',\n",
       " '_i94': \"func6(10,1,2,3,4,5,6,name='kim',age=30)\",\n",
       " '_i95': \"#순서인수,튜블인수,키워드인수,딕셔너리인수\\ndef func6(a,*b,**c)\\n    print('a=',a)\\n    print('b=',b)\\n    print('c=',c)\",\n",
       " '_i96': \"#순서인수,튜블인수,키워드인수,딕셔너리인수\\ndef func6(a,*b,**c):\\n    print('a=',a)\\n    print('b=',b)\\n    print('c=',c)\",\n",
       " 'func6': <function __main__.func6(a, *b, **c)>,\n",
       " '_i97': \"func6(10,1,2,3,4,5,6,name='kim',age=30)\",\n",
       " '_i98': \"def func(a,b,c,*d,e=10,**f):\\n    print('a=')\\n    print('a=')\\n    print('a=')\\n    print('a=')\",\n",
       " 'func': <function __main__.func(a, b, c, *d, e=10, **f)>,\n",
       " '_i99': \"def func(a,b,c,*d,e=10,**f):\\n    print('a=')\\n    print('a=')\\n    print('a=')\\n    print('a=')\",\n",
       " '_i100': \"def func(a,b,c,*d,e=10,**f):\\n    print('a=')\\n    print('a=')\\n    print('a=')\\n    print('a=')\\n    print('a=')\\n    print('a=')\",\n",
       " '_i101': \"def func(a,b,c,*d,e=10,**f):\\n    print('a=')\\n    print('a=')\\n    print('a=')\\n    print('a=')\\n    print('a=')\\n    print('a=')\",\n",
       " '_i102': \"func(10,20,30,1,2,3,4,5,e=20,name='kim',age=30,address='마포')\",\n",
       " '_i103': \"def func(a,b,c,*d,e=10,**f):\\n    print('a=',a)\\n    print('b=',b)\\n    print('c=',c)\\n    print('d=',d)\\n    print('e=',e)\\n    print('f=',f)\",\n",
       " '_i104': \"func(10,20,30,1,2,3,4,5,e=20,name='kim',age=30,address='마포')\",\n",
       " '_i105': 'def add(*args):\\n    sum=0\\n    for num in args:\\n        sum+=num\\n    return sum\\nadd(1,2,3,4)',\n",
       " '_105': 10,\n",
       " '_i106': 'numbers=(1,2,3,4)\\nadd(numbers)',\n",
       " 'numbers': (1, 2, 3, 4),\n",
       " '_i107': '**튜블언패킹**',\n",
       " '_i108': 'numbers=(1,2,3,4)\\n#add(numbers)\\nadd(*numbers)',\n",
       " '_108': 10,\n",
       " '_i109': '#예제:\\nrange(10)',\n",
       " '_109': range(0, 10),\n",
       " '_i110': '#예제:\\nlist(range(10))',\n",
       " '_110': [0, 1, 2, 3, 4, 5, 6, 7, 8, 9],\n",
       " '_i111': '#예제:\\nprint(list(range(10)))',\n",
       " '_i112': '#예제:\\nprint(list(range(10)))\\nprint(list(range(5,10)))\\nprint(list(range(5,10,2)))',\n",
       " '_i113': 'def range2(*args):\\n    for num in args:\\n        return num',\n",
       " 'range2': <function __main__.range2(*args)>,\n",
       " '_i114': 'range2(10)',\n",
       " '_114': 10,\n",
       " '_i115': 'def range2(*args):\\n    for num in range(args):\\n        return num',\n",
       " '_i116': 'range2(10)',\n",
       " '_i117': 'def range2(*args):\\n    for num in range(args):\\n        return num',\n",
       " '_i118': 'range2(10)',\n",
       " '_i119': 'def range2(*args):\\n    for num in args:\\n        return num',\n",
       " '_i120': 'range2(10)',\n",
       " '_120': 10,\n",
       " '_i121': 'for num in range(10):\\n        print(num)',\n",
       " 'num': 9,\n",
       " '_i122': \"def range2(args):\\n    for num in range(args):\\n        print(num,end=' ')\",\n",
       " '_i123': 'range2(10)',\n",
       " '_i124': \"def range2(*args):\\n    for num in range(args[0]):\\n        print(num,end=' ')\",\n",
       " '_i125': 'range2(10)',\n",
       " '_i126': \"def range2(*args):\\n        for num in range(args[0]):\\n            print(num,end=' ')\",\n",
       " '_i127': 'range2(10)',\n",
       " '_i128': 'range2(5)',\n",
       " '_i129': 'range2(5,1)',\n",
       " '_i130': 'range2(5,1)',\n",
       " '_i131': \"def range2(*args):\\n        for num in range(args[0],args[1]):\\n            print(num,end=' ')\",\n",
       " '_i132': 'range2(5,10)',\n",
       " '_i133': \"def range2(*args):\\n        for num in range(args[0],args[1],args[2]):\\n            print(num,end=' ')\",\n",
       " '_i134': 'range2(5,10,2)',\n",
       " '_i135': \"def range2(*args):\\n        for num in range(args[0],args[1],args[2]):\\n            print(num,end=' ')\",\n",
       " '_i136': 'range2(5)',\n",
       " '_i137': 'range2(5,10,2)',\n",
       " '_i138': \"def range2(*args):\\n    length=len(args)\\n    elif length ==1:\\n        for i in range(args[0]):\\n            print(num,end=' ')\\n    elif length ==2:\\n        for num in range(args[0],args[1]):\\n            print(num,end=' ')\\n    elif length ==3:\\n        for num in range(args[0],args[1],args[2]):\\n            print(num,end=' ')\\n    else:\\n        print('ㅃㅃ')\",\n",
       " '_i139': \"def range2(*args):\\n    length=len(args)\\n    if length ==1:\\n        for i in range(args[0]):\\n            print(num,end=' ')\\n    elif length ==2:\\n        for num in range(args[0],args[1]):\\n            print(num,end=' ')\\n    elif length ==3:\\n        for num in range(args[0],args[1],args[2]):\\n            print(num,end=' ')\\n    else:\\n        print('ㅃㅃ')\",\n",
       " '_i140': 'range2(10,1)',\n",
       " '_i141': \"def range2(*args):\\n    length=len(args)\\n    if length ==1:\\n        for i in range(args[0]):\\n            print(num,end=' ')\\n    elif length ==2:\\n        for num in range(args[0],args[1]):\\n            print(num,end=' ')\\n    elif length ==3:\\n        for num in range(args[0],args[1],args[2]):\\n            print(num,end=' ')\\n    else:\\n        print('ㅃㅃ')\",\n",
       " '_i142': 'range2(10,1,2)',\n",
       " '_i143': \"def range2(*args):\\n    length=len(args)\\n    if length ==1:\\n        for i in range(args[0]):\\n            print(num,end=' ')\\n    elif length ==2:\\n        for num in range(args[0],args[1]):\\n            print(num,end=' ')\\n    elif length ==3:\\n        for num in range(args[0],args[1],args[2]):\\n            print(num,end=' ')\\n    else:\\n        print('ㅃㅃ')\",\n",
       " '_i144': 'range3(10,1,2)',\n",
       " '_i145': \"def range3(*args):\\n    length=len(args)\\n    result=[]\\n    if length==0:\\n        raise Exception('매개변수가 없으면 안 돼')\\n    elif length ==1:\\n        for i in range(args[0]):\\n            result.append(i)\\n    elif length ==2:\\n        for i in range(args[0],args[1]):\\n            result.append(i)\\n    elif length ==3:\\n        for i in range(args[0],args[1],args[2]):\\n            result.append(i)\\n    else:\\n        print('떼기')\",\n",
       " 'range3': <function __main__.range3(*args)>,\n",
       " '_i146': 'range3(10,1,2)',\n",
       " '_i147': 'range3(10,1,2)',\n",
       " '_i148': 'range(10,20,3)',\n",
       " '_148': range(10, 20, 3),\n",
       " '_i149': 'range4(10,20,3)',\n",
       " '_i150': \"def range4(*args):\\n    for num in range(args[0],args[1],args[2]):\\n            print(num,end=' ')\",\n",
       " 'range4': <function __main__.range4(*args)>,\n",
       " '_i151': 'range4(10,20,3)',\n",
       " '_i152': 'range3(1,10,2)',\n",
       " '_i153': 'range3(1,10,2)',\n",
       " '_i154': 'range2(5,10,2)',\n",
       " '_i155': \"def range2(*args):\\n    length=len(args)\\n    if length ==1:\\n        for i in range(args[0]):\\n            print(num,end=' ')\\n    elif length ==2:\\n        for num in range(args[0],args[1]):\\n            print(num,end=' ')\\n    elif length ==3:\\n        for num in range(args[0],args[1],args[2]):\\n            print(num,end=' ')\\n    else:\\n        print('제대로 입력하시오')\",\n",
       " '_i156': 'range4(10,20,3)\\nrange2(10,20)',\n",
       " '_i157': 'range4(10,20,3)\\nrange2(10,20,1)',\n",
       " '_i158': 'range4(10,20,3)\\nrange2(10,20,1)',\n",
       " '_i159': 'range2(10,20,1)',\n",
       " '_i160': \"def range2(*args):\\n    length=len(args)\\n    if length ==1:\\n        for i in range(args[0]):\\n            print(num,end=' ')\\n    elif length ==2:\\n        for num in range(args[0],args[1]):\\n            print(num,end=' ')\\n    elif length ==3:\\n        for num in range(args[0],args[1],args[2]):\\n            print(num,end=' ')\\n    else:\\n        print('제대로 입력하시오')\",\n",
       " '_i161': \"def range3(*args):\\n    length=len(args)\\n    result=[]\\n    if length==0:\\n        raise Exception('매개변수가 없으면 안 돼')\\n    elif length ==1:\\n        for i in range(args[0]):\\n            result.append(i)\\n    elif length ==2:\\n        for i in range(args[0],args[1]):\\n            result.append(i)\\n    elif length ==3:\\n        for i in range(args[0],args[1],args[2]):\\n            result.append(i)\\n    else:\\n        print('떼기')\",\n",
       " '_i162': 'range3(10,20,1)',\n",
       " '_i163': 'range2(10,20,1)',\n",
       " '_i164': \"def range2(*args):\\n    length=len(args)\\n    if length ==1:\\n        for i in range(args[0]):\\n            print(num,end=' ')\\n    elif length ==2:\\n        for num in range(args[0],args[1]):\\n            print(num,end=' ')\\n    elif length ==3:\\n        for num in range(args[0],args[1],args[2]):\\n            print(num,end=' ')\\n    else:\\n        print('제대로 입력하시오')\",\n",
       " '_i165': 'range2(10,20,1)',\n",
       " '_i166': 'range2(10)',\n",
       " '_i167': \"def range2(*args):\\n    length=len(args)\\n    if length ==1:\\n        for num in range(args[0]):\\n            print(num,end=' ')\\n    elif length ==2:\\n        for num in range(args[0],args[1]):\\n            print(num,end=' ')\\n    elif length ==3:\\n        for num in range(args[0],args[1],args[2]):\\n            print(num,end=' ')\\n    else:\\n        print('제대로 입력하시오')\",\n",
       " '_i168': 'range2(10)',\n",
       " '_i169': 'range2(10,20)',\n",
       " '_i170': 'range3(10,20,30)',\n",
       " '_i171': 'a=range3(10,20,30)\\nprint(a)',\n",
       " 'a': (1,),\n",
       " '_i172': 'a=range3(10,20,30)\\nprint(a)',\n",
       " '_i173': 'range2(10,20,50,20)',\n",
       " '_i174': 'range3(10,20,1)',\n",
       " '_i175': 'range3(10)',\n",
       " '_i176': \"def range3(*args):\\n    length=len(args)\\n    result=[]\\n    if length==0:\\n        raise Exception('매개변수가 없으면 안 돼')\\n    elif length ==1:\\n        for i in range(args[0]):\\n            result.append(i)\\n    elif length ==2:\\n        for i in range(args[0],args[1]):\\n            result.append(i)\\n    elif length ==3:\\n        for i in range(args[0],args[1],args[2]):\\n            result.append(i)\\n    else:\\n        print('떼기')\",\n",
       " '_i177': 'range3(10)',\n",
       " '_i178': \"def range3(*args):\\n    length=len(args)\\n    result=[]\\n    if length==0:\\n        raise Exception('매개변수가 없으면 안 돼')\\n    elif length ==1:\\n        print('출력')\\n        for i in range(args[0]):\\n            result.append(i)\\n    elif length ==2:\\n        for i in range(args[0],args[1]):\\n            result.append(i)\\n    elif length ==3:\\n        for i in range(args[0],args[1],args[2]):\\n            result.append(i)\\n    else:\\n        print('떼기')\",\n",
       " '_i179': 'range3(10)',\n",
       " '_i180': \"def range3(*args):\\n    length=len(args)\\n    result=[]\\n    if length==0:\\n        raise Exception('매개변수가 없으면 안 돼')\\n    elif length ==1:\\n        for i in range(args[0]):\\n            result.append(i)\\n    elif length ==2:\\n        for i in range(args[0],args[1]):\\n            result.append(i)\\n    elif length ==3:\\n        for i in range(args[0],args[1],args[2]):\\n            result.append(i)\\n    else:\\n        print('떼기')\\n    return result\",\n",
       " '_i181': 'range3(10)',\n",
       " '_181': [0, 1, 2, 3, 4, 5, 6, 7, 8, 9],\n",
       " '_i182': \"def range2(*args):\\n    length=len(args)\\n    if length==0:\\n        print('매개 변수를 입력하세요')\\n    elif length ==1:\\n        for num in range(args[0]):\\n            print(num,end=' ')\\n    elif length ==2:\\n        for num in range(args[0],args[1]):\\n            print(num,end=' ')\\n    elif length ==3:\\n        for num in range(args[0],args[1],args[2]):\\n            print(num,end=' ')\\n    else:\\n        print('제대로 입력하시오')\",\n",
       " '_i183': 'range2()',\n",
       " '_i184': 't=(5,10,2)\\nrange(t)',\n",
       " 't': (5, 10, 2),\n",
       " '_i185': 't=(5,10,2)\\nrange(*t)',\n",
       " '_185': range(5, 10, 2),\n",
       " '_i186': 't=(5,10,2)\\nrange2(*t)',\n",
       " '_i187': 't=(5,10,2)\\nrange2(t)',\n",
       " '_i188': 't=(5,10,2)\\nrange2(*t)',\n",
       " '_i189': \"def func5(**data):\\n    for item in data.items()\\n        print(item)\\nfunc5(name='홍길동',age=30,addres='마포')\\n        \",\n",
       " '_i190': \"def func5(**data):\\n    for item in data.items():\\n        print(item)\\nfunc5(name='홍길동',age=30,addres='마포')\\n        \",\n",
       " '_i191': \"def func5(**data):\\n    for key,value in data.items():\\n        print(key,value)\\nfunc5(name='홍길동',age=30,addres='마포')\\n        \",\n",
       " '_i192': \"def func5(**data):\\n    for item in data.items():\\n        print(item)\\nfunc5(name='홍길동',age=30,addres='마포')\\n        \",\n",
       " '_i193': \"customerInfo={'name':'홍길동','age':30,'address':'마포'}\\nfunc5(**customerInfo)\",\n",
       " 'customerInfo': {'name': '홍길동', 'age': 30, 'address': '마포'},\n",
       " '_i194': 'l=[1,2,3]\\n[x**3 for x in l]',\n",
       " 'l': [1, 2, 3],\n",
       " '_194': [1, 8, 27],\n",
       " '_i195': 'def add(a,b):\\n    return a+b\\nadd(5,6)',\n",
       " '_195': 11,\n",
       " '_i196': 'xx =add\\ntype(add)',\n",
       " 'xx': <function __main__.add(a, b)>,\n",
       " '_196': function,\n",
       " '_i197': 'add2 = lambda a,b : a+b',\n",
       " 'add2': <function __main__.<lambda>(a, b)>,\n",
       " '_i198': 'add2(10,20)',\n",
       " '_198': 30,\n",
       " '_i199': '(lambda a,b:a+b)(30,40)',\n",
       " '_199': 70,\n",
       " '_i200': 'def map_template(func, L=[]):\\n    result=[]\\n    for item in L:\\n        result.append(func(item))\\n    return result     \\n    ',\n",
       " 'map_template': <function __main__.map_template(func, L=[])>,\n",
       " '_i201': 'list_data=[1,2,3,4,5]\\ndef x_2(x):\\n    return x*2',\n",
       " 'list_data': [1, 2, 3, 4, 5],\n",
       " 'x_2': <function __main__.x_2(x)>,\n",
       " '_i202': 'list_data=[1,2,3,4,5]\\ndef x_2(x):\\n    return x*2\\nmap_template(x_2,list_date)',\n",
       " '_i203': 'list_data=[1,2,3,4,5]\\ndef x_2(x):\\n    return x*2\\nmap_template(x_2,list_data)',\n",
       " '_203': [2, 4, 6, 8, 10],\n",
       " '_i204': 'list_data=[1,2,3,4,5]\\ndef x_2(x):\\n    return x*x\\nmap_template(x_2,list_data)',\n",
       " '_204': [1, 4, 9, 16, 25],\n",
       " '_i205': 'list_data=[1,2,3,4,5]\\ndef x_2(x):\\n    return x*2\\nmap_template(x_2,list_data)',\n",
       " '_205': [2, 4, 6, 8, 10],\n",
       " '_i206': 'map_template(lambda x:x*2,list_data)',\n",
       " '_206': [2, 4, 6, 8, 10],\n",
       " '_i207': '# map()함수 이용\\nlist(map(lambdax:x*2,list_data))',\n",
       " '_i208': '# map()함수 이용\\nlist(map(lambda x:x*2,list_data))',\n",
       " '_208': [2, 4, 6, 8, 10],\n",
       " '_i209': '# map()함수 이용\\nlist(map(lambda x:x*2,list_data))\\nmap(lambda x:x*2,list_data)',\n",
       " '_209': <map at 0x1ef973f0280>,\n",
       " '_i210': '# map()함수 이용\\nprint(list(map(lambda x:x*2,list_data)))\\nmap(lambda x:x*2,list_data)',\n",
       " '_210': <map at 0x1ef963ebfa0>,\n",
       " '_i211': '#리스트 컴프리헨션\\n[x*2 for x in list_data]',\n",
       " '_211': [2, 4, 6, 8, 10],\n",
       " '_i212': 'def evenyesorno(x):\\n    if x%2==0:\\n        return True\\n    else:\\n        return False',\n",
       " 'evenyesorno': <function __main__.evenyesorno(x)>,\n",
       " '_i213': 'list_data=[1,2,3,4,5]\\ndef filter_template(func,L=[])\\n    result=[]\\n    for item in L:\\n        if func(item):\\n            result.append(item)\\n    return result ',\n",
       " '_i214': 'def evenyesorno(x):\\n    if x%2==0:\\n        return True\\n    else:\\n        return False',\n",
       " '_i215': 'list_data=[1,2,3,4,5]\\ndef filter_template(func,L=[])\\n    result=[]\\n    for item in L:\\n        if func(item):\\n            result.append(item)\\n    return result ',\n",
       " '_i216': 'list_data=[1,2,3,4,5]\\ndef filter_template(func,L=[]):\\n    result=[]\\n    for item in L:\\n        if func(item):\\n            result.append(item)\\n    return result ',\n",
       " 'filter_template': <function __main__.filter_template(func, L=[])>,\n",
       " '_i217': 'def evenyesorno(x):\\n    if x%2==0:\\n        return True\\n    else:\\n        return False\\nfilter_template(evenyesorno,list_data)',\n",
       " '_217': [2, 4],\n",
       " '_i218': 'filter_template(lambda x: x%2==0,list_data)',\n",
       " '_218': [2, 4],\n",
       " '_i219': '# filter()함수\\nlist(filter(lambda x: x%==0,list_data))',\n",
       " '_i220': '# filter()함수\\nlist(filter(lambda x: x%2==0,list_data))',\n",
       " '_220': [2, 4],\n",
       " '_i221': '# 리스트 컴프리헨션\\n[x for x in list_data if x%2==0]',\n",
       " '_221': [2, 4],\n",
       " '_i222': \"pairs= [(1,'one'),(3,'three'),(2,'two'),(4,'four')]\\nmax(pairs)\",\n",
       " 'pairs': [(4, 'four'), (1, 'one'), (3, 'three'), (2, 'two')],\n",
       " '_222': (4, 'four'),\n",
       " '_i223': \"pairs= [(1,'one'),(3,'three'),(2,'two'),(4,'four')]\\npairs.sort()\\npairs\",\n",
       " '_223': [(1, 'one'), (2, 'two'), (3, 'three'), (4, 'four')],\n",
       " '_i224': \"pairs= [(1,'one'),(3,'three'),(2,'two'),(4,'four')]\\npairs.sort(1)\\npairs\",\n",
       " '_i225': \"pairs= [(1,'one'),(3,'three'),(2,'two'),(4,'four')]\\npairs.sort(1)\\npairs\",\n",
       " '_i226': \"pairs= [(1,'one'),(3,'three'),(2,'two'),(4,'four')]\\npairs.sort(2)\\npairs\",\n",
       " '_i227': \"pairs= [(1,'one'),(3,'three'),(2,'two'),(4,'four')]\\npairs.sort()\\npairs\",\n",
       " '_227': [(4, 'four'), (1, 'one'), (3, 'three'), (2, 'two')],\n",
       " '_i228': 'lambda pair : pair[1](10,20,30)',\n",
       " '_228': <function __main__.<lambda>(pair)>,\n",
       " '_i229': '(lambda pair : pair[1](10,20,30))',\n",
       " '_229': <function __main__.<lambda>(pair)>,\n",
       " '_i230': 'pairs.sort(key=lambda pair : pair[1])',\n",
       " '_i231': \"pairs= [(1,'one'),(3,'three'),(2,'two'),(4,'four')]\\npairs.sort()\\npairs\",\n",
       " '_231': [(4, 'four'), (1, 'one'), (3, 'three'), (2, 'two')],\n",
       " '_i232': 'pairs.sort(key=lambda pair : pair[1])',\n",
       " '_i233': 'pairs.sort(key=lambda pair : pair[1])\\npairs',\n",
       " '_233': [(4, 'four'), (1, 'one'), (3, 'three'), (2, 'two')],\n",
       " '_i234': '(lambda pair : pair[1](10,20,30))',\n",
       " '_234': <function __main__.<lambda>(pair)>,\n",
       " '_i235': 'lambda pair : pair[1]',\n",
       " '_235': <function __main__.<lambda>(pair)>,\n",
       " '_i236': '(lambda pair : pair[1])',\n",
       " '_236': <function __main__.<lambda>(pair)>,\n",
       " '_i237': '(lambda pair : pair[1])(10,20,30)',\n",
       " '_i238': '((lambda pair : pair[1])(10,20,30))',\n",
       " '_i239': 'def apply(data,func=None):\\n    if func==None:\\n        return data\\n    else:\\n        return func(data)\\napply(100,lambda x:x**3)',\n",
       " 'apply': <function __main__.apply(data, func=None)>,\n",
       " '_239': 1000000,\n",
       " '_i240': '((lambda pair : pair[1])',\n",
       " '_i241': '(lambda pair : pair[1])',\n",
       " '_241': <function __main__.<lambda>(pair)>,\n",
       " '_i242': 'lambda pair : pair[1]',\n",
       " '_242': <function __main__.<lambda>(pair)>,\n",
       " '_i243': 'lambda pairs : pairs[1]',\n",
       " '_243': <function __main__.<lambda>(pairs)>,\n",
       " '_i244': 'lambda pairs : pairs[1]',\n",
       " '_244': <function __main__.<lambda>(pairs)>,\n",
       " '_i245': 'lambda pairs : pairs[1]',\n",
       " '_245': <function __main__.<lambda>(pairs)>,\n",
       " '_i246': '(lambda pairs : pairs[1])',\n",
       " '_246': <function __main__.<lambda>(pairs)>,\n",
       " '_i247': 'lambda pairs',\n",
       " '_i248': 'lambda pairs: pairs*2',\n",
       " '_248': <function __main__.<lambda>(pairs)>,\n",
       " '_i249': '# 함수를 return하는 함수\\ndef make_box(shape):\\n    def box(init_value):\\n        if len(shape)==1:\\n            return[init_value]*shape[0]\\n    ',\n",
       " 'make_box': <function __main__.make_box(shape)>,\n",
       " '_i250': 'box1=make_box([5,])',\n",
       " 'box1': <function __main__.make_box1.<locals>.<lambda>(x)>,\n",
       " '_i251': 'type(box1)',\n",
       " '_251': NoneType,\n",
       " '_i252': '# 함수를 return하는 함수\\ndef make_box(shape):\\n    def box(init_value):\\n        if len(shape)==1:\\n            return[init_value]*shape[0]\\n        elif len(shape)==2:\\n            return[[init_value]*shape[1]*shape[0]]\\n    return box\\n    ',\n",
       " '_i253': 'box1=make_box([5,])',\n",
       " '_i254': 'box1(10)',\n",
       " '_254': [10, 10, 10, 10, 10],\n",
       " '_i255': 'box1(20)',\n",
       " '_255': [20, 20, 20, 20, 20],\n",
       " '_i256': 'box1(10)',\n",
       " '_256': [10, 10, 10, 10, 10],\n",
       " '_i257': 'box1=make_box([5,])\\ntype(box1)',\n",
       " '_257': function,\n",
       " '_i258': 'type(box1)',\n",
       " '_258': function,\n",
       " '_i259': 'box1=make_box([5,])\\ntype(box1)',\n",
       " '_259': function,\n",
       " '_i260': 'box2=make_box([2,3])\\nbox2(10)',\n",
       " 'box2': <function __main__.make_box1.<locals>.<lambda>(x)>,\n",
       " '_260': [[10, 10, 10, 10, 10, 10]],\n",
       " '_i261': '# 함수를 return하는 함수\\ndef make_box(shape):\\n    def box(init_value):\\n        if len(shape)==1:\\n            return[init_value]*shape[0]\\n        elif len(shape)==2:\\n            return[[init_value]*shape[1]]*shape[0]\\n    return box\\n    ',\n",
       " '_i262': 'box2=make_box([2,3])\\nbox2(10)',\n",
       " '_262': [[10, 10, 10], [10, 10, 10]],\n",
       " '_i263': 'def make_box(shape):\\n    if len(shape)==1:\\n        return lambda x: [x]*shape[0]',\n",
       " '_i264': 'def make_box(shape):\\n    if len(shape)==1:\\n        return lambda x: [x]*shape[0]\\n    elif len(shape)==2:\\n        return lambda x:[[x]*shape[1]]*shape[0]',\n",
       " '_i265': 'box1=make_box1(3,2)\\nbox1(5)',\n",
       " '_i266': 'def make_box1(shape):\\n    if len(shape)==1:\\n        return lambda x: [x]*shape[0]\\n    elif len(shape)==2:\\n        return lambda x:[[x]*shape[1]]*shape[0]',\n",
       " 'make_box1': <function __main__.make_box1(shape)>,\n",
       " '_i267': 'box1=make_box1(3,2)\\nbox1(5)',\n",
       " '_i268': 'box1=make_box1(3,2)\\nbox1(5)',\n",
       " '_i269': 'def make_box1(shape):\\n    if len(shape)==1:\\n        return lambda x: [x]*shape[0]\\n    elif len(shape)==2:\\n        return lambda x:[[x]*shape[1]]*shape[0]',\n",
       " '_i270': 'box1=make_box1(3,2)\\nbox1(5)',\n",
       " '_i271': 'box1=make_box1((3,2))\\nbox1(5)',\n",
       " '_271': [[5, 5], [5, 5], [5, 5]],\n",
       " '_i272': 'box2=make_box1((7,))\\nbox2(10)',\n",
       " '_272': [10, 10, 10, 10, 10, 10, 10],\n",
       " '_i273': 'box2=make_box1((7))\\nbox2(10)',\n",
       " '_i274': 'box2=make_box1((7,))\\nbox2(10)',\n",
       " '_274': [10, 10, 10, 10, 10, 10, 10],\n",
       " '_i275': 'len(1,)',\n",
       " '_i276': 'a=(1,)\\nlen(a)',\n",
       " '_276': 1,\n",
       " '_i277': 'a=(1)\\nlen(a)',\n",
       " '_i278': 'a=(1)\\nlen(a)',\n",
       " '_i279': \"a=('가')\\nlen(a)\",\n",
       " '_279': 1,\n",
       " '_i280': \"a=('가',)\\nlen(a)\",\n",
       " '_280': 1,\n",
       " '_i281': \"a=('가')\\nlen(a)\",\n",
       " '_281': 1,\n",
       " '_i282': 'a=(1)\\nlen(a)',\n",
       " '_i283': 'a=(1,)\\nlen(a)',\n",
       " '_283': 1,\n",
       " '_i284': '(lambda pair : pair[1])(10,20)',\n",
       " '_i285': '(lambda pair : pair[1])(10,20,30)',\n",
       " '_i286': '(lambda pair:pair[1])(10,20,30)',\n",
       " '_i287': 'set([1,2,3])',\n",
       " '_287': {1, 2, 3},\n",
       " '_i288': 'set(1,2,3)',\n",
       " '_i289': 'set([1,2,3])',\n",
       " '_289': {1, 2, 3},\n",
       " '_i290': 'set{1,2,3}',\n",
       " '_i291': 'set(1,2,3)',\n",
       " '_i292': 'set((1,2,3))',\n",
       " '_292': {1, 2, 3},\n",
       " '_i293': \"int('1.2')\",\n",
       " '_i294': \"float('1.2')\",\n",
       " '_294': 1.2,\n",
       " '_i295': \"int('1.2')\",\n",
       " '_i296': \"float('1.2')\\n#int('1.2')\\nint(float('1.2'))\",\n",
       " '_296': 1,\n",
       " '_i297': 'globals()# 전역변수들 딕셔너리 '}"
      ]
     },
     "execution_count": 297,
     "metadata": {},
     "output_type": "execute_result"
    }
   ],
   "source": [
    "globals()# 전역변수들 딕셔너리 "
   ]
  },
  {
   "cell_type": "code",
   "execution_count": 306,
   "metadata": {
    "ExecuteTime": {
     "end_time": "2021-02-24T07:21:00.926171Z",
     "start_time": "2021-02-24T07:21:00.921209Z"
    }
   },
   "outputs": [
    {
     "name": "stdout",
     "output_type": "stream",
     "text": [
      "{'n': 5, 'L': [0, 1, 2, 3, 4], 'i': 4}\n"
     ]
    },
    {
     "data": {
      "text/plain": [
       "[0, 1, 2, 3, 4]"
      ]
     },
     "execution_count": 306,
     "metadata": {},
     "output_type": "execute_result"
    }
   ],
   "source": [
    "def abc(n): #매개변수로 들어온 수 5[0,1,2,3,4]\n",
    "    L=[]\n",
    "    for i in range(n):\n",
    "        L.append(i)\n",
    "    print(locals())#지역변수를 출력 \n",
    "    return L\n",
    "abc(5)"
   ]
  },
  {
   "cell_type": "code",
   "execution_count": 303,
   "metadata": {
    "ExecuteTime": {
     "end_time": "2021-02-24T07:20:14.027024Z",
     "start_time": "2021-02-24T07:20:14.023036Z"
    }
   },
   "outputs": [
    {
     "data": {
      "text/plain": [
       "True"
      ]
     },
     "execution_count": 303,
     "metadata": {},
     "output_type": "execute_result"
    }
   ],
   "source": [
    "isinstance(3.5,float)"
   ]
  },
  {
   "cell_type": "code",
   "execution_count": 304,
   "metadata": {
    "ExecuteTime": {
     "end_time": "2021-02-24T07:20:26.244703Z",
     "start_time": "2021-02-24T07:20:26.239741Z"
    }
   },
   "outputs": [
    {
     "ename": "SyntaxError",
     "evalue": "unexpected EOF while parsing (<ipython-input-304-ab19472ad7b4>, line 1)",
     "output_type": "error",
     "traceback": [
      "\u001b[1;36m  File \u001b[1;32m\"<ipython-input-304-ab19472ad7b4>\"\u001b[1;36m, line \u001b[1;32m1\u001b[0m\n\u001b[1;33m    class Test:\u001b[0m\n\u001b[1;37m               ^\u001b[0m\n\u001b[1;31mSyntaxError\u001b[0m\u001b[1;31m:\u001b[0m unexpected EOF while parsing\n"
     ]
    }
   ],
   "source": [
    "class Test:"
   ]
  },
  {
   "cell_type": "code",
   "execution_count": 310,
   "metadata": {
    "ExecuteTime": {
     "end_time": "2021-02-24T07:23:37.309642Z",
     "start_time": "2021-02-24T07:23:37.305672Z"
    }
   },
   "outputs": [],
   "source": [
    "class Test:\n",
    "    def __init__(self,a,b):\n",
    "        self.a=a\n",
    "        self.b=b\n",
    "    def print_info(self):\n",
    "        print(self.a,self.b)"
   ]
  },
  {
   "cell_type": "code",
   "execution_count": 311,
   "metadata": {
    "ExecuteTime": {
     "end_time": "2021-02-24T07:23:38.973325Z",
     "start_time": "2021-02-24T07:23:38.969335Z"
    }
   },
   "outputs": [
    {
     "name": "stdout",
     "output_type": "stream",
     "text": [
      "10 8\n"
     ]
    }
   ],
   "source": [
    "t=Test(10,8)#t.a=10 , t.b=8\n",
    "t.print_info()"
   ]
  },
  {
   "cell_type": "code",
   "execution_count": 312,
   "metadata": {
    "ExecuteTime": {
     "end_time": "2021-02-24T07:23:40.589064Z",
     "start_time": "2021-02-24T07:23:40.584103Z"
    }
   },
   "outputs": [
    {
     "data": {
      "text/plain": [
       "True"
      ]
     },
     "execution_count": 312,
     "metadata": {},
     "output_type": "execute_result"
    }
   ],
   "source": [
    "isinstance(t,Test)"
   ]
  },
  {
   "cell_type": "code",
   "execution_count": 313,
   "metadata": {
    "ExecuteTime": {
     "end_time": "2021-02-24T07:23:49.310130Z",
     "start_time": "2021-02-24T07:23:49.305143Z"
    }
   },
   "outputs": [
    {
     "data": {
      "text/plain": [
       "['__class__',\n",
       " '__delattr__',\n",
       " '__dict__',\n",
       " '__dir__',\n",
       " '__doc__',\n",
       " '__eq__',\n",
       " '__format__',\n",
       " '__ge__',\n",
       " '__getattribute__',\n",
       " '__gt__',\n",
       " '__hash__',\n",
       " '__init__',\n",
       " '__init_subclass__',\n",
       " '__le__',\n",
       " '__lt__',\n",
       " '__module__',\n",
       " '__ne__',\n",
       " '__new__',\n",
       " '__reduce__',\n",
       " '__reduce_ex__',\n",
       " '__repr__',\n",
       " '__setattr__',\n",
       " '__sizeof__',\n",
       " '__str__',\n",
       " '__subclasshook__',\n",
       " '__weakref__',\n",
       " 'a',\n",
       " 'b',\n",
       " 'print_info']"
      ]
     },
     "execution_count": 313,
     "metadata": {},
     "output_type": "execute_result"
    }
   ],
   "source": [
    "dir(t)"
   ]
  },
  {
   "cell_type": "code",
   "execution_count": 315,
   "metadata": {
    "ExecuteTime": {
     "end_time": "2021-02-24T07:25:24.912808Z",
     "start_time": "2021-02-24T07:25:24.907842Z"
    }
   },
   "outputs": [
    {
     "data": {
      "text/plain": [
       "[(0, 10), (1, 20), (2, 30)]"
      ]
     },
     "execution_count": 315,
     "metadata": {},
     "output_type": "execute_result"
    }
   ],
   "source": [
    "list(enumerate([10,20,30]))"
   ]
  },
  {
   "cell_type": "code",
   "execution_count": 318,
   "metadata": {
    "ExecuteTime": {
     "end_time": "2021-02-24T07:26:13.239752Z",
     "start_time": "2021-02-24T07:26:13.235762Z"
    }
   },
   "outputs": [
    {
     "data": {
      "text/plain": [
       "False"
      ]
     },
     "execution_count": 318,
     "metadata": {},
     "output_type": "execute_result"
    }
   ],
   "source": [
    "all((0,1,2,3))"
   ]
  },
  {
   "cell_type": "code",
   "execution_count": 319,
   "metadata": {
    "ExecuteTime": {
     "end_time": "2021-02-24T07:26:33.328343Z",
     "start_time": "2021-02-24T07:26:33.324353Z"
    }
   },
   "outputs": [
    {
     "data": {
      "text/plain": [
       "(4, 3.7)"
      ]
     },
     "execution_count": 319,
     "metadata": {},
     "output_type": "execute_result"
    }
   ],
   "source": [
    "round(3.69),round(3.69,1) #numpy패키지안에도 round "
   ]
  },
  {
   "cell_type": "code",
   "execution_count": 329,
   "metadata": {
    "ExecuteTime": {
     "end_time": "2021-02-24T07:47:23.659119Z",
     "start_time": "2021-02-24T07:47:23.654134Z"
    }
   },
   "outputs": [
    {
     "data": {
      "text/plain": [
       "(3.0, 4.0, 4.0)"
      ]
     },
     "execution_count": 329,
     "metadata": {},
     "output_type": "execute_result"
    }
   ],
   "source": [
    "import numpy as np\n",
    "np.floor(3.67),np.ceil(3.67),np.round(3.67)"
   ]
  },
  {
   "cell_type": "markdown",
   "metadata": {},
   "source": [
    "# 연습문제"
   ]
  },
  {
   "cell_type": "code",
   "execution_count": 337,
   "metadata": {
    "ExecuteTime": {
     "end_time": "2021-02-24T07:52:49.769001Z",
     "start_time": "2021-02-24T07:52:49.764031Z"
    }
   },
   "outputs": [
    {
     "data": {
      "text/plain": [
       "'최대값6 :최소값1'"
      ]
     },
     "execution_count": 337,
     "metadata": {},
     "output_type": "execute_result"
    }
   ],
   "source": [
    "# 실1.\n",
    "def get_max_min(data_list):\n",
    "    return \"최대값{} :최소값{}\".format(max(data_list),min(data_list))\n",
    "get_max_min([1,2,3,4,5,6])"
   ]
  },
  {
   "cell_type": "code",
   "execution_count": null,
   "metadata": {},
   "outputs": [],
   "source": [
    "#실1-람다\n",
    "get_max_min=lambda data_list:{'max':max(data_list),'min'}"
   ]
  },
  {
   "cell_type": "code",
   "execution_count": 145,
   "metadata": {
    "ExecuteTime": {
     "end_time": "2021-02-25T02:33:42.476509Z",
     "start_time": "2021-02-25T02:33:42.470551Z"
    }
   },
   "outputs": [
    {
     "data": {
      "text/plain": [
       "'축하드립니다 표준 체형입니다'"
      ]
     },
     "execution_count": 145,
     "metadata": {},
     "output_type": "execute_result"
    }
   ],
   "source": [
    "# 실2.\n",
    "def body_BMI(kg,m):\n",
    "    BMI=kg/(m*0.01*m*0.01)\n",
    "    if BMI<18.5:\n",
    "        return '마른 체형입니다 많이 드세요'\n",
    "    elif 18.5<=BMI<25.0:\n",
    "        return '축하드립니다 표준 체형입니다'\n",
    "    elif 25.0<=BMI<30.0:\n",
    "        return '고도비만 야식금지'\n",
    "body_BMI(75,174)"
   ]
  },
  {
   "cell_type": "code",
   "execution_count": 354,
   "metadata": {
    "ExecuteTime": {
     "end_time": "2021-02-24T08:08:07.302288Z",
     "start_time": "2021-02-24T08:08:07.297283Z"
    }
   },
   "outputs": [
    {
     "data": {
      "text/plain": [
       "5.0"
      ]
     },
     "execution_count": 354,
     "metadata": {},
     "output_type": "execute_result"
    }
   ],
   "source": [
    "#직각삼각형의 빗변의 길이 계산시 사용할 함수(제곱근을 구하는 함수)\n",
    "import math\n",
    "math.sqrt(25)"
   ]
  },
  {
   "cell_type": "code",
   "execution_count": 355,
   "metadata": {
    "ExecuteTime": {
     "end_time": "2021-02-24T08:08:09.158421Z",
     "start_time": "2021-02-24T08:08:09.153460Z"
    }
   },
   "outputs": [
    {
     "data": {
      "text/plain": [
       "(3.5, 12.0)"
      ]
     },
     "execution_count": 355,
     "metadata": {},
     "output_type": "execute_result"
    }
   ],
   "source": [
    "# 실3.\n",
    "def get_triangle(width,height):\n",
    "    area=(width+height)/2\n",
    "    perimeter=width+height+math.sqrt(pow(width,2)+pow(height,2))\n",
    "    return(area,perimeter)\n",
    "get_triangle(3,4)"
   ]
  },
  {
   "cell_type": "code",
   "execution_count": 361,
   "metadata": {
    "ExecuteTime": {
     "end_time": "2021-02-24T08:10:33.253518Z",
     "start_time": "2021-02-24T08:10:33.248519Z"
    }
   },
   "outputs": [
    {
     "data": {
      "text/plain": [
       "45"
      ]
     },
     "execution_count": 361,
     "metadata": {},
     "output_type": "execute_result"
    }
   ],
   "source": [
    "#실4\n",
    "def mysum(start,end):\n",
    "    sum=0\n",
    "    for i in range(start,end+1):\n",
    "        sum+=i\n",
    "    return sum\n",
    "mysum(5,10)"
   ]
  },
  {
   "cell_type": "code",
   "execution_count": 147,
   "metadata": {
    "ExecuteTime": {
     "end_time": "2021-02-25T02:40:17.558427Z",
     "start_time": "2021-02-25T02:40:17.554463Z"
    }
   },
   "outputs": [],
   "source": [
    "#실5\n",
    "def get_abbrs(list):\n",
    "    result=[]\n",
    "    for i in list:\n",
    "        result.append(i[:3])\n",
    "    return result"
   ]
  },
  {
   "cell_type": "code",
   "execution_count": 146,
   "metadata": {
    "ExecuteTime": {
     "end_time": "2021-02-25T02:38:41.019048Z",
     "start_time": "2021-02-25T02:38:41.014042Z"
    }
   },
   "outputs": [
    {
     "name": "stdout",
     "output_type": "stream",
     "text": [
      "['Seo', 'Dae', 'Kwa']\n"
     ]
    }
   ],
   "source": [
    "#실5\n",
    "def get_abbrs(list_):\n",
    "    return[x[:3]for x in list_]\n",
    "test=['Seoul','Daegu','Kwangju']\n",
    "print(get_abbrs(test))"
   ]
  },
  {
   "cell_type": "code",
   "execution_count": 393,
   "metadata": {
    "ExecuteTime": {
     "end_time": "2021-02-24T08:31:21.192724Z",
     "start_time": "2021-02-24T08:31:21.188735Z"
    }
   },
   "outputs": [
    {
     "data": {
      "text/plain": [
       "9"
      ]
     },
     "execution_count": 393,
     "metadata": {},
     "output_type": "execute_result"
    }
   ],
   "source": [
    "#6\n",
    "Q=lambda x,y : x**y\n",
    "Q(3,2)\n",
    "(lambda x,y : x**y)(3,2)"
   ]
  },
  {
   "cell_type": "code",
   "execution_count": 411,
   "metadata": {
    "ExecuteTime": {
     "end_time": "2021-02-24T08:43:25.773119Z",
     "start_time": "2021-02-24T08:43:25.768132Z"
    }
   },
   "outputs": [
    {
     "name": "stdout",
     "output_type": "stream",
     "text": [
      "[1, 4, 9, 16, 25]\n",
      "[1, 4, 9, 16, 25]\n",
      "[1, 4, 9, 16, 25]\n"
     ]
    }
   ],
   "source": [
    "#7\n",
    "ex=[1,2,3,4,5]\n",
    "def map_(func, L=[]):\n",
    "    result=[]\n",
    "    for item in L:\n",
    "        result.append(func(item))\n",
    "    return result     \n",
    "print(map_(lambda x:x*x,ex))\n",
    "print(list(map(lambda x:x*x,ex)))\n",
    "print([x*x for x in ex])"
   ]
  },
  {
   "cell_type": "code",
   "execution_count": 406,
   "metadata": {
    "ExecuteTime": {
     "end_time": "2021-02-24T08:38:15.472394Z",
     "start_time": "2021-02-24T08:38:15.468404Z"
    }
   },
   "outputs": [
    {
     "name": "stdout",
     "output_type": "stream",
     "text": [
      "[1, 2, 3]\n",
      "1 2 3\n"
     ]
    }
   ],
   "source": [
    "#8\n",
    "a=[1,2,3]\n",
    "print(a)\n",
    "print(*a)\n",
    "*a #함수를 호출할떄 인자를 해체하는 개념\n",
    "#언패킹 시쿼스형 자료형의 각각의 값(element)을 하나의 값(element)으로 넣어주게 된다(언패킹)\n"
   ]
  },
  {
   "cell_type": "code",
   "execution_count": 407,
   "metadata": {
    "ExecuteTime": {
     "end_time": "2021-02-24T08:41:44.986158Z",
     "start_time": "2021-02-24T08:41:44.981193Z"
    }
   },
   "outputs": [
    {
     "data": {
      "text/plain": [
       "'2019-9-6'"
      ]
     },
     "execution_count": 407,
     "metadata": {},
     "output_type": "execute_result"
    }
   ],
   "source": [
    "#9 키값으로 year:'2019',month:9 , day:6\n",
    "data_info={'year':'2019','month':'9','day':'6'}\n",
    "result=\"{year}-{month}-{day}\".format(**data_info)\n",
    "result\n"
   ]
  },
  {
   "cell_type": "code",
   "execution_count": 160,
   "metadata": {
    "ExecuteTime": {
     "end_time": "2021-02-25T03:00:21.320945Z",
     "start_time": "2021-02-25T03:00:21.316945Z"
    }
   },
   "outputs": [
    {
     "data": {
      "text/plain": [
       "True"
      ]
     },
     "execution_count": 160,
     "metadata": {},
     "output_type": "execute_result"
    }
   ],
   "source": [
    "#10 \n",
    "def vector_size_check(*vector_variables):\n",
    "    #print (len(set([len(vector) for vector in  vector_variables ]))==1)\n",
    "    return len(set([len(vector) for vector in  vector_variables ]))==1\n",
    "vector_size_check([1,2,3],[1,2,3],[3,4,5])"
   ]
  },
  {
   "cell_type": "code",
   "execution_count": 133,
   "metadata": {
    "ExecuteTime": {
     "end_time": "2021-02-25T01:48:16.565868Z",
     "start_time": "2021-02-25T01:48:16.561875Z"
    }
   },
   "outputs": [],
   "source": [
    "#11\n",
    "def scalar_vector_product(*number):\n",
    "    z=[]\n",
    "    for i in number:\n",
    "        if(i==number[0]):\n",
    "            continue\n",
    "        else:\n",
    "            for num in i:\n",
    "                z.append(num*number[0])\n",
    "            return z"
   ]
  },
  {
   "cell_type": "code",
   "execution_count": null,
   "metadata": {},
   "outputs": [],
   "source": [
    "#11\n",
    "def scalar_vector_product(n, number):\n",
    "    z=[]\n",
    "    for i in number:\n",
    "        z.append(n*i)\n",
    "    return z"
   ]
  },
  {
   "cell_type": "code",
   "execution_count": 161,
   "metadata": {
    "ExecuteTime": {
     "end_time": "2021-02-25T03:02:14.594254Z",
     "start_time": "2021-02-25T03:02:14.591262Z"
    }
   },
   "outputs": [],
   "source": [
    "#11\n",
    "def scalar_vector_product(num,vector):\n",
    "    return[num*t for t in vector]"
   ]
  },
  {
   "cell_type": "code",
   "execution_count": 162,
   "metadata": {
    "ExecuteTime": {
     "end_time": "2021-02-25T03:02:16.130990Z",
     "start_time": "2021-02-25T03:02:16.126003Z"
    }
   },
   "outputs": [
    {
     "data": {
      "text/plain": [
       "[5, 10, 15, 20, 25, 30]"
      ]
     },
     "execution_count": 162,
     "metadata": {},
     "output_type": "execute_result"
    }
   ],
   "source": [
    "scalar_vector_product(5,[1,2,3,4,5,6])"
   ]
  }
 ],
 "metadata": {
  "kernelspec": {
   "display_name": "Python 3",
   "language": "python",
   "name": "python3"
  },
  "language_info": {
   "codemirror_mode": {
    "name": "ipython",
    "version": 3
   },
   "file_extension": ".py",
   "mimetype": "text/x-python",
   "name": "python",
   "nbconvert_exporter": "python",
   "pygments_lexer": "ipython3",
   "version": "3.8.5"
  },
  "toc": {
   "base_numbering": 1,
   "nav_menu": {},
   "number_sections": false,
   "sideBar": true,
   "skip_h1_title": false,
   "title_cell": "Table of Contents",
   "title_sidebar": "Contents",
   "toc_cell": false,
   "toc_position": {
    "height": "calc(100% - 180px)",
    "left": "10px",
    "top": "150px",
    "width": "384px"
   },
   "toc_section_display": true,
   "toc_window_display": true
  },
  "varInspector": {
   "cols": {
    "lenName": 16,
    "lenType": 16,
    "lenVar": 40
   },
   "kernels_config": {
    "python": {
     "delete_cmd_postfix": "",
     "delete_cmd_prefix": "del ",
     "library": "var_list.py",
     "varRefreshCmd": "print(var_dic_list())"
    },
    "r": {
     "delete_cmd_postfix": ") ",
     "delete_cmd_prefix": "rm(",
     "library": "var_list.r",
     "varRefreshCmd": "cat(var_dic_list()) "
    }
   },
   "types_to_exclude": [
    "module",
    "function",
    "builtin_function_or_method",
    "instance",
    "_Feature"
   ],
   "window_display": false
  }
 },
 "nbformat": 4,
 "nbformat_minor": 4
}
