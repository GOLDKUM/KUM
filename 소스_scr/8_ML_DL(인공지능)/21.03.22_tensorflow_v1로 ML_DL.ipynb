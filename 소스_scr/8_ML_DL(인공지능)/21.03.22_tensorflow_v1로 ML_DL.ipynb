{
 "cells": [
  {
   "cell_type": "code",
   "execution_count": 1,
   "metadata": {},
   "outputs": [
    {
     "data": {
      "text/html": [
       "<style>\n",
       "div.container{width:99% !important;}\n",
       "div.CodeMirror {font-family:Consolas; font-size:18pt;}\n",
       "div.output{font-size:18pt; font-weight:bold;}\n",
       "div.input{font-family:Consolas; font-size:18pt;}\n",
       "div.prompt{min-width:100px;}\n",
       "</style>"
      ],
      "text/plain": [
       "<IPython.core.display.HTML object>"
      ]
     },
     "metadata": {},
     "output_type": "display_data"
    }
   ],
   "source": [
    "from IPython.core.display import display, HTML\n",
    "display(HTML(\n",
    "\"\"\"<style>\n",
    "div.container{width:99% !important;}\n",
    "div.CodeMirror {font-family:Consolas; font-size:18pt;}\n",
    "div.output{font-size:18pt; font-weight:bold;}\n",
    "div.input{font-family:Consolas; font-size:18pt;}\n",
    "div.prompt{min-width:100px;}\n",
    "</style>\"\"\"))"
   ]
  },
  {
   "cell_type": "markdown",
   "metadata": {},
   "source": [
    "# 1. tensorflow v2.x에서 v1 버전 사용하기"
   ]
  },
  {
   "cell_type": "code",
   "execution_count": 2,
   "metadata": {},
   "outputs": [
    {
     "name": "stdout",
     "output_type": "stream",
     "text": [
      "WARNING:tensorflow:From C:\\Users\\tjoeun\\anaconda3\\lib\\site-packages\\tensorflow\\python\\compat\\v2_compat.py:96: disable_resource_variables (from tensorflow.python.ops.variable_scope) is deprecated and will be removed in a future version.\n",
      "Instructions for updating:\n",
      "non-resource variables are not supported in the long term\n"
     ]
    }
   ],
   "source": [
    "import tensorflow.compat.v1 as tf\n",
    "tf.disable_v2_behavior()\n",
    "# v1로 사용하기"
   ]
  },
  {
   "cell_type": "code",
   "execution_count": 6,
   "metadata": {},
   "outputs": [
    {
     "name": "stdout",
     "output_type": "stream",
     "text": [
      "b'Hello, TensorFlow'\n",
      "Hello, TensorFlow\n"
     ]
    }
   ],
   "source": [
    "# tensor=data(상수, 변수), 연산\n",
    "# node1 상수 tensor 선언\n",
    "node1 = tf.constant('Hello, TensorFlow') \n",
    "# graph(computational grahp를 생성)\n",
    "sess = tf.Session()\n",
    "# print(node1)\n",
    "print(sess.run(node1)) # b가 의미하는 것은 byte literals\n",
    "# http://stackoverflow.com/questions/6269765\n",
    "print(sess.run(node1).decode())"
   ]
  },
  {
   "cell_type": "code",
   "execution_count": 10,
   "metadata": {},
   "outputs": [
    {
     "name": "stdout",
     "output_type": "stream",
     "text": [
      "[10.0, 20.0, 30.0]\n"
     ]
    }
   ],
   "source": [
    "# 간단한 수학 연산 수행(computational graph)\n",
    "node1 = tf.constant(10, dtype=tf.float32)\n",
    "node2 = tf.constant(20, dtype=tf.float32)\n",
    "# node3 = node1 + node2\n",
    "node3 = tf.add(node1, node2)\n",
    "# computational graph 실행\n",
    "sess = tf.Session()\n",
    "print(sess.run([node1, node2, node3]))"
   ]
  },
  {
   "cell_type": "markdown",
   "metadata": {},
   "source": [
    "# Tensorflow \n",
    "<ol>\n",
    "    <li>그래프 정의</li>\n",
    "    <li>sess = tf.Session()를 실행</li>\n",
    "    <li>sess.run()을 통해 값을 확인할 수 있음</li>"
   ]
  },
  {
   "cell_type": "code",
   "execution_count": 13,
   "metadata": {},
   "outputs": [
    {
     "name": "stdout",
     "output_type": "stream",
     "text": [
      "[1 2 3]\n",
      "[1. 2. 3.]\n"
     ]
    }
   ],
   "source": [
    "import numpy as np\n",
    "node1 = tf.constant(np.array([1,2,3]), dtype=tf.int16)\n",
    "node2 = tf.cast(node1, dtype=tf.float32)\n",
    "sess = tf.Session()\n",
    "print(sess.run(node1))\n",
    "print(sess.run(node2))"
   ]
  },
  {
   "cell_type": "code",
   "execution_count": 14,
   "metadata": {},
   "outputs": [
    {
     "name": "stdout",
     "output_type": "stream",
     "text": [
      "2.5\n"
     ]
    }
   ],
   "source": [
    "data = [1.,2.,3.,4.]\n",
    "m = tf.reduce_mean(data) # reduce_mean 평균값 연산\n",
    "sess = tf.Session()\n",
    "print(sess.run(m))"
   ]
  },
  {
   "cell_type": "markdown",
   "metadata": {},
   "source": [
    "# 2. tensorflow v1을 이용한 linear regression을 구현"
   ]
  },
  {
   "cell_type": "markdown",
   "metadata": {},
   "source": [
    "## 독립변수 x가 한개"
   ]
  },
  {
   "cell_type": "code",
   "execution_count": 16,
   "metadata": {},
   "outputs": [
    {
     "name": "stdout",
     "output_type": "stream",
     "text": [
      "200번째 cost:0.02034815587103367, W값:[0.8347227], b값:[0.3757142]\n",
      "400번째 cost:0.007769936695694923, W값:[0.8978686], b값:[0.23216864]\n",
      "600번째 cost:0.0029669369105249643, W값:[0.93688905], b값:[0.14346603]\n",
      "800번째 cost:0.0011329210828989744, W값:[0.96100134], b값:[0.08865321]\n",
      "1000번째 cost:0.0004326040216255933, W값:[0.9759012], b값:[0.05478227]\n",
      "1200번째 cost:0.0001651893398957327, W값:[0.98510844], b값:[0.0338521]\n",
      "1400번째 cost:6.307666626526043e-05, W값:[0.990798], b값:[0.02091847]\n",
      "1600번째 cost:2.4085305994958617e-05, W값:[0.9943137], b값:[0.0129263]\n",
      "1800번째 cost:9.197224244417157e-06, W값:[0.9964861], b값:[0.00798776]\n",
      "2000번째 cost:3.5120513075526105e-06, W값:[0.9978286], b값:[0.00493609]\n",
      "2200번째 cost:1.3411639656624175e-06, W값:[0.9986581], b값:[0.00305028]\n",
      "2400번째 cost:5.1229693553978e-07, W값:[0.9991708], b값:[0.00188511]\n",
      "2600번째 cost:1.9572318876726058e-07, W값:[0.9994874], b값:[0.00116518]\n",
      "2800번째 cost:7.483316011303032e-08, W값:[0.99968296], b값:[0.00072048]\n",
      "3000번째 cost:2.8660439355121525e-08, W값:[0.9998037], b값:[0.00044579]\n",
      "3200번째 cost:1.0983458587077166e-08, W값:[0.99987847], b값:[0.00027599]\n",
      "3400번째 cost:4.217520555016563e-09, W값:[0.9999246], b값:[0.00017099]\n",
      "3600번째 cost:1.6260548463264968e-09, W값:[0.9999532], b값:[0.00010623]\n",
      "3800번째 cost:6.276885122780129e-10, W값:[0.99997085], b값:[6.5831184e-05]\n",
      "4000번째 cost:2.3800142412433445e-10, W값:[0.9999822], b값:[4.0712614e-05]\n",
      "4200번째 cost:9.012449814216339e-11, W값:[0.99998903], b값:[2.4951594e-05]\n",
      "4400번째 cost:3.6879221898544756e-11, W값:[0.99999285], b값:[1.5937094e-05]\n",
      "4600번째 cost:1.7022166662328253e-11, W값:[0.99999505], b값:[1.0805003e-05]\n",
      "4800번째 cost:9.104835808904088e-12, W값:[0.9999963], b값:[7.8798475e-06]\n",
      "5000번째 cost:5.945106820032242e-12, W값:[0.9999971], b값:[6.229832e-06]\n",
      "5200번째 cost:4.31082036386754e-12, W값:[0.99999744], b값:[5.282977e-06]\n",
      "5400번째 cost:3.5272143279058144e-12, W값:[0.9999977], b값:[4.7545795e-06]\n",
      "5600번째 cost:3.2435783659662265e-12, W값:[0.99999774], b값:[4.5084325e-06]\n",
      "5800번째 cost:3.2432329391540726e-12, W값:[0.99999774], b값:[4.4905373e-06]\n",
      "6000번째 cost:3.243232722313638e-12, W값:[0.99999774], b값:[4.4902276e-06]\n"
     ]
    }
   ],
   "source": [
    "# tensor graph 정의\n",
    "\n",
    "# train data set\n",
    "# x = np.array([1,2,3])\n",
    "# y = np.array([1,2,3])\n",
    "x = [1,2,3]\n",
    "y = [1,2,3]\n",
    "\n",
    "#Weight & Bias (처음에는 랜덤값을 셋팅했다가 학습과정에서 변경)\n",
    "W = tf.Variable(tf.random.normal([1]), name=\"weight\")\n",
    "b = tf.Variable(tf.random.normal([1]), name=\"bias\")\n",
    "\n",
    "# Hypothesis\n",
    "H = W*x + b\n",
    "\n",
    "# cost function(최소제곱법)\n",
    "cost = tf.reduce_mean(tf.square(H - y))\n",
    "\n",
    "# 우리의 목적은 cost함수가 최소가 되는 W와 b를 찾는 것\n",
    "'''\n",
    "cost함수는 제곱의 평균인 2차 함수이므로 곡선. 곡선위 미분값이 줄어드는 방향으로 학습\n",
    "'''\n",
    "optimizer = tf.train.GradientDescentOptimizer(learning_rate=0.01)\n",
    "train = optimizer.minimize(cost)\n",
    "\n",
    "# Session \n",
    "sess = tf.Session()\n",
    "\n",
    "# Variable 노드 초기화\n",
    "sess.run(tf.global_variables_initializer())\n",
    "\n",
    "# 6000번 학습 (tensorflow v2. fit()함수)\n",
    "'''\n",
    "for step in range(1, 6001):\n",
    "    sess.run(train)\n",
    "    if step%300 == 0:\n",
    "        print(\"{}번째 cost:{}, W값:{}, b값:{}\".format(step, \n",
    "                        sess.run(cost), sess.run(W), sess.run(b)))\n",
    "'''\n",
    "for step in range(1, 6001):\n",
    "    _, cost_val, W_val, b_val = sess.run([train, cost, W, b])\n",
    "    if step%200 == 0:\n",
    "        print(\"{}번째 cost:{}, W값:{}, b값:{}\".format(step,\n",
    "                        cost_val, W_val, b_val))"
   ]
  },
  {
   "cell_type": "code",
   "execution_count": 17,
   "metadata": {},
   "outputs": [
    {
     "data": {
      "text/plain": [
       "[array([0.99999774], dtype=float32), array([4.4902276e-06], dtype=float32)]"
      ]
     },
     "execution_count": 17,
     "metadata": {},
     "output_type": "execute_result"
    }
   ],
   "source": [
    "sess.run([W,b])"
   ]
  },
  {
   "cell_type": "code",
   "execution_count": 20,
   "metadata": {},
   "outputs": [],
   "source": [
    "w_, b_ = sess.run([W,b])"
   ]
  },
  {
   "cell_type": "code",
   "execution_count": 21,
   "metadata": {},
   "outputs": [
    {
     "name": "stdout",
     "output_type": "stream",
     "text": [
      "최종적으로 나온 회귀식 : H=0.9999977350234985*x + 4.490227638598299e-06\n"
     ]
    }
   ],
   "source": [
    "print(\"최종적으로 나온 회귀식 : H={}*x + {}\".format(w_[0], b_[0]))"
   ]
  },
  {
   "cell_type": "code",
   "execution_count": 32,
   "metadata": {},
   "outputs": [
    {
     "name": "stdout",
     "output_type": "stream",
     "text": [
      "1번째 cost:3.243232722313638e-12, W값:100.0, b값:1.9055131673812866\n",
      "201번째 cost:3.243232722313638e-12, W값:10.484940528869629, b값:-21.561498641967773\n",
      "401번째 cost:3.243232722313638e-12, W값:6.861116886138916, b값:-13.323695182800293\n",
      "601번째 cost:3.243232722313638e-12, W값:4.6218132972717285, b값:-8.233232498168945\n",
      "801번째 cost:3.243232722313638e-12, W값:3.2380611896514893, b값:-5.0876383781433105\n",
      "1001번째 cost:3.243232722313638e-12, W값:2.3829853534698486, b값:-3.143850803375244\n",
      "1201번째 cost:3.243232722313638e-12, W값:1.8546011447906494, b값:-1.942708969116211\n",
      "1401번째 cost:3.243232722313638e-12, W값:1.528091549873352, b값:-1.2004761695861816\n",
      "1601번째 cost:3.243232722313638e-12, W값:1.3263286352157593, b값:-0.7418213486671448\n",
      "1801번째 cost:3.243232722313638e-12, W값:1.2016510963439941, b값:-0.45840057730674744\n",
      "2001번째 cost:3.243232722313638e-12, W값:1.1246082782745361, b값:-0.28326380252838135\n",
      "2201번째 cost:3.243232722313638e-12, W값:1.0770002603530884, b값:-0.17503969371318817\n",
      "2401번째 cost:3.243232722313638e-12, W값:1.047581434249878, b값:-0.10816369205713272\n",
      "2601번째 cost:3.243232722313638e-12, W값:1.0294023752212524, b값:-0.06683849543333054\n",
      "2801번째 cost:3.243232722313638e-12, W값:1.0181689262390137, b값:-0.04130229353904724\n",
      "3001번째 cost:3.243232722313638e-12, W값:1.0112272500991821, b값:-0.025522125884890556\n",
      "3201번째 cost:3.243232722313638e-12, W값:1.0069377422332764, b값:-0.015771053731441498\n",
      "3401번째 cost:3.243232722313638e-12, W값:1.0042870044708252, b값:-0.009745407849550247\n",
      "3601번째 cost:3.243232722313638e-12, W값:1.002649188041687, b값:-0.006022319663316011\n",
      "3801번째 cost:3.243232722313638e-12, W값:1.00163733959198, b값:-0.0037218225188553333\n"
     ]
    }
   ],
   "source": [
    "# tensor graph 정의\n",
    "\n",
    "# train data set\n",
    "# x = np.array([1,2,3])\n",
    "# y = np.array([1,2,3])\n",
    "x = [1,2,3]\n",
    "y = [1,2,3]\n",
    "\n",
    "#Weight & Bias (처음에는 랜덤값을 셋팅했다가 학습과정에서 변경)\n",
    "W = tf.Variable(100.0, name=\"weight\")\n",
    "b = tf.Variable(tf.random.normal([1]), name=\"bias\")\n",
    "\n",
    "# Hypothesis\n",
    "H = W*x + b\n",
    "\n",
    "# cost function(최소제곱법)\n",
    "cost = tf.reduce_mean(tf.square(H - y))\n",
    "\n",
    "# 우리의 목적은 cost함수가 최소가 되는 W와 b를 찾는 것\n",
    "'''\n",
    "cost함수는 제곱의 평균인 2차 함수이므로 곡선. 곡선위 미분값이 줄어드는 방향으로 학습\n",
    "'''\n",
    "optimizer = tf.train.GradientDescentOptimizer(learning_rate=0.01)\n",
    "train = optimizer.minimize(cost)\n",
    "\n",
    "# Session \n",
    "sess = tf.Session()\n",
    "\n",
    "# Variable 노드 초기화\n",
    "sess.run(tf.global_variables_initializer())\n",
    "\n",
    "# 4000번 학습 (tensorflow v2. fit()함수)\n",
    "for step in range(1, 4001):\n",
    "    W_val, b_val = sess.run([W, b])\n",
    "    if step%200 == 1:\n",
    "        print(\"{}번째 cost:{}, W값:{}, b값:{}\".format(step,\n",
    "                        cost_val, W_val, b_val[0]))\n",
    "    sess.run(train)"
   ]
  },
  {
   "cell_type": "markdown",
   "metadata": {},
   "source": [
    "## 2.1 predict를 하기 위한 placeholder 이용"
   ]
  },
  {
   "cell_type": "code",
   "execution_count": 34,
   "metadata": {},
   "outputs": [
    {
     "data": {
      "text/plain": [
       "30.0"
      ]
     },
     "execution_count": 34,
     "metadata": {},
     "output_type": "execute_result"
    }
   ],
   "source": [
    "# placeholder 이용\n",
    "a = tf.placeholder(tf.float32)\n",
    "b = tf.placeholder(tf.float32)\n",
    "#ab = tf.add(a+b)\n",
    "ab = a + b\n",
    "sess = tf.Session()\n",
    "sess.run(ab, feed_dict={a:10, b:20})"
   ]
  },
  {
   "cell_type": "code",
   "execution_count": 35,
   "metadata": {},
   "outputs": [
    {
     "data": {
      "text/plain": [
       "array([11., 12., 13.], dtype=float32)"
      ]
     },
     "execution_count": 35,
     "metadata": {},
     "output_type": "execute_result"
    }
   ],
   "source": [
    "sess.run(ab, feed_dict={a : [1,2,3],\n",
    "                        b : [10,10,10]})"
   ]
  },
  {
   "cell_type": "code",
   "execution_count": 36,
   "metadata": {},
   "outputs": [
    {
     "data": {
      "text/plain": [
       "array([11., 12., 13.], dtype=float32)"
      ]
     },
     "execution_count": 36,
     "metadata": {},
     "output_type": "execute_result"
    }
   ],
   "source": [
    "sess.run(ab, feed_dict={a : np.array([1,2,3]),\n",
    "                        b : np.array([10,10,10])})"
   ]
  },
  {
   "cell_type": "code",
   "execution_count": 37,
   "metadata": {},
   "outputs": [
    {
     "name": "stdout",
     "output_type": "stream",
     "text": [
      "node1값은 10\n",
      "node2값은 20\n",
      "30.0\n"
     ]
    }
   ],
   "source": [
    "# 그래프 실행 단계에서 값을 던져줌\n",
    "node1 = tf.placeholder(tf.float32)\n",
    "node2 = tf.placeholder(tf.float32)\n",
    "adder_node = node1 + node2\n",
    "sess = tf.Session()\n",
    "result = sess.run(adder_node, feed_dict={node1: input(\"node1값은 \"),\n",
    "                                         node2: input(\"node2값은 \")})\n",
    "print(result)"
   ]
  },
  {
   "cell_type": "code",
   "execution_count": 39,
   "metadata": {},
   "outputs": [
    {
     "name": "stdout",
     "output_type": "stream",
     "text": [
      "200번째:cost-0.4143863618373871, W-[2.7458534], b-[1.3045001]\n",
      "400번째:cost-0.15823297202587128, W-[2.4608922], b-[1.9522841]\n",
      "600번째:cost-0.06042104586958885, W-[2.2848032], b-[2.3525755]\n",
      "800번째:cost-0.02307167463004589, W-[2.1759908], b-[2.5999315]\n",
      "1000번째:cost-0.008809849619865417, W-[2.1087515], b-[2.7527826]\n",
      "1200번째:cost-0.0033639955800026655, W-[2.0672016], b-[2.847235]\n",
      "1400번째:cost-0.0012845421442762017, W-[2.0415266], b-[2.9056]\n",
      "1600번째:cost-0.000490499020088464, W-[2.0256605], b-[2.9416676]\n",
      "1800번째:cost-0.0001872936263680458, W-[2.0158567], b-[2.963954]\n",
      "2000번째:cost-7.151949830586091e-05, W-[2.0097985], b-[2.977726]\n",
      "2200번째:cost-2.731233871600125e-05, W-[2.006055], b-[2.9862354]\n",
      "2400번째:cost-1.0431122063891962e-05, W-[2.0037422], b-[2.9914935]\n",
      "2600번째:cost-3.985328476119321e-06, W-[2.0023131], b-[2.9947422]\n",
      "2800번째:cost-1.5233372323564254e-06, W-[2.0014303], b-[2.9967487]\n",
      "3000번째:cost-5.837588901158597e-07, W-[2.0008855], b-[2.9979882]\n",
      "3200번째:cost-2.236000256061743e-07, W-[2.0005481], b-[2.9987543]\n",
      "3400번째:cost-8.58335624798201e-08, W-[2.0003395], b-[2.9992282]\n",
      "3600번째:cost-3.3403694033040665e-08, W-[2.0002124], b-[2.9995189]\n",
      "3800번째:cost-1.3078306437819265e-08, W-[2.0001328], b-[2.9996989]\n",
      "4000번째:cost-5.2757513913093135e-09, W-[2.0000834], b-[2.9998085]\n",
      "4200번째:cost-2.064704629489711e-09, W-[2.0000525], b-[2.9998806]\n",
      "4400번째:cost-7.591249295835212e-10, W-[2.000032], b-[2.9999282]\n",
      "4600번째:cost-4.848364487664014e-10, W-[2.000026], b-[2.999942]\n",
      "4800번째:cost-4.848364487664014e-10, W-[2.000026], b-[2.999942]\n",
      "5000번째:cost-4.848364487664014e-10, W-[2.000026], b-[2.999942]\n",
      "5200번째:cost-4.848364487664014e-10, W-[2.000026], b-[2.999942]\n",
      "5400번째:cost-4.848364487664014e-10, W-[2.000026], b-[2.999942]\n",
      "5600번째:cost-4.848364487664014e-10, W-[2.000026], b-[2.999942]\n",
      "5800번째:cost-4.848364487664014e-10, W-[2.000026], b-[2.999942]\n",
      "6000번째:cost-4.848364487664014e-10, W-[2.000026], b-[2.999942]\n"
     ]
    }
   ],
   "source": [
    "# training data set (H = 2x + 3)\n",
    "x_data = [1, 2, 3]\n",
    "y_data = [5, 7, 9]\n",
    "\n",
    "# placeholder 설정\n",
    "x = tf.placeholder(dtype=tf.float32)\n",
    "y = tf.placeholder(dtype=tf.float32)\n",
    "\n",
    "# Weight & bias\n",
    "W = tf.Variable(tf.random_normal([1]), name=\"weight\")\n",
    "b = tf.Variable(tf.random_normal([1]), name=\"bias\")\n",
    "# Hypothesis\n",
    "H = W*x + b\n",
    "\n",
    "# cost function\n",
    "cost = tf.reduce_mean(tf.square(H - y))\n",
    "\n",
    "# 경사하강법\n",
    "optimizer = tf.train.GradientDescentOptimizer(learning_rate=0.01)\n",
    "train = optimizer.minimize(cost)\n",
    "\n",
    "# Session & Variable 초기화\n",
    "sess = tf.Session()\n",
    "sess.run(tf.global_variables_initializer())\n",
    "# 학습\n",
    "for step in range(1, 6001):\n",
    "    _, cost_val, W_val, b_val = sess.run([train, cost, W, b], \n",
    "                                feed_dict={x:x_data, y:y_data})\n",
    "    if step%200==0:\n",
    "        print(\"{}번째:cost-{}, W-{}, b-{}\".format(step, \n",
    "                                                cost_val, W_val, b_val))"
   ]
  },
  {
   "cell_type": "code",
   "execution_count": 41,
   "metadata": {},
   "outputs": [
    {
     "data": {
      "text/plain": [
       "[array([2.000026], dtype=float32), array([2.999942], dtype=float32)]"
      ]
     },
     "execution_count": 41,
     "metadata": {},
     "output_type": "execute_result"
    }
   ],
   "source": [
    "sess.run([W, b])"
   ]
  },
  {
   "cell_type": "code",
   "execution_count": 43,
   "metadata": {},
   "outputs": [
    {
     "data": {
      "text/plain": [
       "array([13.000072], dtype=float32)"
      ]
     },
     "execution_count": 43,
     "metadata": {},
     "output_type": "execute_result"
    }
   ],
   "source": [
    "# 예측해보기(predict)\n",
    "sess.run(H, feed_dict={x:5})"
   ]
  },
  {
   "cell_type": "code",
   "execution_count": 44,
   "metadata": {},
   "outputs": [
    {
     "data": {
      "text/plain": [
       "array([ 4.999968, 23.000202, 43.00046 ], dtype=float32)"
      ]
     },
     "execution_count": 44,
     "metadata": {},
     "output_type": "execute_result"
    }
   ],
   "source": [
    "sess.run(H, feed_dict={x: np.array([1,10,20])})"
   ]
  },
  {
   "cell_type": "markdown",
   "metadata": {},
   "source": [
    "## 2.2 scale이 다른 데이터들의 linear regression을 구현"
   ]
  },
  {
   "cell_type": "code",
   "execution_count": 2,
   "metadata": {},
   "outputs": [],
   "source": [
    "import tensorflow.compat.v1 as tf\n",
    "tf.disable_v2_behavior()\n",
    "import numpy as np"
   ]
  },
  {
   "cell_type": "code",
   "execution_count": 6,
   "metadata": {},
   "outputs": [
    {
     "name": "stdout",
     "output_type": "stream",
     "text": [
      "200번째 cost-79.30921936035156, W-[10.059395]\n",
      "400번째 cost-79.15502166748047, W-[10.129433]\n",
      "600번째 cost-79.1408920288086, W-[10.150646]\n",
      "800번째 cost-79.13957977294922, W-[10.157072]\n",
      "1000번째 cost-79.13948822021484, W-[10.1590185]\n",
      "1200번째 cost-79.13945770263672, W-[10.159608]\n",
      "1400번째 cost-79.13945007324219, W-[10.159786]\n",
      "1600번째 cost-79.13945007324219, W-[10.159841]\n",
      "1800번째 cost-79.13945007324219, W-[10.159857]\n",
      "2000번째 cost-79.13948059082031, W-[10.159862]\n",
      "2200번째 cost-79.13945007324219, W-[10.1598625]\n",
      "2400번째 cost-79.13945770263672, W-[10.1598625]\n",
      "2600번째 cost-79.13945770263672, W-[10.1598625]\n",
      "2800번째 cost-79.13945770263672, W-[10.1598625]\n",
      "3000번째 cost-79.13945770263672, W-[10.1598625]\n",
      "3200번째 cost-79.13945770263672, W-[10.1598625]\n",
      "3400번째 cost-79.13945770263672, W-[10.1598625]\n",
      "3600번째 cost-79.13945770263672, W-[10.1598625]\n",
      "3800번째 cost-79.13945770263672, W-[10.1598625]\n",
      "4000번째 cost-79.13945770263672, W-[10.1598625]\n",
      "4200번째 cost-79.13945770263672, W-[10.1598625]\n",
      "4400번째 cost-79.13945770263672, W-[10.1598625]\n",
      "4600번째 cost-79.13945770263672, W-[10.1598625]\n",
      "4800번째 cost-79.13945770263672, W-[10.1598625]\n",
      "5000번째 cost-79.13945770263672, W-[10.1598625]\n",
      "5200번째 cost-79.13945770263672, W-[10.1598625]\n",
      "5400번째 cost-79.13945770263672, W-[10.1598625]\n",
      "5600번째 cost-79.13945770263672, W-[10.1598625]\n",
      "5800번째 cost-79.13945770263672, W-[10.1598625]\n",
      "6000번째 cost-79.13945770263672, W-[10.1598625]\n"
     ]
    }
   ],
   "source": [
    "# training data set (datadml scale이 다르면 학습 결과가 ?)\n",
    "x_data = [1, 2, 5, 8,10]\n",
    "y_data = [5,15,68,80,95]\n",
    "\n",
    "# placeholder를 설정\n",
    "x = tf.placeholder(dtype=tf.float32, shape=None)\n",
    "y = tf.placeholder(dtype=tf.float32, shape=None)\n",
    "\n",
    "# Weight & bias\n",
    "W = tf.Variable(tf.random_normal([1]), name=\"weight\")\n",
    "b = tf.Variable(tf.random_normal([1]), name=\"bias\")\n",
    "\n",
    "# Hypothesis\n",
    "H = W * x + b\n",
    "\n",
    "# cost function\n",
    "cost = tf.reduce_mean(tf.square(H - y))\n",
    "\n",
    "# train\n",
    "train = tf.train.GradientDescentOptimizer(learning_rate=0.01).minimize(cost)\n",
    "\n",
    "# optimizer = tf.train.GradientDescentOptimizer(learning_rate=0.01)\n",
    "# train     = optimizer.minimize(cost)\n",
    "\n",
    "# session & Variable 초기화\n",
    "sess = tf.Session()\n",
    "sess.run(tf.global_variables_initializer())\n",
    "\n",
    "# 학습\n",
    "for step in range(1, 6001):\n",
    "    _, cost_val, W_val = sess.run([train, cost, W], feed_dict={x:x_data,\n",
    "                                                              y:y_data})\n",
    "    if step%200 == 0 :\n",
    "        print(\"{}번째 cost-{}, W-{}\".format(step, cost_val, W_val))"
   ]
  },
  {
   "cell_type": "code",
   "execution_count": 7,
   "metadata": {},
   "outputs": [
    {
     "data": {
      "text/plain": [
       "[array([10.1598625], dtype=float32), array([-0.23128414], dtype=float32)]"
      ]
     },
     "execution_count": 7,
     "metadata": {},
     "output_type": "execute_result"
    }
   ],
   "source": [
    "sess.run([W,b])"
   ]
  },
  {
   "cell_type": "code",
   "execution_count": 8,
   "metadata": {},
   "outputs": [
    {
     "data": {
      "text/plain": [
       "array([101.36734], dtype=float32)"
      ]
     },
     "execution_count": 8,
     "metadata": {},
     "output_type": "execute_result"
    }
   ],
   "source": [
    "# 예측을 할 수 있으나 cost가 너무 큰 값이라 믿을 수 없음\n",
    "sess.run(H, feed_dict={x:10})"
   ]
  },
  {
   "cell_type": "code",
   "execution_count": 9,
   "metadata": {},
   "outputs": [],
   "source": [
    "# 예측이 제대로 안 되는 이유 : GradientDescentOptimizer에서 local최소값을 만나면\n",
    "# global 최소값이 따로 있어도 멈춤"
   ]
  },
  {
   "cell_type": "markdown",
   "metadata": {},
   "source": [
    "# 3. 독립변수 x 가  여러개인 linear regression\n",
    "- scale이 다른 x, y값(교안 pt.28)"
   ]
  },
  {
   "cell_type": "code",
   "execution_count": 14,
   "metadata": {},
   "outputs": [
    {
     "name": "stdout",
     "output_type": "stream",
     "text": [
      "3000번째 cost:12.403375625610352\n",
      "6000번째 cost:2.7397029399871826\n",
      "9000번째 cost:0.820421576499939\n",
      "12000번째 cost:0.42711812257766724\n",
      "15000번째 cost:0.3361228108406067\n",
      "18000번째 cost:0.30645254254341125\n",
      "21000번째 cost:0.2904375493526459\n",
      "24000번째 cost:0.2784835994243622\n",
      "27000번째 cost:0.2684950530529022\n",
      "30000번째 cost:0.25995779037475586\n",
      "33000번째 cost:0.2525762915611267\n",
      "36000번째 cost:0.2461874932050705\n",
      "39000번째 cost:0.24065783619880676\n",
      "42000번째 cost:0.2358899861574173\n",
      "45000번째 cost:0.23174957931041718\n",
      "48000번째 cost:0.2281590700149536\n",
      "51000번째 cost:0.2250383198261261\n",
      "54000번째 cost:0.22236569225788116\n",
      "57000번째 cost:0.22004151344299316\n",
      "60000번째 cost:0.21802644431591034\n"
     ]
    }
   ],
   "source": [
    "# training data set\n",
    "# x_data = [[73,80,75],\n",
    "#           [93,88,93],\n",
    "#           [89,91,90],\n",
    "#           [96,98,100],\n",
    "#           [73,66,70]]\n",
    "# y_data = [[152],[185],[180],[196],[142]]\n",
    "x_data = np.array([[73,80,75],\n",
    "                   [93,88,93],\n",
    "                   [89,91,90],\n",
    "                   [96,98,100],\n",
    "                   [73,66,70]])\n",
    "y_data = np.array([[152],\n",
    "                   [185],\n",
    "                   [180],\n",
    "                   [196],\n",
    "                   [142]])\n",
    "\n",
    "# placeholder \n",
    "X = tf.placeholder(shape=[None, 3], dtype=tf.float32)\n",
    "Y = tf.placeholder(shape=[None, 1], dtype=tf.float32)\n",
    "\n",
    "# Weight & bias\n",
    "W = tf.Variable(tf.random_normal([3,1]), name=\"weight\")\n",
    "b = tf.Variable(tf.random_normal([1]), name=\"bias\")\n",
    "\n",
    "# Hypothesis\n",
    "# H = X @ W + b\n",
    "H = tf.matmul(X, W) + b\n",
    "\n",
    "# cost function\n",
    "cost = tf.reduce_mean(tf.square(H - Y))\n",
    "\n",
    "# train\n",
    "train = tf.train.GradientDescentOptimizer(learning_rate=1e-5).minimize(cost)\n",
    "\n",
    "# session & Variable 초기화\n",
    "sess = tf.Session()\n",
    "sess.run(tf.global_variables_initializer())\n",
    "\n",
    "# 학습\n",
    "for step in range(1, 60001):\n",
    "    _, cost_val = sess.run([train, cost], feed_dict={X:x_data, \n",
    "                                                    Y : y_data})\n",
    "    if step%3000 == 0 :\n",
    "        print(\"{}번째 cost:{}\".format(step, cost_val))"
   ]
  },
  {
   "cell_type": "markdown",
   "metadata": {},
   "source": [
    "# 4. Ozone량 예측 예제\n",
    "- 독립변수 x가 3 => Multi-variable Linear Regression"
   ]
  },
  {
   "cell_type": "code",
   "execution_count": 15,
   "metadata": {},
   "outputs": [],
   "source": [
    "import tensorflow.compat.v1 as tf\n",
    "tf.disable_v2_behavior()\n",
    "import numpy as np\n",
    "import pandas as pd"
   ]
  },
  {
   "cell_type": "code",
   "execution_count": 47,
   "metadata": {},
   "outputs": [
    {
     "name": "stdout",
     "output_type": "stream",
     "text": [
      "3000번째 cost 504.4783630371094\n",
      "6000번째 cost 469.5782775878906\n",
      "9000번째 cost 465.4649963378906\n",
      "12000번째 cost 464.9571228027344\n",
      "15000번째 cost 464.8715515136719\n",
      "18000번째 cost 464.8354797363281\n",
      "21000번째 cost 464.8051452636719\n",
      "24000번째 cost 464.77557373046875\n",
      "27000번째 cost 464.7461242675781\n",
      "30000번째 cost 464.71673583984375\n",
      "33000번째 cost 464.6874084472656\n",
      "36000번째 cost 464.6579895019531\n",
      "39000번째 cost 464.6286315917969\n",
      "42000번째 cost 464.5992736816406\n",
      "45000번째 cost 464.5699157714844\n",
      "48000번째 cost 464.54052734375\n",
      "51000번째 cost 464.5112609863281\n",
      "54000번째 cost 464.4820251464844\n",
      "57000번째 cost 464.452880859375\n",
      "60000번째 cost 464.42376708984375\n"
     ]
    }
   ],
   "source": [
    "# training data set 생성\n",
    "# data load -> 결측치 처리 -> 독립변수, 종속변수 분리\n",
    "data = pd.read_csv('./data/ozone.csv', sep=\",\")\n",
    "\n",
    "# data를 바로 학습할 수 없음. 데이터 정제 작업 필요.\n",
    "data = data.dropna(how='any') # 결측치가 한열이라도 있는 행 모두 제거\n",
    "\n",
    "# 필요한 columns만 추출\n",
    "data = data[['Ozone','Solar.R','Wind','Temp']]\n",
    "\n",
    "# training data set\n",
    "x_data = data[['Solar.R','Wind','Temp']].values # DataFrame을 numpy 배열로\n",
    "y_data = data[['Ozone']].values.reshape(-1, 1)\n",
    "x_data.shape, y_data.shape\n",
    "\n",
    "# tensorflow 구현\n",
    "# 1.placeholder\n",
    "X = tf.placeholder(shape=[None,3], dtype=tf.float32)\n",
    "Y = tf.placeholder(shape=[None, 1], dtype=tf.float32)\n",
    "\n",
    "# 2. Weight & bias 설정\n",
    "W = tf.Variable(tf.random_normal([3,1]), name=\"weight\")\n",
    "b = tf.Variable(tf.random_normal([1]), name=\"bias\")\n",
    "\n",
    "# 3. Hypothesis\n",
    "# H = X @ W + b\n",
    "H = tf.matmul(X, W) + b\n",
    "\n",
    "# 4. cost 함수\n",
    "cost = tf.reduce_mean(tf.square(H - Y))\n",
    "\n",
    "# 5. train\n",
    "train = tf.train.GradientDescentOptimizer(learning_rate=1e-5).minimize(cost)\n",
    "\n",
    "# 6. session & 초기화\n",
    "sess = tf.Session()\n",
    "sess.run(tf.global_variables_initializer())\n",
    "\n",
    "# 7. 학습\n",
    "for step in range(1, 60001):\n",
    "    _, cost_val = sess.run([train, cost], feed_dict={X:x_data,\n",
    "                                                    Y:y_data})\n",
    "    if step%3000 == 0:\n",
    "        print(\"{}번째 cost {}\".format(step, cost_val))"
   ]
  },
  {
   "cell_type": "code",
   "execution_count": 51,
   "metadata": {},
   "outputs": [
    {
     "data": {
      "text/html": [
       "<div>\n",
       "<style scoped>\n",
       "    .dataframe tbody tr th:only-of-type {\n",
       "        vertical-align: middle;\n",
       "    }\n",
       "\n",
       "    .dataframe tbody tr th {\n",
       "        vertical-align: top;\n",
       "    }\n",
       "\n",
       "    .dataframe thead th {\n",
       "        text-align: right;\n",
       "    }\n",
       "</style>\n",
       "<table border=\"1\" class=\"dataframe\">\n",
       "  <thead>\n",
       "    <tr style=\"text-align: right;\">\n",
       "      <th></th>\n",
       "      <th>Ozone</th>\n",
       "      <th>Solar.R</th>\n",
       "      <th>Wind</th>\n",
       "      <th>Temp</th>\n",
       "    </tr>\n",
       "  </thead>\n",
       "  <tbody>\n",
       "    <tr>\n",
       "      <th>1</th>\n",
       "      <td>36.0</td>\n",
       "      <td>118.0</td>\n",
       "      <td>8.0</td>\n",
       "      <td>72</td>\n",
       "    </tr>\n",
       "  </tbody>\n",
       "</table>\n",
       "</div>"
      ],
      "text/plain": [
       "   Ozone  Solar.R  Wind  Temp\n",
       "1   36.0    118.0   8.0    72"
      ]
     },
     "execution_count": 51,
     "metadata": {},
     "output_type": "execute_result"
    }
   ],
   "source": [
    "data[1:2]"
   ]
  },
  {
   "cell_type": "code",
   "execution_count": 52,
   "metadata": {},
   "outputs": [
    {
     "data": {
      "text/plain": [
       "array([[41.639595]], dtype=float32)"
      ]
     },
     "execution_count": 52,
     "metadata": {},
     "output_type": "execute_result"
    }
   ],
   "source": [
    "sess.run(H, feed_dict={X:np.array([[118,8,72]])})"
   ]
  },
  {
   "cell_type": "code",
   "execution_count": null,
   "metadata": {},
   "outputs": [],
   "source": [
    "# scale 맞추는 방법 : normalization(많이 씀), standardization(표준화)\n",
    "#                   X - Xmin\n",
    "# normalization = ──────────────\n",
    "#                  Xmax - Xmin\n",
    "# 위의 식을 써도 되지만 라이브러리를 씀(sklearn.preprocessing.MinMaxScaler 이용)\n",
    "#                    x - Xmean(평균)\n",
    "# standardization = ────────────────\n",
    "#                     Xstd(표준편차)\n",
    "# 의 식을 써도 되지만 라이브러리 씀(sklearn.preprocessing.StandardScaler 이용)"
   ]
  },
  {
   "cell_type": "code",
   "execution_count": 58,
   "metadata": {},
   "outputs": [
    {
     "name": "stdout",
     "output_type": "stream",
     "text": [
      " 3000번째 cost 12.220887184143066\n",
      " 6000번째 cost 10.340862274169922\n",
      " 9000번째 cost 8.773386001586914\n",
      "12000번째 cost 7.46511697769165\n",
      "15000번째 cost 6.371936798095703\n",
      "18000번째 cost 5.4573845863342285\n",
      "21000번째 cost 4.691285610198975\n",
      "24000번째 cost 4.04865837097168\n",
      "27000번째 cost 3.508819580078125\n",
      "30000번째 cost 3.054633378982544\n",
      "33000번째 cost 2.6718876361846924\n",
      "36000번째 cost 2.3487956523895264\n",
      "39000번째 cost 2.075575351715088\n",
      "42000번째 cost 1.8440885543823242\n",
      "45000번째 cost 1.6475787162780762\n",
      "48000번째 cost 1.4804233312606812\n",
      "51000번째 cost 1.3379405736923218\n",
      "54000번째 cost 1.2162208557128906\n",
      "57000번째 cost 1.112007737159729\n",
      "60000번째 cost 1.022579312324524\n"
     ]
    }
   ],
   "source": [
    "# training data set 생성\n",
    "# data load -> 결측치 처리 -> 독립변수, 종속변수 분리\n",
    "data = pd.read_csv('./data/ozone.csv', sep=\",\")\n",
    "\n",
    "# data를 바로 학습할 수 없음. 데이터 정제 작업 필요.\n",
    "data = data.dropna(how='any') # 결측치가 한열이라도 있는 행 모두 제거\n",
    "\n",
    "# 필요한 columns만 추출\n",
    "data = data[['Ozone','Solar.R','Wind','Temp']]\n",
    "\n",
    "# scale 조정(standardization)\n",
    "#                    x - Xmean(평균)\n",
    "# standardization = ────────────────\n",
    "#                     Xstd(표준편차)\n",
    "data['Ozone'] = (data['Ozone']- data['Ozone'].mean())/data['Ozone'].std()\n",
    "data['Solar.R'] = (data['Solar.R']- data['Solar.R'].mean()) / data['Solar.R'].std()\n",
    "data['Wind'] = (data['Wind']- data['Wind'].mean())/data['Wind'].std()\n",
    "data['Temp'] = (data['Temp']- data['Temp'].mean())/data['Temp'].std()\n",
    "\n",
    "# training data set\n",
    "x_data = data[['Solar.R','Wind','Temp']].values # DataFrame을 numpy 배열로\n",
    "y_data = data[['Ozone']].values.reshape(-1, 1)\n",
    "x_data.shape, y_data.shape\n",
    "\n",
    "# tensorflow 구현\n",
    "# 1.placeholder\n",
    "X = tf.placeholder(shape=[None,3], dtype=tf.float32)\n",
    "Y = tf.placeholder(shape=[None, 1], dtype=tf.float32)\n",
    "\n",
    "# 2. Weight & bias 설정\n",
    "W = tf.Variable(tf.random_normal([3,1]), name=\"weight\")\n",
    "b = tf.Variable(tf.random_normal([1]), name=\"bias\")\n",
    "\n",
    "# 3. Hypothesis\n",
    "# H = X @ W + b\n",
    "H = tf.matmul(X, W) + b\n",
    "\n",
    "# 4. cost 함수\n",
    "cost = tf.reduce_mean(tf.square(H - Y))\n",
    "\n",
    "# 5. train\n",
    "train = tf.train.GradientDescentOptimizer(learning_rate=1e-5).minimize(cost)\n",
    "\n",
    "# 6. session & 초기화\n",
    "sess = tf.Session()\n",
    "sess.run(tf.global_variables_initializer())\n",
    "\n",
    "# 7. 학습\n",
    "for step in range(1, 60001):\n",
    "    _, cost_val = sess.run([train, cost], feed_dict={X:x_data,\n",
    "                                                    Y:y_data})\n",
    "    if step%3000 == 0:\n",
    "        print(\"{:5d}번째 cost {}\".format(step, cost_val))"
   ]
  },
  {
   "cell_type": "code",
   "execution_count": null,
   "metadata": {},
   "outputs": [],
   "source": [
    "# predict 하려면 scale이 맞춰진 데이터로 predict를 하고 결과를 다시 scale조정"
   ]
  },
  {
   "cell_type": "code",
   "execution_count": 69,
   "metadata": {},
   "outputs": [
    {
     "name": "stdout",
     "output_type": "stream",
     "text": [
      "scale 조정 전 데이터 : \n",
      " [[190.    7.4  67.   41. ]\n",
      " [118.    8.   72.   36. ]\n",
      " [149.   12.6  74.   12. ]]\n",
      "scale 조정된 데이터 :\n",
      " [[0.55963303 0.27717391 0.25       0.23952096]\n",
      " [0.33944954 0.30978261 0.375      0.20958084]\n",
      " [0.43425076 0.55978261 0.425      0.06586826]]\n",
      " 3000번째 cost 0.07073533535003662\n",
      " 6000번째 cost 0.06718307733535767\n",
      " 9000번째 cost 0.06425295770168304\n",
      "12000번째 cost 0.06182699650526047\n",
      "15000번째 cost 0.05980963632464409\n",
      "18000번째 cost 0.05812251195311546\n",
      "21000번째 cost 0.05670461431145668\n",
      "24000번째 cost 0.055504001677036285\n",
      "27000번째 cost 0.05447942763566971\n",
      "30000번째 cost 0.053599122911691666\n",
      "33000번째 cost 0.052834492176771164\n",
      "36000번째 cost 0.05216507986187935\n",
      "39000번째 cost 0.05157206952571869\n",
      "42000번째 cost 0.051041774451732635\n",
      "45000번째 cost 0.050562936812639236\n",
      "48000번째 cost 0.05012625455856323\n",
      "51000번째 cost 0.049724020063877106\n",
      "54000번째 cost 0.049349721521139145\n",
      "57000번째 cost 0.048997651785612106\n",
      "60000번째 cost 0.04866626113653183\n"
     ]
    }
   ],
   "source": [
    "# training data set 생성\n",
    "# data load -> 결측치 처리 -> 독립변수, 종속변수 분리\n",
    "data = pd.read_csv('./data/ozone.csv', sep=\",\")\n",
    "\n",
    "# data를 바로 학습할 수 없음. 데이터 정제 작업 필요.\n",
    "data = data.dropna(how='any') # 결측치가 한열이라도 있는 행 모두 제거\n",
    "\n",
    "# 필요한 columns만 추출\n",
    "data = data[['Ozone','Solar.R','Wind','Temp']]\n",
    "\n",
    "# training data set\n",
    "x_data = data[['Solar.R','Wind','Temp']].values # DataFrame을 numpy 배열로\n",
    "y_data = data[['Ozone']].values.reshape(-1, 1)\n",
    "\n",
    "print('scale 조정 전 데이터 : \\n', np.c_[x_data[:3], y_data[:3]])\n",
    "# scale 조정(1) sklearn.preprocessing.MinMaxScaler\n",
    "from sklearn.preprocessing import MinMaxScaler\n",
    "scale_x = MinMaxScaler() # scale_x : x_data를 scale조정할 객체\n",
    "# x_data에 대한 설정을 잡는 부분 ; x_data 3개 컬럼에 대한 max, min 설정\n",
    "scale_x.fit(x_data) \n",
    "x_data = scale_x.transform(x_data) # scale 조정된 x_data\n",
    "\n",
    "scale_y = MinMaxScaler()\n",
    "scale_y.fit(y_data)\n",
    "y_data = scale_y.transform(y_data) # scale 조정된 y_data\n",
    "print('scale 조정된 데이터 :\\n', np.c_[x_data[:3], y_data[:3]])\n",
    "\n",
    "# tensorflow 구현\n",
    "# 1.placeholder\n",
    "X = tf.placeholder(shape=[None,3], dtype=tf.float32)\n",
    "Y = tf.placeholder(shape=[None, 1], dtype=tf.float32)\n",
    "\n",
    "# 2. Weight & bias 설정\n",
    "W = tf.Variable(tf.random_normal([3,1]), name=\"weight\")\n",
    "b = tf.Variable(tf.random_normal([1]), name=\"bias\")\n",
    "\n",
    "# 3. Hypothesis\n",
    "# H = X @ W + b\n",
    "H = tf.matmul(X, W) + b\n",
    "\n",
    "# 4. cost 함수\n",
    "cost = tf.reduce_mean(tf.square(H - Y))\n",
    "\n",
    "# 5. train\n",
    "train = tf.train.GradientDescentOptimizer(learning_rate=1e-5).minimize(cost)\n",
    "\n",
    "# 6. session & 초기화\n",
    "sess = tf.Session()\n",
    "sess.run(tf.global_variables_initializer())\n",
    "\n",
    "# 7. 학습\n",
    "for step in range(1, 60001):\n",
    "    _, cost_val = sess.run([train, cost], feed_dict={X:x_data,\n",
    "                                                    Y:y_data})\n",
    "    if step%3000 == 0:\n",
    "        print(\"{:5d}번째 cost {}\".format(step, cost_val))"
   ]
  },
  {
   "cell_type": "code",
   "execution_count": 71,
   "metadata": {},
   "outputs": [],
   "source": [
    "# 8. prediction\n",
    "input_data = np.array([[118., 8.,72.]])"
   ]
  },
  {
   "cell_type": "code",
   "execution_count": 72,
   "metadata": {},
   "outputs": [
    {
     "name": "stdout",
     "output_type": "stream",
     "text": [
      "원 데이터 :  [[118.   8.  72.]]\n",
      "scale 조정된 데이터 : [[0.33944954 0.30978261 0.375     ]]\n"
     ]
    }
   ],
   "source": [
    "scale_input_data = scale_x.transform(input_data)\n",
    "print('원 데이터 : ', input_data)\n",
    "print('scale 조정된 데이터 :', scale_input_data)"
   ]
  },
  {
   "cell_type": "code",
   "execution_count": 74,
   "metadata": {},
   "outputs": [
    {
     "data": {
      "text/plain": [
       "array([[32.24009]], dtype=float32)"
      ]
     },
     "execution_count": 74,
     "metadata": {},
     "output_type": "execute_result"
    }
   ],
   "source": [
    "predict_value = sess.run(H, feed_dict={X:scale_input_data})\n",
    "scale_y.inverse_transform(predict_value)"
   ]
  },
  {
   "cell_type": "code",
   "execution_count": 89,
   "metadata": {},
   "outputs": [
    {
     "name": "stdout",
     "output_type": "stream",
     "text": [
      "조정전\n",
      " [[190.    7.4  67.   41. ]\n",
      " [118.    8.   72.   36. ]]\n",
      "조정후\n",
      " [[ 0.05728624 -0.71707784 -1.13764691 -0.03317961]\n",
      " [-0.73618283 -0.54766534 -0.61060682 -0.18411965]]\n",
      " 3000번째 cost 1.0834715366363525\n",
      " 6000번째 cost 1.006762146949768\n",
      " 9000번째 cost 0.9393858313560486\n",
      "12000번째 cost 0.8801088929176331\n",
      "15000번째 cost 0.8278818726539612\n",
      "18000번째 cost 0.781794011592865\n",
      "21000번째 cost 0.7410663962364197\n",
      "24000번째 cost 0.7050274610519409\n",
      "27000번째 cost 0.6730825304985046\n",
      "30000번째 cost 0.6447523236274719\n",
      "33000번째 cost 0.6195509433746338\n",
      "36000번째 cost 0.5971232652664185\n",
      "39000번째 cost 0.5771740078926086\n",
      "42000번째 cost 0.5593790411949158\n",
      "45000번째 cost 0.543472945690155\n",
      "48000번째 cost 0.5292603969573975\n",
      "51000번째 cost 0.5165302753448486\n",
      "54000번째 cost 0.5051326155662537\n",
      "57000번째 cost 0.4949003756046295\n",
      "60000번째 cost 0.48570775985717773\n"
     ]
    }
   ],
   "source": [
    "# training data set 생성\n",
    "# data load -> 결측치 처리 -> 독립변수, 종속변수 분리\n",
    "data = pd.read_csv('./data/ozone.csv', sep=\",\")\n",
    "\n",
    "# data를 바로 학습할 수 없음. 데이터 정제 작업 필요.\n",
    "data = data.dropna(how='any') # 결측치가 한열이라도 있는 행 모두 제거\n",
    "\n",
    "# 필요한 columns만 추출\n",
    "data = data[['Ozone','Solar.R','Wind','Temp']]\n",
    "\n",
    "# scale 조정 : data를 한꺼번에 scale 조정 시 prediction 힘듦\n",
    "# from sklearn.preprocessing import StandardScaler\n",
    "# scaler = StandardScaler()\n",
    "# scaler.fit(data)\n",
    "# data = pd.DataFrame(scaler.transform(data),\n",
    "#                     columns=['Ozone','Solar.R','Wind','Temp'])\n",
    "\n",
    "# training data set\n",
    "x_data = data[['Solar.R','Wind','Temp']].values # DataFrame을 numpy 배열로\n",
    "y_data = data[['Ozone']].values.reshape(-1, 1)\n",
    "\n",
    "print('조정전\\n', np.c_[x_data[:2], y_data[:2]])\n",
    "# scale 조정 : x_data, y_data scale을 따로 따로 - prediction 가능\n",
    "from sklearn.preprocessing import StandardScaler\n",
    "scaler_x = StandardScaler()\n",
    "scaler_x.fit(x_data)\n",
    "x_data = scaler_x.transform(x_data)\n",
    "\n",
    "scaler_y = StandardScaler()\n",
    "scaler_y.fit(y_data)\n",
    "y_data = scaler_y.transform(y_data)\n",
    "print('조정후\\n', np.c_[x_data[:2], y_data[:2]])\n",
    "\n",
    "# tensorflow 구현\n",
    "# 1.placeholder\n",
    "X = tf.placeholder(shape=[None,3], dtype=tf.float32)\n",
    "Y = tf.placeholder(shape=[None, 1], dtype=tf.float32)\n",
    "\n",
    "# 2. Weight & bias 설정\n",
    "W = tf.Variable(tf.random_normal([3,1]), name=\"weight\")\n",
    "b = tf.Variable(tf.random_normal([1]), name=\"bias\")\n",
    "\n",
    "# 3. Hypothesis\n",
    "# H = X @ W + b\n",
    "H = tf.matmul(X, W) + b\n",
    "\n",
    "# 4. cost 함수\n",
    "cost = tf.reduce_mean(tf.square(H - Y))\n",
    "\n",
    "# 5. train\n",
    "train = tf.train.GradientDescentOptimizer(learning_rate=1e-5).minimize(cost)\n",
    "\n",
    "# 6. session & 초기화\n",
    "sess = tf.Session()\n",
    "sess.run(tf.global_variables_initializer())\n",
    "\n",
    "# 7. 학습\n",
    "for step in range(1, 60001):\n",
    "    _, cost_val = sess.run([train, cost], feed_dict={X:x_data,\n",
    "                                                    Y:y_data})\n",
    "    if step%3000 == 0:\n",
    "        print(\"{:5d}번째 cost {}\".format(step, cost_val))"
   ]
  },
  {
   "cell_type": "code",
   "execution_count": 90,
   "metadata": {},
   "outputs": [
    {
     "data": {
      "text/plain": [
       "array([[34.43286]], dtype=float32)"
      ]
     },
     "execution_count": 90,
     "metadata": {},
     "output_type": "execute_result"
    }
   ],
   "source": [
    "input_data = np.array([[118.,8.,72.]])\n",
    "scaled_input_data = scale_x.transform(input_data)\n",
    "scaler_y.inverse_transform(sess.run(H, feed_dict={X:scaled_input_data}))"
   ]
  },
  {
   "cell_type": "code",
   "execution_count": 91,
   "metadata": {},
   "outputs": [
    {
     "data": {
      "text/plain": [
       "[array([[ 0.07578928],\n",
       "        [-0.581177  ],\n",
       "        [ 0.26848835]], dtype=float32),\n",
       " array([-0.17779972], dtype=float32)]"
      ]
     },
     "execution_count": 91,
     "metadata": {},
     "output_type": "execute_result"
    }
   ],
   "source": [
    "sess.run([W, b])"
   ]
  },
  {
   "cell_type": "markdown",
   "metadata": {},
   "source": [
    "# 5. logistic Regression = Binary classification(2개 그룹 그룹)"
   ]
  },
  {
   "cell_type": "code",
   "execution_count": 95,
   "metadata": {},
   "outputs": [
    {
     "name": "stdout",
     "output_type": "stream",
     "text": [
      "w값은  0.12925170068027214 ,b값은  -0.27210884353741516\n"
     ]
    },
    {
     "data": {
      "text/plain": [
       "[<matplotlib.lines.Line2D at 0x2ad7925f5b0>]"
      ]
     },
     "execution_count": 95,
     "metadata": {},
     "output_type": "execute_result"
    },
    {
     "data": {
      "image/png": "[encoded data removed]",
      "text/plain": [
       "<Figure size 432x288 with 1 Axes>"
      ]
     },
     "metadata": {
      "needs_background": "light"
     },
     "output_type": "display_data"
    }
   ],
   "source": [
    "# logistic Regression이 필요한 이유(기존의 linear regression으로는 안 되는 이유)\n",
    "import numpy as np\n",
    "import matplotlib.pyplot as plt\n",
    "from scipy import stats\n",
    "\n",
    "x = np.array([1,2,5,8,10])\n",
    "y = np.array([0,0,0,1,1])\n",
    "lm = stats.linregress(x, y)\n",
    "print('w값은 ', lm[0], ',b값은 ', lm[1])\n",
    "plt.scatter(x, y)\n",
    "plt.plot(x, x*lm[0]+lm[1], 'r')"
   ]
  },
  {
   "cell_type": "code",
   "execution_count": 96,
   "metadata": {},
   "outputs": [
    {
     "name": "stdout",
     "output_type": "stream",
     "text": [
      "w값은  0.03500583430571762 ,b값은  0.1732788798133022\n"
     ]
    },
    {
     "data": {
      "text/plain": [
       "[<matplotlib.lines.Line2D at 0x2ad785599d0>]"
      ]
     },
     "execution_count": 96,
     "metadata": {},
     "output_type": "execute_result"
    },
    {
     "data": {
      "image/png": "[encoded data removed]",
      "text/plain": [
       "<Figure size 432x288 with 1 Axes>"
      ]
     },
     "metadata": {
      "needs_background": "light"
     },
     "output_type": "display_data"
    }
   ],
   "source": [
    "# logistic Regression이 필요한 이유(기존의 linear regression으로는 안 되는 이유)\n",
    "import numpy as np\n",
    "import matplotlib.pyplot as plt\n",
    "from scipy import stats\n",
    "\n",
    "x = np.array([1,2,5,8,10,30])\n",
    "y = np.array([0,0,0,1,1,1])\n",
    "lm = stats.linregress(x, y)\n",
    "print('w값은 ', lm[0], ',b값은 ', lm[1])\n",
    "plt.scatter(x, y)\n",
    "plt.plot(x, x*lm[0]+lm[1], 'r')"
   ]
  },
  {
   "cell_type": "code",
   "execution_count": 7,
   "metadata": {},
   "outputs": [
    {
     "name": "stdout",
     "output_type": "stream",
     "text": [
      "300번째 cost : 0.2797684371471405\n",
      "600번째 cost : 0.226466104388237\n",
      "900번째 cost : 0.19984284043312073\n",
      "1200번째 cost : 0.18191489577293396\n",
      "1500번째 cost : 0.16815365850925446\n",
      "1800번째 cost : 0.15684954822063446\n",
      "2100번째 cost : 0.1471954882144928\n",
      "2400번째 cost : 0.13875049352645874\n",
      "2700번째 cost : 0.1312459409236908\n",
      "3000번째 cost : 0.12450401484966278\n",
      "정확도 : 1.0\n"
     ]
    }
   ],
   "source": [
    "# 교안 pt.51부터\n",
    "import tensorflow.compat.v1 as tf\n",
    "tf.disable_v2_behavior()\n",
    "import numpy as np\n",
    "# training data set\n",
    "x_data = np.array([[10,0],\n",
    "                   [8,1],\n",
    "                   [3,3],\n",
    "                   [2,3],\n",
    "                   [5,1],\n",
    "                   [2,0],\n",
    "                   [1,0]])\n",
    "y_data = np.array([[1],[1],[1],[1],[0],[0],[0]])\n",
    "\n",
    "# placeholder\n",
    "X = tf.placeholder(shape=[None,2], dtype=tf.float32)\n",
    "Y = tf.placeholder(shape=[None,1], dtype=tf.float32)\n",
    "\n",
    "# Weight(2행1열) & bias(1개)\n",
    "W = tf.Variable(tf.random_normal([2,1]), name=\"weight\")\n",
    "b = tf.Variable(tf.random_normal([1]), name=\"bias\")\n",
    "\n",
    "# Hypothesis\n",
    "# logits = X @ W + b\n",
    "logits = tf.matmul(X, W) + b\n",
    "H = tf.sigmoid(logits)\n",
    "\n",
    "# cost function\n",
    "# cost = tf.reduce_mean(tf.square(H - Y))\n",
    "cost = tf.reduce_mean(tf.nn.sigmoid_cross_entropy_with_logits(logits=logits,\n",
    "                                                        labels=Y))\n",
    "\n",
    "# train\n",
    "train = tf.train.GradientDescentOptimizer(learning_rate=0.1).minimize(cost)\n",
    "\n",
    "# session & 초기화\n",
    "sess = tf.Session()\n",
    "sess.run(tf.global_variables_initializer())\n",
    "\n",
    "# 학습\n",
    "for step in range(1, 3001):\n",
    "    _, cost_val = sess.run([train, cost], feed_dict={X:x_data, Y:y_data})\n",
    "    if step%300 == 0:\n",
    "        print(\"{}번째 cost : {}\".format(step, cost_val))\n",
    "# 학습이 잘 되었는지 확인\n",
    "# Accuracy\n",
    "predict = tf.cast(H>0.5, dtype=tf.float32)\n",
    "correct = tf.equal(predict, Y) # True True True True False True True\n",
    "accuracy = tf.reduce_mean(tf.cast(correct, dtype=tf.float32))\n",
    "print('정확도 :',sess.run(accuracy, feed_dict={X:x_data, Y:y_data}) )"
   ]
  },
  {
   "cell_type": "code",
   "execution_count": 10,
   "metadata": {},
   "outputs": [
    {
     "name": "stdout",
     "output_type": "stream",
     "text": [
      "H결과 : [[0.9650091]]\n",
      "predict 결과 : [[1.]]\n"
     ]
    }
   ],
   "source": [
    "# 예측\n",
    "print('H결과 :',sess.run(H, feed_dict={X:[[3,3]]} ))\n",
    "print('predict 결과 :',sess.run(predict, feed_dict={X:[[3,3]]} ))"
   ]
  },
  {
   "cell_type": "markdown",
   "metadata": {},
   "source": [
    "# 6. multinomial classification(3개이상 그룹)\n",
    "- 퀴즈 1,2,3 성적과 출석에 따른 A, B, C 등급 분류"
   ]
  },
  {
   "cell_type": "code",
   "execution_count": 12,
   "metadata": {},
   "outputs": [
    {
     "name": "stdout",
     "output_type": "stream",
     "text": [
      "300번째 cost : 1.1712361574172974\n",
      "600번째 cost : 0.9021403193473816\n",
      "900번째 cost : 0.6666759848594666\n",
      "1200번째 cost : 0.5538122057914734\n",
      "1500번째 cost : 0.49668893218040466\n",
      "1800번째 cost : 0.05605877563357353\n",
      "2100번째 cost : 0.0490470826625824\n",
      "2400번째 cost : 0.04476248845458031\n",
      "2700번째 cost : 0.041569553315639496\n",
      "3000번째 cost : 0.03900107741355896\n",
      "3300번째 cost : 0.03683843836188316\n",
      "3600번째 cost : 0.0349636971950531\n",
      "3900번째 cost : 0.03330614045262337\n",
      "4200번째 cost : 0.031820397824048996\n",
      "4500번째 cost : 0.030475158244371414\n",
      "4800번째 cost : 0.0292478296905756\n",
      "5100번째 cost : 0.02812121994793415\n",
      "5400번째 cost : 0.02708197757601738\n",
      "5700번째 cost : 0.026119273155927658\n",
      "6000번째 cost : 0.02522439882159233\n"
     ]
    }
   ],
   "source": [
    "# training data set(교안 pt.54)\n",
    "x_data = [[10,7,8,5],\n",
    "          [8,8,9,4],\n",
    "          [7,8,2,3],\n",
    "          [6,3,9,3],\n",
    "          [7,5,7,4],\n",
    "          [3,5,6,2],\n",
    "          [2,4,3,1]]\n",
    "# 종속변수는 multinomial classification에서는 원핫인코딩(교안pt.58)\n",
    "y_data =[[1, 0, 0],\n",
    "         [1, 0, 0],\n",
    "         [0, 1, 0],\n",
    "         [0, 1, 0],\n",
    "         [0, 1, 0],\n",
    "         [0, 0, 1],\n",
    "         [0, 0, 1]]\n",
    "# placeholder\n",
    "X = tf.placeholder(shape=[None, 4], dtype=tf.float32)\n",
    "Y = tf.placeholder(shape=[None, 3], dtype=tf.float32)\n",
    "\n",
    "# Weight(4x3행렬) , bias(3개)\n",
    "W = tf.Variable(tf.random_normal([4,3]), name=\"weight\")\n",
    "b = tf.Variable(tf.random_normal([3])  , name=\"bias\")\n",
    "\n",
    "# Hypothesis\n",
    "# logits = X @ W + b\n",
    "logits = tf.matmul(X, W) + b\n",
    "# H = tf.nn.sigmoid(logits)\n",
    "H = tf.nn.softmax(logits) # softmax분류분석 최종단계에서 결과의 합이 1이 되도록\n",
    "\n",
    "# cost function\n",
    "# cost = tf.reduce_mean(tf.square(H - Y))\n",
    "cost = tf.reduce_mean(tf.nn.softmax_cross_entropy_with_logits_v2(logits=logits,\n",
    "                                                        labels=Y))\n",
    "# train\n",
    "train = tf.train.GradientDescentOptimizer(learning_rate=0.1).minimize(cost)\n",
    "\n",
    "# session & 초기화\n",
    "sess = tf.Session()\n",
    "sess.run(tf.global_variables_initializer())\n",
    "\n",
    "# 학습\n",
    "for step in range(1, 6001):\n",
    "    _, cost_val = sess.run([train, cost], feed_dict={X:x_data, Y:y_data})\n",
    "    if step%300 == 0:\n",
    "        print(\"{}번째 cost : {}\".format(step, cost_val))"
   ]
  },
  {
   "cell_type": "code",
   "execution_count": 15,
   "metadata": {},
   "outputs": [
    {
     "name": "stdout",
     "output_type": "stream",
     "text": [
      "[[0.97769713 0.01968048 0.00262235]]\n",
      "[0]\n"
     ]
    }
   ],
   "source": [
    "# 예측\n",
    "result = sess.run(H, feed_dict={X:[[8,8,9,4]]})\n",
    "print(result)\n",
    "print(result.argmax(axis=1)) # 0번째 열만 1"
   ]
  },
  {
   "cell_type": "code",
   "execution_count": 19,
   "metadata": {},
   "outputs": [
    {
     "name": "stdout",
     "output_type": "stream",
     "text": [
      "100.0 %\n"
     ]
    }
   ],
   "source": [
    "# accuracy 측정.\n",
    "# H => 0.97 0.19 0.002을 경우 H.argmax => 0\n",
    "# Y -> 1    0    0    을 경우 Y.argmax => 0\n",
    "predict = tf.argmax(H, axis=1) # 어떤 열의 값이 제일 큰지 index반환\n",
    "correct = tf.equal(predict, tf.argmax(Y, 1))\n",
    "# print(sess.run(correct, feed_dict={X:x_data, Y:y_data}))\n",
    "accuracy = tf.reduce_mean(tf.cast(correct, dtype=tf.float32))\n",
    "print(sess.run(accuracy, feed_dict={X:x_data, Y:y_data})*100, '%')"
   ]
  },
  {
   "cell_type": "markdown",
   "metadata": {},
   "source": [
    "# 7. XOR(교안 pt.77)"
   ]
  },
  {
   "cell_type": "code",
   "execution_count": 31,
   "metadata": {},
   "outputs": [
    {
     "name": "stdout",
     "output_type": "stream",
     "text": [
      "300번째 cost : 0.7475399971008301\n",
      "600번째 cost : 0.7239876389503479\n",
      "900번째 cost : 0.7162603735923767\n",
      "1200번째 cost : 0.711338996887207\n",
      "1500번째 cost : 0.7075478434562683\n",
      "1800번째 cost : 0.7045468091964722\n",
      "2100번째 cost : 0.7021661996841431\n",
      "2400번째 cost : 0.7002792358398438\n",
      "2700번째 cost : 0.6987850666046143\n",
      "3000번째 cost : 0.6976026296615601\n",
      "정확도 : 0.25\n"
     ]
    }
   ],
   "source": [
    "# training data set\n",
    "x_data = [[0,0], [0,1], [1,0], [1,1]]\n",
    "y_data = [[0],   [1],   [1],   [0]]\n",
    "# placeholder\n",
    "X = tf.placeholder(shape=[None, 2], dtype=tf.float32)\n",
    "Y = tf.placeholder(shape=[None, 1], dtype=tf.float32)\n",
    "\n",
    "# Weight & bias\n",
    "W = tf.Variable(tf.random_normal([2,1]), name=\"weight\")\n",
    "b = tf.Variable(tf.random_normal([1]), name=\"bias\")\n",
    "# Hypothesis\n",
    "# H = X@W + b\n",
    "logits = tf.matmul(X, W) + b\n",
    "H = tf.sigmoid(logits)\n",
    "\n",
    "# cost\n",
    "cost = tf.reduce_mean(tf.nn.sigmoid_cross_entropy_with_logits(logits=logits,\n",
    "                                                             labels=Y))\n",
    "# train\n",
    "train = tf.train.GradientDescentOptimizer(learning_rate=0.01).minimize(cost)\n",
    "# Session & 초기화\n",
    "sess = tf.Session()\n",
    "sess.run(tf.global_variables_initializer())\n",
    "# 학습\n",
    "for step in range(1, 3001):\n",
    "    _, cost_val = sess.run([train, cost], feed_dict={X:x_data, Y:y_data})\n",
    "    if step%300 == 0:\n",
    "        print(\"{}번째 cost : {}\".format(step, cost_val))\n",
    "# accuracy 측정\n",
    "predict = tf.cast(H>0.5, dtype=tf.float32)\n",
    "correct = tf.equal(predict, Y) # False True False True\n",
    "accuracy = tf.reduce_mean(tf.cast(correct, dtype=tf.float32))\n",
    "print('정확도 :', sess.run(accuracy, feed_dict={X:x_data, Y:y_data}))"
   ]
  },
  {
   "cell_type": "code",
   "execution_count": 24,
   "metadata": {},
   "outputs": [
    {
     "name": "stdout",
     "output_type": "stream",
     "text": [
      "[[1.]\n",
      " [1.]\n",
      " [0.]\n",
      " [0.]]\n"
     ]
    }
   ],
   "source": [
    "# predict\n",
    "predict = tf.cast(H>0.5, dtype=tf.float32)\n",
    "print(sess.run(predict, feed_dict={X:x_data} ) )"
   ]
  },
  {
   "cell_type": "markdown",
   "metadata": {},
   "source": [
    "# 8. Deep Learning XOR 예제"
   ]
  },
  {
   "cell_type": "code",
   "execution_count": 32,
   "metadata": {},
   "outputs": [
    {
     "name": "stdout",
     "output_type": "stream",
     "text": [
      "300번째 cost : 0.7120675444602966\n",
      "600번째 cost : 0.7056372761726379\n",
      "900번째 cost : 0.7015881538391113\n",
      "1200번째 cost : 0.6981494426727295\n",
      "1500번째 cost : 0.695100724697113\n",
      "1800번째 cost : 0.6923468112945557\n",
      "2100번째 cost : 0.6898166537284851\n",
      "2400번째 cost : 0.6874524354934692\n",
      "2700번째 cost : 0.6852058172225952\n",
      "3000번째 cost : 0.6830363273620605\n",
      "정확도 : 0.5\n"
     ]
    }
   ],
   "source": [
    "# training data set\n",
    "x_data = [[0,0], [0,1], [1,0], [1,1]]\n",
    "y_data = [[0],   [1],   [1],   [0]]\n",
    "# placeholder\n",
    "X = tf.placeholder(shape=[None, 2], dtype=tf.float32)\n",
    "Y = tf.placeholder(shape=[None, 1], dtype=tf.float32)\n",
    "\n",
    "# layer 추가\n",
    "# Weight & bias(layer1= 입력2개 출력 4)\n",
    "W1 = tf.Variable(tf.random_normal([2,4]), name=\"weight1\")\n",
    "b1 = tf.Variable(tf.random_normal([4]), name=\"bias1\")\n",
    "layer1 = tf.sigmoid(tf.matmul(X, W1) + b1)\n",
    "# Weight & bias(layer2 = 입력4개, 출력1개)\n",
    "W2 = tf.Variable(tf.random_normal([4,1]), name=\"weight2\")\n",
    "b2 = tf.Variable(tf.random_normal([1]), name=\"bias2\")\n",
    "\n",
    "# Hypothesis\n",
    "logits = tf.matmul(layer1, W2) + b2\n",
    "H = tf.sigmoid(logits)\n",
    "\n",
    "# cost\n",
    "cost = tf.reduce_mean(tf.nn.sigmoid_cross_entropy_with_logits(logits=logits,\n",
    "                                                             labels=Y))\n",
    "# train\n",
    "train = tf.train.GradientDescentOptimizer(learning_rate=0.01).minimize(cost)\n",
    "# Session & 초기화\n",
    "sess = tf.Session()\n",
    "sess.run(tf.global_variables_initializer())\n",
    "# 학습\n",
    "for step in range(1, 3001):\n",
    "    _, cost_val = sess.run([train, cost], feed_dict={X:x_data, Y:y_data})\n",
    "    if step%300 == 0:\n",
    "        print(\"{}번째 cost : {}\".format(step, cost_val))\n",
    "# accuracy 측정\n",
    "predict = tf.cast(H>0.5, dtype=tf.float32)\n",
    "correct = tf.equal(predict, Y) # False True False True\n",
    "accuracy = tf.reduce_mean(tf.cast(correct, dtype=tf.float32))\n",
    "print('정확도 :', sess.run(accuracy, feed_dict={X:x_data, Y:y_data}))"
   ]
  },
  {
   "cell_type": "code",
   "execution_count": 40,
   "metadata": {},
   "outputs": [
    {
     "name": "stdout",
     "output_type": "stream",
     "text": [
      "300번째 cost : 0.020221572369337082\n",
      "600번째 cost : 0.007499051745980978\n",
      "900번째 cost : 0.0043118176981806755\n",
      "1200번째 cost : 0.002976219402626157\n",
      "1500번째 cost : 0.002234631683677435\n",
      "1800번째 cost : 0.0017726717051118612\n",
      "2100번째 cost : 0.0014617728302255273\n",
      "2400번째 cost : 0.0012394721852615476\n",
      "2700번째 cost : 0.001072373823262751\n",
      "3000번째 cost : 0.0009424936142750084\n",
      "정확도 : 1.0\n"
     ]
    }
   ],
   "source": [
    "# training data set\n",
    "x_data = [[0,0], [0,1], [1,0], [1,1]]\n",
    "y_data = [[0],   [1],   [1],   [0]]\n",
    "# placeholder\n",
    "X = tf.placeholder(shape=[None, 2], dtype=tf.float32)\n",
    "Y = tf.placeholder(shape=[None, 1], dtype=tf.float32)\n",
    "\n",
    "# layer 추가\n",
    "# Weight & bias(layer1= 입력2개 출력 10)\n",
    "W1 = tf.Variable(tf.random_normal([2,10]), name=\"weight1\")\n",
    "b1 = tf.Variable(tf.random_normal([10]), name=\"bias1\")\n",
    "layer1 = tf.nn.relu(tf.matmul(X, W1) + b1)\n",
    "\n",
    "# Weight & bias(layer2 = 입력10개, 출력20개)\n",
    "W2 = tf.Variable(tf.random_normal([10,20]), name=\"weight2\")\n",
    "b2 = tf.Variable(tf.random_normal([20]), name=\"bias2\")\n",
    "layer2 = tf.nn.relu(tf.matmul(layer1, W2) + b2)\n",
    "\n",
    "# Weight & bias(layer3 = 입력20개, 출력 10)\n",
    "W3 = tf.Variable(tf.random_normal([20,10]), name=\"weight3\")\n",
    "b3 = tf.Variable(tf.random_normal([10]), name=\"bias3\")\n",
    "layer3 = tf.nn.relu(tf.matmul(layer2, W3)+b3)\n",
    "\n",
    "# Weight & bias(output layer = 입력10개, 출력1)\n",
    "W4 = tf.Variable(tf.random_normal([10,1]), name=\"weight4\")\n",
    "b4 = tf.Variable(tf.random_normal([1]), name=\"bias4\")\n",
    "\n",
    "# Hypothesis\n",
    "logits = tf.matmul(layer3, W4) + b4\n",
    "H = tf.sigmoid(logits)\n",
    "\n",
    "# cost\n",
    "cost = tf.reduce_mean(tf.nn.sigmoid_cross_entropy_with_logits(logits=logits,\n",
    "                                                             labels=Y))\n",
    "# train\n",
    "train = tf.train.GradientDescentOptimizer(learning_rate=0.01).minimize(cost)\n",
    "# Session & 초기화\n",
    "sess = tf.Session()\n",
    "sess.run(tf.global_variables_initializer())\n",
    "# 학습\n",
    "for step in range(1, 3001):\n",
    "    _, cost_val = sess.run([train, cost], feed_dict={X:x_data, Y:y_data})\n",
    "    if step%300 == 0:\n",
    "        print(\"{}번째 cost : {}\".format(step, cost_val))\n",
    "# accuracy 측정\n",
    "predict = tf.cast(H>0.5, dtype=tf.float32)\n",
    "correct = tf.equal(predict, Y) # False True False True\n",
    "accuracy = tf.reduce_mean(tf.cast(correct, dtype=tf.float32))\n",
    "print('정확도 :', sess.run(accuracy, feed_dict={X:x_data, Y:y_data}))"
   ]
  },
  {
   "cell_type": "code",
   "execution_count": null,
   "metadata": {},
   "outputs": [],
   "source": []
  }
 ],
 "metadata": {
  "kernelspec": {
   "display_name": "Python 3",
   "language": "python",
   "name": "python3"
  },
  "language_info": {
   "codemirror_mode": {
    "name": "ipython",
    "version": 3
   },
   "file_extension": ".py",
   "mimetype": "text/x-python",
   "name": "python",
   "nbconvert_exporter": "python",
   "pygments_lexer": "ipython3",
   "version": "3.8.5"
  },
  "toc": {
   "base_numbering": 1,
   "nav_menu": {},
   "number_sections": false,
   "sideBar": true,
   "skip_h1_title": false,
   "title_cell": "Table of Contents",
   "title_sidebar": "Contents",
   "toc_cell": false,
   "toc_position": {},
   "toc_section_display": true,
   "toc_window_display": false
  },
  "varInspector": {
   "cols": {
    "lenName": 16,
    "lenType": 16,
    "lenVar": 40
   },
   "kernels_config": {
    "python": {
     "delete_cmd_postfix": "",
     "delete_cmd_prefix": "del ",
     "library": "var_list.py",
     "varRefreshCmd": "print(var_dic_list())"
    },
    "r": {
     "delete_cmd_postfix": ") ",
     "delete_cmd_prefix": "rm(",
     "library": "var_list.r",
     "varRefreshCmd": "cat(var_dic_list()) "
    }
   },
   "types_to_exclude": [
    "module",
    "function",
    "builtin_function_or_method",
    "instance",
    "_Feature"
   ],
   "window_display": false
  }
 },
 "nbformat": 4,
 "nbformat_minor": 4
}
