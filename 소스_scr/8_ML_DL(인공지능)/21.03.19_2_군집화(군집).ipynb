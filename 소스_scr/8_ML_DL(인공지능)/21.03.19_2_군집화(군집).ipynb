{
 "cells": [
  {
   "cell_type": "markdown",
   "metadata": {
    "ExecuteTime": {
     "end_time": "2021-03-19T04:06:22.180666Z",
     "start_time": "2021-03-19T04:06:22.177674Z"
    }
   },
   "source": [
    "# 비지도 학습"
   ]
  },
  {
   "cell_type": "code",
   "execution_count": 5,
   "metadata": {
    "ExecuteTime": {
     "end_time": "2021-03-19T03:54:18.108091Z",
     "start_time": "2021-03-19T03:54:18.081187Z"
    }
   },
   "outputs": [],
   "source": [
    "import random\n",
    "import numpy as np\n",
    "import matplotlib.pyplot as plt \n",
    "data=[]\n",
    "for i in range(50):\n",
    "    data.append([random.randint(40,70),random.randint(140,180)])#여자그룹\n",
    "    data.append([random.randint(60,90),random.randint(170,200)])#남자그룹\n",
    "    "
   ]
  },
  {
   "cell_type": "code",
   "execution_count": 32,
   "metadata": {
    "ExecuteTime": {
     "end_time": "2021-03-19T03:59:24.490703Z",
     "start_time": "2021-03-19T03:59:24.482725Z"
    }
   },
   "outputs": [
    {
     "name": "stdout",
     "output_type": "stream",
     "text": [
      "[51, 176] [58, 168] [45, 174] [64, 162] [48, 179] [69, 177] [61, 176] [45, 153] [58, 153] [50, 178] [50, 174] [65, 160] [52, 167] [51, 146] [56, 143] [66, 158] [50, 143] [51, 146] [59, 161] [51, 146] [41, 150] [66, 166] [40, 165] [51, 152] [63, 178] [40, 147] [44, 155] [51, 168] [64, 164] [60, 154] [45, 165] [59, 171] [44, 150] [61, 154] [55, 151] [60, 158] [49, 175] [58, 159] [43, 169] [57, 143] [69, 147] [43, 171] [61, 157] [40, 146] [45, 158] [52, 162] [53, 168] [43, 147] [41, 170] [48, 159] \n",
      "--------------------------------------------------------------------------------------------------------------------------------------\n",
      "[62, 200] [84, 200] [61, 187] [71, 184] [66, 173] [73, 179] [73, 176] [66, 173] [83, 194] [85, 191] [85, 179] [62, 177] [86, 183] [86, 188] [78, 173] [77, 194] [81, 181] [61, 193] [81, 188] [65, 174] [71, 179] [80, 180] [66, 189] [90, 182] [65, 199] [70, 183] [80, 171] [68, 183] [62, 181] [88, 180] [82, 194] [90, 172] [81, 198] [73, 176] [63, 195] [75, 183] [77, 187] [72, 171] [75, 191] [73, 192] [82, 177] [81, 183] [85, 199] [70, 195] [85, 195] [78, 174] [88, 171] [84, 172] [70, 176] [80, 185] "
     ]
    }
   ],
   "source": [
    "#남성\n",
    "#data[0:100:2]\n",
    "for female in data[0:100:2]:\n",
    "    print(female,end=' ')\n",
    "print()\n",
    "print('-'*134)\n",
    "#여성\n",
    "#data[1:100:2]\n",
    "for female in data[1:100:2]:\n",
    "    print(female,end=' ')"
   ]
  },
  {
   "cell_type": "code",
   "execution_count": 39,
   "metadata": {
    "ExecuteTime": {
     "end_time": "2021-03-19T04:04:19.995503Z",
     "start_time": "2021-03-19T04:04:19.876737Z"
    }
   },
   "outputs": [
    {
     "data": {
      "text/plain": [
       "[<matplotlib.lines.Line2D at 0x1bb99f34970>]"
      ]
     },
     "execution_count": 39,
     "metadata": {},
     "output_type": "execute_result"
    },
    {
     "data": {
      "image/png": "[encoded data removed]",
      "text/plain": [
       "<Figure size 432x288 with 1 Axes>"
      ]
     },
     "metadata": {
      "needs_background": "light"
     },
     "output_type": "display_data"
    }
   ],
   "source": [
    "# 여자 몸무게 \n",
    "[women_weight[0] for women_weight in data[0:100:2]]\n",
    "# 여자 키\n",
    "[women_tall[1] for women_tall in data[0:100:2]]\n",
    "# 남자 몸무게 \n",
    "[man_weight[0] for man_weight in data[1:100:2]]\n",
    "# 남자 키\n",
    "[man_tall[1] for man_tall in data[1:100:2]]\n",
    "plt.plot([women_weight[0] for women_weight in data[0:100:2]],[women_tall[1] for women_tall in data[0:100:2]],'o',color='r')\n",
    "plt.plot([man_weight[0] for man_weight in data[1:100:2]],[man_tall[1] for man_tall in data[1:100:2]],'o',color='b')"
   ]
  },
  {
   "cell_type": "code",
   "execution_count": 61,
   "metadata": {
    "ExecuteTime": {
     "end_time": "2021-03-19T05:40:33.623943Z",
     "start_time": "2021-03-19T05:40:33.618956Z"
    }
   },
   "outputs": [
    {
     "name": "stdout",
     "output_type": "stream",
     "text": [
      "초기 랜덤 기준점: [[76, 190], [70, 151]]\n"
     ]
    }
   ],
   "source": [
    "#초기 랜덤 지점 2개 #두그룹으로 나누기 위해서 두점\n",
    "random_points=[[random.randint(40,90),random.randint(140,200)],[random.randint(40,90),random.randint(140,200)]]\n",
    "print('초기 랜덤 기준점:',random_points)"
   ]
  },
  {
   "cell_type": "code",
   "execution_count": 62,
   "metadata": {
    "ExecuteTime": {
     "end_time": "2021-03-19T05:40:34.054828Z",
     "start_time": "2021-03-19T05:40:34.050819Z"
    }
   },
   "outputs": [
    {
     "name": "stdout",
     "output_type": "stream",
     "text": [
      "76 190/70 151\n"
     ]
    }
   ],
   "source": [
    "#기준점1\n",
    "print(random_points[0][0],random_points[0][1],end='/')\n",
    "#기준점2\n",
    "print(random_points[1][0],random_points[1][1])"
   ]
  },
  {
   "cell_type": "code",
   "execution_count": 63,
   "metadata": {
    "ExecuteTime": {
     "end_time": "2021-03-19T05:40:34.700554Z",
     "start_time": "2021-03-19T05:40:34.478150Z"
    }
   },
   "outputs": [
    {
     "data": {
      "text/plain": [
       "[<matplotlib.lines.Line2D at 0x1bb9a4efbb0>]"
      ]
     },
     "execution_count": 63,
     "metadata": {},
     "output_type": "execute_result"
    },
    {
     "data": {
      "image/png": "[encoded data removed]",
      "text/plain": [
       "<Figure size 432x288 with 1 Axes>"
      ]
     },
     "metadata": {
      "needs_background": "light"
     },
     "output_type": "display_data"
    }
   ],
   "source": [
    "for x in data:\n",
    "    plt.plot(x[0],x[1],'o',color='k')\n",
    "plt.plot(random_points[0][0],random_points[0][1],'x',color='r')#기준점\n",
    "plt.plot(random_points[1][0],random_points[1][1],'x',color='b')#기준점"
   ]
  },
  {
   "cell_type": "code",
   "execution_count": 59,
   "metadata": {
    "ExecuteTime": {
     "end_time": "2021-03-19T05:37:01.929495Z",
     "start_time": "2021-03-19T05:37:01.926515Z"
    }
   },
   "outputs": [],
   "source": [
    "# 두 영역으로 나눌 빈 리스트 생성\n",
    "group1=[]\n",
    "group2=[]"
   ]
  },
  {
   "cell_type": "code",
   "execution_count": 58,
   "metadata": {
    "ExecuteTime": {
     "end_time": "2021-03-19T05:37:00.493838Z",
     "start_time": "2021-03-19T05:37:00.489848Z"
    }
   },
   "outputs": [],
   "source": [
    "# 영역을 나누기 위해 두 점 사이의 거리를 구하는 함수[0,0],[3,4]\n",
    "def dist(a,b):\n",
    "    return np.sqrt((a[0]-b[0])**2+(a[1]-b[1])**2)\n"
   ]
  },
  {
   "cell_type": "code",
   "execution_count": 60,
   "metadata": {
    "ExecuteTime": {
     "end_time": "2021-03-19T05:37:15.987698Z",
     "start_time": "2021-03-19T05:37:15.982693Z"
    }
   },
   "outputs": [
    {
     "data": {
      "text/plain": [
       "5.0"
      ]
     },
     "execution_count": 60,
     "metadata": {},
     "output_type": "execute_result"
    }
   ],
   "source": [
    "a=[0,0]; b=[3,4]\n",
    "dist(a,b)"
   ]
  },
  {
   "cell_type": "code",
   "execution_count": 64,
   "metadata": {
    "ExecuteTime": {
     "end_time": "2021-03-19T05:41:10.685605Z",
     "start_time": "2021-03-19T05:41:10.681615Z"
    }
   },
   "outputs": [],
   "source": [
    "for d in data:\n",
    "    if dist(random_points[0],d) < dist(random_points[1],d):# 빨간 x점과 더 가까운 그룹\n",
    "        group1.append(d)# 빨간 x점과 더 가까운 그룹\n",
    "    else:\n",
    "        group2.append(d)# 파란 x점과 더 가까운 그룹\n"
   ]
  },
  {
   "cell_type": "code",
   "execution_count": 66,
   "metadata": {
    "ExecuteTime": {
     "end_time": "2021-03-19T05:41:26.486745Z",
     "start_time": "2021-03-19T05:41:26.481786Z"
    }
   },
   "outputs": [
    {
     "data": {
      "text/plain": [
       "(57, 43)"
      ]
     },
     "execution_count": 66,
     "metadata": {},
     "output_type": "execute_result"
    }
   ],
   "source": [
    "len(group1),len(group2)"
   ]
  },
  {
   "cell_type": "code",
   "execution_count": 68,
   "metadata": {
    "ExecuteTime": {
     "end_time": "2021-03-19T05:45:07.936445Z",
     "start_time": "2021-03-19T05:45:07.716656Z"
    }
   },
   "outputs": [
    {
     "data": {
      "text/plain": [
       "[<matplotlib.lines.Line2D at 0x1bb9a7ddbb0>]"
      ]
     },
     "execution_count": 68,
     "metadata": {},
     "output_type": "execute_result"
    },
    {
     "data": {
      "image/png": "[encoded data removed]",
      "text/plain": [
       "<Figure size 432x288 with 1 Axes>"
      ]
     },
     "metadata": {
      "needs_background": "light"
     },
     "output_type": "display_data"
    }
   ],
   "source": [
    "# 새로운 영역과 랜덤점 그래프 \n",
    "for d in group1:\n",
    "    plt.plot(d[0],d[1],'o',color='r')\n",
    "for d in group2:\n",
    "    plt.plot(d[0],d[1],'o',color='b')\n",
    "plt.plot(random_points[0][0],random_points[0][1],'x',color='r')#기준점1\n",
    "plt.plot(random_points[1][0],random_points[1][1],'x',color='b')#기준점2"
   ]
  },
  {
   "cell_type": "code",
   "execution_count": 74,
   "metadata": {
    "ExecuteTime": {
     "end_time": "2021-03-19T05:53:28.547815Z",
     "start_time": "2021-03-19T05:53:28.540834Z"
    }
   },
   "outputs": [
    {
     "name": "stdout",
     "output_type": "stream",
     "text": [
      "[[76, 190], [70, 151]]\n"
     ]
    },
    {
     "data": {
      "text/plain": [
       "[[73.35087719298245, 183.140350877193],\n",
       " [52.44186046511628, 157.67441860465115]]"
      ]
     },
     "execution_count": 74,
     "metadata": {},
     "output_type": "execute_result"
    }
   ],
   "source": [
    "#기준점 이동\n",
    "sumX=0; sumY=0\n",
    "for g in group1:\n",
    "    sumX+=g[0]#x축값들 누적\n",
    "    sumY+=g[1]#y축값들 누적\n",
    "#새로운 기준점1\n",
    "new_points=[]\n",
    "new_points.append([sumX/len(group1),sumY/len(group1)])\n",
    "sumX=0; sumY=0\n",
    "for g in group2:\n",
    "    sumX+=g[0]#x축값들 누적\n",
    "    sumY+=g[1]#y축값들 누적\n",
    "new_points.append([sumX/len(group2),sumY/len(group2)])\n",
    "print(random_points)\n",
    "new_points"
   ]
  },
  {
   "cell_type": "code",
   "execution_count": 75,
   "metadata": {
    "ExecuteTime": {
     "end_time": "2021-03-19T05:54:04.914927Z",
     "start_time": "2021-03-19T05:54:04.694288Z"
    }
   },
   "outputs": [
    {
     "data": {
      "text/plain": [
       "[<matplotlib.lines.Line2D at 0x1bb9b9303d0>]"
      ]
     },
     "execution_count": 75,
     "metadata": {},
     "output_type": "execute_result"
    },
    {
     "data": {
      "image/png": "[encoded data removed]",
      "text/plain": [
       "<Figure size 432x288 with 1 Axes>"
      ]
     },
     "metadata": {
      "needs_background": "light"
     },
     "output_type": "display_data"
    }
   ],
   "source": [
    "# 새로운 영역과 랜덤점 그래프 \n",
    "for d in group1:\n",
    "    plt.plot(d[0],d[1],'o',color='r')\n",
    "for d in group2:\n",
    "    plt.plot(d[0],d[1],'o',color='b')\n",
    "plt.plot(new_points[0][0],new_points[0][1],'x',color='r')#기준점1\n",
    "plt.plot(new_points[1][0],new_points[1][1],'x',color='b')#기준점2"
   ]
  },
  {
   "cell_type": "code",
   "execution_count": 76,
   "metadata": {
    "ExecuteTime": {
     "end_time": "2021-03-19T05:57:31.895787Z",
     "start_time": "2021-03-19T05:57:31.890799Z"
    }
   },
   "outputs": [],
   "source": [
    "group1=[]\n",
    "group2=[]\n",
    "for d in data:\n",
    "    if dist(new_points[0],d) < dist(new_points[1],d):# 빨간 x점과 더 가까운 그룹\n",
    "        group1.append(d)# 빨간 x점과 더 가까운 그룹\n",
    "    else:\n",
    "        group2.append(d)# 파란 x점과 더 가까운 그룹"
   ]
  },
  {
   "cell_type": "code",
   "execution_count": 77,
   "metadata": {
    "ExecuteTime": {
     "end_time": "2021-03-19T05:58:03.170327Z",
     "start_time": "2021-03-19T05:58:02.908945Z"
    }
   },
   "outputs": [
    {
     "data": {
      "text/plain": [
       "[<matplotlib.lines.Line2D at 0x1bb99fea220>]"
      ]
     },
     "execution_count": 77,
     "metadata": {},
     "output_type": "execute_result"
    },
    {
     "data": {
      "image/png": "[encoded data removed]",
      "text/plain": [
       "<Figure size 432x288 with 1 Axes>"
      ]
     },
     "metadata": {
      "needs_background": "light"
     },
     "output_type": "display_data"
    }
   ],
   "source": [
    "# 새로운 영역과 랜덤점 그래프 \n",
    "for d in group1:\n",
    "    plt.plot(d[0],d[1],'o',color='r')\n",
    "for d in group2:\n",
    "    plt.plot(d[0],d[1],'o',color='b')\n",
    "plt.plot(new_points[0][0],new_points[0][1],'x',color='r')#기준점1\n",
    "plt.plot(new_points[1][0],new_points[1][1],'x',color='b')#기준점2"
   ]
  },
  {
   "cell_type": "markdown",
   "metadata": {},
   "source": [
    "# 전체코드"
   ]
  },
  {
   "cell_type": "code",
   "execution_count": 93,
   "metadata": {
    "ExecuteTime": {
     "end_time": "2021-03-19T06:13:37.450588Z",
     "start_time": "2021-03-19T06:13:37.436625Z"
    }
   },
   "outputs": [
    {
     "name": "stdout",
     "output_type": "stream",
     "text": [
      "초기기준점: [[43, 179], [68, 173]]\n",
      "1 번쨰 기준점: [[45.21052631578947, 163.1578947368421], [68.81481481481481, 173.87654320987653]]\n",
      "2 번쨰 기준점: [[52.1, 156.95], [72.48333333333333, 181.76666666666668]]\n",
      "3 번쨰 기준점: [[53.04651162790697, 156.86046511627907], [72.84210526315789, 183.140350877193]]\n",
      "4 번쨰 기준점: [[53.22727272727273, 157.1818181818182], [73.05357142857143, 183.35714285714286]]\n",
      "5 번쨰 기준점: [[53.44444444444444, 157.46666666666667], [73.23636363636363, 183.6]]\n",
      "6 번쨰 기준점: [[53.69565217391305, 157.7173913043478], [73.38888888888889, 183.87037037037038]]\n",
      "7 번쨰 기준점: [[53.69565217391305, 157.7173913043478], [73.38888888888889, 183.87037037037038]]\n",
      "8 번쨰 기준점: [[53.69565217391305, 157.7173913043478], [73.38888888888889, 183.87037037037038]]\n",
      "9 번쨰 기준점: [[53.69565217391305, 157.7173913043478], [73.38888888888889, 183.87037037037038]]\n",
      "10 번쨰 기준점: [[53.69565217391305, 157.7173913043478], [73.38888888888889, 183.87037037037038]]\n"
     ]
    }
   ],
   "source": [
    "import random\n",
    "import numpy as np\n",
    "import matplotlib.pyplot as plt \n",
    "\n",
    "# 영역을 나누기 위해 두 점 사이의 거리를 구하는 함수[0,0],[3,4]\n",
    "def dist(a,b):\n",
    "    return np.sqrt((a[0]-b[0])**2+(a[1]-b[1])**2)\n",
    "\n",
    "data=[]\n",
    "for i in range(50):\n",
    "    data.append([random.randint(40,70),random.randint(140,180)])#여자그룹\n",
    "    data.append([random.randint(60,90),random.randint(170,200)])#남자그룹\n",
    "new_points=[[random.randint(40,70),random.randint(140,180)],[random.randint(60,90),random.randint(170,200)]]#기준점!\n",
    "print('초기기준점:',new_points)\n",
    "for i in range(1,11):\n",
    "    group1=[]\n",
    "    group2=[]\n",
    "    for d in data:\n",
    "        if dist(new_points[0],d)<dist(new_points[1],d):\n",
    "            group1.append(d)\n",
    "        else:\n",
    "            group2.append(d)\n",
    "    # group1 과 group2의 중간지점을 새로운 기준점!\n",
    "    sumX=0; sumY=0\n",
    "    for g in group1:\n",
    "        sumX +=g[0]\n",
    "        sumY +=g[1]\n",
    "    new_points=[]\n",
    "    new_points.append([sumX/len(group1),sumY/len(group1)])\n",
    "    sumX=0; sumY=0\n",
    "    for g in group2:\n",
    "        sumX +=g[0]\n",
    "        sumY +=g[1]\n",
    "    new_points.append([sumX/len(group2),sumY/len(group2)])\n",
    "    print(i,'번쨰 기준점:',new_points)\n",
    "    "
   ]
  },
  {
   "cell_type": "code",
   "execution_count": 96,
   "metadata": {
    "ExecuteTime": {
     "end_time": "2021-03-19T06:16:15.621051Z",
     "start_time": "2021-03-19T06:16:15.615067Z"
    }
   },
   "outputs": [
    {
     "data": {
      "text/plain": [
       "[65, 169]"
      ]
     },
     "execution_count": 96,
     "metadata": {},
     "output_type": "execute_result"
    }
   ],
   "source": []
  },
  {
   "cell_type": "code",
   "execution_count": 99,
   "metadata": {
    "ExecuteTime": {
     "end_time": "2021-03-19T06:19:19.374054Z",
     "start_time": "2021-03-19T06:19:19.241434Z"
    }
   },
   "outputs": [
    {
     "data": {
      "text/plain": [
       "[<matplotlib.lines.Line2D at 0x1bb9a5ddaf0>]"
      ]
     },
     "execution_count": 99,
     "metadata": {},
     "output_type": "execute_result"
    },
    {
     "data": {
      "image/png": "[encoded data removed]",
      "text/plain": [
       "<Figure size 432x288 with 1 Axes>"
      ]
     },
     "metadata": {
      "needs_background": "light"
     },
     "output_type": "display_data"
    }
   ],
   "source": [
    "# 여자 몸무게\n",
    "[d[0] for d in data[0:100:2]]\n",
    "# 여자 키\n",
    "[d[1] for d in data[0:100:2]]\n",
    "# 남자 몸무게\n",
    "[d[0] for d in data[1:100:2]]\n",
    "# 남자 키\n",
    "[d[1] for d in data[1:100:2]]\n",
    "plt.plot([d[0] for d in data[0:100:2]],[d[1] for d in data[0:100:2]],'o',color='r')\n",
    "plt.plot([d[0] for d in data[1:100:2]],[d[1] for d in data[1:100:2]],'o',color='b')"
   ]
  },
  {
   "cell_type": "code",
   "execution_count": 100,
   "metadata": {
    "ExecuteTime": {
     "end_time": "2021-03-19T06:20:42.334040Z",
     "start_time": "2021-03-19T06:20:42.110660Z"
    }
   },
   "outputs": [
    {
     "data": {
      "image/png": "[encoded data removed]",
      "text/plain": [
       "<Figure size 432x288 with 1 Axes>"
      ]
     },
     "metadata": {
      "needs_background": "light"
     },
     "output_type": "display_data"
    }
   ],
   "source": [
    "for g in group1:\n",
    "    plt.plot(g[0],g[1],'o',color='r')\n",
    "for g in group2:\n",
    "    plt.plot(g[0],g[1],'o',color='b')\n",
    "    "
   ]
  }
 ],
 "metadata": {
  "kernelspec": {
   "display_name": "Python 3",
   "language": "python",
   "name": "python3"
  },
  "language_info": {
   "codemirror_mode": {
    "name": "ipython",
    "version": 3
   },
   "file_extension": ".py",
   "mimetype": "text/x-python",
   "name": "python",
   "nbconvert_exporter": "python",
   "pygments_lexer": "ipython3",
   "version": "3.8.5"
  },
  "toc": {
   "base_numbering": 1,
   "nav_menu": {},
   "number_sections": true,
   "sideBar": true,
   "skip_h1_title": false,
   "title_cell": "Table of Contents",
   "title_sidebar": "Contents",
   "toc_cell": false,
   "toc_position": {},
   "toc_section_display": true,
   "toc_window_display": false
  },
  "varInspector": {
   "cols": {
    "lenName": 16,
    "lenType": 16,
    "lenVar": 40
   },
   "kernels_config": {
    "python": {
     "delete_cmd_postfix": "",
     "delete_cmd_prefix": "del ",
     "library": "var_list.py",
     "varRefreshCmd": "print(var_dic_list())"
    },
    "r": {
     "delete_cmd_postfix": ") ",
     "delete_cmd_prefix": "rm(",
     "library": "var_list.r",
     "varRefreshCmd": "cat(var_dic_list()) "
    }
   },
   "types_to_exclude": [
    "module",
    "function",
    "builtin_function_or_method",
    "instance",
    "_Feature"
   ],
   "window_display": false
  }
 },
 "nbformat": 4,
 "nbformat_minor": 4
}
