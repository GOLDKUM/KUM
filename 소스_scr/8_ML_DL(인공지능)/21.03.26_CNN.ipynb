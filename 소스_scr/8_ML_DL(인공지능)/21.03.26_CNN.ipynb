{
 "cells": [
  {
   "cell_type": "code",
   "execution_count": null,
   "metadata": {},
   "outputs": [],
   "source": [
    "from IPython.display import display, HTML\n",
    "display(HTML(\"\"\"\n",
    "<style>\n",
    "div.container{width:100% !important;}\n",
    "div.CodeMirror{font-family:Consolas; font-size:17pt;}\n",
    "div.output{font-size:17pt; font-weight:bold;}\n",
    "div.input {font-family:Consolas; font-size:17pt;}\n",
    "div.prompt{min-width:70px;}\n",
    "\"\"\"))"
   ]
  },
  {
   "cell_type": "code",
   "execution_count": 2,
   "metadata": {},
   "outputs": [
    {
     "name": "stdout",
     "output_type": "stream",
     "text": [
      "(24, 24, 4)\n",
      "<class 'numpy.ndarray'>\n"
     ]
    },
    {
     "data": {
      "image/png": "[encoded data removed]",
      "text/plain": [
       "<Figure size 432x288 with 1 Axes>"
      ]
     },
     "metadata": {
      "needs_background": "light"
     },
     "output_type": "display_data"
    }
   ],
   "source": [
    "import matplotlib.pyplot as plt\n",
    "c0 = plt.imread('data/handwriting/handwriting_shape/train/circle/circle001.png')\n",
    "plt.imshow(c0)\n",
    "print(c0.shape)\n",
    "print(type(c0))"
   ]
  },
  {
   "cell_type": "code",
   "execution_count": 3,
   "metadata": {},
   "outputs": [],
   "source": [
    "import numpy as np\n",
    "from tensorflow.keras.models import Sequential\n",
    "from tensorflow.keras.layers import Conv2D # 필터링\n",
    "from tensorflow.keras.layers import MaxPool2D # 풀링\n",
    "from tensorflow.keras.layers import Flatten # 2차원 영상 데이터를 1차원\n",
    "from tensorflow.keras.layers import Dense, Dropout\n",
    "from tensorflow.keras.preprocessing.image import ImageDataGenerator\n",
    "np.random.seed(3)"
   ]
  },
  {
   "cell_type": "code",
   "execution_count": 4,
   "metadata": {},
   "outputs": [
    {
     "name": "stdout",
     "output_type": "stream",
     "text": [
      "Found 45 images belonging to 3 classes.\n",
      "Found 15 images belonging to 3 classes.\n"
     ]
    }
   ],
   "source": [
    "# 1. 데이터 생성하기\n",
    "train_datagen = ImageDataGenerator(rescale=1./255) # 정규화작업\n",
    "train_generator = train_datagen.flow_from_directory(\n",
    "                    'data/handwriting/hard_handwriting_shape/train',\n",
    "                    target_size = (24,24),\n",
    "                    batch_size=3,\n",
    "                    class_mode = \"categorical\")\n",
    "\n",
    "test_datagen = ImageDataGenerator(rescale=1./255)\n",
    "test_generator = test_datagen.flow_from_directory(\n",
    "                    'data/handwriting/hard_handwriting_shape/test',\n",
    "                    target_size= (24,24),\n",
    "                    batch_size=3,\n",
    "                    class_mode = \"categorical\")"
   ]
  },
  {
   "cell_type": "code",
   "execution_count": 5,
   "metadata": {},
   "outputs": [],
   "source": [
    "# 2. 모델 구성\n",
    "# Conv2D(필터갯수, 필터사이즈, activation_fun, 입력사이즈)\n",
    "model = Sequential()\n",
    "model.add(Conv2D(32, kernel_size=(3,3), activation=\"relu\", input_shape=(24,24,3)))\n",
    "model.add(Conv2D(64, kernel_size=(3,3), activation=\"relu\"))\n",
    "model.add(MaxPool2D(pool_size=(2,2))) # 2*2에서 제일 큰값만 뽑아 이미지 축소\n",
    "model.add(Flatten()) # 2차원 이미지데이터를 1차원으로\n",
    "model.add(Dense(128, activation=\"relu\"))\n",
    "model.add(Dense(3, activation=\"softmax\"))"
   ]
  },
  {
   "cell_type": "code",
   "execution_count": 6,
   "metadata": {},
   "outputs": [
    {
     "name": "stderr",
     "output_type": "stream",
     "text": [
      "C:\\Users\\tjoeun\\anaconda3\\lib\\site-packages\\tensorflow\\python\\keras\\engine\\training.py:1844: UserWarning: `Model.fit_generator` is deprecated and will be removed in a future version. Please use `Model.fit`, which supports generators.\n",
      "  warnings.warn('`Model.fit_generator` is deprecated and '\n"
     ]
    },
    {
     "name": "stdout",
     "output_type": "stream",
     "text": [
      "Epoch 1/50\n",
      "15/15 [==============================] - 1s 69ms/step - loss: 1.1225 - accuracy: 0.5541 - val_loss: 2.1536 - val_accuracy: 0.3333\n",
      "Epoch 2/50\n",
      "15/15 [==============================] - 0s 12ms/step - loss: 0.2943 - accuracy: 0.9833 - val_loss: 3.2099 - val_accuracy: 0.4000\n",
      "Epoch 3/50\n",
      "15/15 [==============================] - 0s 12ms/step - loss: 0.0585 - accuracy: 1.0000 - val_loss: 3.9332 - val_accuracy: 0.4000\n",
      "Epoch 4/50\n",
      "15/15 [==============================] - 0s 11ms/step - loss: 0.0014 - accuracy: 1.0000 - val_loss: 4.8277 - val_accuracy: 0.4000\n",
      "Epoch 5/50\n",
      "15/15 [==============================] - 0s 12ms/step - loss: 2.3615e-04 - accuracy: 1.0000 - val_loss: 5.4750 - val_accuracy: 0.4000\n",
      "Epoch 6/50\n",
      "15/15 [==============================] - 0s 13ms/step - loss: 3.2930e-04 - accuracy: 1.0000 - val_loss: 5.7096 - val_accuracy: 0.4000\n",
      "Epoch 7/50\n",
      "15/15 [==============================] - 0s 12ms/step - loss: 1.9639e-04 - accuracy: 1.0000 - val_loss: 5.6682 - val_accuracy: 0.4000\n",
      "Epoch 8/50\n",
      "15/15 [==============================] - 0s 12ms/step - loss: 1.5944e-04 - accuracy: 1.0000 - val_loss: 5.7193 - val_accuracy: 0.4000\n",
      "Epoch 9/50\n",
      "15/15 [==============================] - 0s 12ms/step - loss: 7.0299e-05 - accuracy: 1.0000 - val_loss: 5.8872 - val_accuracy: 0.4000\n",
      "Epoch 10/50\n",
      "15/15 [==============================] - 0s 11ms/step - loss: 5.3798e-05 - accuracy: 1.0000 - val_loss: 6.0280 - val_accuracy: 0.4000\n",
      "Epoch 11/50\n",
      "15/15 [==============================] - 0s 14ms/step - loss: 4.3127e-05 - accuracy: 1.0000 - val_loss: 6.1110 - val_accuracy: 0.3333\n",
      "Epoch 12/50\n",
      "15/15 [==============================] - 0s 12ms/step - loss: 2.6032e-05 - accuracy: 1.0000 - val_loss: 6.1601 - val_accuracy: 0.3333\n",
      "Epoch 13/50\n",
      "15/15 [==============================] - 0s 12ms/step - loss: 2.1447e-05 - accuracy: 1.0000 - val_loss: 6.1671 - val_accuracy: 0.3333\n",
      "Epoch 14/50\n",
      "15/15 [==============================] - 0s 10ms/step - loss: 1.6405e-05 - accuracy: 1.0000 - val_loss: 6.1961 - val_accuracy: 0.3333\n",
      "Epoch 15/50\n",
      "15/15 [==============================] - 0s 12ms/step - loss: 2.2046e-05 - accuracy: 1.0000 - val_loss: 6.2258 - val_accuracy: 0.3333\n",
      "Epoch 16/50\n",
      "15/15 [==============================] - 0s 13ms/step - loss: 2.0297e-05 - accuracy: 1.0000 - val_loss: 6.2311 - val_accuracy: 0.3333\n",
      "Epoch 17/50\n",
      "15/15 [==============================] - 0s 12ms/step - loss: 1.1192e-05 - accuracy: 1.0000 - val_loss: 6.2892 - val_accuracy: 0.3333\n",
      "Epoch 18/50\n",
      "15/15 [==============================] - 0s 12ms/step - loss: 1.4189e-05 - accuracy: 1.0000 - val_loss: 6.2337 - val_accuracy: 0.4000\n",
      "Epoch 19/50\n",
      "15/15 [==============================] - 0s 11ms/step - loss: 1.3902e-05 - accuracy: 1.0000 - val_loss: 6.3297 - val_accuracy: 0.3333\n",
      "Epoch 20/50\n",
      "15/15 [==============================] - 0s 12ms/step - loss: 1.3502e-05 - accuracy: 1.0000 - val_loss: 6.3266 - val_accuracy: 0.3333\n",
      "Epoch 21/50\n",
      "15/15 [==============================] - 0s 14ms/step - loss: 9.6011e-06 - accuracy: 1.0000 - val_loss: 6.3963 - val_accuracy: 0.3333\n",
      "Epoch 22/50\n",
      "15/15 [==============================] - 0s 12ms/step - loss: 8.7498e-06 - accuracy: 1.0000 - val_loss: 6.3472 - val_accuracy: 0.3333\n",
      "Epoch 23/50\n",
      "15/15 [==============================] - 0s 12ms/step - loss: 8.8919e-06 - accuracy: 1.0000 - val_loss: 6.3382 - val_accuracy: 0.3333\n",
      "Epoch 24/50\n",
      "15/15 [==============================] - 0s 12ms/step - loss: 7.3398e-06 - accuracy: 1.0000 - val_loss: 6.4170 - val_accuracy: 0.3333\n",
      "Epoch 25/50\n",
      "15/15 [==============================] - 0s 12ms/step - loss: 5.1448e-06 - accuracy: 1.0000 - val_loss: 6.4713 - val_accuracy: 0.3333\n",
      "Epoch 26/50\n",
      "15/15 [==============================] - 0s 14ms/step - loss: 4.9987e-06 - accuracy: 1.0000 - val_loss: 6.4260 - val_accuracy: 0.3333\n",
      "Epoch 27/50\n",
      "15/15 [==============================] - 0s 11ms/step - loss: 4.8313e-06 - accuracy: 1.0000 - val_loss: 6.4457 - val_accuracy: 0.3333\n",
      "Epoch 28/50\n",
      "15/15 [==============================] - 0s 12ms/step - loss: 5.1238e-06 - accuracy: 1.0000 - val_loss: 6.4961 - val_accuracy: 0.3333\n",
      "Epoch 29/50\n",
      "15/15 [==============================] - 0s 12ms/step - loss: 4.0581e-06 - accuracy: 1.0000 - val_loss: 6.5247 - val_accuracy: 0.3333\n",
      "Epoch 30/50\n",
      "15/15 [==============================] - 0s 12ms/step - loss: 4.0833e-06 - accuracy: 1.0000 - val_loss: 6.5587 - val_accuracy: 0.3333\n",
      "Epoch 31/50\n",
      "15/15 [==============================] - 0s 15ms/step - loss: 3.2868e-06 - accuracy: 1.0000 - val_loss: 6.5365 - val_accuracy: 0.3333\n",
      "Epoch 32/50\n",
      "15/15 [==============================] - 0s 12ms/step - loss: 2.6163e-06 - accuracy: 1.0000 - val_loss: 6.5533 - val_accuracy: 0.3333\n",
      "Epoch 33/50\n",
      "15/15 [==============================] - 0s 12ms/step - loss: 2.9678e-06 - accuracy: 1.0000 - val_loss: 6.5785 - val_accuracy: 0.3333\n",
      "Epoch 34/50\n",
      "15/15 [==============================] - 0s 12ms/step - loss: 2.6882e-06 - accuracy: 1.0000 - val_loss: 6.6329 - val_accuracy: 0.3333\n",
      "Epoch 35/50\n",
      "15/15 [==============================] - 0s 12ms/step - loss: 3.7676e-06 - accuracy: 1.0000 - val_loss: 6.5872 - val_accuracy: 0.3333\n",
      "Epoch 36/50\n",
      "15/15 [==============================] - 0s 13ms/step - loss: 3.0035e-06 - accuracy: 1.0000 - val_loss: 6.6223 - val_accuracy: 0.3333\n",
      "Epoch 37/50\n",
      "15/15 [==============================] - 0s 12ms/step - loss: 2.6185e-06 - accuracy: 1.0000 - val_loss: 6.6371 - val_accuracy: 0.3333\n",
      "Epoch 38/50\n",
      "15/15 [==============================] - 0s 13ms/step - loss: 2.6894e-06 - accuracy: 1.0000 - val_loss: 6.6633 - val_accuracy: 0.3333\n",
      "Epoch 39/50\n",
      "15/15 [==============================] - 0s 13ms/step - loss: 1.4885e-06 - accuracy: 1.0000 - val_loss: 6.6595 - val_accuracy: 0.3333\n",
      "Epoch 40/50\n",
      "15/15 [==============================] - 0s 12ms/step - loss: 2.1767e-06 - accuracy: 1.0000 - val_loss: 6.6666 - val_accuracy: 0.3333\n",
      "Epoch 41/50\n",
      "15/15 [==============================] - 0s 12ms/step - loss: 1.8115e-06 - accuracy: 1.0000 - val_loss: 6.6851 - val_accuracy: 0.3333\n",
      "Epoch 42/50\n",
      "15/15 [==============================] - 0s 12ms/step - loss: 2.5037e-06 - accuracy: 1.0000 - val_loss: 6.7047 - val_accuracy: 0.3333\n",
      "Epoch 43/50\n",
      "15/15 [==============================] - 0s 12ms/step - loss: 1.8145e-06 - accuracy: 1.0000 - val_loss: 6.7259 - val_accuracy: 0.3333\n",
      "Epoch 44/50\n",
      "15/15 [==============================] - 0s 12ms/step - loss: 1.2618e-06 - accuracy: 1.0000 - val_loss: 6.7064 - val_accuracy: 0.3333\n",
      "Epoch 45/50\n",
      "15/15 [==============================] - 0s 12ms/step - loss: 1.4968e-06 - accuracy: 1.0000 - val_loss: 6.7251 - val_accuracy: 0.3333\n",
      "Epoch 46/50\n",
      "15/15 [==============================] - 0s 15ms/step - loss: 1.1680e-06 - accuracy: 1.0000 - val_loss: 6.7443 - val_accuracy: 0.3333\n",
      "Epoch 47/50\n",
      "15/15 [==============================] - 0s 13ms/step - loss: 1.2081e-06 - accuracy: 1.0000 - val_loss: 6.7596 - val_accuracy: 0.3333\n",
      "Epoch 48/50\n",
      "15/15 [==============================] - 0s 12ms/step - loss: 1.0253e-06 - accuracy: 1.0000 - val_loss: 6.7735 - val_accuracy: 0.3333\n",
      "Epoch 49/50\n",
      "15/15 [==============================] - 0s 13ms/step - loss: 1.4269e-06 - accuracy: 1.0000 - val_loss: 6.7822 - val_accuracy: 0.3333\n",
      "Epoch 50/50\n",
      "15/15 [==============================] - 0s 15ms/step - loss: 1.3547e-06 - accuracy: 1.0000 - val_loss: 6.7788 - val_accuracy: 0.3333\n"
     ]
    },
    {
     "data": {
      "text/plain": [
       "<tensorflow.python.keras.callbacks.History at 0x254224ceeb0>"
      ]
     },
     "execution_count": 6,
     "metadata": {},
     "output_type": "execute_result"
    }
   ],
   "source": [
    "# 3. 모델 학습과정 설정\n",
    "model.compile(loss=\"categorical_crossentropy\", optimizer=\"adam\", \n",
    "              metrics=['accuracy'])\n",
    "# 4. 모델 학습시키기\n",
    "model.fit_generator(train_generator, steps_per_epoch=15,\n",
    "                   epochs=50,\n",
    "                   validation_data=test_generator,\n",
    "                   validation_steps=5)"
   ]
  },
  {
   "cell_type": "code",
   "execution_count": 7,
   "metadata": {},
   "outputs": [
    {
     "name": "stdout",
     "output_type": "stream",
     "text": [
      "loss : 6.778771877288818\n",
      "accuracy : 0.3333333432674408\n",
      "\n",
      "{'circle': 0, 'rectangle': 1, 'triangle': 2}\n",
      "[[0.00 0.00 1.00]\n",
      " [0.00 0.00 1.00]\n",
      " [0.00 0.00 1.00]\n",
      " [0.46 0.00 0.54]\n",
      " [0.00 0.00 1.00]\n",
      " [0.34 0.01 0.66]\n",
      " [0.00 0.01 0.99]\n",
      " [0.00 0.00 1.00]\n",
      " [0.02 0.00 0.98]\n",
      " [0.00 0.00 1.00]\n",
      " [0.00 0.01 0.99]\n",
      " [0.00 0.00 1.00]\n",
      " [0.00 0.00 1.00]\n",
      " [0.00 0.00 1.00]\n",
      " [0.00 0.00 1.00]]\n"
     ]
    },
    {
     "name": "stderr",
     "output_type": "stream",
     "text": [
      "C:\\Users\\tjoeun\\anaconda3\\lib\\site-packages\\tensorflow\\python\\keras\\engine\\training.py:1877: UserWarning: `Model.evaluate_generator` is deprecated and will be removed in a future version. Please use `Model.evaluate`, which supports generators.\n",
      "  warnings.warn('`Model.evaluate_generator` is deprecated and '\n",
      "C:\\Users\\tjoeun\\anaconda3\\lib\\site-packages\\tensorflow\\python\\keras\\engine\\training.py:1905: UserWarning: `Model.predict_generator` is deprecated and will be removed in a future version. Please use `Model.predict`, which supports generators.\n",
      "  warnings.warn('`Model.predict_generator` is deprecated and '\n"
     ]
    }
   ],
   "source": [
    "# 5. 모델 평가하기\n",
    "score = model.evaluate_generator(test_generator, steps=5)\n",
    "print('loss :',score[0])\n",
    "print('accuracy :',score[1])\n",
    "print()\n",
    "# 6. 예측 하기\n",
    "pred = model.predict_generator(test_generator)\n",
    "print(test_generator.class_indices)\n",
    "np.set_printoptions(formatter={'float':lambda x : \"{:0.2f}\".format(x)})\n",
    "print(pred)"
   ]
  },
  {
   "cell_type": "markdown",
   "metadata": {},
   "source": [
    "# accuracy 늘리기\n",
    "<ul>\n",
    "    <li> 데이터 확보, 데이터 부풀리기(ImageDataGenerator)</li>\n",
    "    <li> 레이어 층<li> 레이어 층"
   ]
  },
  {
   "cell_type": "code",
   "execution_count": 8,
   "metadata": {},
   "outputs": [
    {
     "name": "stdout",
     "output_type": "stream",
     "text": [
      "Found 69 images belonging to 3 classes.\n",
      "Found 15 images belonging to 3 classes.\n"
     ]
    }
   ],
   "source": [
    "# 1. 데이터 생성하기\n",
    "train_datagen = ImageDataGenerator(rescale=1./255, # 정규화작업\n",
    "                            rotation_range=10,\n",
    "                            width_shift_range=0.2,\n",
    "                            height_shift_range=0.2,\n",
    "                            shear_range=0.7, #0.7라이안 밀림\n",
    "                            zoom_range=[0.9,2.2], # 0.9배~2.2배\n",
    "                            horizontal_flip=True, # 수평방향으로 뒤집기\n",
    "                            vertical_flip=True, # 수직방향으로 뒤집기\n",
    "                            fill_mode='nearest')#이미지를 회전, \n",
    "                              #이동하거나 축소할 때 공간을 채우는 방식\n",
    "\n",
    "train_generator = train_datagen.flow_from_directory(\n",
    "                    'data/handwriting/hand_test/train',\n",
    "                    target_size = (24,24),\n",
    "                    batch_size=3,\n",
    "                    class_mode = \"categorical\")\n",
    "\n",
    "test_datagen = ImageDataGenerator(rescale=1./255)\n",
    "test_generator = test_datagen.flow_from_directory(\n",
    "                    'data/handwriting/hand_test/test',\n",
    "                    target_size= (24,24),\n",
    "                    batch_size=3,\n",
    "                    class_mode = \"categorical\")"
   ]
  },
  {
   "cell_type": "code",
   "execution_count": 12,
   "metadata": {},
   "outputs": [],
   "source": [
    "# 2. 모델 구성\n",
    "# Conv2D(필터갯수, 필터사이즈, activation_fun, 입력사이즈)\n",
    "model = Sequential()\n",
    "model.add(Conv2D(32, kernel_size=(3,3), activation=\"relu\", input_shape=(24,24,3)))\n",
    "model.add(Conv2D(32, kernel_size=(3,3), activation=\"relu\"))\n",
    "model.add(MaxPool2D(pool_size=(2,2))) # 2*2에서 제일 큰값만 뽑아 이미지 축소\n",
    "model.add(Dropout(0.1)) # 과적합을 막는 목적\n",
    "model.add(Conv2D(64, kernel_size=(3,3), activation=\"relu\"))\n",
    "model.add(Conv2D(64, kernel_size=(3,3), activation=\"relu\"))\n",
    "model.add(MaxPool2D(pool_size=(2,2))) # 2*2에서 제일 큰값만 뽑아 이미지 축소\n",
    "model.add(Dropout(0.1))\n",
    "model.add(Flatten()) # 2차원 이미지데이터를 1차원으로\n",
    "model.add(Dense(128, activation=\"relu\"))\n",
    "model.add(Dense(3, activation=\"softmax\"))"
   ]
  },
  {
   "cell_type": "code",
   "execution_count": 13,
   "metadata": {},
   "outputs": [
    {
     "name": "stdout",
     "output_type": "stream",
     "text": [
      "Epoch 1/50\n",
      "15/15 [==============================] - 1s 21ms/step - loss: 1.1218 - accuracy: 0.2184 - val_loss: 1.0936 - val_accuracy: 0.6000\n",
      "Epoch 2/50\n",
      "15/15 [==============================] - 0s 8ms/step - loss: 1.0802 - accuracy: 0.4428 - val_loss: 1.0908 - val_accuracy: 0.4000\n",
      "Epoch 3/50\n",
      "15/15 [==============================] - 0s 7ms/step - loss: 1.1066 - accuracy: 0.4138 - val_loss: 1.0751 - val_accuracy: 0.4667\n",
      "Epoch 4/50\n",
      "15/15 [==============================] - 0s 8ms/step - loss: 1.0852 - accuracy: 0.4073 - val_loss: 1.0319 - val_accuracy: 0.4667\n",
      "Epoch 5/50\n",
      "15/15 [==============================] - 0s 8ms/step - loss: 1.0078 - accuracy: 0.6283 - val_loss: 1.0061 - val_accuracy: 0.6000\n",
      "Epoch 6/50\n",
      "15/15 [==============================] - 0s 8ms/step - loss: 1.0042 - accuracy: 0.5059 - val_loss: 1.1227 - val_accuracy: 0.4000\n",
      "Epoch 7/50\n",
      "15/15 [==============================] - 0s 9ms/step - loss: 0.7551 - accuracy: 0.7470 - val_loss: 0.9556 - val_accuracy: 0.4667\n",
      "Epoch 8/50\n",
      "15/15 [==============================] - 0s 7ms/step - loss: 0.7322 - accuracy: 0.7118 - val_loss: 1.1922 - val_accuracy: 0.5333\n",
      "Epoch 9/50\n",
      "15/15 [==============================] - 0s 8ms/step - loss: 0.8500 - accuracy: 0.7587 - val_loss: 0.8952 - val_accuracy: 0.6000\n",
      "Epoch 10/50\n",
      "15/15 [==============================] - 0s 8ms/step - loss: 0.8112 - accuracy: 0.6190 - val_loss: 0.9596 - val_accuracy: 0.4000\n",
      "Epoch 11/50\n",
      "15/15 [==============================] - 0s 9ms/step - loss: 0.6988 - accuracy: 0.8971 - val_loss: 1.0165 - val_accuracy: 0.4667\n",
      "Epoch 12/50\n",
      "15/15 [==============================] - 0s 9ms/step - loss: 0.5095 - accuracy: 0.8216 - val_loss: 2.4751 - val_accuracy: 0.4000\n",
      "Epoch 13/50\n",
      "15/15 [==============================] - 0s 10ms/step - loss: 0.4968 - accuracy: 0.8076 - val_loss: 1.6130 - val_accuracy: 0.4667\n",
      "Epoch 14/50\n",
      "15/15 [==============================] - 0s 9ms/step - loss: 0.4162 - accuracy: 0.8716 - val_loss: 1.3823 - val_accuracy: 0.6000\n",
      "Epoch 15/50\n",
      "15/15 [==============================] - 0s 9ms/step - loss: 0.4775 - accuracy: 0.8374 - val_loss: 1.0112 - val_accuracy: 0.6667\n",
      "Epoch 16/50\n",
      "15/15 [==============================] - 0s 9ms/step - loss: 0.6539 - accuracy: 0.6812 - val_loss: 1.3390 - val_accuracy: 0.5333\n",
      "Epoch 17/50\n",
      "15/15 [==============================] - 0s 9ms/step - loss: 0.4454 - accuracy: 0.8410 - val_loss: 1.1960 - val_accuracy: 0.6667\n",
      "Epoch 18/50\n",
      "15/15 [==============================] - 0s 9ms/step - loss: 0.2344 - accuracy: 0.8993 - val_loss: 2.3367 - val_accuracy: 0.4667\n",
      "Epoch 19/50\n",
      "15/15 [==============================] - 0s 9ms/step - loss: 0.5201 - accuracy: 0.8154 - val_loss: 1.4236 - val_accuracy: 0.6667\n",
      "Epoch 20/50\n",
      "15/15 [==============================] - 0s 11ms/step - loss: 0.1951 - accuracy: 0.9076 - val_loss: 1.5348 - val_accuracy: 0.7333\n",
      "Epoch 21/50\n",
      "15/15 [==============================] - 0s 8ms/step - loss: 0.2838 - accuracy: 0.9195 - val_loss: 1.6571 - val_accuracy: 0.6000\n",
      "Epoch 22/50\n",
      "15/15 [==============================] - 0s 9ms/step - loss: 0.0939 - accuracy: 0.9914 - val_loss: 2.3470 - val_accuracy: 0.5333\n",
      "Epoch 23/50\n",
      "15/15 [==============================] - 0s 9ms/step - loss: 0.3555 - accuracy: 0.8949 - val_loss: 2.3318 - val_accuracy: 0.4667\n",
      "Epoch 24/50\n",
      "15/15 [==============================] - 0s 9ms/step - loss: 0.2549 - accuracy: 0.9195 - val_loss: 0.9363 - val_accuracy: 0.8000\n",
      "Epoch 25/50\n",
      "15/15 [==============================] - 0s 9ms/step - loss: 0.1830 - accuracy: 0.9259 - val_loss: 1.6853 - val_accuracy: 0.6667\n",
      "Epoch 26/50\n",
      "15/15 [==============================] - 0s 9ms/step - loss: 0.1784 - accuracy: 0.9013 - val_loss: 2.5488 - val_accuracy: 0.5333\n",
      "Epoch 27/50\n",
      "15/15 [==============================] - 0s 9ms/step - loss: 0.2070 - accuracy: 0.9291 - val_loss: 1.3987 - val_accuracy: 0.6667\n",
      "Epoch 28/50\n",
      "15/15 [==============================] - 0s 9ms/step - loss: 0.2877 - accuracy: 0.8832 - val_loss: 1.1002 - val_accuracy: 0.7333\n",
      "Epoch 29/50\n",
      "15/15 [==============================] - 0s 8ms/step - loss: 0.1564 - accuracy: 0.9677 - val_loss: 1.0435 - val_accuracy: 0.8000\n",
      "Epoch 30/50\n",
      "15/15 [==============================] - 0s 9ms/step - loss: 0.1822 - accuracy: 0.9485 - val_loss: 1.2594 - val_accuracy: 0.8000\n",
      "Epoch 31/50\n",
      "15/15 [==============================] - 0s 9ms/step - loss: 0.0775 - accuracy: 0.9854 - val_loss: 1.5327 - val_accuracy: 0.7333\n",
      "Epoch 32/50\n",
      "15/15 [==============================] - 0s 8ms/step - loss: 0.1491 - accuracy: 0.9745 - val_loss: 1.0915 - val_accuracy: 0.8000\n",
      "Epoch 33/50\n",
      "15/15 [==============================] - 0s 10ms/step - loss: 0.1572 - accuracy: 0.9545 - val_loss: 1.2107 - val_accuracy: 0.7333\n",
      "Epoch 34/50\n",
      "15/15 [==============================] - 0s 9ms/step - loss: 0.2387 - accuracy: 0.8858 - val_loss: 1.1018 - val_accuracy: 0.8000\n",
      "Epoch 35/50\n",
      "15/15 [==============================] - 0s 8ms/step - loss: 0.3915 - accuracy: 0.9093 - val_loss: 1.2846 - val_accuracy: 0.7333\n",
      "Epoch 36/50\n",
      "15/15 [==============================] - 0s 8ms/step - loss: 0.2630 - accuracy: 0.9072 - val_loss: 1.2298 - val_accuracy: 0.7333\n",
      "Epoch 37/50\n",
      "15/15 [==============================] - 0s 8ms/step - loss: 0.1711 - accuracy: 0.9307 - val_loss: 1.4593 - val_accuracy: 0.7333\n",
      "Epoch 38/50\n",
      "15/15 [==============================] - 0s 8ms/step - loss: 0.3425 - accuracy: 0.7992 - val_loss: 0.5746 - val_accuracy: 0.8000\n",
      "Epoch 39/50\n",
      "15/15 [==============================] - 0s 8ms/step - loss: 0.1304 - accuracy: 0.9846 - val_loss: 1.1726 - val_accuracy: 0.8000\n",
      "Epoch 40/50\n",
      "15/15 [==============================] - 0s 10ms/step - loss: 0.2865 - accuracy: 0.8815 - val_loss: 0.9908 - val_accuracy: 0.7333\n",
      "Epoch 41/50\n",
      "15/15 [==============================] - 0s 9ms/step - loss: 0.2273 - accuracy: 0.8503 - val_loss: 1.2320 - val_accuracy: 0.8000\n",
      "Epoch 42/50\n",
      "15/15 [==============================] - 0s 9ms/step - loss: 0.1570 - accuracy: 0.9433 - val_loss: 1.0170 - val_accuracy: 0.8667\n",
      "Epoch 43/50\n",
      "15/15 [==============================] - 0s 9ms/step - loss: 0.0683 - accuracy: 0.9957 - val_loss: 0.9876 - val_accuracy: 0.8000\n",
      "Epoch 44/50\n",
      "15/15 [==============================] - 0s 9ms/step - loss: 0.3649 - accuracy: 0.9180 - val_loss: 1.2460 - val_accuracy: 0.8000\n",
      "Epoch 45/50\n",
      "15/15 [==============================] - 0s 9ms/step - loss: 0.1977 - accuracy: 0.9021 - val_loss: 0.9713 - val_accuracy: 0.8667\n",
      "Epoch 46/50\n",
      "15/15 [==============================] - 0s 10ms/step - loss: 0.1266 - accuracy: 0.9459 - val_loss: 1.0777 - val_accuracy: 0.7333\n",
      "Epoch 47/50\n",
      "15/15 [==============================] - 0s 9ms/step - loss: 0.4161 - accuracy: 0.8132 - val_loss: 1.5053 - val_accuracy: 0.6667\n",
      "Epoch 48/50\n",
      "15/15 [==============================] - 0s 9ms/step - loss: 0.2648 - accuracy: 0.8911 - val_loss: 1.6378 - val_accuracy: 0.6667\n",
      "Epoch 49/50\n",
      "15/15 [==============================] - 0s 9ms/step - loss: 0.1523 - accuracy: 0.9180 - val_loss: 0.7937 - val_accuracy: 0.7333\n",
      "Epoch 50/50\n",
      "15/15 [==============================] - 0s 8ms/step - loss: 0.0571 - accuracy: 1.0000 - val_loss: 0.6739 - val_accuracy: 0.8000\n"
     ]
    },
    {
     "data": {
      "text/plain": [
       "<tensorflow.python.keras.callbacks.History at 0x2542aaff190>"
      ]
     },
     "execution_count": 13,
     "metadata": {},
     "output_type": "execute_result"
    }
   ],
   "source": [
    "# 3. 모델 학습과정 설정\n",
    "model.compile(loss=\"categorical_crossentropy\", optimizer=\"adam\", \n",
    "              metrics=['accuracy'])\n",
    "# 4. 모델 학습시키기\n",
    "model.fit_generator(train_generator, steps_per_epoch=15,\n",
    "                   epochs=50,\n",
    "                   validation_data=test_generator,\n",
    "                   validation_steps=5)"
   ]
  },
  {
   "cell_type": "code",
   "execution_count": 14,
   "metadata": {},
   "outputs": [
    {
     "name": "stdout",
     "output_type": "stream",
     "text": [
      "loss : 0.6738671660423279\n",
      "accuracy : 0.800000011920929\n",
      "\n",
      "{'circle': 0, 'rectangle': 1, 'triangle': 2}\n",
      "[2 2 0 0 0 2 2 0 1 1 0 1 2 1 2]\n",
      "[[0.00 0.00 1.00]\n",
      " [0.01 0.00 0.99]\n",
      " [1.00 0.00 0.00]\n",
      " [0.99 0.00 0.01]\n",
      " [1.00 0.00 0.00]\n",
      " [0.32 0.05 0.63]\n",
      " [0.15 0.02 0.82]\n",
      " [0.59 0.30 0.11]\n",
      " [0.32 0.37 0.32]\n",
      " [0.00 1.00 0.00]\n",
      " [1.00 0.00 0.00]\n",
      " [0.00 1.00 0.00]\n",
      " [0.29 0.16 0.55]\n",
      " [0.00 1.00 0.00]\n",
      " [0.00 0.00 1.00]]\n"
     ]
    }
   ],
   "source": [
    "# 5. 모델 평가하기\n",
    "score = model.evaluate_generator(test_generator, steps=5)\n",
    "print('loss :',score[0])\n",
    "print('accuracy :',score[1])\n",
    "print()\n",
    "# 6. 예측 하기\n",
    "pred = model.predict_generator(test_generator)\n",
    "print(test_generator.class_indices)\n",
    "np.set_printoptions(formatter={'float':lambda x : \"{:0.2f}\".format(x)})\n",
    "print(np.argmax(pred, axis=1))\n",
    "print(pred)"
   ]
  },
  {
   "cell_type": "code",
   "execution_count": null,
   "metadata": {},
   "outputs": [],
   "source": []
  },
  {
   "cell_type": "code",
   "execution_count": null,
   "metadata": {},
   "outputs": [],
   "source": []
  }
 ],
 "metadata": {
  "kernelspec": {
   "display_name": "Python 3",
   "language": "python",
   "name": "python3"
  },
  "language_info": {
   "codemirror_mode": {
    "name": "ipython",
    "version": 3
   },
   "file_extension": ".py",
   "mimetype": "text/x-python",
   "name": "python",
   "nbconvert_exporter": "python",
   "pygments_lexer": "ipython3",
   "version": "3.8.5"
  },
  "toc": {
   "base_numbering": 1,
   "nav_menu": {},
   "number_sections": true,
   "sideBar": true,
   "skip_h1_title": false,
   "title_cell": "Table of Contents",
   "title_sidebar": "Contents",
   "toc_cell": false,
   "toc_position": {},
   "toc_section_display": true,
   "toc_window_display": false
  },
  "varInspector": {
   "cols": {
    "lenName": 16,
    "lenType": 16,
    "lenVar": 40
   },
   "kernels_config": {
    "python": {
     "delete_cmd_postfix": "",
     "delete_cmd_prefix": "del ",
     "library": "var_list.py",
     "varRefreshCmd": "print(var_dic_list())"
    },
    "r": {
     "delete_cmd_postfix": ") ",
     "delete_cmd_prefix": "rm(",
     "library": "var_list.r",
     "varRefreshCmd": "cat(var_dic_list()) "
    }
   },
   "types_to_exclude": [
    "module",
    "function",
    "builtin_function_or_method",
    "instance",
    "_Feature"
   ],
   "window_display": false
  }
 },
 "nbformat": 4,
 "nbformat_minor": 4
}
