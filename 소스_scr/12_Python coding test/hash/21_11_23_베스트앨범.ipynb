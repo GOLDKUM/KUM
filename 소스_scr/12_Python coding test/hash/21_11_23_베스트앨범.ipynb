{
 "cells": [
  {
   "cell_type": "markdown",
   "metadata": {},
   "source": [
    "#문제 설명<br>\n",
    "스트리밍 사이트에서 장르 별로 가장 많이 재생된 노래를 두 개씩 모아 베스트 앨범을 출시하려 합니다. 노래는 고유 번호로 구분하며, 노래를 수록하는 기준은 다음과 같습니다.\n",
    "\n",
    "속한 노래가 많이 재생된 장르를 먼저 수록합니다.\n",
    "장르 내에서 많이 재생된 노래를 먼저 수록합니다.\n",
    "장르 내에서 재생 횟수가 같은 노래 중에서는 고유 번호가 낮은 노래를 먼저 수록합니다.\n",
    "노래의 장르를 나타내는 문자열 배열 genres와 노래별 재생 횟수를 나타내는 정수 배열 plays가 주어질 때, 베스트 앨범에 들어갈 노래의 고유 번호를 순서대로 return 하도록 solution 함수를 완성하세요.\n",
    "\n",
    "제한사항\n",
    "genres[i]는 고유번호가 i인 노래의 장르입니다.\n",
    "plays[i]는 고유번호가 i인 노래가 재생된 횟수입니다.\n",
    "genres와 plays의 길이는 같으며, 이는 1 이상 10,000 이하입니다.\n",
    "장르 종류는 100개 미만입니다.\n",
    "장르에 속한 곡이 하나라면, 하나의 곡만 선택합니다.\n",
    "모든 장르는 재생된 횟수가 다릅니다.\n",
    "입출력 예\n",
    "genres\tplays\treturn\n",
    "[\"classic\", \"pop\", \"classic\", \"classic\", \"pop\"]\t[500, 600, 150, 800, 2500]\t[4, 1, 3, 0]\n",
    "입출력 예 설명\n",
    "classic 장르는 1,450회 재생되었으며, classic 노래는 다음과 같습니다.\n",
    "\n",
    "고유 번호 3: 800회 재생\n",
    "고유 번호 0: 500회 재생\n",
    "고유 번호 2: 150회 재생\n",
    "pop 장르는 3,100회 재생되었으며, pop 노래는 다음과 같습니다.\n",
    "\n",
    "고유 번호 4: 2,500회 재생\n",
    "고유 번호 1: 600회 재생\n",
    "따라서 pop 장르의 [4, 1]번 노래를 먼저, classic 장르의 [3, 0]번 노래를 그다음에 수록합니다.\n",
    "\n",
    "※ 공지 - 2019년 2월 28일 테스트케이스가 추가되었습니다."
   ]
  },
  {
   "cell_type": "code",
   "execution_count": 319,
   "metadata": {
    "ExecuteTime": {
     "end_time": "2021-11-23T08:29:05.613992Z",
     "start_time": "2021-11-23T08:29:05.589057Z"
    }
   },
   "outputs": [],
   "source": [
    "def solution(genres, plays):\n",
    "    answer = []\n",
    "    musics = {genre:[] for genre in set(genres)}\n",
    "    for e in zip(genres, plays, range(len(plays))):\n",
    "        musics[e[0]].append([e[1] , e[2]])\n",
    "    genreSort =sorted(list(musics.keys()), key= lambda x: sum(map(lambda y: y[0],musics[x])), reverse = True)\n",
    "    for g in genreSort:\n",
    "        temp = [plays_index[1] for plays_index in sorted(musics[g],key= lambda x: (x[0],), reverse = True)]\n",
    "        answer += temp[:min(len(temp),2)]\n",
    "    return answer"
   ]
  },
  {
   "cell_type": "markdown",
   "metadata": {},
   "source": [
    "# 연습과정"
   ]
  },
  {
   "cell_type": "code",
   "execution_count": 279,
   "metadata": {
    "ExecuteTime": {
     "end_time": "2021-11-23T08:11:01.010086Z",
     "start_time": "2021-11-23T08:11:00.999116Z"
    }
   },
   "outputs": [],
   "source": [
    "a=[\"classic\", \"pop\", \"classic\", \"classic\", \"pop\"]#genres\n",
    "b=[500, 600, 150, 800, 2500]#play"
   ]
  },
  {
   "cell_type": "code",
   "execution_count": 316,
   "metadata": {
    "ExecuteTime": {
     "end_time": "2021-11-23T08:27:37.114149Z",
     "start_time": "2021-11-23T08:27:37.103178Z"
    }
   },
   "outputs": [
    {
     "data": {
      "text/plain": [
       "[[600, 1], [2500, 4]]"
      ]
     },
     "execution_count": 316,
     "metadata": {},
     "output_type": "execute_result"
    }
   ],
   "source": [
    "musics['pop']"
   ]
  },
  {
   "cell_type": "code",
   "execution_count": 303,
   "metadata": {
    "ExecuteTime": {
     "end_time": "2021-11-23T08:23:53.224608Z",
     "start_time": "2021-11-23T08:23:53.216630Z"
    }
   },
   "outputs": [
    {
     "data": {
      "text/plain": [
       "[4, 1, 3, 2]"
      ]
     },
     "execution_count": 303,
     "metadata": {},
     "output_type": "execute_result"
    }
   ],
   "source": [
    "answer"
   ]
  },
  {
   "cell_type": "code",
   "execution_count": 286,
   "metadata": {
    "ExecuteTime": {
     "end_time": "2021-11-23T08:18:59.824413Z",
     "start_time": "2021-11-23T08:18:59.810455Z"
    }
   },
   "outputs": [],
   "source": [
    "a=[\"aorea\", \"pop\", \"classic\", \"classic\", \"pop\"]#genres\n",
    "b=[7000, 600, 150, 800, 2500]#play"
   ]
  },
  {
   "cell_type": "code",
   "execution_count": 300,
   "metadata": {
    "ExecuteTime": {
     "end_time": "2021-11-23T08:22:08.735625Z",
     "start_time": "2021-11-23T08:22:08.723625Z"
    }
   },
   "outputs": [
    {
     "ename": "IndentationError",
     "evalue": "unindent does not match any outer indentation level (<tokenize>, line 8)",
     "output_type": "error",
     "traceback": [
      "\u001b[1;36m  File \u001b[1;32m\"<tokenize>\"\u001b[1;36m, line \u001b[1;32m8\u001b[0m\n\u001b[1;33m    return answer\u001b[0m\n\u001b[1;37m    ^\u001b[0m\n\u001b[1;31mIndentationError\u001b[0m\u001b[1;31m:\u001b[0m unindent does not match any outer indentation level\n"
     ]
    }
   ],
   "source": [
    "musics = {genre:[] for genre in set(a)}\n",
    "for e in zip(a, b, range(len(b))):\n",
    "        musics[e[0]].append([e[1] , e[2]])\n",
    "sorted(list(musics.keys()), key= lambda x: sum(map(lambda y: y[0],musics[x])),reverse = True)\n"
   ]
  },
  {
   "cell_type": "code",
   "execution_count": 294,
   "metadata": {
    "ExecuteTime": {
     "end_time": "2021-11-23T08:19:46.001145Z",
     "start_time": "2021-11-23T08:19:45.991174Z"
    }
   },
   "outputs": [],
   "source": [
    "key= lambda x: sum(map(lambda y: y[0],musics[x]))"
   ]
  },
  {
   "cell_type": "code",
   "execution_count": null,
   "metadata": {},
   "outputs": [],
   "source": []
  },
  {
   "cell_type": "code",
   "execution_count": null,
   "metadata": {},
   "outputs": [],
   "source": []
  },
  {
   "cell_type": "code",
   "execution_count": null,
   "metadata": {},
   "outputs": [],
   "source": []
  },
  {
   "cell_type": "code",
   "execution_count": null,
   "metadata": {},
   "outputs": [],
   "source": []
  },
  {
   "cell_type": "code",
   "execution_count": 277,
   "metadata": {
    "ExecuteTime": {
     "end_time": "2021-11-23T08:10:44.843325Z",
     "start_time": "2021-11-23T08:10:44.825335Z"
    }
   },
   "outputs": [],
   "source": [
    "musics['happy']='나도모르겠다'"
   ]
  },
  {
   "cell_type": "code",
   "execution_count": 275,
   "metadata": {
    "ExecuteTime": {
     "end_time": "2021-11-23T08:09:00.900283Z",
     "start_time": "2021-11-23T08:09:00.890309Z"
    }
   },
   "outputs": [
    {
     "data": {
      "text/plain": [
       "['pop', 'classic']"
      ]
     },
     "execution_count": 275,
     "metadata": {},
     "output_type": "execute_result"
    }
   ],
   "source": [
    "sorted(list(musics.keys()), key= lambda a: sum(map(lambda y: y[0],musics[a])),reverse = True)"
   ]
  },
  {
   "cell_type": "code",
   "execution_count": 237,
   "metadata": {
    "ExecuteTime": {
     "end_time": "2021-11-23T07:54:28.847961Z",
     "start_time": "2021-11-23T07:54:28.835994Z"
    }
   },
   "outputs": [
    {
     "ename": "TypeError",
     "evalue": "'str' object is not callable",
     "output_type": "error",
     "traceback": [
      "\u001b[1;31m---------------------------------------------------------------------------\u001b[0m",
      "\u001b[1;31mTypeError\u001b[0m                                 Traceback (most recent call last)",
      "\u001b[1;32m<ipython-input-237-30ecdf90d9f2>\u001b[0m in \u001b[0;36m<module>\u001b[1;34m\u001b[0m\n\u001b[1;32m----> 1\u001b[1;33m \u001b[0msorted\u001b[0m\u001b[1;33m(\u001b[0m\u001b[0mlist\u001b[0m\u001b[1;33m(\u001b[0m\u001b[0mmusics\u001b[0m\u001b[1;33m.\u001b[0m\u001b[0mkeys\u001b[0m\u001b[1;33m(\u001b[0m\u001b[1;33m)\u001b[0m\u001b[1;33m)\u001b[0m\u001b[1;33m,\u001b[0m \u001b[0mkey\u001b[0m\u001b[1;33m=\u001b[0m \u001b[1;34m'pop'\u001b[0m\u001b[1;33m,\u001b[0m\u001b[0mreverse\u001b[0m \u001b[1;33m=\u001b[0m \u001b[1;32mTrue\u001b[0m\u001b[1;33m)\u001b[0m\u001b[1;33m\u001b[0m\u001b[1;33m\u001b[0m\u001b[0m\n\u001b[0m",
      "\u001b[1;31mTypeError\u001b[0m: 'str' object is not callable"
     ]
    }
   ],
   "source": [
    "sorted(list(musics.keys()), key=  ,reverse = True)"
   ]
  },
  {
   "cell_type": "code",
   "execution_count": 236,
   "metadata": {
    "ExecuteTime": {
     "end_time": "2021-11-23T07:51:54.798007Z",
     "start_time": "2021-11-23T07:51:54.778064Z"
    }
   },
   "outputs": [
    {
     "data": {
      "text/plain": [
       "['pop', 'classic']"
      ]
     },
     "execution_count": 236,
     "metadata": {},
     "output_type": "execute_result"
    }
   ],
   "source": [
    "sorted(list(musics.keys()),key=lambda x: sum , reverse = True)"
   ]
  },
  {
   "cell_type": "code",
   "execution_count": 267,
   "metadata": {
    "ExecuteTime": {
     "end_time": "2021-11-23T08:08:21.994110Z",
     "start_time": "2021-11-23T08:08:21.974164Z"
    }
   },
   "outputs": [
    {
     "data": {
      "text/plain": [
       "{'pop': [[600, 1], [2500, 4]], 'classic': [[500, 0], [150, 2], [800, 3]]}"
      ]
     },
     "execution_count": 267,
     "metadata": {},
     "output_type": "execute_result"
    }
   ],
   "source": [
    "musics"
   ]
  },
  {
   "cell_type": "code",
   "execution_count": 176,
   "metadata": {
    "ExecuteTime": {
     "end_time": "2021-11-23T07:09:30.099172Z",
     "start_time": "2021-11-23T07:09:30.090229Z"
    }
   },
   "outputs": [
    {
     "data": {
      "text/plain": [
       "['classic', 'pop']"
      ]
     },
     "execution_count": 176,
     "metadata": {},
     "output_type": "execute_result"
    }
   ],
   "source": [
    "from operator import itemgetter, attrgetter \n",
    "\n",
    "sorted(musics, key = itemgetter(2))"
   ]
  },
  {
   "cell_type": "code",
   "execution_count": 230,
   "metadata": {
    "ExecuteTime": {
     "end_time": "2021-11-23T07:46:00.068147Z",
     "start_time": "2021-11-23T07:46:00.037230Z"
    }
   },
   "outputs": [
    {
     "ename": "TypeError",
     "evalue": "unsupported operand type(s) for +: 'int' and 'str'",
     "output_type": "error",
     "traceback": [
      "\u001b[1;31m---------------------------------------------------------------------------\u001b[0m",
      "\u001b[1;31mTypeError\u001b[0m                                 Traceback (most recent call last)",
      "\u001b[1;32m<ipython-input-230-1d12706ee6fd>\u001b[0m in \u001b[0;36m<module>\u001b[1;34m\u001b[0m\n\u001b[0;32m      1\u001b[0m \u001b[0ma\u001b[0m \u001b[1;33m=\u001b[0m \u001b[1;33m[\u001b[0m\u001b[1;36m1\u001b[0m\u001b[1;33m,\u001b[0m \u001b[1;36m2\u001b[0m\u001b[1;33m,\u001b[0m \u001b[1;34m'python'\u001b[0m\u001b[1;33m,\u001b[0m \u001b[1;36m4\u001b[0m\u001b[1;33m,\u001b[0m \u001b[1;36m5\u001b[0m\u001b[1;33m,\u001b[0m \u001b[1;34m'BlockDMask'\u001b[0m\u001b[1;33m,\u001b[0m \u001b[1;36m7\u001b[0m\u001b[1;33m,\u001b[0m \u001b[1;36m8\u001b[0m\u001b[1;33m,\u001b[0m \u001b[1;36m9\u001b[0m\u001b[1;33m,\u001b[0m \u001b[1;36m10\u001b[0m\u001b[1;33m]\u001b[0m\u001b[1;33m\u001b[0m\u001b[1;33m\u001b[0m\u001b[0m\n\u001b[1;32m----> 2\u001b[1;33m \u001b[0mresult2\u001b[0m \u001b[1;33m=\u001b[0m \u001b[0msum\u001b[0m\u001b[1;33m(\u001b[0m\u001b[0ma\u001b[0m\u001b[1;33m)\u001b[0m\u001b[1;33m\u001b[0m\u001b[1;33m\u001b[0m\u001b[0m\n\u001b[0m",
      "\u001b[1;31mTypeError\u001b[0m: unsupported operand type(s) for +: 'int' and 'str'"
     ]
    }
   ],
   "source": [
    "a = [1, 2, 'python', 4, 5, 'BlockDMask', 7, 8, 9, 10] \n",
    "result2 = sum(a)"
   ]
  },
  {
   "cell_type": "code",
   "execution_count": 245,
   "metadata": {
    "ExecuteTime": {
     "end_time": "2021-11-23T08:01:18.411446Z",
     "start_time": "2021-11-23T08:01:18.405461Z"
    }
   },
   "outputs": [
    {
     "data": {
      "text/plain": [
       "[('john', 'A', 15), ('jane', 'B', 12), ('dave', 'B', 10)]"
      ]
     },
     "execution_count": 245,
     "metadata": {},
     "output_type": "execute_result"
    }
   ],
   "source": [
    "decorated = [(student.grade, i, student) for i, student in enumerate(student_objects)]\n",
    "[student for grade, i, student in decorated]               # undecorate\n"
   ]
  },
  {
   "cell_type": "code",
   "execution_count": 254,
   "metadata": {
    "ExecuteTime": {
     "end_time": "2021-11-23T08:02:47.519213Z",
     "start_time": "2021-11-23T08:02:47.509278Z"
    }
   },
   "outputs": [],
   "source": [
    "a=[student for grade, i, student in decorated] "
   ]
  },
  {
   "cell_type": "code",
   "execution_count": 257,
   "metadata": {
    "ExecuteTime": {
     "end_time": "2021-11-23T08:05:25.956152Z",
     "start_time": "2021-11-23T08:05:25.940193Z"
    }
   },
   "outputs": [
    {
     "data": {
      "text/plain": [
       "{0: 0, 2: 1, 1: 2, 4: 3, 3: 4}"
      ]
     },
     "execution_count": 257,
     "metadata": {},
     "output_type": "execute_result"
    }
   ],
   "source": [
    "x = {1: 2, 3: 4, 4: 3, 2: 1, 0: 0}\n",
    "{k: v for k, v in sorted(x.items(), key=lambda item: item[1])}\n",
    "{0: 0, 2: 1, 1: 2, 4: 3, 3: 4}"
   ]
  },
  {
   "cell_type": "code",
   "execution_count": 263,
   "metadata": {
    "ExecuteTime": {
     "end_time": "2021-11-23T08:07:11.836829Z",
     "start_time": "2021-11-23T08:07:11.826858Z"
    }
   },
   "outputs": [
    {
     "data": {
      "text/plain": [
       "[(0, 0), (1, 2), (2, 1), (3, 4), (4, 3)]"
      ]
     },
     "execution_count": 263,
     "metadata": {},
     "output_type": "execute_result"
    }
   ],
   "source": [
    "sorted(x.items())"
   ]
  },
  {
   "cell_type": "code",
   "execution_count": 265,
   "metadata": {
    "ExecuteTime": {
     "end_time": "2021-11-23T08:07:54.206194Z",
     "start_time": "2021-11-23T08:07:54.190237Z"
    }
   },
   "outputs": [
    {
     "data": {
      "text/plain": [
       "{0: 0, 2: 1, 1: 2, 4: 3, 3: 4}"
      ]
     },
     "execution_count": 265,
     "metadata": {},
     "output_type": "execute_result"
    }
   ],
   "source": [
    "{k:v for k,v in sorted(x.items(),key=lambda item: item[1])}"
   ]
  },
  {
   "cell_type": "code",
   "execution_count": 258,
   "metadata": {
    "ExecuteTime": {
     "end_time": "2021-11-23T08:05:33.684546Z",
     "start_time": "2021-11-23T08:05:33.657621Z"
    }
   },
   "outputs": [
    {
     "ename": "TypeError",
     "evalue": "'dict' object is not callable",
     "output_type": "error",
     "traceback": [
      "\u001b[1;31m---------------------------------------------------------------------------\u001b[0m",
      "\u001b[1;31mTypeError\u001b[0m                                 Traceback (most recent call last)",
      "\u001b[1;32m<ipython-input-258-d44879b954b4>\u001b[0m in \u001b[0;36m<module>\u001b[1;34m\u001b[0m\n\u001b[1;32m----> 1\u001b[1;33m \u001b[0mdict\u001b[0m\u001b[1;33m(\u001b[0m\u001b[0msorted\u001b[0m\u001b[1;33m(\u001b[0m\u001b[0mx\u001b[0m\u001b[1;33m.\u001b[0m\u001b[0mitems\u001b[0m\u001b[1;33m(\u001b[0m\u001b[1;33m)\u001b[0m\u001b[1;33m,\u001b[0m \u001b[0mkey\u001b[0m\u001b[1;33m=\u001b[0m\u001b[1;32mlambda\u001b[0m \u001b[0mitem\u001b[0m\u001b[1;33m:\u001b[0m \u001b[0mitem\u001b[0m\u001b[1;33m[\u001b[0m\u001b[1;36m1\u001b[0m\u001b[1;33m]\u001b[0m\u001b[1;33m)\u001b[0m\u001b[1;33m)\u001b[0m\u001b[1;33m\u001b[0m\u001b[1;33m\u001b[0m\u001b[0m\n\u001b[0m\u001b[0;32m      2\u001b[0m \u001b[1;33m{\u001b[0m\u001b[1;36m0\u001b[0m\u001b[1;33m:\u001b[0m \u001b[1;36m0\u001b[0m\u001b[1;33m,\u001b[0m \u001b[1;36m2\u001b[0m\u001b[1;33m:\u001b[0m \u001b[1;36m1\u001b[0m\u001b[1;33m,\u001b[0m \u001b[1;36m1\u001b[0m\u001b[1;33m:\u001b[0m \u001b[1;36m2\u001b[0m\u001b[1;33m,\u001b[0m \u001b[1;36m4\u001b[0m\u001b[1;33m:\u001b[0m \u001b[1;36m3\u001b[0m\u001b[1;33m,\u001b[0m \u001b[1;36m3\u001b[0m\u001b[1;33m:\u001b[0m \u001b[1;36m4\u001b[0m\u001b[1;33m}\u001b[0m\u001b[1;33m\u001b[0m\u001b[1;33m\u001b[0m\u001b[0m\n",
      "\u001b[1;31mTypeError\u001b[0m: 'dict' object is not callable"
     ]
    }
   ],
   "source": [
    "dict(sorted(x.items(), key=lambda item: item[1]))\n",
    "{0: 0, 2: 1, 1: 2, 4: 3, 3: 4}"
   ]
  }
 ],
 "metadata": {
  "kernelspec": {
   "display_name": "Python 3",
   "language": "python",
   "name": "python3"
  },
  "language_info": {
   "codemirror_mode": {
    "name": "ipython",
    "version": 3
   },
   "file_extension": ".py",
   "mimetype": "text/x-python",
   "name": "python",
   "nbconvert_exporter": "python",
   "pygments_lexer": "ipython3",
   "version": "3.8.5"
  },
  "toc": {
   "base_numbering": 1,
   "nav_menu": {},
   "number_sections": true,
   "sideBar": true,
   "skip_h1_title": false,
   "title_cell": "Table of Contents",
   "title_sidebar": "Contents",
   "toc_cell": false,
   "toc_position": {},
   "toc_section_display": true,
   "toc_window_display": false
  }
 },
 "nbformat": 4,
 "nbformat_minor": 4
}
