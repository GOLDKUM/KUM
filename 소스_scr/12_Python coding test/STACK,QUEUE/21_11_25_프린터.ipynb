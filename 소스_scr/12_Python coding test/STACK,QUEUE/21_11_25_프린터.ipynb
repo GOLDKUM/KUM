{
 "cells": [
  {
   "cell_type": "markdown",
   "metadata": {},
   "source": [
    "#문제 설명\n",
    "일반적인 프린터는 인쇄 요청이 들어온 순서대로 인쇄합니다. 그렇기 때문에 중요한 문서가 나중에 인쇄될 수 있습니다. 이런 문제를 보완하기 위해 중요도가 높은 문서를 먼저 인쇄하는 프린터를 개발했습니다. 이 새롭게 개발한 프린터는 아래와 같은 방식으로 인쇄 작업을 수행합니다.\n",
    "\n",
    "1. 인쇄 대기목록의 가장 앞에 있는 문서(J)를 대기목록에서 꺼냅니다.\n",
    "2. 나머지 인쇄 대기목록에서 J보다 중요도가 높은 문서가 한 개라도 존재하면 J를 대기목록의 가장 마지막에 넣습니다.\n",
    "3. 그렇지 않으면 J를 인쇄합니다.\n",
    "예를 들어, 4개의 문서(A, B, C, D)가 순서대로 인쇄 대기목록에 있고 중요도가 2 1 3 2 라면 C D A B 순으로 인쇄하게 됩니다.\n",
    "\n",
    "내가 인쇄를 요청한 문서가 몇 번째로 인쇄되는지 알고 싶습니다. 위의 예에서 C는 1번째로, A는 3번째로 인쇄됩니다.\n",
    "\n",
    "현재 대기목록에 있는 문서의 중요도가 순서대로 담긴 배열 priorities와 내가 인쇄를 요청한 문서가 현재 대기목록의 어떤 위치에 있는지를 알려주는 location이 매개변수로 주어질 때, 내가 인쇄를 요청한 문서가 몇 번째로 인쇄되는지 return 하도록 solution 함수를 작성해주세요.\n",
    "\n",
    "제한사항\n",
    "현재 대기목록에는 1개 이상 100개 이하의 문서가 있습니다.\n",
    "인쇄 작업의 중요도는 1~9로 표현하며 숫자가 클수록 중요하다는 뜻입니다.\n",
    "location은 0 이상 (현재 대기목록에 있는 작업 수 - 1) 이하의 값을 가지며 대기목록의 가장 앞에 있으면 0, 두 번째에 있으면 1로 표현합니다.\n",
    "입출력 예\n",
    "priorities\t    location\treturn\n",
    "[2, 1, 3, 2]\t    2\t    1\n",
    "[1, 1, 9, 1, 1, 1]\t0\t    5\n",
    "입출력 예 설명\n",
    "예제 #1\n",
    "\n",
    "문제에 나온 예와 같습니다.\n",
    "\n",
    "예제 #2\n",
    "\n",
    "6개의 문서(A, B, C, D, E, F)가 인쇄 대기목록에 있고 중요도가 1 1 9 1 1 1 이므로 C D E F A B 순으로 인쇄합니다.\n",
    "\n",
    "출처"
   ]
  },
  {
   "cell_type": "code",
   "execution_count": 2,
   "metadata": {
    "ExecuteTime": {
     "end_time": "2021-11-25T10:25:33.414098Z",
     "start_time": "2021-11-25T10:25:33.403128Z"
    }
   },
   "outputs": [],
   "source": [
    "def solution(priorities, location):\n",
    "    queue =  [(i,p) for i,p in enumerate(priorities)]\n",
    "    answer = 0\n",
    "    while True:\n",
    "        cur = queue.pop(0)\n",
    "        if any(cur[1] < q[1] for q in queue):\n",
    "            queue.append(cur)\n",
    "        else:\n",
    "            answer += 1\n",
    "            if cur[0] == location:\n",
    "                return answer"
   ]
  },
  {
   "cell_type": "code",
   "execution_count": 3,
   "metadata": {
    "ExecuteTime": {
     "end_time": "2021-11-25T10:25:33.632612Z",
     "start_time": "2021-11-25T10:25:33.613663Z"
    }
   },
   "outputs": [
    {
     "data": {
      "text/plain": [
       "5"
      ]
     },
     "execution_count": 3,
     "metadata": {},
     "output_type": "execute_result"
    }
   ],
   "source": [
    "solution([1, 1, 9, 1, 1, 1],0)"
   ]
  },
  {
   "cell_type": "markdown",
   "metadata": {},
   "source": [
    "# sort 함수"
   ]
  },
  {
   "cell_type": "code",
   "execution_count": 4,
   "metadata": {
    "ExecuteTime": {
     "end_time": "2021-11-25T10:25:34.274069Z",
     "start_time": "2021-11-25T10:25:34.256152Z"
    },
    "scrolled": true
   },
   "outputs": [
    {
     "ename": "NameError",
     "evalue": "name 'tuple_list' is not defined",
     "output_type": "error",
     "traceback": [
      "\u001b[1;31m---------------------------------------------------------------------------\u001b[0m",
      "\u001b[1;31mNameError\u001b[0m                                 Traceback (most recent call last)",
      "\u001b[1;32m<ipython-input-4-8d3c27a7d5eb>\u001b[0m in \u001b[0;36m<module>\u001b[1;34m\u001b[0m\n\u001b[0;32m      5\u001b[0m             ('niceday',5)]\n\u001b[0;32m      6\u001b[0m \u001b[1;33m\u001b[0m\u001b[0m\n\u001b[1;32m----> 7\u001b[1;33m \u001b[0mtuple_list\u001b[0m\u001b[1;33m.\u001b[0m\u001b[0msort\u001b[0m\u001b[1;33m(\u001b[0m\u001b[0mkey\u001b[0m\u001b[1;33m=\u001b[0m\u001b[1;32mlambda\u001b[0m \u001b[0mx\u001b[0m \u001b[1;33m:\u001b[0m \u001b[1;33m(\u001b[0m\u001b[0mx\u001b[0m\u001b[1;33m[\u001b[0m\u001b[1;36m0\u001b[0m\u001b[1;33m]\u001b[0m\u001b[1;33m,\u001b[0m \u001b[0mx\u001b[0m\u001b[1;33m[\u001b[0m\u001b[1;36m1\u001b[0m\u001b[1;33m]\u001b[0m\u001b[1;33m)\u001b[0m\u001b[1;33m,\u001b[0m\u001b[0mreverse\u001b[0m\u001b[1;33m=\u001b[0m\u001b[1;32mTrue\u001b[0m\u001b[1;33m)\u001b[0m  \u001b[1;31m# '-'부호를 이용해서 역순으로 가능\u001b[0m\u001b[1;33m\u001b[0m\u001b[1;33m\u001b[0m\u001b[0m\n\u001b[0m\u001b[0;32m      8\u001b[0m \u001b[0mprint\u001b[0m\u001b[1;33m(\u001b[0m\u001b[0mtuple_list\u001b[0m\u001b[1;33m)\u001b[0m\u001b[1;33m\u001b[0m\u001b[1;33m\u001b[0m\u001b[0m\n",
      "\u001b[1;31mNameError\u001b[0m: name 'tuple_list' is not defined"
     ]
    }
   ],
   "source": [
    "tuple_list1 = [('좋은하루', 0),\n",
    "            ('niceday', 1), \n",
    "            ('좋은하루', 5), \n",
    "            ('good_morning', 3), \n",
    "            ('niceday',5)]\n",
    "                  \n",
    "tuple_list.sort(key=lambda x : (x[0], x[1]),reverse=True)  # '-'부호를 이용해서 역순으로 가능\n",
    "print(tuple_list)"
   ]
  },
  {
   "cell_type": "code",
   "execution_count": 5,
   "metadata": {
    "ExecuteTime": {
     "end_time": "2021-11-25T10:25:34.460956Z",
     "start_time": "2021-11-25T10:25:34.448989Z"
    }
   },
   "outputs": [
    {
     "ename": "SyntaxError",
     "evalue": "invalid syntax (<ipython-input-5-a7c1f35392ed>, line 1)",
     "output_type": "error",
     "traceback": [
      "\u001b[1;36m  File \u001b[1;32m\"<ipython-input-5-a7c1f35392ed>\"\u001b[1;36m, line \u001b[1;32m1\u001b[0m\n\u001b[1;33m    [1, 1, 9, 1, 1, 1]\t0\t5\u001b[0m\n\u001b[1;37m                      \t^\u001b[0m\n\u001b[1;31mSyntaxError\u001b[0m\u001b[1;31m:\u001b[0m invalid syntax\n"
     ]
    }
   ],
   "source": [
    "[1, 1, 9, 1, 1, 1]\t0\t5"
   ]
  },
  {
   "cell_type": "markdown",
   "metadata": {},
   "source": [
    "# find, index 함수"
   ]
  },
  {
   "cell_type": "code",
   "execution_count": 6,
   "metadata": {
    "ExecuteTime": {
     "end_time": "2021-11-25T10:25:34.851630Z",
     "start_time": "2021-11-25T10:25:34.836636Z"
    }
   },
   "outputs": [
    {
     "data": {
      "text/plain": [
       "-1"
      ]
     },
     "execution_count": 6,
     "metadata": {},
     "output_type": "execute_result"
    }
   ],
   "source": [
    "# 문자열중 2번째 위치부터 처음 'x'가 위치한 자리\n",
    "'oxoxoxoxox'.index('x', 2)\n",
    "\n",
    "# a변수에서 1번째~3번째 사이에 문자 'o'가 위치한 자리\n",
    "a = 'hello'\n",
    "a.find('o', 1, 3)\n",
    "# find함수는 찾는 값이 없을 때 -1을 출력한다."
   ]
  },
  {
   "cell_type": "markdown",
   "metadata": {},
   "source": [
    "# remove, pop, del, clear "
   ]
  },
  {
   "cell_type": "code",
   "execution_count": 7,
   "metadata": {
    "ExecuteTime": {
     "end_time": "2021-11-25T10:25:35.210992Z",
     "start_time": "2021-11-25T10:25:35.190013Z"
    }
   },
   "outputs": [
    {
     "name": "stdout",
     "output_type": "stream",
     "text": [
      "[4, 6, 2, 3, 4, 8, 2]\n"
     ]
    }
   ],
   "source": [
    "#remove 삭제하려는 인덱스가 아닌 직접입력 하는 함수 \n",
    "x=[2,4,6,2,3,4,8,2]\n",
    "x.remove(2)\n",
    "print(x)"
   ]
  },
  {
   "cell_type": "code",
   "execution_count": 8,
   "metadata": {
    "ExecuteTime": {
     "end_time": "2021-11-25T10:25:35.381367Z",
     "start_time": "2021-11-25T10:25:35.370400Z"
    }
   },
   "outputs": [],
   "source": [
    "#del del은 함수가 아니고 예약어이기 떄문에 함수와 함께 사용 불가능 \n",
    "x=[2,4,6,2,3,4,8,2]\n",
    "#인덱스를 받아서 삭제합니다.\n",
    "del x[0]"
   ]
  },
  {
   "cell_type": "code",
   "execution_count": 9,
   "metadata": {
    "ExecuteTime": {
     "end_time": "2021-11-25T10:25:35.568869Z",
     "start_time": "2021-11-25T10:25:35.550918Z"
    }
   },
   "outputs": [],
   "source": [
    "#python pop함수는 del명령어와 비슷한 방식으로 리스ㅌ의 인덱스를 받아서 삭제\n",
    "x=[2,4,6,2,3,4,8,2] \n",
    "pop_X=x.pop(2) #삭제후 값을 반환을 함"
   ]
  },
  {
   "cell_type": "code",
   "execution_count": 10,
   "metadata": {
    "ExecuteTime": {
     "end_time": "2021-11-25T10:25:35.739515Z",
     "start_time": "2021-11-25T10:25:35.734529Z"
    }
   },
   "outputs": [],
   "source": [
    "#clear 모두삭제\n",
    "b=[1,2,3]\n",
    "b.clear()"
   ]
  },
  {
   "cell_type": "markdown",
   "metadata": {},
   "source": [
    "# any, all"
   ]
  },
  {
   "cell_type": "code",
   "execution_count": 11,
   "metadata": {
    "ExecuteTime": {
     "end_time": "2021-11-25T10:25:36.082954Z",
     "start_time": "2021-11-25T10:25:36.066958Z"
    },
    "scrolled": true
   },
   "outputs": [
    {
     "name": "stdout",
     "output_type": "stream",
     "text": [
      "any([1,2,3,4,5]) : True\n",
      "any([1,2,0,4,5]) : True\n",
      "any([]) : False\n",
      "any('BlockDMask') : True\n",
      "any('') : False\n",
      "any(('b', 3, 'a')) : True\n",
      "any(('b', 2, 0, 'd')) : True\n",
      "any(('a', '', 2, 3)) : True\n",
      "any(()) : False\n"
     ]
    }
   ],
   "source": [
    "#파이썬 any 함수 예제들\n",
    " \n",
    "# 리스트\n",
    "a = [1,2,3,4,5]\n",
    "result = any(a)\n",
    "print(f'any([1,2,3,4,5]) : {result}')\n",
    " \n",
    " \n",
    "# 리스트 요소에 0 -> False 이 있는 경우\n",
    "b = [1,2,0,4,5]\n",
    "print(f'any([1,2,0,4,5]) : {any(b)}')\n",
    " \n",
    " \n",
    "# 리스트가 비어있는 경우\n",
    "c = []\n",
    "print(f'any([]) : {any(c)}')\n",
    " \n",
    " \n",
    "# 문자열\n",
    "d = 'BlockDMask'\n",
    "print(f'any(\\'BlockDMask\\') : {any(d)}')\n",
    " \n",
    " \n",
    "# 비어있는 문자열\n",
    "e = ''\n",
    "print(f'any(\\'\\') : {any(e)}')\n",
    " \n",
    " \n",
    "# 튜플\n",
    "f = ('b', 3, 'a')\n",
    "print(f\"any(('b', 3, 'a')) : {any(f)}\")\n",
    " \n",
    "# 0이 있는 튜플\n",
    "g = ('b', 2, 0, 'd')\n",
    "print(f\"any(('b', 2, 0, 'd')) : {any(g)}\")\n",
    " \n",
    "# 빈 문자열이 있는 튜플\n",
    "h = ('a', '', 2, 3)\n",
    "print(f\"any(('a', '', 2, 3)) : {any(h)}\")\n",
    " \n",
    "# 비어있는 튜플\n",
    "i = ()\n",
    "print(f\"any(()) : {any(i)}\")\n",
    "\n",
    "\n"
   ]
  },
  {
   "cell_type": "code",
   "execution_count": 12,
   "metadata": {
    "ExecuteTime": {
     "end_time": "2021-11-25T10:25:36.238779Z",
     "start_time": "2021-11-25T10:25:36.224816Z"
    }
   },
   "outputs": [
    {
     "name": "stdout",
     "output_type": "stream",
     "text": [
      "all([1,2,3,4,5]) : True\n",
      "all([1,2,0,4,5]) : False\n",
      "all([]) : True\n",
      "all('BlockDMask') : True\n",
      "all('') : True\n",
      "all(('b', 3, 'a')) : True\n",
      "all(('b', 2, 0, 'd')) : False\n",
      "all(('a', '', 2, 3)) : False\n",
      "all(()) : True\n"
     ]
    }
   ],
   "source": [
    "# 파이썬 all 함수 예제들\n",
    " \n",
    "# 리스트\n",
    "a = [1,2,3,4,5]\n",
    "result = all(a)\n",
    "print(f'all([1,2,3,4,5]) : {result}')\n",
    " \n",
    " \n",
    "# 리스트 요소에 0 -> False 이 있는 경우\n",
    "b = [1,2,0,4,5]\n",
    "print(f'all([1,2,0,4,5]) : {all(b)}')\n",
    " \n",
    " \n",
    "# 리스트가 비어있는 경우\n",
    "c = []\n",
    "print(f'all([]) : {all(c)}')\n",
    " \n",
    " \n",
    "# 문자열\n",
    "d = 'BlockDMask'\n",
    "print(f'all(\\'BlockDMask\\') : {all(d)}')\n",
    " \n",
    " \n",
    "# 비어있는 문자열\n",
    "e = ''\n",
    "print(f'all(\\'\\') : {all(e)}')\n",
    " \n",
    " \n",
    "# 튜플\n",
    "f = ('b', 3, 'a')\n",
    "print(f\"all(('b', 3, 'a')) : {all(f)}\")\n",
    " \n",
    "# 0이 있는 튜플\n",
    "g = ('b', 2, 0, 'd')\n",
    "print(f\"all(('b', 2, 0, 'd')) : {all(g)}\")\n",
    " \n",
    "# 빈 문자열이 있는 튜플\n",
    "h = ('a', '', 2, 3)\n",
    "print(f\"all(('a', '', 2, 3)) : {all(h)}\")\n",
    " \n",
    "# 비어있는 튜플\n",
    "i = ()\n",
    "print(f\"all(()) : {all(i)}\")"
   ]
  }
 ],
 "metadata": {
  "kernelspec": {
   "display_name": "Python 3",
   "language": "python",
   "name": "python3"
  },
  "language_info": {
   "codemirror_mode": {
    "name": "ipython",
    "version": 3
   },
   "file_extension": ".py",
   "mimetype": "text/x-python",
   "name": "python",
   "nbconvert_exporter": "python",
   "pygments_lexer": "ipython3",
   "version": "3.8.5"
  },
  "toc": {
   "base_numbering": 1,
   "nav_menu": {},
   "number_sections": true,
   "sideBar": true,
   "skip_h1_title": false,
   "title_cell": "Table of Contents",
   "title_sidebar": "Contents",
   "toc_cell": false,
   "toc_position": {},
   "toc_section_display": true,
   "toc_window_display": false
  }
 },
 "nbformat": 4,
 "nbformat_minor": 4
}
