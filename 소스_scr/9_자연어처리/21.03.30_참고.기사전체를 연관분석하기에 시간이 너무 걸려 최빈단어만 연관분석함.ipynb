{
 "cells": [
  {
   "cell_type": "markdown",
   "metadata": {},
   "source": [
    "# 정치 뉴스를 연관분석 돌리면 너무 시간이 걸려서 최빈 단어만 뽑아 연관분석함"
   ]
  },
  {
   "cell_type": "code",
   "execution_count": 1,
   "metadata": {},
   "outputs": [],
   "source": [
    "import requests\n",
    "from bs4 import BeautifulSoup\n",
    "rss_url = 'https://rss.joins.com/joins_politics_list.xml'\n",
    "# rss_url = 'https://rss.joins.com/joins_star_list.xml'\n",
    "money_response = requests.get(rss_url)\n",
    "money_soup = BeautifulSoup(money_response.content, \"xml\")\n",
    "link_list = money_soup.select(\"item > link\")\n",
    "link_list = [l.text for l in link_list]\n",
    "# link_list"
   ]
  },
  {
   "cell_type": "code",
   "execution_count": null,
   "metadata": {},
   "outputs": [],
   "source": [
    "from konlpy.tag import Kkma\n",
    "kkma = Kkma()\n",
    "res = requests.get('https://news.joins.com/article/24029441?cloc=rss-news-politics')\n",
    "sou = BeautifulSoup(res.content, \"html.parser\")\n",
    "article = sou.select_one('div#article_body').text\n",
    "tagged_text = kkma.pos(article, 56)\n",
    "nouns_list = [t[0] for t in tagged_text if ((t[1]=='NNG') | (t[1]=='NNP')) & (len(t[0])>1) & (t[0]!='기자')]\n",
    "print(nouns_list[:10])"
   ]
  },
  {
   "cell_type": "code",
   "execution_count": null,
   "metadata": {},
   "outputs": [],
   "source": [
    "from konlpy.tag import Kkma\n",
    "kkma = Kkma()\n",
    "news = []\n",
    "for link in link_list:\n",
    "    news_response = requests.get(link)\n",
    "    news_soup = BeautifulSoup(news_response.content, \"html.parser\")\n",
    "    element = news_soup.select_one('div#article_body')\n",
    "    # 두가지 type이 있어서 나눔\n",
    "    if element :\n",
    "        article = element.text\n",
    "    else:\n",
    "        article = news_soup.select_one('p#leadCaption').text\n",
    "        print(link, False)\n",
    "    tagged_text = kkma.pos(article, 56)\n",
    "    nouns_list = [t[0] for t in tagged_text if (t[1]=='NNG') & (len(t[0])>1) & (t[0]!='기자')] # 일반 명사만 추출\n",
    "#     nouns_list = [t[0] for t in tagged_text if (t[1]=='NNP') & (len(t[0])>1) & (t[0]!='기자')] 고유명사만\n",
    "    if len(nouns_list)>0 :\n",
    "        news.append(nouns_list)\n",
    "len(news)"
   ]
  },
  {
   "cell_type": "code",
   "execution_count": null,
   "metadata": {},
   "outputs": [],
   "source": [
    "temp = []\n",
    "for news_item in news:\n",
    "    temp.append(' '.join(news_item))\n",
    "    word_list = ' '.join(temp)\n",
    "len(word_list), len(set(word_list))"
   ]
  },
  {
   "cell_type": "code",
   "execution_count": null,
   "metadata": {},
   "outputs": [],
   "source": [
    "import pandas as pd\n",
    "\n",
    "wordcount = pd.Series(dtype=np.int64)\n",
    "words = word_list.split()\n",
    "for word in words:\n",
    "    if word in wordcount:\n",
    "        wordcount[word] += 1\n",
    "    else:\n",
    "        wordcount[word] = 1\n",
    "wordcount.sort_values(ascending=False, inplace=True)\n",
    "freq_word = list(wordcount.head(10).index)\n",
    "print(freq_word)"
   ]
  },
  {
   "cell_type": "code",
   "execution_count": null,
   "metadata": {},
   "outputs": [],
   "source": [
    "temp = []\n",
    "for news_item in news:\n",
    "    t = [word for word in freq_word if word in news_item]\n",
    "    if len(t)> 0:\n",
    "        temp.append(t)\n",
    "temp"
   ]
  },
  {
   "cell_type": "code",
   "execution_count": null,
   "metadata": {},
   "outputs": [],
   "source": [
    "from apyori import apriori\n",
    "rules = apriori(temp, minsupport=0.3, min_confience=0.2)\n",
    "result = list(rules)"
   ]
  },
  {
   "cell_type": "code",
   "execution_count": null,
   "metadata": {},
   "outputs": [],
   "source": [
    "for r in result:\n",
    "    print(r, end=\"\\m\\m\")"
   ]
  },
  {
   "cell_type": "code",
   "execution_count": null,
   "metadata": {},
   "outputs": [],
   "source": [
    "! jupyter notebook --NotebookApp.iopub_data_rate_limit=1.0e10"
   ]
  },
  {
   "cell_type": "code",
   "execution_count": null,
   "metadata": {},
   "outputs": [],
   "source": [
    "for r in result:\n",
    "    print(r, end=\"\\m\\m\")"
   ]
  },
  {
   "cell_type": "code",
   "execution_count": null,
   "metadata": {},
   "outputs": [],
   "source": [
    "result[0]"
   ]
  },
  {
   "cell_type": "code",
   "execution_count": null,
   "metadata": {},
   "outputs": [],
   "source": [
    "result[100]"
   ]
  },
  {
   "cell_type": "code",
   "execution_count": null,
   "metadata": {},
   "outputs": [],
   "source": [
    "import pandas as pd\n",
    "result_df =  pd.DataFrame(None, \n",
    "                    columns=['lhs','rhs','support','confidence','lift'])\n",
    "index = 0\n",
    "for row in result:\n",
    "    support = row[1]\n",
    "    ordered_st = row[2]\n",
    "    for item in ordered_st:\n",
    "        lhs = ','.join(x for x in item[0])\n",
    "        rhs = ','.join(x.strip() for x in item[1])\n",
    "        confidence = item[2]\n",
    "        lift = item[3]\n",
    "        if lift > 1:\n",
    "            result_df.loc[index]=[lhs, rhs, support, confidence, lift]\n",
    "            index += 1\n",
    "result_df"
   ]
  },
  {
   "cell_type": "code",
   "execution_count": null,
   "metadata": {},
   "outputs": [],
   "source": []
  }
 ],
 "metadata": {
  "kernelspec": {
   "display_name": "Python 3",
   "language": "python",
   "name": "python3"
  },
  "language_info": {
   "codemirror_mode": {
    "name": "ipython",
    "version": 3
   },
   "file_extension": ".py",
   "mimetype": "text/x-python",
   "name": "python",
   "nbconvert_exporter": "python",
   "pygments_lexer": "ipython3",
   "version": "3.8.5"
  },
  "toc": {
   "base_numbering": 1,
   "nav_menu": {},
   "number_sections": false,
   "sideBar": true,
   "skip_h1_title": false,
   "title_cell": "Table of Contents",
   "title_sidebar": "Contents",
   "toc_cell": false,
   "toc_position": {},
   "toc_section_display": true,
   "toc_window_display": false
  },
  "varInspector": {
   "cols": {
    "lenName": 16,
    "lenType": 16,
    "lenVar": 40
   },
   "kernels_config": {
    "python": {
     "delete_cmd_postfix": "",
     "delete_cmd_prefix": "del ",
     "library": "var_list.py",
     "varRefreshCmd": "print(var_dic_list())"
    },
    "r": {
     "delete_cmd_postfix": ") ",
     "delete_cmd_prefix": "rm(",
     "library": "var_list.r",
     "varRefreshCmd": "cat(var_dic_list()) "
    }
   },
   "types_to_exclude": [
    "module",
    "function",
    "builtin_function_or_method",
    "instance",
    "_Feature"
   ],
   "window_display": false
  }
 },
 "nbformat": 4,
 "nbformat_minor": 4
}
