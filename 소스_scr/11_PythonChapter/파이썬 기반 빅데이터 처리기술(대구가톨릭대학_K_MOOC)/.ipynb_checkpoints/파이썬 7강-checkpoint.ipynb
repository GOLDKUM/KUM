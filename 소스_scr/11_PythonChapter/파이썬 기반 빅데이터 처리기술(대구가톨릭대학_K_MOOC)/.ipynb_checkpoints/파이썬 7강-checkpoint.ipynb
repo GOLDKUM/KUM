{
 "cells": [
  {
   "cell_type": "markdown",
   "metadata": {},
   "source": [
    "# 파이썬 7강 - 문자열 기본"
   ]
  },
  {
   "cell_type": "code",
   "execution_count": 3,
   "metadata": {
    "ExecuteTime": {
     "end_time": "2021-11-09T03:31:34.705679Z",
     "start_time": "2021-11-09T03:31:34.695708Z"
    }
   },
   "outputs": [
    {
     "data": {
      "text/plain": [
       "str"
      ]
     },
     "execution_count": 3,
     "metadata": {},
     "output_type": "execute_result"
    }
   ],
   "source": [
    "type(32)\n",
    "type(\"Hello World...!\")"
   ]
  },
  {
   "cell_type": "code",
   "execution_count": 6,
   "metadata": {
    "ExecuteTime": {
     "end_time": "2021-11-09T03:32:38.716088Z",
     "start_time": "2021-11-09T03:32:38.696145Z"
    }
   },
   "outputs": [
    {
     "data": {
      "text/plain": [
       "\"'안녕하세요'라고 말했습니다\""
      ]
     },
     "execution_count": 6,
     "metadata": {},
     "output_type": "execute_result"
    }
   ],
   "source": [
    "\"안녕하세요\"\n",
    "'안녕하세요'\n",
    "#\"\"안에 ''표 넣기 `\n",
    "\"'안녕하세요'라고 말했습니다\""
   ]
  },
  {
   "cell_type": "markdown",
   "metadata": {},
   "source": [
    "# 이스케이프 문자\n",
    "## 이스케이프 시퀀스를 따르는 문자들로서 다음 문자가 특수 문자임을 알리는 백슬래시(\\)를 사용"
   ]
  },
  {
   "cell_type": "code",
   "execution_count": 19,
   "metadata": {
    "ExecuteTime": {
     "end_time": "2021-11-09T03:40:23.254436Z",
     "start_time": "2021-11-09T03:40:23.250443Z"
    }
   },
   "outputs": [],
   "source": [
    "# \\n 개행 (줄바꿈)\n",
    "# \\v 수직 탭\n",
    "# \\t 수평 탭\n",
    "# \\r 캐리지 리턴\n",
    "# \\f 폼 피드\n",
    "# \\a 벨 소리\n",
    "# \\b 백 스페이스\n",
    "# \\000 널문자\n",
    "# \\\\ 문자 \"\\\"\n",
    "# \\' 단일 인용부호(')\n",
    "# \\\" 이중 인용부호(\") "
   ]
  },
  {
   "cell_type": "code",
   "execution_count": 7,
   "metadata": {
    "ExecuteTime": {
     "end_time": "2021-11-09T03:35:51.136341Z",
     "start_time": "2021-11-09T03:35:51.124376Z"
    }
   },
   "outputs": [
    {
     "data": {
      "text/plain": [
       "'\"안녕하세요\" 라고 말했습니다.'"
      ]
     },
     "execution_count": 7,
     "metadata": {},
     "output_type": "execute_result"
    }
   ],
   "source": [
    "\"\\\"안녕하세요\\\" 라고 말했습니다.\""
   ]
  },
  {
   "cell_type": "code",
   "execution_count": 17,
   "metadata": {
    "ExecuteTime": {
     "end_time": "2021-11-09T03:38:20.576100Z",
     "start_time": "2021-11-09T03:38:20.562100Z"
    }
   },
   "outputs": [
    {
     "name": "stdout",
     "output_type": "stream",
     "text": [
      "안녕하세요\n",
      "안녕하세요 \b 안녕하세요\t 안녕하세요\n"
     ]
    }
   ],
   "source": [
    "print(\"안녕하세요\\n안녕하세요 \\b 안녕하세요\\t 안녕하세요\")"
   ]
  },
  {
   "cell_type": "markdown",
   "metadata": {
    "ExecuteTime": {
     "end_time": "2021-11-09T03:41:20.009979Z",
     "start_time": "2021-11-09T03:41:19.991031Z"
    }
   },
   "source": [
    "# 문자열 연산자 "
   ]
  },
  {
   "cell_type": "code",
   "execution_count": 26,
   "metadata": {
    "ExecuteTime": {
     "end_time": "2021-11-09T03:42:52.437580Z",
     "start_time": "2021-11-09T03:42:52.427609Z"
    }
   },
   "outputs": [
    {
     "name": "stdout",
     "output_type": "stream",
     "text": [
      "안녕하세요안녕하세요\n",
      "안녕하세요안녕하세요안녕하세요\n"
     ]
    }
   ],
   "source": [
    "print(\"안녕하세요\"+\"안녕하세요\")\n",
    "print(\"안녕하세요\"*3)"
   ]
  },
  {
   "cell_type": "code",
   "execution_count": null,
   "metadata": {},
   "outputs": [],
   "source": []
  }
 ],
 "metadata": {
  "kernelspec": {
   "display_name": "Python 3",
   "language": "python",
   "name": "python3"
  },
  "language_info": {
   "codemirror_mode": {
    "name": "ipython",
    "version": 3
   },
   "file_extension": ".py",
   "mimetype": "text/x-python",
   "name": "python",
   "nbconvert_exporter": "python",
   "pygments_lexer": "ipython3",
   "version": "3.8.5"
  },
  "toc": {
   "base_numbering": 1,
   "nav_menu": {},
   "number_sections": true,
   "sideBar": true,
   "skip_h1_title": false,
   "title_cell": "Table of Contents",
   "title_sidebar": "Contents",
   "toc_cell": false,
   "toc_position": {
    "height": "calc(100% - 180px)",
    "left": "10px",
    "top": "150px",
    "width": "273.333px"
   },
   "toc_section_display": true,
   "toc_window_display": true
  }
 },
 "nbformat": 4,
 "nbformat_minor": 4
}
