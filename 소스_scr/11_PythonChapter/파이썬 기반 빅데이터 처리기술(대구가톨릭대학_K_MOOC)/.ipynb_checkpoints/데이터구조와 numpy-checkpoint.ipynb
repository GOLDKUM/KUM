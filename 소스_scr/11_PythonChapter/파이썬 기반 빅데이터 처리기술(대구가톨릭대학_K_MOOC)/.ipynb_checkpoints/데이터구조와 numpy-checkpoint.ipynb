{
 "cells": [
  {
   "cell_type": "code",
   "execution_count": 2,
   "metadata": {
    "ExecuteTime": {
     "end_time": "2021-11-12T06:03:55.251647Z",
     "start_time": "2021-11-12T06:03:50.265011Z"
    }
   },
   "outputs": [],
   "source": [
    "import numpy as np"
   ]
  },
  {
   "cell_type": "code",
   "execution_count": 6,
   "metadata": {
    "ExecuteTime": {
     "end_time": "2021-11-12T06:07:07.362940Z",
     "start_time": "2021-11-12T06:07:07.348977Z"
    }
   },
   "outputs": [
    {
     "name": "stdout",
     "output_type": "stream",
     "text": [
      "[1, 2, 3, 4, 5] [6, 5, 4, 3, 2, 1]\n",
      "[1. 2. 3. 4. 5.]\n",
      "[[1 2 3]\n",
      " [2 3 4]\n",
      " [3 4 5]\n",
      " [4 5 6]\n",
      " [5 6 7]]\n"
     ]
    }
   ],
   "source": [
    "data1= [1,2,3,4,5]\n",
    "data2= [6,5,4,3,2,1]\n",
    "print(data1,data2)\n",
    "\n",
    "ar2=np.array(data1,dtype='float32')\n",
    "print(ar2)\n",
    "ar3=np.array([range(i,i+3) for i in data1])\n",
    "print(ar3)"
   ]
  },
  {
   "cell_type": "markdown",
   "metadata": {},
   "source": [
    "# 다차원 배열 구성 full함수"
   ]
  },
  {
   "cell_type": "code",
   "execution_count": 7,
   "metadata": {
    "ExecuteTime": {
     "end_time": "2021-11-12T06:08:47.765803Z",
     "start_time": "2021-11-12T06:08:47.748849Z"
    }
   },
   "outputs": [
    {
     "name": "stdout",
     "output_type": "stream",
     "text": [
      "[[3.14 3.14 3.14 3.14 3.14]\n",
      " [3.14 3.14 3.14 3.14 3.14]\n",
      " [3.14 3.14 3.14 3.14 3.14]]\n"
     ]
    }
   ],
   "source": [
    "ar4 = np.full((3,5),3.14)\n",
    "print(ar4)"
   ]
  },
  {
   "cell_type": "code",
   "execution_count": 8,
   "metadata": {
    "ExecuteTime": {
     "end_time": "2021-11-12T07:02:11.773503Z",
     "start_time": "2021-11-12T07:02:11.752561Z"
    }
   },
   "outputs": [
    {
     "data": {
      "text/plain": [
       "array([ 0,  2,  4,  6,  8, 10, 12, 14, 16, 18])"
      ]
     },
     "execution_count": 8,
     "metadata": {},
     "output_type": "execute_result"
    }
   ],
   "source": [
    "ar5=np.arange(0,20,2)\n",
    "ar5"
   ]
  },
  {
   "cell_type": "markdown",
   "metadata": {},
   "source": [
    "# 배열 구성 \n"
   ]
  },
  {
   "cell_type": "code",
   "execution_count": 9,
   "metadata": {
    "ExecuteTime": {
     "end_time": "2021-11-12T07:02:42.002512Z",
     "start_time": "2021-11-12T07:02:41.986522Z"
    }
   },
   "outputs": [],
   "source": [
    "#linspace 함수"
   ]
  },
  {
   "cell_type": "code",
   "execution_count": 10,
   "metadata": {
    "ExecuteTime": {
     "end_time": "2021-11-12T07:02:56.725570Z",
     "start_time": "2021-11-12T07:02:56.711610Z"
    }
   },
   "outputs": [
    {
     "data": {
      "text/plain": [
       "array([0. , 0.5, 1. ])"
      ]
     },
     "execution_count": 10,
     "metadata": {},
     "output_type": "execute_result"
    }
   ],
   "source": [
    "ar6=np.linspace(0,1,3)\n",
    "ar6"
   ]
  },
  {
   "cell_type": "markdown",
   "metadata": {},
   "source": [
    "# 무작위 값의 배열 구성"
   ]
  },
  {
   "cell_type": "code",
   "execution_count": 11,
   "metadata": {
    "ExecuteTime": {
     "end_time": "2021-11-12T07:03:28.466918Z",
     "start_time": "2021-11-12T07:03:28.457941Z"
    }
   },
   "outputs": [],
   "source": [
    "#random함수"
   ]
  },
  {
   "cell_type": "code",
   "execution_count": 13,
   "metadata": {
    "ExecuteTime": {
     "end_time": "2021-11-12T07:03:51.705233Z",
     "start_time": "2021-11-12T07:03:51.687281Z"
    }
   },
   "outputs": [
    {
     "data": {
      "text/plain": [
       "array([[0.58639843, 0.52626644, 0.71131922],\n",
       "       [0.18219079, 0.41750949, 0.94692936],\n",
       "       [0.60915327, 0.83669365, 0.36819119]])"
      ]
     },
     "execution_count": 13,
     "metadata": {},
     "output_type": "execute_result"
    }
   ],
   "source": [
    "ar7=np.random.random((3,3))\n",
    "ar7"
   ]
  },
  {
   "cell_type": "code",
   "execution_count": 14,
   "metadata": {
    "ExecuteTime": {
     "end_time": "2021-11-12T07:04:26.266637Z",
     "start_time": "2021-11-12T07:04:26.253676Z"
    }
   },
   "outputs": [
    {
     "data": {
      "text/plain": [
       "array([[20, 20, 83],\n",
       "       [90, 49, 42],\n",
       "       [12, 25, 85]])"
      ]
     },
     "execution_count": 14,
     "metadata": {},
     "output_type": "execute_result"
    }
   ],
   "source": [
    "ar8=np.random.randint(0,100,(3,3))\n",
    "ar8"
   ]
  },
  {
   "cell_type": "markdown",
   "metadata": {},
   "source": [
    "# 단위 행렬 생성"
   ]
  },
  {
   "cell_type": "code",
   "execution_count": 15,
   "metadata": {
    "ExecuteTime": {
     "end_time": "2021-11-12T07:05:08.657641Z",
     "start_time": "2021-11-12T07:05:08.645674Z"
    }
   },
   "outputs": [
    {
     "data": {
      "text/plain": [
       "array([[1., 0., 0.],\n",
       "       [0., 1., 0.],\n",
       "       [0., 0., 1.]])"
      ]
     },
     "execution_count": 15,
     "metadata": {},
     "output_type": "execute_result"
    }
   ],
   "source": [
    "#eye함수\n",
    "ar9=np.eye(3)\n",
    "ar9"
   ]
  },
  {
   "cell_type": "markdown",
   "metadata": {},
   "source": [
    "# 배열 분할, 재구성 결합"
   ]
  },
  {
   "cell_type": "code",
   "execution_count": 19,
   "metadata": {
    "ExecuteTime": {
     "end_time": "2021-11-12T07:07:27.237898Z",
     "start_time": "2021-11-12T07:07:27.227930Z"
    }
   },
   "outputs": [
    {
     "name": "stdout",
     "output_type": "stream",
     "text": [
      "[[[2 4 9 0 9]\n",
      "  [9 0 0 1 3]\n",
      "  [1 9 0 7 7]\n",
      "  [1 9 9 9 1]]\n",
      "\n",
      " [[0 5 1 5 8]\n",
      "  [0 0 2 0 1]\n",
      "  [3 2 2 4 5]\n",
      "  [5 7 3 5 8]]\n",
      "\n",
      " [[1 9 2 8 7]\n",
      "  [7 5 2 8 9]\n",
      "  [5 4 8 2 6]\n",
      "  [6 3 3 2 9]]]\n",
      "x ndim 3\n",
      "x shape (3, 4, 5)\n",
      "x size 60\n"
     ]
    }
   ],
   "source": [
    "x=np.random.randint(10,size=(3,4,5))\n",
    "print(x)\n",
    "print(\"x ndim\",x.ndim)\n",
    "print(\"x shape\",x.shape)\n",
    "print(\"x size\",x.size)"
   ]
  },
  {
   "cell_type": "markdown",
   "metadata": {},
   "source": [
    "# 배열 인덱싱"
   ]
  },
  {
   "cell_type": "code",
   "execution_count": 20,
   "metadata": {
    "ExecuteTime": {
     "end_time": "2021-11-12T07:08:14.199875Z",
     "start_time": "2021-11-12T07:08:14.186912Z"
    }
   },
   "outputs": [
    {
     "name": "stdout",
     "output_type": "stream",
     "text": [
      "2 8\n"
     ]
    }
   ],
   "source": [
    "\n",
    "y=np.array([2,4,6,8,10])\n",
    "print(y[0],y[-2])"
   ]
  },
  {
   "cell_type": "markdown",
   "metadata": {
    "ExecuteTime": {
     "end_time": "2021-11-12T07:17:48.388341Z",
     "start_time": "2021-11-12T07:17:48.376374Z"
    }
   },
   "source": [
    "# 다차원 배열 인덱싱"
   ]
  },
  {
   "cell_type": "code",
   "execution_count": 23,
   "metadata": {
    "ExecuteTime": {
     "end_time": "2021-11-12T07:09:42.257954Z",
     "start_time": "2021-11-12T07:09:42.240002Z"
    }
   },
   "outputs": [
    {
     "name": "stdout",
     "output_type": "stream",
     "text": [
      "3\n",
      "[[12  4  6  8 10]\n",
      " [ 3  6  9 12 15]]\n"
     ]
    }
   ],
   "source": [
    "\n",
    "z=np.array([[2,4,6,8,10],[3,6,9,12,15]])\n",
    "print(z[1,0])\n",
    "z[0,0]=12\n",
    "print(z)"
   ]
  },
  {
   "cell_type": "markdown",
   "metadata": {},
   "source": [
    "# 배열 슬라이싱"
   ]
  },
  {
   "cell_type": "code",
   "execution_count": 28,
   "metadata": {
    "ExecuteTime": {
     "end_time": "2021-11-12T07:12:51.423718Z",
     "start_time": "2021-11-12T07:12:51.401780Z"
    }
   },
   "outputs": [
    {
     "name": "stdout",
     "output_type": "stream",
     "text": [
      "[4 5 6 7]\n",
      "[0 1 2 3 4]\n",
      "[5 6 7 8 9]\n",
      "[[2 4 6]\n",
      " [3 6 9]]\n",
      "[[ 2  6 10]\n",
      " [ 3  9 15]]\n",
      "[[1 2 3]\n",
      " [4 5 6]\n",
      " [7 8 9]]\n"
     ]
    }
   ],
   "source": [
    "\n",
    "x=np.arange(10)\n",
    "print(x[4:8])\n",
    "print(x[:5])\n",
    "print(x[5:])\n",
    "\n",
    "z=np.array([[2,4,6,8,10],[3,6,9,12,15]])\n",
    "print(z[:2,:3])\n",
    "print(z[:3,::2])\n",
    "\n",
    "z=np.arange(1,10).reshape(3,3)\n",
    "print(z)"
   ]
  },
  {
   "cell_type": "markdown",
   "metadata": {},
   "source": [
    "# 배열 결합"
   ]
  },
  {
   "cell_type": "code",
   "execution_count": 35,
   "metadata": {
    "ExecuteTime": {
     "end_time": "2021-11-12T07:17:02.493702Z",
     "start_time": "2021-11-12T07:17:02.471764Z"
    }
   },
   "outputs": [
    {
     "name": "stdout",
     "output_type": "stream",
     "text": [
      "[1 2 3 3 2 1]\n",
      "[[1 2 3]\n",
      " [4 5 6]\n",
      " [7 8 9]]\n",
      "[[99  4  5  6]\n",
      " [99  7  8  9]]\n"
     ]
    }
   ],
   "source": [
    "\n",
    "x=np.array([1,2,3])\n",
    "y=np.array([3,2,1])\n",
    "z=np.concatenate([x,y])\n",
    "print(z)\n",
    "\n",
    "#vstack \n",
    "#hstack\n",
    "x=np.array([1,2,3])\n",
    "grid=np.array([[4,5,6],[7,8,9]])\n",
    "v=np.vstack([x,grid])\n",
    "print(v)\n",
    "y=np.array([[99],[99]])\n",
    "h=np.hstack([y,grid])\n",
    "print(h)"
   ]
  },
  {
   "cell_type": "markdown",
   "metadata": {},
   "source": [
    "# 배열분할\n"
   ]
  },
  {
   "cell_type": "code",
   "execution_count": 42,
   "metadata": {
    "ExecuteTime": {
     "end_time": "2021-11-12T07:21:44.152342Z",
     "start_time": "2021-11-12T07:21:44.134393Z"
    }
   },
   "outputs": [
    {
     "name": "stdout",
     "output_type": "stream",
     "text": [
      "[1 2 3] [77 77] [3 2 1]\n",
      "[[0 1 2 3]\n",
      " [4 5 6 7]]\n",
      "[[ 8  9 10 11]\n",
      " [12 13 14 15]]\n",
      "[[ 0  1]\n",
      " [ 4  5]\n",
      " [ 8  9]\n",
      " [12 13]]\n",
      "[[ 2  3]\n",
      " [ 6  7]\n",
      " [10 11]\n",
      " [14 15]]\n"
     ]
    }
   ],
   "source": [
    "x=[1,2,3,77,77,3,2,1]\n",
    "x1,x2,x3=np.split(x,[3,5])\n",
    "print(x1,x2,x3)\n",
    "\n",
    "grid=np.arange(16).reshape((4,4))\n",
    "upper, lower=np.vsplit(grid,[2])\n",
    "print(upper)\n",
    "print(lower)\n",
    "left, right = np.hsplit(grid,[2])\n",
    "print(left)\n",
    "print(right)"
   ]
  },
  {
   "cell_type": "markdown",
   "metadata": {},
   "source": [
    "# numpy 심화"
   ]
  },
  {
   "cell_type": "markdown",
   "metadata": {},
   "source": [
    "## 단항 유니버스 함수 "
   ]
  },
  {
   "cell_type": "markdown",
   "metadata": {},
   "source": [
    "### 배열 산술 연산"
   ]
  },
  {
   "cell_type": "code",
   "execution_count": 49,
   "metadata": {
    "ExecuteTime": {
     "end_time": "2021-11-12T07:26:33.211640Z",
     "start_time": "2021-11-12T07:26:33.194724Z"
    }
   },
   "outputs": [
    {
     "name": "stdout",
     "output_type": "stream",
     "text": [
      "x= [0 1 2 3]\n",
      "X+10= [10 11 12 13]\n",
      "X-10= [-10  -9  -8  -7]\n",
      "X*10= [ 0 10 20 30]\n",
      "X/10= [0.  0.1 0.2 0.3]\n",
      "X//10= [0 0 0 0]\n",
      "-X= [ 0 -1 -2 -3]\n",
      "X**x= [ 1  1  4 27]\n",
      "X%2= [0 1 0 1]\n"
     ]
    }
   ],
   "source": [
    "x=np.arange(4)\n",
    "print(\"x=\",x)\n",
    "print(\"X+10=\",x+10)\n",
    "print(\"X-10=\",x-10)\n",
    "print(\"X*10=\",x*10)\n",
    "print(\"X/10=\",x/10)\n",
    "print(\"X//10=\",x//10)\n",
    "print(\"-X=\",-x)\n",
    "print(\"X**x=\",x**x)\n",
    "print(\"X%2=\",x%2)"
   ]
  },
  {
   "cell_type": "markdown",
   "metadata": {},
   "source": [
    "### 절대값 함수"
   ]
  },
  {
   "cell_type": "code",
   "execution_count": 50,
   "metadata": {
    "ExecuteTime": {
     "end_time": "2021-11-12T07:28:22.110199Z",
     "start_time": "2021-11-12T07:28:22.099228Z"
    }
   },
   "outputs": [
    {
     "name": "stdout",
     "output_type": "stream",
     "text": [
      "[2 1 0 1 2]\n",
      "[2 1 0 1 2]\n"
     ]
    }
   ],
   "source": [
    "#abs()함수\n",
    "x=np.array([-2,-1,0,1,2])\n",
    "print(np.absolute(x))\n",
    "print(np.abs(x))"
   ]
  },
  {
   "cell_type": "markdown",
   "metadata": {},
   "source": [
    "### 삼각함수"
   ]
  },
  {
   "cell_type": "code",
   "execution_count": 52,
   "metadata": {
    "ExecuteTime": {
     "end_time": "2021-11-12T07:31:27.372511Z",
     "start_time": "2021-11-12T07:31:27.348576Z"
    }
   },
   "outputs": [
    {
     "name": "stdout",
     "output_type": "stream",
     "text": [
      "theta= [0.         1.57079633 3.14159265]\n",
      "sin(theta)= [0.0000000e+00 1.0000000e+00 1.2246468e-16]\n",
      "sin(theta)= [ 1.000000e+00  6.123234e-17 -1.000000e+00]\n",
      "sin(theta)= [ 0.00000000e+00  1.63312394e+16 -1.22464680e-16]\n",
      "x [-1, 0, 1]\n",
      "arcsin(theta)= [-1.57079633  0.          1.57079633]\n",
      "arccos(theta)= [3.14159265 1.57079633 0.        ]\n",
      "arctan(theta)= [-0.78539816  0.          0.78539816]\n"
     ]
    }
   ],
   "source": [
    "theta=np.linspace(0,np.pi,3)\n",
    "print(\"theta=\",theta)\n",
    "print(\"sin(theta)=\",np.sin(theta))\n",
    "print(\"sin(theta)=\",np.cos(theta))\n",
    "print(\"sin(theta)=\",np.tan(theta))\n",
    "\n",
    "x=[-1,0,1]\n",
    "print(\"x\",x)\n",
    "print(\"arcsin(theta)=\",np.arcsin(x))\n",
    "print(\"arccos(theta)=\",np.arccos(x))\n",
    "print(\"arctan(theta)=\",np.arctan(x))"
   ]
  },
  {
   "cell_type": "markdown",
   "metadata": {},
   "source": [
    "### 지수함수"
   ]
  },
  {
   "cell_type": "code",
   "execution_count": 53,
   "metadata": {
    "ExecuteTime": {
     "end_time": "2021-11-12T07:32:49.552499Z",
     "start_time": "2021-11-12T07:32:49.538499Z"
    }
   },
   "outputs": [
    {
     "name": "stdout",
     "output_type": "stream",
     "text": [
      "x= [1, 2, 3]\n",
      "e^x= [ 2.71828183  7.3890561  20.08553692]\n",
      "2^x= [2. 4. 8.]\n",
      "3^x= [ 3  9 27]\n"
     ]
    }
   ],
   "source": [
    "x=[1,2,3]\n",
    "print(\"x=\",x)\n",
    "print(\"e^x=\",np.exp(x))\n",
    "print(\"2^x=\",np.exp2(x))\n",
    "print(\"3^x=\",np.power(3,x))"
   ]
  },
  {
   "cell_type": "markdown",
   "metadata": {},
   "source": [
    "### 로그함수"
   ]
  },
  {
   "cell_type": "code",
   "execution_count": 54,
   "metadata": {
    "ExecuteTime": {
     "end_time": "2021-11-12T07:33:50.583849Z",
     "start_time": "2021-11-12T07:33:50.575873Z"
    }
   },
   "outputs": [
    {
     "name": "stdout",
     "output_type": "stream",
     "text": [
      "x= [1, 2, 4, 10]\n",
      "in(x)= [0.         0.69314718 1.38629436 2.30258509]\n",
      "long2(x)= [0.         1.         2.         3.32192809]\n",
      "log10(x)= [0.         0.30103    0.60205999 1.        ]\n"
     ]
    }
   ],
   "source": [
    "x=[1,2,4,10]\n",
    "print(\"x=\",x)\n",
    "print(\"in(x)=\",np.log(x))\n",
    "print(\"long2(x)=\",np.log2(x))\n",
    "print(\"log10(x)=\",np.log10(x))"
   ]
  },
  {
   "cell_type": "markdown",
   "metadata": {},
   "source": [
    "### out인자"
   ]
  },
  {
   "cell_type": "code",
   "execution_count": 78,
   "metadata": {
    "ExecuteTime": {
     "end_time": "2021-11-12T07:41:35.468098Z",
     "start_time": "2021-11-12T07:41:35.451142Z"
    }
   },
   "outputs": [
    {
     "name": "stdout",
     "output_type": "stream",
     "text": [
      "[0 1 2 3 4]\n",
      "[ 1.  2.  4.  8. 16.]\n",
      "[ 0. 10. 20. 30. 40.]\n",
      "[0 1 2 3 4]\n",
      "[ 0. 10. 20. 30. 40.]\n"
     ]
    }
   ],
   "source": [
    "x=np.arange(5)\n",
    "y=np.empty(5)\n",
    "print(x)\n",
    "print(y)\n",
    "print(np.multiply(x,10,out=y))\n",
    "print(x)\n",
    "print(y)\n"
   ]
  },
  {
   "cell_type": "code",
   "execution_count": 67,
   "metadata": {
    "ExecuteTime": {
     "end_time": "2021-11-12T07:39:25.429451Z",
     "start_time": "2021-11-12T07:39:25.412499Z"
    }
   },
   "outputs": [
    {
     "name": "stdout",
     "output_type": "stream",
     "text": [
      "[0 1 2 3 4]\n",
      "[0. 0. 0. 0. 0. 0. 0. 0. 0. 0.]\n",
      "[ 1.  2.  4.  8. 16.]\n",
      "[ 1.  0.  2.  0.  4.  0.  8.  0. 16.  0.]\n"
     ]
    }
   ],
   "source": [
    "x=np.arange(5)\n",
    "y=np.zeros(10)\n",
    "print(x)\n",
    "print(y)\n",
    "print(np.power(2,x,out=y[::2]))\n",
    "print(y)\n"
   ]
  },
  {
   "cell_type": "markdown",
   "metadata": {},
   "source": [
    "## 집계함수"
   ]
  },
  {
   "cell_type": "markdown",
   "metadata": {},
   "source": [
    "### reduce"
   ]
  },
  {
   "cell_type": "code",
   "execution_count": 79,
   "metadata": {
    "ExecuteTime": {
     "end_time": "2021-11-12T07:42:55.510624Z",
     "start_time": "2021-11-12T07:42:55.498657Z"
    }
   },
   "outputs": [
    {
     "data": {
      "text/plain": [
       "10"
      ]
     },
     "execution_count": 79,
     "metadata": {},
     "output_type": "execute_result"
    }
   ],
   "source": [
    "x=np.arange(1,5)\n",
    "np.add.reduce(x)"
   ]
  },
  {
   "cell_type": "code",
   "execution_count": 82,
   "metadata": {
    "ExecuteTime": {
     "end_time": "2021-11-12T07:44:27.780361Z",
     "start_time": "2021-11-12T07:44:27.771385Z"
    }
   },
   "outputs": [
    {
     "name": "stdout",
     "output_type": "stream",
     "text": [
      "497.0035764509359\n",
      "0.0005910174604287777 0.999005441962618\n"
     ]
    }
   ],
   "source": [
    "s= np.random.random(1000)\n",
    "print(np.sum(s))\n",
    "print(np.min(s),np.max(s))\n"
   ]
  },
  {
   "cell_type": "markdown",
   "metadata": {
    "ExecuteTime": {
     "end_time": "2021-11-12T07:44:46.648145Z",
     "start_time": "2021-11-12T07:44:46.643369Z"
    }
   },
   "source": [
    "### axis 인자"
   ]
  },
  {
   "cell_type": "code",
   "execution_count": 84,
   "metadata": {
    "ExecuteTime": {
     "end_time": "2021-11-12T07:46:30.106722Z",
     "start_time": "2021-11-12T07:46:30.089731Z"
    }
   },
   "outputs": [
    {
     "name": "stdout",
     "output_type": "stream",
     "text": [
      "[[0.05516826 0.79252583 0.26183562 0.72982891]\n",
      " [0.45313003 0.38609821 0.37190287 0.1173206 ]\n",
      " [0.46043875 0.75159843 0.60404166 0.80017921]]\n",
      "5.78406836923442\n",
      "[0.46043875 0.79252583 0.60404166 0.80017921]\n",
      "[0.79252583 0.45313003 0.80017921]\n"
     ]
    }
   ],
   "source": [
    "m=np.random.random((3,4))\n",
    "print(m)\n",
    "print(m.sum())\n",
    "print(m.max(axis=0))\n",
    "print(m.max(axis=1))\n",
    "#집계함수 \n",
    "# np.sum 요소의 합 계산\n",
    "# np.prod 요소의 곱 계산\n",
    "# np.mean 요소의 평균 계산\n",
    "# np.std 요소의 편차 계산\n",
    "# np.var 분산 계산\n",
    "# np.min 최소값 계산\n",
    "# np.max 최댓값 계싼\n",
    "# np.argmin 최솟값의 인덱스 찾기\n",
    "# np.argmax 최댓값의 인덱스 찾기\n",
    "# np.mdeian 요소의 중앙값 계산\n",
    "# np.precentile 요소의 순위 기반 백분위 값 계산\n"
   ]
  },
  {
   "cell_type": "markdown",
   "metadata": {},
   "source": [
    "## 브로드 캐스팅 연산"
   ]
  },
  {
   "cell_type": "code",
   "execution_count": 87,
   "metadata": {
    "ExecuteTime": {
     "end_time": "2021-11-12T07:51:04.999566Z",
     "start_time": "2021-11-12T07:51:04.982657Z"
    }
   },
   "outputs": [
    {
     "name": "stdout",
     "output_type": "stream",
     "text": [
      "[3 4 5]\n",
      "[10 11 12]\n"
     ]
    }
   ],
   "source": [
    "#크키가 같은 경우 \n",
    "x=np.array([0,1,2])\n",
    "y=np.array([3,3,3])\n",
    "print(x+y)\n",
    "#크키가 다를 경우 \n",
    "print(x+10)"
   ]
  },
  {
   "cell_type": "code",
   "execution_count": 88,
   "metadata": {
    "ExecuteTime": {
     "end_time": "2021-11-12T07:52:53.668623Z",
     "start_time": "2021-11-12T07:52:53.650672Z"
    }
   },
   "outputs": [
    {
     "data": {
      "text/plain": [
       "array([[1., 2., 3.],\n",
       "       [1., 2., 3.],\n",
       "       [1., 2., 3.]])"
      ]
     },
     "execution_count": 88,
     "metadata": {},
     "output_type": "execute_result"
    }
   ],
   "source": [
    "# 두 배열의 형상이 어떤 차원에서도 일치 하지 않는 경우,\n",
    "x= np.array([0,1,2])\n",
    "M=np.ones((3,3))\n",
    "x+M"
   ]
  },
  {
   "cell_type": "code",
   "execution_count": 91,
   "metadata": {
    "ExecuteTime": {
     "end_time": "2021-11-12T07:54:12.580295Z",
     "start_time": "2021-11-12T07:54:12.568327Z"
    }
   },
   "outputs": [
    {
     "name": "stdout",
     "output_type": "stream",
     "text": [
      "[[0]\n",
      " [1]\n",
      " [2]]\n",
      "[0 1 2]\n"
     ]
    }
   ],
   "source": [
    "a=np.arange(3).reshape(3,1)\n",
    "b=np.arange(3)\n",
    "print(a)\n",
    "print(b)\n",
    "a+b"
   ]
  },
  {
   "cell_type": "code",
   "execution_count": 99,
   "metadata": {
    "ExecuteTime": {
     "end_time": "2021-11-12T07:59:48.085049Z",
     "start_time": "2021-11-12T07:59:47.817547Z"
    }
   },
   "outputs": [
    {
     "data": {
      "text/plain": [
       "<matplotlib.colorbar.Colorbar at 0x21eab247400>"
      ]
     },
     "execution_count": 99,
     "metadata": {},
     "output_type": "execute_result"
    },
    {
     "data": {
      "image/png": "[encoded data removed]",
      "text/plain": [
       "<Figure size 432x288 with 2 Axes>"
      ]
     },
     "metadata": {
      "needs_background": "light"
     },
     "output_type": "display_data"
    }
   ],
   "source": [
    "import matplotlib.pyplot as plt\n",
    "x=np.linspace(0,5,50)\n",
    "y=np.linspace(0,5,50)[:,np.newaxis]\n",
    "z=np.sin(x)**10+np.cos(10+y*x)*np.cos(x)\n",
    "plt.imshow(z,origin='lower',extent=[0,5,0,5],cmap='viridis')\n",
    "plt.colorbar()"
   ]
  },
  {
   "cell_type": "markdown",
   "metadata": {},
   "source": [
    "## 비교 연산자 "
   ]
  },
  {
   "cell_type": "code",
   "execution_count": 104,
   "metadata": {
    "ExecuteTime": {
     "end_time": "2021-11-12T08:04:04.170219Z",
     "start_time": "2021-11-12T08:04:04.152268Z"
    }
   },
   "outputs": [
    {
     "name": "stdout",
     "output_type": "stream",
     "text": [
      "[3 3 4 2 2] [3 4 1 2 2]\n",
      "[ True False False  True  True]\n",
      "[[False False  True False]\n",
      " [ True  True  True  True]\n",
      " [False False False  True]]\n"
     ]
    }
   ],
   "source": [
    "# any 함수 하나라도 만족하면 True산출\n",
    "import numpy as np\n",
    "x=np.arange(10)\n",
    "np.any(x<5),np.any(x<0)\n",
    "\n",
    "#all함수 모두 만족해야만 True 산출\n",
    "np.all(x>5),np.all(x<10)\n",
    "\n",
    "#1차원 배열 일떄\n",
    "a=np.random.randint(1,5,5)\n",
    "b=np.random.randint(1,5,5)\n",
    "print(a,b)\n",
    "print(a==b)\n",
    "\n",
    "#2차원 배열 일때\n",
    "x=np.random.randint(10,size=(3,4))\n",
    "print(x<5)"
   ]
  },
  {
   "cell_type": "markdown",
   "metadata": {},
   "source": [
    "## 팬시 인덱싱"
   ]
  },
  {
   "cell_type": "code",
   "execution_count": 109,
   "metadata": {
    "ExecuteTime": {
     "end_time": "2021-11-12T08:06:06.668084Z",
     "start_time": "2021-11-12T08:06:06.659108Z"
    }
   },
   "outputs": [
    {
     "data": {
      "text/plain": [
       "array([3, 6, 9])"
      ]
     },
     "execution_count": 109,
     "metadata": {},
     "output_type": "execute_result"
    }
   ],
   "source": [
    "a=np.arange(10)\n",
    "b=np.array([3,6,9])\n",
    "a[b]"
   ]
  },
  {
   "cell_type": "code",
   "execution_count": 110,
   "metadata": {
    "ExecuteTime": {
     "end_time": "2021-11-12T08:07:02.492128Z",
     "start_time": "2021-11-12T08:07:02.478166Z"
    }
   },
   "outputs": [
    {
     "data": {
      "text/plain": [
       "array([ 2,  5, 11])"
      ]
     },
     "execution_count": 110,
     "metadata": {},
     "output_type": "execute_result"
    }
   ],
   "source": [
    "x=np.arange(12).reshape((3,4))\n",
    "row=np.array([0,1,2])\n",
    "col=np.array([2,1,3])\n",
    "x[row,col]"
   ]
  },
  {
   "cell_type": "markdown",
   "metadata": {},
   "source": [
    "## 정렬"
   ]
  },
  {
   "cell_type": "code",
   "execution_count": 113,
   "metadata": {
    "ExecuteTime": {
     "end_time": "2021-11-12T08:10:20.260921Z",
     "start_time": "2021-11-12T08:10:20.241936Z"
    }
   },
   "outputs": [
    {
     "name": "stdout",
     "output_type": "stream",
     "text": [
      "[4 1 5 2 3] [1 2 3 4 5]\n",
      "[1 3 4 0 2]\n",
      "[5 4 3 2 1]\n"
     ]
    }
   ],
   "source": [
    "x=np.array([4,1,5,2,3])\n",
    "print(x,np.sort(x))\n",
    "#정렬된 요소의 인덱스를 변환\n",
    "x=np.array([4,1,5,2,3])\n",
    "i=np.argsort(x)\n",
    "print(i)\n",
    "#x_reverse\n",
    "x=np.array([4,1,5,2,3])\n",
    "x_reverse=np.sort(x)[::-1]\n",
    "print(x_reverse)"
   ]
  },
  {
   "cell_type": "markdown",
   "metadata": {},
   "source": [
    "## 다차원 배열 정렬"
   ]
  },
  {
   "cell_type": "code",
   "execution_count": 114,
   "metadata": {
    "ExecuteTime": {
     "end_time": "2021-11-12T08:11:39.168576Z",
     "start_time": "2021-11-12T08:11:39.161597Z"
    }
   },
   "outputs": [
    {
     "data": {
      "text/plain": [
       "array([[1, 0, 3],\n",
       "       [2, 3, 4],\n",
       "       [7, 5, 6]])"
      ]
     },
     "execution_count": 114,
     "metadata": {},
     "output_type": "execute_result"
    }
   ],
   "source": [
    "x=np.array([[2,0,6],\n",
    "           [7,3,4],\n",
    "           [1,5,3]])\n",
    "np.sort(x,axis=0)"
   ]
  },
  {
   "cell_type": "code",
   "execution_count": null,
   "metadata": {},
   "outputs": [],
   "source": []
  }
 ],
 "metadata": {
  "kernelspec": {
   "display_name": "Python 3",
   "language": "python",
   "name": "python3"
  },
  "language_info": {
   "codemirror_mode": {
    "name": "ipython",
    "version": 3
   },
   "file_extension": ".py",
   "mimetype": "text/x-python",
   "name": "python",
   "nbconvert_exporter": "python",
   "pygments_lexer": "ipython3",
   "version": "3.8.5"
  },
  "toc": {
   "base_numbering": 1,
   "nav_menu": {},
   "number_sections": true,
   "sideBar": true,
   "skip_h1_title": false,
   "title_cell": "Table of Contents",
   "title_sidebar": "Contents",
   "toc_cell": false,
   "toc_position": {},
   "toc_section_display": true,
   "toc_window_display": false
  }
 },
 "nbformat": 4,
 "nbformat_minor": 4
}
